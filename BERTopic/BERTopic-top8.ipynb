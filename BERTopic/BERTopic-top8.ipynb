{
 "cells": [
  {
   "cell_type": "code",
   "execution_count": 7,
   "metadata": {},
   "outputs": [
    {
     "name": "stdout",
     "output_type": "stream",
     "text": [
      "Processing 3724 reviews\n"
     ]
    }
   ],
   "source": [
    "from google.cloud import bigquery\n",
    "from openai import AzureOpenAI\n",
    "import os\n",
    "import json\n",
    "\n",
    "os.environ[\"TOKENIZERS_PARALLELISM\"] = \"false\"\n",
    "\n",
    "client = bigquery.Client()\n",
    "\n",
    "project_id = 'ingka-tugc-infra-prod'\n",
    "dataset_id = 'eu_ai_content'\n",
    "table_id = 'reviews'\n",
    "\n",
    "table_ref = f'{project_id}.{dataset_id}.{table_id}'\n",
    "\n",
    "# First 5 articles with most reviews\n",
    "\n",
    "articles = ['20351884', '40346924', '10305741', '00324518', '10360134']\n",
    "\n",
    "article_id = articles[0]\n",
    "\n",
    "query = f\"\"\"\n",
    "    SELECT concat(title, '. ', text) as review_text\n",
    "    FROM {table_ref}\n",
    "    WHERE franchise='set-11' AND content_lang_code = 'en' AND art_id = '{article_id}'\n",
    "\"\"\"\n",
    "\n",
    "query_job = client.query(query)\n",
    "\n",
    "reviews = [row['review_text'] for row in query_job]\n",
    "\n",
    "print(f\"Processing {len(reviews)} reviews\")"
   ]
  },
  {
   "cell_type": "code",
   "execution_count": 4,
   "metadata": {},
   "outputs": [],
   "source": [
    "# Save reviews to a JSON file to avoid querying every time\n",
    "import json\n",
    "\n",
    "reviews = []\n",
    "\n",
    "with open('reviews.json', 'w') as f:\n",
    "    json.dump(reviews, f)"
   ]
  },
  {
   "cell_type": "code",
   "execution_count": 5,
   "metadata": {},
   "outputs": [
    {
     "name": "stdout",
     "output_type": "stream",
     "text": [
      "Loaded 0 reviews\n"
     ]
    }
   ],
   "source": [
    "# Load reviews from JSON file\n",
    "\n",
    "with open('reviews.json', 'r') as f:\n",
    "    reviews = json.load(f)\n",
    "\n",
    "print(f\"Loaded {len(reviews)} reviews\")"
   ]
  },
  {
   "cell_type": "code",
   "execution_count": 8,
   "metadata": {},
   "outputs": [
    {
     "name": "stderr",
     "output_type": "stream",
     "text": [
      "OMP: Info #276: omp_set_nested routine deprecated, please use omp_set_max_active_levels instead.\n"
     ]
    }
   ],
   "source": [
    "from bertopic import BERTopic\n",
    "from sklearn.feature_extraction.text import ENGLISH_STOP_WORDS\n",
    "from nltk.corpus import stopwords\n",
    "from nltk.tokenize import word_tokenize\n",
    "import nltk\n",
    "\n",
    "\n",
    "processed_reviews = [review for review in reviews if len(review) >= 20]\n",
    "reviews = processed_reviews\n",
    "## Limiting the number of topics with nr_topics does not work\n",
    "nr_topics_before = 'Auto'\n",
    "topic_model = BERTopic()\n",
    "\n",
    "# Fit the model on the reviews\n",
    "topics, probabilities = topic_model.fit_transform(reviews)\n",
    "\n",
    "nr_topics_after = 'auto'\n",
    "\n",
    "# Further reduce topics if needed\n",
    "# topic_model.reduce_topics(reviews, nr_topics=nr_topics_after)\n",
    "\n",
    "topics = topic_model.get_topics()"
   ]
  },
  {
   "cell_type": "code",
   "execution_count": 9,
   "metadata": {},
   "outputs": [
    {
     "data": {
      "text/html": [
       "<div>\n",
       "<style scoped>\n",
       "    .dataframe tbody tr th:only-of-type {\n",
       "        vertical-align: middle;\n",
       "    }\n",
       "\n",
       "    .dataframe tbody tr th {\n",
       "        vertical-align: top;\n",
       "    }\n",
       "\n",
       "    .dataframe thead th {\n",
       "        text-align: right;\n",
       "    }\n",
       "</style>\n",
       "<table border=\"1\" class=\"dataframe\">\n",
       "  <thead>\n",
       "    <tr style=\"text-align: right;\">\n",
       "      <th></th>\n",
       "      <th>Topic</th>\n",
       "      <th>Count</th>\n",
       "      <th>Name</th>\n",
       "      <th>Representation</th>\n",
       "      <th>Representative_Docs</th>\n",
       "    </tr>\n",
       "  </thead>\n",
       "  <tbody>\n",
       "    <tr>\n",
       "      <th>0</th>\n",
       "      <td>-1</td>\n",
       "      <td>1187</td>\n",
       "      <td>-1_the_and_to_for</td>\n",
       "      <td>[the, and, to, for, it, in, of, my, this, great]</td>\n",
       "      <td>[Kallax. We were looking for the best storage ...</td>\n",
       "    </tr>\n",
       "    <tr>\n",
       "      <th>1</th>\n",
       "      <td>0</td>\n",
       "      <td>196</td>\n",
       "      <td>0_shelf_shelves_great_this</td>\n",
       "      <td>[shelf, shelves, great, this, are, it, to, the...</td>\n",
       "      <td>[Love this Shelf!. I love this shelf, it was e...</td>\n",
       "    </tr>\n",
       "    <tr>\n",
       "      <th>2</th>\n",
       "      <td>1</td>\n",
       "      <td>191</td>\n",
       "      <td>1_easy_assemble_to_together</td>\n",
       "      <td>[easy, assemble, to, together, put, looks, sim...</td>\n",
       "      <td>[Easy to assemble. Easy to assemble, Easy to a...</td>\n",
       "    </tr>\n",
       "    <tr>\n",
       "      <th>3</th>\n",
       "      <td>2</td>\n",
       "      <td>154</td>\n",
       "      <td>2_closet_my_organizer_clothes</td>\n",
       "      <td>[closet, my, organizer, clothes, perfect, for,...</td>\n",
       "      <td>[Great for organizing!. I out this unit in my ...</td>\n",
       "    </tr>\n",
       "    <tr>\n",
       "      <th>4</th>\n",
       "      <td>3</td>\n",
       "      <td>93</td>\n",
       "      <td>3_kallax_storage_of_for</td>\n",
       "      <td>[kallax, storage, of, for, units, the, in, my,...</td>\n",
       "      <td>[Kallax is a great base, but need more accesso...</td>\n",
       "    </tr>\n",
       "    <tr>\n",
       "      <th>5</th>\n",
       "      <td>4</td>\n",
       "      <td>87</td>\n",
       "      <td>4_easy_product_assemble_to</td>\n",
       "      <td>[easy, product, assemble, to, great, together,...</td>\n",
       "      <td>[Love it! So easy to. Love it! So easy to put ...</td>\n",
       "    </tr>\n",
       "    <tr>\n",
       "      <th>6</th>\n",
       "      <td>5</td>\n",
       "      <td>85</td>\n",
       "      <td>5_shelving_unit_great_very</td>\n",
       "      <td>[shelving, unit, great, very, and, units, they...</td>\n",
       "      <td>[Shelving unit. Great product, good quality, v...</td>\n",
       "    </tr>\n",
       "    <tr>\n",
       "      <th>7</th>\n",
       "      <td>6</td>\n",
       "      <td>81</td>\n",
       "      <td>6_tv_stand_as_it</td>\n",
       "      <td>[tv, stand, as, it, use, this, perfect, its, o...</td>\n",
       "      <td>[Love it. I Love it. I use it as a TV stand., ...</td>\n",
       "    </tr>\n",
       "    <tr>\n",
       "      <th>8</th>\n",
       "      <td>7</td>\n",
       "      <td>73</td>\n",
       "      <td>7_vinyl_records_record_collection</td>\n",
       "      <td>[vinyl, records, record, collection, albums, f...</td>\n",
       "      <td>[Vinyl Record Shelving. finally having a place...</td>\n",
       "    </tr>\n",
       "    <tr>\n",
       "      <th>9</th>\n",
       "      <td>8</td>\n",
       "      <td>58</td>\n",
       "      <td>8_versatile_one_can_in</td>\n",
       "      <td>[versatile, one, can, in, use, different, and,...</td>\n",
       "      <td>[versatile shelf. versatile shelf, Amazing ver...</td>\n",
       "    </tr>\n",
       "  </tbody>\n",
       "</table>\n",
       "</div>"
      ],
      "text/plain": [
       "   Topic  Count                               Name  \\\n",
       "0     -1   1187                  -1_the_and_to_for   \n",
       "1      0    196         0_shelf_shelves_great_this   \n",
       "2      1    191        1_easy_assemble_to_together   \n",
       "3      2    154      2_closet_my_organizer_clothes   \n",
       "4      3     93            3_kallax_storage_of_for   \n",
       "5      4     87         4_easy_product_assemble_to   \n",
       "6      5     85         5_shelving_unit_great_very   \n",
       "7      6     81                   6_tv_stand_as_it   \n",
       "8      7     73  7_vinyl_records_record_collection   \n",
       "9      8     58             8_versatile_one_can_in   \n",
       "\n",
       "                                      Representation  \\\n",
       "0   [the, and, to, for, it, in, of, my, this, great]   \n",
       "1  [shelf, shelves, great, this, are, it, to, the...   \n",
       "2  [easy, assemble, to, together, put, looks, sim...   \n",
       "3  [closet, my, organizer, clothes, perfect, for,...   \n",
       "4  [kallax, storage, of, for, units, the, in, my,...   \n",
       "5  [easy, product, assemble, to, great, together,...   \n",
       "6  [shelving, unit, great, very, and, units, they...   \n",
       "7  [tv, stand, as, it, use, this, perfect, its, o...   \n",
       "8  [vinyl, records, record, collection, albums, f...   \n",
       "9  [versatile, one, can, in, use, different, and,...   \n",
       "\n",
       "                                 Representative_Docs  \n",
       "0  [Kallax. We were looking for the best storage ...  \n",
       "1  [Love this Shelf!. I love this shelf, it was e...  \n",
       "2  [Easy to assemble. Easy to assemble, Easy to a...  \n",
       "3  [Great for organizing!. I out this unit in my ...  \n",
       "4  [Kallax is a great base, but need more accesso...  \n",
       "5  [Love it! So easy to. Love it! So easy to put ...  \n",
       "6  [Shelving unit. Great product, good quality, v...  \n",
       "7  [Love it. I Love it. I use it as a TV stand., ...  \n",
       "8  [Vinyl Record Shelving. finally having a place...  \n",
       "9  [versatile shelf. versatile shelf, Amazing ver...  "
      ]
     },
     "execution_count": 9,
     "metadata": {},
     "output_type": "execute_result"
    }
   ],
   "source": [
    "topic_info = topic_model.get_topic_info()\n",
    "topic_info.head(10)"
   ]
  },
  {
   "cell_type": "code",
   "execution_count": 10,
   "metadata": {},
   "outputs": [
    {
     "data": {
      "text/plain": [
       "58"
      ]
     },
     "execution_count": 10,
     "metadata": {},
     "output_type": "execute_result"
    }
   ],
   "source": [
    "number_of_topics = len(topics)\n",
    "number_of_topics"
   ]
  },
  {
   "cell_type": "code",
   "execution_count": 11,
   "metadata": {},
   "outputs": [
    {
     "data": {
      "application/vnd.plotly.v1+json": {
       "config": {
        "plotlyServerURL": "https://plot.ly"
       },
       "data": [
        {
         "marker": {
          "color": "#D55E00"
         },
         "orientation": "h",
         "type": "bar",
         "x": [
          0.01462539965188258,
          0.016386776341058163,
          0.019530628133189544,
          0.028971337498708834,
          0.055153993067194665
         ],
         "xaxis": "x",
         "y": [
          "are  ",
          "this  ",
          "great  ",
          "shelves  ",
          "shelf  "
         ],
         "yaxis": "y"
        },
        {
         "marker": {
          "color": "#0072B2"
         },
         "orientation": "h",
         "type": "bar",
         "x": [
          0.027525730120086443,
          0.03184339161057036,
          0.033962470691321314,
          0.042211908726368846,
          0.05916689263506716
         ],
         "xaxis": "x2",
         "y": [
          "put  ",
          "together  ",
          "to  ",
          "assemble  ",
          "easy  "
         ],
         "yaxis": "y2"
        },
        {
         "marker": {
          "color": "#CC79A7"
         },
         "orientation": "h",
         "type": "bar",
         "x": [
          0.026598174883882986,
          0.03023786462844455,
          0.031580808915051,
          0.0320925468421627,
          0.05503592819000465
         ],
         "xaxis": "x3",
         "y": [
          "perfect  ",
          "clothes  ",
          "organizer  ",
          "my  ",
          "closet  "
         ],
         "yaxis": "y3"
        },
        {
         "marker": {
          "color": "#E69F00"
         },
         "orientation": "h",
         "type": "bar",
         "x": [
          0.015198699009002949,
          0.015617589695042403,
          0.016106984928015527,
          0.03461913476001645,
          0.036231430257591554
         ],
         "xaxis": "x4",
         "y": [
          "units  ",
          "for  ",
          "of  ",
          "storage  ",
          "kallax  "
         ],
         "yaxis": "y4"
        },
        {
         "marker": {
          "color": "#56B4E9"
         },
         "orientation": "h",
         "type": "bar",
         "x": [
          0.024296490460700884,
          0.025593878930081165,
          0.03301866571428564,
          0.03992207701347672,
          0.03994232566574216
         ],
         "xaxis": "x5",
         "y": [
          "great  ",
          "to  ",
          "assemble  ",
          "product  ",
          "easy  "
         ],
         "yaxis": "y5"
        },
        {
         "marker": {
          "color": "#009E73"
         },
         "orientation": "h",
         "type": "bar",
         "x": [
          0.017431521414331696,
          0.017737998357006915,
          0.022061168716662662,
          0.027879254900210492,
          0.10643715820120594
         ],
         "xaxis": "x6",
         "y": [
          "and  ",
          "very  ",
          "great  ",
          "unit  ",
          "shelving  "
         ],
         "yaxis": "y6"
        },
        {
         "marker": {
          "color": "#F0E442"
         },
         "orientation": "h",
         "type": "bar",
         "x": [
          0.01956300188853573,
          0.028236074457623845,
          0.03408046891634968,
          0.09170732029301491,
          0.10518582076179898
         ],
         "xaxis": "x7",
         "y": [
          "use  ",
          "it  ",
          "as  ",
          "stand  ",
          "tv  "
         ],
         "yaxis": "y7"
        },
        {
         "marker": {
          "color": "#D55E00"
         },
         "orientation": "h",
         "type": "bar",
         "x": [
          0.03228513902632115,
          0.039080579025872864,
          0.057410246687421125,
          0.06592282326275443,
          0.08084164600687246
         ],
         "xaxis": "x8",
         "y": [
          "albums  ",
          "collection  ",
          "record  ",
          "records  ",
          "vinyl  "
         ],
         "yaxis": "y8"
        }
       ],
       "layout": {
        "annotations": [
         {
          "font": {
           "size": 16
          },
          "showarrow": false,
          "text": "Topic 0",
          "x": 0.0875,
          "xanchor": "center",
          "xref": "paper",
          "y": 1,
          "yanchor": "bottom",
          "yref": "paper"
         },
         {
          "font": {
           "size": 16
          },
          "showarrow": false,
          "text": "Topic 1",
          "x": 0.36250000000000004,
          "xanchor": "center",
          "xref": "paper",
          "y": 1,
          "yanchor": "bottom",
          "yref": "paper"
         },
         {
          "font": {
           "size": 16
          },
          "showarrow": false,
          "text": "Topic 2",
          "x": 0.6375000000000001,
          "xanchor": "center",
          "xref": "paper",
          "y": 1,
          "yanchor": "bottom",
          "yref": "paper"
         },
         {
          "font": {
           "size": 16
          },
          "showarrow": false,
          "text": "Topic 3",
          "x": 0.9125,
          "xanchor": "center",
          "xref": "paper",
          "y": 1,
          "yanchor": "bottom",
          "yref": "paper"
         },
         {
          "font": {
           "size": 16
          },
          "showarrow": false,
          "text": "Topic 4",
          "x": 0.0875,
          "xanchor": "center",
          "xref": "paper",
          "y": 0.4,
          "yanchor": "bottom",
          "yref": "paper"
         },
         {
          "font": {
           "size": 16
          },
          "showarrow": false,
          "text": "Topic 5",
          "x": 0.36250000000000004,
          "xanchor": "center",
          "xref": "paper",
          "y": 0.4,
          "yanchor": "bottom",
          "yref": "paper"
         },
         {
          "font": {
           "size": 16
          },
          "showarrow": false,
          "text": "Topic 6",
          "x": 0.6375000000000001,
          "xanchor": "center",
          "xref": "paper",
          "y": 0.4,
          "yanchor": "bottom",
          "yref": "paper"
         },
         {
          "font": {
           "size": 16
          },
          "showarrow": false,
          "text": "Topic 7",
          "x": 0.9125,
          "xanchor": "center",
          "xref": "paper",
          "y": 0.4,
          "yanchor": "bottom",
          "yref": "paper"
         }
        ],
        "height": 500,
        "hoverlabel": {
         "bgcolor": "white",
         "font": {
          "family": "Rockwell",
          "size": 16
         }
        },
        "showlegend": false,
        "template": {
         "data": {
          "bar": [
           {
            "error_x": {
             "color": "#2a3f5f"
            },
            "error_y": {
             "color": "#2a3f5f"
            },
            "marker": {
             "line": {
              "color": "white",
              "width": 0.5
             },
             "pattern": {
              "fillmode": "overlay",
              "size": 10,
              "solidity": 0.2
             }
            },
            "type": "bar"
           }
          ],
          "barpolar": [
           {
            "marker": {
             "line": {
              "color": "white",
              "width": 0.5
             },
             "pattern": {
              "fillmode": "overlay",
              "size": 10,
              "solidity": 0.2
             }
            },
            "type": "barpolar"
           }
          ],
          "carpet": [
           {
            "aaxis": {
             "endlinecolor": "#2a3f5f",
             "gridcolor": "#C8D4E3",
             "linecolor": "#C8D4E3",
             "minorgridcolor": "#C8D4E3",
             "startlinecolor": "#2a3f5f"
            },
            "baxis": {
             "endlinecolor": "#2a3f5f",
             "gridcolor": "#C8D4E3",
             "linecolor": "#C8D4E3",
             "minorgridcolor": "#C8D4E3",
             "startlinecolor": "#2a3f5f"
            },
            "type": "carpet"
           }
          ],
          "choropleth": [
           {
            "colorbar": {
             "outlinewidth": 0,
             "ticks": ""
            },
            "type": "choropleth"
           }
          ],
          "contour": [
           {
            "colorbar": {
             "outlinewidth": 0,
             "ticks": ""
            },
            "colorscale": [
             [
              0,
              "#0d0887"
             ],
             [
              0.1111111111111111,
              "#46039f"
             ],
             [
              0.2222222222222222,
              "#7201a8"
             ],
             [
              0.3333333333333333,
              "#9c179e"
             ],
             [
              0.4444444444444444,
              "#bd3786"
             ],
             [
              0.5555555555555556,
              "#d8576b"
             ],
             [
              0.6666666666666666,
              "#ed7953"
             ],
             [
              0.7777777777777778,
              "#fb9f3a"
             ],
             [
              0.8888888888888888,
              "#fdca26"
             ],
             [
              1,
              "#f0f921"
             ]
            ],
            "type": "contour"
           }
          ],
          "contourcarpet": [
           {
            "colorbar": {
             "outlinewidth": 0,
             "ticks": ""
            },
            "type": "contourcarpet"
           }
          ],
          "heatmap": [
           {
            "colorbar": {
             "outlinewidth": 0,
             "ticks": ""
            },
            "colorscale": [
             [
              0,
              "#0d0887"
             ],
             [
              0.1111111111111111,
              "#46039f"
             ],
             [
              0.2222222222222222,
              "#7201a8"
             ],
             [
              0.3333333333333333,
              "#9c179e"
             ],
             [
              0.4444444444444444,
              "#bd3786"
             ],
             [
              0.5555555555555556,
              "#d8576b"
             ],
             [
              0.6666666666666666,
              "#ed7953"
             ],
             [
              0.7777777777777778,
              "#fb9f3a"
             ],
             [
              0.8888888888888888,
              "#fdca26"
             ],
             [
              1,
              "#f0f921"
             ]
            ],
            "type": "heatmap"
           }
          ],
          "heatmapgl": [
           {
            "colorbar": {
             "outlinewidth": 0,
             "ticks": ""
            },
            "colorscale": [
             [
              0,
              "#0d0887"
             ],
             [
              0.1111111111111111,
              "#46039f"
             ],
             [
              0.2222222222222222,
              "#7201a8"
             ],
             [
              0.3333333333333333,
              "#9c179e"
             ],
             [
              0.4444444444444444,
              "#bd3786"
             ],
             [
              0.5555555555555556,
              "#d8576b"
             ],
             [
              0.6666666666666666,
              "#ed7953"
             ],
             [
              0.7777777777777778,
              "#fb9f3a"
             ],
             [
              0.8888888888888888,
              "#fdca26"
             ],
             [
              1,
              "#f0f921"
             ]
            ],
            "type": "heatmapgl"
           }
          ],
          "histogram": [
           {
            "marker": {
             "pattern": {
              "fillmode": "overlay",
              "size": 10,
              "solidity": 0.2
             }
            },
            "type": "histogram"
           }
          ],
          "histogram2d": [
           {
            "colorbar": {
             "outlinewidth": 0,
             "ticks": ""
            },
            "colorscale": [
             [
              0,
              "#0d0887"
             ],
             [
              0.1111111111111111,
              "#46039f"
             ],
             [
              0.2222222222222222,
              "#7201a8"
             ],
             [
              0.3333333333333333,
              "#9c179e"
             ],
             [
              0.4444444444444444,
              "#bd3786"
             ],
             [
              0.5555555555555556,
              "#d8576b"
             ],
             [
              0.6666666666666666,
              "#ed7953"
             ],
             [
              0.7777777777777778,
              "#fb9f3a"
             ],
             [
              0.8888888888888888,
              "#fdca26"
             ],
             [
              1,
              "#f0f921"
             ]
            ],
            "type": "histogram2d"
           }
          ],
          "histogram2dcontour": [
           {
            "colorbar": {
             "outlinewidth": 0,
             "ticks": ""
            },
            "colorscale": [
             [
              0,
              "#0d0887"
             ],
             [
              0.1111111111111111,
              "#46039f"
             ],
             [
              0.2222222222222222,
              "#7201a8"
             ],
             [
              0.3333333333333333,
              "#9c179e"
             ],
             [
              0.4444444444444444,
              "#bd3786"
             ],
             [
              0.5555555555555556,
              "#d8576b"
             ],
             [
              0.6666666666666666,
              "#ed7953"
             ],
             [
              0.7777777777777778,
              "#fb9f3a"
             ],
             [
              0.8888888888888888,
              "#fdca26"
             ],
             [
              1,
              "#f0f921"
             ]
            ],
            "type": "histogram2dcontour"
           }
          ],
          "mesh3d": [
           {
            "colorbar": {
             "outlinewidth": 0,
             "ticks": ""
            },
            "type": "mesh3d"
           }
          ],
          "parcoords": [
           {
            "line": {
             "colorbar": {
              "outlinewidth": 0,
              "ticks": ""
             }
            },
            "type": "parcoords"
           }
          ],
          "pie": [
           {
            "automargin": true,
            "type": "pie"
           }
          ],
          "scatter": [
           {
            "fillpattern": {
             "fillmode": "overlay",
             "size": 10,
             "solidity": 0.2
            },
            "type": "scatter"
           }
          ],
          "scatter3d": [
           {
            "line": {
             "colorbar": {
              "outlinewidth": 0,
              "ticks": ""
             }
            },
            "marker": {
             "colorbar": {
              "outlinewidth": 0,
              "ticks": ""
             }
            },
            "type": "scatter3d"
           }
          ],
          "scattercarpet": [
           {
            "marker": {
             "colorbar": {
              "outlinewidth": 0,
              "ticks": ""
             }
            },
            "type": "scattercarpet"
           }
          ],
          "scattergeo": [
           {
            "marker": {
             "colorbar": {
              "outlinewidth": 0,
              "ticks": ""
             }
            },
            "type": "scattergeo"
           }
          ],
          "scattergl": [
           {
            "marker": {
             "colorbar": {
              "outlinewidth": 0,
              "ticks": ""
             }
            },
            "type": "scattergl"
           }
          ],
          "scattermapbox": [
           {
            "marker": {
             "colorbar": {
              "outlinewidth": 0,
              "ticks": ""
             }
            },
            "type": "scattermapbox"
           }
          ],
          "scatterpolar": [
           {
            "marker": {
             "colorbar": {
              "outlinewidth": 0,
              "ticks": ""
             }
            },
            "type": "scatterpolar"
           }
          ],
          "scatterpolargl": [
           {
            "marker": {
             "colorbar": {
              "outlinewidth": 0,
              "ticks": ""
             }
            },
            "type": "scatterpolargl"
           }
          ],
          "scatterternary": [
           {
            "marker": {
             "colorbar": {
              "outlinewidth": 0,
              "ticks": ""
             }
            },
            "type": "scatterternary"
           }
          ],
          "surface": [
           {
            "colorbar": {
             "outlinewidth": 0,
             "ticks": ""
            },
            "colorscale": [
             [
              0,
              "#0d0887"
             ],
             [
              0.1111111111111111,
              "#46039f"
             ],
             [
              0.2222222222222222,
              "#7201a8"
             ],
             [
              0.3333333333333333,
              "#9c179e"
             ],
             [
              0.4444444444444444,
              "#bd3786"
             ],
             [
              0.5555555555555556,
              "#d8576b"
             ],
             [
              0.6666666666666666,
              "#ed7953"
             ],
             [
              0.7777777777777778,
              "#fb9f3a"
             ],
             [
              0.8888888888888888,
              "#fdca26"
             ],
             [
              1,
              "#f0f921"
             ]
            ],
            "type": "surface"
           }
          ],
          "table": [
           {
            "cells": {
             "fill": {
              "color": "#EBF0F8"
             },
             "line": {
              "color": "white"
             }
            },
            "header": {
             "fill": {
              "color": "#C8D4E3"
             },
             "line": {
              "color": "white"
             }
            },
            "type": "table"
           }
          ]
         },
         "layout": {
          "annotationdefaults": {
           "arrowcolor": "#2a3f5f",
           "arrowhead": 0,
           "arrowwidth": 1
          },
          "autotypenumbers": "strict",
          "coloraxis": {
           "colorbar": {
            "outlinewidth": 0,
            "ticks": ""
           }
          },
          "colorscale": {
           "diverging": [
            [
             0,
             "#8e0152"
            ],
            [
             0.1,
             "#c51b7d"
            ],
            [
             0.2,
             "#de77ae"
            ],
            [
             0.3,
             "#f1b6da"
            ],
            [
             0.4,
             "#fde0ef"
            ],
            [
             0.5,
             "#f7f7f7"
            ],
            [
             0.6,
             "#e6f5d0"
            ],
            [
             0.7,
             "#b8e186"
            ],
            [
             0.8,
             "#7fbc41"
            ],
            [
             0.9,
             "#4d9221"
            ],
            [
             1,
             "#276419"
            ]
           ],
           "sequential": [
            [
             0,
             "#0d0887"
            ],
            [
             0.1111111111111111,
             "#46039f"
            ],
            [
             0.2222222222222222,
             "#7201a8"
            ],
            [
             0.3333333333333333,
             "#9c179e"
            ],
            [
             0.4444444444444444,
             "#bd3786"
            ],
            [
             0.5555555555555556,
             "#d8576b"
            ],
            [
             0.6666666666666666,
             "#ed7953"
            ],
            [
             0.7777777777777778,
             "#fb9f3a"
            ],
            [
             0.8888888888888888,
             "#fdca26"
            ],
            [
             1,
             "#f0f921"
            ]
           ],
           "sequentialminus": [
            [
             0,
             "#0d0887"
            ],
            [
             0.1111111111111111,
             "#46039f"
            ],
            [
             0.2222222222222222,
             "#7201a8"
            ],
            [
             0.3333333333333333,
             "#9c179e"
            ],
            [
             0.4444444444444444,
             "#bd3786"
            ],
            [
             0.5555555555555556,
             "#d8576b"
            ],
            [
             0.6666666666666666,
             "#ed7953"
            ],
            [
             0.7777777777777778,
             "#fb9f3a"
            ],
            [
             0.8888888888888888,
             "#fdca26"
            ],
            [
             1,
             "#f0f921"
            ]
           ]
          },
          "colorway": [
           "#636efa",
           "#EF553B",
           "#00cc96",
           "#ab63fa",
           "#FFA15A",
           "#19d3f3",
           "#FF6692",
           "#B6E880",
           "#FF97FF",
           "#FECB52"
          ],
          "font": {
           "color": "#2a3f5f"
          },
          "geo": {
           "bgcolor": "white",
           "lakecolor": "white",
           "landcolor": "white",
           "showlakes": true,
           "showland": true,
           "subunitcolor": "#C8D4E3"
          },
          "hoverlabel": {
           "align": "left"
          },
          "hovermode": "closest",
          "mapbox": {
           "style": "light"
          },
          "paper_bgcolor": "white",
          "plot_bgcolor": "white",
          "polar": {
           "angularaxis": {
            "gridcolor": "#EBF0F8",
            "linecolor": "#EBF0F8",
            "ticks": ""
           },
           "bgcolor": "white",
           "radialaxis": {
            "gridcolor": "#EBF0F8",
            "linecolor": "#EBF0F8",
            "ticks": ""
           }
          },
          "scene": {
           "xaxis": {
            "backgroundcolor": "white",
            "gridcolor": "#DFE8F3",
            "gridwidth": 2,
            "linecolor": "#EBF0F8",
            "showbackground": true,
            "ticks": "",
            "zerolinecolor": "#EBF0F8"
           },
           "yaxis": {
            "backgroundcolor": "white",
            "gridcolor": "#DFE8F3",
            "gridwidth": 2,
            "linecolor": "#EBF0F8",
            "showbackground": true,
            "ticks": "",
            "zerolinecolor": "#EBF0F8"
           },
           "zaxis": {
            "backgroundcolor": "white",
            "gridcolor": "#DFE8F3",
            "gridwidth": 2,
            "linecolor": "#EBF0F8",
            "showbackground": true,
            "ticks": "",
            "zerolinecolor": "#EBF0F8"
           }
          },
          "shapedefaults": {
           "line": {
            "color": "#2a3f5f"
           }
          },
          "ternary": {
           "aaxis": {
            "gridcolor": "#DFE8F3",
            "linecolor": "#A2B1C6",
            "ticks": ""
           },
           "baxis": {
            "gridcolor": "#DFE8F3",
            "linecolor": "#A2B1C6",
            "ticks": ""
           },
           "bgcolor": "white",
           "caxis": {
            "gridcolor": "#DFE8F3",
            "linecolor": "#A2B1C6",
            "ticks": ""
           }
          },
          "title": {
           "x": 0.05
          },
          "xaxis": {
           "automargin": true,
           "gridcolor": "#EBF0F8",
           "linecolor": "#EBF0F8",
           "ticks": "",
           "title": {
            "standoff": 15
           },
           "zerolinecolor": "#EBF0F8",
           "zerolinewidth": 2
          },
          "yaxis": {
           "automargin": true,
           "gridcolor": "#EBF0F8",
           "linecolor": "#EBF0F8",
           "ticks": "",
           "title": {
            "standoff": 15
           },
           "zerolinecolor": "#EBF0F8",
           "zerolinewidth": 2
          }
         }
        },
        "title": {
         "font": {
          "color": "Black",
          "size": 22
         },
         "text": "Topic Word Scores",
         "x": 0.5,
         "xanchor": "center",
         "yanchor": "top"
        },
        "width": 1000,
        "xaxis": {
         "anchor": "y",
         "domain": [
          0,
          0.175
         ],
         "showgrid": true
        },
        "xaxis2": {
         "anchor": "y2",
         "domain": [
          0.275,
          0.45
         ],
         "showgrid": true
        },
        "xaxis3": {
         "anchor": "y3",
         "domain": [
          0.55,
          0.7250000000000001
         ],
         "showgrid": true
        },
        "xaxis4": {
         "anchor": "y4",
         "domain": [
          0.825,
          1
         ],
         "showgrid": true
        },
        "xaxis5": {
         "anchor": "y5",
         "domain": [
          0,
          0.175
         ],
         "showgrid": true
        },
        "xaxis6": {
         "anchor": "y6",
         "domain": [
          0.275,
          0.45
         ],
         "showgrid": true
        },
        "xaxis7": {
         "anchor": "y7",
         "domain": [
          0.55,
          0.7250000000000001
         ],
         "showgrid": true
        },
        "xaxis8": {
         "anchor": "y8",
         "domain": [
          0.825,
          1
         ],
         "showgrid": true
        },
        "yaxis": {
         "anchor": "x",
         "domain": [
          0.6000000000000001,
          1
         ],
         "showgrid": true
        },
        "yaxis2": {
         "anchor": "x2",
         "domain": [
          0.6000000000000001,
          1
         ],
         "showgrid": true
        },
        "yaxis3": {
         "anchor": "x3",
         "domain": [
          0.6000000000000001,
          1
         ],
         "showgrid": true
        },
        "yaxis4": {
         "anchor": "x4",
         "domain": [
          0.6000000000000001,
          1
         ],
         "showgrid": true
        },
        "yaxis5": {
         "anchor": "x5",
         "domain": [
          0,
          0.4
         ],
         "showgrid": true
        },
        "yaxis6": {
         "anchor": "x6",
         "domain": [
          0,
          0.4
         ],
         "showgrid": true
        },
        "yaxis7": {
         "anchor": "x7",
         "domain": [
          0,
          0.4
         ],
         "showgrid": true
        },
        "yaxis8": {
         "anchor": "x8",
         "domain": [
          0,
          0.4
         ],
         "showgrid": true
        }
       }
      }
     },
     "metadata": {},
     "output_type": "display_data"
    }
   ],
   "source": [
    "topic_model.visualize_barchart()"
   ]
  },
  {
   "cell_type": "code",
   "execution_count": 12,
   "metadata": {},
   "outputs": [
    {
     "data": {
      "application/vnd.plotly.v1+json": {
       "config": {
        "plotlyServerURL": "https://plot.ly"
       },
       "data": [
        {
         "customdata": [
          [
           0,
           "shelf | shelves | great | this | are",
           196
          ],
          [
           1,
           "easy | assemble | to | together | put",
           191
          ],
          [
           2,
           "closet | my | organizer | clothes | perfect",
           154
          ],
          [
           3,
           "kallax | storage | of | for | units",
           93
          ],
          [
           4,
           "easy | product | assemble | to | great",
           87
          ],
          [
           5,
           "shelving | unit | great | very | and",
           85
          ],
          [
           6,
           "tv | stand | as | it | use",
           81
          ],
          [
           7,
           "vinyl | records | record | collection | albums",
           73
          ],
          [
           8,
           "versatile | one | can | in | use",
           58
          ],
          [
           9,
           "storage | for | great | perfect | bought",
           55
          ],
          [
           10,
           "product | good | great | excellent | fine",
           51
          ],
          [
           11,
           "unit | this | looks | great | units",
           50
          ],
          [
           12,
           "cubes | cube | storage | are | these",
           50
          ],
          [
           13,
           "product | very | happy | recommend | pleased",
           50
          ],
          [
           14,
           "kallax | units | the | fittings | love",
           48
          ],
          [
           15,
           "ikea | is | quality | not | to",
           47
          ],
          [
           16,
           "sturdy | very | strong | and | built",
           46
          ],
          [
           17,
           "what | exactly | needed | looking | just",
           44
          ],
          [
           18,
           "bookcase | bookcases | case | great | carton",
           43
          ],
          [
           19,
           "fits | space | fit | perfect | spot",
           39
          ],
          [
           20,
           "kallax | easy | are | to | an",
           39
          ],
          [
           21,
           "excellent | nice | its | good | very",
           39
          ],
          [
           22,
           "furniture | piece | of | serves | purpose",
           38
          ],
          [
           23,
           "storage | closet | extra | in | clothes",
           38
          ],
          [
           24,
           "toy | toys | storage | lego | compartment",
           36
          ],
          [
           25,
           "kallax | shelves | shelf | is | bins",
           34
          ],
          [
           26,
           "gloss | white | high | glossy | paint",
           33
          ],
          [
           27,
           "quality | good | price | cheaper | better",
           32
          ],
          [
           28,
           "happy | ago | month | love | bought",
           32
          ],
          [
           29,
           "horizontally | or | vertical | horizontal | can",
           31
          ],
          [
           30,
           "kallax | product | disproportionate | happiness | charges",
           29
          ],
          [
           31,
           "solid | piece | frame | very | and",
           28
          ],
          [
           32,
           "shelf | unit | collectibles | shelves | nice",
           27
          ],
          [
           33,
           "kids | toys | room | playroom | her",
           26
          ],
          [
           34,
           "kallax | love | shelves | them | our",
           24
          ],
          [
           35,
           "bookshelf | books | bookshelves | size | good",
           24
          ],
          [
           36,
           "shelving | unit | kallax | shelf | x2",
           24
          ],
          [
           37,
           "them | have | love | second | house",
           23
          ],
          [
           38,
           "sturdy | of | husband | they | them",
           23
          ],
          [
           39,
           "color | grey | colour | the | pink",
           22
          ],
          [
           40,
           "value | money | good | price | for",
           22
          ],
          [
           41,
           "storage | options | option | solution | framework",
           22
          ],
          [
           42,
           "sturdy | nice | well | built | structure",
           21
          ],
          [
           43,
           "unit | storage | great | super | tidy",
           20
          ],
          [
           44,
           "size | perfect | room | boxes | ago",
           19
          ],
          [
           45,
           "dowels | drill | wooden | holes | screws",
           18
          ],
          [
           46,
           "functional | multifunctional | predictably | sleek | minimal",
           17
          ],
          [
           47,
           "holes | screws | lacquer | up | assembling",
           17
          ],
          [
           48,
           "modern | living | bomb | transformed | room",
           17
          ],
          [
           49,
           "expected | meets | expectations | as | just",
           17
          ],
          [
           50,
           "the | ikea | new | kallax | is",
           17
          ],
          [
           51,
           "an | ikea | that | unit | shelf",
           16
          ],
          [
           52,
           "kallax | love | lovevthe | handy | so",
           15
          ],
          [
           53,
           "bookcase | kallax | bookcases | units | peel",
           15
          ],
          [
           54,
           "looks | easy | beautiful | together | put",
           13
          ],
          [
           55,
           "versatile | configurations | quite | versatility | available",
           13
          ],
          [
           56,
           "quality | good | installed | assembly | elementary",
           12
          ]
         ],
         "hovertemplate": "<b>Topic %{customdata[0]}</b><br>%{customdata[1]}<br>Size: %{customdata[2]}",
         "legendgroup": "",
         "marker": {
          "color": "#B0BEC5",
          "line": {
           "color": "DarkSlateGrey",
           "width": 2
          },
          "size": [
           196,
           191,
           154,
           93,
           87,
           85,
           81,
           73,
           58,
           55,
           51,
           50,
           50,
           50,
           48,
           47,
           46,
           44,
           43,
           39,
           39,
           39,
           38,
           38,
           36,
           34,
           33,
           32,
           32,
           31,
           29,
           28,
           27,
           26,
           24,
           24,
           24,
           23,
           23,
           22,
           22,
           22,
           21,
           20,
           19,
           18,
           17,
           17,
           17,
           17,
           17,
           16,
           15,
           15,
           13,
           13,
           12
          ],
          "sizemode": "area",
          "sizeref": 0.1225,
          "symbol": "circle"
         },
         "mode": "markers",
         "name": "",
         "orientation": "v",
         "showlegend": false,
         "type": "scatter",
         "x": [
          2.2344908714294434,
          -3.4653806686401367,
          1.736018180847168,
          14.176300048828125,
          -3.65743088722229,
          2.175671339035034,
          2.283156633377075,
          4.632866382598877,
          1.8640810251235962,
          4.739948749542236,
          11.429085731506348,
          4.238193511962891,
          5.402944087982178,
          11.54642391204834,
          0.21760201454162598,
          0.10465487837791443,
          -8.565597534179688,
          2.518308639526367,
          6.1911234855651855,
          -4.111713886260986,
          0.6834504008293152,
          11.673704147338867,
          0.17629797756671906,
          4.680786609649658,
          5.233724117279053,
          14.620523452758789,
          3.7049927711486816,
          -7.273072719573975,
          11.675407409667969,
          1.718684434890747,
          0.511397659778595,
          -8.552001953125,
          14.159052848815918,
          5.193194389343262,
          14.987931251525879,
          6.135547637939453,
          14.29556655883789,
          11.756599426269531,
          -8.745869636535645,
          3.837895154953003,
          -7.3718695640563965,
          4.070559501647949,
          -8.675400733947754,
          4.22332239151001,
          -3.9370505809783936,
          -15.424089431762695,
          2.3354029655456543,
          -15.42407512664795,
          0.3652705252170563,
          11.701825141906738,
          15.238099098205566,
          1.9718400239944458,
          0.3352862000465393,
          6.243779182434082,
          -3.5542526245117188,
          2.284123659133911,
          -7.167380332946777
         ],
         "xaxis": "x",
         "y": [
          3.94928240776062,
          -5.3190693855285645,
          3.070449113845825,
          0.8862090706825256,
          -5.509455680847168,
          4.001402854919434,
          4.138585567474365,
          -4.0909295082092285,
          2.9900429248809814,
          -4.1705851554870605,
          6.800809383392334,
          -4.673977375030518,
          -4.011696815490723,
          6.5896782875061035,
          20.715351104736328,
          16.20945930480957,
          2.4644429683685303,
          2.5207715034484863,
          2.0645456314086914,
          11.304939270019531,
          20.24871063232422,
          6.207058906555176,
          16.2827091217041,
          -4.147634983062744,
          -4.129514694213867,
          0.6384555101394653,
          15.029409408569336,
          5.847036361694336,
          6.963561058044434,
          2.9334707260131836,
          20.422117233276367,
          2.4819705486297607,
          0.7284319996833801,
          -4.192831993103027,
          0.49454060196876526,
          2.1198642253875732,
          0.7929279804229736,
          7.053066730499268,
          2.281080722808838,
          14.8967866897583,
          5.748161315917969,
          -4.852705001831055,
          2.352668285369873,
          -4.693050861358643,
          11.47954273223877,
          1.3114374876022339,
          2.710793972015381,
          1.3114439249038696,
          16.47344398498535,
          6.19314432144165,
          0.33197110891342163,
          3.413438081741333,
          20.597938537597656,
          2.0123331546783447,
          -5.407037258148193,
          2.706113338470459,
          5.952186107635498
         ],
         "yaxis": "y"
        }
       ],
       "layout": {
        "annotations": [
         {
          "showarrow": false,
          "text": "D1",
          "x": -17.7377028465271,
          "y": 8.743389868736267,
          "yshift": 10
         },
         {
          "showarrow": false,
          "text": "D2",
          "x": -0.10694444179534912,
          "xshift": 10,
          "y": 23.822653770446777
         }
        ],
        "height": 650,
        "hoverlabel": {
         "bgcolor": "white",
         "font": {
          "family": "Rockwell",
          "size": 16
         }
        },
        "legend": {
         "itemsizing": "constant",
         "tracegroupgap": 0
        },
        "margin": {
         "t": 60
        },
        "shapes": [
         {
          "line": {
           "color": "#CFD8DC",
           "width": 2
          },
          "type": "line",
          "x0": -0.10694444179534912,
          "x1": -0.10694444179534912,
          "y0": -6.335874032974243,
          "y1": 23.822653770446777
         },
         {
          "line": {
           "color": "#9E9E9E",
           "width": 2
          },
          "type": "line",
          "x0": -17.7377028465271,
          "x1": 17.5238139629364,
          "y0": 8.743389868736267,
          "y1": 8.743389868736267
         }
        ],
        "sliders": [
         {
          "active": 0,
          "pad": {
           "t": 50
          },
          "steps": [
           {
            "args": [
             {
              "marker.color": [
               [
                "red",
                "#B0BEC5",
                "#B0BEC5",
                "#B0BEC5",
                "#B0BEC5",
                "#B0BEC5",
                "#B0BEC5",
                "#B0BEC5",
                "#B0BEC5",
                "#B0BEC5",
                "#B0BEC5",
                "#B0BEC5",
                "#B0BEC5",
                "#B0BEC5",
                "#B0BEC5",
                "#B0BEC5",
                "#B0BEC5",
                "#B0BEC5",
                "#B0BEC5",
                "#B0BEC5",
                "#B0BEC5",
                "#B0BEC5",
                "#B0BEC5",
                "#B0BEC5",
                "#B0BEC5",
                "#B0BEC5",
                "#B0BEC5",
                "#B0BEC5",
                "#B0BEC5",
                "#B0BEC5",
                "#B0BEC5",
                "#B0BEC5",
                "#B0BEC5",
                "#B0BEC5",
                "#B0BEC5",
                "#B0BEC5",
                "#B0BEC5",
                "#B0BEC5",
                "#B0BEC5",
                "#B0BEC5",
                "#B0BEC5",
                "#B0BEC5",
                "#B0BEC5",
                "#B0BEC5",
                "#B0BEC5",
                "#B0BEC5",
                "#B0BEC5",
                "#B0BEC5",
                "#B0BEC5",
                "#B0BEC5",
                "#B0BEC5",
                "#B0BEC5",
                "#B0BEC5",
                "#B0BEC5",
                "#B0BEC5",
                "#B0BEC5",
                "#B0BEC5"
               ]
              ]
             }
            ],
            "label": "Topic 0",
            "method": "update"
           },
           {
            "args": [
             {
              "marker.color": [
               [
                "#B0BEC5",
                "red",
                "#B0BEC5",
                "#B0BEC5",
                "#B0BEC5",
                "#B0BEC5",
                "#B0BEC5",
                "#B0BEC5",
                "#B0BEC5",
                "#B0BEC5",
                "#B0BEC5",
                "#B0BEC5",
                "#B0BEC5",
                "#B0BEC5",
                "#B0BEC5",
                "#B0BEC5",
                "#B0BEC5",
                "#B0BEC5",
                "#B0BEC5",
                "#B0BEC5",
                "#B0BEC5",
                "#B0BEC5",
                "#B0BEC5",
                "#B0BEC5",
                "#B0BEC5",
                "#B0BEC5",
                "#B0BEC5",
                "#B0BEC5",
                "#B0BEC5",
                "#B0BEC5",
                "#B0BEC5",
                "#B0BEC5",
                "#B0BEC5",
                "#B0BEC5",
                "#B0BEC5",
                "#B0BEC5",
                "#B0BEC5",
                "#B0BEC5",
                "#B0BEC5",
                "#B0BEC5",
                "#B0BEC5",
                "#B0BEC5",
                "#B0BEC5",
                "#B0BEC5",
                "#B0BEC5",
                "#B0BEC5",
                "#B0BEC5",
                "#B0BEC5",
                "#B0BEC5",
                "#B0BEC5",
                "#B0BEC5",
                "#B0BEC5",
                "#B0BEC5",
                "#B0BEC5",
                "#B0BEC5",
                "#B0BEC5",
                "#B0BEC5"
               ]
              ]
             }
            ],
            "label": "Topic 1",
            "method": "update"
           },
           {
            "args": [
             {
              "marker.color": [
               [
                "#B0BEC5",
                "#B0BEC5",
                "red",
                "#B0BEC5",
                "#B0BEC5",
                "#B0BEC5",
                "#B0BEC5",
                "#B0BEC5",
                "#B0BEC5",
                "#B0BEC5",
                "#B0BEC5",
                "#B0BEC5",
                "#B0BEC5",
                "#B0BEC5",
                "#B0BEC5",
                "#B0BEC5",
                "#B0BEC5",
                "#B0BEC5",
                "#B0BEC5",
                "#B0BEC5",
                "#B0BEC5",
                "#B0BEC5",
                "#B0BEC5",
                "#B0BEC5",
                "#B0BEC5",
                "#B0BEC5",
                "#B0BEC5",
                "#B0BEC5",
                "#B0BEC5",
                "#B0BEC5",
                "#B0BEC5",
                "#B0BEC5",
                "#B0BEC5",
                "#B0BEC5",
                "#B0BEC5",
                "#B0BEC5",
                "#B0BEC5",
                "#B0BEC5",
                "#B0BEC5",
                "#B0BEC5",
                "#B0BEC5",
                "#B0BEC5",
                "#B0BEC5",
                "#B0BEC5",
                "#B0BEC5",
                "#B0BEC5",
                "#B0BEC5",
                "#B0BEC5",
                "#B0BEC5",
                "#B0BEC5",
                "#B0BEC5",
                "#B0BEC5",
                "#B0BEC5",
                "#B0BEC5",
                "#B0BEC5",
                "#B0BEC5",
                "#B0BEC5"
               ]
              ]
             }
            ],
            "label": "Topic 2",
            "method": "update"
           },
           {
            "args": [
             {
              "marker.color": [
               [
                "#B0BEC5",
                "#B0BEC5",
                "#B0BEC5",
                "red",
                "#B0BEC5",
                "#B0BEC5",
                "#B0BEC5",
                "#B0BEC5",
                "#B0BEC5",
                "#B0BEC5",
                "#B0BEC5",
                "#B0BEC5",
                "#B0BEC5",
                "#B0BEC5",
                "#B0BEC5",
                "#B0BEC5",
                "#B0BEC5",
                "#B0BEC5",
                "#B0BEC5",
                "#B0BEC5",
                "#B0BEC5",
                "#B0BEC5",
                "#B0BEC5",
                "#B0BEC5",
                "#B0BEC5",
                "#B0BEC5",
                "#B0BEC5",
                "#B0BEC5",
                "#B0BEC5",
                "#B0BEC5",
                "#B0BEC5",
                "#B0BEC5",
                "#B0BEC5",
                "#B0BEC5",
                "#B0BEC5",
                "#B0BEC5",
                "#B0BEC5",
                "#B0BEC5",
                "#B0BEC5",
                "#B0BEC5",
                "#B0BEC5",
                "#B0BEC5",
                "#B0BEC5",
                "#B0BEC5",
                "#B0BEC5",
                "#B0BEC5",
                "#B0BEC5",
                "#B0BEC5",
                "#B0BEC5",
                "#B0BEC5",
                "#B0BEC5",
                "#B0BEC5",
                "#B0BEC5",
                "#B0BEC5",
                "#B0BEC5",
                "#B0BEC5",
                "#B0BEC5"
               ]
              ]
             }
            ],
            "label": "Topic 3",
            "method": "update"
           },
           {
            "args": [
             {
              "marker.color": [
               [
                "#B0BEC5",
                "#B0BEC5",
                "#B0BEC5",
                "#B0BEC5",
                "red",
                "#B0BEC5",
                "#B0BEC5",
                "#B0BEC5",
                "#B0BEC5",
                "#B0BEC5",
                "#B0BEC5",
                "#B0BEC5",
                "#B0BEC5",
                "#B0BEC5",
                "#B0BEC5",
                "#B0BEC5",
                "#B0BEC5",
                "#B0BEC5",
                "#B0BEC5",
                "#B0BEC5",
                "#B0BEC5",
                "#B0BEC5",
                "#B0BEC5",
                "#B0BEC5",
                "#B0BEC5",
                "#B0BEC5",
                "#B0BEC5",
                "#B0BEC5",
                "#B0BEC5",
                "#B0BEC5",
                "#B0BEC5",
                "#B0BEC5",
                "#B0BEC5",
                "#B0BEC5",
                "#B0BEC5",
                "#B0BEC5",
                "#B0BEC5",
                "#B0BEC5",
                "#B0BEC5",
                "#B0BEC5",
                "#B0BEC5",
                "#B0BEC5",
                "#B0BEC5",
                "#B0BEC5",
                "#B0BEC5",
                "#B0BEC5",
                "#B0BEC5",
                "#B0BEC5",
                "#B0BEC5",
                "#B0BEC5",
                "#B0BEC5",
                "#B0BEC5",
                "#B0BEC5",
                "#B0BEC5",
                "#B0BEC5",
                "#B0BEC5",
                "#B0BEC5"
               ]
              ]
             }
            ],
            "label": "Topic 4",
            "method": "update"
           },
           {
            "args": [
             {
              "marker.color": [
               [
                "#B0BEC5",
                "#B0BEC5",
                "#B0BEC5",
                "#B0BEC5",
                "#B0BEC5",
                "red",
                "#B0BEC5",
                "#B0BEC5",
                "#B0BEC5",
                "#B0BEC5",
                "#B0BEC5",
                "#B0BEC5",
                "#B0BEC5",
                "#B0BEC5",
                "#B0BEC5",
                "#B0BEC5",
                "#B0BEC5",
                "#B0BEC5",
                "#B0BEC5",
                "#B0BEC5",
                "#B0BEC5",
                "#B0BEC5",
                "#B0BEC5",
                "#B0BEC5",
                "#B0BEC5",
                "#B0BEC5",
                "#B0BEC5",
                "#B0BEC5",
                "#B0BEC5",
                "#B0BEC5",
                "#B0BEC5",
                "#B0BEC5",
                "#B0BEC5",
                "#B0BEC5",
                "#B0BEC5",
                "#B0BEC5",
                "#B0BEC5",
                "#B0BEC5",
                "#B0BEC5",
                "#B0BEC5",
                "#B0BEC5",
                "#B0BEC5",
                "#B0BEC5",
                "#B0BEC5",
                "#B0BEC5",
                "#B0BEC5",
                "#B0BEC5",
                "#B0BEC5",
                "#B0BEC5",
                "#B0BEC5",
                "#B0BEC5",
                "#B0BEC5",
                "#B0BEC5",
                "#B0BEC5",
                "#B0BEC5",
                "#B0BEC5",
                "#B0BEC5"
               ]
              ]
             }
            ],
            "label": "Topic 5",
            "method": "update"
           },
           {
            "args": [
             {
              "marker.color": [
               [
                "#B0BEC5",
                "#B0BEC5",
                "#B0BEC5",
                "#B0BEC5",
                "#B0BEC5",
                "#B0BEC5",
                "red",
                "#B0BEC5",
                "#B0BEC5",
                "#B0BEC5",
                "#B0BEC5",
                "#B0BEC5",
                "#B0BEC5",
                "#B0BEC5",
                "#B0BEC5",
                "#B0BEC5",
                "#B0BEC5",
                "#B0BEC5",
                "#B0BEC5",
                "#B0BEC5",
                "#B0BEC5",
                "#B0BEC5",
                "#B0BEC5",
                "#B0BEC5",
                "#B0BEC5",
                "#B0BEC5",
                "#B0BEC5",
                "#B0BEC5",
                "#B0BEC5",
                "#B0BEC5",
                "#B0BEC5",
                "#B0BEC5",
                "#B0BEC5",
                "#B0BEC5",
                "#B0BEC5",
                "#B0BEC5",
                "#B0BEC5",
                "#B0BEC5",
                "#B0BEC5",
                "#B0BEC5",
                "#B0BEC5",
                "#B0BEC5",
                "#B0BEC5",
                "#B0BEC5",
                "#B0BEC5",
                "#B0BEC5",
                "#B0BEC5",
                "#B0BEC5",
                "#B0BEC5",
                "#B0BEC5",
                "#B0BEC5",
                "#B0BEC5",
                "#B0BEC5",
                "#B0BEC5",
                "#B0BEC5",
                "#B0BEC5",
                "#B0BEC5"
               ]
              ]
             }
            ],
            "label": "Topic 6",
            "method": "update"
           },
           {
            "args": [
             {
              "marker.color": [
               [
                "#B0BEC5",
                "#B0BEC5",
                "#B0BEC5",
                "#B0BEC5",
                "#B0BEC5",
                "#B0BEC5",
                "#B0BEC5",
                "red",
                "#B0BEC5",
                "#B0BEC5",
                "#B0BEC5",
                "#B0BEC5",
                "#B0BEC5",
                "#B0BEC5",
                "#B0BEC5",
                "#B0BEC5",
                "#B0BEC5",
                "#B0BEC5",
                "#B0BEC5",
                "#B0BEC5",
                "#B0BEC5",
                "#B0BEC5",
                "#B0BEC5",
                "#B0BEC5",
                "#B0BEC5",
                "#B0BEC5",
                "#B0BEC5",
                "#B0BEC5",
                "#B0BEC5",
                "#B0BEC5",
                "#B0BEC5",
                "#B0BEC5",
                "#B0BEC5",
                "#B0BEC5",
                "#B0BEC5",
                "#B0BEC5",
                "#B0BEC5",
                "#B0BEC5",
                "#B0BEC5",
                "#B0BEC5",
                "#B0BEC5",
                "#B0BEC5",
                "#B0BEC5",
                "#B0BEC5",
                "#B0BEC5",
                "#B0BEC5",
                "#B0BEC5",
                "#B0BEC5",
                "#B0BEC5",
                "#B0BEC5",
                "#B0BEC5",
                "#B0BEC5",
                "#B0BEC5",
                "#B0BEC5",
                "#B0BEC5",
                "#B0BEC5",
                "#B0BEC5"
               ]
              ]
             }
            ],
            "label": "Topic 7",
            "method": "update"
           },
           {
            "args": [
             {
              "marker.color": [
               [
                "#B0BEC5",
                "#B0BEC5",
                "#B0BEC5",
                "#B0BEC5",
                "#B0BEC5",
                "#B0BEC5",
                "#B0BEC5",
                "#B0BEC5",
                "red",
                "#B0BEC5",
                "#B0BEC5",
                "#B0BEC5",
                "#B0BEC5",
                "#B0BEC5",
                "#B0BEC5",
                "#B0BEC5",
                "#B0BEC5",
                "#B0BEC5",
                "#B0BEC5",
                "#B0BEC5",
                "#B0BEC5",
                "#B0BEC5",
                "#B0BEC5",
                "#B0BEC5",
                "#B0BEC5",
                "#B0BEC5",
                "#B0BEC5",
                "#B0BEC5",
                "#B0BEC5",
                "#B0BEC5",
                "#B0BEC5",
                "#B0BEC5",
                "#B0BEC5",
                "#B0BEC5",
                "#B0BEC5",
                "#B0BEC5",
                "#B0BEC5",
                "#B0BEC5",
                "#B0BEC5",
                "#B0BEC5",
                "#B0BEC5",
                "#B0BEC5",
                "#B0BEC5",
                "#B0BEC5",
                "#B0BEC5",
                "#B0BEC5",
                "#B0BEC5",
                "#B0BEC5",
                "#B0BEC5",
                "#B0BEC5",
                "#B0BEC5",
                "#B0BEC5",
                "#B0BEC5",
                "#B0BEC5",
                "#B0BEC5",
                "#B0BEC5",
                "#B0BEC5"
               ]
              ]
             }
            ],
            "label": "Topic 8",
            "method": "update"
           },
           {
            "args": [
             {
              "marker.color": [
               [
                "#B0BEC5",
                "#B0BEC5",
                "#B0BEC5",
                "#B0BEC5",
                "#B0BEC5",
                "#B0BEC5",
                "#B0BEC5",
                "#B0BEC5",
                "#B0BEC5",
                "red",
                "#B0BEC5",
                "#B0BEC5",
                "#B0BEC5",
                "#B0BEC5",
                "#B0BEC5",
                "#B0BEC5",
                "#B0BEC5",
                "#B0BEC5",
                "#B0BEC5",
                "#B0BEC5",
                "#B0BEC5",
                "#B0BEC5",
                "#B0BEC5",
                "#B0BEC5",
                "#B0BEC5",
                "#B0BEC5",
                "#B0BEC5",
                "#B0BEC5",
                "#B0BEC5",
                "#B0BEC5",
                "#B0BEC5",
                "#B0BEC5",
                "#B0BEC5",
                "#B0BEC5",
                "#B0BEC5",
                "#B0BEC5",
                "#B0BEC5",
                "#B0BEC5",
                "#B0BEC5",
                "#B0BEC5",
                "#B0BEC5",
                "#B0BEC5",
                "#B0BEC5",
                "#B0BEC5",
                "#B0BEC5",
                "#B0BEC5",
                "#B0BEC5",
                "#B0BEC5",
                "#B0BEC5",
                "#B0BEC5",
                "#B0BEC5",
                "#B0BEC5",
                "#B0BEC5",
                "#B0BEC5",
                "#B0BEC5",
                "#B0BEC5",
                "#B0BEC5"
               ]
              ]
             }
            ],
            "label": "Topic 9",
            "method": "update"
           },
           {
            "args": [
             {
              "marker.color": [
               [
                "#B0BEC5",
                "#B0BEC5",
                "#B0BEC5",
                "#B0BEC5",
                "#B0BEC5",
                "#B0BEC5",
                "#B0BEC5",
                "#B0BEC5",
                "#B0BEC5",
                "#B0BEC5",
                "red",
                "#B0BEC5",
                "#B0BEC5",
                "#B0BEC5",
                "#B0BEC5",
                "#B0BEC5",
                "#B0BEC5",
                "#B0BEC5",
                "#B0BEC5",
                "#B0BEC5",
                "#B0BEC5",
                "#B0BEC5",
                "#B0BEC5",
                "#B0BEC5",
                "#B0BEC5",
                "#B0BEC5",
                "#B0BEC5",
                "#B0BEC5",
                "#B0BEC5",
                "#B0BEC5",
                "#B0BEC5",
                "#B0BEC5",
                "#B0BEC5",
                "#B0BEC5",
                "#B0BEC5",
                "#B0BEC5",
                "#B0BEC5",
                "#B0BEC5",
                "#B0BEC5",
                "#B0BEC5",
                "#B0BEC5",
                "#B0BEC5",
                "#B0BEC5",
                "#B0BEC5",
                "#B0BEC5",
                "#B0BEC5",
                "#B0BEC5",
                "#B0BEC5",
                "#B0BEC5",
                "#B0BEC5",
                "#B0BEC5",
                "#B0BEC5",
                "#B0BEC5",
                "#B0BEC5",
                "#B0BEC5",
                "#B0BEC5",
                "#B0BEC5"
               ]
              ]
             }
            ],
            "label": "Topic 10",
            "method": "update"
           },
           {
            "args": [
             {
              "marker.color": [
               [
                "#B0BEC5",
                "#B0BEC5",
                "#B0BEC5",
                "#B0BEC5",
                "#B0BEC5",
                "#B0BEC5",
                "#B0BEC5",
                "#B0BEC5",
                "#B0BEC5",
                "#B0BEC5",
                "#B0BEC5",
                "red",
                "#B0BEC5",
                "#B0BEC5",
                "#B0BEC5",
                "#B0BEC5",
                "#B0BEC5",
                "#B0BEC5",
                "#B0BEC5",
                "#B0BEC5",
                "#B0BEC5",
                "#B0BEC5",
                "#B0BEC5",
                "#B0BEC5",
                "#B0BEC5",
                "#B0BEC5",
                "#B0BEC5",
                "#B0BEC5",
                "#B0BEC5",
                "#B0BEC5",
                "#B0BEC5",
                "#B0BEC5",
                "#B0BEC5",
                "#B0BEC5",
                "#B0BEC5",
                "#B0BEC5",
                "#B0BEC5",
                "#B0BEC5",
                "#B0BEC5",
                "#B0BEC5",
                "#B0BEC5",
                "#B0BEC5",
                "#B0BEC5",
                "#B0BEC5",
                "#B0BEC5",
                "#B0BEC5",
                "#B0BEC5",
                "#B0BEC5",
                "#B0BEC5",
                "#B0BEC5",
                "#B0BEC5",
                "#B0BEC5",
                "#B0BEC5",
                "#B0BEC5",
                "#B0BEC5",
                "#B0BEC5",
                "#B0BEC5"
               ]
              ]
             }
            ],
            "label": "Topic 11",
            "method": "update"
           },
           {
            "args": [
             {
              "marker.color": [
               [
                "#B0BEC5",
                "#B0BEC5",
                "#B0BEC5",
                "#B0BEC5",
                "#B0BEC5",
                "#B0BEC5",
                "#B0BEC5",
                "#B0BEC5",
                "#B0BEC5",
                "#B0BEC5",
                "#B0BEC5",
                "#B0BEC5",
                "red",
                "#B0BEC5",
                "#B0BEC5",
                "#B0BEC5",
                "#B0BEC5",
                "#B0BEC5",
                "#B0BEC5",
                "#B0BEC5",
                "#B0BEC5",
                "#B0BEC5",
                "#B0BEC5",
                "#B0BEC5",
                "#B0BEC5",
                "#B0BEC5",
                "#B0BEC5",
                "#B0BEC5",
                "#B0BEC5",
                "#B0BEC5",
                "#B0BEC5",
                "#B0BEC5",
                "#B0BEC5",
                "#B0BEC5",
                "#B0BEC5",
                "#B0BEC5",
                "#B0BEC5",
                "#B0BEC5",
                "#B0BEC5",
                "#B0BEC5",
                "#B0BEC5",
                "#B0BEC5",
                "#B0BEC5",
                "#B0BEC5",
                "#B0BEC5",
                "#B0BEC5",
                "#B0BEC5",
                "#B0BEC5",
                "#B0BEC5",
                "#B0BEC5",
                "#B0BEC5",
                "#B0BEC5",
                "#B0BEC5",
                "#B0BEC5",
                "#B0BEC5",
                "#B0BEC5",
                "#B0BEC5"
               ]
              ]
             }
            ],
            "label": "Topic 12",
            "method": "update"
           },
           {
            "args": [
             {
              "marker.color": [
               [
                "#B0BEC5",
                "#B0BEC5",
                "#B0BEC5",
                "#B0BEC5",
                "#B0BEC5",
                "#B0BEC5",
                "#B0BEC5",
                "#B0BEC5",
                "#B0BEC5",
                "#B0BEC5",
                "#B0BEC5",
                "#B0BEC5",
                "#B0BEC5",
                "red",
                "#B0BEC5",
                "#B0BEC5",
                "#B0BEC5",
                "#B0BEC5",
                "#B0BEC5",
                "#B0BEC5",
                "#B0BEC5",
                "#B0BEC5",
                "#B0BEC5",
                "#B0BEC5",
                "#B0BEC5",
                "#B0BEC5",
                "#B0BEC5",
                "#B0BEC5",
                "#B0BEC5",
                "#B0BEC5",
                "#B0BEC5",
                "#B0BEC5",
                "#B0BEC5",
                "#B0BEC5",
                "#B0BEC5",
                "#B0BEC5",
                "#B0BEC5",
                "#B0BEC5",
                "#B0BEC5",
                "#B0BEC5",
                "#B0BEC5",
                "#B0BEC5",
                "#B0BEC5",
                "#B0BEC5",
                "#B0BEC5",
                "#B0BEC5",
                "#B0BEC5",
                "#B0BEC5",
                "#B0BEC5",
                "#B0BEC5",
                "#B0BEC5",
                "#B0BEC5",
                "#B0BEC5",
                "#B0BEC5",
                "#B0BEC5",
                "#B0BEC5",
                "#B0BEC5"
               ]
              ]
             }
            ],
            "label": "Topic 13",
            "method": "update"
           },
           {
            "args": [
             {
              "marker.color": [
               [
                "#B0BEC5",
                "#B0BEC5",
                "#B0BEC5",
                "#B0BEC5",
                "#B0BEC5",
                "#B0BEC5",
                "#B0BEC5",
                "#B0BEC5",
                "#B0BEC5",
                "#B0BEC5",
                "#B0BEC5",
                "#B0BEC5",
                "#B0BEC5",
                "#B0BEC5",
                "red",
                "#B0BEC5",
                "#B0BEC5",
                "#B0BEC5",
                "#B0BEC5",
                "#B0BEC5",
                "#B0BEC5",
                "#B0BEC5",
                "#B0BEC5",
                "#B0BEC5",
                "#B0BEC5",
                "#B0BEC5",
                "#B0BEC5",
                "#B0BEC5",
                "#B0BEC5",
                "#B0BEC5",
                "#B0BEC5",
                "#B0BEC5",
                "#B0BEC5",
                "#B0BEC5",
                "#B0BEC5",
                "#B0BEC5",
                "#B0BEC5",
                "#B0BEC5",
                "#B0BEC5",
                "#B0BEC5",
                "#B0BEC5",
                "#B0BEC5",
                "#B0BEC5",
                "#B0BEC5",
                "#B0BEC5",
                "#B0BEC5",
                "#B0BEC5",
                "#B0BEC5",
                "#B0BEC5",
                "#B0BEC5",
                "#B0BEC5",
                "#B0BEC5",
                "#B0BEC5",
                "#B0BEC5",
                "#B0BEC5",
                "#B0BEC5",
                "#B0BEC5"
               ]
              ]
             }
            ],
            "label": "Topic 14",
            "method": "update"
           },
           {
            "args": [
             {
              "marker.color": [
               [
                "#B0BEC5",
                "#B0BEC5",
                "#B0BEC5",
                "#B0BEC5",
                "#B0BEC5",
                "#B0BEC5",
                "#B0BEC5",
                "#B0BEC5",
                "#B0BEC5",
                "#B0BEC5",
                "#B0BEC5",
                "#B0BEC5",
                "#B0BEC5",
                "#B0BEC5",
                "#B0BEC5",
                "red",
                "#B0BEC5",
                "#B0BEC5",
                "#B0BEC5",
                "#B0BEC5",
                "#B0BEC5",
                "#B0BEC5",
                "#B0BEC5",
                "#B0BEC5",
                "#B0BEC5",
                "#B0BEC5",
                "#B0BEC5",
                "#B0BEC5",
                "#B0BEC5",
                "#B0BEC5",
                "#B0BEC5",
                "#B0BEC5",
                "#B0BEC5",
                "#B0BEC5",
                "#B0BEC5",
                "#B0BEC5",
                "#B0BEC5",
                "#B0BEC5",
                "#B0BEC5",
                "#B0BEC5",
                "#B0BEC5",
                "#B0BEC5",
                "#B0BEC5",
                "#B0BEC5",
                "#B0BEC5",
                "#B0BEC5",
                "#B0BEC5",
                "#B0BEC5",
                "#B0BEC5",
                "#B0BEC5",
                "#B0BEC5",
                "#B0BEC5",
                "#B0BEC5",
                "#B0BEC5",
                "#B0BEC5",
                "#B0BEC5",
                "#B0BEC5"
               ]
              ]
             }
            ],
            "label": "Topic 15",
            "method": "update"
           },
           {
            "args": [
             {
              "marker.color": [
               [
                "#B0BEC5",
                "#B0BEC5",
                "#B0BEC5",
                "#B0BEC5",
                "#B0BEC5",
                "#B0BEC5",
                "#B0BEC5",
                "#B0BEC5",
                "#B0BEC5",
                "#B0BEC5",
                "#B0BEC5",
                "#B0BEC5",
                "#B0BEC5",
                "#B0BEC5",
                "#B0BEC5",
                "#B0BEC5",
                "red",
                "#B0BEC5",
                "#B0BEC5",
                "#B0BEC5",
                "#B0BEC5",
                "#B0BEC5",
                "#B0BEC5",
                "#B0BEC5",
                "#B0BEC5",
                "#B0BEC5",
                "#B0BEC5",
                "#B0BEC5",
                "#B0BEC5",
                "#B0BEC5",
                "#B0BEC5",
                "#B0BEC5",
                "#B0BEC5",
                "#B0BEC5",
                "#B0BEC5",
                "#B0BEC5",
                "#B0BEC5",
                "#B0BEC5",
                "#B0BEC5",
                "#B0BEC5",
                "#B0BEC5",
                "#B0BEC5",
                "#B0BEC5",
                "#B0BEC5",
                "#B0BEC5",
                "#B0BEC5",
                "#B0BEC5",
                "#B0BEC5",
                "#B0BEC5",
                "#B0BEC5",
                "#B0BEC5",
                "#B0BEC5",
                "#B0BEC5",
                "#B0BEC5",
                "#B0BEC5",
                "#B0BEC5",
                "#B0BEC5"
               ]
              ]
             }
            ],
            "label": "Topic 16",
            "method": "update"
           },
           {
            "args": [
             {
              "marker.color": [
               [
                "#B0BEC5",
                "#B0BEC5",
                "#B0BEC5",
                "#B0BEC5",
                "#B0BEC5",
                "#B0BEC5",
                "#B0BEC5",
                "#B0BEC5",
                "#B0BEC5",
                "#B0BEC5",
                "#B0BEC5",
                "#B0BEC5",
                "#B0BEC5",
                "#B0BEC5",
                "#B0BEC5",
                "#B0BEC5",
                "#B0BEC5",
                "red",
                "#B0BEC5",
                "#B0BEC5",
                "#B0BEC5",
                "#B0BEC5",
                "#B0BEC5",
                "#B0BEC5",
                "#B0BEC5",
                "#B0BEC5",
                "#B0BEC5",
                "#B0BEC5",
                "#B0BEC5",
                "#B0BEC5",
                "#B0BEC5",
                "#B0BEC5",
                "#B0BEC5",
                "#B0BEC5",
                "#B0BEC5",
                "#B0BEC5",
                "#B0BEC5",
                "#B0BEC5",
                "#B0BEC5",
                "#B0BEC5",
                "#B0BEC5",
                "#B0BEC5",
                "#B0BEC5",
                "#B0BEC5",
                "#B0BEC5",
                "#B0BEC5",
                "#B0BEC5",
                "#B0BEC5",
                "#B0BEC5",
                "#B0BEC5",
                "#B0BEC5",
                "#B0BEC5",
                "#B0BEC5",
                "#B0BEC5",
                "#B0BEC5",
                "#B0BEC5",
                "#B0BEC5"
               ]
              ]
             }
            ],
            "label": "Topic 17",
            "method": "update"
           },
           {
            "args": [
             {
              "marker.color": [
               [
                "#B0BEC5",
                "#B0BEC5",
                "#B0BEC5",
                "#B0BEC5",
                "#B0BEC5",
                "#B0BEC5",
                "#B0BEC5",
                "#B0BEC5",
                "#B0BEC5",
                "#B0BEC5",
                "#B0BEC5",
                "#B0BEC5",
                "#B0BEC5",
                "#B0BEC5",
                "#B0BEC5",
                "#B0BEC5",
                "#B0BEC5",
                "#B0BEC5",
                "red",
                "#B0BEC5",
                "#B0BEC5",
                "#B0BEC5",
                "#B0BEC5",
                "#B0BEC5",
                "#B0BEC5",
                "#B0BEC5",
                "#B0BEC5",
                "#B0BEC5",
                "#B0BEC5",
                "#B0BEC5",
                "#B0BEC5",
                "#B0BEC5",
                "#B0BEC5",
                "#B0BEC5",
                "#B0BEC5",
                "#B0BEC5",
                "#B0BEC5",
                "#B0BEC5",
                "#B0BEC5",
                "#B0BEC5",
                "#B0BEC5",
                "#B0BEC5",
                "#B0BEC5",
                "#B0BEC5",
                "#B0BEC5",
                "#B0BEC5",
                "#B0BEC5",
                "#B0BEC5",
                "#B0BEC5",
                "#B0BEC5",
                "#B0BEC5",
                "#B0BEC5",
                "#B0BEC5",
                "#B0BEC5",
                "#B0BEC5",
                "#B0BEC5",
                "#B0BEC5"
               ]
              ]
             }
            ],
            "label": "Topic 18",
            "method": "update"
           },
           {
            "args": [
             {
              "marker.color": [
               [
                "#B0BEC5",
                "#B0BEC5",
                "#B0BEC5",
                "#B0BEC5",
                "#B0BEC5",
                "#B0BEC5",
                "#B0BEC5",
                "#B0BEC5",
                "#B0BEC5",
                "#B0BEC5",
                "#B0BEC5",
                "#B0BEC5",
                "#B0BEC5",
                "#B0BEC5",
                "#B0BEC5",
                "#B0BEC5",
                "#B0BEC5",
                "#B0BEC5",
                "#B0BEC5",
                "red",
                "#B0BEC5",
                "#B0BEC5",
                "#B0BEC5",
                "#B0BEC5",
                "#B0BEC5",
                "#B0BEC5",
                "#B0BEC5",
                "#B0BEC5",
                "#B0BEC5",
                "#B0BEC5",
                "#B0BEC5",
                "#B0BEC5",
                "#B0BEC5",
                "#B0BEC5",
                "#B0BEC5",
                "#B0BEC5",
                "#B0BEC5",
                "#B0BEC5",
                "#B0BEC5",
                "#B0BEC5",
                "#B0BEC5",
                "#B0BEC5",
                "#B0BEC5",
                "#B0BEC5",
                "#B0BEC5",
                "#B0BEC5",
                "#B0BEC5",
                "#B0BEC5",
                "#B0BEC5",
                "#B0BEC5",
                "#B0BEC5",
                "#B0BEC5",
                "#B0BEC5",
                "#B0BEC5",
                "#B0BEC5",
                "#B0BEC5",
                "#B0BEC5"
               ]
              ]
             }
            ],
            "label": "Topic 19",
            "method": "update"
           },
           {
            "args": [
             {
              "marker.color": [
               [
                "#B0BEC5",
                "#B0BEC5",
                "#B0BEC5",
                "#B0BEC5",
                "#B0BEC5",
                "#B0BEC5",
                "#B0BEC5",
                "#B0BEC5",
                "#B0BEC5",
                "#B0BEC5",
                "#B0BEC5",
                "#B0BEC5",
                "#B0BEC5",
                "#B0BEC5",
                "#B0BEC5",
                "#B0BEC5",
                "#B0BEC5",
                "#B0BEC5",
                "#B0BEC5",
                "#B0BEC5",
                "red",
                "#B0BEC5",
                "#B0BEC5",
                "#B0BEC5",
                "#B0BEC5",
                "#B0BEC5",
                "#B0BEC5",
                "#B0BEC5",
                "#B0BEC5",
                "#B0BEC5",
                "#B0BEC5",
                "#B0BEC5",
                "#B0BEC5",
                "#B0BEC5",
                "#B0BEC5",
                "#B0BEC5",
                "#B0BEC5",
                "#B0BEC5",
                "#B0BEC5",
                "#B0BEC5",
                "#B0BEC5",
                "#B0BEC5",
                "#B0BEC5",
                "#B0BEC5",
                "#B0BEC5",
                "#B0BEC5",
                "#B0BEC5",
                "#B0BEC5",
                "#B0BEC5",
                "#B0BEC5",
                "#B0BEC5",
                "#B0BEC5",
                "#B0BEC5",
                "#B0BEC5",
                "#B0BEC5",
                "#B0BEC5",
                "#B0BEC5"
               ]
              ]
             }
            ],
            "label": "Topic 20",
            "method": "update"
           },
           {
            "args": [
             {
              "marker.color": [
               [
                "#B0BEC5",
                "#B0BEC5",
                "#B0BEC5",
                "#B0BEC5",
                "#B0BEC5",
                "#B0BEC5",
                "#B0BEC5",
                "#B0BEC5",
                "#B0BEC5",
                "#B0BEC5",
                "#B0BEC5",
                "#B0BEC5",
                "#B0BEC5",
                "#B0BEC5",
                "#B0BEC5",
                "#B0BEC5",
                "#B0BEC5",
                "#B0BEC5",
                "#B0BEC5",
                "#B0BEC5",
                "#B0BEC5",
                "red",
                "#B0BEC5",
                "#B0BEC5",
                "#B0BEC5",
                "#B0BEC5",
                "#B0BEC5",
                "#B0BEC5",
                "#B0BEC5",
                "#B0BEC5",
                "#B0BEC5",
                "#B0BEC5",
                "#B0BEC5",
                "#B0BEC5",
                "#B0BEC5",
                "#B0BEC5",
                "#B0BEC5",
                "#B0BEC5",
                "#B0BEC5",
                "#B0BEC5",
                "#B0BEC5",
                "#B0BEC5",
                "#B0BEC5",
                "#B0BEC5",
                "#B0BEC5",
                "#B0BEC5",
                "#B0BEC5",
                "#B0BEC5",
                "#B0BEC5",
                "#B0BEC5",
                "#B0BEC5",
                "#B0BEC5",
                "#B0BEC5",
                "#B0BEC5",
                "#B0BEC5",
                "#B0BEC5",
                "#B0BEC5"
               ]
              ]
             }
            ],
            "label": "Topic 21",
            "method": "update"
           },
           {
            "args": [
             {
              "marker.color": [
               [
                "#B0BEC5",
                "#B0BEC5",
                "#B0BEC5",
                "#B0BEC5",
                "#B0BEC5",
                "#B0BEC5",
                "#B0BEC5",
                "#B0BEC5",
                "#B0BEC5",
                "#B0BEC5",
                "#B0BEC5",
                "#B0BEC5",
                "#B0BEC5",
                "#B0BEC5",
                "#B0BEC5",
                "#B0BEC5",
                "#B0BEC5",
                "#B0BEC5",
                "#B0BEC5",
                "#B0BEC5",
                "#B0BEC5",
                "#B0BEC5",
                "red",
                "#B0BEC5",
                "#B0BEC5",
                "#B0BEC5",
                "#B0BEC5",
                "#B0BEC5",
                "#B0BEC5",
                "#B0BEC5",
                "#B0BEC5",
                "#B0BEC5",
                "#B0BEC5",
                "#B0BEC5",
                "#B0BEC5",
                "#B0BEC5",
                "#B0BEC5",
                "#B0BEC5",
                "#B0BEC5",
                "#B0BEC5",
                "#B0BEC5",
                "#B0BEC5",
                "#B0BEC5",
                "#B0BEC5",
                "#B0BEC5",
                "#B0BEC5",
                "#B0BEC5",
                "#B0BEC5",
                "#B0BEC5",
                "#B0BEC5",
                "#B0BEC5",
                "#B0BEC5",
                "#B0BEC5",
                "#B0BEC5",
                "#B0BEC5",
                "#B0BEC5",
                "#B0BEC5"
               ]
              ]
             }
            ],
            "label": "Topic 22",
            "method": "update"
           },
           {
            "args": [
             {
              "marker.color": [
               [
                "#B0BEC5",
                "#B0BEC5",
                "#B0BEC5",
                "#B0BEC5",
                "#B0BEC5",
                "#B0BEC5",
                "#B0BEC5",
                "#B0BEC5",
                "#B0BEC5",
                "#B0BEC5",
                "#B0BEC5",
                "#B0BEC5",
                "#B0BEC5",
                "#B0BEC5",
                "#B0BEC5",
                "#B0BEC5",
                "#B0BEC5",
                "#B0BEC5",
                "#B0BEC5",
                "#B0BEC5",
                "#B0BEC5",
                "#B0BEC5",
                "#B0BEC5",
                "red",
                "#B0BEC5",
                "#B0BEC5",
                "#B0BEC5",
                "#B0BEC5",
                "#B0BEC5",
                "#B0BEC5",
                "#B0BEC5",
                "#B0BEC5",
                "#B0BEC5",
                "#B0BEC5",
                "#B0BEC5",
                "#B0BEC5",
                "#B0BEC5",
                "#B0BEC5",
                "#B0BEC5",
                "#B0BEC5",
                "#B0BEC5",
                "#B0BEC5",
                "#B0BEC5",
                "#B0BEC5",
                "#B0BEC5",
                "#B0BEC5",
                "#B0BEC5",
                "#B0BEC5",
                "#B0BEC5",
                "#B0BEC5",
                "#B0BEC5",
                "#B0BEC5",
                "#B0BEC5",
                "#B0BEC5",
                "#B0BEC5",
                "#B0BEC5",
                "#B0BEC5"
               ]
              ]
             }
            ],
            "label": "Topic 23",
            "method": "update"
           },
           {
            "args": [
             {
              "marker.color": [
               [
                "#B0BEC5",
                "#B0BEC5",
                "#B0BEC5",
                "#B0BEC5",
                "#B0BEC5",
                "#B0BEC5",
                "#B0BEC5",
                "#B0BEC5",
                "#B0BEC5",
                "#B0BEC5",
                "#B0BEC5",
                "#B0BEC5",
                "#B0BEC5",
                "#B0BEC5",
                "#B0BEC5",
                "#B0BEC5",
                "#B0BEC5",
                "#B0BEC5",
                "#B0BEC5",
                "#B0BEC5",
                "#B0BEC5",
                "#B0BEC5",
                "#B0BEC5",
                "#B0BEC5",
                "red",
                "#B0BEC5",
                "#B0BEC5",
                "#B0BEC5",
                "#B0BEC5",
                "#B0BEC5",
                "#B0BEC5",
                "#B0BEC5",
                "#B0BEC5",
                "#B0BEC5",
                "#B0BEC5",
                "#B0BEC5",
                "#B0BEC5",
                "#B0BEC5",
                "#B0BEC5",
                "#B0BEC5",
                "#B0BEC5",
                "#B0BEC5",
                "#B0BEC5",
                "#B0BEC5",
                "#B0BEC5",
                "#B0BEC5",
                "#B0BEC5",
                "#B0BEC5",
                "#B0BEC5",
                "#B0BEC5",
                "#B0BEC5",
                "#B0BEC5",
                "#B0BEC5",
                "#B0BEC5",
                "#B0BEC5",
                "#B0BEC5",
                "#B0BEC5"
               ]
              ]
             }
            ],
            "label": "Topic 24",
            "method": "update"
           },
           {
            "args": [
             {
              "marker.color": [
               [
                "#B0BEC5",
                "#B0BEC5",
                "#B0BEC5",
                "#B0BEC5",
                "#B0BEC5",
                "#B0BEC5",
                "#B0BEC5",
                "#B0BEC5",
                "#B0BEC5",
                "#B0BEC5",
                "#B0BEC5",
                "#B0BEC5",
                "#B0BEC5",
                "#B0BEC5",
                "#B0BEC5",
                "#B0BEC5",
                "#B0BEC5",
                "#B0BEC5",
                "#B0BEC5",
                "#B0BEC5",
                "#B0BEC5",
                "#B0BEC5",
                "#B0BEC5",
                "#B0BEC5",
                "#B0BEC5",
                "red",
                "#B0BEC5",
                "#B0BEC5",
                "#B0BEC5",
                "#B0BEC5",
                "#B0BEC5",
                "#B0BEC5",
                "#B0BEC5",
                "#B0BEC5",
                "#B0BEC5",
                "#B0BEC5",
                "#B0BEC5",
                "#B0BEC5",
                "#B0BEC5",
                "#B0BEC5",
                "#B0BEC5",
                "#B0BEC5",
                "#B0BEC5",
                "#B0BEC5",
                "#B0BEC5",
                "#B0BEC5",
                "#B0BEC5",
                "#B0BEC5",
                "#B0BEC5",
                "#B0BEC5",
                "#B0BEC5",
                "#B0BEC5",
                "#B0BEC5",
                "#B0BEC5",
                "#B0BEC5",
                "#B0BEC5",
                "#B0BEC5"
               ]
              ]
             }
            ],
            "label": "Topic 25",
            "method": "update"
           },
           {
            "args": [
             {
              "marker.color": [
               [
                "#B0BEC5",
                "#B0BEC5",
                "#B0BEC5",
                "#B0BEC5",
                "#B0BEC5",
                "#B0BEC5",
                "#B0BEC5",
                "#B0BEC5",
                "#B0BEC5",
                "#B0BEC5",
                "#B0BEC5",
                "#B0BEC5",
                "#B0BEC5",
                "#B0BEC5",
                "#B0BEC5",
                "#B0BEC5",
                "#B0BEC5",
                "#B0BEC5",
                "#B0BEC5",
                "#B0BEC5",
                "#B0BEC5",
                "#B0BEC5",
                "#B0BEC5",
                "#B0BEC5",
                "#B0BEC5",
                "#B0BEC5",
                "red",
                "#B0BEC5",
                "#B0BEC5",
                "#B0BEC5",
                "#B0BEC5",
                "#B0BEC5",
                "#B0BEC5",
                "#B0BEC5",
                "#B0BEC5",
                "#B0BEC5",
                "#B0BEC5",
                "#B0BEC5",
                "#B0BEC5",
                "#B0BEC5",
                "#B0BEC5",
                "#B0BEC5",
                "#B0BEC5",
                "#B0BEC5",
                "#B0BEC5",
                "#B0BEC5",
                "#B0BEC5",
                "#B0BEC5",
                "#B0BEC5",
                "#B0BEC5",
                "#B0BEC5",
                "#B0BEC5",
                "#B0BEC5",
                "#B0BEC5",
                "#B0BEC5",
                "#B0BEC5",
                "#B0BEC5"
               ]
              ]
             }
            ],
            "label": "Topic 26",
            "method": "update"
           },
           {
            "args": [
             {
              "marker.color": [
               [
                "#B0BEC5",
                "#B0BEC5",
                "#B0BEC5",
                "#B0BEC5",
                "#B0BEC5",
                "#B0BEC5",
                "#B0BEC5",
                "#B0BEC5",
                "#B0BEC5",
                "#B0BEC5",
                "#B0BEC5",
                "#B0BEC5",
                "#B0BEC5",
                "#B0BEC5",
                "#B0BEC5",
                "#B0BEC5",
                "#B0BEC5",
                "#B0BEC5",
                "#B0BEC5",
                "#B0BEC5",
                "#B0BEC5",
                "#B0BEC5",
                "#B0BEC5",
                "#B0BEC5",
                "#B0BEC5",
                "#B0BEC5",
                "#B0BEC5",
                "red",
                "#B0BEC5",
                "#B0BEC5",
                "#B0BEC5",
                "#B0BEC5",
                "#B0BEC5",
                "#B0BEC5",
                "#B0BEC5",
                "#B0BEC5",
                "#B0BEC5",
                "#B0BEC5",
                "#B0BEC5",
                "#B0BEC5",
                "#B0BEC5",
                "#B0BEC5",
                "#B0BEC5",
                "#B0BEC5",
                "#B0BEC5",
                "#B0BEC5",
                "#B0BEC5",
                "#B0BEC5",
                "#B0BEC5",
                "#B0BEC5",
                "#B0BEC5",
                "#B0BEC5",
                "#B0BEC5",
                "#B0BEC5",
                "#B0BEC5",
                "#B0BEC5",
                "#B0BEC5"
               ]
              ]
             }
            ],
            "label": "Topic 27",
            "method": "update"
           },
           {
            "args": [
             {
              "marker.color": [
               [
                "#B0BEC5",
                "#B0BEC5",
                "#B0BEC5",
                "#B0BEC5",
                "#B0BEC5",
                "#B0BEC5",
                "#B0BEC5",
                "#B0BEC5",
                "#B0BEC5",
                "#B0BEC5",
                "#B0BEC5",
                "#B0BEC5",
                "#B0BEC5",
                "#B0BEC5",
                "#B0BEC5",
                "#B0BEC5",
                "#B0BEC5",
                "#B0BEC5",
                "#B0BEC5",
                "#B0BEC5",
                "#B0BEC5",
                "#B0BEC5",
                "#B0BEC5",
                "#B0BEC5",
                "#B0BEC5",
                "#B0BEC5",
                "#B0BEC5",
                "#B0BEC5",
                "red",
                "#B0BEC5",
                "#B0BEC5",
                "#B0BEC5",
                "#B0BEC5",
                "#B0BEC5",
                "#B0BEC5",
                "#B0BEC5",
                "#B0BEC5",
                "#B0BEC5",
                "#B0BEC5",
                "#B0BEC5",
                "#B0BEC5",
                "#B0BEC5",
                "#B0BEC5",
                "#B0BEC5",
                "#B0BEC5",
                "#B0BEC5",
                "#B0BEC5",
                "#B0BEC5",
                "#B0BEC5",
                "#B0BEC5",
                "#B0BEC5",
                "#B0BEC5",
                "#B0BEC5",
                "#B0BEC5",
                "#B0BEC5",
                "#B0BEC5",
                "#B0BEC5"
               ]
              ]
             }
            ],
            "label": "Topic 28",
            "method": "update"
           },
           {
            "args": [
             {
              "marker.color": [
               [
                "#B0BEC5",
                "#B0BEC5",
                "#B0BEC5",
                "#B0BEC5",
                "#B0BEC5",
                "#B0BEC5",
                "#B0BEC5",
                "#B0BEC5",
                "#B0BEC5",
                "#B0BEC5",
                "#B0BEC5",
                "#B0BEC5",
                "#B0BEC5",
                "#B0BEC5",
                "#B0BEC5",
                "#B0BEC5",
                "#B0BEC5",
                "#B0BEC5",
                "#B0BEC5",
                "#B0BEC5",
                "#B0BEC5",
                "#B0BEC5",
                "#B0BEC5",
                "#B0BEC5",
                "#B0BEC5",
                "#B0BEC5",
                "#B0BEC5",
                "#B0BEC5",
                "#B0BEC5",
                "red",
                "#B0BEC5",
                "#B0BEC5",
                "#B0BEC5",
                "#B0BEC5",
                "#B0BEC5",
                "#B0BEC5",
                "#B0BEC5",
                "#B0BEC5",
                "#B0BEC5",
                "#B0BEC5",
                "#B0BEC5",
                "#B0BEC5",
                "#B0BEC5",
                "#B0BEC5",
                "#B0BEC5",
                "#B0BEC5",
                "#B0BEC5",
                "#B0BEC5",
                "#B0BEC5",
                "#B0BEC5",
                "#B0BEC5",
                "#B0BEC5",
                "#B0BEC5",
                "#B0BEC5",
                "#B0BEC5",
                "#B0BEC5",
                "#B0BEC5"
               ]
              ]
             }
            ],
            "label": "Topic 29",
            "method": "update"
           },
           {
            "args": [
             {
              "marker.color": [
               [
                "#B0BEC5",
                "#B0BEC5",
                "#B0BEC5",
                "#B0BEC5",
                "#B0BEC5",
                "#B0BEC5",
                "#B0BEC5",
                "#B0BEC5",
                "#B0BEC5",
                "#B0BEC5",
                "#B0BEC5",
                "#B0BEC5",
                "#B0BEC5",
                "#B0BEC5",
                "#B0BEC5",
                "#B0BEC5",
                "#B0BEC5",
                "#B0BEC5",
                "#B0BEC5",
                "#B0BEC5",
                "#B0BEC5",
                "#B0BEC5",
                "#B0BEC5",
                "#B0BEC5",
                "#B0BEC5",
                "#B0BEC5",
                "#B0BEC5",
                "#B0BEC5",
                "#B0BEC5",
                "#B0BEC5",
                "red",
                "#B0BEC5",
                "#B0BEC5",
                "#B0BEC5",
                "#B0BEC5",
                "#B0BEC5",
                "#B0BEC5",
                "#B0BEC5",
                "#B0BEC5",
                "#B0BEC5",
                "#B0BEC5",
                "#B0BEC5",
                "#B0BEC5",
                "#B0BEC5",
                "#B0BEC5",
                "#B0BEC5",
                "#B0BEC5",
                "#B0BEC5",
                "#B0BEC5",
                "#B0BEC5",
                "#B0BEC5",
                "#B0BEC5",
                "#B0BEC5",
                "#B0BEC5",
                "#B0BEC5",
                "#B0BEC5",
                "#B0BEC5"
               ]
              ]
             }
            ],
            "label": "Topic 30",
            "method": "update"
           },
           {
            "args": [
             {
              "marker.color": [
               [
                "#B0BEC5",
                "#B0BEC5",
                "#B0BEC5",
                "#B0BEC5",
                "#B0BEC5",
                "#B0BEC5",
                "#B0BEC5",
                "#B0BEC5",
                "#B0BEC5",
                "#B0BEC5",
                "#B0BEC5",
                "#B0BEC5",
                "#B0BEC5",
                "#B0BEC5",
                "#B0BEC5",
                "#B0BEC5",
                "#B0BEC5",
                "#B0BEC5",
                "#B0BEC5",
                "#B0BEC5",
                "#B0BEC5",
                "#B0BEC5",
                "#B0BEC5",
                "#B0BEC5",
                "#B0BEC5",
                "#B0BEC5",
                "#B0BEC5",
                "#B0BEC5",
                "#B0BEC5",
                "#B0BEC5",
                "#B0BEC5",
                "red",
                "#B0BEC5",
                "#B0BEC5",
                "#B0BEC5",
                "#B0BEC5",
                "#B0BEC5",
                "#B0BEC5",
                "#B0BEC5",
                "#B0BEC5",
                "#B0BEC5",
                "#B0BEC5",
                "#B0BEC5",
                "#B0BEC5",
                "#B0BEC5",
                "#B0BEC5",
                "#B0BEC5",
                "#B0BEC5",
                "#B0BEC5",
                "#B0BEC5",
                "#B0BEC5",
                "#B0BEC5",
                "#B0BEC5",
                "#B0BEC5",
                "#B0BEC5",
                "#B0BEC5",
                "#B0BEC5"
               ]
              ]
             }
            ],
            "label": "Topic 31",
            "method": "update"
           },
           {
            "args": [
             {
              "marker.color": [
               [
                "#B0BEC5",
                "#B0BEC5",
                "#B0BEC5",
                "#B0BEC5",
                "#B0BEC5",
                "#B0BEC5",
                "#B0BEC5",
                "#B0BEC5",
                "#B0BEC5",
                "#B0BEC5",
                "#B0BEC5",
                "#B0BEC5",
                "#B0BEC5",
                "#B0BEC5",
                "#B0BEC5",
                "#B0BEC5",
                "#B0BEC5",
                "#B0BEC5",
                "#B0BEC5",
                "#B0BEC5",
                "#B0BEC5",
                "#B0BEC5",
                "#B0BEC5",
                "#B0BEC5",
                "#B0BEC5",
                "#B0BEC5",
                "#B0BEC5",
                "#B0BEC5",
                "#B0BEC5",
                "#B0BEC5",
                "#B0BEC5",
                "#B0BEC5",
                "red",
                "#B0BEC5",
                "#B0BEC5",
                "#B0BEC5",
                "#B0BEC5",
                "#B0BEC5",
                "#B0BEC5",
                "#B0BEC5",
                "#B0BEC5",
                "#B0BEC5",
                "#B0BEC5",
                "#B0BEC5",
                "#B0BEC5",
                "#B0BEC5",
                "#B0BEC5",
                "#B0BEC5",
                "#B0BEC5",
                "#B0BEC5",
                "#B0BEC5",
                "#B0BEC5",
                "#B0BEC5",
                "#B0BEC5",
                "#B0BEC5",
                "#B0BEC5",
                "#B0BEC5"
               ]
              ]
             }
            ],
            "label": "Topic 32",
            "method": "update"
           },
           {
            "args": [
             {
              "marker.color": [
               [
                "#B0BEC5",
                "#B0BEC5",
                "#B0BEC5",
                "#B0BEC5",
                "#B0BEC5",
                "#B0BEC5",
                "#B0BEC5",
                "#B0BEC5",
                "#B0BEC5",
                "#B0BEC5",
                "#B0BEC5",
                "#B0BEC5",
                "#B0BEC5",
                "#B0BEC5",
                "#B0BEC5",
                "#B0BEC5",
                "#B0BEC5",
                "#B0BEC5",
                "#B0BEC5",
                "#B0BEC5",
                "#B0BEC5",
                "#B0BEC5",
                "#B0BEC5",
                "#B0BEC5",
                "#B0BEC5",
                "#B0BEC5",
                "#B0BEC5",
                "#B0BEC5",
                "#B0BEC5",
                "#B0BEC5",
                "#B0BEC5",
                "#B0BEC5",
                "#B0BEC5",
                "red",
                "#B0BEC5",
                "#B0BEC5",
                "#B0BEC5",
                "#B0BEC5",
                "#B0BEC5",
                "#B0BEC5",
                "#B0BEC5",
                "#B0BEC5",
                "#B0BEC5",
                "#B0BEC5",
                "#B0BEC5",
                "#B0BEC5",
                "#B0BEC5",
                "#B0BEC5",
                "#B0BEC5",
                "#B0BEC5",
                "#B0BEC5",
                "#B0BEC5",
                "#B0BEC5",
                "#B0BEC5",
                "#B0BEC5",
                "#B0BEC5",
                "#B0BEC5"
               ]
              ]
             }
            ],
            "label": "Topic 33",
            "method": "update"
           },
           {
            "args": [
             {
              "marker.color": [
               [
                "#B0BEC5",
                "#B0BEC5",
                "#B0BEC5",
                "#B0BEC5",
                "#B0BEC5",
                "#B0BEC5",
                "#B0BEC5",
                "#B0BEC5",
                "#B0BEC5",
                "#B0BEC5",
                "#B0BEC5",
                "#B0BEC5",
                "#B0BEC5",
                "#B0BEC5",
                "#B0BEC5",
                "#B0BEC5",
                "#B0BEC5",
                "#B0BEC5",
                "#B0BEC5",
                "#B0BEC5",
                "#B0BEC5",
                "#B0BEC5",
                "#B0BEC5",
                "#B0BEC5",
                "#B0BEC5",
                "#B0BEC5",
                "#B0BEC5",
                "#B0BEC5",
                "#B0BEC5",
                "#B0BEC5",
                "#B0BEC5",
                "#B0BEC5",
                "#B0BEC5",
                "#B0BEC5",
                "red",
                "#B0BEC5",
                "#B0BEC5",
                "#B0BEC5",
                "#B0BEC5",
                "#B0BEC5",
                "#B0BEC5",
                "#B0BEC5",
                "#B0BEC5",
                "#B0BEC5",
                "#B0BEC5",
                "#B0BEC5",
                "#B0BEC5",
                "#B0BEC5",
                "#B0BEC5",
                "#B0BEC5",
                "#B0BEC5",
                "#B0BEC5",
                "#B0BEC5",
                "#B0BEC5",
                "#B0BEC5",
                "#B0BEC5",
                "#B0BEC5"
               ]
              ]
             }
            ],
            "label": "Topic 34",
            "method": "update"
           },
           {
            "args": [
             {
              "marker.color": [
               [
                "#B0BEC5",
                "#B0BEC5",
                "#B0BEC5",
                "#B0BEC5",
                "#B0BEC5",
                "#B0BEC5",
                "#B0BEC5",
                "#B0BEC5",
                "#B0BEC5",
                "#B0BEC5",
                "#B0BEC5",
                "#B0BEC5",
                "#B0BEC5",
                "#B0BEC5",
                "#B0BEC5",
                "#B0BEC5",
                "#B0BEC5",
                "#B0BEC5",
                "#B0BEC5",
                "#B0BEC5",
                "#B0BEC5",
                "#B0BEC5",
                "#B0BEC5",
                "#B0BEC5",
                "#B0BEC5",
                "#B0BEC5",
                "#B0BEC5",
                "#B0BEC5",
                "#B0BEC5",
                "#B0BEC5",
                "#B0BEC5",
                "#B0BEC5",
                "#B0BEC5",
                "#B0BEC5",
                "#B0BEC5",
                "red",
                "#B0BEC5",
                "#B0BEC5",
                "#B0BEC5",
                "#B0BEC5",
                "#B0BEC5",
                "#B0BEC5",
                "#B0BEC5",
                "#B0BEC5",
                "#B0BEC5",
                "#B0BEC5",
                "#B0BEC5",
                "#B0BEC5",
                "#B0BEC5",
                "#B0BEC5",
                "#B0BEC5",
                "#B0BEC5",
                "#B0BEC5",
                "#B0BEC5",
                "#B0BEC5",
                "#B0BEC5",
                "#B0BEC5"
               ]
              ]
             }
            ],
            "label": "Topic 35",
            "method": "update"
           },
           {
            "args": [
             {
              "marker.color": [
               [
                "#B0BEC5",
                "#B0BEC5",
                "#B0BEC5",
                "#B0BEC5",
                "#B0BEC5",
                "#B0BEC5",
                "#B0BEC5",
                "#B0BEC5",
                "#B0BEC5",
                "#B0BEC5",
                "#B0BEC5",
                "#B0BEC5",
                "#B0BEC5",
                "#B0BEC5",
                "#B0BEC5",
                "#B0BEC5",
                "#B0BEC5",
                "#B0BEC5",
                "#B0BEC5",
                "#B0BEC5",
                "#B0BEC5",
                "#B0BEC5",
                "#B0BEC5",
                "#B0BEC5",
                "#B0BEC5",
                "#B0BEC5",
                "#B0BEC5",
                "#B0BEC5",
                "#B0BEC5",
                "#B0BEC5",
                "#B0BEC5",
                "#B0BEC5",
                "#B0BEC5",
                "#B0BEC5",
                "#B0BEC5",
                "#B0BEC5",
                "red",
                "#B0BEC5",
                "#B0BEC5",
                "#B0BEC5",
                "#B0BEC5",
                "#B0BEC5",
                "#B0BEC5",
                "#B0BEC5",
                "#B0BEC5",
                "#B0BEC5",
                "#B0BEC5",
                "#B0BEC5",
                "#B0BEC5",
                "#B0BEC5",
                "#B0BEC5",
                "#B0BEC5",
                "#B0BEC5",
                "#B0BEC5",
                "#B0BEC5",
                "#B0BEC5",
                "#B0BEC5"
               ]
              ]
             }
            ],
            "label": "Topic 36",
            "method": "update"
           },
           {
            "args": [
             {
              "marker.color": [
               [
                "#B0BEC5",
                "#B0BEC5",
                "#B0BEC5",
                "#B0BEC5",
                "#B0BEC5",
                "#B0BEC5",
                "#B0BEC5",
                "#B0BEC5",
                "#B0BEC5",
                "#B0BEC5",
                "#B0BEC5",
                "#B0BEC5",
                "#B0BEC5",
                "#B0BEC5",
                "#B0BEC5",
                "#B0BEC5",
                "#B0BEC5",
                "#B0BEC5",
                "#B0BEC5",
                "#B0BEC5",
                "#B0BEC5",
                "#B0BEC5",
                "#B0BEC5",
                "#B0BEC5",
                "#B0BEC5",
                "#B0BEC5",
                "#B0BEC5",
                "#B0BEC5",
                "#B0BEC5",
                "#B0BEC5",
                "#B0BEC5",
                "#B0BEC5",
                "#B0BEC5",
                "#B0BEC5",
                "#B0BEC5",
                "#B0BEC5",
                "#B0BEC5",
                "red",
                "#B0BEC5",
                "#B0BEC5",
                "#B0BEC5",
                "#B0BEC5",
                "#B0BEC5",
                "#B0BEC5",
                "#B0BEC5",
                "#B0BEC5",
                "#B0BEC5",
                "#B0BEC5",
                "#B0BEC5",
                "#B0BEC5",
                "#B0BEC5",
                "#B0BEC5",
                "#B0BEC5",
                "#B0BEC5",
                "#B0BEC5",
                "#B0BEC5",
                "#B0BEC5"
               ]
              ]
             }
            ],
            "label": "Topic 37",
            "method": "update"
           },
           {
            "args": [
             {
              "marker.color": [
               [
                "#B0BEC5",
                "#B0BEC5",
                "#B0BEC5",
                "#B0BEC5",
                "#B0BEC5",
                "#B0BEC5",
                "#B0BEC5",
                "#B0BEC5",
                "#B0BEC5",
                "#B0BEC5",
                "#B0BEC5",
                "#B0BEC5",
                "#B0BEC5",
                "#B0BEC5",
                "#B0BEC5",
                "#B0BEC5",
                "#B0BEC5",
                "#B0BEC5",
                "#B0BEC5",
                "#B0BEC5",
                "#B0BEC5",
                "#B0BEC5",
                "#B0BEC5",
                "#B0BEC5",
                "#B0BEC5",
                "#B0BEC5",
                "#B0BEC5",
                "#B0BEC5",
                "#B0BEC5",
                "#B0BEC5",
                "#B0BEC5",
                "#B0BEC5",
                "#B0BEC5",
                "#B0BEC5",
                "#B0BEC5",
                "#B0BEC5",
                "#B0BEC5",
                "#B0BEC5",
                "red",
                "#B0BEC5",
                "#B0BEC5",
                "#B0BEC5",
                "#B0BEC5",
                "#B0BEC5",
                "#B0BEC5",
                "#B0BEC5",
                "#B0BEC5",
                "#B0BEC5",
                "#B0BEC5",
                "#B0BEC5",
                "#B0BEC5",
                "#B0BEC5",
                "#B0BEC5",
                "#B0BEC5",
                "#B0BEC5",
                "#B0BEC5",
                "#B0BEC5"
               ]
              ]
             }
            ],
            "label": "Topic 38",
            "method": "update"
           },
           {
            "args": [
             {
              "marker.color": [
               [
                "#B0BEC5",
                "#B0BEC5",
                "#B0BEC5",
                "#B0BEC5",
                "#B0BEC5",
                "#B0BEC5",
                "#B0BEC5",
                "#B0BEC5",
                "#B0BEC5",
                "#B0BEC5",
                "#B0BEC5",
                "#B0BEC5",
                "#B0BEC5",
                "#B0BEC5",
                "#B0BEC5",
                "#B0BEC5",
                "#B0BEC5",
                "#B0BEC5",
                "#B0BEC5",
                "#B0BEC5",
                "#B0BEC5",
                "#B0BEC5",
                "#B0BEC5",
                "#B0BEC5",
                "#B0BEC5",
                "#B0BEC5",
                "#B0BEC5",
                "#B0BEC5",
                "#B0BEC5",
                "#B0BEC5",
                "#B0BEC5",
                "#B0BEC5",
                "#B0BEC5",
                "#B0BEC5",
                "#B0BEC5",
                "#B0BEC5",
                "#B0BEC5",
                "#B0BEC5",
                "#B0BEC5",
                "red",
                "#B0BEC5",
                "#B0BEC5",
                "#B0BEC5",
                "#B0BEC5",
                "#B0BEC5",
                "#B0BEC5",
                "#B0BEC5",
                "#B0BEC5",
                "#B0BEC5",
                "#B0BEC5",
                "#B0BEC5",
                "#B0BEC5",
                "#B0BEC5",
                "#B0BEC5",
                "#B0BEC5",
                "#B0BEC5",
                "#B0BEC5"
               ]
              ]
             }
            ],
            "label": "Topic 39",
            "method": "update"
           },
           {
            "args": [
             {
              "marker.color": [
               [
                "#B0BEC5",
                "#B0BEC5",
                "#B0BEC5",
                "#B0BEC5",
                "#B0BEC5",
                "#B0BEC5",
                "#B0BEC5",
                "#B0BEC5",
                "#B0BEC5",
                "#B0BEC5",
                "#B0BEC5",
                "#B0BEC5",
                "#B0BEC5",
                "#B0BEC5",
                "#B0BEC5",
                "#B0BEC5",
                "#B0BEC5",
                "#B0BEC5",
                "#B0BEC5",
                "#B0BEC5",
                "#B0BEC5",
                "#B0BEC5",
                "#B0BEC5",
                "#B0BEC5",
                "#B0BEC5",
                "#B0BEC5",
                "#B0BEC5",
                "#B0BEC5",
                "#B0BEC5",
                "#B0BEC5",
                "#B0BEC5",
                "#B0BEC5",
                "#B0BEC5",
                "#B0BEC5",
                "#B0BEC5",
                "#B0BEC5",
                "#B0BEC5",
                "#B0BEC5",
                "#B0BEC5",
                "#B0BEC5",
                "red",
                "#B0BEC5",
                "#B0BEC5",
                "#B0BEC5",
                "#B0BEC5",
                "#B0BEC5",
                "#B0BEC5",
                "#B0BEC5",
                "#B0BEC5",
                "#B0BEC5",
                "#B0BEC5",
                "#B0BEC5",
                "#B0BEC5",
                "#B0BEC5",
                "#B0BEC5",
                "#B0BEC5",
                "#B0BEC5"
               ]
              ]
             }
            ],
            "label": "Topic 40",
            "method": "update"
           },
           {
            "args": [
             {
              "marker.color": [
               [
                "#B0BEC5",
                "#B0BEC5",
                "#B0BEC5",
                "#B0BEC5",
                "#B0BEC5",
                "#B0BEC5",
                "#B0BEC5",
                "#B0BEC5",
                "#B0BEC5",
                "#B0BEC5",
                "#B0BEC5",
                "#B0BEC5",
                "#B0BEC5",
                "#B0BEC5",
                "#B0BEC5",
                "#B0BEC5",
                "#B0BEC5",
                "#B0BEC5",
                "#B0BEC5",
                "#B0BEC5",
                "#B0BEC5",
                "#B0BEC5",
                "#B0BEC5",
                "#B0BEC5",
                "#B0BEC5",
                "#B0BEC5",
                "#B0BEC5",
                "#B0BEC5",
                "#B0BEC5",
                "#B0BEC5",
                "#B0BEC5",
                "#B0BEC5",
                "#B0BEC5",
                "#B0BEC5",
                "#B0BEC5",
                "#B0BEC5",
                "#B0BEC5",
                "#B0BEC5",
                "#B0BEC5",
                "#B0BEC5",
                "#B0BEC5",
                "red",
                "#B0BEC5",
                "#B0BEC5",
                "#B0BEC5",
                "#B0BEC5",
                "#B0BEC5",
                "#B0BEC5",
                "#B0BEC5",
                "#B0BEC5",
                "#B0BEC5",
                "#B0BEC5",
                "#B0BEC5",
                "#B0BEC5",
                "#B0BEC5",
                "#B0BEC5",
                "#B0BEC5"
               ]
              ]
             }
            ],
            "label": "Topic 41",
            "method": "update"
           },
           {
            "args": [
             {
              "marker.color": [
               [
                "#B0BEC5",
                "#B0BEC5",
                "#B0BEC5",
                "#B0BEC5",
                "#B0BEC5",
                "#B0BEC5",
                "#B0BEC5",
                "#B0BEC5",
                "#B0BEC5",
                "#B0BEC5",
                "#B0BEC5",
                "#B0BEC5",
                "#B0BEC5",
                "#B0BEC5",
                "#B0BEC5",
                "#B0BEC5",
                "#B0BEC5",
                "#B0BEC5",
                "#B0BEC5",
                "#B0BEC5",
                "#B0BEC5",
                "#B0BEC5",
                "#B0BEC5",
                "#B0BEC5",
                "#B0BEC5",
                "#B0BEC5",
                "#B0BEC5",
                "#B0BEC5",
                "#B0BEC5",
                "#B0BEC5",
                "#B0BEC5",
                "#B0BEC5",
                "#B0BEC5",
                "#B0BEC5",
                "#B0BEC5",
                "#B0BEC5",
                "#B0BEC5",
                "#B0BEC5",
                "#B0BEC5",
                "#B0BEC5",
                "#B0BEC5",
                "#B0BEC5",
                "red",
                "#B0BEC5",
                "#B0BEC5",
                "#B0BEC5",
                "#B0BEC5",
                "#B0BEC5",
                "#B0BEC5",
                "#B0BEC5",
                "#B0BEC5",
                "#B0BEC5",
                "#B0BEC5",
                "#B0BEC5",
                "#B0BEC5",
                "#B0BEC5",
                "#B0BEC5"
               ]
              ]
             }
            ],
            "label": "Topic 42",
            "method": "update"
           },
           {
            "args": [
             {
              "marker.color": [
               [
                "#B0BEC5",
                "#B0BEC5",
                "#B0BEC5",
                "#B0BEC5",
                "#B0BEC5",
                "#B0BEC5",
                "#B0BEC5",
                "#B0BEC5",
                "#B0BEC5",
                "#B0BEC5",
                "#B0BEC5",
                "#B0BEC5",
                "#B0BEC5",
                "#B0BEC5",
                "#B0BEC5",
                "#B0BEC5",
                "#B0BEC5",
                "#B0BEC5",
                "#B0BEC5",
                "#B0BEC5",
                "#B0BEC5",
                "#B0BEC5",
                "#B0BEC5",
                "#B0BEC5",
                "#B0BEC5",
                "#B0BEC5",
                "#B0BEC5",
                "#B0BEC5",
                "#B0BEC5",
                "#B0BEC5",
                "#B0BEC5",
                "#B0BEC5",
                "#B0BEC5",
                "#B0BEC5",
                "#B0BEC5",
                "#B0BEC5",
                "#B0BEC5",
                "#B0BEC5",
                "#B0BEC5",
                "#B0BEC5",
                "#B0BEC5",
                "#B0BEC5",
                "#B0BEC5",
                "red",
                "#B0BEC5",
                "#B0BEC5",
                "#B0BEC5",
                "#B0BEC5",
                "#B0BEC5",
                "#B0BEC5",
                "#B0BEC5",
                "#B0BEC5",
                "#B0BEC5",
                "#B0BEC5",
                "#B0BEC5",
                "#B0BEC5",
                "#B0BEC5"
               ]
              ]
             }
            ],
            "label": "Topic 43",
            "method": "update"
           },
           {
            "args": [
             {
              "marker.color": [
               [
                "#B0BEC5",
                "#B0BEC5",
                "#B0BEC5",
                "#B0BEC5",
                "#B0BEC5",
                "#B0BEC5",
                "#B0BEC5",
                "#B0BEC5",
                "#B0BEC5",
                "#B0BEC5",
                "#B0BEC5",
                "#B0BEC5",
                "#B0BEC5",
                "#B0BEC5",
                "#B0BEC5",
                "#B0BEC5",
                "#B0BEC5",
                "#B0BEC5",
                "#B0BEC5",
                "#B0BEC5",
                "#B0BEC5",
                "#B0BEC5",
                "#B0BEC5",
                "#B0BEC5",
                "#B0BEC5",
                "#B0BEC5",
                "#B0BEC5",
                "#B0BEC5",
                "#B0BEC5",
                "#B0BEC5",
                "#B0BEC5",
                "#B0BEC5",
                "#B0BEC5",
                "#B0BEC5",
                "#B0BEC5",
                "#B0BEC5",
                "#B0BEC5",
                "#B0BEC5",
                "#B0BEC5",
                "#B0BEC5",
                "#B0BEC5",
                "#B0BEC5",
                "#B0BEC5",
                "#B0BEC5",
                "red",
                "#B0BEC5",
                "#B0BEC5",
                "#B0BEC5",
                "#B0BEC5",
                "#B0BEC5",
                "#B0BEC5",
                "#B0BEC5",
                "#B0BEC5",
                "#B0BEC5",
                "#B0BEC5",
                "#B0BEC5",
                "#B0BEC5"
               ]
              ]
             }
            ],
            "label": "Topic 44",
            "method": "update"
           },
           {
            "args": [
             {
              "marker.color": [
               [
                "#B0BEC5",
                "#B0BEC5",
                "#B0BEC5",
                "#B0BEC5",
                "#B0BEC5",
                "#B0BEC5",
                "#B0BEC5",
                "#B0BEC5",
                "#B0BEC5",
                "#B0BEC5",
                "#B0BEC5",
                "#B0BEC5",
                "#B0BEC5",
                "#B0BEC5",
                "#B0BEC5",
                "#B0BEC5",
                "#B0BEC5",
                "#B0BEC5",
                "#B0BEC5",
                "#B0BEC5",
                "#B0BEC5",
                "#B0BEC5",
                "#B0BEC5",
                "#B0BEC5",
                "#B0BEC5",
                "#B0BEC5",
                "#B0BEC5",
                "#B0BEC5",
                "#B0BEC5",
                "#B0BEC5",
                "#B0BEC5",
                "#B0BEC5",
                "#B0BEC5",
                "#B0BEC5",
                "#B0BEC5",
                "#B0BEC5",
                "#B0BEC5",
                "#B0BEC5",
                "#B0BEC5",
                "#B0BEC5",
                "#B0BEC5",
                "#B0BEC5",
                "#B0BEC5",
                "#B0BEC5",
                "#B0BEC5",
                "red",
                "#B0BEC5",
                "#B0BEC5",
                "#B0BEC5",
                "#B0BEC5",
                "#B0BEC5",
                "#B0BEC5",
                "#B0BEC5",
                "#B0BEC5",
                "#B0BEC5",
                "#B0BEC5",
                "#B0BEC5"
               ]
              ]
             }
            ],
            "label": "Topic 45",
            "method": "update"
           },
           {
            "args": [
             {
              "marker.color": [
               [
                "#B0BEC5",
                "#B0BEC5",
                "#B0BEC5",
                "#B0BEC5",
                "#B0BEC5",
                "#B0BEC5",
                "#B0BEC5",
                "#B0BEC5",
                "#B0BEC5",
                "#B0BEC5",
                "#B0BEC5",
                "#B0BEC5",
                "#B0BEC5",
                "#B0BEC5",
                "#B0BEC5",
                "#B0BEC5",
                "#B0BEC5",
                "#B0BEC5",
                "#B0BEC5",
                "#B0BEC5",
                "#B0BEC5",
                "#B0BEC5",
                "#B0BEC5",
                "#B0BEC5",
                "#B0BEC5",
                "#B0BEC5",
                "#B0BEC5",
                "#B0BEC5",
                "#B0BEC5",
                "#B0BEC5",
                "#B0BEC5",
                "#B0BEC5",
                "#B0BEC5",
                "#B0BEC5",
                "#B0BEC5",
                "#B0BEC5",
                "#B0BEC5",
                "#B0BEC5",
                "#B0BEC5",
                "#B0BEC5",
                "#B0BEC5",
                "#B0BEC5",
                "#B0BEC5",
                "#B0BEC5",
                "#B0BEC5",
                "#B0BEC5",
                "red",
                "#B0BEC5",
                "#B0BEC5",
                "#B0BEC5",
                "#B0BEC5",
                "#B0BEC5",
                "#B0BEC5",
                "#B0BEC5",
                "#B0BEC5",
                "#B0BEC5",
                "#B0BEC5"
               ]
              ]
             }
            ],
            "label": "Topic 46",
            "method": "update"
           },
           {
            "args": [
             {
              "marker.color": [
               [
                "#B0BEC5",
                "#B0BEC5",
                "#B0BEC5",
                "#B0BEC5",
                "#B0BEC5",
                "#B0BEC5",
                "#B0BEC5",
                "#B0BEC5",
                "#B0BEC5",
                "#B0BEC5",
                "#B0BEC5",
                "#B0BEC5",
                "#B0BEC5",
                "#B0BEC5",
                "#B0BEC5",
                "#B0BEC5",
                "#B0BEC5",
                "#B0BEC5",
                "#B0BEC5",
                "#B0BEC5",
                "#B0BEC5",
                "#B0BEC5",
                "#B0BEC5",
                "#B0BEC5",
                "#B0BEC5",
                "#B0BEC5",
                "#B0BEC5",
                "#B0BEC5",
                "#B0BEC5",
                "#B0BEC5",
                "#B0BEC5",
                "#B0BEC5",
                "#B0BEC5",
                "#B0BEC5",
                "#B0BEC5",
                "#B0BEC5",
                "#B0BEC5",
                "#B0BEC5",
                "#B0BEC5",
                "#B0BEC5",
                "#B0BEC5",
                "#B0BEC5",
                "#B0BEC5",
                "#B0BEC5",
                "#B0BEC5",
                "#B0BEC5",
                "#B0BEC5",
                "red",
                "#B0BEC5",
                "#B0BEC5",
                "#B0BEC5",
                "#B0BEC5",
                "#B0BEC5",
                "#B0BEC5",
                "#B0BEC5",
                "#B0BEC5",
                "#B0BEC5"
               ]
              ]
             }
            ],
            "label": "Topic 47",
            "method": "update"
           },
           {
            "args": [
             {
              "marker.color": [
               [
                "#B0BEC5",
                "#B0BEC5",
                "#B0BEC5",
                "#B0BEC5",
                "#B0BEC5",
                "#B0BEC5",
                "#B0BEC5",
                "#B0BEC5",
                "#B0BEC5",
                "#B0BEC5",
                "#B0BEC5",
                "#B0BEC5",
                "#B0BEC5",
                "#B0BEC5",
                "#B0BEC5",
                "#B0BEC5",
                "#B0BEC5",
                "#B0BEC5",
                "#B0BEC5",
                "#B0BEC5",
                "#B0BEC5",
                "#B0BEC5",
                "#B0BEC5",
                "#B0BEC5",
                "#B0BEC5",
                "#B0BEC5",
                "#B0BEC5",
                "#B0BEC5",
                "#B0BEC5",
                "#B0BEC5",
                "#B0BEC5",
                "#B0BEC5",
                "#B0BEC5",
                "#B0BEC5",
                "#B0BEC5",
                "#B0BEC5",
                "#B0BEC5",
                "#B0BEC5",
                "#B0BEC5",
                "#B0BEC5",
                "#B0BEC5",
                "#B0BEC5",
                "#B0BEC5",
                "#B0BEC5",
                "#B0BEC5",
                "#B0BEC5",
                "#B0BEC5",
                "#B0BEC5",
                "red",
                "#B0BEC5",
                "#B0BEC5",
                "#B0BEC5",
                "#B0BEC5",
                "#B0BEC5",
                "#B0BEC5",
                "#B0BEC5",
                "#B0BEC5"
               ]
              ]
             }
            ],
            "label": "Topic 48",
            "method": "update"
           },
           {
            "args": [
             {
              "marker.color": [
               [
                "#B0BEC5",
                "#B0BEC5",
                "#B0BEC5",
                "#B0BEC5",
                "#B0BEC5",
                "#B0BEC5",
                "#B0BEC5",
                "#B0BEC5",
                "#B0BEC5",
                "#B0BEC5",
                "#B0BEC5",
                "#B0BEC5",
                "#B0BEC5",
                "#B0BEC5",
                "#B0BEC5",
                "#B0BEC5",
                "#B0BEC5",
                "#B0BEC5",
                "#B0BEC5",
                "#B0BEC5",
                "#B0BEC5",
                "#B0BEC5",
                "#B0BEC5",
                "#B0BEC5",
                "#B0BEC5",
                "#B0BEC5",
                "#B0BEC5",
                "#B0BEC5",
                "#B0BEC5",
                "#B0BEC5",
                "#B0BEC5",
                "#B0BEC5",
                "#B0BEC5",
                "#B0BEC5",
                "#B0BEC5",
                "#B0BEC5",
                "#B0BEC5",
                "#B0BEC5",
                "#B0BEC5",
                "#B0BEC5",
                "#B0BEC5",
                "#B0BEC5",
                "#B0BEC5",
                "#B0BEC5",
                "#B0BEC5",
                "#B0BEC5",
                "#B0BEC5",
                "#B0BEC5",
                "#B0BEC5",
                "red",
                "#B0BEC5",
                "#B0BEC5",
                "#B0BEC5",
                "#B0BEC5",
                "#B0BEC5",
                "#B0BEC5",
                "#B0BEC5"
               ]
              ]
             }
            ],
            "label": "Topic 49",
            "method": "update"
           },
           {
            "args": [
             {
              "marker.color": [
               [
                "#B0BEC5",
                "#B0BEC5",
                "#B0BEC5",
                "#B0BEC5",
                "#B0BEC5",
                "#B0BEC5",
                "#B0BEC5",
                "#B0BEC5",
                "#B0BEC5",
                "#B0BEC5",
                "#B0BEC5",
                "#B0BEC5",
                "#B0BEC5",
                "#B0BEC5",
                "#B0BEC5",
                "#B0BEC5",
                "#B0BEC5",
                "#B0BEC5",
                "#B0BEC5",
                "#B0BEC5",
                "#B0BEC5",
                "#B0BEC5",
                "#B0BEC5",
                "#B0BEC5",
                "#B0BEC5",
                "#B0BEC5",
                "#B0BEC5",
                "#B0BEC5",
                "#B0BEC5",
                "#B0BEC5",
                "#B0BEC5",
                "#B0BEC5",
                "#B0BEC5",
                "#B0BEC5",
                "#B0BEC5",
                "#B0BEC5",
                "#B0BEC5",
                "#B0BEC5",
                "#B0BEC5",
                "#B0BEC5",
                "#B0BEC5",
                "#B0BEC5",
                "#B0BEC5",
                "#B0BEC5",
                "#B0BEC5",
                "#B0BEC5",
                "#B0BEC5",
                "#B0BEC5",
                "#B0BEC5",
                "#B0BEC5",
                "red",
                "#B0BEC5",
                "#B0BEC5",
                "#B0BEC5",
                "#B0BEC5",
                "#B0BEC5",
                "#B0BEC5"
               ]
              ]
             }
            ],
            "label": "Topic 50",
            "method": "update"
           },
           {
            "args": [
             {
              "marker.color": [
               [
                "#B0BEC5",
                "#B0BEC5",
                "#B0BEC5",
                "#B0BEC5",
                "#B0BEC5",
                "#B0BEC5",
                "#B0BEC5",
                "#B0BEC5",
                "#B0BEC5",
                "#B0BEC5",
                "#B0BEC5",
                "#B0BEC5",
                "#B0BEC5",
                "#B0BEC5",
                "#B0BEC5",
                "#B0BEC5",
                "#B0BEC5",
                "#B0BEC5",
                "#B0BEC5",
                "#B0BEC5",
                "#B0BEC5",
                "#B0BEC5",
                "#B0BEC5",
                "#B0BEC5",
                "#B0BEC5",
                "#B0BEC5",
                "#B0BEC5",
                "#B0BEC5",
                "#B0BEC5",
                "#B0BEC5",
                "#B0BEC5",
                "#B0BEC5",
                "#B0BEC5",
                "#B0BEC5",
                "#B0BEC5",
                "#B0BEC5",
                "#B0BEC5",
                "#B0BEC5",
                "#B0BEC5",
                "#B0BEC5",
                "#B0BEC5",
                "#B0BEC5",
                "#B0BEC5",
                "#B0BEC5",
                "#B0BEC5",
                "#B0BEC5",
                "#B0BEC5",
                "#B0BEC5",
                "#B0BEC5",
                "#B0BEC5",
                "#B0BEC5",
                "red",
                "#B0BEC5",
                "#B0BEC5",
                "#B0BEC5",
                "#B0BEC5",
                "#B0BEC5"
               ]
              ]
             }
            ],
            "label": "Topic 51",
            "method": "update"
           },
           {
            "args": [
             {
              "marker.color": [
               [
                "#B0BEC5",
                "#B0BEC5",
                "#B0BEC5",
                "#B0BEC5",
                "#B0BEC5",
                "#B0BEC5",
                "#B0BEC5",
                "#B0BEC5",
                "#B0BEC5",
                "#B0BEC5",
                "#B0BEC5",
                "#B0BEC5",
                "#B0BEC5",
                "#B0BEC5",
                "#B0BEC5",
                "#B0BEC5",
                "#B0BEC5",
                "#B0BEC5",
                "#B0BEC5",
                "#B0BEC5",
                "#B0BEC5",
                "#B0BEC5",
                "#B0BEC5",
                "#B0BEC5",
                "#B0BEC5",
                "#B0BEC5",
                "#B0BEC5",
                "#B0BEC5",
                "#B0BEC5",
                "#B0BEC5",
                "#B0BEC5",
                "#B0BEC5",
                "#B0BEC5",
                "#B0BEC5",
                "#B0BEC5",
                "#B0BEC5",
                "#B0BEC5",
                "#B0BEC5",
                "#B0BEC5",
                "#B0BEC5",
                "#B0BEC5",
                "#B0BEC5",
                "#B0BEC5",
                "#B0BEC5",
                "#B0BEC5",
                "#B0BEC5",
                "#B0BEC5",
                "#B0BEC5",
                "#B0BEC5",
                "#B0BEC5",
                "#B0BEC5",
                "#B0BEC5",
                "red",
                "#B0BEC5",
                "#B0BEC5",
                "#B0BEC5",
                "#B0BEC5"
               ]
              ]
             }
            ],
            "label": "Topic 52",
            "method": "update"
           },
           {
            "args": [
             {
              "marker.color": [
               [
                "#B0BEC5",
                "#B0BEC5",
                "#B0BEC5",
                "#B0BEC5",
                "#B0BEC5",
                "#B0BEC5",
                "#B0BEC5",
                "#B0BEC5",
                "#B0BEC5",
                "#B0BEC5",
                "#B0BEC5",
                "#B0BEC5",
                "#B0BEC5",
                "#B0BEC5",
                "#B0BEC5",
                "#B0BEC5",
                "#B0BEC5",
                "#B0BEC5",
                "#B0BEC5",
                "#B0BEC5",
                "#B0BEC5",
                "#B0BEC5",
                "#B0BEC5",
                "#B0BEC5",
                "#B0BEC5",
                "#B0BEC5",
                "#B0BEC5",
                "#B0BEC5",
                "#B0BEC5",
                "#B0BEC5",
                "#B0BEC5",
                "#B0BEC5",
                "#B0BEC5",
                "#B0BEC5",
                "#B0BEC5",
                "#B0BEC5",
                "#B0BEC5",
                "#B0BEC5",
                "#B0BEC5",
                "#B0BEC5",
                "#B0BEC5",
                "#B0BEC5",
                "#B0BEC5",
                "#B0BEC5",
                "#B0BEC5",
                "#B0BEC5",
                "#B0BEC5",
                "#B0BEC5",
                "#B0BEC5",
                "#B0BEC5",
                "#B0BEC5",
                "#B0BEC5",
                "#B0BEC5",
                "red",
                "#B0BEC5",
                "#B0BEC5",
                "#B0BEC5"
               ]
              ]
             }
            ],
            "label": "Topic 53",
            "method": "update"
           },
           {
            "args": [
             {
              "marker.color": [
               [
                "#B0BEC5",
                "#B0BEC5",
                "#B0BEC5",
                "#B0BEC5",
                "#B0BEC5",
                "#B0BEC5",
                "#B0BEC5",
                "#B0BEC5",
                "#B0BEC5",
                "#B0BEC5",
                "#B0BEC5",
                "#B0BEC5",
                "#B0BEC5",
                "#B0BEC5",
                "#B0BEC5",
                "#B0BEC5",
                "#B0BEC5",
                "#B0BEC5",
                "#B0BEC5",
                "#B0BEC5",
                "#B0BEC5",
                "#B0BEC5",
                "#B0BEC5",
                "#B0BEC5",
                "#B0BEC5",
                "#B0BEC5",
                "#B0BEC5",
                "#B0BEC5",
                "#B0BEC5",
                "#B0BEC5",
                "#B0BEC5",
                "#B0BEC5",
                "#B0BEC5",
                "#B0BEC5",
                "#B0BEC5",
                "#B0BEC5",
                "#B0BEC5",
                "#B0BEC5",
                "#B0BEC5",
                "#B0BEC5",
                "#B0BEC5",
                "#B0BEC5",
                "#B0BEC5",
                "#B0BEC5",
                "#B0BEC5",
                "#B0BEC5",
                "#B0BEC5",
                "#B0BEC5",
                "#B0BEC5",
                "#B0BEC5",
                "#B0BEC5",
                "#B0BEC5",
                "#B0BEC5",
                "#B0BEC5",
                "red",
                "#B0BEC5",
                "#B0BEC5"
               ]
              ]
             }
            ],
            "label": "Topic 54",
            "method": "update"
           },
           {
            "args": [
             {
              "marker.color": [
               [
                "#B0BEC5",
                "#B0BEC5",
                "#B0BEC5",
                "#B0BEC5",
                "#B0BEC5",
                "#B0BEC5",
                "#B0BEC5",
                "#B0BEC5",
                "#B0BEC5",
                "#B0BEC5",
                "#B0BEC5",
                "#B0BEC5",
                "#B0BEC5",
                "#B0BEC5",
                "#B0BEC5",
                "#B0BEC5",
                "#B0BEC5",
                "#B0BEC5",
                "#B0BEC5",
                "#B0BEC5",
                "#B0BEC5",
                "#B0BEC5",
                "#B0BEC5",
                "#B0BEC5",
                "#B0BEC5",
                "#B0BEC5",
                "#B0BEC5",
                "#B0BEC5",
                "#B0BEC5",
                "#B0BEC5",
                "#B0BEC5",
                "#B0BEC5",
                "#B0BEC5",
                "#B0BEC5",
                "#B0BEC5",
                "#B0BEC5",
                "#B0BEC5",
                "#B0BEC5",
                "#B0BEC5",
                "#B0BEC5",
                "#B0BEC5",
                "#B0BEC5",
                "#B0BEC5",
                "#B0BEC5",
                "#B0BEC5",
                "#B0BEC5",
                "#B0BEC5",
                "#B0BEC5",
                "#B0BEC5",
                "#B0BEC5",
                "#B0BEC5",
                "#B0BEC5",
                "#B0BEC5",
                "#B0BEC5",
                "#B0BEC5",
                "red",
                "#B0BEC5"
               ]
              ]
             }
            ],
            "label": "Topic 55",
            "method": "update"
           },
           {
            "args": [
             {
              "marker.color": [
               [
                "#B0BEC5",
                "#B0BEC5",
                "#B0BEC5",
                "#B0BEC5",
                "#B0BEC5",
                "#B0BEC5",
                "#B0BEC5",
                "#B0BEC5",
                "#B0BEC5",
                "#B0BEC5",
                "#B0BEC5",
                "#B0BEC5",
                "#B0BEC5",
                "#B0BEC5",
                "#B0BEC5",
                "#B0BEC5",
                "#B0BEC5",
                "#B0BEC5",
                "#B0BEC5",
                "#B0BEC5",
                "#B0BEC5",
                "#B0BEC5",
                "#B0BEC5",
                "#B0BEC5",
                "#B0BEC5",
                "#B0BEC5",
                "#B0BEC5",
                "#B0BEC5",
                "#B0BEC5",
                "#B0BEC5",
                "#B0BEC5",
                "#B0BEC5",
                "#B0BEC5",
                "#B0BEC5",
                "#B0BEC5",
                "#B0BEC5",
                "#B0BEC5",
                "#B0BEC5",
                "#B0BEC5",
                "#B0BEC5",
                "#B0BEC5",
                "#B0BEC5",
                "#B0BEC5",
                "#B0BEC5",
                "#B0BEC5",
                "#B0BEC5",
                "#B0BEC5",
                "#B0BEC5",
                "#B0BEC5",
                "#B0BEC5",
                "#B0BEC5",
                "#B0BEC5",
                "#B0BEC5",
                "#B0BEC5",
                "#B0BEC5",
                "#B0BEC5",
                "red"
               ]
              ]
             }
            ],
            "label": "Topic 56",
            "method": "update"
           }
          ]
         }
        ],
        "template": {
         "data": {
          "bar": [
           {
            "error_x": {
             "color": "rgb(36,36,36)"
            },
            "error_y": {
             "color": "rgb(36,36,36)"
            },
            "marker": {
             "line": {
              "color": "white",
              "width": 0.5
             },
             "pattern": {
              "fillmode": "overlay",
              "size": 10,
              "solidity": 0.2
             }
            },
            "type": "bar"
           }
          ],
          "barpolar": [
           {
            "marker": {
             "line": {
              "color": "white",
              "width": 0.5
             },
             "pattern": {
              "fillmode": "overlay",
              "size": 10,
              "solidity": 0.2
             }
            },
            "type": "barpolar"
           }
          ],
          "carpet": [
           {
            "aaxis": {
             "endlinecolor": "rgb(36,36,36)",
             "gridcolor": "white",
             "linecolor": "white",
             "minorgridcolor": "white",
             "startlinecolor": "rgb(36,36,36)"
            },
            "baxis": {
             "endlinecolor": "rgb(36,36,36)",
             "gridcolor": "white",
             "linecolor": "white",
             "minorgridcolor": "white",
             "startlinecolor": "rgb(36,36,36)"
            },
            "type": "carpet"
           }
          ],
          "choropleth": [
           {
            "colorbar": {
             "outlinewidth": 1,
             "tickcolor": "rgb(36,36,36)",
             "ticks": "outside"
            },
            "type": "choropleth"
           }
          ],
          "contour": [
           {
            "colorbar": {
             "outlinewidth": 1,
             "tickcolor": "rgb(36,36,36)",
             "ticks": "outside"
            },
            "colorscale": [
             [
              0,
              "#440154"
             ],
             [
              0.1111111111111111,
              "#482878"
             ],
             [
              0.2222222222222222,
              "#3e4989"
             ],
             [
              0.3333333333333333,
              "#31688e"
             ],
             [
              0.4444444444444444,
              "#26828e"
             ],
             [
              0.5555555555555556,
              "#1f9e89"
             ],
             [
              0.6666666666666666,
              "#35b779"
             ],
             [
              0.7777777777777778,
              "#6ece58"
             ],
             [
              0.8888888888888888,
              "#b5de2b"
             ],
             [
              1,
              "#fde725"
             ]
            ],
            "type": "contour"
           }
          ],
          "contourcarpet": [
           {
            "colorbar": {
             "outlinewidth": 1,
             "tickcolor": "rgb(36,36,36)",
             "ticks": "outside"
            },
            "type": "contourcarpet"
           }
          ],
          "heatmap": [
           {
            "colorbar": {
             "outlinewidth": 1,
             "tickcolor": "rgb(36,36,36)",
             "ticks": "outside"
            },
            "colorscale": [
             [
              0,
              "#440154"
             ],
             [
              0.1111111111111111,
              "#482878"
             ],
             [
              0.2222222222222222,
              "#3e4989"
             ],
             [
              0.3333333333333333,
              "#31688e"
             ],
             [
              0.4444444444444444,
              "#26828e"
             ],
             [
              0.5555555555555556,
              "#1f9e89"
             ],
             [
              0.6666666666666666,
              "#35b779"
             ],
             [
              0.7777777777777778,
              "#6ece58"
             ],
             [
              0.8888888888888888,
              "#b5de2b"
             ],
             [
              1,
              "#fde725"
             ]
            ],
            "type": "heatmap"
           }
          ],
          "heatmapgl": [
           {
            "colorbar": {
             "outlinewidth": 1,
             "tickcolor": "rgb(36,36,36)",
             "ticks": "outside"
            },
            "colorscale": [
             [
              0,
              "#440154"
             ],
             [
              0.1111111111111111,
              "#482878"
             ],
             [
              0.2222222222222222,
              "#3e4989"
             ],
             [
              0.3333333333333333,
              "#31688e"
             ],
             [
              0.4444444444444444,
              "#26828e"
             ],
             [
              0.5555555555555556,
              "#1f9e89"
             ],
             [
              0.6666666666666666,
              "#35b779"
             ],
             [
              0.7777777777777778,
              "#6ece58"
             ],
             [
              0.8888888888888888,
              "#b5de2b"
             ],
             [
              1,
              "#fde725"
             ]
            ],
            "type": "heatmapgl"
           }
          ],
          "histogram": [
           {
            "marker": {
             "line": {
              "color": "white",
              "width": 0.6
             }
            },
            "type": "histogram"
           }
          ],
          "histogram2d": [
           {
            "colorbar": {
             "outlinewidth": 1,
             "tickcolor": "rgb(36,36,36)",
             "ticks": "outside"
            },
            "colorscale": [
             [
              0,
              "#440154"
             ],
             [
              0.1111111111111111,
              "#482878"
             ],
             [
              0.2222222222222222,
              "#3e4989"
             ],
             [
              0.3333333333333333,
              "#31688e"
             ],
             [
              0.4444444444444444,
              "#26828e"
             ],
             [
              0.5555555555555556,
              "#1f9e89"
             ],
             [
              0.6666666666666666,
              "#35b779"
             ],
             [
              0.7777777777777778,
              "#6ece58"
             ],
             [
              0.8888888888888888,
              "#b5de2b"
             ],
             [
              1,
              "#fde725"
             ]
            ],
            "type": "histogram2d"
           }
          ],
          "histogram2dcontour": [
           {
            "colorbar": {
             "outlinewidth": 1,
             "tickcolor": "rgb(36,36,36)",
             "ticks": "outside"
            },
            "colorscale": [
             [
              0,
              "#440154"
             ],
             [
              0.1111111111111111,
              "#482878"
             ],
             [
              0.2222222222222222,
              "#3e4989"
             ],
             [
              0.3333333333333333,
              "#31688e"
             ],
             [
              0.4444444444444444,
              "#26828e"
             ],
             [
              0.5555555555555556,
              "#1f9e89"
             ],
             [
              0.6666666666666666,
              "#35b779"
             ],
             [
              0.7777777777777778,
              "#6ece58"
             ],
             [
              0.8888888888888888,
              "#b5de2b"
             ],
             [
              1,
              "#fde725"
             ]
            ],
            "type": "histogram2dcontour"
           }
          ],
          "mesh3d": [
           {
            "colorbar": {
             "outlinewidth": 1,
             "tickcolor": "rgb(36,36,36)",
             "ticks": "outside"
            },
            "type": "mesh3d"
           }
          ],
          "parcoords": [
           {
            "line": {
             "colorbar": {
              "outlinewidth": 1,
              "tickcolor": "rgb(36,36,36)",
              "ticks": "outside"
             }
            },
            "type": "parcoords"
           }
          ],
          "pie": [
           {
            "automargin": true,
            "type": "pie"
           }
          ],
          "scatter": [
           {
            "fillpattern": {
             "fillmode": "overlay",
             "size": 10,
             "solidity": 0.2
            },
            "type": "scatter"
           }
          ],
          "scatter3d": [
           {
            "line": {
             "colorbar": {
              "outlinewidth": 1,
              "tickcolor": "rgb(36,36,36)",
              "ticks": "outside"
             }
            },
            "marker": {
             "colorbar": {
              "outlinewidth": 1,
              "tickcolor": "rgb(36,36,36)",
              "ticks": "outside"
             }
            },
            "type": "scatter3d"
           }
          ],
          "scattercarpet": [
           {
            "marker": {
             "colorbar": {
              "outlinewidth": 1,
              "tickcolor": "rgb(36,36,36)",
              "ticks": "outside"
             }
            },
            "type": "scattercarpet"
           }
          ],
          "scattergeo": [
           {
            "marker": {
             "colorbar": {
              "outlinewidth": 1,
              "tickcolor": "rgb(36,36,36)",
              "ticks": "outside"
             }
            },
            "type": "scattergeo"
           }
          ],
          "scattergl": [
           {
            "marker": {
             "colorbar": {
              "outlinewidth": 1,
              "tickcolor": "rgb(36,36,36)",
              "ticks": "outside"
             }
            },
            "type": "scattergl"
           }
          ],
          "scattermapbox": [
           {
            "marker": {
             "colorbar": {
              "outlinewidth": 1,
              "tickcolor": "rgb(36,36,36)",
              "ticks": "outside"
             }
            },
            "type": "scattermapbox"
           }
          ],
          "scatterpolar": [
           {
            "marker": {
             "colorbar": {
              "outlinewidth": 1,
              "tickcolor": "rgb(36,36,36)",
              "ticks": "outside"
             }
            },
            "type": "scatterpolar"
           }
          ],
          "scatterpolargl": [
           {
            "marker": {
             "colorbar": {
              "outlinewidth": 1,
              "tickcolor": "rgb(36,36,36)",
              "ticks": "outside"
             }
            },
            "type": "scatterpolargl"
           }
          ],
          "scatterternary": [
           {
            "marker": {
             "colorbar": {
              "outlinewidth": 1,
              "tickcolor": "rgb(36,36,36)",
              "ticks": "outside"
             }
            },
            "type": "scatterternary"
           }
          ],
          "surface": [
           {
            "colorbar": {
             "outlinewidth": 1,
             "tickcolor": "rgb(36,36,36)",
             "ticks": "outside"
            },
            "colorscale": [
             [
              0,
              "#440154"
             ],
             [
              0.1111111111111111,
              "#482878"
             ],
             [
              0.2222222222222222,
              "#3e4989"
             ],
             [
              0.3333333333333333,
              "#31688e"
             ],
             [
              0.4444444444444444,
              "#26828e"
             ],
             [
              0.5555555555555556,
              "#1f9e89"
             ],
             [
              0.6666666666666666,
              "#35b779"
             ],
             [
              0.7777777777777778,
              "#6ece58"
             ],
             [
              0.8888888888888888,
              "#b5de2b"
             ],
             [
              1,
              "#fde725"
             ]
            ],
            "type": "surface"
           }
          ],
          "table": [
           {
            "cells": {
             "fill": {
              "color": "rgb(237,237,237)"
             },
             "line": {
              "color": "white"
             }
            },
            "header": {
             "fill": {
              "color": "rgb(217,217,217)"
             },
             "line": {
              "color": "white"
             }
            },
            "type": "table"
           }
          ]
         },
         "layout": {
          "annotationdefaults": {
           "arrowhead": 0,
           "arrowwidth": 1
          },
          "autotypenumbers": "strict",
          "coloraxis": {
           "colorbar": {
            "outlinewidth": 1,
            "tickcolor": "rgb(36,36,36)",
            "ticks": "outside"
           }
          },
          "colorscale": {
           "diverging": [
            [
             0,
             "rgb(103,0,31)"
            ],
            [
             0.1,
             "rgb(178,24,43)"
            ],
            [
             0.2,
             "rgb(214,96,77)"
            ],
            [
             0.3,
             "rgb(244,165,130)"
            ],
            [
             0.4,
             "rgb(253,219,199)"
            ],
            [
             0.5,
             "rgb(247,247,247)"
            ],
            [
             0.6,
             "rgb(209,229,240)"
            ],
            [
             0.7,
             "rgb(146,197,222)"
            ],
            [
             0.8,
             "rgb(67,147,195)"
            ],
            [
             0.9,
             "rgb(33,102,172)"
            ],
            [
             1,
             "rgb(5,48,97)"
            ]
           ],
           "sequential": [
            [
             0,
             "#440154"
            ],
            [
             0.1111111111111111,
             "#482878"
            ],
            [
             0.2222222222222222,
             "#3e4989"
            ],
            [
             0.3333333333333333,
             "#31688e"
            ],
            [
             0.4444444444444444,
             "#26828e"
            ],
            [
             0.5555555555555556,
             "#1f9e89"
            ],
            [
             0.6666666666666666,
             "#35b779"
            ],
            [
             0.7777777777777778,
             "#6ece58"
            ],
            [
             0.8888888888888888,
             "#b5de2b"
            ],
            [
             1,
             "#fde725"
            ]
           ],
           "sequentialminus": [
            [
             0,
             "#440154"
            ],
            [
             0.1111111111111111,
             "#482878"
            ],
            [
             0.2222222222222222,
             "#3e4989"
            ],
            [
             0.3333333333333333,
             "#31688e"
            ],
            [
             0.4444444444444444,
             "#26828e"
            ],
            [
             0.5555555555555556,
             "#1f9e89"
            ],
            [
             0.6666666666666666,
             "#35b779"
            ],
            [
             0.7777777777777778,
             "#6ece58"
            ],
            [
             0.8888888888888888,
             "#b5de2b"
            ],
            [
             1,
             "#fde725"
            ]
           ]
          },
          "colorway": [
           "#1F77B4",
           "#FF7F0E",
           "#2CA02C",
           "#D62728",
           "#9467BD",
           "#8C564B",
           "#E377C2",
           "#7F7F7F",
           "#BCBD22",
           "#17BECF"
          ],
          "font": {
           "color": "rgb(36,36,36)"
          },
          "geo": {
           "bgcolor": "white",
           "lakecolor": "white",
           "landcolor": "white",
           "showlakes": true,
           "showland": true,
           "subunitcolor": "white"
          },
          "hoverlabel": {
           "align": "left"
          },
          "hovermode": "closest",
          "mapbox": {
           "style": "light"
          },
          "paper_bgcolor": "white",
          "plot_bgcolor": "white",
          "polar": {
           "angularaxis": {
            "gridcolor": "rgb(232,232,232)",
            "linecolor": "rgb(36,36,36)",
            "showgrid": false,
            "showline": true,
            "ticks": "outside"
           },
           "bgcolor": "white",
           "radialaxis": {
            "gridcolor": "rgb(232,232,232)",
            "linecolor": "rgb(36,36,36)",
            "showgrid": false,
            "showline": true,
            "ticks": "outside"
           }
          },
          "scene": {
           "xaxis": {
            "backgroundcolor": "white",
            "gridcolor": "rgb(232,232,232)",
            "gridwidth": 2,
            "linecolor": "rgb(36,36,36)",
            "showbackground": true,
            "showgrid": false,
            "showline": true,
            "ticks": "outside",
            "zeroline": false,
            "zerolinecolor": "rgb(36,36,36)"
           },
           "yaxis": {
            "backgroundcolor": "white",
            "gridcolor": "rgb(232,232,232)",
            "gridwidth": 2,
            "linecolor": "rgb(36,36,36)",
            "showbackground": true,
            "showgrid": false,
            "showline": true,
            "ticks": "outside",
            "zeroline": false,
            "zerolinecolor": "rgb(36,36,36)"
           },
           "zaxis": {
            "backgroundcolor": "white",
            "gridcolor": "rgb(232,232,232)",
            "gridwidth": 2,
            "linecolor": "rgb(36,36,36)",
            "showbackground": true,
            "showgrid": false,
            "showline": true,
            "ticks": "outside",
            "zeroline": false,
            "zerolinecolor": "rgb(36,36,36)"
           }
          },
          "shapedefaults": {
           "fillcolor": "black",
           "line": {
            "width": 0
           },
           "opacity": 0.3
          },
          "ternary": {
           "aaxis": {
            "gridcolor": "rgb(232,232,232)",
            "linecolor": "rgb(36,36,36)",
            "showgrid": false,
            "showline": true,
            "ticks": "outside"
           },
           "baxis": {
            "gridcolor": "rgb(232,232,232)",
            "linecolor": "rgb(36,36,36)",
            "showgrid": false,
            "showline": true,
            "ticks": "outside"
           },
           "bgcolor": "white",
           "caxis": {
            "gridcolor": "rgb(232,232,232)",
            "linecolor": "rgb(36,36,36)",
            "showgrid": false,
            "showline": true,
            "ticks": "outside"
           }
          },
          "title": {
           "x": 0.05
          },
          "xaxis": {
           "automargin": true,
           "gridcolor": "rgb(232,232,232)",
           "linecolor": "rgb(36,36,36)",
           "showgrid": false,
           "showline": true,
           "ticks": "outside",
           "title": {
            "standoff": 15
           },
           "zeroline": false,
           "zerolinecolor": "rgb(36,36,36)"
          },
          "yaxis": {
           "automargin": true,
           "gridcolor": "rgb(232,232,232)",
           "linecolor": "rgb(36,36,36)",
           "showgrid": false,
           "showline": true,
           "ticks": "outside",
           "title": {
            "standoff": 15
           },
           "zeroline": false,
           "zerolinecolor": "rgb(36,36,36)"
          }
         }
        },
        "title": {
         "font": {
          "color": "Black",
          "size": 22
         },
         "text": "<b>Intertopic Distance Map</b>",
         "x": 0.5,
         "xanchor": "center",
         "y": 0.95,
         "yanchor": "top"
        },
        "width": 650,
        "xaxis": {
         "anchor": "y",
         "domain": [
          0,
          1
         ],
         "range": [
          -17.7377028465271,
          17.5238139629364
         ],
         "title": {
          "text": ""
         },
         "visible": false
        },
        "yaxis": {
         "anchor": "x",
         "domain": [
          0,
          1
         ],
         "range": [
          -6.335874032974243,
          23.822653770446777
         ],
         "title": {
          "text": ""
         },
         "visible": false
        }
       }
      }
     },
     "metadata": {},
     "output_type": "display_data"
    }
   ],
   "source": [
    "topic_model.visualize_topics()"
   ]
  },
  {
   "cell_type": "code",
   "execution_count": 13,
   "metadata": {},
   "outputs": [],
   "source": [
    "from sklearn.metrics.pairwise import cosine_similarity\n",
    "import numpy as np\n",
    "\n",
    "def compute_topic_similarity(topic_model, topic_A, topic_B, use_ctfidf=False):\n",
    "    if use_ctfidf:\n",
    "        embeddings = topic_model.c_tf_idf_\n",
    "    else:\n",
    "        embeddings = topic_model.topic_embeddings_\n",
    "\n",
    "    # Adjust for outliers if necessary\n",
    "    if topic_model._outliers:\n",
    "        embeddings = embeddings[topic_model._outliers:]\n",
    "\n",
    "    # Check indices and ensure they match the embeddings\n",
    "    if topic_A >= len(embeddings) or topic_B >= len(embeddings):\n",
    "        raise ValueError(\"Topic IDs must be within the range of available embeddings.\")\n",
    "\n",
    "    # Extract topic embeddings\n",
    "    embedding_A = embeddings[topic_A].reshape(1, -1)\n",
    "    embedding_B = embeddings[topic_B].reshape(1, -1)\n",
    "\n",
    "    # Compute cosine similarity\n",
    "    similarity_score = cosine_similarity(embedding_A, embedding_B)[0][0]\n",
    "    return similarity_score"
   ]
  },
  {
   "cell_type": "code",
   "execution_count": 14,
   "metadata": {},
   "outputs": [
    {
     "data": {
      "application/vnd.plotly.v1+json": {
       "config": {
        "plotlyServerURL": "https://plot.ly"
       },
       "data": [
        {
         "coloraxis": "coloraxis",
         "hovertemplate": "x: %{x}<br>y: %{y}<br>Similarity Score: %{z}<extra></extra>",
         "name": "0",
         "type": "heatmap",
         "x": [
          "0_shelf_shelves_great",
          "1_easy_assemble_to",
          "2_closet_my_organizer",
          "3_kallax_storage_of",
          "4_easy_product_assemble",
          "5_shelving_unit_great",
          "6_tv_stand_as",
          "7_vinyl_records_record",
          "8_versatile_one_can",
          "9_storage_for_great",
          "10_product_good_great",
          "11_unit_this_looks",
          "12_cubes_cube_storage",
          "13_product_very_happy",
          "14_kallax_units_the",
          "15_ikea_is_quality",
          "16_sturdy_very_strong",
          "17_what_exactly_needed",
          "18_bookcase_bookcases_case",
          "19_fits_space_fit",
          "20_kallax_easy_are",
          "21_excellent_nice_its",
          "22_furniture_piece_of",
          "23_storage_closet_extra",
          "24_toy_toys_storage",
          "25_kallax_shelves_shelf",
          "26_gloss_white_high",
          "27_quality_good_price",
          "28_happy_ago_month",
          "29_horizontally_or_vertical",
          "30_kallax_product_dispropor...",
          "31_solid_piece_frame",
          "32_shelf_unit_collectibles",
          "33_kids_toys_room",
          "34_kallax_love_shelves",
          "35_bookshelf_books_bookshel...",
          "36_shelving_unit_kallax",
          "37_them_have_love",
          "38_sturdy_of_husband",
          "39_color_grey_colour",
          "40_value_money_good",
          "41_storage_options_option",
          "42_sturdy_nice_well",
          "43_unit_storage_great",
          "44_size_perfect_room",
          "45_dowels_drill_wooden",
          "46_functional_multifunction...",
          "47_holes_screws_lacquer",
          "48_modern_living_bomb",
          "49_expected_meets_expectati...",
          "50_the_ikea_new",
          "51_an_ikea_that",
          "52_kallax_love_lovevthe",
          "53_bookcase_kallax_bookcases",
          "54_looks_easy_beautiful",
          "55_versatile_configurations...",
          "56_quality_good_installed"
         ],
         "xaxis": "x",
         "y": [
          "0_shelf_shelves_great",
          "1_easy_assemble_to",
          "2_closet_my_organizer",
          "3_kallax_storage_of",
          "4_easy_product_assemble",
          "5_shelving_unit_great",
          "6_tv_stand_as",
          "7_vinyl_records_record",
          "8_versatile_one_can",
          "9_storage_for_great",
          "10_product_good_great",
          "11_unit_this_looks",
          "12_cubes_cube_storage",
          "13_product_very_happy",
          "14_kallax_units_the",
          "15_ikea_is_quality",
          "16_sturdy_very_strong",
          "17_what_exactly_needed",
          "18_bookcase_bookcases_case",
          "19_fits_space_fit",
          "20_kallax_easy_are",
          "21_excellent_nice_its",
          "22_furniture_piece_of",
          "23_storage_closet_extra",
          "24_toy_toys_storage",
          "25_kallax_shelves_shelf",
          "26_gloss_white_high",
          "27_quality_good_price",
          "28_happy_ago_month",
          "29_horizontally_or_vertical",
          "30_kallax_product_dispropor...",
          "31_solid_piece_frame",
          "32_shelf_unit_collectibles",
          "33_kids_toys_room",
          "34_kallax_love_shelves",
          "35_bookshelf_books_bookshel...",
          "36_shelving_unit_kallax",
          "37_them_have_love",
          "38_sturdy_of_husband",
          "39_color_grey_colour",
          "40_value_money_good",
          "41_storage_options_option",
          "42_sturdy_nice_well",
          "43_unit_storage_great",
          "44_size_perfect_room",
          "45_dowels_drill_wooden",
          "46_functional_multifunction...",
          "47_holes_screws_lacquer",
          "48_modern_living_bomb",
          "49_expected_meets_expectati...",
          "50_the_ikea_new",
          "51_an_ikea_that",
          "52_kallax_love_lovevthe",
          "53_bookcase_kallax_bookcases",
          "54_looks_easy_beautiful",
          "55_versatile_configurations...",
          "56_quality_good_installed"
         ],
         "yaxis": "y",
         "z": [
          [
           0.9999998211860657,
           0.5506628751754761,
           0.7069296836853027,
           0.5873368978500366,
           0.6426519155502319,
           0.8677470684051514,
           0.6471580862998962,
           0.6419537663459778,
           0.7131975889205933,
           0.7359476089477539,
           0.302628755569458,
           0.6338777542114258,
           0.5858397483825684,
           0.47102344036102295,
           0.40752026438713074,
           0.6395111083984375,
           0.6246582269668579,
           0.2768045961856842,
           0.6930443048477173,
           0.47287607192993164,
           0.29508161544799805,
           0.3142728805541992,
           0.6751383543014526,
           0.6204567551612854,
           0.6018921136856079,
           0.7248458862304688,
           0.4952484965324402,
           0.55242919921875,
           0.5155360102653503,
           0.5739181041717529,
           0.1747576892375946,
           0.5837849974632263,
           0.7755043506622314,
           0.5506298542022705,
           0.7730340957641602,
           0.7542718052864075,
           0.6849567890167236,
           0.45059043169021606,
           0.7799577116966248,
           0.5454720854759216,
           0.4056909680366516,
           0.5278903245925903,
           0.6785166263580322,
           0.707342267036438,
           0.5734763741493225,
           0.41242915391921997,
           0.36440566182136536,
           0.4261697828769684,
           0.5579116344451904,
           0.24711190164089203,
           0.582325279712677,
           0.8460429310798645,
           0.2087496817111969,
           0.6232625246047974,
           0.571422278881073,
           0.38025784492492676,
           0.6882163882255554
          ],
          [
           0.5506628751754761,
           0.9999997019767761,
           0.5099999904632568,
           0.40397727489471436,
           0.7795649766921997,
           0.5266261100769043,
           0.44172030687332153,
           0.3563266396522522,
           0.5536184310913086,
           0.49819356203079224,
           0.1965646743774414,
           0.4987539052963257,
           0.4326438903808594,
           0.29334959387779236,
           0.3779304027557373,
           0.5961750745773315,
           0.6293434500694275,
           0.24751126766204834,
           0.46805453300476074,
           0.3565528094768524,
           0.4321875274181366,
           0.2947172522544861,
           0.5965311527252197,
           0.42118942737579346,
           0.4399734139442444,
           0.42484164237976074,
           0.3794696629047394,
           0.5060557723045349,
           0.3593601584434509,
           0.37979090213775635,
           0.1539841890335083,
           0.5561950206756592,
           0.3795619010925293,
           0.4787589907646179,
           0.386785626411438,
           0.49427980184555054,
           0.41945022344589233,
           0.28813040256500244,
           0.592720091342926,
           0.3469599187374115,
           0.31817391514778137,
           0.3169044852256775,
           0.5924962759017944,
           0.5383470058441162,
           0.3862658739089966,
           0.5051725506782532,
           0.49376025795936584,
           0.4461088180541992,
           0.49511420726776123,
           0.2435312420129776,
           0.41613441705703735,
           0.5516210198402405,
           0.2117275595664978,
           0.3964219093322754,
           0.7802528142929077,
           0.4281246066093445,
           0.6834939122200012
          ],
          [
           0.7069296836853027,
           0.5099999904632568,
           0.9999997615814209,
           0.6904853582382202,
           0.6561658382415771,
           0.7082172632217407,
           0.5673781633377075,
           0.6365125775337219,
           0.7800548076629639,
           0.778010368347168,
           0.3783106505870819,
           0.5614175200462341,
           0.710380494594574,
           0.4819669723510742,
           0.48575666546821594,
           0.641371488571167,
           0.4675881862640381,
           0.42602452635765076,
           0.6122747659683228,
           0.6077057123184204,
           0.38070422410964966,
           0.31118619441986084,
           0.6957523822784424,
           0.7339942455291748,
           0.729414165019989,
           0.5784939527511597,
           0.36537450551986694,
           0.4841947853565216,
           0.472581684589386,
           0.6296747922897339,
           0.23238329589366913,
           0.4839767515659332,
           0.6289466619491577,
           0.7114497423171997,
           0.6035665273666382,
           0.6811270713806152,
           0.6084744930267334,
           0.4667919874191284,
           0.546088695526123,
           0.45922160148620605,
           0.35040441155433655,
           0.634528636932373,
           0.5756350755691528,
           0.6897797584533691,
           0.6097738742828369,
           0.36202847957611084,
           0.42326033115386963,
           0.3950796127319336,
           0.6938074827194214,
           0.2926841378211975,
           0.48835277557373047,
           0.7311487197875977,
           0.21963976323604584,
           0.5627799034118652,
           0.5438594222068787,
           0.453100323677063,
           0.642764151096344
          ],
          [
           0.5873368978500366,
           0.40397727489471436,
           0.6904853582382202,
           1,
           0.4533950090408325,
           0.6394023895263672,
           0.46803709864616394,
           0.6289284229278564,
           0.6844822764396667,
           0.7493208050727844,
           0.2636750042438507,
           0.46987998485565186,
           0.6739712953567505,
           0.32064348459243774,
           0.7925314903259277,
           0.45580169558525085,
           0.3532412648200989,
           0.3123823404312134,
           0.4961135983467102,
           0.39269202947616577,
           0.6965607404708862,
           0.16420628130435944,
           0.504968523979187,
           0.7435310482978821,
           0.7345880270004272,
           0.8029029369354248,
           0.3917119801044464,
           0.3295000195503235,
           0.3316015601158142,
           0.5263724327087402,
           0.6129529476165771,
           0.4345864951610565,
           0.611126720905304,
           0.5611479878425598,
           0.7924238443374634,
           0.5568955540657043,
           0.8102900981903076,
           0.40524542331695557,
           0.4819250702857971,
           0.37775033712387085,
           0.2853282392024994,
           0.7774640917778015,
           0.43626508116722107,
           0.7271644473075867,
           0.4449567496776581,
           0.2860974669456482,
           0.35040995478630066,
           0.27218982577323914,
           0.49092212319374084,
           0.15070760250091553,
           0.6312644481658936,
           0.5773404836654663,
           0.597044825553894,
           0.7300949692726135,
           0.34296682476997375,
           0.374520480632782,
           0.44076406955718994
          ],
          [
           0.6426519155502319,
           0.7795649766921997,
           0.6561658382415771,
           0.4533950090408325,
           1,
           0.594664454460144,
           0.5612744092941284,
           0.4652833938598633,
           0.5471257567405701,
           0.6063264608383179,
           0.45924144983291626,
           0.7435551285743713,
           0.5211074352264404,
           0.6779907941818237,
           0.5125458836555481,
           0.7005867958068848,
           0.6149125695228577,
           0.4442373812198639,
           0.5282997488975525,
           0.49508950114250183,
           0.4888553023338318,
           0.5065287947654724,
           0.7261390686035156,
           0.37144210934638977,
           0.48713791370391846,
           0.435965895652771,
           0.42258697748184204,
           0.7091836333274841,
           0.696166455745697,
           0.46715807914733887,
           0.2730986773967743,
           0.5153375864028931,
           0.3647627532482147,
           0.5785160064697266,
           0.5298714637756348,
           0.5635157823562622,
           0.4642865061759949,
           0.5387997627258301,
           0.5122554898262024,
           0.4311552941799164,
           0.44596999883651733,
           0.40506070852279663,
           0.7480405569076538,
           0.6441683769226074,
           0.48562443256378174,
           0.4850820302963257,
           0.5263949036598206,
           0.645524263381958,
           0.6780513525009155,
           0.36588919162750244,
           0.5038781762123108,
           0.6353689432144165,
           0.3099023699760437,
           0.44826948642730713,
           0.9005224704742432,
           0.513294517993927,
           0.7622976899147034
          ],
          [
           0.8677470684051514,
           0.5266261100769043,
           0.7082172632217407,
           0.6394023895263672,
           0.594664454460144,
           0.9999997615814209,
           0.6397249698638916,
           0.6495907306671143,
           0.7679022550582886,
           0.6839377284049988,
           0.2570403218269348,
           0.6175123453140259,
           0.6265077590942383,
           0.39411383867263794,
           0.4483765959739685,
           0.6372061967849731,
           0.5436449646949768,
           0.2881503701210022,
           0.6654959917068481,
           0.3963070511817932,
           0.3684520721435547,
           0.20009373128414154,
           0.6246525049209595,
           0.6728197336196899,
           0.606988787651062,
           0.73964524269104,
           0.5082324743270874,
           0.44837987422943115,
           0.40436941385269165,
           0.6016738414764404,
           0.20143422484397888,
           0.6039220094680786,
           0.7888776063919067,
           0.5557868480682373,
           0.7583944797515869,
           0.7495921850204468,
           0.8216232061386108,
           0.4051453769207001,
           0.718347430229187,
           0.5203564167022705,
           0.31712251901626587,
           0.5585182309150696,
           0.5787532329559326,
           0.6754347681999207,
           0.5266683101654053,
           0.38886868953704834,
           0.34634751081466675,
           0.38848453760147095,
           0.5453087091445923,
           0.17108359932899475,
           0.564408004283905,
           0.8296149969100952,
           0.193912535905838,
           0.6360845565795898,
           0.49839115142822266,
           0.4016657769680023,
           0.6001538038253784
          ],
          [
           0.6471580862998962,
           0.44172030687332153,
           0.5673781633377075,
           0.46803709864616394,
           0.5612744092941284,
           0.6397249698638916,
           1.0000001192092896,
           0.47704142332077026,
           0.6231108903884888,
           0.5877914428710938,
           0.2863643765449524,
           0.5649077892303467,
           0.5208279490470886,
           0.38732337951660156,
           0.38143542408943176,
           0.5856567621231079,
           0.5007181167602539,
           0.318706214427948,
           0.559097170829773,
           0.4786316752433777,
           0.3182661831378937,
           0.29325711727142334,
           0.6347498893737793,
           0.4997546076774597,
           0.5061858296394348,
           0.49655452370643616,
           0.3316347002983093,
           0.4360085725784302,
           0.43424779176712036,
           0.6147714853286743,
           0.17781290411949158,
           0.48424404859542847,
           0.5872552394866943,
           0.5090157985687256,
           0.5144736766815186,
           0.6097737550735474,
           0.543964147567749,
           0.34595078229904175,
           0.5343798995018005,
           0.3961516320705414,
           0.3530313968658447,
           0.4331660270690918,
           0.5523521900177002,
           0.5377855896949768,
           0.5044766664505005,
           0.31781789660453796,
           0.33562010526657104,
           0.3935032784938812,
           0.5608481168746948,
           0.24816036224365234,
           0.43131929636001587,
           0.6206194758415222,
           0.1631339192390442,
           0.49349209666252136,
           0.4728887677192688,
           0.36559534072875977,
           0.5078282356262207
          ],
          [
           0.6419537663459778,
           0.3563266396522522,
           0.6365125775337219,
           0.6289284229278564,
           0.4652833938598633,
           0.6495907306671143,
           0.47704142332077026,
           0.9999998211860657,
           0.5948623418807983,
           0.6823723316192627,
           0.23394963145256042,
           0.4879792034626007,
           0.5709432363510132,
           0.3465409278869629,
           0.4077637195587158,
           0.4450921416282654,
           0.3766006529331207,
           0.28968819975852966,
           0.46644195914268494,
           0.4087735712528229,
           0.2900382876396179,
           0.20343558490276337,
           0.49171537160873413,
           0.5891176462173462,
           0.5707186460494995,
           0.5439806580543518,
           0.4035254120826721,
           0.43585318326950073,
           0.35881340503692627,
           0.5006716251373291,
           0.2080772966146469,
           0.4100620448589325,
           0.5767115354537964,
           0.42601191997528076,
           0.5755501389503479,
           0.539924144744873,
           0.5816189050674438,
           0.3509390354156494,
           0.48426300287246704,
           0.34101009368896484,
           0.3549233078956604,
           0.5971574187278748,
           0.4535254240036011,
           0.6573370695114136,
           0.5157473087310791,
           0.2472069263458252,
           0.2375873476266861,
           0.3044170141220093,
           0.4049018621444702,
           0.16681668162345886,
           0.43849900364875793,
           0.6018980741500854,
           0.2087000608444214,
           0.4999427795410156,
           0.3594478964805603,
           0.33185791969299316,
           0.5120794773101807
          ],
          [
           0.7131975889205933,
           0.5536184310913086,
           0.7800548076629639,
           0.6844822764396667,
           0.5471257567405701,
           0.7679022550582886,
           0.6231108903884888,
           0.5948623418807983,
           1.000000238418579,
           0.7015194296836853,
           0.2103765457868576,
           0.5260758399963379,
           0.6582003235816956,
           0.30252981185913086,
           0.4971945881843567,
           0.6339049935340881,
           0.4850160777568817,
           0.3246596157550812,
           0.6254053115844727,
           0.3906388282775879,
           0.36659473180770874,
           0.14532513916492462,
           0.6982431411743164,
           0.7505133152008057,
           0.6966018676757812,
           0.6420955657958984,
           0.39340561628341675,
           0.3474610447883606,
           0.3262682557106018,
           0.7352077960968018,
           0.17485880851745605,
           0.5139585733413696,
           0.7183936834335327,
           0.631210207939148,
           0.6553605794906616,
           0.6835445165634155,
           0.6832222938537598,
           0.35393327474594116,
           0.6517388820648193,
           0.4532395601272583,
           0.25731608271598816,
           0.6477875709533691,
           0.48191580176353455,
           0.6538392305374146,
           0.4444027543067932,
           0.34259936213493347,
           0.4889088273048401,
           0.2708727717399597,
           0.5850145816802979,
           0.15753425657749176,
           0.516999363899231,
           0.8098792433738708,
           0.20743493735790253,
           0.5967258810997009,
           0.42777949571609497,
           0.6619330048561096,
           0.5090396404266357
          ],
          [
           0.7359476089477539,
           0.49819356203079224,
           0.778010368347168,
           0.7493208050727844,
           0.6063264608383179,
           0.6839377284049988,
           0.5877914428710938,
           0.6823723316192627,
           0.7015194296836853,
           0.9999997615814209,
           0.31727057695388794,
           0.5517808794975281,
           0.7036192417144775,
           0.4572919011116028,
           0.4241138696670532,
           0.5552456378936768,
           0.5120289921760559,
           0.3455551266670227,
           0.5988199710845947,
           0.5685878992080688,
           0.2923416197299957,
           0.3344060480594635,
           0.663114070892334,
           0.8232911229133606,
           0.8194259405136108,
           0.5294551849365234,
           0.36262643337249756,
           0.515885591506958,
           0.5115305185317993,
           0.5782203674316406,
           0.17534925043582916,
           0.5284068584442139,
           0.6093987226486206,
           0.6334776878356934,
           0.5459722280502319,
           0.658332109451294,
           0.5232818126678467,
           0.4647875428199768,
           0.5625150203704834,
           0.4166848659515381,
           0.44626501202583313,
           0.824871301651001,
           0.5982701182365417,
           0.8668757677078247,
           0.639511227607727,
           0.30139338970184326,
           0.4030110538005829,
           0.34867846965789795,
           0.6053996086120605,
           0.23948681354522705,
           0.4421282112598419,
           0.6431016325950623,
           0.19293618202209473,
           0.5312874913215637,
           0.532855749130249,
           0.3928729295730591,
           0.6409395933151245
          ],
          [
           0.302628755569458,
           0.1965646743774414,
           0.3783106505870819,
           0.2636750042438507,
           0.45924144983291626,
           0.2570403218269348,
           0.2863643765449524,
           0.23394963145256042,
           0.2103765457868576,
           0.31727057695388794,
           0.9999996423721313,
           0.43953078985214233,
           0.2595131993293762,
           0.83025062084198,
           0.2940422296524048,
           0.251664400100708,
           0.13106653094291687,
           0.4043116569519043,
           0.25479641556739807,
           0.31963062286376953,
           0.24548456072807312,
           0.5737074613571167,
           0.3305487036705017,
           0.1632753610610962,
           0.2436399757862091,
           0.2046968936920166,
           0.20398107171058655,
           0.49530720710754395,
           0.5138288736343384,
           0.22115015983581543,
           0.37390244007110596,
           0.17958903312683105,
           0.18816612660884857,
           0.31445762515068054,
           0.2861554026603699,
           0.21666282415390015,
           0.22496464848518372,
           0.36368241906166077,
           0.09242243319749832,
           0.2054709792137146,
           0.4325858950614929,
           0.30912527441978455,
           0.40440279245376587,
           0.3792571425437927,
           0.2312396913766861,
           0.1215706318616867,
           0.3016931116580963,
           0.2752900719642639,
           0.46615153551101685,
           0.3106021285057068,
           0.18684229254722595,
           0.2081032544374466,
           0.29930925369262695,
           0.22643104195594788,
           0.3686179518699646,
           0.33280518651008606,
           0.300942987203598
          ],
          [
           0.6338777542114258,
           0.4987539052963257,
           0.5614175200462341,
           0.46987998485565186,
           0.7435551285743713,
           0.6175123453140259,
           0.5649077892303467,
           0.4879792034626007,
           0.5260758399963379,
           0.5517808794975281,
           0.43953078985214233,
           0.9999999403953552,
           0.4554900527000427,
           0.647625744342804,
           0.5604557394981384,
           0.5552427172660828,
           0.504871129989624,
           0.5145285725593567,
           0.44344478845596313,
           0.47924309968948364,
           0.3379071354866028,
           0.4826274514198303,
           0.6062204837799072,
           0.35828620195388794,
           0.40070486068725586,
           0.3875417411327362,
           0.3859264850616455,
           0.6513102650642395,
           0.6609470844268799,
           0.44500932097435,
           0.2691216468811035,
           0.4759630560874939,
           0.4596269130706787,
           0.5322650671005249,
           0.600021481513977,
           0.5004075765609741,
           0.5477813482284546,
           0.526640772819519,
           0.4604094624519348,
           0.4038267731666565,
           0.4724178612232208,
           0.4586164951324463,
           0.6350021362304688,
           0.7527066469192505,
           0.4462377429008484,
           0.2809482514858246,
           0.46069061756134033,
           0.556149959564209,
           0.6660327911376953,
           0.35325324535369873,
           0.42473918199539185,
           0.593600869178772,
           0.2988765835762024,
           0.40003180503845215,
           0.6240522265434265,
           0.5576008558273315,
           0.6010072231292725
          ],
          [
           0.5858397483825684,
           0.4326438903808594,
           0.710380494594574,
           0.6739712953567505,
           0.5211074352264404,
           0.6265077590942383,
           0.5208279490470886,
           0.5709432363510132,
           0.6582003235816956,
           0.7036192417144775,
           0.2595131993293762,
           0.4554900527000427,
           0.9999998807907104,
           0.343064546585083,
           0.4497307538986206,
           0.5648881196975708,
           0.41909000277519226,
           0.2665777802467346,
           0.5240610837936401,
           0.4240812659263611,
           0.3750942647457123,
           0.21446025371551514,
           0.6307193040847778,
           0.6647223234176636,
           0.7426519393920898,
           0.5245790481567383,
           0.32063722610473633,
           0.37311381101608276,
           0.36126285791397095,
           0.5309140086174011,
           0.20450815558433533,
           0.46594685316085815,
           0.5910743474960327,
           0.6413402557373047,
           0.554600715637207,
           0.5522008538246155,
           0.5631922483444214,
           0.4685354232788086,
           0.5254045128822327,
           0.40486979484558105,
           0.3045586049556732,
           0.6147024631500244,
           0.4745270609855652,
           0.617445170879364,
           0.5455625057220459,
           0.3543508052825928,
           0.35526561737060547,
           0.32183805108070374,
           0.5588525533676147,
           0.1618487536907196,
           0.49249327182769775,
           0.6202095746994019,
           0.20098866522312164,
           0.5108969211578369,
           0.3975568413734436,
           0.35753801465034485,
           0.5060901045799255
          ],
          [
           0.47102344036102295,
           0.29334959387779236,
           0.4819669723510742,
           0.32064348459243774,
           0.6779907941818237,
           0.39411383867263794,
           0.38732337951660156,
           0.3465409278869629,
           0.30252981185913086,
           0.4572919011116028,
           0.83025062084198,
           0.647625744342804,
           0.343064546585083,
           1,
           0.4110128879547119,
           0.43497660756111145,
           0.3078286647796631,
           0.5012200474739075,
           0.36341410875320435,
           0.4105047881603241,
           0.3199053406715393,
           0.6567076444625854,
           0.5094602108001709,
           0.17551693320274353,
           0.3030126690864563,
           0.2647258937358856,
           0.3280468285083771,
           0.7000100016593933,
           0.7861654758453369,
           0.2856293320655823,
           0.419403612613678,
           0.284251868724823,
           0.21378731727600098,
           0.4163629710674286,
           0.43287765979766846,
           0.36188095808029175,
           0.2871420383453369,
           0.5613836646080017,
           0.22113800048828125,
           0.34379351139068604,
           0.538184642791748,
           0.3518252670764923,
           0.5856072902679443,
           0.5079898834228516,
           0.35790279507637024,
           0.13851548731327057,
           0.4539879858493805,
           0.40683841705322266,
           0.615554690361023,
           0.41075947880744934,
           0.31952282786369324,
           0.36920031905174255,
           0.3854723572731018,
           0.3094763159751892,
           0.5700122117996216,
           0.47444915771484375,
           0.508490264415741
          ],
          [
           0.40752026438713074,
           0.3779304027557373,
           0.48575666546821594,
           0.7925314903259277,
           0.5125458836555481,
           0.4483765959739685,
           0.38143542408943176,
           0.4077637195587158,
           0.4971945881843567,
           0.4241138696670532,
           0.2940422296524048,
           0.5604557394981384,
           0.4497307538986206,
           0.4110128879547119,
           1,
           0.3901153802871704,
           0.3196692168712616,
           0.4025965929031372,
           0.3476606011390686,
           0.36005955934524536,
           0.7997137308120728,
           0.27167177200317383,
           0.44197526574134827,
           0.3424176573753357,
           0.41267359256744385,
           0.6631736755371094,
           0.4102742075920105,
           0.41774553060531616,
           0.45341193675994873,
           0.3896360993385315,
           0.7847244739532471,
           0.31214651465415955,
           0.33067768812179565,
           0.47502851486206055,
           0.8067076206207275,
           0.37712013721466064,
           0.6993331909179688,
           0.47509732842445374,
           0.3353065848350525,
           0.3595840334892273,
           0.31434395909309387,
           0.4288894832134247,
           0.4282981753349304,
           0.47886794805526733,
           0.2955534756183624,
           0.24714717268943787,
           0.40241798758506775,
           0.37130120396614075,
           0.529423713684082,
           0.2678890824317932,
           0.6520305871963501,
           0.4199601411819458,
           0.8526501059532166,
           0.6611952781677246,
           0.42991694808006287,
           0.48383140563964844,
           0.38376539945602417
          ],
          [
           0.6395111083984375,
           0.5961750745773315,
           0.641371488571167,
           0.45580169558525085,
           0.7005867958068848,
           0.6372061967849731,
           0.5856567621231079,
           0.4450921416282654,
           0.6339049935340881,
           0.5552456378936768,
           0.251664400100708,
           0.5552427172660828,
           0.5648881196975708,
           0.43497660756111145,
           0.3901153802871704,
           1.0000001192092896,
           0.5914819836616516,
           0.2697170376777649,
           0.5865292549133301,
           0.4100953936576843,
           0.3833358585834503,
           0.2698085308074951,
           0.8190985321998596,
           0.48609256744384766,
           0.49624377489089966,
           0.4818265736103058,
           0.45846763253211975,
           0.5342133641242981,
           0.47768229246139526,
           0.4787856340408325,
           0.15891189873218536,
           0.5496601462364197,
           0.4668163061141968,
           0.5525550842285156,
           0.5461794137954712,
           0.6516597867012024,
           0.502350389957428,
           0.4339449405670166,
           0.6231672167778015,
           0.5219764113426208,
           0.3383687436580658,
           0.3939877152442932,
           0.6171841621398926,
           0.5157032608985901,
           0.4382469654083252,
           0.512055516242981,
           0.46489500999450684,
           0.5301207304000854,
           0.6286013126373291,
           0.2873992323875427,
           0.7374931573867798,
           0.8158566355705261,
           0.16633987426757812,
           0.49247580766677856,
           0.5981321334838867,
           0.3899276554584503,
           0.6628744602203369
          ],
          [
           0.6246582269668579,
           0.6293434500694275,
           0.4675881862640381,
           0.3532412648200989,
           0.6149125695228577,
           0.5436449646949768,
           0.5007181167602539,
           0.3766006529331207,
           0.4850160777568817,
           0.5120289921760559,
           0.13106653094291687,
           0.504871129989624,
           0.41909000277519226,
           0.3078286647796631,
           0.3196692168712616,
           0.5914819836616516,
           0.9999998807907104,
           0.1320141851902008,
           0.4826588034629822,
           0.24180985987186432,
           0.3236931562423706,
           0.28162500262260437,
           0.6011078357696533,
           0.3848762810230255,
           0.4262288212776184,
           0.42641133069992065,
           0.3964962959289551,
           0.5281002521514893,
           0.38753896951675415,
           0.3590584993362427,
           0.12989000976085663,
           0.6824897527694702,
           0.38872572779655457,
           0.46298834681510925,
           0.4263143539428711,
           0.5187923908233643,
           0.3694227933883667,
           0.30924320220947266,
           0.8807387948036194,
           0.38686472177505493,
           0.3710162043571472,
           0.23711366951465607,
           0.8566830158233643,
           0.4648187756538391,
           0.36151933670043945,
           0.38322320580482483,
           0.4838852882385254,
           0.4297189712524414,
           0.4249607026576996,
           0.19698449969291687,
           0.43607097864151,
           0.5397352576255798,
           0.17893250286579132,
           0.4034469723701477,
           0.5695902109146118,
           0.3188900351524353,
           0.6807081699371338
          ],
          [
           0.2768045961856842,
           0.24751126766204834,
           0.42602452635765076,
           0.3123823404312134,
           0.4442373812198639,
           0.2881503701210022,
           0.318706214427948,
           0.28968819975852966,
           0.3246596157550812,
           0.3455551266670227,
           0.4043116569519043,
           0.5145285725593567,
           0.2665777802467346,
           0.5012200474739075,
           0.4025965929031372,
           0.2697170376777649,
           0.1320141851902008,
           0.9999998807907104,
           0.2470829039812088,
           0.44106918573379517,
           0.2945401072502136,
           0.4225090742111206,
           0.3598170578479767,
           0.23814067244529724,
           0.29105064272880554,
           0.20895066857337952,
           0.20106926560401917,
           0.4204893708229065,
           0.425586074590683,
           0.27159541845321655,
           0.324421763420105,
           0.2109563946723938,
           0.23567306995391846,
           0.37103837728500366,
           0.29336363077163696,
           0.2572579085826874,
           0.2851133346557617,
           0.30770736932754517,
           0.06759090721607208,
           0.2133597731590271,
           0.3843265175819397,
           0.3941238522529602,
           0.32853639125823975,
           0.4159219264984131,
           0.298221230506897,
           0.1702542006969452,
           0.3967791795730591,
           0.3219541013240814,
           0.4913890063762665,
           0.5004681348800659,
           0.15633563697338104,
           0.2952524423599243,
           0.28266462683677673,
           0.2250058352947235,
           0.3643810451030731,
           0.5418188571929932,
           0.2840445637702942
          ],
          [
           0.6930443048477173,
           0.46805453300476074,
           0.6122747659683228,
           0.4961135983467102,
           0.5282997488975525,
           0.6654959917068481,
           0.559097170829773,
           0.46644195914268494,
           0.6254053115844727,
           0.5988199710845947,
           0.25479641556739807,
           0.44344478845596313,
           0.5240610837936401,
           0.36341410875320435,
           0.3476606011390686,
           0.5865292549133301,
           0.4826588034629822,
           0.2470829039812088,
           1.000000238418579,
           0.4432286024093628,
           0.3159765899181366,
           0.24601370096206665,
           0.6515522599220276,
           0.5408432483673096,
           0.5440443754196167,
           0.5820579528808594,
           0.46757394075393677,
           0.41386038064956665,
           0.44631922245025635,
           0.5124437808990479,
           0.1626884788274765,
           0.47346341609954834,
           0.6343696117401123,
           0.5463643670082092,
           0.559025764465332,
           0.8335740566253662,
           0.5531341433525085,
           0.4026504456996918,
           0.6240830421447754,
           0.48362091183662415,
           0.33268746733665466,
           0.4345880150794983,
           0.5384747982025146,
           0.5057700276374817,
           0.4413762092590332,
           0.3091576397418976,
           0.3506477475166321,
           0.3150216341018677,
           0.5601436495780945,
           0.21038097143173218,
           0.47166886925697327,
           0.6624614000320435,
           0.1608705073595047,
           0.8637773990631104,
           0.4792006313800812,
           0.31074485182762146,
           0.5509541034698486
          ],
          [
           0.47287607192993164,
           0.3565528094768524,
           0.6077057123184204,
           0.39269202947616577,
           0.49508950114250183,
           0.3963070511817932,
           0.4786316752433777,
           0.4087735712528229,
           0.3906388282775879,
           0.5685878992080688,
           0.31963062286376953,
           0.47924309968948364,
           0.4240812659263611,
           0.4105047881603241,
           0.36005955934524536,
           0.4100953936576843,
           0.24180985987186432,
           0.44106918573379517,
           0.4432286024093628,
           0.9999998807907104,
           0.19880634546279907,
           0.4124542474746704,
           0.5238234996795654,
           0.39739859104156494,
           0.412558913230896,
           0.2689396142959595,
           0.22713689506053925,
           0.4580698013305664,
           0.4941334128379822,
           0.37334513664245605,
           0.14754363894462585,
           0.3060939908027649,
           0.3314560055732727,
           0.47673118114471436,
           0.36341455578804016,
           0.45029252767562866,
           0.31511884927749634,
           0.36250898241996765,
           0.21741622686386108,
           0.27271315455436707,
           0.3061184287071228,
           0.40894466638565063,
           0.39785236120224,
           0.5137054920196533,
           0.6908382177352905,
           0.20516419410705566,
           0.28883296251296997,
           0.38503265380859375,
           0.6320884227752686,
           0.4124273657798767,
           0.2924371361732483,
           0.42111510038375854,
           0.19180789589881897,
           0.3759749233722687,
           0.5172003507614136,
           0.3244238495826721,
           0.46035054326057434
          ],
          [
           0.29508161544799805,
           0.4321875274181366,
           0.38070422410964966,
           0.6965607404708862,
           0.4888553023338318,
           0.3684520721435547,
           0.3182661831378937,
           0.2900382876396179,
           0.36659473180770874,
           0.2923416197299957,
           0.24548456072807312,
           0.3379071354866028,
           0.3750942647457123,
           0.3199053406715393,
           0.7997137308120728,
           0.3833358585834503,
           0.3236931562423706,
           0.2945401072502136,
           0.3159765899181366,
           0.19880634546279907,
           1,
           0.18666404485702515,
           0.38289856910705566,
           0.3000676929950714,
           0.33542191982269287,
           0.7294107675552368,
           0.4225183129310608,
           0.34218114614486694,
           0.33145490288734436,
           0.2770681083202362,
           0.8641922473907471,
           0.3418049216270447,
           0.33781641721725464,
           0.31310951709747314,
           0.6317058801651001,
           0.34629058837890625,
           0.6908349990844727,
           0.32361066341400146,
           0.29129597544670105,
           0.3321636915206909,
           0.2133117914199829,
           0.33432537317276,
           0.43555188179016113,
           0.33428746461868286,
           0.19779042899608612,
           0.2595250904560089,
           0.36565423011779785,
           0.31089574098587036,
           0.37708717584609985,
           0.14557307958602905,
           0.5585330724716187,
           0.3106200397014618,
           0.7668166160583496,
           0.6226472854614258,
           0.42437252402305603,
           0.3395501375198364,
           0.33646517992019653
          ],
          [
           0.3142728805541992,
           0.2947172522544861,
           0.31118619441986084,
           0.16420628130435944,
           0.5065287947654724,
           0.20009373128414154,
           0.29325711727142334,
           0.20343558490276337,
           0.14532513916492462,
           0.3344060480594635,
           0.5737074613571167,
           0.4826274514198303,
           0.21446025371551514,
           0.6567076444625854,
           0.27167177200317383,
           0.2698085308074951,
           0.28162500262260437,
           0.4225090742111206,
           0.24601370096206665,
           0.4124542474746704,
           0.18666404485702515,
           1,
           0.39910688996315,
           0.07101964950561523,
           0.21094629168510437,
           0.09871231019496918,
           0.24381524324417114,
           0.6069470047950745,
           0.6169250011444092,
           0.1840604841709137,
           0.2574083209037781,
           0.2592647969722748,
           0.08809516578912735,
           0.35041505098342896,
           0.23259079456329346,
           0.2436589002609253,
           0.11134602129459381,
           0.4770834743976593,
           0.15519867837429047,
           0.2440984845161438,
           0.5283927917480469,
           0.17850139737129211,
           0.48732447624206543,
           0.3517633080482483,
           0.31422001123428345,
           0.11736641824245453,
           0.3627766966819763,
           0.30745959281921387,
           0.46276557445526123,
           0.5019712448120117,
           0.16435423493385315,
           0.1950896978378296,
           0.3096249997615814,
           0.17765367031097412,
           0.5123471021652222,
           0.3736233711242676,
           0.42806029319763184
          ],
          [
           0.6751383543014526,
           0.5965311527252197,
           0.6957523822784424,
           0.504968523979187,
           0.7261390686035156,
           0.6246525049209595,
           0.6347498893737793,
           0.49171537160873413,
           0.6982431411743164,
           0.663114070892334,
           0.3305487036705017,
           0.6062204837799072,
           0.6307193040847778,
           0.5094602108001709,
           0.44197526574134827,
           0.8190985321998596,
           0.6011078357696533,
           0.3598170578479767,
           0.6515522599220276,
           0.5238234996795654,
           0.38289856910705566,
           0.39910688996315,
           1,
           0.5333901643753052,
           0.5846102237701416,
           0.4900662302970886,
           0.45457032322883606,
           0.5906292200088501,
           0.5634127855300903,
           0.538051962852478,
           0.19516782462596893,
           0.5677802562713623,
           0.5111851692199707,
           0.6743305921554565,
           0.5565824508666992,
           0.6990651488304138,
           0.4910632073879242,
           0.4811657667160034,
           0.6211380362510681,
           0.5484747886657715,
           0.41314148902893066,
           0.4396498203277588,
           0.6674765348434448,
           0.5927755832672119,
           0.5213034152984619,
           0.43706732988357544,
           0.538302481174469,
           0.4579945206642151,
           0.7678641676902771,
           0.29669898748397827,
           0.6044370532035828,
           0.7388589978218079,
           0.24360980093479156,
           0.5566270351409912,
           0.6473593711853027,
           0.4613630771636963,
           0.6694010496139526
          ],
          [
           0.6204567551612854,
           0.42118942737579346,
           0.7339942455291748,
           0.7435310482978821,
           0.37144210934638977,
           0.6728197336196899,
           0.4997546076774597,
           0.5891176462173462,
           0.7505133152008057,
           0.8232911229133606,
           0.1632753610610962,
           0.35828620195388794,
           0.6647223234176636,
           0.17551693320274353,
           0.3424176573753357,
           0.48609256744384766,
           0.3848762810230255,
           0.23814067244529724,
           0.5408432483673096,
           0.39739859104156494,
           0.3000676929950714,
           0.07101964950561523,
           0.5333901643753052,
           1,
           0.8045591711997986,
           0.6192554831504822,
           0.2912473678588867,
           0.23473995923995972,
           0.21580377221107483,
           0.5941523313522339,
           0.10896240174770355,
           0.4931918978691101,
           0.7881825566291809,
           0.5165600776672363,
           0.4972500205039978,
           0.598670482635498,
           0.624152660369873,
           0.32074490189552307,
           0.5234538316726685,
           0.3570852279663086,
           0.21155871450901031,
           0.7802262306213379,
           0.39229482412338257,
           0.7194122076034546,
           0.485599160194397,
           0.2958603501319885,
           0.3230385184288025,
           0.21425990760326385,
           0.4444217085838318,
           0.07590776681900024,
           0.37563556432724,
           0.6107733249664307,
           0.094688780605793,
           0.5079176425933838,
           0.27556076645851135,
           0.32230937480926514,
           0.4180716276168823
          ],
          [
           0.6018921136856079,
           0.4399734139442444,
           0.729414165019989,
           0.7345880270004272,
           0.48713791370391846,
           0.606988787651062,
           0.5061858296394348,
           0.5707186460494995,
           0.6966018676757812,
           0.8194259405136108,
           0.2436399757862091,
           0.40070486068725586,
           0.7426519393920898,
           0.3030126690864563,
           0.41267359256744385,
           0.49624377489089966,
           0.4262288212776184,
           0.29105064272880554,
           0.5440443754196167,
           0.412558913230896,
           0.33542191982269287,
           0.21094629168510437,
           0.5846102237701416,
           0.8045591711997986,
           1.0000001192092896,
           0.5417855978012085,
           0.2520311176776886,
           0.3282926082611084,
           0.3298390507698059,
           0.5875831842422485,
           0.17910495400428772,
           0.4630347490310669,
           0.6203852891921997,
           0.7823572158813477,
           0.5033460855484009,
           0.6014540195465088,
           0.5343637466430664,
           0.39558184146881104,
           0.519065260887146,
           0.3523852825164795,
           0.32191747426986694,
           0.7048923373222351,
           0.4677142798900604,
           0.6978431940078735,
           0.5148974657058716,
           0.35106348991394043,
           0.39406725764274597,
           0.30054038763046265,
           0.474967896938324,
           0.1833961009979248,
           0.4053491950035095,
           0.591382622718811,
           0.1850438117980957,
           0.5206150412559509,
           0.36999350786209106,
           0.350615918636322,
           0.4998704791069031
          ],
          [
           0.7248458862304688,
           0.42484164237976074,
           0.5784939527511597,
           0.8029029369354248,
           0.435965895652771,
           0.73964524269104,
           0.49655452370643616,
           0.5439806580543518,
           0.6420955657958984,
           0.5294551849365234,
           0.2046968936920166,
           0.3875417411327362,
           0.5245790481567383,
           0.2647258937358856,
           0.6631736755371094,
           0.4818265736103058,
           0.42641133069992065,
           0.20895066857337952,
           0.5820579528808594,
           0.2689396142959595,
           0.7294107675552368,
           0.09871231019496918,
           0.4900662302970886,
           0.6192554831504822,
           0.5417855978012085,
           1,
           0.5126073360443115,
           0.3100539445877075,
           0.29256880283355713,
           0.5235785841941833,
           0.5798678398132324,
           0.48781609535217285,
           0.7841382026672363,
           0.398876428604126,
           0.8602683544158936,
           0.6284438967704773,
           0.9162253141403198,
           0.3374554216861725,
           0.5978933572769165,
           0.47882214188575745,
           0.20288795232772827,
           0.4995601177215576,
           0.49668198823928833,
           0.5193975567817688,
           0.358206570148468,
           0.34540805220603943,
           0.28923821449279785,
           0.2754881978034973,
           0.39937418699264526,
           0.09123174846172333,
           0.6475620269775391,
           0.6500210165977478,
           0.5329049825668335,
           0.7939574122428894,
           0.3718332052230835,
           0.2989790439605713,
           0.42034900188446045
          ],
          [
           0.4952484965324402,
           0.3794696629047394,
           0.36537450551986694,
           0.3917119801044464,
           0.42258697748184204,
           0.5082324743270874,
           0.3316347002983093,
           0.4035254120826721,
           0.39340561628341675,
           0.36262643337249756,
           0.20398107171058655,
           0.3859264850616455,
           0.32063722610473633,
           0.3280468285083771,
           0.4102742075920105,
           0.45846763253211975,
           0.3964962959289551,
           0.20106926560401917,
           0.46757394075393677,
           0.22713689506053925,
           0.4225183129310608,
           0.24381524324417114,
           0.45457032322883606,
           0.2912473678588867,
           0.2520311176776886,
           0.5126073360443115,
           0.9999998807907104,
           0.46500444412231445,
           0.42687174677848816,
           0.29561689496040344,
           0.34093478322029114,
           0.4610500633716583,
           0.40146851539611816,
           0.2543923854827881,
           0.524299681186676,
           0.46684014797210693,
           0.5073561072349548,
           0.29819998145103455,
           0.42242926359176636,
           0.6762416362762451,
           0.27470076084136963,
           0.2186310887336731,
           0.42793095111846924,
           0.33369630575180054,
           0.3103693723678589,
           0.24891124665737152,
           0.3255082368850708,
           0.32299506664276123,
           0.45803746581077576,
           0.220251202583313,
           0.5424289703369141,
           0.4798675775527954,
           0.3644106984138489,
           0.5172239542007446,
           0.4727131128311157,
           0.260476678609848,
           0.47551658749580383
          ],
          [
           0.55242919921875,
           0.5060557723045349,
           0.4841947853565216,
           0.3295000195503235,
           0.7091836333274841,
           0.44837987422943115,
           0.4360085725784302,
           0.43585318326950073,
           0.3474610447883606,
           0.515885591506958,
           0.49530720710754395,
           0.6513102650642395,
           0.37311381101608276,
           0.7000100016593933,
           0.41774553060531616,
           0.5342133641242981,
           0.5281002521514893,
           0.4204893708229065,
           0.41386038064956665,
           0.4580698013305664,
           0.34218114614486694,
           0.6069470047950745,
           0.5906292200088501,
           0.23473995923995972,
           0.3282926082611084,
           0.3100539445877075,
           0.46500444412231445,
           1,
           0.7000865340232849,
           0.26265057921409607,
           0.3256460130214691,
           0.45969364047050476,
           0.2559545040130615,
           0.4217803478240967,
           0.42325839400291443,
           0.4468134641647339,
           0.29813307523727417,
           0.4795193076133728,
           0.3974093198776245,
           0.4056042432785034,
           0.6542248725891113,
           0.30773571133613586,
           0.7268097996711731,
           0.5302481055259705,
           0.48113951086997986,
           0.2567659616470337,
           0.46219730377197266,
           0.5279589295387268,
           0.6073856353759766,
           0.4118049740791321,
           0.42652416229248047,
           0.4072694778442383,
           0.3261493146419525,
           0.34254103899002075,
           0.6851736903190613,
           0.4494972229003906,
           0.8290069699287415
          ],
          [
           0.5155360102653503,
           0.3593601584434509,
           0.472581684589386,
           0.3316015601158142,
           0.696166455745697,
           0.40436941385269165,
           0.43424779176712036,
           0.35881340503692627,
           0.3262682557106018,
           0.5115305185317993,
           0.5138288736343384,
           0.6609470844268799,
           0.36126285791397095,
           0.7861654758453369,
           0.45341193675994873,
           0.47768229246139526,
           0.38753896951675415,
           0.425586074590683,
           0.44631922245025635,
           0.4941334128379822,
           0.33145490288734436,
           0.6169250011444092,
           0.5634127855300903,
           0.21580377221107483,
           0.3298390507698059,
           0.29256880283355713,
           0.42687174677848816,
           0.7000865340232849,
           1.0000001192092896,
           0.32390159368515015,
           0.34178197383880615,
           0.3180525302886963,
           0.25286927819252014,
           0.3907586932182312,
           0.4636270999908447,
           0.43620628118515015,
           0.2962179183959961,
           0.6391215324401855,
           0.27953967452049255,
           0.46865952014923096,
           0.4726925790309906,
           0.3542305827140808,
           0.5955398678779602,
           0.5325870513916016,
           0.4267769157886505,
           0.1728975474834442,
           0.430208295583725,
           0.4360402226448059,
           0.6787086129188538,
           0.3911237120628357,
           0.39086347818374634,
           0.4125481843948364,
           0.39965173602104187,
           0.37649694085121155,
           0.7007728815078735,
           0.46002906560897827,
           0.5535631775856018
          ],
          [
           0.5739181041717529,
           0.37979090213775635,
           0.6296747922897339,
           0.5263724327087402,
           0.46715807914733887,
           0.6016738414764404,
           0.6147714853286743,
           0.5006716251373291,
           0.7352077960968018,
           0.5782203674316406,
           0.22115015983581543,
           0.44500932097435,
           0.5309140086174011,
           0.2856293320655823,
           0.3896360993385315,
           0.4787856340408325,
           0.3590584993362427,
           0.27159541845321655,
           0.5124437808990479,
           0.37334513664245605,
           0.2770681083202362,
           0.1840604841709137,
           0.538051962852478,
           0.5941523313522339,
           0.5875831842422485,
           0.5235785841941833,
           0.29561689496040344,
           0.26265057921409607,
           0.32390159368515015,
           1.000000238418579,
           0.12612517178058624,
           0.4056212306022644,
           0.6073447465896606,
           0.517932116985321,
           0.5199254155158997,
           0.5561234951019287,
           0.5439763069152832,
           0.29194748401641846,
           0.46836555004119873,
           0.3868303894996643,
           0.18252789974212646,
           0.5365993976593018,
           0.40075576305389404,
           0.5204693078994751,
           0.37654146552085876,
           0.24980346858501434,
           0.3603518605232239,
           0.2781195342540741,
           0.4733562469482422,
           0.1429416537284851,
           0.35416802763938904,
           0.6463078260421753,
           0.1314736157655716,
           0.4656907320022583,
           0.35712820291519165,
           0.45725730061531067,
           0.3460536301136017
          ],
          [
           0.1747576892375946,
           0.1539841890335083,
           0.23238329589366913,
           0.6129529476165771,
           0.2730986773967743,
           0.20143422484397888,
           0.17781290411949158,
           0.2080772966146469,
           0.17485880851745605,
           0.17534925043582916,
           0.37390244007110596,
           0.2691216468811035,
           0.20450815558433533,
           0.419403612613678,
           0.7847244739532471,
           0.15891189873218536,
           0.12989000976085663,
           0.324421763420105,
           0.1626884788274765,
           0.14754363894462585,
           0.8641922473907471,
           0.2574083209037781,
           0.19516782462596893,
           0.10896240174770355,
           0.17910495400428772,
           0.5798678398132324,
           0.34093478322029114,
           0.3256460130214691,
           0.34178197383880615,
           0.12612517178058624,
           1.0000001192092896,
           0.1578199416399002,
           0.16706401109695435,
           0.20741063356399536,
           0.5791324377059937,
           0.17139162123203278,
           0.5374733209609985,
           0.293274462223053,
           0.10631857067346573,
           0.23003439605236053,
           0.2541894316673279,
           0.2504596412181854,
           0.29188182950019836,
           0.23403438925743103,
           0.1209026575088501,
           0.016103604808449745,
           0.2823399007320404,
           0.1487978994846344,
           0.3075640797615051,
           0.1962505728006363,
           0.4443663954734802,
           0.11171653866767883,
           0.8853437304496765,
           0.5187268257141113,
           0.21893611550331116,
           0.27846354246139526,
           0.20033833384513855
          ],
          [
           0.5837849974632263,
           0.5561950206756592,
           0.4839767515659332,
           0.4345864951610565,
           0.5153375864028931,
           0.6039220094680786,
           0.48424404859542847,
           0.4100620448589325,
           0.5139585733413696,
           0.5284068584442139,
           0.17958903312683105,
           0.4759630560874939,
           0.46594685316085815,
           0.284251868724823,
           0.31214651465415955,
           0.5496601462364197,
           0.6824897527694702,
           0.2109563946723938,
           0.47346341609954834,
           0.3060939908027649,
           0.3418049216270447,
           0.2592647969722748,
           0.5677802562713623,
           0.4931918978691101,
           0.4630347490310669,
           0.48781609535217285,
           0.4610500633716583,
           0.45969364047050476,
           0.3180525302886963,
           0.4056212306022644,
           0.1578199416399002,
           0.9999999403953552,
           0.5256187915802002,
           0.40226584672927856,
           0.42973703145980835,
           0.506458580493927,
           0.5161956548690796,
           0.2688915729522705,
           0.6729848384857178,
           0.4092695415019989,
           0.31499361991882324,
           0.3476969003677368,
           0.615398645401001,
           0.5175604224205017,
           0.3826126158237457,
           0.36508673429489136,
           0.5289626121520996,
           0.3796123266220093,
           0.4442322254180908,
           0.17889142036437988,
           0.43095284700393677,
           0.5573095083236694,
           0.15769819915294647,
           0.41896533966064453,
           0.4991123080253601,
           0.28426051139831543,
           0.592015266418457
          ],
          [
           0.7755043506622314,
           0.3795619010925293,
           0.6289466619491577,
           0.611126720905304,
           0.3647627532482147,
           0.7888776063919067,
           0.5872552394866943,
           0.5767115354537964,
           0.7183936834335327,
           0.6093987226486206,
           0.18816612660884857,
           0.4596269130706787,
           0.5910743474960327,
           0.21378731727600098,
           0.33067768812179565,
           0.4668163061141968,
           0.38872572779655457,
           0.23567306995391846,
           0.6343696117401123,
           0.3314560055732727,
           0.33781641721725464,
           0.08809516578912735,
           0.5111851692199707,
           0.7881825566291809,
           0.6203852891921997,
           0.7841382026672363,
           0.40146851539611816,
           0.2559545040130615,
           0.25286927819252014,
           0.6073447465896606,
           0.16706401109695435,
           0.5256187915802002,
           1.000000238418579,
           0.42892444133758545,
           0.6506131291389465,
           0.6904211044311523,
           0.7918676137924194,
           0.3346816897392273,
           0.5906195640563965,
           0.4297946095466614,
           0.1929757297039032,
           0.5614413619041443,
           0.4331327974796295,
           0.6257274150848389,
           0.45155632495880127,
           0.26889127492904663,
           0.24842143058776855,
           0.20837533473968506,
           0.41768646240234375,
           0.07373769581317902,
           0.3768078088760376,
           0.693516731262207,
           0.11642418801784515,
           0.6064134836196899,
           0.2823033034801483,
           0.3211591839790344,
           0.38074392080307007
          ],
          [
           0.5506298542022705,
           0.4787589907646179,
           0.7114497423171997,
           0.5611479878425598,
           0.5785160064697266,
           0.5557868480682373,
           0.5090157985687256,
           0.42601191997528076,
           0.631210207939148,
           0.6334776878356934,
           0.31445762515068054,
           0.5322650671005249,
           0.6413402557373047,
           0.4163629710674286,
           0.47502851486206055,
           0.5525550842285156,
           0.46298834681510925,
           0.37103837728500366,
           0.5463643670082092,
           0.47673118114471436,
           0.31310951709747314,
           0.35041505098342896,
           0.6743305921554565,
           0.5165600776672363,
           0.7823572158813477,
           0.398876428604126,
           0.2543923854827881,
           0.4217803478240967,
           0.3907586932182312,
           0.517932116985321,
           0.20741063356399536,
           0.40226584672927856,
           0.42892444133758545,
           1,
           0.5015904307365417,
           0.5818778276443481,
           0.4455256462097168,
           0.43787163496017456,
           0.51584792137146,
           0.3882649540901184,
           0.3755548596382141,
           0.4462375044822693,
           0.4979025721549988,
           0.5456494092941284,
           0.47140687704086304,
           0.31729501485824585,
           0.44541504979133606,
           0.35012978315353394,
           0.6560463905334473,
           0.3015088438987732,
           0.4183526039123535,
           0.5688070058822632,
           0.23741072416305542,
           0.5007895827293396,
           0.4499536156654358,
           0.3971201777458191,
           0.5581886172294617
          ],
          [
           0.7730340957641602,
           0.386785626411438,
           0.6035665273666382,
           0.7924238443374634,
           0.5298714637756348,
           0.7583944797515869,
           0.5144736766815186,
           0.5755501389503479,
           0.6553605794906616,
           0.5459722280502319,
           0.2861554026603699,
           0.600021481513977,
           0.554600715637207,
           0.43287765979766846,
           0.8067076206207275,
           0.5461794137954712,
           0.4263143539428711,
           0.29336363077163696,
           0.559025764465332,
           0.36341455578804016,
           0.6317058801651001,
           0.23259079456329346,
           0.5565824508666992,
           0.4972500205039978,
           0.5033460855484009,
           0.8602683544158936,
           0.524299681186676,
           0.42325839400291443,
           0.4636270999908447,
           0.5199254155158997,
           0.5791324377059937,
           0.42973703145980835,
           0.6506131291389465,
           0.5015904307365417,
           1,
           0.6092112064361572,
           0.8583260774612427,
           0.5130977630615234,
           0.6008539199829102,
           0.5282478332519531,
           0.30998873710632324,
           0.48569661378860474,
           0.5135964155197144,
           0.5832048058509827,
           0.4026428461074829,
           0.339346706867218,
           0.33965224027633667,
           0.3899167776107788,
           0.5285049676895142,
           0.24308550357818604,
           0.7614703178405762,
           0.7268235683441162,
           0.6432608962059021,
           0.7690906524658203,
           0.42764440178871155,
           0.40565574169158936,
           0.477557897567749
          ],
          [
           0.7542718052864075,
           0.49427980184555054,
           0.6811270713806152,
           0.5568955540657043,
           0.5635157823562622,
           0.7495921850204468,
           0.6097737550735474,
           0.539924144744873,
           0.6835445165634155,
           0.658332109451294,
           0.21666282415390015,
           0.5004075765609741,
           0.5522008538246155,
           0.36188095808029175,
           0.37712013721466064,
           0.6516597867012024,
           0.5187923908233643,
           0.2572579085826874,
           0.8335740566253662,
           0.45029252767562866,
           0.34629058837890625,
           0.2436589002609253,
           0.6990651488304138,
           0.598670482635498,
           0.6014540195465088,
           0.6284438967704773,
           0.46684014797210693,
           0.4468134641647339,
           0.43620628118515015,
           0.5561234951019287,
           0.17139162123203278,
           0.506458580493927,
           0.6904211044311523,
           0.5818778276443481,
           0.6092112064361572,
           1.000000238418579,
           0.636254608631134,
           0.3999136686325073,
           0.6818916201591492,
           0.515982449054718,
           0.3213001489639282,
           0.4752107262611389,
           0.5924631953239441,
           0.5752958655357361,
           0.5349066853523254,
           0.3436630368232727,
           0.34285998344421387,
           0.34844109416007996,
           0.556644082069397,
           0.18722376227378845,
           0.5168260931968689,
           0.7534288167953491,
           0.17115238308906555,
           0.7321733236312866,
           0.505916178226471,
           0.3444288969039917,
           0.6040508151054382
          ],
          [
           0.6849567890167236,
           0.41945022344589233,
           0.6084744930267334,
           0.8102900981903076,
           0.4642865061759949,
           0.8216232061386108,
           0.543964147567749,
           0.5816189050674438,
           0.6832222938537598,
           0.5232818126678467,
           0.22496464848518372,
           0.5477813482284546,
           0.5631922483444214,
           0.2871420383453369,
           0.6993331909179688,
           0.502350389957428,
           0.3694227933883667,
           0.2851133346557617,
           0.5531341433525085,
           0.31511884927749634,
           0.6908349990844727,
           0.11134602129459381,
           0.4910632073879242,
           0.624152660369873,
           0.5343637466430664,
           0.9162253141403198,
           0.5073561072349548,
           0.29813307523727417,
           0.2962179183959961,
           0.5439763069152832,
           0.5374733209609985,
           0.5161956548690796,
           0.7918676137924194,
           0.4455256462097168,
           0.8583260774612427,
           0.636254608631134,
           1.0000001192092896,
           0.3495257496833801,
           0.5476018190383911,
           0.4643757939338684,
           0.20045103132724762,
           0.5370862483978271,
           0.4419727325439453,
           0.6037472486495972,
           0.39230650663375854,
           0.3412969708442688,
           0.30273595452308655,
           0.33306005597114563,
           0.4565995931625366,
           0.10515112429857254,
           0.625910222530365,
           0.6892321109771729,
           0.4854434132575989,
           0.7491379380226135,
           0.3683340549468994,
           0.3615475296974182,
           0.4122505784034729
          ],
          [
           0.45059043169021606,
           0.28813040256500244,
           0.4667919874191284,
           0.40524542331695557,
           0.5387997627258301,
           0.4051453769207001,
           0.34595078229904175,
           0.3509390354156494,
           0.35393327474594116,
           0.4647875428199768,
           0.36368241906166077,
           0.526640772819519,
           0.4685354232788086,
           0.5613836646080017,
           0.47509732842445374,
           0.4339449405670166,
           0.30924320220947266,
           0.30770736932754517,
           0.4026504456996918,
           0.36250898241996765,
           0.32361066341400146,
           0.4770834743976593,
           0.4811657667160034,
           0.32074490189552307,
           0.39558184146881104,
           0.3374554216861725,
           0.29819998145103455,
           0.4795193076133728,
           0.6391215324401855,
           0.29194748401641846,
           0.293274462223053,
           0.2688915729522705,
           0.3346816897392273,
           0.43787163496017456,
           0.5130977630615234,
           0.3999136686325073,
           0.3495257496833801,
           0.9999999403953552,
           0.3123522400856018,
           0.39670222997665405,
           0.3694218695163727,
           0.3700004816055298,
           0.4455837607383728,
           0.4303763508796692,
           0.3811604678630829,
           0.196928471326828,
           0.359176367521286,
           0.2861368656158447,
           0.5811716318130493,
           0.33428335189819336,
           0.375792533159256,
           0.3929266333580017,
           0.41112691164016724,
           0.4108865261077881,
           0.4824731945991516,
           0.38264572620391846,
           0.3937797546386719
          ],
          [
           0.7799577116966248,
           0.592720091342926,
           0.546088695526123,
           0.4819250702857971,
           0.5122554898262024,
           0.718347430229187,
           0.5343798995018005,
           0.48426300287246704,
           0.6517388820648193,
           0.5625150203704834,
           0.09242243319749832,
           0.4604094624519348,
           0.5254045128822327,
           0.22113800048828125,
           0.3353065848350525,
           0.6231672167778015,
           0.8807387948036194,
           0.06759090721607208,
           0.6240830421447754,
           0.21741622686386108,
           0.29129597544670105,
           0.15519867837429047,
           0.6211380362510681,
           0.5234538316726685,
           0.519065260887146,
           0.5978933572769165,
           0.42242926359176636,
           0.3974093198776245,
           0.27953967452049255,
           0.46836555004119873,
           0.10631857067346573,
           0.6729848384857178,
           0.5906195640563965,
           0.51584792137146,
           0.6008539199829102,
           0.6818916201591492,
           0.5476018190383911,
           0.3123522400856018,
           1,
           0.4541795253753662,
           0.29461461305618286,
           0.32905811071395874,
           0.7160112857818604,
           0.5022302269935608,
           0.37300431728363037,
           0.4276965260505676,
           0.41057515144348145,
           0.3539137840270996,
           0.4117885231971741,
           0.13586804270744324,
           0.5583493709564209,
           0.7259857654571533,
           0.157545804977417,
           0.5676830410957336,
           0.4438992738723755,
           0.2800202965736389,
           0.6430445313453674
          ],
          [
           0.5454720854759216,
           0.3469599187374115,
           0.45922160148620605,
           0.37775033712387085,
           0.4311552941799164,
           0.5203564167022705,
           0.3961516320705414,
           0.34101009368896484,
           0.4532395601272583,
           0.4166848659515381,
           0.2054709792137146,
           0.4038267731666565,
           0.40486979484558105,
           0.34379351139068604,
           0.3595840334892273,
           0.5219764113426208,
           0.38686472177505493,
           0.2133597731590271,
           0.48362091183662415,
           0.27271315455436707,
           0.3321636915206909,
           0.2440984845161438,
           0.5484747886657715,
           0.3570852279663086,
           0.3523852825164795,
           0.47882214188575745,
           0.6762416362762451,
           0.4056042432785034,
           0.46865952014923096,
           0.3868303894996643,
           0.23003439605236053,
           0.4092695415019989,
           0.4297946095466614,
           0.3882649540901184,
           0.5282478332519531,
           0.515982449054718,
           0.4643757939338684,
           0.39670222997665405,
           0.4541795253753662,
           1,
           0.27452439069747925,
           0.2618415951728821,
           0.4090237319469452,
           0.35993337631225586,
           0.35306409001350403,
           0.2571908235549927,
           0.34617000818252563,
           0.340501606464386,
           0.5526305437088013,
           0.3156645894050598,
           0.5673449635505676,
           0.5721522569656372,
           0.2823560833930969,
           0.4649812579154968,
           0.46488508582115173,
           0.27236586809158325,
           0.4437657296657562
          ],
          [
           0.4056909680366516,
           0.31817391514778137,
           0.35040441155433655,
           0.2853282392024994,
           0.44596999883651733,
           0.31712251901626587,
           0.3530313968658447,
           0.3549233078956604,
           0.25731608271598816,
           0.44626501202583313,
           0.4325858950614929,
           0.4724178612232208,
           0.3045586049556732,
           0.538184642791748,
           0.31434395909309387,
           0.3383687436580658,
           0.3710162043571472,
           0.3843265175819397,
           0.33268746733665466,
           0.3061184287071228,
           0.2133117914199829,
           0.5283927917480469,
           0.41314148902893066,
           0.21155871450901031,
           0.32191747426986694,
           0.20288795232772827,
           0.27470076084136963,
           0.6542248725891113,
           0.4726925790309906,
           0.18252789974212646,
           0.2541894316673279,
           0.31499361991882324,
           0.1929757297039032,
           0.3755548596382141,
           0.30998873710632324,
           0.3213001489639282,
           0.20045103132724762,
           0.3694218695163727,
           0.29461461305618286,
           0.27452439069747925,
           1.0000001192092896,
           0.2841618061065674,
           0.532627522945404,
           0.4311909079551697,
           0.36827778816223145,
           0.09587346017360687,
           0.32895246148109436,
           0.2599174678325653,
           0.3882957696914673,
           0.3256456255912781,
           0.2560502588748932,
           0.24374142289161682,
           0.2677883505821228,
           0.28301385045051575,
           0.36971554160118103,
           0.40617072582244873,
           0.49175453186035156
          ],
          [
           0.5278903245925903,
           0.3169044852256775,
           0.634528636932373,
           0.7774640917778015,
           0.40506070852279663,
           0.5585182309150696,
           0.4331660270690918,
           0.5971574187278748,
           0.6477875709533691,
           0.824871301651001,
           0.30912527441978455,
           0.4586164951324463,
           0.6147024631500244,
           0.3518252670764923,
           0.4288894832134247,
           0.3939877152442932,
           0.23711366951465607,
           0.3941238522529602,
           0.4345880150794983,
           0.40894466638565063,
           0.33432537317276,
           0.17850139737129211,
           0.4396498203277588,
           0.7802262306213379,
           0.7048923373222351,
           0.4995601177215576,
           0.2186310887336731,
           0.30773571133613586,
           0.3542305827140808,
           0.5365993976593018,
           0.2504596412181854,
           0.3476969003677368,
           0.5614413619041443,
           0.4462375044822693,
           0.48569661378860474,
           0.4752107262611389,
           0.5370862483978271,
           0.3700004816055298,
           0.32905811071395874,
           0.2618415951728821,
           0.2841618061065674,
           1,
           0.3582538366317749,
           0.8313255310058594,
           0.4104480445384979,
           0.22927598655223846,
           0.3463761806488037,
           0.24097415804862976,
           0.45855510234832764,
           0.13794131577014923,
           0.3537365794181824,
           0.5176115036010742,
           0.19449394941329956,
           0.4397308826446533,
           0.28219306468963623,
           0.4515400826931,
           0.34210190176963806
          ],
          [
           0.6785166263580322,
           0.5924962759017944,
           0.5756350755691528,
           0.43626508116722107,
           0.7480405569076538,
           0.5787532329559326,
           0.5523521900177002,
           0.4535254240036011,
           0.48191580176353455,
           0.5982701182365417,
           0.40440279245376587,
           0.6350021362304688,
           0.4745270609855652,
           0.5856072902679443,
           0.4282981753349304,
           0.6171841621398926,
           0.8566830158233643,
           0.32853639125823975,
           0.5384747982025146,
           0.39785236120224,
           0.43555188179016113,
           0.48732447624206543,
           0.6674765348434448,
           0.39229482412338257,
           0.4677142798900604,
           0.49668198823928833,
           0.42793095111846924,
           0.7268097996711731,
           0.5955398678779602,
           0.40075576305389404,
           0.29188182950019836,
           0.615398645401001,
           0.4331327974796295,
           0.4979025721549988,
           0.5135964155197144,
           0.5924631953239441,
           0.4419727325439453,
           0.4455837607383728,
           0.7160112857818604,
           0.4090237319469452,
           0.532627522945404,
           0.3582538366317749,
           0.9999998807907104,
           0.5788673162460327,
           0.4669634699821472,
           0.38300973176956177,
           0.5081334114074707,
           0.5045144557952881,
           0.5545307993888855,
           0.31386950612068176,
           0.44773808121681213,
           0.5451785922050476,
           0.2988892197608948,
           0.4709078073501587,
           0.6882452964782715,
           0.44475850462913513,
           0.7158614993095398
          ],
          [
           0.707342267036438,
           0.5383470058441162,
           0.6897797584533691,
           0.7271644473075867,
           0.6441683769226074,
           0.6754347681999207,
           0.5377855896949768,
           0.6573370695114136,
           0.6538392305374146,
           0.8668757677078247,
           0.3792571425437927,
           0.7527066469192505,
           0.617445170879364,
           0.5079898834228516,
           0.47886794805526733,
           0.5157032608985901,
           0.4648187756538391,
           0.4159219264984131,
           0.5057700276374817,
           0.5137054920196533,
           0.33428746461868286,
           0.3517633080482483,
           0.5927755832672119,
           0.7194122076034546,
           0.6978431940078735,
           0.5193975567817688,
           0.33369630575180054,
           0.5302481055259705,
           0.5325870513916016,
           0.5204693078994751,
           0.23403438925743103,
           0.5175604224205017,
           0.6257274150848389,
           0.5456494092941284,
           0.5832048058509827,
           0.5752958655357361,
           0.6037472486495972,
           0.4303763508796692,
           0.5022302269935608,
           0.35993337631225586,
           0.4311909079551697,
           0.8313255310058594,
           0.5788673162460327,
           0.9999999403953552,
           0.5494797229766846,
           0.309794545173645,
           0.43035921454429626,
           0.42303627729415894,
           0.5798457860946655,
           0.2564634680747986,
           0.4049113988876343,
           0.626514196395874,
           0.2327951192855835,
           0.46636277437210083,
           0.5360774993896484,
           0.4656382203102112,
           0.5997027158737183
          ],
          [
           0.5734763741493225,
           0.3862658739089966,
           0.6097738742828369,
           0.4449567496776581,
           0.48562443256378174,
           0.5266683101654053,
           0.5044766664505005,
           0.5157473087310791,
           0.4444027543067932,
           0.639511227607727,
           0.2312396913766861,
           0.4462377429008484,
           0.5455625057220459,
           0.35790279507637024,
           0.2955534756183624,
           0.4382469654083252,
           0.36151933670043945,
           0.298221230506897,
           0.4413762092590332,
           0.6908382177352905,
           0.19779042899608612,
           0.31422001123428345,
           0.5213034152984619,
           0.485599160194397,
           0.5148974657058716,
           0.358206570148468,
           0.3103693723678589,
           0.48113951086997986,
           0.4267769157886505,
           0.37654146552085876,
           0.1209026575088501,
           0.3826126158237457,
           0.45155632495880127,
           0.47140687704086304,
           0.4026428461074829,
           0.5349066853523254,
           0.39230650663375854,
           0.3811604678630829,
           0.37300431728363037,
           0.35306409001350403,
           0.36827778816223145,
           0.4104480445384979,
           0.4669634699821472,
           0.5494797229766846,
           1.0000001192092896,
           0.15690317749977112,
           0.24165213108062744,
           0.24657920002937317,
           0.5141534209251404,
           0.29711711406707764,
           0.3055034875869751,
           0.4848695397377014,
           0.12929005920886993,
           0.3786185383796692,
           0.4757236838340759,
           0.261206716299057,
           0.5604652166366577
          ],
          [
           0.41242915391921997,
           0.5051725506782532,
           0.36202847957611084,
           0.2860974669456482,
           0.4850820302963257,
           0.38886868953704834,
           0.31781789660453796,
           0.2472069263458252,
           0.34259936213493347,
           0.30139338970184326,
           0.1215706318616867,
           0.2809482514858246,
           0.3543508052825928,
           0.13851548731327057,
           0.24714717268943787,
           0.512055516242981,
           0.38322320580482483,
           0.1702542006969452,
           0.3091576397418976,
           0.20516419410705566,
           0.2595250904560089,
           0.11736641824245453,
           0.43706732988357544,
           0.2958603501319885,
           0.35106348991394043,
           0.34540805220603943,
           0.24891124665737152,
           0.2567659616470337,
           0.1728975474834442,
           0.24980346858501434,
           0.016103604808449745,
           0.36508673429489136,
           0.26889127492904663,
           0.31729501485824585,
           0.339346706867218,
           0.3436630368232727,
           0.3412969708442688,
           0.196928471326828,
           0.4276965260505676,
           0.2571908235549927,
           0.09587346017360687,
           0.22927598655223846,
           0.38300973176956177,
           0.309794545173645,
           0.15690317749977112,
           1,
           0.2484273612499237,
           0.6682925820350647,
           0.2725628614425659,
           0.17997482419013977,
           0.5063759088516235,
           0.49664342403411865,
           0.05640266090631485,
           0.2666446268558502,
           0.4354504346847534,
           0.1419118344783783,
           0.3848355710506439
          ],
          [
           0.36440566182136536,
           0.49376025795936584,
           0.42326033115386963,
           0.35040995478630066,
           0.5263949036598206,
           0.34634751081466675,
           0.33562010526657104,
           0.2375873476266861,
           0.4889088273048401,
           0.4030110538005829,
           0.3016931116580963,
           0.46069061756134033,
           0.35526561737060547,
           0.4539879858493805,
           0.40241798758506775,
           0.46489500999450684,
           0.4838852882385254,
           0.3967791795730591,
           0.3506477475166321,
           0.28883296251296997,
           0.36565423011779785,
           0.3627766966819763,
           0.538302481174469,
           0.3230385184288025,
           0.39406725764274597,
           0.28923821449279785,
           0.3255082368850708,
           0.46219730377197266,
           0.430208295583725,
           0.3603518605232239,
           0.2823399007320404,
           0.5289626121520996,
           0.24842143058776855,
           0.44541504979133606,
           0.33965224027633667,
           0.34285998344421387,
           0.30273595452308655,
           0.359176367521286,
           0.41057515144348145,
           0.34617000818252563,
           0.32895246148109436,
           0.3463761806488037,
           0.5081334114074707,
           0.43035921454429626,
           0.24165213108062744,
           0.2484273612499237,
           1,
           0.37481969594955444,
           0.5036619305610657,
           0.3210596442222595,
           0.3407920300960541,
           0.39673933386802673,
           0.2962605357170105,
           0.30841949582099915,
           0.46459436416625977,
           0.5642056465148926,
           0.4553426504135132
          ],
          [
           0.4261697828769684,
           0.4461088180541992,
           0.3950796127319336,
           0.27218982577323914,
           0.645524263381958,
           0.38848453760147095,
           0.3935032784938812,
           0.3044170141220093,
           0.2708727717399597,
           0.34867846965789795,
           0.2752900719642639,
           0.556149959564209,
           0.32183805108070374,
           0.40683841705322266,
           0.37130120396614075,
           0.5301207304000854,
           0.4297189712524414,
           0.3219541013240814,
           0.3150216341018677,
           0.38503265380859375,
           0.31089574098587036,
           0.30745959281921387,
           0.4579945206642151,
           0.21425990760326385,
           0.30054038763046265,
           0.2754881978034973,
           0.32299506664276123,
           0.5279589295387268,
           0.4360402226448059,
           0.2781195342540741,
           0.1487978994846344,
           0.3796123266220093,
           0.20837533473968506,
           0.35012978315353394,
           0.3899167776107788,
           0.34844109416007996,
           0.33306005597114563,
           0.2861368656158447,
           0.3539137840270996,
           0.340501606464386,
           0.2599174678325653,
           0.24097415804862976,
           0.5045144557952881,
           0.42303627729415894,
           0.24657920002937317,
           0.6682925820350647,
           0.37481969594955444,
           1.0000003576278687,
           0.4131811559200287,
           0.36589404940605164,
           0.5554171800613403,
           0.44654524326324463,
           0.15138693153858185,
           0.26338332891464233,
           0.5562147498130798,
           0.2484700083732605,
           0.5483779907226562
          ],
          [
           0.5579116344451904,
           0.49511420726776123,
           0.6938074827194214,
           0.49092212319374084,
           0.6780513525009155,
           0.5453087091445923,
           0.5608481168746948,
           0.4049018621444702,
           0.5850145816802979,
           0.6053996086120605,
           0.46615153551101685,
           0.6660327911376953,
           0.5588525533676147,
           0.615554690361023,
           0.529423713684082,
           0.6286013126373291,
           0.4249607026576996,
           0.4913890063762665,
           0.5601436495780945,
           0.6320884227752686,
           0.37708717584609985,
           0.46276557445526123,
           0.7678641676902771,
           0.4444217085838318,
           0.474967896938324,
           0.39937418699264526,
           0.45803746581077576,
           0.6073856353759766,
           0.6787086129188538,
           0.4733562469482422,
           0.3075640797615051,
           0.4442322254180908,
           0.41768646240234375,
           0.6560463905334473,
           0.5285049676895142,
           0.556644082069397,
           0.4565995931625366,
           0.5811716318130493,
           0.4117885231971741,
           0.5526305437088013,
           0.3882957696914673,
           0.45855510234832764,
           0.5545307993888855,
           0.5798457860946655,
           0.5141534209251404,
           0.2725628614425659,
           0.5036619305610657,
           0.4131811559200287,
           1,
           0.3871827721595764,
           0.49446070194244385,
           0.5763590335845947,
           0.34561687707901,
           0.4940468966960907,
           0.6633684635162354,
           0.48471981287002563,
           0.5816563367843628
          ],
          [
           0.24711190164089203,
           0.2435312420129776,
           0.2926841378211975,
           0.15070760250091553,
           0.36588919162750244,
           0.17108359932899475,
           0.24816036224365234,
           0.16681668162345886,
           0.15753425657749176,
           0.23948681354522705,
           0.3106021285057068,
           0.35325324535369873,
           0.1618487536907196,
           0.41075947880744934,
           0.2678890824317932,
           0.2873992323875427,
           0.19698449969291687,
           0.5004681348800659,
           0.21038097143173218,
           0.4124273657798767,
           0.14557307958602905,
           0.5019712448120117,
           0.29669898748397827,
           0.07590776681900024,
           0.1833961009979248,
           0.09123174846172333,
           0.220251202583313,
           0.4118049740791321,
           0.3911237120628357,
           0.1429416537284851,
           0.1962505728006363,
           0.17889142036437988,
           0.07373769581317902,
           0.3015088438987732,
           0.24308550357818604,
           0.18722376227378845,
           0.10515112429857254,
           0.33428335189819336,
           0.13586804270744324,
           0.3156645894050598,
           0.3256456255912781,
           0.13794131577014923,
           0.31386950612068176,
           0.2564634680747986,
           0.29711711406707764,
           0.17997482419013977,
           0.3210596442222595,
           0.36589404940605164,
           0.3871827721595764,
           0.9999997615814209,
           0.2822808027267456,
           0.2400536835193634,
           0.24671670794487,
           0.18685245513916016,
           0.3573840856552124,
           0.33412331342697144,
           0.3361930847167969
          ],
          [
           0.582325279712677,
           0.41613441705703735,
           0.48835277557373047,
           0.6312644481658936,
           0.5038781762123108,
           0.564408004283905,
           0.43131929636001587,
           0.43849900364875793,
           0.516999363899231,
           0.4421282112598419,
           0.18684229254722595,
           0.42473918199539185,
           0.49249327182769775,
           0.31952282786369324,
           0.6520305871963501,
           0.7374931573867798,
           0.43607097864151,
           0.15633563697338104,
           0.47166886925697327,
           0.2924371361732483,
           0.5585330724716187,
           0.16435423493385315,
           0.6044370532035828,
           0.37563556432724,
           0.4053491950035095,
           0.6475620269775391,
           0.5424289703369141,
           0.42652416229248047,
           0.39086347818374634,
           0.35416802763938904,
           0.4443663954734802,
           0.43095284700393677,
           0.3768078088760376,
           0.4183526039123535,
           0.7614703178405762,
           0.5168260931968689,
           0.625910222530365,
           0.375792533159256,
           0.5583493709564209,
           0.5673449635505676,
           0.2560502588748932,
           0.3537365794181824,
           0.44773808121681213,
           0.4049113988876343,
           0.3055034875869751,
           0.5063759088516235,
           0.3407920300960541,
           0.5554171800613403,
           0.49446070194244385,
           0.2822808027267456,
           0.9999997615814209,
           0.7046777009963989,
           0.4900335967540741,
           0.6274685859680176,
           0.43277764320373535,
           0.24842378497123718,
           0.5258158445358276
          ],
          [
           0.8460429310798645,
           0.5516210198402405,
           0.7311487197875977,
           0.5773404836654663,
           0.6353689432144165,
           0.8296149969100952,
           0.6206194758415222,
           0.6018980741500854,
           0.8098792433738708,
           0.6431016325950623,
           0.2081032544374466,
           0.593600869178772,
           0.6202095746994019,
           0.36920031905174255,
           0.4199601411819458,
           0.8158566355705261,
           0.5397352576255798,
           0.2952524423599243,
           0.6624614000320435,
           0.42111510038375854,
           0.3106200397014618,
           0.1950896978378296,
           0.7388589978218079,
           0.6107733249664307,
           0.591382622718811,
           0.6500210165977478,
           0.4798675775527954,
           0.4072694778442383,
           0.4125481843948364,
           0.6463078260421753,
           0.11171653866767883,
           0.5573095083236694,
           0.693516731262207,
           0.5688070058822632,
           0.7268235683441162,
           0.7534288167953491,
           0.6892321109771729,
           0.3929266333580017,
           0.7259857654571533,
           0.5721522569656372,
           0.24374142289161682,
           0.5176115036010742,
           0.5451785922050476,
           0.626514196395874,
           0.4848695397377014,
           0.49664342403411865,
           0.39673933386802673,
           0.44654524326324463,
           0.5763590335845947,
           0.2400536835193634,
           0.7046777009963989,
           0.9999998807907104,
           0.14830684661865234,
           0.593001663684845,
           0.5422173738479614,
           0.42934972047805786,
           0.5966464281082153
          ],
          [
           0.2087496817111969,
           0.2117275595664978,
           0.21963976323604584,
           0.597044825553894,
           0.3099023699760437,
           0.193912535905838,
           0.1631339192390442,
           0.2087000608444214,
           0.20743493735790253,
           0.19293618202209473,
           0.29930925369262695,
           0.2988765835762024,
           0.20098866522312164,
           0.3854723572731018,
           0.8526501059532166,
           0.16633987426757812,
           0.17893250286579132,
           0.28266462683677673,
           0.1608705073595047,
           0.19180789589881897,
           0.7668166160583496,
           0.3096249997615814,
           0.24360980093479156,
           0.094688780605793,
           0.1850438117980957,
           0.5329049825668335,
           0.3644106984138489,
           0.3261493146419525,
           0.39965173602104187,
           0.1314736157655716,
           0.8853437304496765,
           0.15769819915294647,
           0.11642418801784515,
           0.23741072416305542,
           0.6432608962059021,
           0.17115238308906555,
           0.4854434132575989,
           0.41112691164016724,
           0.157545804977417,
           0.2823560833930969,
           0.2677883505821228,
           0.19449394941329956,
           0.2988892197608948,
           0.2327951192855835,
           0.12929005920886993,
           0.05640266090631485,
           0.2962605357170105,
           0.15138693153858185,
           0.34561687707901,
           0.24671670794487,
           0.4900335967540741,
           0.14830684661865234,
           1,
           0.5224887132644653,
           0.29010939598083496,
           0.3403262495994568,
           0.20333236455917358
          ],
          [
           0.6232625246047974,
           0.3964219093322754,
           0.5627799034118652,
           0.7300949692726135,
           0.44826948642730713,
           0.6360845565795898,
           0.49349209666252136,
           0.4999427795410156,
           0.5967258810997009,
           0.5312874913215637,
           0.22643104195594788,
           0.40003180503845215,
           0.5108969211578369,
           0.3094763159751892,
           0.6611952781677246,
           0.49247580766677856,
           0.4034469723701477,
           0.2250058352947235,
           0.8637773990631104,
           0.3759749233722687,
           0.6226472854614258,
           0.17765367031097412,
           0.5566270351409912,
           0.5079176425933838,
           0.5206150412559509,
           0.7939574122428894,
           0.5172239542007446,
           0.34254103899002075,
           0.37649694085121155,
           0.4656907320022583,
           0.5187268257141113,
           0.41896533966064453,
           0.6064134836196899,
           0.5007895827293396,
           0.7690906524658203,
           0.7321733236312866,
           0.7491379380226135,
           0.4108865261077881,
           0.5676830410957336,
           0.4649812579154968,
           0.28301385045051575,
           0.4397308826446533,
           0.4709078073501587,
           0.46636277437210083,
           0.3786185383796692,
           0.2666446268558502,
           0.30841949582099915,
           0.26338332891464233,
           0.4940468966960907,
           0.18685245513916016,
           0.6274685859680176,
           0.593001663684845,
           0.5224887132644653,
           1.000000238418579,
           0.39803802967071533,
           0.2921031713485718,
           0.4573875069618225
          ],
          [
           0.571422278881073,
           0.7802528142929077,
           0.5438594222068787,
           0.34296682476997375,
           0.9005224704742432,
           0.49839115142822266,
           0.4728887677192688,
           0.3594478964805603,
           0.42777949571609497,
           0.532855749130249,
           0.3686179518699646,
           0.6240522265434265,
           0.3975568413734436,
           0.5700122117996216,
           0.42991694808006287,
           0.5981321334838867,
           0.5695902109146118,
           0.3643810451030731,
           0.4792006313800812,
           0.5172003507614136,
           0.42437252402305603,
           0.5123471021652222,
           0.6473593711853027,
           0.27556076645851135,
           0.36999350786209106,
           0.3718332052230835,
           0.4727131128311157,
           0.6851736903190613,
           0.7007728815078735,
           0.35712820291519165,
           0.21893611550331116,
           0.4991123080253601,
           0.2823033034801483,
           0.4499536156654358,
           0.42764440178871155,
           0.505916178226471,
           0.3683340549468994,
           0.4824731945991516,
           0.4438992738723755,
           0.46488508582115173,
           0.36971554160118103,
           0.28219306468963623,
           0.6882452964782715,
           0.5360774993896484,
           0.4757236838340759,
           0.4354504346847534,
           0.46459436416625977,
           0.5562147498130798,
           0.6633684635162354,
           0.3573840856552124,
           0.43277764320373535,
           0.5422173738479614,
           0.29010939598083496,
           0.39803802967071533,
           1.000000238418579,
           0.4174928069114685,
           0.7158547639846802
          ],
          [
           0.38025784492492676,
           0.4281246066093445,
           0.453100323677063,
           0.374520480632782,
           0.513294517993927,
           0.4016657769680023,
           0.36559534072875977,
           0.33185791969299316,
           0.6619330048561096,
           0.3928729295730591,
           0.33280518651008606,
           0.5576008558273315,
           0.35753801465034485,
           0.47444915771484375,
           0.48383140563964844,
           0.3899276554584503,
           0.3188900351524353,
           0.5418188571929932,
           0.31074485182762146,
           0.3244238495826721,
           0.3395501375198364,
           0.3736233711242676,
           0.4613630771636963,
           0.32230937480926514,
           0.350615918636322,
           0.2989790439605713,
           0.260476678609848,
           0.4494972229003906,
           0.46002906560897827,
           0.45725730061531067,
           0.27846354246139526,
           0.28426051139831543,
           0.3211591839790344,
           0.3971201777458191,
           0.40565574169158936,
           0.3444288969039917,
           0.3615475296974182,
           0.38264572620391846,
           0.2800202965736389,
           0.27236586809158325,
           0.40617072582244873,
           0.4515400826931,
           0.44475850462913513,
           0.4656382203102112,
           0.261206716299057,
           0.1419118344783783,
           0.5642056465148926,
           0.2484700083732605,
           0.48471981287002563,
           0.33412331342697144,
           0.24842378497123718,
           0.42934972047805786,
           0.3403262495994568,
           0.2921031713485718,
           0.4174928069114685,
           1,
           0.33453863859176636
          ],
          [
           0.6882163882255554,
           0.6834939122200012,
           0.642764151096344,
           0.44076406955718994,
           0.7622976899147034,
           0.6001538038253784,
           0.5078282356262207,
           0.5120794773101807,
           0.5090396404266357,
           0.6409395933151245,
           0.300942987203598,
           0.6010072231292725,
           0.5060901045799255,
           0.508490264415741,
           0.38376539945602417,
           0.6628744602203369,
           0.6807081699371338,
           0.2840445637702942,
           0.5509541034698486,
           0.46035054326057434,
           0.33646517992019653,
           0.42806029319763184,
           0.6694010496139526,
           0.4180716276168823,
           0.4998704791069031,
           0.42034900188446045,
           0.47551658749580383,
           0.8290069699287415,
           0.5535631775856018,
           0.3460536301136017,
           0.20033833384513855,
           0.592015266418457,
           0.38074392080307007,
           0.5581886172294617,
           0.477557897567749,
           0.6040508151054382,
           0.4122505784034729,
           0.3937797546386719,
           0.6430445313453674,
           0.4437657296657562,
           0.49175453186035156,
           0.34210190176963806,
           0.7158614993095398,
           0.5997027158737183,
           0.5604652166366577,
           0.3848355710506439,
           0.4553426504135132,
           0.5483779907226562,
           0.5816563367843628,
           0.3361930847167969,
           0.5258158445358276,
           0.5966464281082153,
           0.20333236455917358,
           0.4573875069618225,
           0.7158547639846802,
           0.33453863859176636,
           1.0000001192092896
          ]
         ]
        }
       ],
       "layout": {
        "coloraxis": {
         "colorbar": {
          "title": {
           "text": "Similarity Score"
          }
         },
         "colorscale": [
          [
           0,
           "rgb(247,252,240)"
          ],
          [
           0.125,
           "rgb(224,243,219)"
          ],
          [
           0.25,
           "rgb(204,235,197)"
          ],
          [
           0.375,
           "rgb(168,221,181)"
          ],
          [
           0.5,
           "rgb(123,204,196)"
          ],
          [
           0.625,
           "rgb(78,179,211)"
          ],
          [
           0.75,
           "rgb(43,140,190)"
          ],
          [
           0.875,
           "rgb(8,104,172)"
          ],
          [
           1,
           "rgb(8,64,129)"
          ]
         ]
        },
        "height": 800,
        "hoverlabel": {
         "bgcolor": "white",
         "font": {
          "family": "Rockwell",
          "size": 16
         }
        },
        "legend": {
         "title": {
          "text": "Trend"
         }
        },
        "margin": {
         "t": 60
        },
        "showlegend": true,
        "template": {
         "data": {
          "bar": [
           {
            "error_x": {
             "color": "#2a3f5f"
            },
            "error_y": {
             "color": "#2a3f5f"
            },
            "marker": {
             "line": {
              "color": "#E5ECF6",
              "width": 0.5
             },
             "pattern": {
              "fillmode": "overlay",
              "size": 10,
              "solidity": 0.2
             }
            },
            "type": "bar"
           }
          ],
          "barpolar": [
           {
            "marker": {
             "line": {
              "color": "#E5ECF6",
              "width": 0.5
             },
             "pattern": {
              "fillmode": "overlay",
              "size": 10,
              "solidity": 0.2
             }
            },
            "type": "barpolar"
           }
          ],
          "carpet": [
           {
            "aaxis": {
             "endlinecolor": "#2a3f5f",
             "gridcolor": "white",
             "linecolor": "white",
             "minorgridcolor": "white",
             "startlinecolor": "#2a3f5f"
            },
            "baxis": {
             "endlinecolor": "#2a3f5f",
             "gridcolor": "white",
             "linecolor": "white",
             "minorgridcolor": "white",
             "startlinecolor": "#2a3f5f"
            },
            "type": "carpet"
           }
          ],
          "choropleth": [
           {
            "colorbar": {
             "outlinewidth": 0,
             "ticks": ""
            },
            "type": "choropleth"
           }
          ],
          "contour": [
           {
            "colorbar": {
             "outlinewidth": 0,
             "ticks": ""
            },
            "colorscale": [
             [
              0,
              "#0d0887"
             ],
             [
              0.1111111111111111,
              "#46039f"
             ],
             [
              0.2222222222222222,
              "#7201a8"
             ],
             [
              0.3333333333333333,
              "#9c179e"
             ],
             [
              0.4444444444444444,
              "#bd3786"
             ],
             [
              0.5555555555555556,
              "#d8576b"
             ],
             [
              0.6666666666666666,
              "#ed7953"
             ],
             [
              0.7777777777777778,
              "#fb9f3a"
             ],
             [
              0.8888888888888888,
              "#fdca26"
             ],
             [
              1,
              "#f0f921"
             ]
            ],
            "type": "contour"
           }
          ],
          "contourcarpet": [
           {
            "colorbar": {
             "outlinewidth": 0,
             "ticks": ""
            },
            "type": "contourcarpet"
           }
          ],
          "heatmap": [
           {
            "colorbar": {
             "outlinewidth": 0,
             "ticks": ""
            },
            "colorscale": [
             [
              0,
              "#0d0887"
             ],
             [
              0.1111111111111111,
              "#46039f"
             ],
             [
              0.2222222222222222,
              "#7201a8"
             ],
             [
              0.3333333333333333,
              "#9c179e"
             ],
             [
              0.4444444444444444,
              "#bd3786"
             ],
             [
              0.5555555555555556,
              "#d8576b"
             ],
             [
              0.6666666666666666,
              "#ed7953"
             ],
             [
              0.7777777777777778,
              "#fb9f3a"
             ],
             [
              0.8888888888888888,
              "#fdca26"
             ],
             [
              1,
              "#f0f921"
             ]
            ],
            "type": "heatmap"
           }
          ],
          "heatmapgl": [
           {
            "colorbar": {
             "outlinewidth": 0,
             "ticks": ""
            },
            "colorscale": [
             [
              0,
              "#0d0887"
             ],
             [
              0.1111111111111111,
              "#46039f"
             ],
             [
              0.2222222222222222,
              "#7201a8"
             ],
             [
              0.3333333333333333,
              "#9c179e"
             ],
             [
              0.4444444444444444,
              "#bd3786"
             ],
             [
              0.5555555555555556,
              "#d8576b"
             ],
             [
              0.6666666666666666,
              "#ed7953"
             ],
             [
              0.7777777777777778,
              "#fb9f3a"
             ],
             [
              0.8888888888888888,
              "#fdca26"
             ],
             [
              1,
              "#f0f921"
             ]
            ],
            "type": "heatmapgl"
           }
          ],
          "histogram": [
           {
            "marker": {
             "pattern": {
              "fillmode": "overlay",
              "size": 10,
              "solidity": 0.2
             }
            },
            "type": "histogram"
           }
          ],
          "histogram2d": [
           {
            "colorbar": {
             "outlinewidth": 0,
             "ticks": ""
            },
            "colorscale": [
             [
              0,
              "#0d0887"
             ],
             [
              0.1111111111111111,
              "#46039f"
             ],
             [
              0.2222222222222222,
              "#7201a8"
             ],
             [
              0.3333333333333333,
              "#9c179e"
             ],
             [
              0.4444444444444444,
              "#bd3786"
             ],
             [
              0.5555555555555556,
              "#d8576b"
             ],
             [
              0.6666666666666666,
              "#ed7953"
             ],
             [
              0.7777777777777778,
              "#fb9f3a"
             ],
             [
              0.8888888888888888,
              "#fdca26"
             ],
             [
              1,
              "#f0f921"
             ]
            ],
            "type": "histogram2d"
           }
          ],
          "histogram2dcontour": [
           {
            "colorbar": {
             "outlinewidth": 0,
             "ticks": ""
            },
            "colorscale": [
             [
              0,
              "#0d0887"
             ],
             [
              0.1111111111111111,
              "#46039f"
             ],
             [
              0.2222222222222222,
              "#7201a8"
             ],
             [
              0.3333333333333333,
              "#9c179e"
             ],
             [
              0.4444444444444444,
              "#bd3786"
             ],
             [
              0.5555555555555556,
              "#d8576b"
             ],
             [
              0.6666666666666666,
              "#ed7953"
             ],
             [
              0.7777777777777778,
              "#fb9f3a"
             ],
             [
              0.8888888888888888,
              "#fdca26"
             ],
             [
              1,
              "#f0f921"
             ]
            ],
            "type": "histogram2dcontour"
           }
          ],
          "mesh3d": [
           {
            "colorbar": {
             "outlinewidth": 0,
             "ticks": ""
            },
            "type": "mesh3d"
           }
          ],
          "parcoords": [
           {
            "line": {
             "colorbar": {
              "outlinewidth": 0,
              "ticks": ""
             }
            },
            "type": "parcoords"
           }
          ],
          "pie": [
           {
            "automargin": true,
            "type": "pie"
           }
          ],
          "scatter": [
           {
            "fillpattern": {
             "fillmode": "overlay",
             "size": 10,
             "solidity": 0.2
            },
            "type": "scatter"
           }
          ],
          "scatter3d": [
           {
            "line": {
             "colorbar": {
              "outlinewidth": 0,
              "ticks": ""
             }
            },
            "marker": {
             "colorbar": {
              "outlinewidth": 0,
              "ticks": ""
             }
            },
            "type": "scatter3d"
           }
          ],
          "scattercarpet": [
           {
            "marker": {
             "colorbar": {
              "outlinewidth": 0,
              "ticks": ""
             }
            },
            "type": "scattercarpet"
           }
          ],
          "scattergeo": [
           {
            "marker": {
             "colorbar": {
              "outlinewidth": 0,
              "ticks": ""
             }
            },
            "type": "scattergeo"
           }
          ],
          "scattergl": [
           {
            "marker": {
             "colorbar": {
              "outlinewidth": 0,
              "ticks": ""
             }
            },
            "type": "scattergl"
           }
          ],
          "scattermapbox": [
           {
            "marker": {
             "colorbar": {
              "outlinewidth": 0,
              "ticks": ""
             }
            },
            "type": "scattermapbox"
           }
          ],
          "scatterpolar": [
           {
            "marker": {
             "colorbar": {
              "outlinewidth": 0,
              "ticks": ""
             }
            },
            "type": "scatterpolar"
           }
          ],
          "scatterpolargl": [
           {
            "marker": {
             "colorbar": {
              "outlinewidth": 0,
              "ticks": ""
             }
            },
            "type": "scatterpolargl"
           }
          ],
          "scatterternary": [
           {
            "marker": {
             "colorbar": {
              "outlinewidth": 0,
              "ticks": ""
             }
            },
            "type": "scatterternary"
           }
          ],
          "surface": [
           {
            "colorbar": {
             "outlinewidth": 0,
             "ticks": ""
            },
            "colorscale": [
             [
              0,
              "#0d0887"
             ],
             [
              0.1111111111111111,
              "#46039f"
             ],
             [
              0.2222222222222222,
              "#7201a8"
             ],
             [
              0.3333333333333333,
              "#9c179e"
             ],
             [
              0.4444444444444444,
              "#bd3786"
             ],
             [
              0.5555555555555556,
              "#d8576b"
             ],
             [
              0.6666666666666666,
              "#ed7953"
             ],
             [
              0.7777777777777778,
              "#fb9f3a"
             ],
             [
              0.8888888888888888,
              "#fdca26"
             ],
             [
              1,
              "#f0f921"
             ]
            ],
            "type": "surface"
           }
          ],
          "table": [
           {
            "cells": {
             "fill": {
              "color": "#EBF0F8"
             },
             "line": {
              "color": "white"
             }
            },
            "header": {
             "fill": {
              "color": "#C8D4E3"
             },
             "line": {
              "color": "white"
             }
            },
            "type": "table"
           }
          ]
         },
         "layout": {
          "annotationdefaults": {
           "arrowcolor": "#2a3f5f",
           "arrowhead": 0,
           "arrowwidth": 1
          },
          "autotypenumbers": "strict",
          "coloraxis": {
           "colorbar": {
            "outlinewidth": 0,
            "ticks": ""
           }
          },
          "colorscale": {
           "diverging": [
            [
             0,
             "#8e0152"
            ],
            [
             0.1,
             "#c51b7d"
            ],
            [
             0.2,
             "#de77ae"
            ],
            [
             0.3,
             "#f1b6da"
            ],
            [
             0.4,
             "#fde0ef"
            ],
            [
             0.5,
             "#f7f7f7"
            ],
            [
             0.6,
             "#e6f5d0"
            ],
            [
             0.7,
             "#b8e186"
            ],
            [
             0.8,
             "#7fbc41"
            ],
            [
             0.9,
             "#4d9221"
            ],
            [
             1,
             "#276419"
            ]
           ],
           "sequential": [
            [
             0,
             "#0d0887"
            ],
            [
             0.1111111111111111,
             "#46039f"
            ],
            [
             0.2222222222222222,
             "#7201a8"
            ],
            [
             0.3333333333333333,
             "#9c179e"
            ],
            [
             0.4444444444444444,
             "#bd3786"
            ],
            [
             0.5555555555555556,
             "#d8576b"
            ],
            [
             0.6666666666666666,
             "#ed7953"
            ],
            [
             0.7777777777777778,
             "#fb9f3a"
            ],
            [
             0.8888888888888888,
             "#fdca26"
            ],
            [
             1,
             "#f0f921"
            ]
           ],
           "sequentialminus": [
            [
             0,
             "#0d0887"
            ],
            [
             0.1111111111111111,
             "#46039f"
            ],
            [
             0.2222222222222222,
             "#7201a8"
            ],
            [
             0.3333333333333333,
             "#9c179e"
            ],
            [
             0.4444444444444444,
             "#bd3786"
            ],
            [
             0.5555555555555556,
             "#d8576b"
            ],
            [
             0.6666666666666666,
             "#ed7953"
            ],
            [
             0.7777777777777778,
             "#fb9f3a"
            ],
            [
             0.8888888888888888,
             "#fdca26"
            ],
            [
             1,
             "#f0f921"
            ]
           ]
          },
          "colorway": [
           "#636efa",
           "#EF553B",
           "#00cc96",
           "#ab63fa",
           "#FFA15A",
           "#19d3f3",
           "#FF6692",
           "#B6E880",
           "#FF97FF",
           "#FECB52"
          ],
          "font": {
           "color": "#2a3f5f"
          },
          "geo": {
           "bgcolor": "white",
           "lakecolor": "white",
           "landcolor": "#E5ECF6",
           "showlakes": true,
           "showland": true,
           "subunitcolor": "white"
          },
          "hoverlabel": {
           "align": "left"
          },
          "hovermode": "closest",
          "mapbox": {
           "style": "light"
          },
          "paper_bgcolor": "white",
          "plot_bgcolor": "#E5ECF6",
          "polar": {
           "angularaxis": {
            "gridcolor": "white",
            "linecolor": "white",
            "ticks": ""
           },
           "bgcolor": "#E5ECF6",
           "radialaxis": {
            "gridcolor": "white",
            "linecolor": "white",
            "ticks": ""
           }
          },
          "scene": {
           "xaxis": {
            "backgroundcolor": "#E5ECF6",
            "gridcolor": "white",
            "gridwidth": 2,
            "linecolor": "white",
            "showbackground": true,
            "ticks": "",
            "zerolinecolor": "white"
           },
           "yaxis": {
            "backgroundcolor": "#E5ECF6",
            "gridcolor": "white",
            "gridwidth": 2,
            "linecolor": "white",
            "showbackground": true,
            "ticks": "",
            "zerolinecolor": "white"
           },
           "zaxis": {
            "backgroundcolor": "#E5ECF6",
            "gridcolor": "white",
            "gridwidth": 2,
            "linecolor": "white",
            "showbackground": true,
            "ticks": "",
            "zerolinecolor": "white"
           }
          },
          "shapedefaults": {
           "line": {
            "color": "#2a3f5f"
           }
          },
          "ternary": {
           "aaxis": {
            "gridcolor": "white",
            "linecolor": "white",
            "ticks": ""
           },
           "baxis": {
            "gridcolor": "white",
            "linecolor": "white",
            "ticks": ""
           },
           "bgcolor": "#E5ECF6",
           "caxis": {
            "gridcolor": "white",
            "linecolor": "white",
            "ticks": ""
           }
          },
          "title": {
           "x": 0.05
          },
          "xaxis": {
           "automargin": true,
           "gridcolor": "white",
           "linecolor": "white",
           "ticks": "",
           "title": {
            "standoff": 15
           },
           "zerolinecolor": "white",
           "zerolinewidth": 2
          },
          "yaxis": {
           "automargin": true,
           "gridcolor": "white",
           "linecolor": "white",
           "ticks": "",
           "title": {
            "standoff": 15
           },
           "zerolinecolor": "white",
           "zerolinewidth": 2
          }
         }
        },
        "title": {
         "font": {
          "color": "Black",
          "size": 22
         },
         "text": "<b>Similarity Matrix</b>",
         "x": 0.55,
         "xanchor": "center",
         "y": 0.95,
         "yanchor": "top"
        },
        "width": 800,
        "xaxis": {
         "anchor": "y",
         "constrain": "domain",
         "domain": [
          0,
          1
         ],
         "scaleanchor": "y"
        },
        "yaxis": {
         "anchor": "x",
         "autorange": "reversed",
         "constrain": "domain",
         "domain": [
          0,
          1
         ]
        }
       }
      }
     },
     "metadata": {},
     "output_type": "display_data"
    }
   ],
   "source": [
    "topic_model.visualize_heatmap()"
   ]
  },
  {
   "cell_type": "code",
   "execution_count": 15,
   "metadata": {},
   "outputs": [
    {
     "name": "stdout",
     "output_type": "stream",
     "text": [
      "Topic ID: 0, Topic Name: 0_shelf_shelves_great_this\n",
      "Topic ID: 1, Topic Name: 1_easy_assemble_to_together\n",
      "Topic ID: 2, Topic Name: 2_closet_my_organizer_clothes\n",
      "Topic ID: 3, Topic Name: 3_kallax_storage_of_for\n",
      "Topic ID: 4, Topic Name: 4_easy_product_assemble_to\n",
      "Topic ID: 5, Topic Name: 5_shelving_unit_great_very\n",
      "Topic ID: 6, Topic Name: 6_tv_stand_as_it\n",
      "Topic ID: 7, Topic Name: 7_vinyl_records_record_collection\n"
     ]
    }
   ],
   "source": [
    "topics = topic_model.get_topic_freq()\n",
    "valid_topics = topics[topics.Topic != -1].sort_values(by=\"Count\", ascending=False)\n",
    "\n",
    "# Start by selecting the first 8 topics\n",
    "top_topics = valid_topics.head(8).Topic.tolist()\n",
    "\n",
    "for topic_id in top_topics:\n",
    "    topic_name = topic_info[topic_info.Topic == topic_id]['Name'].values[0]\n",
    "    print(f\"Topic ID: {topic_id}, Topic Name: {topic_name}\")"
   ]
  },
  {
   "cell_type": "code",
   "execution_count": 16,
   "metadata": {},
   "outputs": [
    {
     "name": "stdout",
     "output_type": "stream",
     "text": [
      "Similarity between 0 and 2: 0.7069297432899475\n",
      "New top topics: [0, 1, 2, 3, 4, 5, 6, 7]\n",
      "Similarity between 0 and 4: 0.8670609615216309\n",
      "New top topics: [0, 1, 2, 3, 4, 5, 6, 7]\n",
      "Similarity between 0 and 6: 0.8106400857375843\n",
      "New top topics: [0, 1, 2, 3, 4, 5, 6, 7]\n",
      "Similarity between 0 and 2: 0.7007503000189184\n",
      "New top topics: [0, 1, 2, 3, 4, 5, 6, 7]\n",
      "Similarity between 0 and 4: 0.7187660165985583\n",
      "New top topics: [0, 1, 2, 3, 4, 5, 6, 7]\n",
      "Similarity between 0 and 4: 0.8405592221650158\n",
      "New top topics: [0, 1, 2, 3, 4, 5, 6, 7]\n",
      "Similarity between 0 and 6: 0.7383412204888669\n",
      "New top topics: [0, 1, 2, 3, 4, 5, 6, 7]\n",
      "Similarity between 1 and 2: 0.7795648713387489\n",
      "New top topics: [0, 1, 2, 3, 4, 5, 6, 7]\n",
      "Similarity between 3 and 4: 0.8302508444436915\n",
      "New top topics: [0, 1, 2, 3, 4, 5, 6, 7]\n"
     ]
    }
   ],
   "source": [
    "threshold = 0.7\n",
    "\n",
    "i = 0\n",
    "while i < len(top_topics):\n",
    "    j = i + 1\n",
    "    while j < len(top_topics):\n",
    "        sim = compute_topic_similarity(topic_model, top_topics[i], top_topics[j], use_ctfidf=False)\n",
    "\n",
    "        if sim > threshold:\n",
    "            print(f\"Similarity between {top_topics[i]} and {top_topics[j]}: {sim}\")\n",
    "            topic_model.merge_topics(reviews, [top_topics[i], top_topics[j]])\n",
    "            topics = topic_model.get_topic_freq()\n",
    "            valid_topics = topics[topics.Topic != -1].sort_values(by=\"Count\", ascending=False)\n",
    "            top_topics = valid_topics.head(8).Topic.tolist()\n",
    "            print(f\"New top topics: {top_topics}\")\n",
    "            i = 0\n",
    "            j = 0\n",
    "        j += 1\n",
    "    i += 1"
   ]
  },
  {
   "cell_type": "code",
   "execution_count": 17,
   "metadata": {},
   "outputs": [
    {
     "data": {
      "text/html": [
       "<div>\n",
       "<style scoped>\n",
       "    .dataframe tbody tr th:only-of-type {\n",
       "        vertical-align: middle;\n",
       "    }\n",
       "\n",
       "    .dataframe tbody tr th {\n",
       "        vertical-align: top;\n",
       "    }\n",
       "\n",
       "    .dataframe thead th {\n",
       "        text-align: right;\n",
       "    }\n",
       "</style>\n",
       "<table border=\"1\" class=\"dataframe\">\n",
       "  <thead>\n",
       "    <tr style=\"text-align: right;\">\n",
       "      <th></th>\n",
       "      <th>Topic</th>\n",
       "      <th>Count</th>\n",
       "      <th>Name</th>\n",
       "      <th>Representation</th>\n",
       "      <th>Representative_Docs</th>\n",
       "    </tr>\n",
       "  </thead>\n",
       "  <tbody>\n",
       "    <tr>\n",
       "      <th>0</th>\n",
       "      <td>-1</td>\n",
       "      <td>1187</td>\n",
       "      <td>-1_the_and_to_for</td>\n",
       "      <td>[the, and, to, for, it, in, of, my, this, great]</td>\n",
       "      <td>[Kallax. We were looking for the best storage ...</td>\n",
       "    </tr>\n",
       "    <tr>\n",
       "      <th>1</th>\n",
       "      <td>0</td>\n",
       "      <td>764</td>\n",
       "      <td>0_storage_shelf_for_my</td>\n",
       "      <td>[storage, shelf, for, my, great, and, the, to,...</td>\n",
       "      <td>[Great Shelf Unit. Very easy to put together a...</td>\n",
       "    </tr>\n",
       "    <tr>\n",
       "      <th>2</th>\n",
       "      <td>1</td>\n",
       "      <td>278</td>\n",
       "      <td>1_easy_assemble_to_together</td>\n",
       "      <td>[easy, assemble, to, together, put, looks, and...</td>\n",
       "      <td>[Easy to assemble and looks. Easy to assemble ...</td>\n",
       "    </tr>\n",
       "    <tr>\n",
       "      <th>3</th>\n",
       "      <td>2</td>\n",
       "      <td>101</td>\n",
       "      <td>2_product_good_great_very</td>\n",
       "      <td>[product, good, great, very, happy, recommend,...</td>\n",
       "      <td>[Great product. Great product, great product. ...</td>\n",
       "    </tr>\n",
       "    <tr>\n",
       "      <th>4</th>\n",
       "      <td>3</td>\n",
       "      <td>81</td>\n",
       "      <td>3_tv_stand_as_it</td>\n",
       "      <td>[tv, stand, as, it, use, this, perfect, its, a...</td>\n",
       "      <td>[Love it. I Love it. I use it as a TV stand., ...</td>\n",
       "    </tr>\n",
       "    <tr>\n",
       "      <th>5</th>\n",
       "      <td>4</td>\n",
       "      <td>50</td>\n",
       "      <td>4_unit_this_looks_great</td>\n",
       "      <td>[unit, this, looks, great, units, these, have,...</td>\n",
       "      <td>[Great unit. Looks good. Very. Great unit. Loo...</td>\n",
       "    </tr>\n",
       "    <tr>\n",
       "      <th>6</th>\n",
       "      <td>5</td>\n",
       "      <td>48</td>\n",
       "      <td>5_kallax_units_the_fittings</td>\n",
       "      <td>[kallax, units, the, fittings, love, versatile...</td>\n",
       "      <td>[Kallax is ideal for my requirements. I have a...</td>\n",
       "    </tr>\n",
       "    <tr>\n",
       "      <th>7</th>\n",
       "      <td>6</td>\n",
       "      <td>47</td>\n",
       "      <td>6_ikea_is_quality_to</td>\n",
       "      <td>[ikea, is, quality, to, not, the, it, from, at...</td>\n",
       "      <td>[My god. I bought this about a month ago and I...</td>\n",
       "    </tr>\n",
       "    <tr>\n",
       "      <th>8</th>\n",
       "      <td>7</td>\n",
       "      <td>46</td>\n",
       "      <td>7_sturdy_very_strong_and</td>\n",
       "      <td>[sturdy, very, strong, and, built, constructio...</td>\n",
       "      <td>[Very sturdy and very easy. Very sturdy and ve...</td>\n",
       "    </tr>\n",
       "    <tr>\n",
       "      <th>9</th>\n",
       "      <td>8</td>\n",
       "      <td>44</td>\n",
       "      <td>8_what_exactly_needed_looking</td>\n",
       "      <td>[what, exactly, needed, looking, just, needs, ...</td>\n",
       "      <td>[Exactly what I needed. Exactly what I needed,...</td>\n",
       "    </tr>\n",
       "  </tbody>\n",
       "</table>\n",
       "</div>"
      ],
      "text/plain": [
       "   Topic  Count                           Name  \\\n",
       "0     -1   1187              -1_the_and_to_for   \n",
       "1      0    764         0_storage_shelf_for_my   \n",
       "2      1    278    1_easy_assemble_to_together   \n",
       "3      2    101      2_product_good_great_very   \n",
       "4      3     81               3_tv_stand_as_it   \n",
       "5      4     50        4_unit_this_looks_great   \n",
       "6      5     48    5_kallax_units_the_fittings   \n",
       "7      6     47           6_ikea_is_quality_to   \n",
       "8      7     46       7_sturdy_very_strong_and   \n",
       "9      8     44  8_what_exactly_needed_looking   \n",
       "\n",
       "                                      Representation  \\\n",
       "0   [the, and, to, for, it, in, of, my, this, great]   \n",
       "1  [storage, shelf, for, my, great, and, the, to,...   \n",
       "2  [easy, assemble, to, together, put, looks, and...   \n",
       "3  [product, good, great, very, happy, recommend,...   \n",
       "4  [tv, stand, as, it, use, this, perfect, its, a...   \n",
       "5  [unit, this, looks, great, units, these, have,...   \n",
       "6  [kallax, units, the, fittings, love, versatile...   \n",
       "7  [ikea, is, quality, to, not, the, it, from, at...   \n",
       "8  [sturdy, very, strong, and, built, constructio...   \n",
       "9  [what, exactly, needed, looking, just, needs, ...   \n",
       "\n",
       "                                 Representative_Docs  \n",
       "0  [Kallax. We were looking for the best storage ...  \n",
       "1  [Great Shelf Unit. Very easy to put together a...  \n",
       "2  [Easy to assemble and looks. Easy to assemble ...  \n",
       "3  [Great product. Great product, great product. ...  \n",
       "4  [Love it. I Love it. I use it as a TV stand., ...  \n",
       "5  [Great unit. Looks good. Very. Great unit. Loo...  \n",
       "6  [Kallax is ideal for my requirements. I have a...  \n",
       "7  [My god. I bought this about a month ago and I...  \n",
       "8  [Very sturdy and very easy. Very sturdy and ve...  \n",
       "9  [Exactly what I needed. Exactly what I needed,...  "
      ]
     },
     "execution_count": 17,
     "metadata": {},
     "output_type": "execute_result"
    }
   ],
   "source": [
    "topic_info = topic_model.get_topic_info()\n",
    "topic_info.head(10)"
   ]
  },
  {
   "cell_type": "code",
   "execution_count": 18,
   "metadata": {},
   "outputs": [
    {
     "data": {
      "text/plain": [
       "[('easy', 0.059759778719918895),\n",
       " ('assemble', 0.04316517930024521),\n",
       " ('to', 0.03607787863667898),\n",
       " ('together', 0.03232533761646141),\n",
       " ('put', 0.028529638208410084),\n",
       " ('looks', 0.021501725939270033),\n",
       " ('and', 0.019199097318613488),\n",
       " ('assembly', 0.018809944187871307),\n",
       " ('it', 0.017998551761603605),\n",
       " ('great', 0.01650178851496449)]"
      ]
     },
     "execution_count": 18,
     "metadata": {},
     "output_type": "execute_result"
    }
   ],
   "source": [
    "topic_model.get_topic(1)"
   ]
  },
  {
   "cell_type": "code",
   "execution_count": 19,
   "metadata": {},
   "outputs": [
    {
     "data": {
      "application/vnd.plotly.v1+json": {
       "config": {
        "plotlyServerURL": "https://plot.ly"
       },
       "data": [
        {
         "marker": {
          "color": "#D55E00"
         },
         "orientation": "h",
         "type": "bar",
         "x": [
          0.01591628412790232,
          0.01693371186642026,
          0.018055829474541093,
          0.01844126104628936,
          0.01969860722082841
         ],
         "xaxis": "x",
         "y": [
          "great  ",
          "my  ",
          "for  ",
          "shelf  ",
          "storage  "
         ],
         "yaxis": "y"
        },
        {
         "marker": {
          "color": "#0072B2"
         },
         "orientation": "h",
         "type": "bar",
         "x": [
          0.028529638208410084,
          0.03232533761646141,
          0.03607787863667898,
          0.04316517930024521,
          0.059759778719918895
         ],
         "xaxis": "x2",
         "y": [
          "put  ",
          "together  ",
          "to  ",
          "assemble  ",
          "easy  "
         ],
         "yaxis": "y2"
        },
        {
         "marker": {
          "color": "#CC79A7"
         },
         "orientation": "h",
         "type": "bar",
         "x": [
          0.060868167858130186,
          0.06850460124732217,
          0.07236947589817917,
          0.09379228994855576,
          0.32074947667232884
         ],
         "xaxis": "x3",
         "y": [
          "happy  ",
          "very  ",
          "great  ",
          "good  ",
          "product  "
         ],
         "yaxis": "y3"
        },
        {
         "marker": {
          "color": "#E69F00"
         },
         "orientation": "h",
         "type": "bar",
         "x": [
          0.021201676945730934,
          0.032102951330309736,
          0.037505964992965476,
          0.09773771589774059,
          0.11296190545704454
         ],
         "xaxis": "x4",
         "y": [
          "use  ",
          "it  ",
          "as  ",
          "stand  ",
          "tv  "
         ],
         "yaxis": "y4"
        },
        {
         "marker": {
          "color": "#56B4E9"
         },
         "orientation": "h",
         "type": "bar",
         "x": [
          0.02738577109602651,
          0.02927185363679295,
          0.030266760717061636,
          0.03302772288622307,
          0.08725478600394841
         ],
         "xaxis": "x5",
         "y": [
          "units  ",
          "great  ",
          "looks  ",
          "this  ",
          "unit  "
         ],
         "yaxis": "y5"
        },
        {
         "marker": {
          "color": "#009E73"
         },
         "orientation": "h",
         "type": "bar",
         "x": [
          0.02496067569181085,
          0.02496771410652604,
          0.028126832577664986,
          0.02957702939154492,
          0.05229905404257207
         ],
         "xaxis": "x6",
         "y": [
          "love  ",
          "fittings  ",
          "the  ",
          "units  ",
          "kallax  "
         ],
         "yaxis": "y6"
        },
        {
         "marker": {
          "color": "#F0E442"
         },
         "orientation": "h",
         "type": "bar",
         "x": [
          0.01798952453020885,
          0.01814815673215745,
          0.018739505992849396,
          0.019717107434369576,
          0.05472214510981535
         ],
         "xaxis": "x7",
         "y": [
          "not  ",
          "to  ",
          "quality  ",
          "is  ",
          "ikea  "
         ],
         "yaxis": "y7"
        },
        {
         "marker": {
          "color": "#D55E00"
         },
         "orientation": "h",
         "type": "bar",
         "x": [
          0.020870031331206844,
          0.02713783503302578,
          0.028093511577781703,
          0.04143515263214568,
          0.09490377622281745
         ],
         "xaxis": "x8",
         "y": [
          "built  ",
          "and  ",
          "strong  ",
          "very  ",
          "sturdy  "
         ],
         "yaxis": "y8"
        }
       ],
       "layout": {
        "annotations": [
         {
          "font": {
           "size": 16
          },
          "showarrow": false,
          "text": "Topic 0",
          "x": 0.0875,
          "xanchor": "center",
          "xref": "paper",
          "y": 1,
          "yanchor": "bottom",
          "yref": "paper"
         },
         {
          "font": {
           "size": 16
          },
          "showarrow": false,
          "text": "Topic 1",
          "x": 0.36250000000000004,
          "xanchor": "center",
          "xref": "paper",
          "y": 1,
          "yanchor": "bottom",
          "yref": "paper"
         },
         {
          "font": {
           "size": 16
          },
          "showarrow": false,
          "text": "Topic 2",
          "x": 0.6375000000000001,
          "xanchor": "center",
          "xref": "paper",
          "y": 1,
          "yanchor": "bottom",
          "yref": "paper"
         },
         {
          "font": {
           "size": 16
          },
          "showarrow": false,
          "text": "Topic 3",
          "x": 0.9125,
          "xanchor": "center",
          "xref": "paper",
          "y": 1,
          "yanchor": "bottom",
          "yref": "paper"
         },
         {
          "font": {
           "size": 16
          },
          "showarrow": false,
          "text": "Topic 4",
          "x": 0.0875,
          "xanchor": "center",
          "xref": "paper",
          "y": 0.4,
          "yanchor": "bottom",
          "yref": "paper"
         },
         {
          "font": {
           "size": 16
          },
          "showarrow": false,
          "text": "Topic 5",
          "x": 0.36250000000000004,
          "xanchor": "center",
          "xref": "paper",
          "y": 0.4,
          "yanchor": "bottom",
          "yref": "paper"
         },
         {
          "font": {
           "size": 16
          },
          "showarrow": false,
          "text": "Topic 6",
          "x": 0.6375000000000001,
          "xanchor": "center",
          "xref": "paper",
          "y": 0.4,
          "yanchor": "bottom",
          "yref": "paper"
         },
         {
          "font": {
           "size": 16
          },
          "showarrow": false,
          "text": "Topic 7",
          "x": 0.9125,
          "xanchor": "center",
          "xref": "paper",
          "y": 0.4,
          "yanchor": "bottom",
          "yref": "paper"
         }
        ],
        "height": 500,
        "hoverlabel": {
         "bgcolor": "white",
         "font": {
          "family": "Rockwell",
          "size": 16
         }
        },
        "showlegend": false,
        "template": {
         "data": {
          "bar": [
           {
            "error_x": {
             "color": "#2a3f5f"
            },
            "error_y": {
             "color": "#2a3f5f"
            },
            "marker": {
             "line": {
              "color": "white",
              "width": 0.5
             },
             "pattern": {
              "fillmode": "overlay",
              "size": 10,
              "solidity": 0.2
             }
            },
            "type": "bar"
           }
          ],
          "barpolar": [
           {
            "marker": {
             "line": {
              "color": "white",
              "width": 0.5
             },
             "pattern": {
              "fillmode": "overlay",
              "size": 10,
              "solidity": 0.2
             }
            },
            "type": "barpolar"
           }
          ],
          "carpet": [
           {
            "aaxis": {
             "endlinecolor": "#2a3f5f",
             "gridcolor": "#C8D4E3",
             "linecolor": "#C8D4E3",
             "minorgridcolor": "#C8D4E3",
             "startlinecolor": "#2a3f5f"
            },
            "baxis": {
             "endlinecolor": "#2a3f5f",
             "gridcolor": "#C8D4E3",
             "linecolor": "#C8D4E3",
             "minorgridcolor": "#C8D4E3",
             "startlinecolor": "#2a3f5f"
            },
            "type": "carpet"
           }
          ],
          "choropleth": [
           {
            "colorbar": {
             "outlinewidth": 0,
             "ticks": ""
            },
            "type": "choropleth"
           }
          ],
          "contour": [
           {
            "colorbar": {
             "outlinewidth": 0,
             "ticks": ""
            },
            "colorscale": [
             [
              0,
              "#0d0887"
             ],
             [
              0.1111111111111111,
              "#46039f"
             ],
             [
              0.2222222222222222,
              "#7201a8"
             ],
             [
              0.3333333333333333,
              "#9c179e"
             ],
             [
              0.4444444444444444,
              "#bd3786"
             ],
             [
              0.5555555555555556,
              "#d8576b"
             ],
             [
              0.6666666666666666,
              "#ed7953"
             ],
             [
              0.7777777777777778,
              "#fb9f3a"
             ],
             [
              0.8888888888888888,
              "#fdca26"
             ],
             [
              1,
              "#f0f921"
             ]
            ],
            "type": "contour"
           }
          ],
          "contourcarpet": [
           {
            "colorbar": {
             "outlinewidth": 0,
             "ticks": ""
            },
            "type": "contourcarpet"
           }
          ],
          "heatmap": [
           {
            "colorbar": {
             "outlinewidth": 0,
             "ticks": ""
            },
            "colorscale": [
             [
              0,
              "#0d0887"
             ],
             [
              0.1111111111111111,
              "#46039f"
             ],
             [
              0.2222222222222222,
              "#7201a8"
             ],
             [
              0.3333333333333333,
              "#9c179e"
             ],
             [
              0.4444444444444444,
              "#bd3786"
             ],
             [
              0.5555555555555556,
              "#d8576b"
             ],
             [
              0.6666666666666666,
              "#ed7953"
             ],
             [
              0.7777777777777778,
              "#fb9f3a"
             ],
             [
              0.8888888888888888,
              "#fdca26"
             ],
             [
              1,
              "#f0f921"
             ]
            ],
            "type": "heatmap"
           }
          ],
          "heatmapgl": [
           {
            "colorbar": {
             "outlinewidth": 0,
             "ticks": ""
            },
            "colorscale": [
             [
              0,
              "#0d0887"
             ],
             [
              0.1111111111111111,
              "#46039f"
             ],
             [
              0.2222222222222222,
              "#7201a8"
             ],
             [
              0.3333333333333333,
              "#9c179e"
             ],
             [
              0.4444444444444444,
              "#bd3786"
             ],
             [
              0.5555555555555556,
              "#d8576b"
             ],
             [
              0.6666666666666666,
              "#ed7953"
             ],
             [
              0.7777777777777778,
              "#fb9f3a"
             ],
             [
              0.8888888888888888,
              "#fdca26"
             ],
             [
              1,
              "#f0f921"
             ]
            ],
            "type": "heatmapgl"
           }
          ],
          "histogram": [
           {
            "marker": {
             "pattern": {
              "fillmode": "overlay",
              "size": 10,
              "solidity": 0.2
             }
            },
            "type": "histogram"
           }
          ],
          "histogram2d": [
           {
            "colorbar": {
             "outlinewidth": 0,
             "ticks": ""
            },
            "colorscale": [
             [
              0,
              "#0d0887"
             ],
             [
              0.1111111111111111,
              "#46039f"
             ],
             [
              0.2222222222222222,
              "#7201a8"
             ],
             [
              0.3333333333333333,
              "#9c179e"
             ],
             [
              0.4444444444444444,
              "#bd3786"
             ],
             [
              0.5555555555555556,
              "#d8576b"
             ],
             [
              0.6666666666666666,
              "#ed7953"
             ],
             [
              0.7777777777777778,
              "#fb9f3a"
             ],
             [
              0.8888888888888888,
              "#fdca26"
             ],
             [
              1,
              "#f0f921"
             ]
            ],
            "type": "histogram2d"
           }
          ],
          "histogram2dcontour": [
           {
            "colorbar": {
             "outlinewidth": 0,
             "ticks": ""
            },
            "colorscale": [
             [
              0,
              "#0d0887"
             ],
             [
              0.1111111111111111,
              "#46039f"
             ],
             [
              0.2222222222222222,
              "#7201a8"
             ],
             [
              0.3333333333333333,
              "#9c179e"
             ],
             [
              0.4444444444444444,
              "#bd3786"
             ],
             [
              0.5555555555555556,
              "#d8576b"
             ],
             [
              0.6666666666666666,
              "#ed7953"
             ],
             [
              0.7777777777777778,
              "#fb9f3a"
             ],
             [
              0.8888888888888888,
              "#fdca26"
             ],
             [
              1,
              "#f0f921"
             ]
            ],
            "type": "histogram2dcontour"
           }
          ],
          "mesh3d": [
           {
            "colorbar": {
             "outlinewidth": 0,
             "ticks": ""
            },
            "type": "mesh3d"
           }
          ],
          "parcoords": [
           {
            "line": {
             "colorbar": {
              "outlinewidth": 0,
              "ticks": ""
             }
            },
            "type": "parcoords"
           }
          ],
          "pie": [
           {
            "automargin": true,
            "type": "pie"
           }
          ],
          "scatter": [
           {
            "fillpattern": {
             "fillmode": "overlay",
             "size": 10,
             "solidity": 0.2
            },
            "type": "scatter"
           }
          ],
          "scatter3d": [
           {
            "line": {
             "colorbar": {
              "outlinewidth": 0,
              "ticks": ""
             }
            },
            "marker": {
             "colorbar": {
              "outlinewidth": 0,
              "ticks": ""
             }
            },
            "type": "scatter3d"
           }
          ],
          "scattercarpet": [
           {
            "marker": {
             "colorbar": {
              "outlinewidth": 0,
              "ticks": ""
             }
            },
            "type": "scattercarpet"
           }
          ],
          "scattergeo": [
           {
            "marker": {
             "colorbar": {
              "outlinewidth": 0,
              "ticks": ""
             }
            },
            "type": "scattergeo"
           }
          ],
          "scattergl": [
           {
            "marker": {
             "colorbar": {
              "outlinewidth": 0,
              "ticks": ""
             }
            },
            "type": "scattergl"
           }
          ],
          "scattermapbox": [
           {
            "marker": {
             "colorbar": {
              "outlinewidth": 0,
              "ticks": ""
             }
            },
            "type": "scattermapbox"
           }
          ],
          "scatterpolar": [
           {
            "marker": {
             "colorbar": {
              "outlinewidth": 0,
              "ticks": ""
             }
            },
            "type": "scatterpolar"
           }
          ],
          "scatterpolargl": [
           {
            "marker": {
             "colorbar": {
              "outlinewidth": 0,
              "ticks": ""
             }
            },
            "type": "scatterpolargl"
           }
          ],
          "scatterternary": [
           {
            "marker": {
             "colorbar": {
              "outlinewidth": 0,
              "ticks": ""
             }
            },
            "type": "scatterternary"
           }
          ],
          "surface": [
           {
            "colorbar": {
             "outlinewidth": 0,
             "ticks": ""
            },
            "colorscale": [
             [
              0,
              "#0d0887"
             ],
             [
              0.1111111111111111,
              "#46039f"
             ],
             [
              0.2222222222222222,
              "#7201a8"
             ],
             [
              0.3333333333333333,
              "#9c179e"
             ],
             [
              0.4444444444444444,
              "#bd3786"
             ],
             [
              0.5555555555555556,
              "#d8576b"
             ],
             [
              0.6666666666666666,
              "#ed7953"
             ],
             [
              0.7777777777777778,
              "#fb9f3a"
             ],
             [
              0.8888888888888888,
              "#fdca26"
             ],
             [
              1,
              "#f0f921"
             ]
            ],
            "type": "surface"
           }
          ],
          "table": [
           {
            "cells": {
             "fill": {
              "color": "#EBF0F8"
             },
             "line": {
              "color": "white"
             }
            },
            "header": {
             "fill": {
              "color": "#C8D4E3"
             },
             "line": {
              "color": "white"
             }
            },
            "type": "table"
           }
          ]
         },
         "layout": {
          "annotationdefaults": {
           "arrowcolor": "#2a3f5f",
           "arrowhead": 0,
           "arrowwidth": 1
          },
          "autotypenumbers": "strict",
          "coloraxis": {
           "colorbar": {
            "outlinewidth": 0,
            "ticks": ""
           }
          },
          "colorscale": {
           "diverging": [
            [
             0,
             "#8e0152"
            ],
            [
             0.1,
             "#c51b7d"
            ],
            [
             0.2,
             "#de77ae"
            ],
            [
             0.3,
             "#f1b6da"
            ],
            [
             0.4,
             "#fde0ef"
            ],
            [
             0.5,
             "#f7f7f7"
            ],
            [
             0.6,
             "#e6f5d0"
            ],
            [
             0.7,
             "#b8e186"
            ],
            [
             0.8,
             "#7fbc41"
            ],
            [
             0.9,
             "#4d9221"
            ],
            [
             1,
             "#276419"
            ]
           ],
           "sequential": [
            [
             0,
             "#0d0887"
            ],
            [
             0.1111111111111111,
             "#46039f"
            ],
            [
             0.2222222222222222,
             "#7201a8"
            ],
            [
             0.3333333333333333,
             "#9c179e"
            ],
            [
             0.4444444444444444,
             "#bd3786"
            ],
            [
             0.5555555555555556,
             "#d8576b"
            ],
            [
             0.6666666666666666,
             "#ed7953"
            ],
            [
             0.7777777777777778,
             "#fb9f3a"
            ],
            [
             0.8888888888888888,
             "#fdca26"
            ],
            [
             1,
             "#f0f921"
            ]
           ],
           "sequentialminus": [
            [
             0,
             "#0d0887"
            ],
            [
             0.1111111111111111,
             "#46039f"
            ],
            [
             0.2222222222222222,
             "#7201a8"
            ],
            [
             0.3333333333333333,
             "#9c179e"
            ],
            [
             0.4444444444444444,
             "#bd3786"
            ],
            [
             0.5555555555555556,
             "#d8576b"
            ],
            [
             0.6666666666666666,
             "#ed7953"
            ],
            [
             0.7777777777777778,
             "#fb9f3a"
            ],
            [
             0.8888888888888888,
             "#fdca26"
            ],
            [
             1,
             "#f0f921"
            ]
           ]
          },
          "colorway": [
           "#636efa",
           "#EF553B",
           "#00cc96",
           "#ab63fa",
           "#FFA15A",
           "#19d3f3",
           "#FF6692",
           "#B6E880",
           "#FF97FF",
           "#FECB52"
          ],
          "font": {
           "color": "#2a3f5f"
          },
          "geo": {
           "bgcolor": "white",
           "lakecolor": "white",
           "landcolor": "white",
           "showlakes": true,
           "showland": true,
           "subunitcolor": "#C8D4E3"
          },
          "hoverlabel": {
           "align": "left"
          },
          "hovermode": "closest",
          "mapbox": {
           "style": "light"
          },
          "paper_bgcolor": "white",
          "plot_bgcolor": "white",
          "polar": {
           "angularaxis": {
            "gridcolor": "#EBF0F8",
            "linecolor": "#EBF0F8",
            "ticks": ""
           },
           "bgcolor": "white",
           "radialaxis": {
            "gridcolor": "#EBF0F8",
            "linecolor": "#EBF0F8",
            "ticks": ""
           }
          },
          "scene": {
           "xaxis": {
            "backgroundcolor": "white",
            "gridcolor": "#DFE8F3",
            "gridwidth": 2,
            "linecolor": "#EBF0F8",
            "showbackground": true,
            "ticks": "",
            "zerolinecolor": "#EBF0F8"
           },
           "yaxis": {
            "backgroundcolor": "white",
            "gridcolor": "#DFE8F3",
            "gridwidth": 2,
            "linecolor": "#EBF0F8",
            "showbackground": true,
            "ticks": "",
            "zerolinecolor": "#EBF0F8"
           },
           "zaxis": {
            "backgroundcolor": "white",
            "gridcolor": "#DFE8F3",
            "gridwidth": 2,
            "linecolor": "#EBF0F8",
            "showbackground": true,
            "ticks": "",
            "zerolinecolor": "#EBF0F8"
           }
          },
          "shapedefaults": {
           "line": {
            "color": "#2a3f5f"
           }
          },
          "ternary": {
           "aaxis": {
            "gridcolor": "#DFE8F3",
            "linecolor": "#A2B1C6",
            "ticks": ""
           },
           "baxis": {
            "gridcolor": "#DFE8F3",
            "linecolor": "#A2B1C6",
            "ticks": ""
           },
           "bgcolor": "white",
           "caxis": {
            "gridcolor": "#DFE8F3",
            "linecolor": "#A2B1C6",
            "ticks": ""
           }
          },
          "title": {
           "x": 0.05
          },
          "xaxis": {
           "automargin": true,
           "gridcolor": "#EBF0F8",
           "linecolor": "#EBF0F8",
           "ticks": "",
           "title": {
            "standoff": 15
           },
           "zerolinecolor": "#EBF0F8",
           "zerolinewidth": 2
          },
          "yaxis": {
           "automargin": true,
           "gridcolor": "#EBF0F8",
           "linecolor": "#EBF0F8",
           "ticks": "",
           "title": {
            "standoff": 15
           },
           "zerolinecolor": "#EBF0F8",
           "zerolinewidth": 2
          }
         }
        },
        "title": {
         "font": {
          "color": "Black",
          "size": 22
         },
         "text": "Topic Word Scores",
         "x": 0.5,
         "xanchor": "center",
         "yanchor": "top"
        },
        "width": 1000,
        "xaxis": {
         "anchor": "y",
         "domain": [
          0,
          0.175
         ],
         "showgrid": true
        },
        "xaxis2": {
         "anchor": "y2",
         "domain": [
          0.275,
          0.45
         ],
         "showgrid": true
        },
        "xaxis3": {
         "anchor": "y3",
         "domain": [
          0.55,
          0.7250000000000001
         ],
         "showgrid": true
        },
        "xaxis4": {
         "anchor": "y4",
         "domain": [
          0.825,
          1
         ],
         "showgrid": true
        },
        "xaxis5": {
         "anchor": "y5",
         "domain": [
          0,
          0.175
         ],
         "showgrid": true
        },
        "xaxis6": {
         "anchor": "y6",
         "domain": [
          0.275,
          0.45
         ],
         "showgrid": true
        },
        "xaxis7": {
         "anchor": "y7",
         "domain": [
          0.55,
          0.7250000000000001
         ],
         "showgrid": true
        },
        "xaxis8": {
         "anchor": "y8",
         "domain": [
          0.825,
          1
         ],
         "showgrid": true
        },
        "yaxis": {
         "anchor": "x",
         "domain": [
          0.6000000000000001,
          1
         ],
         "showgrid": true
        },
        "yaxis2": {
         "anchor": "x2",
         "domain": [
          0.6000000000000001,
          1
         ],
         "showgrid": true
        },
        "yaxis3": {
         "anchor": "x3",
         "domain": [
          0.6000000000000001,
          1
         ],
         "showgrid": true
        },
        "yaxis4": {
         "anchor": "x4",
         "domain": [
          0.6000000000000001,
          1
         ],
         "showgrid": true
        },
        "yaxis5": {
         "anchor": "x5",
         "domain": [
          0,
          0.4
         ],
         "showgrid": true
        },
        "yaxis6": {
         "anchor": "x6",
         "domain": [
          0,
          0.4
         ],
         "showgrid": true
        },
        "yaxis7": {
         "anchor": "x7",
         "domain": [
          0,
          0.4
         ],
         "showgrid": true
        },
        "yaxis8": {
         "anchor": "x8",
         "domain": [
          0,
          0.4
         ],
         "showgrid": true
        }
       }
      }
     },
     "metadata": {},
     "output_type": "display_data"
    }
   ],
   "source": [
    "topic_model.visualize_barchart()"
   ]
  },
  {
   "cell_type": "code",
   "execution_count": 20,
   "metadata": {},
   "outputs": [
    {
     "name": "stdout",
     "output_type": "stream",
     "text": [
      "[0, 1, 2, 3, 4, 5, 6, 7]\n",
      "Top topic: 0\n",
      "Name: 0_storage_shelf_for_my\n",
      "\n",
      "Top topic: 1\n",
      "Name: 1_easy_assemble_to_together\n",
      "\n",
      "Top topic: 2\n",
      "Name: 2_product_good_great_very\n",
      "\n",
      "Top topic: 3\n",
      "Name: 3_tv_stand_as_it\n",
      "\n",
      "Top topic: 4\n",
      "Name: 4_unit_this_looks_great\n",
      "\n",
      "Top topic: 5\n",
      "Name: 5_kallax_units_the_fittings\n",
      "\n",
      "Top topic: 6\n",
      "Name: 6_ikea_is_quality_to\n",
      "\n",
      "Top topic: 7\n",
      "Name: 7_sturdy_very_strong_and\n",
      "\n"
     ]
    }
   ],
   "source": [
    "topics = topic_model.get_topic_freq()\n",
    "topic_info = topic_model.get_topic_info()\n",
    "valid_topics = topics[topics.Topic != -1].sort_values(by=\"Count\", ascending=False)\n",
    "\n",
    "# Start by selecting the first 8 topics\n",
    "top_topics = valid_topics.head(8).Topic.tolist()\n",
    "\n",
    "print(top_topics)\n",
    "\n",
    "for i in top_topics:\n",
    "    print(f\"Top topic: {i}\")\n",
    "    top_topic_name = topic_info[topic_info.Topic == i]['Name'].values[0]\n",
    "    print(f\"Name: {top_topic_name}\\n\")"
   ]
  },
  {
   "cell_type": "code",
   "execution_count": 21,
   "metadata": {},
   "outputs": [
    {
     "data": {
      "text/plain": [
       "[0, 1, 2, 3, 4, 5, 6, 7]"
      ]
     },
     "execution_count": 21,
     "metadata": {},
     "output_type": "execute_result"
    }
   ],
   "source": [
    "topic_ids = top_topics\n",
    "topic_ids"
   ]
  },
  {
   "cell_type": "code",
   "execution_count": 22,
   "metadata": {},
   "outputs": [],
   "source": [
    "def get_reviews(reviews, topic_model, topic_ids):\n",
    "\n",
    "    topic_reviews = {}\n",
    "\n",
    "    topic_assignments = topic_model.transform(reviews)[0]\n",
    "\n",
    "    for topic_id in topic_ids:\n",
    "        topic_reviews[topic_id] = [review for review, assigned_topic in zip(reviews, topic_assignments) if assigned_topic == topic_id]\n",
    "        \n",
    "    return topic_reviews"
   ]
  },
  {
   "cell_type": "code",
   "execution_count": 23,
   "metadata": {},
   "outputs": [],
   "source": [
    "topic_reviews = get_reviews(reviews, topic_model, topic_ids)"
   ]
  },
  {
   "cell_type": "code",
   "execution_count": 24,
   "metadata": {},
   "outputs": [
    {
     "data": {
      "text/plain": [
       "{0: ['Large size cubes. Bought this for our son’s room & it works for its intended purpose. Our oldest boys ( 31 & 29 ) grew up with ikea furniture in their room & we are keeping the tradition going.',\n",
       "  'Wonderful for storage of vinyl records. This unit works great as a music station in our living room.  The bookshelf stereo, record player, and snack tray sit on top, records go in the top 4 cubbies, speakers in the bottom , along with drawers for CDs and tapes.  \\nThe unit is very attractive, sturdy, and fits the space well.\\nIt was very easy to put together (but installing the drawers was not!). ',\n",
       "  \"Great Shelving For Organizing Just About Anything!. We love these Kallax unit shelves very much and have them in different areas in our house serving different functions. The main one we use the most is a set up of a 2x4 side by side with a 4x4 with a 1x4 across the top of those, and we use them to store our boardgames. The white looks really sharp and makes the board game covers pop. We also have a 2x4 in my daughter's play area and two additional 2x4's in a large storage closet to help keep everything orgainzed. The cubbies are the perfect size in my opinion.\",\n",
       "  'Kallax storage unit. Great product',\n",
       "  'Great storage for my walk in closet. Shelves are deep enough for all my folded clothing. An attractive display in my walk in closet. I can see what I need at a glance.',\n",
       "  'Great shelf easy construction, need matching inser. I bought it for my dining area and it enhanced the look of my room; although, this cute color and walnut colored shelf doesn’t come with a matching shelf insert/door that is disappointing. Bought white doors and trying to use some matching contact paper as a DIY.',\n",
       "  'Versatile . I love these Kallax furniture pieces, they’re super versatile, you can use the as a book case, as drawers for your clothes, as a storage organizer, as a display, or even a TV stand! We have five and rotate them for different uses!',\n",
       "  \"Great storage!. Very needed in kid's playroom!\",\n",
       "  'Cube storage on steroids!. We love, love, love the 3 Kallax cubes we purchased from Ikea.\\n\\nWe have a tiny open plan dining room and were trying to make a mix and match of furniture fit and it was looking pretty trashy.\\n\\nNow with an upright Kallax at each end and a horizontal Kallax in the middle, we have a mixture of storage and bench space and it fits so well, people think it was custom built and we have turned trashy into classy.',\n",
       "  'Holds a lot of scrapbook papers. I love the shelving units',\n",
       "  'Versatile. Bought this for a family member that needed storage in a small space. Placed it horizontal on the floor and added cloth bins across the bottom. It looks great, got a bunch of stuff off the floor with some items hidden inside the bins. She loves it.',\n",
       "  'Perfect for my nail room!!. Exactly what I needed and love the quality and price!!',\n",
       "  'Great Storage. This is the second one of these I have bought. Very easy to assemble and looks good. I really like the boxes you can get to use with them which makes them look tidy if you have bits and pieces you want to store. Would recommend.',\n",
       "  'Looks Great! Good Storage for. Looks Great! Good Storage for My Needs',\n",
       "  'Kallax. Bought this to add to an existing unit in my craft room. It holds SO MUCH!',\n",
       "  'really love this item, looks good and nice storage. Using this shelving unit for kids book storage, really great',\n",
       "  'Keeps things tidy. Keeps things tidy',\n",
       "  'Great shelving. Brought a month ago and am happy with my purchase a very sturdy unit exactly what i wanted',\n",
       "  'Cube storage unit. Cube storage unit',\n",
       "  'Provides lots of storage. Were very happy with the KALLAX shelf, we love the storage it provides.',\n",
       "  'Box sleeves. Amazing for vinyl storage',\n",
       "  'Perfect. I purchased 2 of these shelves for my walk-in. Very useful.',\n",
       "  'Great shelves!. Great shelves!',\n",
       "  'just what we needed. We downsized last year and have gradually been making our smaller place look good. We have two of the shelving units now and they meet our need for quality within a compact space!',\n",
       "  'Perfect!. Gave us so much more organizational space in our closet!',\n",
       "  \"Perfect Media Storage. We have two Kallax shelf units in the 2 x 4 Square option, and a 2 x 2 Square option for media storage in our home. They are so simple, sturdy, and functional that we've even gone back and purchased one for another family member! We use ours for book and record storage, and our little amp even fits within one of the cubes perfectly! The quality is good, and they've stood up to two moves already. They were simple to put together, look clean and don't overwhelm our space.\",\n",
       "  'Kallax unit. Good looking unit. Works well for storage. Neat and tidy.',\n",
       "  'Holds all of my records. I bought this item based upon multiple recommendations from various collector sites. I am an avid record collector and this is perfect to hold your albums. Each cube will hold between 50 and 60 records. easy to assemble and does not sad under the weight.',\n",
       "  'versatile and amazing. purchased this sue to lack of shelves in my wardrobe….love love love the product!!',\n",
       "  'Perfect storage. Perfect to show my diecast car collection. But should be a bit less expensive.',\n",
       "  'Great organizer. Bought this to organize kids toys, fits the bigger bins and its great quality! Great purchase!',\n",
       "  '. Great shelving unit. Has held up well. Good value. Very easy to assemble',\n",
       "  'Nice. We are happy with this shelf',\n",
       "  'Great storage. We bought 2 of these. So it gave us 16 individual shelves. Then we bought 8 of the grey cubbies. We have so much storage now!! These units are so sturdy and nice looking. Love them.',\n",
       "  'Beautiful design.. The shelving unit has good size width, height and depth. The additional drawers are fantastic idea. The storage baskets add a nice feature to the unit.',\n",
       "  \"Kallax is a great base, but need more accessory options. Kallax has to be one of my all-time favourite products from IKEA. But, to give it even more versatility, there are some vital accessories missing. \\n\\nFor starters - many parents use these for storage for kids books/toys/craft items. Then WHY only have the option of a GLASS shelf?! PLEASE bring in a clear Acrylic shelf as an option. It will be much MUCH safer around children. \\n\\nSecondly - whilst many times having the cubes open at the back is wonderful, we have just as many times been perplexed & frustrated when we want to have a back on them (but still have the front open), so things don't fall through the rear of the cubes.\\n\\nThirdly - I have found it almost impossible to find smaller modular storage containers with clip lids to fit nicely in the cubes (particularly clear ones). We need long ones to go the full depth (impossible to find), but also able to have some mix/match size options so we can have in each cube, say, 2 containers across x 3 containers high, or 3 across x 3 high, or even 3 across x 2 high.\",\n",
       "  'Makes my sewing room look. Makes my sewing room look amazing',\n",
       "  'Great as a shelf and for storage.. Happy with the look and it’s purpose.',\n",
       "  'Awesome storage solutions. Revamping my craft room and in great need of storage. l just love these shelving cubes. Great value for money as I bought these on a Ikea Family Promotion',\n",
       "  'Great shelf unit!. This went together so easily and is so much sturdier than others that I looked at. It doesn’t wiggle or sway when you try to move it!',\n",
       "  'Great for storage, easy to. Great for storage, easy to put together.',\n",
       "  'Great storage option. These shelves are great. Just bought some new ones and also have some that I bought about 10 years ago, they have held up great and I love these shelves. Super easy to build and great quality.',\n",
       "  'Beautiful. Perfect for my plants organizer.',\n",
       "  'perfect for knitting craft room. cubby holes great for yarn',\n",
       "  'Best Shelving Unit Still. Always the easiest to put together and best quality.',\n",
       "  \"Great Shelf Unit!. I'm loving the KALLAX shelf unit! I'm using it on its side on my strong craft table and it has increased my storage space so much! I've been able to fill it with lots of my 12x12 designer papers, lots of printer paper, books, and also some pretty things I have in my craft area. It holds lots of stuff!\",\n",
       "  \"Versatile unit!. Huge fan of the Kallax system and this is 4th shelving unit I purchased and turned it sideways to use as TV console in the kids playroom. It's anchored to the wall and very sturdy. Easy to put together and matches our kids playroom very nicely!\",\n",
       "  'Versatile piece of furniture. Easy. Versatile piece of furniture. Easy to put together',\n",
       "  'Very Versatile. I like this shelf unit because it looks good, can be used as a bookcase, disiplay cabinet, or room divider, and can be used with a desk or other shelf units. I like to keep things neat with the various baskets and bins that IKEA makes to fit on the shelves.',\n",
       "  'great shelving unit!. Great storage and organizer for nursery closet. Good size and weight, feels solid and looks sleek.',\n",
       "  'Very Good!. I bought this two months ago. It was fairly easy to put together. Some pieces were a challenge to connect. Over all a nice shelf.',\n",
       "  'Attractive unit for records & music stuff. We bought this for our album collection, record player, receiver, cd player and disc holder. Turned out great! Easy to assemble and feels very sturdy. Like the wood grain edging and gray sides.',\n",
       "  'Perfect for clothes. Christmas gift! He loved it... perfect for clothes as he did not want a dresser and loves the new color!',\n",
       "  'Does the job. Functional as a bag and shoe storage location. Always tidy now',\n",
       "  'Sturdy and spacious. This organizer is sturdy and the cubes are spacious compared to other organizers that only have 11 depth. Definotely recommend.',\n",
       "  'Nice Organizer. I bought this a month ago and returned for it was too large for my space! My bad! Going back for six bin! I got the fabric bins so can’t wait to organize grandchildren’s toys!',\n",
       "  'Fits albums.. Not sure how this is going to hold up. It scratches extremely easy. Thought the large uprights would have been solid but they are hollow and feels pretty flimsy. Looks great. Easy to assemble. Time will tell.',\n",
       "  'Great for organizing sewing fabric. Bought to organize sewing room.',\n",
       "  'Kallax. This is a great storage unit, very versatile and easy to use.',\n",
       "  'Perfect for my under stairwell. Perfect for my under stairwell storage',\n",
       "  'Excellent Shelf for Scrapbookers. I use this shelf to hold all of my Project Life albums along with two bins at the bottom that holds my supplies. It is perfect for displaying my albums and very sturdy!',\n",
       "  \"Kallax delivers!. This is the ideal kitchen storage. I use it for appliances, bowls and plates. It's also perfect fruit bowls and tinned food.\",\n",
       "  'Great storage space for my bedroom lounge. Sturdy and looks elegant',\n",
       "  'Cool Storage Space Replacement Ever. I’m totally happy with this piece. I placed it behind my cushy sofa where I was able to store all my small decorative items I use throughout the living room.',\n",
       "  'So great wish I bought another!. I love the size of the cubbyhole fits what I want!',\n",
       "  'Can’t Go Wrong With These!!!!. Great for my record collection. Love how study these are.',\n",
       "  'Great multi purpose shelf unit !!. We own several of these IKEA shelves. They are so versatile. So many uses. Strong and sturdy.',\n",
       "  'Great Storage. Bought this for the kids room. Serves as a bookcase and self serve socks and underwear bins. Easy for the little ones to be more self sufficient! Easy to assemble...with little helpers to boot.',\n",
       "  'Love it.. Great shelf. Perfect size. \\nI have more than one of these in my house.',\n",
       "  'Kallax bookshelves. I made mine into storage area for toys drawers at bottom. I thought ikea could have had more choices for storage cube containers that size without a lid.',\n",
       "  'Great for album storage. This is my 3rd unit I have purchased. A must have for a album collection',\n",
       "  'Perfect storage unit. Looks fresh and clean. Always can depend on my Kallax to house all my houseplants & supplies.',\n",
       "  \"Awesome. So got this for my husband's record collection and it's Awsome.\",\n",
       "  'Just what I was looking for. Purchased to create a closet island for my newly renovated walk-in closet.',\n",
       "  \"I love it so much!. I love it so much! This shelf does not seem big and doesn't take much space, but I can put a lot of stuff in it . My things are organized, looking nice and going vertical to safe space in room.\",\n",
       "  'Great. I love these shelves. They are easy to assemble and they are strong. I bought two of these and one is going to be my TV stand. NICE!!!',\n",
       "  'Nice storage. Ease of assembly, nice color',\n",
       "  'Perfect for organizing supplies for. Perfect for organizing supplies for art class--paper, books, binders, boxes of paint, boxes of pencils, etc...',\n",
       "  'Great storage cube. Great storage cube',\n",
       "  'good for eveything. Great for so many projects.',\n",
       "  'I loved it.. its exactly same what I wanted for my closet',\n",
       "  'KALLAX for my crafts. This piece solved the problem for storing craft materials, especially yarn. Six Drona “bins” are in use, four with various yarns, sorted by weight/type. Two spaces were left open for decorative purposes. This is a great addition to my “office,” which had previously been a nursery/office.\\n\\nAssembly instructions might have been better if they advised using a soft headed mallet, not a hammer, or perhaps suggest use of a board to protect the piece when pounding it together.',\n",
       "  'Great shelves. I brought the shelves a month ago and store my daughters toys displayed on the shelves and in cubes. She loves pulling the cubes out to get to her toys.',\n",
       "  'Great shelves. Super easy to assemble, looks great',\n",
       "  'I love my more organized space. I love it! especially with the different options of inserts',\n",
       "  'Great storage option. got two of these for my craft room - will probably buy at least one more to fill the wall - great for getting organized.',\n",
       "  'Good for storage and display. Good for storage and display (the color)',\n",
       "  'Versatile. This item is great because it is built solid no matter if you place it 4 squares high or 2 squares high.',\n",
       "  'Excellent storage shelf. My daughter has the horizontal in her closet with the material storage boxes. She put it together herself.',\n",
       "  'Best price & look for. Best price & look for a book shelf',\n",
       "  'Clothing storage. My answer to closet organization. The Kallax is sturdy, heavy and well-built. I was lucky enough to buy it already assembled so I can’t speak to how easy or difficult it might be to put it together.',\n",
       "  'Great shelf, poor packing.. I ordered this shelf. This is our second one. However none of the hardware or manual were in the box. I called to have them ship it to my house as none in stock in store for all the parts. Once I received it the wooden dowels were missing. Had to have more wooden dowels shipped out twice to completely be able to put it together. Needless to say it was 2.5 weeks after purchasing it that I was able to get it up. Very frustrating but great shelf.',\n",
       "  'Great for my vinyl. I have 5 of these now. I prefer the 2 cube over the longer ones. Just feel it’s more sturdy with all the records. Hold around 80 LPs per cube depending on jacket thickness.',\n",
       "  'Great organizer. Great organizer',\n",
       "  'Kallax Storage Unit. The Kallax storage units are absolutely brilliant for storage space in any room.',\n",
       "  'Just what I wanted for. Just what I wanted for my yarn cache',\n",
       "  'Perfect living room storage!. Excellent space saver to be quite honest, I should’ve bought this a long time ago!',\n",
       "  'Kallax 8 cubicle. We like our kallax 8 cubicle, good quality and good value.',\n",
       "  'All purpose shelving!. I bought it as a shoe rack and all-around organizer for bags, mail, etc. at the front door. It works perfectly!',\n",
       "  'Great shelf. We bought this shelf to replace a tall standing bookshelf. I love that we can put it in its side while our little girl is growing and into everything! It’s safe and it is awesome that it comes with the hardware to mount to the wall!',\n",
       "  'Works as required. I am so happy I purchased this Shelf Unit. I also purchased one more like it and the three across unit. Solid construction and looks great.',\n",
       "  'Very good use in our. Very good use in our closet',\n",
       "  \"Great Storage for Side Door. I have other Kallax units in different sizes in our livingroom. It does a double duty as our bookshelf and hidden toy/craft storage. I decided to use another unit at our side door to match the others. I use this one with the storage boxes for personal items for each family member as quick drop-off and grab-to-go storage. It's perfect and shoes/hats/gloves stay out of sight.\",\n",
       "  'Arguably the Best Shelving System for Vinyl. I bought two of these 2 x 4 Kallax shelving units, as well as an additional 2 x 2 Kallax unit and 10 matching Door Inserts for my record collection. I spent a LONG time researching these shelves: how many records they could hold without risking ring wear, if records would fit inside the Door Inserts (they do), etc., before pulling the trigger, but am so glad I did.  They look amazing in my study, and the shelves themselves show no signs of bowing under the weight of the vinyl. Finish is a rich, almost-black brown, and easy to wipe clean. Very sturdy, and relatively easy to assemble - it took longer to install the Door Inserts I purchased separately than it did to install the shelves. A very versatile, quality product that gives you peace of mind knowing your collection is well-housed. Definitely recommend.',\n",
       "  'Nice. Made such an improvement in storage and organization.',\n",
       "  'Fits exactly into my closet. Got unit with 2x4 boxes lying down and also bought inset for shows',\n",
       "  'Loved it!. These shelves are so versatile and fairly easy to put together. Great purchase!',\n",
       "  'Great storage. Very happy with purchase great service',\n",
       "  'Kallax storage unit. One of my favourites. It’s stylish and sturdy. The product stands the test of time & is versatile.',\n",
       "  \"Perfect Office Storage Shelf. I bought this a month ago, it fits perfectly in my office. I'm super pleased with it.\",\n",
       "  '. Bought it last month & it’s perfect for storage',\n",
       "  'Excellent storage. Bought 3 of these components and filled 2 with your boxes and the 3rd with drawers and doors. Love the versatility!',\n",
       "  'Shelving . Exactly what I wanted ',\n",
       "  'Cubes. Look great, easily assembled and function perfectly.',\n",
       "  'Kallax storage. Very easy to assemble and very versatile. I now have several of these as bookcases, record collection storage, hobby material storage, and a horizontal one as a TV stand. I also appreciate the storage containers that can be added.',\n",
       "  'Closet organizer . Neat and tidy looking. Good for small spaces ',\n",
       "  'Perfect storage for closet. Great colour with so many storage options - boxes drawers, doors, etc.',\n",
       "  '. We bought 3 and created a tv/gaming shelving unit out of it. Looks great and works great for our needs.',\n",
       "  'fabulous. This holds records and 3 ring binders gorgeously. So love the options for it too.',\n",
       "  'Perfect for albums. Just right for storing albums. Easy to put together. Finished dimensions as described. Cherry finish would be nicer.',\n",
       "  'Perfect Shelf Unit. Easy to assemble. Perfect colour match to my grey walks. Keeping all our toys and books organized.',\n",
       "  'Great product. I bought this 8 cube unit for my grandson to put his toys in. I love the Kallax cube units because they are sturdy and also good as a tv unit.',\n",
       "  'Great Shelf!. Works well for storage for my students!',\n",
       "  'Very Convenient!. These storage units are fantastic and are very convenient when combined the fabric storage bins, also at Ikea. They are very sturdy, easy to put together and are aesthetically pleasing even in contemporary designed spaces. I have one for every bedroom, definitely a nice alternative to the common dresser!',\n",
       "  'Excellent Quality and more!!. Great quality. Very sturdy and easy to assemble (did it by myself)! The shelves are high enough to fit books and other goodies.',\n",
       "  'Perfect storage. These shelves were easy to put together and are good quality. They are nice and deep to give lots of storage space.',\n",
       "  'Love it!. We have several of these all over the house because they are so great for storage. We have them in different colors and with different cubes but they look wonderful, they are easily assembled and they are great space savers.',\n",
       "  'Perfect book storage. Excellent product, too bad that my favorite color (elf bouleau) was discontinued!',\n",
       "  'great unit. purpose bought to fit our vinyl records and stereo.',\n",
       "  'kallax storage unit. Great item , I use it on its side to store toys.',\n",
       "  'Works perfectly!. We bought this shelf to display and hold a collection that we have, and it works perfectly!',\n",
       "  'Nice & Sturdy!. I love this shelf. I love how sturdy it is. I have it laying the short way. It fits perfectly! Super easy to assemble. Love it.',\n",
       "  'Bought as a base piece. Bought as a base piece for single unit to house vinyl record albums.',\n",
       "  \"Awesome Book shelf!. I bought it recently and I'm so Happy!\",\n",
       "  'Great quality, great price. When looking for shelving for our kids\\' playroom, I shopped around quite a bit. The Kallax was actually better quality and lower price than everything else I was finding for this particular kind of shelving. We didn\\'t want all of the shelves to be open and got 13\"x13\" bins elsewhere which fit perfectly snug inside the openings.',\n",
       "  'Great shelf. Needed this for my craft room and it’s perfect and holds tons of stuff.',\n",
       "  'Storage Cubes. Worked Great',\n",
       "  'Perfect for home or office!. We love the Kalax cube shelving, we have several units in our home and just bought one for our office too! Long lasting, simple design that goes with any decor.',\n",
       "  'Great storage for books and. Great storage for books and kid toys.',\n",
       "  \"Great shelving unit. My teenager assembled this by herself. It's very sturdy and is very functional.\",\n",
       "  'Practical shelving at an excellent price. Staying in a small room with relatives [temporarily]. I now have everything moved from the floor into a stylish shelving unit. I chose blue square tubs together with some drawers - love the look - the shiny white was chosen.',\n",
       "  'Miscellanious Storage. This is the third 8-opening Kallax unit that I have purchased and all three have drawers or cloth baskets. They are used for all sorts of storage from fabrics to collectibles.',\n",
       "  'Exactly what I wanted. Easy to put together and they (2) fit perfectly in my closet.',\n",
       "  'Practical shelving. I love it! Great storage for my granddaughter’s toys',\n",
       "  'Great for my record player and vinyls. I have searched everywhere for something big enough to put my turntable on, along with space to hold my vinyls. I came across this in the store and everything fits perfectly. It’s the perfect size and it was easy to put together. The price wasn’t bad either. I want to get another one when I move into a bigger house.',\n",
       "  'Versatile storage unit. Some of the boards have slight discolouration, but otherwise looks good. I was able to easily change the set up with either drawers or doors.',\n",
       "  'Scrap Booking Organization. Fits all my 12x12 stuff! My craft room looks so nice and organized! I’m very happy.',\n",
       "  'Excellent shelving. Excellent shelving. Strong and looks good.',\n",
       "  'Super storage unit. I was able to assemble this storage cube by myself and with ease. I am using it in my guest room/ sewing room. Now I have the storage I needed for all my sewing products.',\n",
       "  'Perfect storage for art supplies. I bought two of these KALLAX units for my studio to store my art supplies. Nice deep shelves make everything look tidy, but best of all, easy to find. We also bought one of these units for our daughters room and she uses it for her books and displays souvenirs from her travels abroad. It’s nice that you can set the storage unit vertically or horizontally. In my studio, I gained more “counter” space by putting them horizontally. (The KALLAX shelves store heavier items without bending.)',\n",
       "  'Very serviceable. Have had shelving unit for some time, very versatile and sturdy, looks great with material boxes in it.',\n",
       "  'Great shelf. Great shelf',\n",
       "  'Perfect clothes storage. My room was a mess, l didn’t know what to do. Then Kallax came to the rescue. Easiest product to assemble.',\n",
       "  'Exactly what I wanted.. This has transformed my laundry.',\n",
       "  'Good Shelves for the price. This was easy to assemble but it helps to have help. A sturdy piece for the price.',\n",
       "  'These cubes are my favorite. These cubes are my favorite and the storage is awesome.',\n",
       "  'Great shelving unit!. Great Bang for the buck',\n",
       "  'Very versatile. I have several of these throughout my home they function as TV stands, trendy looking dressers with the storage container they can be whatever I need them to be.',\n",
       "  'Sewing Room, Done!. I bought this to add storage to my sewing room. Simple to assemble and it looks great! So thrilled with it!',\n",
       "  'Great little shelf!. This is exactly what I was looking for. Easy to put together and looks awesome! My son will get years of use out of it!',\n",
       "  'Good product. I’m using it. Good product. I’m using it for closet storage.',\n",
       "  'Visually organized. Craft area sorted',\n",
       "  'Great. We fit this in a closet for extra storage',\n",
       "  'Awesome for Vinyl Records!. Excellent for Vinyl Records!!!',\n",
       "  '. I love how much I can organize.',\n",
       "  'Love These!. I have two of these - one in the laundry room and the other in my workout room. I love them. So great for organizing.',\n",
       "  'Perfect shelf unit. Good to have this shelf. Will buy more.',\n",
       "  'Best Shelving Unitin the world!!!. I now have 4 of these. They are easy to build, the price is right and they mesh with most styles of decor!',\n",
       "  'Love it. Does it job have it set it up in my craft room',\n",
       "  \"Great fit storage shelves. I bought it early this month and it's great\",\n",
       "  'so versatile. bought to be a bookshelf in the living room, ended up turning it on its side and putting on top of a dresser for additional space. bought both drawers and doors to complete this storage',\n",
       "  \"Great for Craft/Sewing room. I bought this kallax unit for my studio. It was relatively easy to put together and looks great. I've put doors and drawers in it to store my craft items and I would recommend this unit for any craft/sewing room.\",\n",
       "  'Perfect for what I needed. This was the perfect size for what I needed in my office space. Shelf areas take 4 large lever arch folders. Slimline so it doesn’t stick out into the room',\n",
       "  \"Best cube unit out there. I bought another brand and the Ikea one is so much better quality! I'll but more. Also, super easy to customize!!!\",\n",
       "  'Kallax Fan!. The Kallax is a simple solution for organizing. As a professional organizer I purchase about 1 to 2 kallax a month to set up systems for clients. Our favorite space/setup to use them for is toy storage.',\n",
       "  'Great shelf if all pieces are present. I purchased 5 of these units at one time. Only 4 were able to be properly put together as one box was missing a whole side piece and one of the interior shelves did not have holes drilled. Trying to contact the store for next steps or replacement parts has proved challenging. IKEA location is quite a distance away so it’s not super easy to just stop by.',\n",
       "  \"Most Versatile Shelf Ever. This is our fourth kallax purchase. We're using two for board games and lego storage and they're perfect.  Very easy to assemble by one person.\",\n",
       "  'A perfect substitute for a. A perfect substitute for a dresser in my closet!',\n",
       "  'Perfect but should of got 2 of them. Perfect can see what clothes to pick out for the day...',\n",
       "  \"My new closet organizer!. This unit is so versatile. I've complemented it with some white DRONA fabric boxes to hold all the small bits of clothing, and the top shelves are used for folded clothes and displaying knick knacks. Can't go wrong!\",\n",
       "  'Kallax is the best when it comes to storage. This was purchased as a gift and is being used as a display for games which are in boxes.',\n",
       "  \"Relax with Kallax. That's what I do. The cube storage and Drona bins keep my treasures contain\\nStrength and beauty always on display\",\n",
       "  \"Best shelf ever!. Love this self unit, bought one and loved how sturdy and solid this unit is. After getting the shelf unit home and putting it together, the following weekend I went and bought another one! I bought them for my boys bedrooms, after having them a month now I'm going back to buy two more of them(they both will be in the bottom of our closet for footwear)\",\n",
       "  'Perfect Organizer!. Great. I’m satisfied it for everything.',\n",
       "  \"Best in the KALLAXy. Records. Vinyl. LPs. Those of us who collect, or just plain love buying music on vinyl, all know about this shelf from IKEA. If you don't, you should. Records fit PERFECTLY in these shelves. Besides that, the quality is pretty great. I got the walnut finish, which complements these white apartment walls nicely.\",\n",
       "  'Great console with storage. This piece is so practical and simple. Love the white glossy version to match our media console. Most parts of the shelf were easy to assemble but the side screws were difficult to get in and ensure they were aligned.',\n",
       "  'Comfortable and not big shelf. Comfortable and not big shelf for things',\n",
       "  'Just the right size. Very sturdy. . The Kallax hold LPs. It is just the right size. Great way to display your albums!',\n",
       "  'Kallax (formerly Expedia) Fan. I have multiple Kallax/Expedit units and use them for a variety of storage options, with and without removable bins. My three Expedit (the Kallax predecessor) units have moved with me three different times and are still going strong. Newer Kallax units are just as effective with a slightly sleeker look. Great way to maximize storage space! You can change the look with different style cubby bins for different parts of your home. They are also easy to assemble!',\n",
       "  'Great All Purpose Shelving. So useful in any room of your home',\n",
       "  'Shelf can be used in many different ways!. I personally have this shelf in multiple different colors in a few different locations in my home. I have a shelf displaying my books and pictures in my living room and a shelf in my laundry room for storage.',\n",
       "  'Looks nice good value. Great shelf & we purchased inserts which fit perfectly & expanded its capabilities',\n",
       "  'Love these shelves. Used it to organize my craft room and it’s great for those big odd shaped items',\n",
       "  'Great for record collecters. Love it so much need to get another one',\n",
       "  'Craft room. Able to organize my room',\n",
       "  'Great Kallax Storage. Great Coloring, easy to assemble and gives wonderful storage!',\n",
       "  'Love this Shelf!. I love this shelf, it was easy to put together, great quality, it was perfect for the space I needed it in.',\n",
       "  'Great shelf. Sturdy and easy to assemble.',\n",
       "  'Great shelf. This shelving unit was easy to assemble and a great price for what you get. Unlike the larger units in this line. This shelf holds together very well and is sturdy.',\n",
       "  'Perfect for vinyl record collection. Kallax is perfect for my fathers record collection in his new music den/office.',\n",
       "  'Versatile. Bought this one use as my daughters dresser with storage cubes but considering buying two more for storage in my classroom!',\n",
       "  \"Versatile Product. I initially inherited one from my roommate that became a TV stand. A month later, I went to Ikea to buy a bookshelf hoping I'd see a nice affordable one and came to the conclusion that I could buy this again and turn the top shelves into a library and store items in the bottom. Then another few weeks later, I came back to get a particular sideboard but find they were out of stock and decided to use this shelf again with some added drawers and doors and it worked out perfectly! Even though we have 3 similar looking shelves in the living/dining area, the different colors and combinations make them look different enough to seem like it's own unique furniture.\",\n",
       "  'Even though I’ve tried my. Even though I’ve tried my best to assemble it properly there’re still some gaps between the frame and the shelves. In general I’m happy with it though!',\n",
       "  'it just fits. My Wife is a patchwork hobbyist making lots of fabulous bed covers, bags an lot of things in material. She needed a place to store this range of materials and the Kallax was just the job.I fitted perfectly in one side of the built in wardrobe and was handy to retrieve material she needed to use.',\n",
       "  'Excellent for record collectors. Wonderful item. If you collect, or listen to vinyl albums, this item is for you. Storage areas are the perfect size for records and books, and will hold a considerable amount of each.',\n",
       "  'Perfect addition to closet. Bought this to use in my nursery closet, fits great and the cubes are the perfect size for sorting baby accessories, and will convert to a great organization unit when baby is older.',\n",
       "  'Perfect for storage. I have 5 now I think. We used this one by the front entrance for my children. Each had a cubby with a door for their backpack and lunch bag, the bottom is a bin for hats and spare shoes, sunglasses etc. I left the middle shelf out of one of the segments and added a tension rod for hanging jackets and sweatera',\n",
       "  'My new knitting storage. Just what we needed and easy to find',\n",
       "  \"Smart Buy!. I bought this several years ago when it was part of the EXPEDIT workstation. It still looks like new, easy to keep clean and organized. Shelves are tall enough to hold bigger books.  I didn't rate the ease of assembly because my husband did it and I stayed out of the room. All the parts were there and it went together quickly.\",\n",
       "  'Awesome shelf. These are perfect for my craft room!',\n",
       "  'Exactly what I needed to. Exactly what I needed to use in ny craft room space!',\n",
       "  \"Wonderful Kallax!. We recently bought a Kallax unit to house my husband's record collection.  It is perfect.\\nWe went back and bought another for my scrapbooking supplies.  It is the perfect size for holding albums and 12X12 paper, and lots of other things!  It also looks very nice.\\nWe are considering buying a smaller one for the kitchen. \",\n",
       "  'Perfect for storing my sewing fabric. This is just the right size with the ability to put another one on top or side by side to hold even more sewing fabric.',\n",
       "  'USEFUL AS DEFINED. MY WIFE USES IT FOR SHOE STORAGE',\n",
       "  \"It is great for storage. Plus it looks beautiful!. I bought this along with boxes for storage. It looks so nice! It was very easy and fun to build. It's slim and looks great in my room! Very easy way to keep organized.\",\n",
       "  'Good basic shelf. Easy to assemble - does the job.',\n",
       "  'Great shelf. Pretty sturdy. Easy to put together. Looks great with mix of books and baskets.',\n",
       "  'Terrific Storage solver! . My daughter attending uni has a tiny room & the KALLAX is a big help for storage v& to help her stay organized ! ',\n",
       "  'My fourth KALLAX. KALLAX is an icon. I bought this one to store my record collection. I have others with drawer bins and doors for storage. The fact that you can buy copies at Target and Walmart shows what a great idea it is...',\n",
       "  'Great shelf for the price. Happy with shelving great value for money',\n",
       "  'Perfect for my living room. This shelf looks really nice in my living room. I also bought the insert for bottles and it looks amazing.',\n",
       "  'I’ll keep buying. These shelving units are the best. Not only are they great for storage but they also are for room dividers.',\n",
       "  'Cube storage. Love the Kallax cube value money, good quality good choice of inserts. Only wish could get glass door to fit with the glass shelves \\nWould highly recommend',\n",
       "  'Good shelving unit. Purchased this unit for daughtee to place under a wall-mounted tv. Well designed and solid. My only complaint is that there is nothing to cover the head of the screws so they are visible and stand out since the unit is white.',\n",
       "  'This the best thing for my little girl cube. Hold a lot of cubes my little girl love this',\n",
       "  \". Great shelf. Wish the price didn't go up but they are very handy\",\n",
       "  'CUBES!!. Love the quality and the sturdiness of these cubes! So versatile with what you can do with them! I have them everywhere in my house, with little personal touches on all of them! A must have for all storage needs!',\n",
       "  'Nice Shelf. Nice shelf',\n",
       "  '. Got this shelf for my son and daughter in law new home fits perfect in their bedroom, they love it.',\n",
       "  'Love!. These shelves are perfect for organization. I also love how you can use them multiple ways.',\n",
       "  'Perfect. This is great for people with record collections',\n",
       "  'perfect for clothes. I love this because I dont have drawers to pull out with my old hands.',\n",
       "  \"Good value. At ordered two of these for the kids playroom, to help conceal the unsightly amount of random toys! I had to pick them up from an associated delivery center (for a very reasonable fee). One of the shelves was damaged upon arrival, which I didn't notice until assembly (it was the LAST shelf). I notified customer service and they went above and beyond by delivering strsight to my door. The shelves are working great so far...time will tell on the wear and tear!\",\n",
       "  '. I changed a very small room into a big closet . These worked perfect !! Love the size and love the products.',\n",
       "  'Love it. Love the shelf, easy to put together, great storage and price is good too!',\n",
       "  'Useful. It is very useful and I could put a lot of things in the cubicles.',\n",
       "  'Amazing shelf. Great shelving system. I was able to place lots of photos & Knick knacks.',\n",
       "  'Great cubby for storage.. Great cubby for storage.',\n",
       "  'Love these shelves!. The shelves are so versatile and sturdy. Very happy with them.',\n",
       "  'Helpful storage. I enjoy my kallax shelves. They are great for just about every kind of use.',\n",
       "  'Shelve unit. Sturdy and very versatile',\n",
       "  'Son loves it for an. Son loves it for an updated look for stereo equipment and vinyl organizer.',\n",
       "  'Great storage cube. Easy to assemble, cute and versatile. We ended up buying two for all the toys. Love IKEA ❤️',\n",
       "  'Kallax. These units are versatile for what I need for storage very functional',\n",
       "  'Perfect storage solution. We is this in our walk in robe. Very sturdy and just the right size. The price is right.',\n",
       "  'Great storage. Easy to assemble and sturdy. Lo e the gloss finish.',\n",
       "  'Awesome!. Great storage at a great price. Works well for a TV Console.',\n",
       "  'Versatile unit. I am using mine in a craft room. It is sturdy and beautiful but best of all each section allows me to place my variety of items from inks to tools to papers so they are quick and easy to retrieve. ',\n",
       "  'Shelving unit. Love the new colour, looks great with decor and it is very sturdy',\n",
       "  'Ideal for Quick and Easy Storage. The Gloss White Kallax system is perfect in a number of configurations for storage in my modern home. The loft lifestyle come with very little storage solutions. IKEA has made shirt work of those concerns',\n",
       "  'Nice looking but be careful while assembling. Very nice looking shelf and fairly easy to assemble. You need to be careful as the materials are fairly fragile and it is easy to damage during assembly. Be gentle and do not overly force or bang on boards when trying to boards and dowels to slide together.',\n",
       "  'Perfect for small spaces. We have Kallax in most rooms in our small 3 bedroom home. So much storage in a small space.',\n",
       "  'Good price and quality. Very happy with my purchase. Use every shelf. And it was very easy to match bins of right size for it.',\n",
       "  'Excellect to re-organize. Re-organizing my daughters room. Drawers purchased fro make-up, jewellery, hair stuff etc.',\n",
       "  'Whatever. Cubes to small to be practical, the drawer unit is good for storing batteries, paperclips, old rubberbands and stiff stick of 3 yr. Old gum.',\n",
       "  'Very versatile shelving unit. We have used these shelving units throughout our home. Bedroom storage, bookshelves, tv stand, pantry shelves. Love the high gloss for our lounge units and matches in well with our other Ikea furniture. Easy to put together and attach to the wall.',\n",
       "  'Perfect storage. Kallax is so multifunctional- I bought one to add to one I had purchased previously- as that one was full.',\n",
       "  'Good options for customized use. I like the fact that you can use the shelves in many ways, adding drawers, bins, doors or baskets as you wish. This makes the unit very flexible.',\n",
       "  \"Great Shelf. I used 3 of these plus a 2x2 unit and a few LINNMON tabletops to come up with a custom sewing/craft/computer desk. So far, it's everything I hoped it would be and for far cheaper than buying any desks with a fraction of the storage space. Easy to put together and easy to modify.\",\n",
       "  'Love this system. I put. Love this system. I put it together myself! Very easy! I now have 4 of these! I wish I could get my hands on the wonderful inserts (5 shelf and 1 shelf). They are never in stock.',\n",
       "  'Perfect sweater storage. Love the product - Love IKEA will buy this product again',\n",
       "  '. Really like this shelf. Very stylish & pretty!!',\n",
       "  'Organization . Love having my craft room totally organized!',\n",
       "  'Looks good!. I love these shelving units. Really sturdy/solid and easy to put together. Great as a walk-in robe addition. Black looks great!',\n",
       "  \"Used As A Record Table/Record Storage Unit. Using the top of the unit for my record player and speakers, and the cubes to store my records. Record player and speaker fit perfectly on top, and the cubes are the correct size to fit records. Aesthetically it's beautiful (I have black-brown unit). Unit was easy to assembly. I purchased two cupboard inserts for the left and right bottom cubes. Cupboards themselves were easy to assemble, but no pre-drilled holes when unit is used horizontally. This took a phone call to Ikea to confirm that yes, there were no pre-drilled hole when using the unit horizontally with cupboard inserts. I had to screw cupboards in myself. Thankfully it worked (took some pressure to screw through the finish) and cupboards tuned out great. This unit is a great product at a great price.\",\n",
       "  '. This is the third such shelf I purchased. Looks great, easy to build. I will be ordering another in the future!',\n",
       "  'Great for my sewing/craft room. Great for my sewing/craft room',\n",
       "  \"So versatile . Love love love this piece I own 3 and live in a 758 Sq ft apt. One is used as a TV stand in the living room, one in the dining room and I couldn't find a vanity to store all my make up and jewelry so the third one is pictured as my makeup jewelry station. One day if I buy a house I and use them in different way. \",\n",
       "  '5th buying and would buy again. I love this shelf. I purchased this one to organize my diy supplies.',\n",
       "  \"Great storage organizer!. I bought this shelf unit to organize my daughter's room. It's perfect and the 4 Drona storage bins help conceal any clutter. I love that you can use storage bins that are large (13x13x15). I'm so happy with this purchase.\",\n",
       "  'Great product!. Purchased this to help organize a closet and we love it! Sturdy and well made and just as expected! Great price too!',\n",
       "  \"Very good product. We purchased this mainly because the one that we wanted was out of stock...go figure. But this turned out to be perfectly fine for the office area. It holds the cubes with my craft supplies. It's really nice.\",\n",
       "  'Perfect for storing paint in my studio. It is great fits in the spot I needed it',\n",
       "  'Love Kallax storage units -. Love Kallax storage units - very practical',\n",
       "  'Craft room favorite. I use this in my sewing/craft room and just love it.',\n",
       "  'Cubes. Easier then in the past units I assembled',\n",
       "  'Exactly as I expected. Almost. Exactly as I expected. Almost matched the discontinued EXPEDIT shelf it sits next to.',\n",
       "  \"Good storage solution. Matt white was sold out so went with high gloss. I've had the shelves previously in a bigger configuration. Fairly solid. Good for a study/bedroom/lounge - keep away from wet areas. Love all of the different drawers, doors, baskets etc that fit in it and can completely change your interior theme.\",\n",
       "  'Versatile. Not my first Kallax unit and I have since purchased both a 2x2 and 4x1 unit. This is versatile because it can be either upright or lying down (as I have it). I customised it with drawers and cupboards, plus glass shelves. My printer sits on top at an ideal height and supplies (paper, spare ink cartridges etc) are hidden away. Very easy to assemble, although I do have prior Ikea skills. Plastic holder for Allen key great. Floor pads included which were not around a few years ago, so a good bonus. Wall attachments are included for safety reasons which are appreciated.',\n",
       "  'Great storage. The shelves are a good size for decent storage. Happy with this purchase. Looks great too. Got this from the ‘as-is’ section. What a great idea to have this recycle section.',\n",
       "  'Kallax. Good for storing my vinyl albums. ',\n",
       "  'Perfect for my walking closet. My WIC was just a big mess. I got one of this and some boxes and the change is bigger than I expected. Easy to assemble and you can have different combinations or place it vertical or horizontal. Love the look of my closet.',\n",
       "  'Project sewing org. Love the versatility of this product, bought 2 for my mother in law , to organize her fabrics , she loved it !!',\n",
       "  \"Classic/practical storage option. We have the 1x4 cube unit and the 2x4 book shelf. We love these! They're simple, practical and attractive.\",\n",
       "  'Great shelf. I bought the shelf a month ago and I am very happy with it. It is very easy to assemble. I also bought four fabric boxes for bottom part. I only wish that Ikea had a bedframe in the same colour.',\n",
       "  'Perfect cubes!. Best quality cube storage on the market. I love everything about this product, especially the add-to products which tailor to the needs of any space. Perfection!!',\n",
       "  'Great storage. Fits perfectly in. Great storage. Fits perfectly in my space.',\n",
       "  'A home for my vinyl records.. This product is the go-to home solution for those of us who treasure vinyl records. The dimensions are spot on for 12\" singles and albums. Perfect!',\n",
       "  'Cubic shelving unit. Great product',\n",
       "  'Great product!. Purchased this to help organize a closet and we love it! Sturdy and well made and just as expected! Great price too!',\n",
       "  'Love the cubes holding different school items.. This unit was purchased for my preschool/pre-k classroom. Love how the cubes hold just the proper amount for my littles to work with during our unit studies.',\n",
       "  '. I am happy with this product it works well in my craft room and fills my expectations.',\n",
       "  'Love love love. I own several of these “cubicles” they are used differently throughout my house, my son’s apartment and the church nursery. They are perfect with so many options!!!',\n",
       "  'Perfect. Ideal for storage and practicality.',\n",
       "  'Holding my massive record collection. These units are great. I was going to stand them up but we decided to lay them on their sides. They look great. They are sturdy enough to hold my massive record collection. Great buy.',\n",
       "  'Love it. I am using it for storage in my closet. Fits perfectly under my hanging clothes.',\n",
       "  \"Excellent shelf! Great build quality.. I bought this shelf about 1 month ago, and it's great. It also good to note that it's customizable.\",\n",
       "  'Perfect shelf!. Over the last two years we have purchased 5 of these! They fit almost any room either standing tall or longways. We use them as toy storage in one room, use them as dressers in another, and a tv stand in a third room. Very sturdy (if put together correctly) for the low price & look nice too.',\n",
       "  'Best shelf. This is the best shelf for your home and one of IKEA’s best products. No one else beats the price/quality.',\n",
       "  'Nice shelf. This works great if you want a quick storage fix. The cubes that fit inside the shelf hide clutter or other storage items very well.',\n",
       "  'Great product for organising. Great product for organising',\n",
       "  \"Is great to hide stuff you don't want to be seen.. Shelf was easy to put together and is sturdy.\",\n",
       "  'versatile shelf. versatile shelf',\n",
       "  'Great shelving. It is a very sturdy shelving and it works great for my office.',\n",
       "  'Perfect. Love this shelf unit. Was just what I wanted. Built very well.',\n",
       "  'Kallax. This unit fitted in so well with existing stuff in our little library. Maximum space for minimum cost. Very impressed.',\n",
       "  'Versatile. We bought the shelf about one month ago to use as our tv stand and shelving system in the living room. It was easy to assemble and has been a very useful addition for us. Versatile!',\n",
       "  'Kallax always does the job. My go to for nearly all things storage - I love the versatility and simplicity and the huge range of accessories',\n",
       "  '. this shelf unit and the others in this series are so versatile and practical!! this is the second house that i have reconfigured our closets in and these shelves are a lifesaver...the drona bins are perfect for holding plenty of clothes and everything looks tidy and pretty for mama...',\n",
       "  'perfekt for my closet. I know the Produkt from Germany and item is perfect',\n",
       "  '. I bought this as a shelf for my classroom and love it.',\n",
       "  \"Great shelves. Very easy to put together, easily customizable with the add ons. Looks great even on it's own\",\n",
       "  'Kallax cube storage - LOVE IT!!. Absolutely love our cube storage which now gives our little boy a great play area in our lounge room without looking like a disaster zone!',\n",
       "  'Exactly what I was looking for.. The shelf unit was very easy to assemble and is very sturdy.',\n",
       "  'Versatility. I bought two \\nOne I use for storage for my at home office and the other is side ways with doors and drawers I also bought the tv unit and they are all the same color black brown which goes well with my ikea couch that I already had so I am very happy',\n",
       "  'Great shelving unit.. Great shelving unit.',\n",
       "  'Perfect storage. I have many of these around the house, I wish they would come back out with the glass door.',\n",
       "  'Kallax. The ultimate versatile storage solution. Have used this as TV unit inspired by a display within Ikea store and is perfect for us. Love all our Kallax’s!',\n",
       "  'Versatile & great quality. This is a classic shelf, that can added to to make it look different in so many ways. Quality build, and a great price!',\n",
       "  \"As advertised. Overall a good product. The shelves are deeper than I expected and hold A LOT of stuff! The quality is so-so, sort of what you'd expect from cheaper IKEA products. While putting it together a few of the wooden pegs snapped in inside of the holes, but the shelves still feel pretty sturdy. The one issue I have is that it has only been in my apartment for 2 days and the paint is already scratching quite a bit with barely any use.\",\n",
       "  'Perfect organizer, perfect price !. Best quality with the lowest price!',\n",
       "  'Perfect cubby storage. Perfect cubby storage',\n",
       "  \"Great shelf!. Great! Sturdy, looks good. I also bought the legs that go with this shelf so that I can stand it on its side and use it as a toy, books, accessories shelf for my baby's room. Looks great! It's a great quality especially for the price. Other similar shelves from other stores that are closer in price if not a bit higher tend to be more flimsy and don't come with the legs.\",\n",
       "  'Good. This is a good product for a craft room. The price point is perfect.',\n",
       "  'Best Closet Organizer. Beyond happy with my purchase! It fit perfectly in my closet to organize all my clothes I previously had on wire racks. I additionally purchased the DRÖNA bins that can fit inside the squares to put my clothes so it looks neat.',\n",
       "  \"Shelf love. So far it's holding up my daughter loves it.\",\n",
       "  'Awesome storage. It was easy to assemble,very sturdy and is being well used',\n",
       "  'Great storage. I have had a number of these shelves in the past and I recently bought more for a house we recently bought. Nothing else compares for sturdiness and practicality. Nice selection of finishes too.',\n",
       "  'A Crafters Dream. This is perfect to organize my fabric in my sewing studio. Nice and solid and will last forever.',\n",
       "  'Great quality and value!. I am so happy with these units! I updated our old wire shelving in our laundry with four sets of these cubes and it looks amazing!',\n",
       "  'So simple, so easy. Ended up buying three Kallax Shelf Units to help tie in my dining room and replace our bedroom dresser with a different style of storage. The variety of fabric drawers that can be used is great, it makes it easy to play with different colors and styles.',\n",
       "  'Closet organizers. Love these in all shapes and sizes. Used as closet organizers. Just be creative!',\n",
       "  'Awesome. Got this a month ago and it is perfect. Using it in my sewing room to hold my fabric.',\n",
       "  'Excellent for my wardrobe. Fit perfectly into my wardrobe',\n",
       "  'Little boy’s room. This fits inside my son’s closet, 2 high by 4 wide. I bought a few Dröna boxes for him to keep his toys organized. I expect the Kallax will be used and enjoyed for years',\n",
       "  'Great shelf unit. One of my favorite shelf units. We have several in our home of various sizes.',\n",
       "  'This shelving is the perfect. This shelving is the perfect size for my new lounge room',\n",
       "  'Good. It is very convenient to use it to store clothes',\n",
       "  'Wonderful shelf. After we got home my husband assembled it in no time. This shelf is a wonderful , the openings are perfect to add boxes or baskets . I just Love this shelf unit, it is well made.',\n",
       "  'Perfect for towels and linens. Perfect for towels and linens',\n",
       "  'Excellent product. Fit my albums. Excellent product. Fit my albums perfectly. Strong and sturdy.',\n",
       "  'We love these shelves. Great. We love these shelves. Great for storing everything from books and trinkets to records.',\n",
       "  \"Great For Vinyl Collectors. Needed something for the vinyl records I collected over the years that I was keeping in boxes around my apartment. This did the trick, with 13x13 shelving space, it's the perfect size for the records whether you set it up vertically or horizontally. Really easy to set up. I'm not the best assembler, even with IKEA furniture, but I had this unit ready within 30 minutes.\",\n",
       "  'Just Excellent. This Kallax shelving is perfect for our situation and is the second lot we have purchased.',\n",
       "  'Awesome shelving/storage unit!!!. I got this to put my granddaughters toys in so they are hidden as they stay in the living room... Works great the girls love it',\n",
       "  \". I got the shelfs and like the way they went together and it's a space saver\",\n",
       "  'Exactly.... ...what i was looking for! Perfect for my Vinyl needs',\n",
       "  'Great addition. I truly love the shelving unit - it gave extra storage space to my bedroom and leaving some empty to add decor items really brighten the room',\n",
       "  'Great shelf.. The shelf was easy to build. My grandson was helping me but quickly took over and did the job itself. The finished shelf is attractive and functional.',\n",
       "  'Great storage. They keep our room organize and clutter free.',\n",
       "  'Great looking room storage. Looks great, easy to assemble, provides good storage and display space',\n",
       "  \"Rangement de vinyles et accessoires audio. J'ai choisi le Kallax pour le rangement de mes vinyles. Avec 2 portes et 2 x 2 tiroirs, j'ai le meuble parfait pour l'usage que je souhaitais.\",\n",
       "  'Reliable shelving. This shelving set was the right size and fits well with a desk I had bought previously from Ikea. One of the shelves, however, had not been pre-drilled, forcing me to drill the missing holes. This (and other problems I had with a cabinet purchased with these shelves) surprised me, as I had previously had good experience with the quality of Ikea products.',\n",
       "  'Great shelf. Really like this style of shelves, easy to put together and sturdy and stylish.',\n",
       "  'Very versatile!. I now have four of these is various sizes and I use the as dressers, storage in craft room and love them!!',\n",
       "  'Simply the best for crafters I have at least 6 now. Fits perfectly to my needs',\n",
       "  'Get Organized. Just love my KALLAX great purchase. My living quarters are very small and I like crafting..so need I say more, my things are now in order. My husband was not thrilled that I wanted to buy this but just last night he admitted that it was a good use if our space and he likes the color. Thank you IKEA.',\n",
       "  'Excellent storage. I have bought several , fantastic storage',\n",
       "  'Great for organization. Great for organization',\n",
       "  'Classic Workhorse. Bought this to store vinyl. Finish is nice as it looks classier than all-white and it’s simple and solid. Just be sure to secure to wall if storing heavy items like books or records.',\n",
       "  'Lots more room. Kallax is great. Along with the box inserts it adds attractive storage space in plain view.',\n",
       "  'Love this shelf!. I have two of these shelves now and have the drona boxes to fit in every hole. They are perfect for what I need and nice and sturdy.',\n",
       "  'Great Shelf Unit. Very easy to put together and it looks great',\n",
       "  \"Great shelving!. This is the 3rd one. I keep going back to it because it's not only a bookcase it's also great for shelving. Turned on its side it holds a TV and a Computer. Highly recommend.\",\n",
       "  \"Good / Excellent Unit. After way too much research on way too many storage options I came across this shelf. Five stars for the cost, assembly time, overall function and aesthetic appeal of this item. I got turquoise-grey and I have to say overall I'm happy with everything about it. Four stars due to the fact that most of the peices are held together by wooden pegs BUT I assemble furniture at work and as long as this shelf isn't expected to do any weight lifting with you at the gym it will be a lasting friendship.\",\n",
       "  \"Perfect for our record albums!. We have 2 of these. We have them horizontal and are using them as 2 long low storage units. They fit our large collection of LP's and photo albums. \\nThey are good quality and easy to assemble.\",\n",
       "  'Cubes. Easy to make, although The tape was hard to get off all the sides of the pieces.',\n",
       "  'Great addition to my bedroom. I had an empty area in my bedroom and this shelf fit perfectly. I use bins and to store items, use it as a bookshelf, and display other decorative items. It is easy to assemble and good for quality.',\n",
       "  \"Wish I hadn't waited so long to get these shelves!. These are perfect for craft paper storage and they hold much more than I ever dreamed. With this 8 cube unit I can get rid of two big shelves and free up more space in my room!\",\n",
       "  'Affordable practical stylish storage. It’s very solid, you can fit other cubes not just IKEA cubes in it if you prefer, and the shelves are handy and quite roomy',\n",
       "  'reliable product. Liked this when it was called Expedit and a bit bigger. We have a number of these around the house as room dividers, office cupboards and general shelving - great value and very tough',\n",
       "  'Love it!!. I used this for storage inside a closet. All my holiday decorations are perfectly displayed for ease when it’s time to pull them out.',\n",
       "  'Great for craft room. Works great in kids areas for games, puzzles and crafts',\n",
       "  'Love it. These shelves are sturdy and I love the insert options',\n",
       "  'Perfect For Vinyl Records!. I have around 400 vinyl record albums and this shelf unit is perfect for storing them. Great value, easy to assemble and an attractive,',\n",
       "  \"Versatile. A fresh, modern piece, Ideal for display. We used it in the 'landscape' mode to hold our small flatscreen TV. Excellent.\",\n",
       "  'Perfect multipurpose shelf!. We are very much delighted of this shelf. It serves as my daughters bookshelf and we also put our TV on top.',\n",
       "  'So versatile. It is in. So versatile. It is in my sewing room for fabric and a cutting table and the media room for books.',\n",
       "  'Great shelving unit. Good space for varying size of objects, very easy to put together and structurally strong. You can move the shelf without worrying about it falling apart!',\n",
       "  'Great storage option. Overall quality of the Kallax storage cubes is very good; a solid piece of furniture. Clear instructions, easy to assemble, no issues in putting it together. I would definitely recommend this product.',\n",
       "  'Good shelves. Good storage for books and other stuff, no rear wall, can see through, laconic design',\n",
       "  'Love Kallax. These are the best storage cubbies. I love them. Have them in my closets with the Drona boxes. My husband has some in his train room. They are a great staple to have.',\n",
       "  'Wonderful Shelf. I love that it can stand straight of lay on its side for use.',\n",
       "  \"Very sturdy shelf - repurchasing!. A year ago, I helped pick out this shelf for my roommate to purchase for our living room. It functions very well as a TV stand. We purchased the dröna boxes to go in the bottom 4 spaces. We use the top 4 spaces for our electronics like the wifi router and Apple TV. The shelf is of surprisingly good quality and much sturdier than I expected. Assembling took two people and about 15 minutes. Now that I'm moving, I'm buying the same unit to use at my new apartment. I offered to buy the existing unit from my roommate but they also really loved it and are taking it to their new place. Both of us clearly loved this shelf, so I expect most people would, too.\",\n",
       "  'Perfect replacements for large bulky dressers. We have a pretty small living space in our bedrooms. For years we have been using old hand-me-down bully dressers that left little room for anything else in our small bedroom. These cube storage cases solved our issues and offered more drawer space than our old dressers.',\n",
       "  'Great storage. This shelf neatens up our rumpus room. I shopped around & this Ikea shelf was the sturdiest & best for the money.',\n",
       "  'Perfect organizer. So, my daughter and two grands are visiting and need somewhere to place personals and clothing items. This unit works perfect and adds to the decor of the room. We currently have a wicker day bed and TV with a few accent items. The organizer is the right fit.',\n",
       "  'Attractive two toned shelving. Very easy and quick assembly',\n",
       "  'Great for multiple types of organizing.. I use these for clothes in closets and for craft supplies organizing.',\n",
       "  'Perfect for storage. Bought this 2 weeks ago and just love it ir works really well for our needs',\n",
       "  'Work perfectly in my closet!!!. Organized things on the closet floor not requiring any construction.',\n",
       "  'I love these shelves!. Very sturdy and easy to put together.',\n",
       "  'Practical and versatile unit. It can go in any room and I like how I can change the orientation and add accessories to repurpose the shelves.',\n",
       "  'The quality of this shelf is bad.. I can hear a sound when I flip the board, it sounds like there are many sawdust in the middle of the board. The board in the middle is also very fragile, it breaks when we try to assemble it with a rubber hammer.',\n",
       "  'Decent shelving unit. I bought this shelf with the hopes of fitting records on it. It works beautifully for this.',\n",
       "  'Versatile and Stylish. Purchased three Units in black-brown for my craft room and they have worked out perfectly. Easy to assemble with a friend',\n",
       "  'Very versatile. I bought this to put in my closet and it works perfectly for extra storage',\n",
       "  'I wish you made a 2 x 5 one . I’ve used these for clients who have a lot of vinyl. I mean a lot. This unit never fails. ',\n",
       "  '. Bought this for our 10 year old’s room! Great shelf!',\n",
       "  'Awesome storage shelf. Nothing much to say about this - perfect storage, easy to assemble, looks great. The only thing I wish is that it still came in bright red.',\n",
       "  'Ideal Self. This shelf is perfect for neatly storing items in a small bedroom.',\n",
       "  \"Great Product!. I've seen a lot of shelf units, for the most part they all seem very unstable. This unit is surprisingly very stable it supports my smart TV and i'm happy with the product!\",\n",
       "  'Very helpful great shelves. Very helpful great shelves',\n",
       "  \"Good to have. But the storage box is not available. The product is good and sturdy. But the storage box which I'm not looking for is not available in stock. Its been a month now, I had to keep only the skeleton.\",\n",
       "  'Perfect for many uses. I’m a crafter and used 2 of these for my craft table. Works and looks amazing!',\n",
       "  'Great shelving units. Perfect for apartment',\n",
       "  \"Great shelving!. I love these units. They quite easy to put together and very solid. Come in different colours and sizes. I bought 6 earlier for my son's LP records and stacked them up and they are just perfect.\",\n",
       "  'Great shelving. We bought 2 of these - they are very easy to put together. Very sturdy, good looking and hold alot. I high recommend them',\n",
       "  'Definitely a good product. The product is really good, the only thing that could have been is availability in different combinations. Like single cube, 3X4, 1x1, 2x3',\n",
       "  \"Love this piece. I'm a. Love this piece. I'm a scrapbooker and crafter and it works perfectly in my craft room\",\n",
       "  'Great Shelf. Easy to assemble, looks great',\n",
       "  'Good choice for organizer. Good for organizing all your staffs with the boxes called DRONA I bought from IKEA too.',\n",
       "  'Perfect !. It is perfect for what was intended. Multiple units are stacked against a wall in MBR closet. Each cube will hold 2 shoe boxes. My OCD-self is in shoe-heaven!',\n",
       "  'Great storage. I love the kallax bookcases I now have 5 in my house With the baskets they can clean up any clutter you may want to hide. For all my books they are Awesome. I’m planning on buying a few more very shortly.',\n",
       "  \"Great shelf. Bought for my son's bedroom and very happy! You can put it in two layouts (horizontal and vertical).\",\n",
       "  'Excellent storage idea. Perfect system to hide all that extra stuff we have laying around!',\n",
       "  'Versatile Shelf. Great for books, toys and decoration',\n",
       "  'Perfect for your craftroom. So easy to put together ',\n",
       "  \"Great. These shelves are perfect for everything. They are sturdy and look great. I bought another shelf to put right next to a shelf I bought exactly a year ago. The shelves are the exact same size, color, and finish, but the new shelf's color is more off white than my older shelf. It's just a small difference in color, but a little annoying that the color changed from last year.\",\n",
       "  'Using as wardrobe. My friend and I both bought one of these units, we both use them as a wardrobe. I bought drawer inserts and doors for extra privacy and I think it works great, the spaces are very spacious and neat looking. Assembly was a little difficult and required two people; pushing the shelves together was difficult for us because using a hammer would chip the wood, the finished product however is very sturdy and a solid piece of furniture. it is quite heavy so I recommend assembling it in the room you will use it in.',\n",
       "  '. This is so useful in my closet love it. Also the price is great im happy customer',\n",
       "  \"Versatile.. This is my second Kallax unit. I use one as a dresser (with the cloth covered boxes - can't remember the product name) and it works well. The other is being used to hold my vinyl collection. The openings are the perfect size!\",\n",
       "  'Good for the LP case. Right fit to the LPs (Vinyl Records), reasonable price and fit for LP case.',\n",
       "  'Love these units.. I have several different sizes of these units. I love how sturdy they are. Easy to assemble and can look great with any decor. Just use different crates or add shelves.',\n",
       "  'Perfect for the space!. Love this unit. Bought it last month and it works perfectly in my closet.',\n",
       "  \"Standard. What can one say about a boxy shelf. It's good.\",\n",
       "  'Square Shelving. Great storage product. ',\n",
       "  \"Perfect storage shelves. Bought 2 of these a month ago for my kids playroom and they love it they keep everything organized when playtime is over it's so much easier to make kids enjoy cleaning up\",\n",
       "  'Great adaptability. I bought this to give myself extra storage room in my bedroom. Love finding drawers and doors for it so much and how it looked that I bought a smaller one to mount on top of it.',\n",
       "  'good storage. Bought this to help storage in a closet. Works great and has baskets and other options that makes it very adaptable to our needs.',\n",
       "  'The square blocks were perfect for my need. I bought these to go in my walk in wardrobe to tidy up my shoes each square is now home for about 4 pairs of shoes and my walk in wardrobe is now tidy love this product',\n",
       "  'Best Quality Cube Organized. Better quality than Target or Walmart brands, same price.',\n",
       "  'Great shelves. Love the shelves. Built a wall of them to store all my clothes and treasures.',\n",
       "  'craft room organization. Worked very well for storing cardmaking supplies.',\n",
       "  'Favorite storage solution. We have purchased 4 Kallaxes. They’re the perfect storage piece and doubles as a nightstand for my kids.',\n",
       "  '. This is more spacious and less expensive than a dresser! Love it!',\n",
       "  'Versatile unit. Needed somewhere to store board games. Fitted with inserts it does the job while looking tidy. Very versatile as the appearance can be changed simply by using inserts, doors or drawers designed for the unit.',\n",
       "  'Excellent vinyl rack. Easy to assemble and spacious',\n",
       "  'Perfect clean shelving. Very sturdy and easy to assemble',\n",
       "  'Great Organize Shelves. Great unit to keep school stuff organized on a day by day setup instead of all over the place',\n",
       "  'Great shelf!. I’m adding the inserts to this shelf and us using it in our spare room. It’s great quality and fairly easy to assemble with one person.',\n",
       "  'Versatility is the Key. The Hallax worked out in every room we placed it. The additional accessories avaible by Ikea to enhance the Hallax is awesome. More future purchases to come. ',\n",
       "  '. Great looking sturdy shelf.',\n",
       "  'Looove the Kallax unit!. The Kallax unit is so handy for storage, looks fantastic and keeps rooms clutter free. I have several of them and intend to get more. It all started with the Expedit unit, the previous version of the Kallax unit. I saw that there is even a third generation of this storage device out now. Keep it alive!!!',\n",
       "  'It does what I need it to do.. Very sturdy and holds my vinyl record collection very nicely.',\n",
       "  \"It's great for storage. Cool I bought 3 already and this was 4th one\",\n",
       "  'Shoe storage. Worked perfectly',\n",
       "  'Nice for the price. I decided to organize and create a smaller footprint for the toys the grandkids play with when they come over. This works great. The 13 by 13 cubes are very spacious. I do recommend fastening it to the wall if in the upright position because the little ones definitely try to climb it.',\n",
       "  'Perfect Craftroom Storage. These Kallax pieces are beautiful, easy to assemble, sturdy enough to hold a great deal of paper and perfect for organizing!',\n",
       "  'Exactly what I was looking for!. I bought this to use on it’s side, in place of a traditional (heavy/bulky) dresser. So far, it’s been perfect.',\n",
       "  'kallax storage cubes. Great for storing sewing supplies',\n",
       "  'bought for my craft room. bought for my craft room & so far they have met my expectations',\n",
       "  'Versatile Storage. Love the Kallax units. So versatile for craft storage. Nice and sturdy too. We broke a few dowels putting this together and had to buy some more, but otherwise a great product.',\n",
       "  \"Versatile. I have at least one of these in each of the rooms at home. Except the bathroom. But I'm sure it would work there too. I could never go wrong putting one of these in any room. So simple yet so functional and almost classy if it weren't the fact that it's not real wood. But no one would even think that cuz it just looks nice. If I was ever indecisive how to fill up space or if I needed extra storage, Kallax is always my go-to.\",\n",
       "  'Record Shelves - My actaul use. I have 8 of these shelving units and they are all being used for my massive record collection. A must for any record collector wanting to store their vinyl.',\n",
       "  'Fabulous addition to my laundry.. Fabulous addition to my laundry. Great storage',\n",
       "  'Perfect storage for my yarn. Needed a nice storage unit for my stash and thi unit is perfect',\n",
       "  'Great shelf. We really like these shelves. We have them all over the place.',\n",
       "  'Very good shelves. Shelves are deep and hold lots.',\n",
       "  'Great shelving!. Cheap. Easy. Looks great.',\n",
       "  'Great clothing organizer. This item is great for folded jeans, shirts, towels, etc. Great buy.',\n",
       "  'Great shelf!!!. I bought 4 Kallax 8 is what we refer them to for my craft studio. It is perfect to hold all my stuff. I love this, because it can be used horizontally, or vertically!',\n",
       "  'Great multi-function shelf. I have one in my entry hall with baskets for shoes and misc. The other is in the office and is a desk with plenty of storage.',\n",
       "  'Kallax system. This solved our record storage problem. The assembly was straightforward but definitely needed some strength and two people as indicated.',\n",
       "  'Shelving units. Bought them this month and put them together already and using them',\n",
       "  'Really happy with this. I love this shelf unit. It was easy to put together and so versatile. I plan to buy another one!',\n",
       "  'Best in its class. You cannot find another that can better this cube box. So much variety and mixes to use them! Only minor issue is that the white coloured ones are prone to scratches dents and water damage. Be careful when you have them and they will enlighten your home.',\n",
       "  'Good value quality shelving. Easy to assemble and looks great!',\n",
       "  'versatile and attractive. large enough shelves for dishes, books, decorative items, toys and looks great!',\n",
       "  \"Useful shelving!. We've bought 3 of these and find them very useful and attractive\",\n",
       "  \"Just what I was looking for. I was looking for a way to store the various bits and pieces for different projects I am working on in my studio. My usual method was to have a pile somewhere, and add to that pile. Of course, the piles would spill into each other, and eventually became more knitting projects pile and sewing projects pile instead of Knitting Project for Customer A, Knitting Project for Customer B, Sewing Project for Customer C, Sewing project for Customer D. I also wanted a low credenza-like shelf to add work surfaces to the studio, as well. Other, similar products from other companies looked the same online, but were considerably smaller in dimensions. When turned on its side, the KALLAX is a nice height at 30 inches. The whole unit is very heavy, strong, and sturdy. I am very pleased with it.  As far as how well it works for my original needs: I can now see, at a glance, each project and its materials. When new pieces (fabric orders, button orders, new patterns) come in, I can just toss each item into its appropriate cubby, and it is not in danger of intermingling with other projects or getting lost somewhere special where I put it so I wouldn't misplace it. (You know how that goes.) Additionally, the top of the unit turned out to work very nicely as a place to mount my yarn swift, yardage gauge, baller, and scale, resulting in a very effective yarn winding station that remains out of my way, even while set up. The flat-packed package did require two people to move (as, I assume, will the final piece of furniture), but I was able to assemble it easily by myself. Everything turned out nicely square and solid.  I bought the black-brown finish. My studio has a black and white motif, and though this is not a true black, it is close enough to blend nicely with the rest of the room. It really looks more like a wood with a black stain (there is a wood-grain pattern to the finish). The unit is not solid wood, but a composite wood product, but the finish looks very wood-like.\",\n",
       "  'Great product. Have purchased these. Great product. Have purchased these in the past for my records',\n",
       "  'Works perfectly for my craft. Works perfectly for my craft room.',\n",
       "  'KALLAX is one of the. KALLAX is one of the best storage systems on the market.',\n",
       "  'Kitchen Organisation. I have mine in the corner of the kitchen and use it to store some large plastic tubs to keep stuff out of the way but organised',\n",
       "  'Great Shoe storage unit!. Took a little while to put together but looks great once done - i am using it to store all my shoes in my walk in robe.',\n",
       "  'Great for clothes and shoes. Great for clothes and shoes',\n",
       "  'My favourite place🥰🥰🥰🤩🤩for organise. My favourite place🥰🥰🥰🤩🤩for organise',\n",
       "  'Love our Kallax. Great and versatile storage in my grandchildrens room. It fits perfectly on our IKEA tv console, making for the ideal solution to overflowing toy boxes. We will eventually add some drawer and door inserts.',\n",
       "  'Shelving unit. Great product, good quality, very happy🙂',\n",
       "  'Excellent quality shelf. This is my second purchase of the Kallax shelf unit. Very sturdy, versatile piece of furniture. Easy to assemble.',\n",
       "  'Shelf Unit. Really easy assembly. Sturdy. Looks great, very fresh in all white.',\n",
       "  'Great for sewing/fabric storage. Containers for it are great',\n",
       "  'I have many of the. I have many of the Dallas shelving units. Always a quality product',\n",
       "  'Great shelving unit. Wonderful shelving unit we turned it on it’s side and put basket in it for storage and a tv on top works great',\n",
       "  'What i wanted. Im glad i did brought this doe my crafting area',\n",
       "  'Great Value. Great price for shelf!',\n",
       "  'Always my go-to for shelving. I now have it in all colors and shapes. Probably THE best stackable cube shelving ever made. Looks cleans and sleek. Amazing quality. Easy to assemble. White is my newest - love it!',\n",
       "  'Perfect for vinyl. Perfect for storing records. I love all the storage options (boxes, doors, etc.). I hate.the fact that Ikea got rid of all the colours though. When I bought my first Kallax there was red, yellow, green, white, now you get white or fake wood look.',\n",
       "  'Cube unit. Exactly as pictured, heavy, well made. Fit the bill for storage',\n",
       "  'Finally organized my bedroom:). I love these cubes. I turned them on their side and put them up against a far wall that was being underutilized. They are deep enough to hold my record player, so beautiful flowers and plants, and the pull out bins that coordinate with the cube make a perfect laundry basket. I have more delicate items protected inside the lower cubes where they look beautiful. I am very glad I made this purchase. I bought more than one size to fill the entire wall, and the fact that they are backless lets me utilize the electric outlets behind them. They are terrific.',\n",
       "  'Wonderful storage. I bought this about a month ago for my daughter and we LOVE it.',\n",
       "  'Excellent design and so many options!. Love this shelving unit. It has so many options the ideas are endless! Best purchase ever!',\n",
       "  'Great storage!. Love my Kallax units. Very affordable storage solutions....',\n",
       "  'Organized closet!. We moved to a smaller house that had no room for a dresser but good closet space. I put the Kallax in the closet and problem solved! Looks nice too!',\n",
       "  'Great for back packs. Have bought yet another unit because it is so versatile',\n",
       "  '. My husband uses this for his ever expanding record collection and he loves it!',\n",
       "  'Perfect storage and style. Sturdy, handsome piece for so many storage needs.',\n",
       "  'Exactly what I was looking. Exactly what I was looking for to store my records in',\n",
       "  \"Vinyl LP Storage. The perfect storage solution for your vinyl LP's collection.\",\n",
       "  'Versatile!!. I bought this a month ago to use as a floating shelf below my TV. I use it to organize my pillows, magazines and a basket for kid toys. Very nice product and value.',\n",
       "  'Love the shelf unit. I bought this unit a month or so ago and really am glad to have it. I use it lying on its side and as a bottom piece for a smaller unit I have in my sewing room. I wish I had gotten the wheels for it and will once I get a chance to go pick it up.',\n",
       "  'Great Shelving Unit. Easy to put together. Strong and good quality materials. Good space/room divider because it looks great from any side. Highly recommend this product.',\n",
       "  'Great for organizing!. I out this unit in my closet to organize small clothing items. My closet looks great!',\n",
       "  'Perfect for clothes!. Fits great in my walk-in closet and works great as a clothing organizer!',\n",
       "  'Versatile. Love this unit. Great storage suitable for any room.',\n",
       "  'Kallax rocks storage!. Very happy with the Kallax box storage units. You can use them as shown (tall version) or turn them 90 degrees and have a lower unit that you can also put things on top of. Very helpful!',\n",
       "  'Extremely wobbly and unsafe. When put together the shelf is extremely wobbly. All parts were used and everything completely tight and the shelf wobbles a good 2-3 inches with the slightest touch. We even disassembeled it and reassembled it try and see if we put it together wrong and it does the same thing. We are going to have to throw it out. Completely unsafe and waste of money. Visibly looks good though. If it didn’t wobble and was safe would be a good product.',\n",
       "  'Great for the office!. I needed a storage solution for files that I store in magazine boxes and it was Kallax to the rescue! Looks great, hold my magazine file boxes and is easy to assess when necessary :)',\n",
       "  \"Perfect for my small space. I moved in with a relative after retiring and am trying to pack stuff from a bedroom, office, and sewing room into one room. I bought two 2×4 Kallax units and one 1×4. Perfect vertical storage to organize a lot by a 6' wall. Also much better made than units I've purchased from other stores.\",\n",
       "  '. Happy with this shelf, nice and simple',\n",
       "  'Modular functional style. The Kallax series is very versatile in creating functional stylish storage solutions',\n",
       "  'the perfect craft room. Im creating the perfect craft room these are great',\n",
       "  'Best storage.... The Kallax units are seriously the best for all kinds of storage needs, from craftrooms to loungerooms to bedrooms. They are very handy! Fairly easy to assemble.',\n",
       "  'Great organizational storage. I have three of these Kallax units: one for books, one for toys and one for sewing supplies. I use storage baskets in some cubes to hold smaller supplies and leave some cubes open. ',\n",
       "  \"Very handy storage. Great for storing board games and dvd's etc.. (We use the black boxes that go with this shelving system). Price isn't too bad either. $129 each and the boxes are $7 each and they fit perfectly.\",\n",
       "  'Perfect closet organizer for purses.. It has helped to organize my purse collection.',\n",
       "  'Overall good shelving but need. Overall good shelving but need some on quality',\n",
       "  \"Good vinyl LP storage. Relatively easy to assemble; seems sturdy enough; perfect size for holding collection of vinyl LP's.\",\n",
       "  'Awesome storage. Have 3 side by side, easy to assemble perfect to store stuff in boxes and display other items',\n",
       "  'Cube storage. Instructions were easy to follow, but requires 2 people to lift .Sturdy & strong, very happy.',\n",
       "  'Good, sturdy shelf. We love this shelf. We are using it to store all our arts and crafts supplies. It works great and looks nice too. And it was pretty easy to assemble and anchor to the wall.',\n",
       "  'Kallax. The is the perfect storage solution. I love that these units can be repurposed in many different ways.',\n",
       "  '. Versatile storage space that I’ve hacked for the kids’ school gear. Included the KALLAX drawers and added a shelf for shoes at the bottom.',\n",
       "  'Perfect for sewing room. Put two of these togethervto make avfabric cutting table. Easy to put together, and stores my fabric bins perfectly.',\n",
       "  'Good storage. Very convenient',\n",
       "  'Exactly what I was looking for. perfect storage for all my clothes in a cute minimalistic manner that fits my aesthetic',\n",
       "  'Great shelf unti. This is our third They used to be called Expedit We had two of the 25 cube units in the past Love these shelf units',\n",
       "  'GREAT SHELF UNIT. Purchased two of these for a room that we are redoing and they are great as you can either stand them up or run them length ways.',\n",
       "  'Nice and neat. These shelves are very helpful to expand closet for tight spaces',\n",
       "  'Great product. Easy to assemble and much better quality than most shelving units',\n",
       "  'Vinyl Record Shelving. finally having a place to store vinyl records',\n",
       "  '. I have 3 of these and they are great for kids cloths',\n",
       "  'Perfect. I bought this a month ago and put it in my son’s room. I have sorted and put his toys in different cubes. My son loves taking his toys out and also knows how to put them back, which has helped me to keep his room always tidy.',\n",
       "  'Very very nice shelves. I had no troubles assembling it and it looks and works just great. Planning to buy more.',\n",
       "  \"Excellent storage unit. My Kallax 8-cube unit was easy to put together and is sturdy, capacious and attractive. I'm happy with my purchase.\",\n",
       "  \"It can also be used. It can also be used as a bookshelf, storage cabinet, or drawer. It is simple, but clean and pretty, making it a great piece of furniture with a variety of uses.\\nIt's great because it goes well with both a children's room and the living room.\",\n",
       "  'Perfect for vinyl records. Records fit just right . Placing the KALLAX sideways, makes a perfect place for a turntable, amplifier and the likes. Good value for my records and equipment. Oh, and it looks good too.',\n",
       "  'Hacked the Use. Instead of purchasing a closet system, I used two of the Kallax units to rework a walk in closet. Standing, this particular configuration fits under the existing hanging clothes rack. I place a second Kallax on the other wall in a horizontal position. I can now hang cloths, neatly arrange folded sweaters and jeans, and have more room than ever before.',\n",
       "  'Albums fit nicely in shelves.. Albums fit nicely in shelves.',\n",
       "  'Shelving. Awesome product to put in my craft room for storage. Easy to put together and position in the room',\n",
       "  'Great shelf!. I purchased this shelf for the purpose of shoe storage in my garage by the garage entry door. This shelf is study and went beyond my expectations. I added fabric storage cubes to hold the shoes. This has helped to organize my family’s shoes. Thiis shelf looks better than I anticipated and would be a good addition inside the house. Easy assembly. Highly recommend!',\n",
       "  'Kallax Storage unit. Speedy delivery, easy assembly, sturdy and great color, only suggestion to Ikea; provide an optional backing for this unit. Thanks, Ikea.',\n",
       "  'Perfect for Vinyl LP Storage. Kallax shelf unit sizing is perfect for both 10 reel to reel tapes and LP Vinyl Storage.',\n",
       "  'Perfect for storing my vinyl record collection. I really like the Kallax products and this one is ideal for the purpose I bought it for. My only complaint is that the top and bottom panels are quite a different shade of color compared to the side panels and the companion Kallax unit I bought to go along side of it.',\n",
       "  'Best shelf unit!. I bought this for my sons playroom to organize all the toys. I wish I bought this months ago!!! Best product!!! It’s durable for his spilled and splatters, stores his toys neatly. Would definitely recommend this!!!',\n",
       "  'great for everyday living. I use the Kallax for absolutely everything!!! from clothing storage to kitchen cabinet to living room displays',\n",
       "  'Abundant storage. These cubbies are versatile and good looking. I am using them in multiple rooms for display and storage.',\n",
       "  '8 shelf is great. Perfect for basement family room, easy to put together, books, momentos, matches other kallax products we have bought',\n",
       "  'Love the cubes. This one. Love the cubes. This one was a Xmas present.',\n",
       "  'Useful. The Kallax shelving unit matches my expectations for storing toys etc., In conjunction with the Droner box',\n",
       "  'Great storage at a great price. Bought this to tidy up my grandchildren’s toys & books that had threatened to take over my spare room!',\n",
       "  'Budget shelving that looks great. This is the third unit we have bought and have been very happy with all of them',\n",
       "  'Great shelf unit. This shelf unit is perfect for my kids room. Great place to organize toys and it was easy to build.',\n",
       "  'Great organizer. Great organizer',\n",
       "  'Best shelves. I love these shelves because they look nice and are easy to put together. Inserts are handy too.',\n",
       "  'Great shelf. We bought few of the same shelves through the years and really like them, especially in high gloss.',\n",
       "  'Great shelves. 😊. Great shelves. 😊',\n",
       "  'Great shelves. My teenager used this to organize space in her room.',\n",
       "  \"Versatile and functional. Using this in the garage for sports equipment, outdoor supplies, etc. Bought the cheap black nylon cubes to hold tennis balls, shoes, etc. Love that they have options on cubes.  We'll see how the quality stands up in Texas heat.\",\n",
       "  'Nice looking shelf!. I bought this for my kitchen for more pantry storage. I have it on the size like a buffet table with baskets. Looks great!',\n",
       "  'Great utility shelf! We are. Great utility shelf! We are using it as a book shelf.',\n",
       "  'Versatile. Easy to assemble and sturdy. Fit perfectly in my closet for storage organizer in guest room',\n",
       "  \"Best shelving for records!. These Kallax units make for perfect vinyl record storage. Ikea offers so many bits of shelving for entertainment usage, it's the premier place to build an entertainment room!\",\n",
       "  'Useful in closet.. I bought this for my 22 year old daughter who needed shelving under her hanging rod in her open closet. She put it together herself, easily and set it horizontally under the hanging clothes. It holds bunches of stuff and looks great!',\n",
       "  \"Perfect for storing all types of items!. The Kallax shelf is probably the most sturdy, reliable and useful piece of furniture you could buy. Due to downsizing we have less closet space. We didn't want to buy an extra dresser with plans to eventually buy a house so we wanted to buy something that would give us extra storage for jeans, books and other items and the Kallax was the perfect buy for this. It also gave me space to put my plants on top. We chose the Kallax because we can see us using this in whatever type of space we might have in the future.\",\n",
       "  'Great looking shelf. Shelf was easy to assemble, looks good and is very sturdy.',\n",
       "  'Cube storage. Using as a station in my sewing room \\nIrons \\nElna press \\nMillinery steamer \\nPlus \\nWool spindle and winder',\n",
       "  \"Good shelf. Iré ya a Dios shelf for it's value, but my came with damage on one corner.\",\n",
       "  'Just what I needed. Needed some inexpensive shelving that did not look cheap. They were just what i was looking for.',\n",
       "  \"Great Entertainment Unit. Great Shelf used as Entertainment Unit. Great value for money. Great quality. Great apperance with shelves inserted however can be a mess to assemble if you dont read the WI's properly as the parts are not labelled/numbered. Would recommend to friends who dont want to buy an overpriced entertainment.\",\n",
       "  'Great value. I’m a (very) senior lady who recently bought 2 of these units. I had purchased 2 previously. I put them all together myself. Assembly is straightforward and the shelves look very nice. Good value for the price!',\n",
       "  'The quintessential record cabinet. Perfect for vinyl, which is what I use it for. Is nice quality and easy to assemble. \\n\\nMy product did have a small amount of damage that was from when they packaged at the factory. (Product is flat-packed and there was damage to a plank as I opened the box.) Make sure to carefully inspect upon opening. Still, overall, looks great holding my media.',\n",
       "  'Perfect for storage of vinyl. Perfect for storage of vinyl collection when laid on its side.',\n",
       "  'Shelving. Very happy with purchase.',\n",
       "  '. Looks very nice! I Can storage many things and everything is organized',\n",
       "  'Nice unit for vinyl. Good together easily. It fits vinyl albums perfectly.',\n",
       "  'Bought for records. We bought this for our record collection. It’s perfectly sized and sturdy!',\n",
       "  'Looks great!. This shelving is perfect for my fabric storage.',\n",
       "  'Perfect for organizing my laundry. Perfect for organizing my laundry room.',\n",
       "  'Versatile. This was the 5th one I’ve purchased recently. I used it to create shelving space in a new closet. Worked great and was way cheaper than closet organizers at home improvement stores. Others were used as sofa table bookcases.',\n",
       "  'doubled the fun and lofted a bed!. these are such versatile shelving units. we have several and for these we bought two and lofted a bed. he now has abundant storage and a really cool bed all without spending several thousand dollars for the same thing.',\n",
       "  'Not as tall as past shelf. The shelf is great. The only problem we had is that the height is different from the same shelf we bought several years ago. We made it work but there is definitely a difference.',\n",
       "  'Craft room storage. I needed compartmentalized storage in my craft room and the Kallax and available accessories fit the bill perfectly.',\n",
       "  \"great record. Storage. Sideways. Redid bosses studio where it has expanded his space very nicely. Now he's shopping for more records lol\",\n",
       "  'Great shelves for my daughters. Great shelves for my daughters new apartment!',\n",
       "  'Kallax. We have ours at our remote cabin. It will be used in the winter for storage of snow mobile helmets and mitts, toques, gloves etc. in the summer it will be used to store and keep items we use in the summer. I also added wheels to it. It’s working exactly as I needed. ',\n",
       "  'Great for vinyl.. Bought to hold my large vinyl collection. Works very well. Might have better if it was only 11 or 12 inches deep but otherwise is great. Sturdy enough to hold a lot of vinyl. Be sure to anchor it to the wall.',\n",
       "  'Good storage. Happy with features and ease of putting it together',\n",
       "  'Great box shelf. Great box shelf',\n",
       "  'Great value. Bought this for record player and vinyl storage and it looks great',\n",
       "  'Great organizer and clean lines-. Great organizer and clean lines- works in office / nursery',\n",
       "  'Great Storage for front hall. Needed a storage system for out front hall area. This fits the bill perfectly',\n",
       "  '. I am happy for bought this shelf, very easy to put together and very strong shelf',\n",
       "  'Kallax unit. Great unit for storage with a few added tote bins.',\n",
       "  'The Best. So functional - for display, storage - or 12@ vinyl collections!!',\n",
       "  'Organized at last!. Perfect in our small bathroom to organize everything, and still look gorgeous',\n",
       "  \"It is the most used furniture in my home. This is my third KALLAX purchased, besides other components like shelves. And I don't know what will I do without them. They help me to organize things, especially small items. I love them because they keep my mess tidy.\",\n",
       "  'Cube organizer. Love it. Perfect choice',\n",
       "  'Great design. I bought this shelves and accessories a month ago and created our own unique style which matches our family room design',\n",
       "  'Love this shelf. Am using. Love this shelf. Am using it on its side at the cabin as a way to store clothing.',\n",
       "  'Kallax. Great storage, very versatile',\n",
       "  'excellent shelf. I bought this a few weeks ago, it does exactly what i wanted it to do with storing my children’s toys',\n",
       "  'Perfect organizer. I love this piece, it keeps my office organized and the finish makes my office look professional!',\n",
       "  \"Versatile storage. Great units for versatile storage. Have one for a kids craft area, one as a desk, one as a kids dresser. \\nAssembly takes a bit more force than you'd think to put the pieces together, but once you've done one it's easy as. \\nOnly downside, as a desk the shelves are a bit deep for books, they end up all the way at the back, but for storage this is great.\",\n",
       "  'This shelving unit is really. This shelving unit is really nice. We have two in the black color and now got another two in white for another room. Sleek, stylish and sturdy.',\n",
       "  'Versatile Storage. Kallax offers sturdy, versatile, attractive, storage options placed horizontally or vertically. Add in the optional drawers, shelves, baskets, etc., and these units work for any sort of storage of display one can think of. We have been using these in various ways for years. I would like to see the return go the Birch color way.',\n",
       "  'Best shelving module. This is a very versatile shelving product.',\n",
       "  'Low cost vinyl rack option.. Low cost vinyl rack option. A back panel cover will be better.',\n",
       "  'Perfect Shoe/Item Storage. Bought this about a month ago. It has worked fantastically for the purposes we needed it for.',\n",
       "  'The shelving unit provides ample storage and is very sturdy... Very pleased with the Kallax shelves. I also purchased the stand and used the unit horizontally. I love this option so that it is not sitting directly on the floor.',\n",
       "  'Practical shelving. Bought to put inside a built in wardrobe, Very solid, substantial and perfect for our needs.',\n",
       "  'Great storage arra. Very nice ,it fits perfectly in the living room',\n",
       "  \"The best self. I use this for my sewing room it's the greatest wish I could have room for more\",\n",
       "  'very useful. Looks beautiful I my closet',\n",
       "  '. Love these shelving units. They are so versatile. Easy to put together and suit lots of decor and lots of situations.',\n",
       "  \"It's such a perfect shelf unit!. It's beautiful and the size is absolutely perfect! Awesome!\",\n",
       "  'Love these shelves. Bought one for my office and I already have one in my kids play room. So many options with this price.',\n",
       "  'Cheap but easy. Not badly priced, great closet organizer for us. Easy to assemble.',\n",
       "  'Shelving. Excellent products. Look lovely in the home as well as being practical.  Easy to assemble.',\n",
       "  'Great storage behind my sofa. Little hard to set up. Good storage space for books and miscellaneous things.',\n",
       "  'Perfect for closet storage. I bought this unit for my walk-in closet to keep the clutter off the floor. I am using it laying on its side under the hanging portion of the closet and it fits perfectly to store boots and other items. I also bought a few canvas boxes to hold small items.',\n",
       "  'Excellent product and easiest IKEA. Excellent product and easiest IKEA furniture to put together. Works great for records/albums?',\n",
       "  'Good for records. I use half of it for records - the cubes are the perfect size. We use the other half for toys.',\n",
       "  'Kallax. Great storage solution!',\n",
       "  'Love this shelving. I bought this a few weeks ago and love it. I’m using it as extra storage and it’s compact design works perfect.',\n",
       "  'Perfect for the craft unit I made. Perfect for the craft unit I made',\n",
       "  'Great item. This was bought over 3 months ago, I purchased 3 and I use them as book shelves, they look great',\n",
       "  'Handy shelving. From a bookcase to a shelving for narrow built in wardrobe works well',\n",
       "  'Great Storage Piece. I use these in closets to organize clothes, shoes and household items. Keeps everything neat!',\n",
       "  \"Great shelving!. Easy to build, great price, looks sleek, what's not to like?\",\n",
       "  'Good for storage and kids clothes. I bought this about a month ago and I’m still happy about the product',\n",
       "  'Excellent everything storage and display!. And now with wheels! I realized that my latest purchase puts a kallax shelf in nearly every room in my house. Laundry shelf for each member of the family in the laundry room, bins and drawers for dresser in the spare room, purse and shoe organizer in my room, shoe/winter gear bins for each in the entryway (and a place to sit to put them on!), appliances in the kitchen corner...',\n",
       "  \"Perfect closet organizer. I've placed this shelf in my children closets to help keep their clothes etc. organized. It has really made a difference in the clutter in their rooms.\",\n",
       "  'Great shelf. I own four. Great shelf. I own four of these now and am very happy with my purchase. Was able to assemble it by myself without any problems.',\n",
       "  'Using these for additional storage. Using these for additional storage in guest bedroom',\n",
       "  'Flexible and practical. Moved into a new home and needed storage for both my office and my art studio - to hold binders, supplies, while lookind cool and being space-efficient. Ended up buying 2 of them, one bedside my desk and one that fits in my closet. I like the drawer inserts to organize pens, tools, and small items, while the option of using baskets and boxes to store paints, materials is super flexible and tidy.',\n",
       "  'Cube storage. Happy with the gloss finish - very sturdy. \\nI hired a tradesperson to assemble this product',\n",
       "  'Perfect for my vinyl collection . I have multiples of these nothing better for storing vinyl.',\n",
       "  'Perfect storage for books/ movies etc.. I bought this for our grand daughter for her birthday and she Loves it !!! She had fun putting it together with her sister ..',\n",
       "  \"Great Storage. I got this a few months ago when I moved into a new apartment. The apartment is loft-style, so I wanted a way to divide the large space into rooms. I got two of these to make my bedroom area more private and it worked out perfectly. I love that they look good from all sides. They're very versatile and I use them to hold books, clothes, etc.\",\n",
       "  'No Sagging and Great Color!. I already have the 4 x 4 cube unit and love it. Bought this one for scrapbooking supplies. It is one of the only shelving units that you can be sure your 12 x 12 pages and your completed albums will fit on. Plus, since the shelves are supported every 13 there is no sagging.',\n",
       "  'Great Purchase!. Shelf is perfect for my son’s bedroom. Bought the cubes to fit inside the holes and organized his toys. Even added some lighting strips to give it the wow factor!',\n",
       "  'Versatile. Very sturdy storage, multipurpose. We have one in the kitchen and two in the bedroom. they can be configured into different shapes when using multiple units.',\n",
       "  'Versatile unit. The beauty of this system is how simple it is to assemble, and how versatile it is to fit multiple uses in multiple locations. I used two of these to provide organized storage inside a closet. And they are perfect for the job',\n",
       "  'Perfect for bathroom storage!. We have others in our closet...great for storing all types of items.',\n",
       "  'Looks Great. I purchased this for my son’s closet. It looks great, was easy to assemble, and is exactly what he wanted. I bought a few cube fabric drawers and his closet looks so organized and clean. It’s a win win!',\n",
       "  \"Perfect for storage.. Bought a month ago, added a few decorative boxes and voila' beautiful! So happy I bought it!!!\",\n",
       "  'Great storage. Great unit for storing fabric in sewing/craft room.',\n",
       "  'Good Storage Shelves. Being used to store vinyl records, perfect size.  Relatively easy to assemble compared to some Ikea products.  Looks good assembled.',\n",
       "  \"Perfect Shelving for Craft Room. Bought 3 of these, stacked them and anchored them and they work great in my wife's craft room. They are very sturdy, not too hard to put together either.\",\n",
       "  'So roomy!. I love it! This unit is very stylish but so practical! I was running out of things to put in there, really added needed storage to our small space without being so bulky. Those cubes are not to be underestimated! I have not found this value anywhere either, trust me I’ve looked!',\n",
       "  'Awesome Storage. I have purchased a variety of sizes and colors of the Kallax shelving units. I am extremely happy with them. I love the variety of baskets available to coordinate as well. ',\n",
       "  'great use. this is not the first shelf unit we have bought, they are great for any room in the house.',\n",
       "  \"Older versions SO much better.. The quintessential vinyl records storage shelf. I had an older version of this from like, 5+ years ago and it was actually kind of heavy, but i had acquired more records over the years and needed another one. This new version is super light and the printed finish doesn't look nearly as natural, so already you can tell quality has gone downhill (yet the price has gone up, go figure.) I got it set up no problem, but then had to have a guy from Taskrabbit come and install something in my ceiling above where this unit was in my apartment, and he dropped something on it which immediately put a big hole in it, because the outer frame isn't even solid particleboard anymore, it's HOLLOW!!! So be warned, it's total junk and VERY easily damaged.\",\n",
       "  'Love this shelf. Best purchase, so versatile and beautiful in any space!!',\n",
       "  'We have used this in. We have used this in walk in robe\\nLaid on side. Fits under windows \\nGreat for extra storage',\n",
       "  'Love my shelf and it. Love my shelf and it was easy to assemble. Added the wooden box/cabinet doors to the bottom shelves and it looks very stylish.',\n",
       "  'Very good. We purchased this shelf unit and 30” wide table top as a work station for my son’s room. They look very high quality and nice!',\n",
       "  'Great shelf. Easy to assemble. I bought this 1 month ago with the extra extensions for a desk and it is absolutely amazing! So functional and practical! I’d love to get another desk extension to put it on the other side.',\n",
       "  \"Versatile. Very happy. We needed something below our windows and we found it with this shelf unit. We added casters to keep things versatile and use the unit to display things, store office supplies, books and project materials. It's our TV stand and seasonal/holiday decorating platform.\",\n",
       "  'Great for Closet storage. I used 4 of these in my master closet to neatly store my things. Easy and quick to assemble, allowing me to set up our closet in short order.',\n",
       "  'Great for anything. I use for crafting , & for my decorations . \\nGreat for storage as well',\n",
       "  'Great for my sewing room.. I got my fabric out of the storage boxes and out where I can see them. This is working for me.',\n",
       "  'Versatile. You have many ways to can incorporate this piece of furniture in any room. I like the fact IKEA has the option to add doors to it or drawers or you can use baskets or the foldable cubes. I love it!',\n",
       "  'Great storage shelves. As a knitter I have lots of yarn. These shelves are very nice for holding my stash.',\n",
       "  'I love the cubes. I love how this shelf can be used horizontally or vertically. The bins hold sooo much stuff. Or you can use open cubes for books or whatnot! I have four of these types of shelves. All different sizes. Best way to hold and hide toys!',\n",
       "  'Shelving Unit. Very sturdy and well made',\n",
       "  'Awesome cubbies. Have bought these around the world. Always practical, cost effective and great looking',\n",
       "  'Love everything about this shelf. Love everything about this shelf unit except for the doweling that holds it together. Three broke while building the unit and there was only one extra in the box. Two trips to hardware stores later find that the dowels are longer than what you can buy so had to buy a really long one and cut to size. Shelf is sturdy once put together and looks great.',\n",
       "  'really nice shelf to put. really nice shelf to put tv on',\n",
       "  'Love the self. I love the shelf but the accuracy of what is on the selves vs what is showing online has not been correct the last two times I drove all the way to the store so pick up the item I was looking for. We aware of this! It is quite annoying!',\n",
       "  'Love this shelf!. Perfect to organize! I bought the 16 cube one, and purchased 8 of the IKEA cloth bins. Buy the IKEA bins they are huge and fit the space - unlike other bins you see elsewhere which are much smaller in size.',\n",
       "  'Great product!. Just what I needed to add to my craft room. Sturdy, great quality & easy to assemble.',\n",
       "  'Great Storage Cubes. Good quality and easy to assemble \\nHighly customizable and great for storage \\nUsed this for kids room to organize toys, books, legos, and other stuff.',\n",
       "  'Kallax Shelving. I’m an old vinyl Lp enthusiast/collector.\\nThese compartments in the Kallax line are a perfect fit for albums. \\nThis piece of furniture is solid, sturdy & very functional.',\n",
       "  'Great not expensive shelving unit. Great not expensive shelving unit with clean modern lines. Very happy.',\n",
       "  'VERSATILE!!!!. I was looking for a table to put in my entryway hallway and I couldn’t find one that I TRULY loved. When I saw this shelf, I LOVED how you can have it flat or standing up!!! Glad I found this!!!!',\n",
       "  'Fabulous Organizer. Top half is for our use of electronics and the bottom half is being used for our daughters toys and books. \\nLove this colour, very easy to assemble.',\n",
       "  '. THIS IS A GREAT SHELVING UNIT & COMPLEMENTS THE ROOM',\n",
       "  'Great for sewing room. Bought these as storage for sewing room. Put on a top and wheels. Works great',\n",
       "  \"Great. I used it to store my records and it works great! The Kallax is a classic Ikea piece and you can't go wrong with it.\",\n",
       "  'Awesome Storage. Super easy to put together and is extremely versatile..',\n",
       "  'Great Record Album Storage Unit. Excellent product. Solid construction. Simple assembly. Definitely does the job!',\n",
       "  'perfect for my clothes in. perfect for my clothes in my closet!',\n",
       "  'Perfect Piece for Our Master Closet. My wife was able to double stack two of these in our master closet. They fit perfectly.',\n",
       "  'Versatile for Display and Organization. Nice clean look for organizing crafts and other supplies.',\n",
       "  'Great shelves. Great shelves',\n",
       "  \"Nice looking shelf. Satisfied with the shelf. Dimensions are exactly as advertized. I could give 5 stars if most of the hardware used are metals instead of wooden pegs. In a couple of days you don't know the accumated weight loaded in each section.\",\n",
       "  'Great shelving option. A size and shape that works for any room.',\n",
       "  \"Perfect!. I purchased this shelf to use behind my teacher's desk to help organize my data. It worked perfectly! It basically is an extension of my desk and will be used as a second desk as well.\",\n",
       "  'Perfect fit for storage in the bathroom. This was a great purchase for price and quality. Love it.',\n",
       "  'Terrific Storage Possibilities . There’s so many ways to configure the Kallax system and that makes for so many storage options. ',\n",
       "  'Great shelf. Excellent addition to our bedroom library, we love the kallax series. Will probably be back for more. A two person job to assemble tho!',\n",
       "  'Good cabinet. Strong and sturdy shelves, easy to put together and looks great',\n",
       "  'perfect for organizing my fabric. perfect for organizing my fabric in my sewing room',\n",
       "  'Very handy. Bought these box shelves for the laundry, very practical and looks good!',\n",
       "  'versatile shelf. minimalist design. great as bookshelf, office and bedroom organizer.',\n",
       "  'Great inexpensive shelving unit that. Great inexpensive shelving unit that is functional and attractive.',\n",
       "  'Great shelf for holding records.. Great shelf for holding records. The core seems to made poor quality so that pricing is low.',\n",
       "  '. I love the shelves it Helps organize anything you want',\n",
       "  'Great organizer. Love these for organizing my space. They look great with inserts and serve as a pantry organizer, bookcase and storage. For small things. I used inserts to store odds n bits and open areas for books and display items. Baskets on the bottom for shoes amd tools. They are sturdy enough but could be better in that regard (material strength and stability). Not as rugged 💪 as they look. Went together perfectly. Good instructions, yay. Love that they included felt pads.',\n",
       "  'vinyl storage . great for my mid-sized vinyl collection, plenty sturdy and easy to make it work to your needs \\n\\nmuch easier to assemble with power tools, given tools are very rudimentary ',\n",
       "  'Great shelves. Nice looking shelves. Good quality',\n",
       "  'So versatile. So versatile. You can use this so many different ways bookcases shelving even storage for your clothes it’s fabulous You can use this so many different ways bookcases shelving even storage for your clothes it’s fabulous',\n",
       "  'Great versatile cube unit. I bought this almost a month ago. We had it as a shoe storage unit. Then we decided to turn it into a media center where we can have our house our nick nacks of places we have traveled.',\n",
       "  'looks nice and storage efficient. looks nice and storage efficient',\n",
       "  'nice shelf, very fragile. This is a great looking shelf, but the veneer is very fragile. DO NOT use a hammer or mallet when assembling. Body weight to push the shelves together worked.',\n",
       "  'Excellent storage. Fit in to my closet easily and great product',\n",
       "  'Fully versatile. It’s completely changed my space. I purchased two and replaced my dresser. I would have more surface area for my things like colognes, pictures etc. I have so much storage for clothes and books and knickknacks.',\n",
       "  'Storage cubes. Easy to assemble',\n",
       "  \"I love this shelf!. I bought this to put in our bonus room/play room and it is perfect! It's beautiful and it has so much space. Fits perfectly under the window. So glad I got it!\",\n",
       "  'Great and stylish shelf. This is the 3rd Kalkax shelf we brought and suits is perfectly. Whether it’s lying or standing it’s great.',\n",
       "  'Shelving. These shelves are so versatile and very sturdy. We have used them as bookshelves and organized exercise room for different equipment. Easy to put together and would recommend them.',\n",
       "  'Love this shelf. I love the versatility of this book shelf',\n",
       "  'Great Cubes!. I bought these for my craft room and I love them. I bought these because I liked the laminate feel and seems like they are going to last longer than other sets from another store I have purchased. As my husband was putting them together he said the quality of the cubes was a lot better than the BHG ones I bought from a big box store. The fabric cubes that fit these are really nice too.',\n",
       "  'Worth every penny . It is really great price for this beautiful shelf. I use it to hold my daughter’s toys. She’s a toddler and loves pushing toys in and out of the cubbies but my shelf still looks amazing. Definitely worth buying! ',\n",
       "  'Quality on a budget. Good sturdy shelves for a very reasonable price, looks great too!',\n",
       "  'The shelves are very spacious. The shelves are very spacious and hold my stuff nicely',\n",
       "  'Perfect for vinyl storage. If you collect records you probably already know about the Kallax series. The shelves are the perfect size for LPs, the units are cheap and look fabulous anyplace you put them. I purchased three white 8-cube units for my wife’s craft room, and currently have my records stored in three black 8-cube and a 4-cube. I am considering purchasing the 5x5 cube shelf.',\n",
       "  'Perfect hall shelving. The product was great for shelves in an entrance hallway. Good quality and value.',\n",
       "  'Great for any use!. I bought this about a month ago and I just love it, it’s a multi purpose shelving unit and can be used for anything! I love the Kaplan shelving unit range!',\n",
       "  'Great for Record storage. I really like this unit for record storage. It was exceptionally easy to assemble.',\n",
       "  'shelf unit. we bought this to store a large record (LPs) collection and it works perfectly. Records fit in very neatly and the stand holds the weight well.',\n",
       "  ' Versatile . This is a great piece of furniture that can be used in so many ways. Bookshelf, curio cabinet, room divider & organizer. The wood grain makes it more grown up and stylish. ',\n",
       "  'cuoboard storage eg. linen closet. this is the 3rd kallax this year easy to put together and can be used in multiple ways',\n",
       "  'Great storage system for the entire family. The Kallax storage system has been an excellent solution. In addition we purchased a couple of drawers and boxes to clean up the appearance and they work well too. Highly recommended for small spaces.',\n",
       "  \"Versatile Shelves. We bought this unit to use in our grandchild's play area. It will provide storage for a variety of necessary items. Can't wait to see it in action.\",\n",
       "  'storage superstar. For decades, Kallax (Expedit) has been my go-to for maximum flexible storage per cubic foot with minimal materials and assembly time. Indispensable!',\n",
       "  'Cubby. I bought this for my daughters sewing room and its absolutely great',\n",
       "  'Great Product. My son is quite happy with the amount of storage it provides. Just wish there was a better selection of the Kallax products. Would like some different sizes - but it appears it will be a while yet.',\n",
       "  \"Amazing versatile storage/shelf unit. I bought the Kallax shelf unit for the purpose of storing crafting items. I loved it so much, I bought another one! It's also very easy to assemble. I have set one up vertically and the other one horizontally. It has so many uses especially with the unique and variety of insert options that you can purchase with the unit. The opening of each cube is large enough to house all of my 12X12 crafting paper and so much more. I use it as a TV stand and to display other items. Again very versatile product. The inserts give each unit a different look. Highly recommended product that will meet anyone's needs!\",\n",
       "  'Great for storage. Great for storage',\n",
       "  'Art Studio Storage. This is my third Kallax unit. I bought two white ‘triple’ ones for my Antique Store. They have worked out splendidly for display of everything from linens to home decor accessories. In my Art Studio, the ‘oak effect’ matches my Sante Fe bookshelves, & I have placed this unit horizontally between them. I bought four of the Bullig Boxes for storage. These Bullig containers were easy to assemble, are extremely durable, & match the ‘oak effect’ Kallax perfectly. Absolutely love the look!\\nSuper Happy.',\n",
       "  'Love these Shelves. I have them in every room',\n",
       "  'Wonderful storage unit. I bought this Kallax shelt unit for my craft room, and it just fits great. It has a lot of storage room , which help organize all of my craft supplies.',\n",
       "  'Great shelving and easy to assemble. These shelves were perfect for my study. Easy to assemble and they look great as well.',\n",
       "  'Great storage. Pleased with how the shelves fit under the stairs to hold kids toys.',\n",
       "  'Great shelf. So glad I bought this as I wanted a simple yet visually appealing shelf and it turned out this was perfect!',\n",
       "  'Great shelf. I purchased this shelf about a month ago. It was easy to put together. Looks great, very sturdy.',\n",
       "  'Perfect closet organizer. I bought this last week to put in my closet and added collapsible boxes and I store all my clothes in it except the ones that need to be hung up.   I was able to get rid of one dresser and make more space in my room! Love it!',\n",
       "  'saving place. very nice',\n",
       "  \"Organising MUST-HAVE. I have 5 of these in my home in both black and white. They are so helpful in keeping things organized and they look great! They're so versatile in how they can look with the variety of baskets, bins, drawers and cabinet doors that are available that makes them even more useful. And the price is very affordable.\",\n",
       "  'Perfect!. I have a slide in closet and I have so many clothes and not enough room to put it I could not find a way to keep my clothes organized properly so I change my doors to bifold so I can see my whole wardrobe. Then I’ll put the shelf inside. The measurements are EXACT. I was hoping it would be slightly smaller like one of the comments said but yes it was exact size so I had a little bit of trouble putting it into the closet but when I got it in omg. My stuff has been so organized since no more mess or digging through boxes to find my clothes. I love that I’m able to now stuck my clothes in the bins and have each individual been separate for clothes. It’s also worth the money because My friend suggested to just buy individual squares and put my bins in but they’re normally around $20 each and if I got 8 of them you would be paying over $180 easily that way. But this only $69 and with bins it was like $110. I also love that I can customize this into cabinets or doors later on if I wanted to.',\n",
       "  'Bureau Alternative. We used this in our closet to store clothes to get rid of furniture in our bedroom. It works great.',\n",
       "  '. Bought 2 of these last month and they were just what I needed to tidy up. My vinyl records fit perfectly and wine bottles stack well on the shelves, and there’s plenty of room for books and paperwork. Oh it was so quick and simple to assemble also.',\n",
       "  'Beautiful sturdy shelf unit.. I love the two tones on the item. Beautiful! We’re super happy with our purchase',\n",
       "  'Nice quality. We purchased this for granddaughters room. Nice shine on surface and holds plenty of items and containers in shelving.',\n",
       "  'Closet makeover. Kallax pieces worked great for closet storage',\n",
       "  'Excellent Product. I brought this for what started as some storage space but it changed when I started added and experimenting different Ideas such a versatile product. LOVE it',\n",
       "  \"Dependable Easy Storage. The kallax range is dependable and offers easy storage for any household? There's not really anything to write except that it's dependable and works\",\n",
       "  'Great multipurpose shelf. This is an attractive, multi use shelf at a good price. We use it for books and art materials.',\n",
       "  'Simple and good looking storage solution. The Kallax is a versatile and good looking storage solution. Very easy to assemble.',\n",
       "  'great closet storage, bought 3!. Sturdy and attractive.Wish I could get matching drawers and doors for this colour though.',\n",
       "  \"Build your own media centre. These are stackable, mountable on your wall, and we used three of them to be our media centre for music collecting. We collect vinyl and cd's and were able to make a custom system that worked for us and our home. We have many Kallax products throughout our home.\",\n",
       "  'Looks great and seems sturdy. We have had a similar IKEA shelf that has served us well for the last 10 years. We needed another one to organize pantry food. Looking forward to keeping potatoes in the Bullig box and really like the Inserts that are available.',\n",
       "  'Great shelf. We have around. Great shelf. We have around 4 of them around home, which being used as a toy, book storage, foyer desk/hats/bags storage and even as a PC desk. They last long, considering that they are made from recycled material. With the soft inserts is a perfect storage solution.',\n",
       "  'Kallax units. I love the Kallax cubicles for all of my craft room storage needs. Storage is neat and maximizes the space.',\n",
       "  'Good, quality shelf. We have now purchased 3 of these units. They are built well and serve the purposes they were need for.',\n",
       "  'The Reigning Champion of Storage. We have Kallax units of varying sizes throughout our house and love the flexibility the bring to storage. Our 2 by 4 units in black/brown flank our Brimnes TV stand a bookcases to create a wall of storage options in our living room. When the holidays roll around the light material the Kallax units are made of lets us easily move them to the garage while our holiday decorations are up. What more could you ask for if it looks great and is highly functional?',\n",
       "  'Perfect storage. Bought this and turned it on its side to use as a sideboard. The packaging was an issue for me as every single piece had shrink wrapped plastic covering all edges and sides. It took the same amount of time to remove all the plastic as assembly as there are no tabs to peel it.',\n",
       "  'Shelving. Placed horizontally in my classroom - very solid, holds LOTS!!!',\n",
       "  'Perfect closet storage. So happy I bought this. Easy to assemble and great storage',\n",
       "  'Love my kallax…best cube storage. I bought this for my dining room because it perfectly fits vinyl records inside and my player fits nicely on top with plenty of room for my bar accessories and alcohol. Looks really nice and much sturdier than other units from Walmart and Target'],\n",
       " 1: ['All products easily assembled and. All products easily assembled and work well',\n",
       "  'Easy to assemble. Excellent strong & secure',\n",
       "  'Funcional. Easy ensamble',\n",
       "  'simple and elegant. simple and elegant',\n",
       "  '. So happy I bought this. Quick to assemble. Perfect for the grandchildrens books & toys.',\n",
       "  \"Hugh. This was bigger than we expected for some strange reason. The quality is good and reasonable to put together. It's great to use either way.\",\n",
       "  'Easy!. Went together quickly and easily, looks great…,',\n",
       "  'great. this is a wounderful product easy to put together',\n",
       "  'easy to assemble. I bought 3 of these for our new business to display products. I turned it on the side so works perfectly underneath display windows as well.',\n",
       "  'Love it. Easy to assemble, looks great & can add to it.',\n",
       "  'Easy to assemble. Easy to assemble',\n",
       "  'Practical. Practical',\n",
       "  'Great product for your money!. Great product for your money! Didn’t take as long as I expected to assemble.',\n",
       "  'Easy!. Easy to put together, nice looking and solid construction. Love it!',\n",
       "  'Perfect for my needs. Easy to assemble, looks solid!',\n",
       "  \"Easy to build!. This was one of the easiest pieces of IKEA furniture I've ever had to build. You do need two people! But my husband and I out this together in less than a half hour. I'm using it as a bedside shelf/table for extra storage in our small room. I do wish it had a few more screws in the center to stabilize it further but mostly it's just wooden pegs in the center parts. So it's not the most sturdy thing ever. I do wish they had a dark brown option but I may stain it.\",\n",
       "  'easy to assamble, great for. easy to assamble, great for small space,',\n",
       "  'Very easy to put them. Very easy to put them together.',\n",
       "  'Easy to assemble. I bought this to use as a dresser for a child. Works very well and I was able to build it on my own and I’m not very handy so that’s a plus.',\n",
       "  'Easy. Bought these to organize my basement storage . Works for keeping things in order and easy to find. Looks good.',\n",
       "  '. i love it...worth the money..just hate to set it up',\n",
       "  '. Easy to assembly and is not heavy',\n",
       "  \"I actually get my unit. I actually get my unit from the As-Is section. It was already assembled. It is also very lightweight, so very easy to move. Did hack with it so I actually had to removed some shelves, which was easy to do which tells me assemble wouldn't be that hard. I love these units because they are so versatile.\",\n",
       "  'Simple to erect. Fit for purpose and kids can use safely',\n",
       "  'Beautifully Basic. I bought one of these for myself, and my Mum loved it so much I had to go get one for her.',\n",
       "  'Love the turn out! I. Love the turn out! I wish it wasnt cardboard inside and a tad bit more stable since not stablizing against a wall. Otherwise love it. Definitely planning on getting another.',\n",
       "  'easy to put together. easy to put together',\n",
       "  'Ok but assembly Diagrams could. Ok but assembly Diagrams could be clearer.',\n",
       "  'Versitile pube and easy to. Versitile pube and easy to assemble. Great value for money.',\n",
       "  'EXCELLENT PRODUCTS AND EASY TO. EXCELLENT PRODUCTS AND EASY TO ASSEMBLE.',\n",
       "  'Easy to assemble!. I bought this a couple of weeks ago and it looks great in my room.',\n",
       "  'Excellent product , very easy. Excellent product , very easy to put together',\n",
       "  \"Easy to put together looks. Easy to put together looks lovely. Unfortunately one was damaged within 24 hours extremely easily. As the material is like thin frail plastic on sides, top and bottom. Still works and was able to rig up a fix with iron on melamine and self adhesive vinyl. Can't tell there was ever a hole.\",\n",
       "  'Easy to assemble. Perfect storage. Easy to assemble.\\nPerfect storage for my art/craft studio.',\n",
       "  'versitile. versitile',\n",
       "  'Love it. Just love it and it is easy to assembly. Wish it has wheels options too.',\n",
       "  'Quality and Easy to put together. I ordered 2 of these bookshelves for a living room I am remodeling. I put them both together yesterday, by myself, and was impressed with the quality and the appearance and the ease of putting them together.',\n",
       "  'Great purchase.. A friend found the instructions really helpful and easy to assemble; the product looks very stylish.',\n",
       "  'I found these products rated. I found these products rated as below. easy to assemble and found the tools very useful. so far I am happy with my purchase.',\n",
       "  'Love it! Great for organizing. Love it! Great for organizing and looks lovely.',\n",
       "  'Easy to assemble. It’s easy to assemble. Can do it with one person but easier if there is another person to help. It’s typical IKEA quality material - soft, so be careful with your hammer. But given its low price, still very good value.',\n",
       "  'Nice, simple but good quality. Nice, simple but good quality',\n",
       "  '. Easy to put together and looks great',\n",
       "  'Nice for the price. I purchased two and put them together by myself in less than an hour.',\n",
       "  \"It was easy to assembled,. It was easy to assembled, I did it myself. I'm eighty years old. If I did it , anyone can do it!!!!\\nGreat IKEA!!!!\",\n",
       "  'Easy to put together. Bought two previously and then another one. Excellent shelving',\n",
       "  'Great product! Works well for. Great product! Works well for what I purchased it for. A small bit of human error when assembling. Had to take one side off because I put it on backwards.',\n",
       "  'Easy to construct. Easy to construct',\n",
       "  'awesome product. I  love the ease of putting it together, it looks cool too and I would say Awesome product in a very reasonable price. Now I have almost 5 of these .\\nThank you',\n",
       "  'Super easy to build and looks amazing.. Super easy to build and looks amazing. I built this by myself, it took me about 1 1/2 hours to complete.',\n",
       "  '. easy to put together and perfect for its purpose',\n",
       "  'Answer to my new years resolution.. Easy to.assemble. roomy. Would buy again.',\n",
       "  'fairly easy to assemble. Assemble. fairly easy to assemble. Assemble in room where needed to avoid carrying to another floor.',\n",
       "  '. Love this item. So easy to put together and can be used in so many different ways',\n",
       "  'Super easy to put together. Loved putting this together. I did it at 7 months pregnant with a 3 year old \"helping\". No heavy lifting or difficult assembly. Looks great and seems nice and sturdy.',\n",
       "  '. Really useful, easy to assemble, looks good',\n",
       "  'Love these easy to set. Love these easy to set up',\n",
       "  \"Big and easy. It's big but small size and style ,holds plenty and look great and as always easy to assemble.....\",\n",
       "  'Easy peasy. Great shelf, easy to put together; looks great with the bins in the spaces',\n",
       "  'Just right. Easy to assemble, good price and the high gloss white finish just looks so good.',\n",
       "  'I love it. This item looks tidy , sturdy and modern, very easy to assemble. I like it',\n",
       "  'SO EASY TO PUT TOGETHER!. I am so happy I bought this shelving unit! I am using it for horizontal shelving to store kids toys in. Easy to follow directions with all the needed tools included.',\n",
       "  'So easy to assemble!. Love this unit I bought 2 laid them on the side put legs and an island top sewing room cutting table. A 3rd unit stands verticals and holds fabric.',\n",
       "  'Overall great product. Great product easy to build and looks good',\n",
       "  \"Easy Assembly & Compact. This is being used in my wardrobe as I didn't have any shelving in my new apartment. it is perfect using the various cube storages available it is nice and neat.\",\n",
       "  'Easy to put together. Looks good, everything fit together nicely. Fits my space nicely. Not heavy.',\n",
       "  'Easy to assemble!. Love the look and durability!',\n",
       "  'Easy assembling good material and. Easy assembling good material and nice appearance',\n",
       "  'Very easy to put together. Very easy to put together',\n",
       "  'Easy to put together, great. Easy to put together, great space saver',\n",
       "  'Great system. Bought this about 1 month ago and was do easy to put together',\n",
       "  'Easy to put together and beautiful when done. It was great to put it together and put it up in one day and make it look beautiful and I’ve been able to distribute my craft supplies in an organized fashion.',\n",
       "  '. Great product and easy to assemble',\n",
       "  'Easy to put together and. Easy to put together and very light to move around.',\n",
       "  'Easy to assemble. Was quick to put together in a short time, serves its purpose well as a shoe shelving unit near our entry door.',\n",
       "  'Fantastic. I bought this item very easy to assemble and very functional in many different ways',\n",
       "  'Easy to assemble . Product does what I expected and was easy to assemble. ',\n",
       "  'It was easy to assemble. It was easy to assemble it. But the quality was not that great. When I opened the box. Some edges of the parts were chipped.',\n",
       "  \"Easy to assemble & Sturdy. I own a preschool and have purchased 7 Kallax units for my classrooms. I place them horizontal, and they're a great height for the children.  I've brought different colors (white, yellow, and pink- which is no longer made) over a year ago, and they still look like new. I just purchased black, awesome for the older children. Kallax are sturdy and good quality, and theseare wiped almost daily for cleaning. Good price, too.\",\n",
       "  \"ease of construction. good 'construction' experience- bonded with teen-aged son :)\",\n",
       "  'Easy to assemble and looks. Easy to assemble and looks sleek anywhere',\n",
       "  'Easy to assemble. So easy to assemble, and a dream for display / storage. Handy and timeless.',\n",
       "  'Simple and clean organization. Easy to assemble but do need 2 people as the instructions indicate. A nice utilitarian way to organize any space. Very versatile. Can be used horizontally, vertically, on the floor or hung on the wall.',\n",
       "  \"Simple but perfect. Whilst there is nothing flash about this product, it's lines are clean, it is easy to put together and it does a great job. Very happy with my purchase.\",\n",
       "  'Easy to put together and serves its purpose. Well done for a bookcase without a back to it',\n",
       "  'Easy to build. I actually bought three of these to make a large entertainment unit. I’m buying 2 more for my bedroom.',\n",
       "  '. Easy assembly, sturdy once up, looks great. My only advice/complaint is not to use a hammer to pound in the pegs, the edges of the laminate will chip. Unfortunately, my hand is not up to pounding zillions of pegs in.',\n",
       "  'Beautiful to look at, but very fragile. This is a joy of a product to have. The functionality and features with the additional options make this perfect for all kind of functionality. It’s just that the external frame is very fragile and easily damaged showing the honeycomb paper/cardboard mix under.',\n",
       "  'Very easy to assemble. Good. Very easy to assemble. Good quality',\n",
       "  'Easy to assemble and finished. Easy to assemble and finished product looks great!',\n",
       "  'Great product. Easy to put together, looks great and feels solid not flimsy at all.',\n",
       "  'Great Product!. Easy to put together, finished product is beautiful and very sturdy.',\n",
       "  'Excellent item, looks beautiful in. Excellent item, looks beautiful in the space, easy to assemble and so lightweight',\n",
       "  'Perfect 👍🏼 . Easy to assemble 3/5\\nValue 5/5\\nFunctionality 5/5',\n",
       "  'Easy to set up. Easy to set up',\n",
       "  'easy to assemble. easy to assemble',\n",
       "  'Easy to assemble. Compact. Strong. Easily assembled. Easy to move from place to place. Versatile. I own 5 of them.',\n",
       "  'Super. I love this. Cleared out clutter in my kids room. My maid and I managed to make this in under 30min. Recomend you watch a youtube assembly tutorial video, and have a hammer and a friend/helper handy.',\n",
       "  'Simple & stylish.. Perfect size & fit for my purpose.',\n",
       "  'The assembly was straightforward, and. The assembly was straightforward, and the durable materials ensure longevity. Overall, a practical and stylish addition to my home.',\n",
       "  'Easy to assemble. Liked it so much I bought a second one',\n",
       "  'Simple, easy to assemble and. Simple, easy to assemble and looks good',\n",
       "  'Excelente. Excelente',\n",
       "  '. Love it. Very good quality and easy to assemble',\n",
       "  'Easy to make. Easy to make. Looks good in my studio',\n",
       "  'Easy construction. Good looking unit. Fits nicely in my lounge and takes little space and stores lots of items neatly. Easy to put together if you follow the instructions.',\n",
       "  'Nice and Easy. Looks nice and is easy to put together. Can’t go wrong. Third one I’ve purchased in this model.',\n",
       "  'Easy assembly . Looks great in my new sewing roo',\n",
       "  'Easy to understand instructions. Purchased 3 weeks ago Assembeled 45 mins ( I struggle with DIY) which is amazing for me. Product is sturdy, no movement at all. LOVE LOVE LOVE this item.',\n",
       "  'Easy to assemble. Pretty and easy to assemble.',\n",
       "  \"Love it. Exactly what I needed to keep place looking neat and organized.  Quick and easy to assemble. Didn't need assistance, but did end up breaking two of the wooden pegs trying to maneuver by myself.  There were two holes predrilled - so it wasn't a big deal. Just popped the extra pegs in the other holes and all was well.\",\n",
       "  'Very easy to put together!. Beautiful glossy white reconstructed wood slabs. Directions suggested two people put this together, but one could very easily do it! I needed this to help me organize the stuff in my room and it works well.',\n",
       "  \"Easy to put together. Great. Easy to put together. Great storage capacity. Perfect for a room or closet. I've bought several of these for my daughters' condos.\",\n",
       "  'Super easy to put together,. Super easy to put together, looks great in our kid’s playroom!',\n",
       "  'Super easy to install and functional to use.. Highly recommend these great bookshelves. Very easy to build. Lots of storage options.',\n",
       "  'Easy to build. Easy to build and looks great!',\n",
       "  'Great Purchase. I bought this for my son toon easy to assemble',\n",
       "  'Very simple to assemble and. Very simple to assemble and lightweight. Tools are improved.',\n",
       "  'Easy to assemble and looks. Easy to assemble and looks great in my office space. As expected. Price was okay.',\n",
       "  'Excellent. Best product ever, easy to assemble, easy to use',\n",
       "  'Never go Wrong. Perfect and easy and very easy to put all\\ntogether',\n",
       "  'Simple to assemble and solid. Great piece and I can see why it is so popular!',\n",
       "  'Great product. Simple to assemble.. Great product. Simple to assemble. Practical',\n",
       "  'Highly recommend. I have 3! Easy to put together and I am a 68 y o widow that has to do things herself!',\n",
       "  'Easy to assemble,look good,perfect for. Easy to assemble,look good,perfect for organized',\n",
       "  'Fantastic. Exceptional value for money, easy to assemble and can be used horizontally or vertically.',\n",
       "  'This are great!. I wish these were not so easily broken or chipped.',\n",
       "  'Easy to put together !. Great looking shelf!',\n",
       "  'Great Product. Easy to build. Quality product.',\n",
       "  'Easy to assemble!. We bought the 8 and 4 shelf units and stacked them next to a 4 shelf unit that we already had. Works great and looks great! Very happy!',\n",
       "  'Simple and nice. Simple and nice',\n",
       "  '. Beautiful. Easy to ensemble',\n",
       "  'Easy to assemble. Easy to assemble',\n",
       "  'a Easy to put together.. a\\nEasy to put together. Surprisingly lightweight yet holds a lot of heavy books.',\n",
       "  'Easy to put together. Easy to put together',\n",
       "  'Loved. Good , easy to assemble, looks good and at a good price.',\n",
       "  'Solud easy to assemble. Solud easy to assemble',\n",
       "  'Easy to assemble. I bought two and they are perfect for toys placed on their sides long way.',\n",
       "  'Nice product. Only issue is too easy to scratch or take finish off.',\n",
       "  'Easy to assemble. Easy to assemble',\n",
       "  '. Love these. And really easy to assemble.',\n",
       "  'It was easy to assemble.. It was easy to assemble.',\n",
       "  'Easy to assemble. I purchased two units recently and was very pleased with the quality and how easy they were to assemble.',\n",
       "  'Great product!. So happy with this product. It was easy of assembly and it has a great quality!',\n",
       "  'Simple assembly and exactly as. Simple assembly and exactly as promised.',\n",
       "  'Easy and looks. Easy and looks',\n",
       "  'Great!. It looks great, easy to put together; does the job!',\n",
       "  'Easy to put together. Outside. Easy to put together. \\nOutside dimensions need to be more accurate. Just fitted in the space allocated.',\n",
       "  'Super great. Super easy to assemble, looks great and works great as well.',\n",
       "  '. I just love it!! Very easy to put together.',\n",
       "  \"Quick and easy to build. Incredibly sturdy!. My husband and I put this together in under 20 minutes. Was exactly what we were looking for for our basement. Shelves are really sturdy and thick enough to where I don't anticipate them bending like other inexpensive shelves have a tendency to do. Fits our space great. Will likely buy a second!\",\n",
       "  'Easy to assemble. Good looking, easy to assemble, tools provided, good instructions',\n",
       "  'Easy peasy. Pretty easy to put together alone. It’s a great and sturdy piece.',\n",
       "  'Great Purchase. I purchased two of these. It’s easy to assemble! Love them.',\n",
       "  'Love this item. Easy to. Love this item. Easy to assemble and looks great. Will purchase more in future',\n",
       "  'Quality and Easy assembly. Fine quality, easy to put together.',\n",
       "  'Perfect. Exactly as I imagined. Easy to put together',\n",
       "  'Love this piece. It was a little difficult to build but I did attempt and eventually manage it by myself, despite the instructions recommending two people. It looks great and it’s perfect for the spot I needed to put it.',\n",
       "  'Easy to assemble and fit-for-purpose. Excellent sturdy shelving. Easy (actually fun!) to assemble. Useful that it can be positioned either vertical or horizontal depending on user needs - easy to adapt to suit a new space if necessary. Also looks good! I left one screw sitting a little out and use it to hang things. Really happy with this purchase and recommend.',\n",
       "  'Great product as always. Easy to assemble, good looking product. \\nThe surface will mark easily, so do follow instructions when assembling and place a mat underneath. Also place the provided non marking pads, or better, get your own felt pads and place underneath. \\nLooks great and will last a long time.',\n",
       "  '. Love it. So simple. Easy to put together but definitely easier with two people.',\n",
       "  'Straightforward instructions. Easy to assemble, but necessary to pad the hammer before inserting in the wooden pegs; to prevent cracking the gloss finish. \\nThe cubes are an extremely efficient use of space.',\n",
       "  'Basic building blocks. It serves its purpose well',\n",
       "  'Very easy to assemble and. Very easy to assemble and super sturdy!',\n",
       "  \"Very easy to assemble. Very easy to assemble and a beautiful shelf. It even comes with the felt stick-ons so it doesn't scratch the floors or shelf when moving it around the house. Would definitely recommend.\",\n",
       "  'Love it! So easy to. Love it! So easy to put together.',\n",
       "  'Simple / easy to DIY.. Shelving unit took us sometime to make(obviously cos both my husband and I are not very handy with the DIY furniture). When it was fully done, we just loved it. My kids have been using this a mini library unit.',\n",
       "  \"Easy assembly & stylish. Exactly what I was looking for. Looks great. Using it in home office. Hopefully the paint won't scratch off 🤞 too quickly.\",\n",
       "  'Easy to assemble. Works perfectly. Easy to assemble. Works perfectly for what I need.',\n",
       "  'Easy to establish. Easy to establish',\n",
       "  'Very easy assembly and looks. Very easy assembly and looks fantastic',\n",
       "  'Super easy to build. I am a 13 year old and this was very simple to build! I only needed my dad’s help twice!! The end result is super nice it is great! im on my dads account btw',\n",
       "  'Great product. Perfect size fir what I needed. Easy to put together. This is the third one I’ve bought',\n",
       "  'Was so easy to put together.. I got it in sale for $50. It was so easy to put together (I did mine alone by assembling it on the box and rotating up and down and using a piece of cardboard from the box to create a gap for lifting on each side). I am using it sideways like a buffet and got white inserts for my storage. I also picked up some baskets from Target to insert into my unit.  I love it! Looks fantastic!',\n",
       "  'Clean and easy to assemble. Clean and easy to assemble',\n",
       "  'Good, practical. Good, practical',\n",
       "  'East assembly & not too big!. Great for discreetly putting knickknacks or small items (if you buy the box inserts with it). We bought two - one for bathroom toiletries/towels/miscellaneous & one for our entrance for our shoes (great for toddlers), scarves, hats and gloves. We love how it can make our space look clean and minimalistic.',\n",
       "  'Great product for our needs. we saw the product in the store and We loved it the first time we saw we bought it. It was easy to put together and it works great for what we need it for. I would recommend it to anybody who can use it.',\n",
       "  'Easy Organizational Unit. It was easy to put together and fill with all my sewing room goodies. It looks great!',\n",
       "  'versitility is great. easy to assemble, easy to move around, versatility is great. décor is spot on. perfect for storage.',\n",
       "  'Easy to assemble. Love the versatility',\n",
       "  'Amazing. It so easy and quickly to assembly. Strong and good quality',\n",
       "  'Easy to put together - practical and stylish. So easy to put together & looks great!',\n",
       "  \"Easy to put together and set up. The Kallax Shelving Unit is a great product. I used it horizontally and filled it with Drona containers. It's perfect for my sewing room.\",\n",
       "  'Easy to assemble. Great shelving unit, minimal and easy to assemble. Very happy with it!',\n",
       "  'Ease of assembly. It is exactly what my grandson wanted to show of his items.',\n",
       "  'Great product!. Easy to assemble. Light weight but very sturdy.',\n",
       "  'Practical and beautiful. Easy to put together and very functional. Simple and great',\n",
       "  'Easy set up and looks. Easy set up and looks good',\n",
       "  'Easy to assemble. Great addition for extra storage space, especially when using box inserts, of which many types fit this unit so can mix it up for a great look.',\n",
       "  'EASY AS. Looks fantastic,went together very easily and is strong.',\n",
       "  'Easy assembly. Will use it inside a closet to organize craft materials. Very well finished and should not snag stored items. Easily moved after assembly.',\n",
       "  \"Easy to assemble!. Bought this when very tired and overwhelmed. Has negative thoughts about assembly, but happily wrong! Good for the cook and grandchildren's books and good for the psyche as well!\",\n",
       "  'easy peasy. It was easy to assemble, clear pictures of how, but does require two persons.',\n",
       "  '. I have had many of these before and they are always worth their money. Cheap, easy to put together and last!',\n",
       "  \"Very easy to assemble. I'd like to have seen when two units are put side by side the extra frame parts makes it look chunky and odd.\",\n",
       "  'clean and simple. Relatively easy to assemble and easy to store. Also good to display.',\n",
       "  'Easy to put together, looks. Easy to put together, looks great',\n",
       "  \"So easy to assemble!. I purchased two of these shelves 3 years ago for the first time while on sale. I love the versatility of these shelves. The bookcase can be used standing upright or laying down on the side. And it's sturdy. Assembly was a snap.\",\n",
       "  'Easy to put together because of precious build. I have three different sizes in the Kallax Shelf units. This one was for my sister who has a mini-kitchen and needed more storage. She is amazed at the easy of putting this together and how much storage these shelves provide.',\n",
       "  'easy to put together. downsizing into smaller storage/display cabinets. lightweight and small enough to transport easily when we move.\\nversatile and nice looking.',\n",
       "  'Definitely a two person job. Definitely a two person job due to the weight but manageable',\n",
       "  'Good product, easy to assemble solo.. Bought this product a month ago, works as expected.',\n",
       "  'Great product. They go together easily, look great, sturdy and functional.',\n",
       "  'It was very easy to. It was very easy to assemble, looks great for what I needed it for',\n",
       "  'Super easy to put together.. Super easy to put together. I did it by myself in roughly 30 minutes. It feels pretty sturdy.',\n",
       "  'Nice, modern and elegant ;). Nice, modern and elegant ;)',\n",
       "  \"Easy to assemble, sturdy, and looks great!. My husband had no trouble assembling the bookcase (which cannot be said for several other IKEA items we've purchased that were more difficult). It is very sturdy and looks fantastic (soooo much nicer than particle-board bookcases we have bought in the past). We chose to use it horizontally as a toy cubbie for our son, and we bought the corresponding DRÖNA boxes/bins.\",\n",
       "  'Easy to construct and great. Easy to construct and great storage!',\n",
       "  'Easy to put together. Very. Easy to put together. Very functional. Love that I can use it horizontal or vertical. I also bought divider and drawer inserts to give it more function and nicer look.',\n",
       "  'Loved the item. I bought it to use as a buffet and loved it. All my items and books nicely placed and the assembly was very straight forward ',\n",
       "  'Easy and reliable. International standard.World wide acceptance.',\n",
       "  'Great. Easy to assemble. Exactly what we needed',\n",
       "  'Easy to assemble, integrate seamlessly. Easy to assemble, integrate seamlessly in the room and holds so much efficiently',\n",
       "  'Easy assembly. Easy and fast to assemble. Love the shiny white finish.',\n",
       "  'Great Features. This is my second one and is easy to put together. It holds everything I need it too.',\n",
       "  'Easy to assemble and looks. Easy to assemble and looks great in the room',\n",
       "  'Love it!!. I love this so much. Easy to assemble, I was able to do it with no help at all. It looks very pretty and a great way to display and store your things.',\n",
       "  'Great Piece. Assembled quickly by myself.\\nVery sturdy and well made pieces.\\nPrice was reasonable and I expect it to last a lifetime.',\n",
       "  'Quick and easy to put. Quick and easy to put together and it looks great.',\n",
       "  \"Super easy to put together. Really love the two kallax that I bought, they're perfect for textbooks and figurines, manga is okay, you'll have to get risers but they work well! They seem to be steady enough, but don't over tighten the screws when piecing it together. They're light enough for a single person to carry them, and took about 20 mins to put together.\",\n",
       "  'Easy assembly!. I bought several of these in various sizes for my 3 granddaughters. They love them! Plenty of space to display all their things. Assembly was easy and came with everything you need. One thing I did was to glue each piece with wood glue as I assembled it to ensure years of use. Very happy with this unit!',\n",
       "  'Love it!. I didn’t know how much this was missing in my life! Easy to assemble. Very sturdy! Looks great!',\n",
       "  'Easy to put together. Easy to put together',\n",
       "  'Simple and effective. Looking forward. Simple and effective. Looking forward to buying the baskets to insert.',\n",
       "  'Simple design, easy to assemble. I bought this and then I bought another and the simple design works well with our decor.',\n",
       "  'Easy to assemble. Love my new Kallax unit. It was easy to assemble and looks great. IKEA, legos for adults!',\n",
       "  \"Easy to put together, looks great. Very easy to put together. Looks very modern and clean. Works perfectly in our playroom for multiple gaming systems. Each system has it's own spot with a basket for the games below it. Worked out great!\",\n",
       "  'Excelent, easy ensamble. Excelent, easy ensamble',\n",
       "  'Easy assembly, looks good!. As above and versatile. Can go horizontally or vertically. I really like the look and easy for a 73 yr old to assemble!',\n",
       "  'Easy to Put Together!. Needed more shelfing in my sewing room and this was perfect! Smooth surface to lay fabrics on plus great size all together!!!',\n",
       "  'Easy to assemble!. Works great for my needs.',\n",
       "  '. Easy to assemble. Fits my needs. A good looking piece of furniture.',\n",
       "  \"Quick and sturdy!. My girlfriend and I built this in under 30 minutes and it's sturdy enough that she's using it as part of a bed frame. Works great!\",\n",
       "  'Easily assembled. Chair went together well',\n",
       "  'Easy assembly. Works great for storage in my sewing room.',\n",
       "  'Easy to build kallax shelving system. Easy to build flat pack system. Bought two kallax she ling units and set up both fairly quickly. Fairly priced product. Would recommend to friends and family.',\n",
       "  'easy to put together, looks. easy to put together, looks great in the space',\n",
       "  'Useful and easy. Very easy to put together, quality looks good, we put it inside our wardrobe to have more seperate spaces for different categories of clothes.',\n",
       "  'Great features. Purchased a month ago ages assembled it that same night. Super easy to do.',\n",
       "  'Great Purchase!. Can never go wrong with this product. Assembly was easy and my home office looks like it got a makeover! It looks more organized and inviting.',\n",
       "  'Easy to put together and looks Great . I bought a dolly so I could bring this and other purchases to my apartment from IKEA. It was easy to put together, IKEA supplies the tools. If you are going to attach the wall unit to the wall you will need a screw driver. Other than that it looks Great. IKEA has different sizes of this shelving unit. ',\n",
       "  'Easy to assembly and it looks good. It took me few minutes to understand the instructions but one I figure it out it was easy',\n",
       "  'Love this. Easy to assemble by my self. Great for organization.',\n",
       "  'Easy to install, fun family time. My 5 year old helps daddy to assemble them.',\n",
       "  'Simple and effective. Easy to build, easy to use and lots of different availability on bins to use.',\n",
       "  'Easy to assemble. Easy to assemble',\n",
       "  'Easy to assemble. Happy with my product, easy to assemble.',\n",
       "  'Great purchase and was very. Great purchase and was very easily to assemble, was slightly chipped but couldn’t be bothered to return it as it has always been out of stock and really needed it. No regrets getting it though 👍🏻',\n",
       "  'very easy to assemble, does. very easy to assemble, does the job, I got it at half price, so value for the money absolutely!',\n",
       "  'Simple and Reliable. Simple and reliable, good looking, a little bit on the expensive side but still worth it.',\n",
       "  '. Was surprised at how easy to assemble.',\n",
       "  'I love it!. Easy to put together. looks clean and minimalistic.',\n",
       "  'Easy to Assemble. I’ve had Billy bookcases my entire life, but the Kallax is superior, takes me less than 15 minutes to secure. I gave away my Billy’s. Kallax is beautiful. Hopefully they will restock. Rebuilt my entire library with them.',\n",
       "  'Great product. Excellent quality and great accessories. This was fairly easy to put together and a much better quality and size than cheaper versions from other stores. Having recently purchased and built both I would buy this one again and not the other.',\n",
       "  \"Assembly of unit. When putting the shelving unit together we encountered issues with the holes that the long screws go into were not long enough. We had to use a drill to make the holes deeper in order to finish putting the shelves together. While I like the looks of these shelves, I'm not really impressed with the product. \",\n",
       "  'Easy to build. I bought 2 of these for my classroom to use as cubbies. I built them both on my own in about an hour. Instructions are easy to follow and comes with everything you need except the hammer. You only need the hammer to tap the wooden pegs into place.',\n",
       "  'Very good product . Great looking and easy to assemble. Quality is impressive ',\n",
       "  'Simple, gorgeous, affordable. Easy to put together. The make and materials are good quality. I love it, more than worth the price.',\n",
       "  \"Easy to Assemble & Quality for Money. I've had this series of products for many years and am quite happy with them. Therefore I bought two more for my son't unit to organise his books and stuff.\",\n",
       "  'It was easy to assemble. It was easy to assemble but definitely sturdy! It is perfect for my needs.',\n",
       "  'Easy to assemble.. Easy to assemble. Looks great.',\n",
       "  'excellent construction. Easy to assemble with good instructions. Product looks great and exactly as displayed in store.',\n",
       "  'Easy to put together looks. Easy to put together looks lovely very smart.',\n",
       "  'Easily to assemble if you. Easily to assemble if you follow the properly the instructions. It is a very good products. I love the glossy white better because it easily to clean and the one mat white tends get dirty easily . I think it is one the products useful for tidy home.',\n",
       "  'great product. It was easy to put together, and fast. Looks great once it is put together',\n",
       "  'Overall a good product. Disappointed. Overall a good product.\\nDisappointed that when unpacking to assemble it I found there was a couple of small chips on the surfaces.',\n",
       "  'I love this product. But. I love this product. But the assembly instructions are bad.',\n",
       "  \"Highly Recommend. I bought this so my ikea detolf can sit lie on it (I'm using the detolf for a gerbil cage).\\nIt was very easy to assemble; the instructions were clear & it's very good quality. I just need to buy the inserts for it.\",\n",
       "  'Wonderful. Great product, easy to assemble & works perfectly.',\n",
       "  'Easy to assemble. I was able to assemble this unit in 40 minutes. The instructions are clear on what needs to happen.',\n",
       "  'Easy to put together. Only wish it came in proper black not brown / black',\n",
       "  'Always suits best. Very easy. Always suits best. Very easy to assemble and not heavy components.',\n",
       "  'Easy to assemble and looks. Easy to assemble and looks great',\n",
       "  'Easy to put together. Easy to put together',\n",
       "  'Perfection. I bought this a few weeks ago for my She Shed. Extremely easy to put together and the instructions were clear. A great solid unit. Good choice of colours.',\n",
       "  'Easy to put together. I’ve been able to reorganize my small kitchen pantry. Love it!',\n",
       "  \"Great product but requires PhD in assembly. Overall good, beautiful, and steady but it's difficult to assembly and impossible to do it quietly. I live in an apartment and I am pretty sure my neighbor hate me because of the assembly.\"],\n",
       " 2: ['Great product!. Exactly what I needed!',\n",
       "  '. Great product! Good value for the money, have bought many!',\n",
       "  'Great product !. Great product !',\n",
       "  'Good product. Good product',\n",
       "  'It’s a good buy great. It’s a good buy great product 👍👍',\n",
       "  'Definitely recommend!. Definitely recommend!',\n",
       "  '. Fantastic product! Love it...',\n",
       "  'Great product. Good quality. Would. Great product. Good quality. Would recommend this item.',\n",
       "  '. Happy with this product purchased',\n",
       "  'Good product. Good product',\n",
       "  'Excellent product. Excellent product',\n",
       "  '. I have previously bought this product and liked it so much that I bought some more.',\n",
       "  '. Happy with the purchase!!',\n",
       "  'Great product. Would recommend. Great product. Would recommend',\n",
       "  '. Excellent happy with product',\n",
       "  'Happy with product. Happy with product',\n",
       "  'Great product. Great product',\n",
       "  'Great Product. Very pleased with quality',\n",
       "  '. Good product ample space.',\n",
       "  'GOOD PRODUCT AND AFFORDABLE. GOOD PRODUCT AND AFFORDABLE',\n",
       "  'Good product. Good product',\n",
       "  'Good Product. Good Product',\n",
       "  'Love this product! So worth. Love this product! So worth the long wait to hold out for it and not settle on another store’s options.',\n",
       "  '. I bought this product a few weeks ago and happy with it',\n",
       "  'Great product. Great product',\n",
       "  'Great product!. Great product!',\n",
       "  'Great product. Great product',\n",
       "  'Good product as always. Good product as always',\n",
       "  'Excellent product!!. Excellent product!!',\n",
       "  'Great product. Great product',\n",
       "  'HIGHLY RECOMMEND. AWESOME HIGHLY RECOMMEND!',\n",
       "  'Have bought previously and very. Have bought previously and very pleased with the product - so went back for more',\n",
       "  'Good product. Good product',\n",
       "  'Great solution. Great solution',\n",
       "  '. very peased with my product',\n",
       "  'Excellent product. Excellent product',\n",
       "  'Great Product. Nice Finish!',\n",
       "  'Excellent product. Excellent product',\n",
       "  'good product good price. good product good price',\n",
       "  'Very pleased with this. Very pleased with this',\n",
       "  'Good product. I love it its very versatile',\n",
       "  'Great product. Works as expected.',\n",
       "  'Excellent product. Excellent product',\n",
       "  'Great product. Great product',\n",
       "  '. Good product fit for purpose',\n",
       "  'Very happy with this product.. I have bought various sizes of this product. It is very versatile.',\n",
       "  'Great product. Great product',\n",
       "  \"I love it. Perfect, I would recommended this product for my friends and I'll buy it more!\",\n",
       "  'Great product. Great product',\n",
       "  'Great product. Great product',\n",
       "  'Very happy. Very happy',\n",
       "  'I would recommend this product. I would recommend this product',\n",
       "  'Very nice product. Very nice product',\n",
       "  'It’s beautiful. It’s beautiful buy it highly recommend',\n",
       "  'Great product!!. Great product!!',\n",
       "  'Great product!. Great product!',\n",
       "  'Good product. Good product',\n",
       "  'Looks good. I am happy with the product',\n",
       "  'Great product.. Great product.',\n",
       "  'great product. great product',\n",
       "  \"I'm very happy with the. I'm very happy with the product\",\n",
       "  'Great product!. Great product!',\n",
       "  'Very happy with my purchase!!. Very happy with my purchase!!',\n",
       "  'Excellent. Yes.... It is very Ive andas usefull.',\n",
       "  'Yeah!!!!!. Excellent for my needs.',\n",
       "  'Great product. Great product',\n",
       "  '. Great product, nice finish',\n",
       "  'Great product. Great product',\n",
       "  '. Great product. Very useful.',\n",
       "  'Very nice product. Very nice product',\n",
       "  'I like the product. I like the product',\n",
       "  'Outstanding product . I recommend this product is worth.',\n",
       "  'Great product.. Great product.',\n",
       "  'Fine product. Fine product',\n",
       "  \"It's a great product and. It's a great product and a great value. Had to get another one.\",\n",
       "  'Very good product.. Very good product.',\n",
       "  'very good product. very good product',\n",
       "  'Great product. Great product',\n",
       "  'Great product. Been buying these for years.\\n..excellent quality but delivery fee a bit steep',\n",
       "  'Awesome!. I love these products. Have purchased for myself and others as gift.',\n",
       "  'Very pleased with this product.. Very pleased with this product. We have purchased others in the past.',\n",
       "  'Had various before. Good product. Had various before. Good product very versatile',\n",
       "  'Good product. Good product',\n",
       "  'Very happy with everything. Very happy with everything',\n",
       "  'Good buy. Great product',\n",
       "  'I was recommended this product. I was recommended this product and was very satisfied',\n",
       "  'Still a winner. Still a winner',\n",
       "  'Great product. Great product',\n",
       "  'Good product. Good product',\n",
       "  'I highly recommend your products. I highly recommend your products everybody',\n",
       "  'A good product. A good product',\n",
       "  'Mr zJ. Great product!',\n",
       "  'Great product se very often. Great product se very often in our business',\n",
       "  'Very nice product. Very nice product',\n",
       "  'It is a good product. It is a good product and I was able to use as I wanted.',\n",
       "  'Love your products. Love your products',\n",
       "  'Great product. Great product',\n",
       "  'It’s a good product. It’s a good product',\n",
       "  'very happy with the product. very happy with the product',\n",
       "  'very pleased. very pleased',\n",
       "  'All great. I love all the products I bought'],\n",
       " 3: [\"tv. We put wheels on it and use it for our tv stand. It's also perfect for records\",\n",
       "  \"TV stand. We got this piece for Christmas to put a new TV on. The TV is 55in. and it fits perfectly! I think this piece looks even better in person! It's sleek and clean and looks great with gray and white bins. I would highly recommend.\",\n",
       "  '. Used it as a tv stand. Layed it on its side and by adding those square shelves cubes it looks amazing.  Love it',\n",
       "  'I use it as a. I use it as a tv stand. Works fine',\n",
       "  '5 stars!!!. Makes a great TV stand.',\n",
       "  'Great. I use it for my plants. Great stand. Love it. I need another one',\n",
       "  'Wonderful TV Stand. My husband and I recently moved into our first home and wanted a functional TV stand. We are both gamers which means we needed plenty of storage for our consoles, controllers and games. It was very easy to put together and the materials were very sturdy. It makes our living room pop! We love it and would recommend to those looking for a different type of TV stand.',\n",
       "  'Best solution for a great price. Got this in white and black for two rooms. Laid on its side its a tv stand with storage! Really happy with them!',\n",
       "  'Using it as a TV stand. I am using this as a TV stand and am buying some of the doors that fit on it. It works perfectly',\n",
       "  'Exactly what I needed. I love this for a tv stand, put it sideways and with two divided for my electronics and the rest baskets gives me great storage options',\n",
       "  \"Perfect for a small space.. I had an Ikea TV stand forever but it was time to let that go. I use this on it's side for TV stand, and have inserts for storage and it's beyond perfect, looks beautiful, is sturdy and super easy to put together!\",\n",
       "  'Perfect TV stand. This works perfectly for us as a TV stand. We just put it on its side instead. Also purchased the plastic cubes to fit in each square and there you go. Looks great and also is great storage.',\n",
       "  'Best tv stand. I bought this to convert into a tv stand for my sewing room because it also provides storage. Wonderful addition to my room.',\n",
       "  'Perfect 60” TV stand too…classy. Perfect 60” TV stand too…classy clean look',\n",
       "  'Love this item turned it. Love this item turned it sideways for a TV stand',\n",
       "  \"Great design for a TV stand!. My boyfriend and I got this to use as a new TV stand and couldn't be happier. It fits our TV and a bunch pf under storage amazingly! Only downside is the building. You really need two people to build it.\",\n",
       "  'Good buy use as tv. Good buy use as tv stand perfect lots of storage underneath',\n",
       "  'Use as TV stand. We have a large TV and I wanted to use this as a stand with storage underneath. I also selected the door and drawer inserts and used it horizontally rather than upright. The pre drilled holes to fit the inserts only work if it is vertical, therefore if you want to use it on its side you will need to be confident drilling holes for the hinges. Other wise it is a nice solid unit.',\n",
       "  \". I'm using the bookshelf as TV unit. it looks stylish, vibrant, it doesn't have the cheap built of flat packs of other companies. I love it.\",\n",
       "  'Excellent TV Stand with storage. This product was so good, we bought a 2nd one for the basement. Easily holds a 55 TV, all the games and peripherals, and does so looking stylish.',\n",
       "  'Nice TV stand. This product is nice and worked well for a tv stand. Happy with it and the price was great',\n",
       "  'Perfect for my 60” tv. Bought it as a TV stand and it works perfect and looks amazing.',\n",
       "  'Love this unit. We purchased to lay sideways as a TV entertainment center. It perfectly hides movies and cords with the cube baskets we purchased',\n",
       "  'Dress it up or down. This is super versatile and could work in several rooms. We use ours as a tv stand, on its side, and have added the door inserts along the bottom and shelf inserts along the top, and the unit looks classy and modern.',\n",
       "  'Different approach. Turn it sideways, new tv stand. Fits a 56 flat screen tv on it just fine.',\n",
       "  'Perfect for a TV stand.. Perfect for a TV stand.',\n",
       "  'Perfect!. Luv this price. I have it turned on it’s side and used it for a tv stand/ dresser for guests',\n",
       "  \"Obsessed with these units. They are so versatile. They currently sit next to my TV and hold a variety of items including plants\\n\\nAssembly wasn't too bad. Due to weight and height two people may needed to help manoeuvre it\",\n",
       "  'Well made. I love this. Turned it long and used as tv stand',\n",
       "  'Great bookshelf/TV Stand. Very versatile product and looks great especially when you add baskets to it.',\n",
       "  'Nice products. We are using it as a Tv stand + storage unit.',\n",
       "  'Awesome for a TV stand!. We have a small home, and not a lot of storage, so we bought this for our TV stand. It is perfect!! We put it on its side, bought some scubes, an it holds all of the tv components as well, with the scubes, we can hide our junk but make it look good!! Absolutely love it!!',\n",
       "  \"Great TV stand. We had bought a 60 TV and were having a difficult time finding a suitable size TV stand for it. We already own the Kallax 16 cube shelf, so we bought this one so it matches. The TV fit perfectly and all the accessories fit well. It's sturdy, looks good and has plenty of storage area. Very happy with the purchase.\",\n",
       "  'We use it as a TV stand. Have a 65 TV and stands are WAY overpriced. This works perfectly. If the shelves are too narrow, just remove one panel. Obviously, we put it on its side. Works great.',\n",
       "  'Perfect Laying Horizontally. Turned horizontally, this is PERFECT for our small TV and laptop used in our exercise room. Not too wide, taller than a TV table, long enough to hold everything, lots of storage...this is just what we needed without spending a fortune. Thanks, IKEA!',\n",
       "  'Works great as a TV stand / dresser. After having viewed over 7-8 dressers and realising how expensive/non-functional they were, I decided to go in for the Kallax, turn it on its side, add a couple of Dronas and it worked excellent! I now have a TV stand that couples as a dresser. As always, IKEA products are a breeze to assemble as well.',\n",
       "  'I love this. I glad I brought this i love how it looks in my front room i use this as a tv stand and to place  my picture and ect on the shelves',\n",
       "  'Our new TV fits perfectly. Our new TV fits perfectly on it! We were looking for a tv stand with height, so this worked out great and the price was fantastic!',\n",
       "  \"Easy solution for a small space. I'm using this as a dresser. My old one got damaged while moving. Inexpensive solution and works great. Stable enough for my 55 inch TV on too and a sound bar.\",\n",
       "  'Perfect for my needs!. I wanted something for a tv stand in my living room other than the usual stands available. This item was perfect. I live in a upper flat and wanted a product that I could use for storage and displaying my pictures and other items. While also being functional as a tv stand.  Assembly was simple, it is easy to move, and looks great in my small space.',\n",
       "  'Works as TV Bench!!. I bought this for my college apartment because I needed a TV console/stand, but couldn’t afford the “real” ones. Kallax works great I just put it on the side and it has plenty of storage. I assembled it by myself without any problems and it looks great in my apartment. It is exactly what I was looking for!',\n",
       "  'Use it as organizer or. Use it as organizer or TV stand',\n",
       "  \". I'm using as tv stand. Laying it sideways\",\n",
       "  \"Love it. Great as a tv stand: added backing and it's perfect\",\n",
       "  'TV stand. As always it was easy to put together and I enjoy it as a tv stand with storage.',\n",
       "  'the perfect tv stand. i absolutley love this  easy enough to put together and enjoy the way it fits ito my decor',\n",
       "  '. I love the cube holes i use as a tv stand',\n",
       "  'Tv stand. Use as a Tv stand-turned sideways and omitted 1 cube/shelf',\n",
       "  'Love it. We actually bought this as a TV stand and we love it a lot cheaper than a traditional TV stand',\n",
       "  'Love it!. Love this because it is very modular and sturdy. Works perfect as our TV stand.',\n",
       "  'Perfect TV Stand/bookshelf. This product is so easy to put together and multi use. I have several of them in my house and have different uses for each one.',\n",
       "  'Perfect for living room tv stand. I bought this a few days ago, and set it up within 45 minutes It was extremely simple, but wow it looks so beautiful !! I lie it down horizontally so i am using it as tv stand and it’s such a perfect fit for the living room. I love it!!',\n",
       "  'Perfect!. Bought this for my tv stand and I’m in love with how it came out! The color makes the room! And super sturdy for all my electronics and tv !',\n",
       "  'Perfect as a tv stand. Perfect as a tv stand',\n",
       "  \"Perfect tv stand.. It holds my tv and knick knacks perfectly. I'm so happy I bought it! Took me about 30 minutes to put together. So easy.\",\n",
       "  'Perfect as a TV stand (55”). This bookshelf never lets me down. This is my third one (different colors). Very sturdy. Perfect for extra storage. I love the new color options too.',\n",
       "  'Perfect as a TV stand that is tall.. Easy to put together, looks great versatile.',\n",
       "  '. Bought this for a TV Cabinet in my bedroom. Love it looks awsome with cube boxes in.',\n",
       "  \"Great bookshelf and tv stand. I really love this little bookshelf, I've turned it horizontally so I was able to maximize space and use it as a tv stand also. I only gave it 4/5 because I found it rather challenging to put together as just one person. Overall though, I am very happy with this purchase\",\n",
       "  \"Love this!. I just bought my second one of these when we needed a place to put our TV. We already had one for another TV, and we love it and the storage it allows beneath the TV. And it's so easy to put together.\",\n",
       "  '. Works perfectly on its side as our new tv stand!',\n",
       "  'Perfect all around.. Love it. Always wanted one in lacquer white and now that i got one, i will be buying different styles and combinations. Fits everywhere horizontally, vertically and works as a room divider. Infinite ways to organize, store and display things. I use it as my tv stand and it fits all consoles as well. Love it.',\n",
       "  'Love the look. I got mine a month ago and it’s very nice. I use it as a t.v stand for my 55” television.',\n",
       "  'Love it. I bought this about a month ago and I’m really happy with how it looks. Using it as entertainment unit and not only does my 55” tv sit easily on top but I’ve got lots of additional storage. A very affordable solution.',\n",
       "  'Excellent value, great look!. Using as TV stand in first apartment. Great look, very quick and easy to assemble.',\n",
       "  'Cube stand. Well made. Absolutely love it. Was able to clean out my wardrobe with everything put into the cubes. Best decision I ever made buying it',\n",
       "  'Wall mount. Its light weight and looks amazing, it is now mounted to the wall, it was difficult for me to figure out how to mount it if there is no stud in the location they have the screws near but it worked out with additional materials and its is secure now.',\n",
       "  \"Excellent!. Purchased this shelf to be used as a, stand for a 50 inch flat screen TV, in an extra bedroom of our home. Very easy to put together and it's the piece of furniture that's perfect for the room.\",\n",
       "  'Great TV Stand on Side!. Easy to put together and great storage when using cubes.',\n",
       "  'So versatile. I have one for shoe storage and one as a bedroom tv stand/extra storage. Love them!',\n",
       "  'great buy. I bought these as a tv stand. My is laying on the side. It has a wide top and can display item on top or under it. I did also buy the drawers and cubes to fit in it. look awesome',\n",
       "  \"Exactly What I Needed. Hello everyone! I just wanted to share that I bought this piece to use as a Tv stand. I put it on it's side and I positively love the storage and display space. It's a lovely added bonus that the Tv appears larger now that it's higher up. I built this piece entirely by myself, 21 year old female, it probably took me about an hour with snack breaks. I would highly recommend this product for a multitude of reasons.\",\n",
       "  'Floating tv stand. My husband and I used this to create a floating tv stand by connecting two Kallax to get the desired length. We’re happy with the finished project',\n",
       "  \"Great tv stand/storage shelf. I had my eyes set on a tv stand already but the second time I came back to purchase it my husband hated it and saw this shelf and said this would be great as our tv stand instead, I didn't even realize it could have be used as one. I'm glad he came and seen this because not only does it work out as a stand, the storage is great for all the kids toys, with the purchase of the storage boxes that are sold separately. The price is great as well.\",\n",
       "  '. Love this! Use as a tv stand but stylish with all the extra storage room',\n",
       "  '. I bought this a month ago & Happy I did. I use it as a tv stand it fits my tv with plenty of room for cable box blu Ray player & dvds blu rays & various things',\n",
       "  'I used it long ways. I used it long ways as a tv stand, it looks very nice in my living room',\n",
       "  \"Just what I needed!. I'm happy with this item! I use it horizontally as a tv stand! Perfect size & just what I was looking for at a great price!\",\n",
       "  'Love it. I Love it. I use it as a TV stand.',\n",
       "  'Great for living room space as a TV stand. It’s great for living space as TV stand \\nWish it had foam feet for horizontal orientation and had same pricing for all color options.',\n",
       "  'Kallax as tv stand. Wanted something with open storage for a extra large tv. This worked out great.'],\n",
       " 4: ['Love this unit. I have about 6 of this type of units! I use them in so many different ways!',\n",
       "  'Looks fantastic!. I have placed this unit out the front of my classroom. It looks neat and organised adn a great height for my students. I have had many positive comments so far this year!',\n",
       "  'Perfect. We have several of these units they are very versatile.',\n",
       "  'Great. Have now bought 3 of these units!',\n",
       "  'Love this!. This unit is practical & looks great. Perfect for getting organised',\n",
       "  'Love this unti!. You simply cant go wrong with this unit!',\n",
       "  \"Love these units. Bought these a month ago and couldn't be happier.\",\n",
       "  \"Great unit. This unit was exactly what I wanted & expected. It's study & looks nice with our furniture.\",\n",
       "  'Perfect for my needs. I brought 4 of these units that look great and are very functional to my needs.',\n",
       "  'I have several of these.. I have several of these. They are great to have and multifunctional.',\n",
       "  'Love this unit. Love this unit',\n",
       "  'Great unit. We bought three of these and use them in different ways. Assembly takes a while, but it is worth it.',\n",
       "  'Practical good looking unit. Practical good looking unit',\n",
       "  'Excellent unit for our office;. Excellent unit for our office; nice color; we paired it with the Skarsta beige desk. Looks awesome!',\n",
       "  'Great all purpose unit. So easy to assemble and perfect for our needs.',\n",
       "  'Love it.. This unit is sturdy, functional and looks great.',\n",
       "  'Great item. Purchased this unit for my daughter for her desk and it looks great. Easy to assemble and very good quality.',\n",
       "  'A+++. Its a great little unit for what we need it for',\n",
       "  'Great unit. Looks good. Very. Great unit. Looks good. Very functional!',\n",
       "  'Perfect wall Unit. I brought this to replace a old bulky side board. Looks better and gives easier access to NBN.',\n",
       "  'Loved this. Unit I wanted was out of stock but this one turned out beautifully. It has a rich look and is sturdy and well made',\n",
       "  'Love it. Build was super easy, finished unit is sturdy and fits where we needed it to. Couldn’t be happier.',\n",
       "  'This unit was easier to. This unit was easier to put together than the larger unit',\n",
       "  'Good unit easy to build. Good unit easy to build looks good',\n",
       "  'Smart design. Easy assembly , I love this unit and have purchased 3 so far and would like more.',\n",
       "  'perfect stoarge unit. I needed this to fill a space on the wall and fits perfectly',\n",
       "  'Great value for a tiny price.. Bought this unit a couple of months ago and I should’ve bought two. Great product, great quality, great value and so easy to put together. Love it! Will definitely be buying another. Highly recommend!',\n",
       "  \"Love it - and it's. Love it - and it's currently doubling as a second desk for my personal laptop as I work from home!\",\n",
       "  '. This is probably the 10th Unit I have purchased in three years because it is the best size, shape and strength for both my home use and at work.',\n",
       "  'Looks ok, would be nice. Looks ok, would be nice to have something to cover the bolt heads if you have the unit sideways you see the bolts often',\n",
       "  'simply the best. Could not ask for a better unit at any price. Sturdy, attractive and well made. If you need one this is it',\n",
       "  '. I bought this unit for my den, it’s so practical & stylish',\n",
       "  \"Great unit. Easy to put together. Looks sturdy. All the 'inserts' I want are out of stock in Edmonton.\",\n",
       "  'Great unit for the price. Great unit for the price',\n",
       "  'Not my first one. I love how light and strong this unit design is. I love this color it took my husband to see it to like it.',\n",
       "  'Fabulous product. I own a few of these units and love them would happily recommend to anyone',\n",
       "  \"Purchased this unit for our. Purchased this unit for our granddaughter's bedroom. Very happy with it.\",\n",
       "  'Good sturdy unit.. Good sturdy unit.',\n",
       "  'Very good. I’m happy with my shell unit',\n",
       "  'Perfectly designed. Great unit, solid, looks great',\n",
       "  'Looks great. I bought this unit a few weeks ago. It look fantastic and easy to construct.',\n",
       "  'Good for what I wanted. I have three of these units. They are super easy to assemble, provide excellent storage space and I can find more than one more place to put another one.',\n",
       "  'Great unit.. Already have 3.. Great unit.. Already have 3.',\n",
       "  'Love these units. Love these units',\n",
       "  '. great excellent unit useful, good appearance easy to assemble',\n",
       "  '. I have bought several of these units for my parents and they are so durable ..recently got one with my friend and she loves the quality of the product and price point.',\n",
       "  'Love this unit. Perfect. It holds a lot, is stylish and simple, looks great and does the job well.',\n",
       "  '. Great unit, very easy to put together and very sturdy.',\n",
       "  'Excellent unit. Excellent unit',\n",
       "  'Great unit.. Great unit.'],\n",
       " 5: ['Kallax is a must. Ive always gone with the Kallax for its quality and ease to organize any living space.',\n",
       "  'Top and Bottom Bowed. we have stood the kallax up vertically. The middle panels appear to have been manufactured a little bit too long on purpose so that everything fits super snug. However, the top and bottom are very slightly bowed.',\n",
       "  'Different size than older Kalkax . Decided to get frames for 2 units, one newer 2 years maybe and a much older one 10+ years but unfortunately the frame only fit the newer one. The older unit, upon measuring is 1” less lengthwise although the same width.  So now I will need to return the frame and leave older unit on the floor or buy a new one. Disappointing as I don’t really need a new Kallax was just looking to raise it.',\n",
       "  \"Versatile. My 6th kallax unit that I have bought. Love it's versatility\",\n",
       "  'Kallax cube units are awesome. I am redoing my craftroom with Kallax cubes and I absolutely love the look and the quality of them. We have had zero problems assembling the units and actually enjoyed them coming to life and taking their place in my room. I am far from being finished but it is coming along beautifully. Thank you IKEA. I do wish you were closer to us.',\n",
       "  'Love it!. This is my second Kallax unit and won’t be my last',\n",
       "  'Versatile & trendy. The versatility of the Kallax fit our need for a Scandinavian style buffet in our kitchen. Many compliments from all who have seen it.',\n",
       "  'goldilocks review. If there were a version that was 44 tall and contained 6 sections, I would give Kallax 5 stars.',\n",
       "  '. I love using Kallax units to help organise my house.',\n",
       "  'not made properly. my KALLAX was delivered with misaligned holes that were too small for the screws making it nearly impossible to build',\n",
       "  'We have 3 of the. We have 3 of the Kallax pieces in our home now. We love it because you can use it vertically or horizontally.',\n",
       "  \"So versatile, love the customisability. I love the way you can customise the Kallax to the configuration you want. It's so versatile and just the right size too.\",\n",
       "  \"Not my first Kallax!. Great piece, holds up beautifully, and is versatile. This is the fourth home I've had it in and it I needed a second!\",\n",
       "  'Love the Kallax. Love the Kallax for my craft room. So much storage for my fabric. Easy to assemble and nice quality cabinet.',\n",
       "  'It holds things.. If you want to have your things off the ground, then that Kallax certainly does the job.',\n",
       "  'Love this. Not our first Kallax. We have 9. Great as room divider, display, books, storage and easy to assemble.',\n",
       "  \"easy to install, timeless design. Can't go wrong with Kallax. Easy to install, they are timeless. You can change the boxes you use in it to change your room design or use the drawers as well. Very useful and very good looking.\",\n",
       "  'Simply the best. I now have several Kallax units throughout my house and office - they are so flexible in their use, so strong and look so substantial. They represent amazing value.',\n",
       "  'Fourth kallax purchase!. You can’t beat the organization options and ease of assembly in a kallax unit.',\n",
       "  'Love my Kallax. Very versatile piece. Only wish it came with little buttons to cover the screws on the sides.',\n",
       "  'Love everything Kallax. This is my second Kallax unit that I have purchased and I would have bought a 3rd, if they had a 3x3 version. I will probably be buying more of these in the future because they are extremely versatile.',\n",
       "  'Best!. Can’t go past the kallax units. Amazing quality',\n",
       "  \"Kallax is ideal for my requirements. I have a few KALLAX units in varying sizes, from small to large and they all look so neat in their different locations. I've just finished making two 2-drawer inserts and I love them. The designs are so well thought out and fit together perfectly. I've been looking around the house and wondering what I can get rid of so that I can justify buying more KALLAX...\",\n",
       "  'Versatile and Practical. I purchased the 4 square and rectangle ones before and loved them. I still had space that needed attention. After pondering for 6 months, my eyes gravitated toward the 2-level Kallax Unit! It’s perfect!',\n",
       "  'Love Kallax units my house is full of them. I love these units for any room in the house so stylish',\n",
       "  'Great Adaptability. I love the Kallax system and its adaptability. With the convenience of addon drawers and cupboards it is easy to design a system to suit your needs.',\n",
       "  'Cute and functional. Love the whole Kallax line and the fact that there are multiple size choices depending on your needs.',\n",
       "  'A great purchase!. The Kallax worked great in my basement setting. Laying it on its side and adding in the bins saved space and looks very nice.',\n",
       "  'Great buy in Kallax....now to figure out the inserts!. My Kallax units look great in my family room.  Starting to fill it up, but need to figure out what inserts would be useful here.',\n",
       "  'Love Kallax products. I bought several Kallax units for my craft room. They work great and look great.',\n",
       "  'Useful, versatile and looks good. We really like how you can customise the Kallax to fit different spaces and different uses.',\n",
       "  'Love the Kallax units. Love the Kallax units',\n",
       "  'Craft room. Kallax works perfect in my craft room.',\n",
       "  'Love the Kallax to build. Love the Kallax to build my craft area and storage.',\n",
       "  'Always love the Kallax unit.. Always love the Kallax unit. Bought 12 year ago and now again. Easy to to build and looks great',\n",
       "  'Versatile, functional and minimalistic beautiful. The third kallax in our home. One as our TV bench + storage, one for kids toys and stuffs, one for multiple purposes.',\n",
       "  \"Everything I've wanted & needed x4. This is my 4th Kallax/Expedit purchase as I have found numerous uses for them. They have versatile and practical. They can be used in any room of your home, they last and are inexpensive. Cannot recommend enough! I'm going to adding wheels this time for a more industrial look.\",\n",
       "  \"Don't need me to tell you. The kallax is a staple for a reason. It's functional, easy to put together, and looks great in a number of different spaces. Would happily buy again if I needed it!\",\n",
       "  '. This is our 3rd Kallax. These are amazing for organizing kids tots & books.',\n",
       "  'Love the Kallak. Amazing for extra storage in the bedroom.',\n",
       "  'Very happy with the Kallax units. Love this unit. Bought 1 for my quilting supplies and 1 for the den.',\n",
       "  'Love the versatility of Kallax!. I have several of these throughout my home. I use them to organize my craft supplies, entertainment area, and fitness equipment. The various inserts that are available allow for further customization. Awesome addition to any home!',\n",
       "  'Versatile. Love the Kallax. Easily assembled and stylish.',\n",
       "  \"Small Kallax unit. I purchased 2 large Kallax units and a small one. It wasn't until I was putting the small unit together that I realised that it doesn't come with the fittings to allow the unit to be turned when attaching to the metal base, so that the screws don't show on the top of the unit. I called the support line and they said I could obtain the fittings separately but they aren't in stock and I was to call back at the end of April to see if they are in. Why on earth does the small unit not come with the fittings to allow the same type of base attachment as the large units. The height of the small unit is also slightly out with the other 2 larger units until I can get the extra fittings. All Kallax units that fit onto a metal base should come with the same fittings to allow for them to present the same, not the small one with screws showing on the top, but the large ones with no screws showing.\\nI would recommend the larger units to friends, but not the smaller one given it doesn't come with the same fittings.\",\n",
       "  'The kallax looks great great. The kallax looks great great in my closet, it’s very Sturdy and makes my closet look more organized.',\n",
       "  \"Love the Kallaxes!. These past 2 I bought now bring the total number of Kallaxes owned to 6! They're so versatile and I love that they have different inserts to help with storage.\",\n",
       "  \"Just as expected.... I just wish that the Kallax screws had covers so theu weren't visible.\",\n",
       "  '. This is my 5th Kallax unit love them. So multi purpose'],\n",
       " 6: ['Superb Quality item and easy to build. Very easy to build. Make sure you have a electric screwdriver to make your task much much easier. The materials are of quality and the finish looks superb. Would recommend anyday. Ikea does it again!',\n",
       "  'Consistent Classic of IKEA. Affordable and useful. Great option for a child’s room.',\n",
       "  'Good Quality and Serves Its Purpose. With price in mind， this is a simple and good quality product that can serves multi purpose. It can be set up either vertically or horizontally. In addition, with choices of inserts that IKEA carries, it also can be configured differently matching room style.',\n",
       "  'Great piece. Work perfect for our needs we love it Great finish and looks. Most say, like everything in IKEA IKEA is brilliant!',\n",
       "  'All-around amazing.. So versatile, so easy to assemble, such a good piece for your home. If you’re thinking about it, just buy it. Ikea quality is always great.',\n",
       "  'Best Buy of the Year. Highly flexible, highly customisable. Fits into most spaces; sturdy and yet enables multiple configuration. I would recommend buying additional IKEA containers and boxes to go with it too, as these boxes are meant to fit neatly into them.',\n",
       "  'Knew it would be at IKEA. Finding it at As Is for reduced price in acceptable condition was a plus!',\n",
       "  'Excellent quality. Excellent quality at a reasonable price. I guess that is what \"Ikea\" means.',\n",
       "  'Great buy and Value!!!!. Purchased this to suit my new 65” TV and it’s perfect it was a hard choice ,IKEA had many different options for TV’S glad I chose this one because it allowed me to display numerous animal sculptures and DVD’s yes DVD’s in this age of streaming Great buy and value!!!!',\n",
       "  'What a versatile product. Strong easy to assemble and looks great. The variety of uses and add ons is amazing. IKEA at its best.',\n",
       "  'Works for me. As a swedish person ikea been in my life forever',\n",
       "  'Well designed and built. As a woodworker I am always pleased with the design of IKEA products and how easy they are to put together. All the holes line up!',\n",
       "  'My favourite Ikea furniture. Always admired this item',\n",
       "  '. Really good I love Ikea !!! My whole apartment is decorate with Ikea furniture',\n",
       "  'Most popular item in Ikea. Finally I got this storage, have been waiting for a long time. It is very solid and flexible with good price.',\n",
       "  \"Manufacturing Damage to main piece. I ordered this to go with another piece of existing furniture and couldn't wait. I agree with other reviews that the quality has declined to the point of being cheap China quality. The pressed wood is in big chunks and splits easily. I would recommend to predrill holes for safer installation. Once it splits, it just keeps going and will fall apart. Mine was damaged straight from the package and since it was a weight bearing piece there was no way to get around it and it had to be returned. Then to my surprise it was discontinued. I am so unhappy and then supplies are hard to get so nothing much else is available if you want to customize it with inserts in one shopping trip. \",\n",
       "  'Ikea. Good quality and value',\n",
       "  'Started peeling off at the corners. I was happy when I got it. After about 6 months, it started peeling off at few of the corners. Quite disappointing to see that as I always have a high regards for Ikeas quality.',\n",
       "  \"As Expected. I think it's a good piece provided you're not going to use it for very heavy items, or expect it to last for years and years. I think most Ikea items are more short term purchases than something that would be handed down. Saying that, I think their products are worth what you pay for them.\",\n",
       "  'Looks just like the photos, very easy to assemble. Surprisingly one of the easiest assemblies of Ikea products. It went together very smoothly and looks great. Packaged well.',\n",
       "  'Fast construction. This was probably the easiest build i have ever done from IKEA. I have also built similar products from other companies, but the KALLAX is the most sturdy by far.',\n",
       "  'Good fit for smaller spaces. Bought this almost a month ago. First one had two boards that split while putting it together. IKEA has a very easy return process. They exchanged with no questions asked. Second one went together with no issues and is quite sturdy. Looks great and is very functional.',\n",
       "  'One of the must buy item at IKEA. Great item! I am using as a TV stand and organizer for living room. Excellent build quality and should last many years. Highly recommend it.',\n",
       "  'Great. I am very happy with my purchase I want to decorate my house with everything from IKEA',\n",
       "  'My god. I bought this about a month ago and I LOVE IT. it’s perfect and sturdy. My only complaint is the box. It is so heavy. You will not be able to carry this on your own. As some one who tried to, I only got 100 feet. I struggled the entire way, I then found a shopping cart, managed to get it in there, then had to push the cart into my car on the loading dock to get the box in there. It was a horrendous experience that was WELL worth it. Also the people who work at Ikea are so friendly but if you go on a Sunday in the late evening, don’t expect any carts because customers don’t return them, so get it before you start through ikea.',\n",
       "  \"Awesome!. Buy it from IKEA directly (store) for just $65. Also the quality is great! However if you've never hammered anything in your life or haven't ever assembled anything, have an iPhone or are technology illiterate, then this isn't for you.\",\n",
       "  \"used to be good. This was our third Kallax unit to buy - we liked the first two and with a move to a new house, we thought one more would fit just fine. And it did. But. This time the quality was not as good as before. One of the edges wasn't glued properly and was afar from the body right out of the box. I don't know how to avoid this. I definitely won't take the unit apart and drive it back to the IKEA store another 50 miles just to replace the defective part. But it's not even an option to open the box and check all the parts in the store... So... The product is fine but just be prepared for lowering quality. I really hope it's not a trend for IKEA but just my bad luck.\",\n",
       "  'Terrible delivery service. This isn’t a dig against the product, which overall is great. But rather an expression of my extreme disappointment in IKEA’s delivery methods and customer service. It took well over a month to have a shelf unit delivered to my house after serval terminal delays and the fact the delivery company forgot to load my order onto a truck several times. Both IKEA and the delivery company were indifferent and unwilling to help. I guess all I can say is buy this item in store if you’re serious about owning it in a reasonable timeframe.',\n",
       "  'This is the third one. This is the third one I bought. Easy to find, the scan option on the IKEA app made check out a cinch I had it assembled before one tv show was over!',\n",
       "  'Not great. Most of us understand what we\\'re getting with Ikea and why--the price is affordable, and a little sweat, frustration etc. in putting things with names like \"wood-effect\" together is expected. But holy sweet baby cheesus this was a beast. Whatever newfangled idea they had with the allen wrench is BAD. Mine barely fit the screws and two of them will still not go in all the way, making the drawers I put in (or attempted to put in) also not fit correctly. I could close the drawer all the way if I used a hammer lol. Luckily I had another allen wrench from some previous project and finally thought to use it, and it fit the screws much better, otherwise this piece of furniture would not even be remotely put together. ',\n",
       "  '. This product was previously purchased and returned. Parts are missing and broken. I went through your process to obtain a shipping label, but I never received a return email from IKEA. Then, Covid happened and I couldn’t drive there to return it myself. I would really like this product replaced so I can set it up in my daughter’s room. I also live over an hour away and would prefer shipping rather than driving to return it due to gas costs and time.',\n",
       "  'Ì love Ikea product ,quality. Ì love Ikea product ,quality and easy to assemble',\n",
       "  '. Everything I buy from ikea is good! I have a great handyman also at my husband!! But in general very good!',\n",
       "  'Best value for money in IKEA. Best value for money in IKEA. Easy to understand why it is a top selling item',\n",
       "  'Excellent IKEA!. Easy to assemble, exactly as expected. Functional and classy - and at a great price!',\n",
       "  'Pretty much ideal. Easy to assemble (with 2 people), sturdy, attractive. My fav ikea product honestly. We have several.',\n",
       "  'Not what expected!. Overall it’s not a great addition to my office, though it’s was easy to set up but the quality is not great and below standard. The structure is flimsy after setting it up feel like taking it back to IKEA but can not do due to Lockdown.',\n",
       "  \"Another product is better. Surprised, but I would not recommend. We bought this one, for $5 less than the Better Homes and Garden identical looking product sold elsewhere. The other brand had already shipped to our house(for free), and we needed 1 more, so I went to Ikea and bought this one. My husband put them together at the same time and we were SHOCKED to see that the other brand was a better quality, sturdier installation method, etc. The $5 savings doesn't even come close to being worth it, and that's before factoring in the other one will deliver to your house.\",\n",
       "  'As usual, great IKEA product. The only reason I gave it four stars instead of five is that the instructions said I needed a hammer. You really need a rubber mallet and NOT a hammer.\\n\\nA hammer would have damaged the product.\\n\\nAlso, the package did not include the stickers to cover the exposed screws.\\n\\nThis is very annoying because you have to make another trip to IKEA just to get those.',\n",
       "  '. I’m sa happy I love ikea piotr',\n",
       "  'One of the best products. One of the best products I’ve bought from ikea. Very versatile. Colour is AMAZING!',\n",
       "  'An all-time favorite!. Honestly it is my favorite furniture piece you can find at IKEA. Besides being versatile, its customisation is also a very refreshing feature. \\n\\nIt would be great to have the cool colors available again! Like the glossy red and green available during the time it was called EXPEDIT.',\n",
       "  'Bought this to go with. Bought this to go with an older one I have. Surprise! The size has changed . \\nShame on ikea',\n",
       "  'Quality is hit and miss. I bought 4 of these units. 3 were made of great material that will hold up well. One of them is made from a cheaper material and was easily damaged on the edges and by the pegs that hold it together. Not satisfied with it from the get go and we will have to carefully weigh weather we buy from IKEA again and if we do we must consider the longevity of the product.',\n",
       "  'Excellent Product. I have purchased this product previously and I was not disappointed!\\nVery easy to assemble and IKEA quality is a “constant”.\\nMany thanks for your GREAT products!!!',\n",
       "  'High class. Easy to put together. I’m a 72 year old woman and it was a piece of cake. Thanks IKEA',\n",
       "  'Great functionality for all rooms. I really like the functionality, and ease of organization this piece offers. But the look of this piece of furniture is sub par. The holes where the screws go show on both sides, and ikea doesn’t offer anything to put over the screw holes. I even went back and asked if there was anything I could buy at ikea to cover the screw holes, and they referred me to go to Home Depot! Not good! It makes the over look of the piece look cheap and unfinished! That’s my only major complaint about the product.'],\n",
       " 7: ['Sturdy and a really nice modern look. Bought this last month and absolutely love it. I also love that it can be used sideways or upright, it’s very sturdy and flexible',\n",
       "  'Sturdy and good looking. NOT your cheap construction. The reason it got lower points was it was missing half the pegs. We had to get pegs to finish. NOT GOOD. I recommend, but be ready to go out and buy missing parts.',\n",
       "  \"Very sturdy!. I purchased this about a month ago as storage for my bathroom and I love it! It's just enough storage and was relatively easy to assemble.\",\n",
       "  'Very sturdy and attractive. Very nice unit. Looks great with a few wicker baskets and accents. Very sturdy. Not flimsy.',\n",
       "  'Sturdy piece. This was perfect for toy storage. Easy to assemble and very sturdy.',\n",
       "  'Very sturdy. Easy to assemble Just what I was looking for',\n",
       "  'Sturdy and Beautiful. I bought this to add extra storage to my laundry room and it looks great and is very sturdy. The high gloss finish is beautiful. It took about 40 minutes to put together.',\n",
       "  'Sturdy and well designed. I bought this product because I really liked its simple and confident design. I was so please that two of us could put it together while we cheered each other on and had fun!',\n",
       "  'grat value, strong built. Nice product, strong built and nice finish in Grey color (my choice)',\n",
       "  'Sturdy shelvin. Great looking with baskets ',\n",
       "  'Very sturdy. This was perfect for my craft room. I’m still searching for baskets. Most basket sets come in sets of 6 and this has 8 slots! Assembly was easy. My 13 yr old son helped me put it together!',\n",
       "  'Sturdy construction and looks great!. Sturdy construction and looks great!',\n",
       "  'Less sturdy than Expedit version.. It’s exactly what I wanted and needed, but at the same time I broke some of the connection points when trying to put it together. the did not want to fit as usual and trying to fit cause them to ruin the board hole area. Maybe a little too thin?',\n",
       "  \"Sturdy & Good Looking. Bought one for my sewing room and for 2 kid's bedrooms for toys and books. Got some of the doors and fabric boxes. Look great and keeping everything organized. Sturdy and easy to assemble. Love this line.\",\n",
       "  'Sturdy. Assembled easily and is very sturdy. Perfect for a low profile room divider.',\n",
       "  'Strong and great quality. Much better quality than expected. Sturdy, strong enough to hold my tv, easy to put together. Great product',\n",
       "  'Very sturdy. I bought one for my daughter’s room to display all her Lego sets and it is a beautiful addition to her room. Not too big and very sturdy also very easy to put together.',\n",
       "  'Very sturdy and very easy. Very sturdy and very easy to assemble',\n",
       "  'Very sturdy and looks great.. Very sturdy and looks great.',\n",
       "  'Sturdy and perfect for home. Sturdy and perfect for home gym equipment',\n",
       "  'Sturdy and a great addition. Sturdy and a great addition to any room',\n",
       "  'Sturdy and super versatile.. i love it it looks so good in my sons nursery.',\n",
       "  'Very sturdy. Love it have two in the house. Planning on a 3rd. Very simple to put together.',\n",
       "  'Sturdy and perfect. I bought this and loved it so much that I bought another. I am very happy with the quality. It is very sturdy and was very easy to assemble. I am seriously considering buying another one or more.',\n",
       "  'Solidly built. The quality is way better then other places. Solidly built. I got this and the door inserts. Had to have an assist for the internet to understand the the instructions but other than that I love it. It’s also taller than the ones from Wally World and much better quay.',\n",
       "  \"Sturdy. Bought this and put a 55 tv on it and it's perfect. Very sturdy and heavy.\",\n",
       "  'They are strong and sturdy. They are strong and sturdy',\n",
       "  'Sturdy and nice finish. Great product with a nice finish and design',\n",
       "  'Sturdy. Easy to build, strong, no wobbling, versatile for vertical or horizontal use. Love it!',\n",
       "  'Very sturdy and looks great!!!. I love this so much I bought 2!',\n",
       "  'Very sturdy and simple enough to put together.. Very sturdy. Good quality. Simple enough to put together even for one person.',\n",
       "  'Sturdy and stylish. I had this put together in a half hours time. Solid sturdy build and looks amazing as my TV Stand. Amazing price.',\n",
       "  'Sturdy!. This is a great piece for storage, but make sure you have plenty of room for assembling. ',\n",
       "  'sturdy construction, looks great. love the purchase, works well for what I needed it for',\n",
       "  'Very strong after construction. It is serving my purpose as expected. Glad I purchased it',\n",
       "  'Good and sturdy. The base of my fabric cutting table is what this was used for. Great product',\n",
       "  \"Sturdy!. I have 3 of these to help with closet clutter. Love them!  I've used two more horizontally in my sewing room connected with a large piece of plywood for a cutting table. They are fairly easy to construct thoughh it does take two people. They are pretty and simple.\",\n",
       "  'Very sturdy. Great product, very happy with purchase..',\n",
       "  'really sturdy,heavy great buy for price. I had a male neighbor put these together for me. He was impressed at good wt, how sturdy they are & all tools included in box. I laid them down on either side of fire place & I am truly happy with them.',\n",
       "  'very sturdy. very sturdy',\n",
       "  'Super sturdy and flexible - love it. Got it for my kitchen to showcase my appliances (bunch of stuff, sodastream, nesspresso, etc.). Perfect size.',\n",
       "  'Sturdy and attractive. Holds a lot.  Using baskets makes it hold more.',\n",
       "  'Sturdy, looks great. Looks great and was super easy to put together. This provided more than enough storage and the low cost bin options will make changing to look cheap and easy. Very happy with purchase.',\n",
       "  'Very sturdy and roomy. We bought this to use in the making of my cutting table in my sewing studio and am so pleased! I wish I could show you a photo of the completed project!',\n",
       "  'Well built. Sturdy. Well built. Looks great in both rooms. Had one and purchased another one.',\n",
       "  \"Sturdy and nice design!. Easy to assemble and perfect for my son's room!\"]}"
      ]
     },
     "execution_count": 24,
     "metadata": {},
     "output_type": "execute_result"
    }
   ],
   "source": [
    "topic_reviews"
   ]
  },
  {
   "cell_type": "code",
   "execution_count": 25,
   "metadata": {},
   "outputs": [],
   "source": [
    "from dotenv import load_dotenv\n",
    "\n",
    "load_dotenv()\n",
    "api_key = os.getenv(\"API_KEY\")"
   ]
  },
  {
   "cell_type": "code",
   "execution_count": 26,
   "metadata": {},
   "outputs": [],
   "source": [
    "llm_client = AzureOpenAI(\n",
    "    api_key=api_key,\n",
    "    api_version=\"2023-07-01-preview\",\n",
    "    azure_endpoint=\"https://derai-vision.openai.azure.com/\",\n",
    ")\n",
    "\n",
    "model = \"gpt-4o-mini\" "
   ]
  },
  {
   "cell_type": "code",
   "execution_count": 27,
   "metadata": {},
   "outputs": [],
   "source": [
    "def get_topic_keyword(cluster_words):\n",
    "    messages = [\n",
    "        {\n",
    "            \"role\": \"system\",\n",
    "            \"content\": (\n",
    "                \"You are a helpful expert summarizer that identifies and generates a concise, broad topic word for each cluster of words.\\n\"\n",
    "                \"The topic word should capture the essence of all the words in the cluster.\\n\"\n",
    "                \"Merge similar or related words into a single, broader category.\\n\"\n",
    "                \"Use singular words unless a plural form is necessary.\\n\"                \n",
    "                \"Use only one word. 2 or 3 words can be used only when they are part of a composite word and are better to represent the idea of the topic (e.g.: ease of use).\\n\"\n",
    "                \"If you identify a verb as a topic, use the noun version (e.g., use 'order' instead of 'ordering').\\n\"\n",
    "                \"Generalize the topic word; for example, if you encounter 'saleswoman' or 'salesman', abstract it to 'staff'.\\n\"\n",
    "                \"Provide the output as a single word. Always start with the first letter capitalized\"\n",
    "            ),\n",
    "        },\n",
    "        {\n",
    "            \"role\": \"user\",\n",
    "            \"content\": (\n",
    "                \"Please read the following cluster of words carefully and generate a single topic word that captures the essence of all the words.\\n\"\n",
    "                \"The topic word should be broad and general, capturing the essence of the cluster's main points without being overly specific or redundant.\\n\"\n",
    "                \"The topics could be either nouns that refers to a certain characteristic of the product of spefic features or parts of the product (e.g.: click & collect, email redeem, etc.)\\n\"\n",
    "                f\"Topic: {cluster_words}\\n\"\n",
    "                \"Topic word(s):\"\n",
    "            ),\n",
    "        },\n",
    "    ]\n",
    "\n",
    "    response = ' '\n",
    "    \n",
    "    # Generate the topic word using the language model\n",
    "    response = llm_client.chat.completions.create(\n",
    "        model=model,\n",
    "        messages=messages,\n",
    "        max_tokens=5,\n",
    "        temperature=0.4,\n",
    "        n=1,\n",
    "        stop=None,\n",
    "    )\n",
    "\n",
    "    # Extract and return the topic word\n",
    "    return response.choices[0].message.content.strip()"
   ]
  },
  {
   "cell_type": "code",
   "execution_count": 28,
   "metadata": {},
   "outputs": [],
   "source": [
    "import csv\n",
    "def create_csv_file(topic_reviews, output_file):\n",
    "    \"\"\"\n",
    "    Create a CSV file with reviews and their associated topic keywords.\n",
    "\n",
    "    Parameters:\n",
    "    - reviews: List of all reviews.\n",
    "    - topic_reviews: Dictionary with topic IDs as keys and lists of reviews as values.\n",
    "    - output_file: Path to the output CSV file.\n",
    "    \"\"\"\n",
    "    with open(output_file, 'w', newline='') as csvfile:\n",
    "        fieldnames = ['review', 'topics']\n",
    "        writer = csv.DictWriter(csvfile, fieldnames=fieldnames)\n",
    "\n",
    "        writer.writeheader()\n",
    "        \n",
    "        for topic_id, reviews_list in topic_reviews.items():\n",
    "            topic_details = topic_model.get_topic(topic_id)\n",
    "            topic_name = topic_info[topic_info.Topic == topic_id]['Name'].values[0]\n",
    "            topic_keyword = get_topic_keyword(topic_details)\n",
    "            print(f\"Topic ID: {topic_id}, Topic Name: {topic_name} --> Topic Keyword: {topic_keyword}\")\n",
    "            for review in reviews_list:\n",
    "                writer.writerow({'review': review, 'topics': f\"['{topic_keyword}']\"})\n",
    "\n",
    "    print(f\"CSV file saved to {output_file}\")"
   ]
  },
  {
   "cell_type": "code",
   "execution_count": 29,
   "metadata": {},
   "outputs": [
    {
     "name": "stdout",
     "output_type": "stream",
     "text": [
      "Topic ID: 0, Topic Name: 0_storage_shelf_for_my --> Topic Keyword: Storage\n",
      "Topic ID: 1, Topic Name: 1_easy_assemble_to_together --> Topic Keyword: Assembly\n",
      "Topic ID: 2, Topic Name: 2_product_good_great_very --> Topic Keyword: Quality\n",
      "Topic ID: 3, Topic Name: 3_tv_stand_as_it --> Topic Keyword: Television\n",
      "Topic ID: 4, Topic Name: 4_unit_this_looks_great --> Topic Keyword: Quality\n",
      "Topic ID: 5, Topic Name: 5_kallax_units_the_fittings --> Topic Keyword: Storage\n",
      "Topic ID: 6, Topic Name: 6_ikea_is_quality_to --> Topic Keyword: Quality\n",
      "Topic ID: 7, Topic Name: 7_sturdy_very_strong_and --> Topic Keyword: Durability\n",
      "CSV file saved to csv/BERTopicTop8_20351884.csv\n"
     ]
    }
   ],
   "source": [
    "# Create the CSV file\n",
    "csv_output_file = f'csv/BERTopicTop8_{article_id}.csv'\n",
    "create_csv_file(topic_reviews, csv_output_file)\n",
    "\n",
    "streamlit_csv = f'BERTopicTop8_{article_id}.csv'"
   ]
  },
  {
   "cell_type": "markdown",
   "metadata": {},
   "source": [
    "## Run the demo"
   ]
  },
  {
   "cell_type": "code",
   "execution_count": 31,
   "metadata": {},
   "outputs": [
    {
     "name": "stdout",
     "output_type": "stream",
     "text": [
      "\u001b[0m\n",
      "\u001b[34m\u001b[1m  You can now view your Streamlit app in your browser.\u001b[0m\n",
      "\u001b[0m\n",
      "\u001b[34m  Local URL: \u001b[0m\u001b[1mhttp://localhost:8501\u001b[0m\n",
      "\u001b[34m  Network URL: \u001b[0m\u001b[1mhttp://192.168.178.207:8501\u001b[0m\n",
      "\u001b[0m\n",
      "\u001b[34m\u001b[1m  For better performance, install the Watchdog module:\u001b[0m\n",
      "\n",
      "  $ xcode-select --install\n",
      "  $ pip install watchdog\n",
      "            \u001b[0m\n",
      "^C\n",
      "\u001b[34m  Stopping...\u001b[0m\n",
      "Exception ignored in: <module 'threading' from '/Library/Frameworks/Python.framework/Versions/3.12/lib/python3.12/threading.py'>\n",
      "Traceback (most recent call last):\n",
      "  File \"/Library/Frameworks/Python.framework/Versions/3.12/lib/python3.12/threading.py\", line 1594, in _shutdown\n",
      "    atexit_call()\n",
      "  File \"/Library/Frameworks/Python.framework/Versions/3.12/lib/python3.12/concurrent/futures/thread.py\", line 31, in _python_exit\n",
      "    t.join()\n",
      "  File \"/Library/Frameworks/Python.framework/Versions/3.12/lib/python3.12/threading.py\", line 1149, in join\n",
      "    self._wait_for_tstate_lock()\n",
      "  File \"/Library/Frameworks/Python.framework/Versions/3.12/lib/python3.12/threading.py\", line 1169, in _wait_for_tstate_lock\n",
      "    if lock.acquire(block, timeout):\n",
      "       ^^^^^^^^^^^^^^^^^^^^^^^^^^^^\n",
      "  File \"/Users/davide.zanutto1/Desktop/ratings-reviews-ai-summaries-topics/ratings-reviews/lib/python3.12/site-packages/streamlit/web/bootstrap.py\", line 44, in signal_handler\n",
      "    server.stop()\n",
      "  File \"/Users/davide.zanutto1/Desktop/ratings-reviews-ai-summaries-topics/ratings-reviews/lib/python3.12/site-packages/streamlit/web/server/server.py\", line 432, in stop\n",
      "    self._runtime.stop()\n",
      "  File \"/Users/davide.zanutto1/Desktop/ratings-reviews-ai-summaries-topics/ratings-reviews/lib/python3.12/site-packages/streamlit/runtime/runtime.py\", line 324, in stop\n",
      "    async_objs.eventloop.call_soon_threadsafe(stop_on_eventloop)\n",
      "  File \"/Library/Frameworks/Python.framework/Versions/3.12/lib/python3.12/asyncio/base_events.py\", line 840, in call_soon_threadsafe\n",
      "    self._check_closed()\n",
      "  File \"/Library/Frameworks/Python.framework/Versions/3.12/lib/python3.12/asyncio/base_events.py\", line 541, in _check_closed\n",
      "    raise RuntimeError('Event loop is closed')\n",
      "RuntimeError: Event loop is closed\n"
     ]
    }
   ],
   "source": [
    "!streamlit run app.py -- \"$streamlit_csv\""
   ]
  }
 ],
 "metadata": {
  "kernelspec": {
   "display_name": "ratings-reviews",
   "language": "python",
   "name": "python3"
  },
  "language_info": {
   "codemirror_mode": {
    "name": "ipython",
    "version": 3
   },
   "file_extension": ".py",
   "mimetype": "text/x-python",
   "name": "python",
   "nbconvert_exporter": "python",
   "pygments_lexer": "ipython3",
   "version": "3.12.7"
  }
 },
 "nbformat": 4,
 "nbformat_minor": 2
}

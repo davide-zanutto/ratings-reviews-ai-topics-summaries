{
 "cells": [
  {
   "cell_type": "code",
   "execution_count": 1,
   "metadata": {},
   "outputs": [
    {
     "name": "stdout",
     "output_type": "stream",
     "text": [
      "Processing 3723 reviews\n"
     ]
    }
   ],
   "source": [
    "from google.cloud import bigquery\n",
    "from openai import AzureOpenAI\n",
    "import os\n",
    "\n",
    "os.environ[\"TOKENIZERS_PARALLELISM\"] = \"false\"\n",
    "\n",
    "client = bigquery.Client()\n",
    "\n",
    "project_id = 'ingka-tugc-infra-prod'\n",
    "dataset_id = 'eu_ai_content'\n",
    "table_id = 'reviews'\n",
    "\n",
    "table_ref = f'{project_id}.{dataset_id}.{table_id}'\n",
    "\n",
    "# Query to get all the data - 1.17GB to process\n",
    "\n",
    "articles = ['20351884', '40346924', '10305741', '00324518', '10360134']\n",
    "\n",
    "article_id = articles[0]\n",
    "\n",
    "query = f\"\"\"\n",
    "    SELECT concat(title, '. ', text) as review_text\n",
    "    FROM {table_ref}\n",
    "    WHERE franchise='set-11' AND content_lang_code = 'en' AND art_id = '{article_id}'\n",
    "\"\"\"\n",
    "\n",
    "query_job = client.query(query)\n",
    "\n",
    "reviews = [row['review_text'] for row in query_job]\n",
    "\n",
    "print(f\"Processing {len(reviews)} reviews\")"
   ]
  },
  {
   "cell_type": "code",
   "execution_count": 2,
   "metadata": {},
   "outputs": [
    {
     "name": "stderr",
     "output_type": "stream",
     "text": [
      "/Users/davide.zanutto1/Desktop/ratings-reviews-ai-summaries-topics/ratings-reviews/lib/python3.12/site-packages/tqdm/auto.py:21: TqdmWarning: IProgress not found. Please update jupyter and ipywidgets. See https://ipywidgets.readthedocs.io/en/stable/user_install.html\n",
      "  from .autonotebook import tqdm as notebook_tqdm\n",
      "OMP: Info #276: omp_set_nested routine deprecated, please use omp_set_max_active_levels instead.\n"
     ]
    }
   ],
   "source": [
    "from bertopic import BERTopic\n",
    "from sklearn.feature_extraction.text import ENGLISH_STOP_WORDS\n",
    "from nltk.corpus import stopwords\n",
    "from nltk.tokenize import word_tokenize\n",
    "\n",
    "\n",
    "stop_words = set(stopwords.words('english')).union(set(ENGLISH_STOP_WORDS))\n",
    "\n",
    "processed_reviews = [' '.join([word for word in word_tokenize(review.lower()) if word.isalnum() and word not in stop_words]) for review in reviews]\n",
    "\n",
    "## Limiting the number of topics with nr_topics does not work\n",
    "nr_topics_before = 'Auto'\n",
    "topic_model = BERTopic()\n",
    "\n",
    "# Fit the model on the reviews\n",
    "topics, probabilities = topic_model.fit_transform(processed_reviews)\n",
    "\n",
    "nr_topics_after = 'auto'\n",
    "\n",
    "# Further reduce topics if needed\n",
    "# topic_model.reduce_topics(reviews, nr_topics=nr_topics_after)\n",
    "\n",
    "topics = topic_model.get_topics()"
   ]
  },
  {
   "cell_type": "code",
   "execution_count": 3,
   "metadata": {},
   "outputs": [
    {
     "data": {
      "text/plain": [
       "'-1_storage_room_unit_bought; 0_shelf_shelving_shelves_unit; 1_tv_stand_use_using; 2_assemble_easy_assembly_good; 3_closet_clothes_organizer_perfect; 4_kallax_love_delivery_versatile; 5_bookcase_books_bookshelf_bookcases; 6_kallax_shelf_shelves_shelving; 7_vinyl_records_record_collection; 8_holes_dowels_wooden_screws; 9_toy_toys_kid_kids; 10_gloss_white_grey_high; 11_storage_options_solution_needs; 12_works_exactly_needed_purpose; 13_quality_good_price_reasonable; 14_vertical_horizontal_vertically_horizontally; 15_kallax_storage_units_dependable; 16_sturdy_nice_strong_construction; 17_fits_space_suits_perfect; 18_love_sturdiness_second_cute; 19_kallax_studio_units_items; 20_furniture_piece_affordable_steady; 21_good_ok_bad_say; 22_looks_easy_set_contemporary; 23_daughter_kids_room_rooms; 24_ikea_easiest_quality_furniture; 25_cubes_cube_storage_best; 26_excellent_great_awesome_fantastic; 27_product_excellent_great_wounderful; 28_value_money_good_price; 29_bedroom_room_living_addition; 30_fittings_kallax_assemble_allow; 31_product_good_price_fine; 32_books_toys_daughters_kids; 33_sturdy_assemble_easy_strong; 34_install_build_installation_super; 35_sewing_fabric_room_knitting; 36_perfect_4x3kallax_versitile_exactly; 37_bookcase_kallax_books_bookshelf; 38_assemble_storage_easy_sleek; 39_craft_room_certain_craftroom; 40_happy_pleased_product_surprised; 41_ago_month_happy_bought; 42_unit_practical_units_toi; 43_new_ikea_quality_version; 44_craft_room_kallax_calm; 45_color_forever_available_hope; 46_cutting_table_sewing_base; 47_ikea_doors_knobs_drawers; 48_assemble_living_room_organiser; 49_unit_storage_functional_great; 50_craft_room_dorm_shelving; 51_job_winner_easy_title; 52_versatile_configurations_cookbooks_quite; 53_closet_kallax_linen_fit; 54_boxes_cardboard_containers_cart; 55_expected_expectations_meets_exactly; 56_nice_thanks_neat_really; 57_functional_multifunctional_predictably_minimal; 58_nice_product_item_finish; 59_matching_ikea_shelves_shelf'"
      ]
     },
     "execution_count": 3,
     "metadata": {},
     "output_type": "execute_result"
    }
   ],
   "source": [
    "topic_info = topic_model.get_topic_info()\n",
    "all_topic_names = '; '.join(topic_info['Name'])\n",
    "all_topic_names"
   ]
  },
  {
   "cell_type": "code",
   "execution_count": 4,
   "metadata": {},
   "outputs": [
    {
     "data": {
      "text/plain": [
       "61"
      ]
     },
     "execution_count": 4,
     "metadata": {},
     "output_type": "execute_result"
    }
   ],
   "source": [
    "number_of_topics = len(topics)\n",
    "number_of_topics"
   ]
  },
  {
   "cell_type": "code",
   "execution_count": 5,
   "metadata": {},
   "outputs": [
    {
     "data": {
      "application/vnd.plotly.v1+json": {
       "config": {
        "plotlyServerURL": "https://plot.ly"
       },
       "data": [
        {
         "marker": {
          "color": "#D55E00"
         },
         "orientation": "h",
         "type": "bar",
         "x": [
          0.023887624627511553,
          0.027116051792911055,
          0.03440817590721497,
          0.04639423915317311,
          0.047668238048736614
         ],
         "xaxis": "x",
         "y": [
          "great  ",
          "unit  ",
          "shelves  ",
          "shelving  ",
          "shelf  "
         ],
         "yaxis": "y"
        },
        {
         "marker": {
          "color": "#0072B2"
         },
         "orientation": "h",
         "type": "bar",
         "x": [
          0.01691166678008229,
          0.019160838756423843,
          0.025615881826167683,
          0.098541505699265,
          0.1300487408792771
         ],
         "xaxis": "x2",
         "y": [
          "perfect  ",
          "using  ",
          "use  ",
          "stand  ",
          "tv  "
         ],
         "yaxis": "y2"
        },
        {
         "marker": {
          "color": "#CC79A7"
         },
         "orientation": "h",
         "type": "bar",
         "x": [
          0.03155445266980314,
          0.03269032675701691,
          0.04823691947790597,
          0.07020163706459118,
          0.10739835149152929
         ],
         "xaxis": "x3",
         "y": [
          "instructions  ",
          "good  ",
          "assembly  ",
          "easy  ",
          "assemble  "
         ],
         "yaxis": "y3"
        },
        {
         "marker": {
          "color": "#E69F00"
         },
         "orientation": "h",
         "type": "bar",
         "x": [
          0.02716797537910468,
          0.028947245978825677,
          0.052074098740610725,
          0.06357310036909593,
          0.13158481069511263
         ],
         "xaxis": "x4",
         "y": [
          "walk  ",
          "perfect  ",
          "organizer  ",
          "clothes  ",
          "closet  "
         ],
         "yaxis": "y4"
        },
        {
         "marker": {
          "color": "#56B4E9"
         },
         "orientation": "h",
         "type": "bar",
         "x": [
          0.020777994102339985,
          0.023545112441760753,
          0.02895125410136315,
          0.03114170974823274,
          0.11728590852327016
         ],
         "xaxis": "x5",
         "y": [
          "product  ",
          "versatile  ",
          "delivery  ",
          "love  ",
          "kallax  "
         ],
         "yaxis": "y5"
        },
        {
         "marker": {
          "color": "#009E73"
         },
         "orientation": "h",
         "type": "bar",
         "x": [
          0.027213729391459517,
          0.03449309314825462,
          0.038504315024033106,
          0.04947364514112181,
          0.06390159404935708
         ],
         "xaxis": "x6",
         "y": [
          "desk  ",
          "bookcases  ",
          "bookshelf  ",
          "books  ",
          "bookcase  "
         ],
         "yaxis": "y6"
        },
        {
         "marker": {
          "color": "#F0E442"
         },
         "orientation": "h",
         "type": "bar",
         "x": [
          0.023472945880267333,
          0.03145287212436542,
          0.03868672651636709,
          0.044780134712413495,
          0.0655404057624854
         ],
         "xaxis": "x7",
         "y": [
          "unit  ",
          "shelving  ",
          "shelves  ",
          "shelf  ",
          "kallax  "
         ],
         "yaxis": "y7"
        },
        {
         "marker": {
          "color": "#D55E00"
         },
         "orientation": "h",
         "type": "bar",
         "x": [
          0.04966124024205514,
          0.053071431941539245,
          0.07509614395065942,
          0.09920953573597391,
          0.11831571473537986
         ],
         "xaxis": "x8",
         "y": [
          "albums  ",
          "collection  ",
          "record  ",
          "records  ",
          "vinyl  "
         ],
         "yaxis": "y8"
        }
       ],
       "layout": {
        "annotations": [
         {
          "font": {
           "size": 16
          },
          "showarrow": false,
          "text": "Topic 0",
          "x": 0.0875,
          "xanchor": "center",
          "xref": "paper",
          "y": 1,
          "yanchor": "bottom",
          "yref": "paper"
         },
         {
          "font": {
           "size": 16
          },
          "showarrow": false,
          "text": "Topic 1",
          "x": 0.36250000000000004,
          "xanchor": "center",
          "xref": "paper",
          "y": 1,
          "yanchor": "bottom",
          "yref": "paper"
         },
         {
          "font": {
           "size": 16
          },
          "showarrow": false,
          "text": "Topic 2",
          "x": 0.6375000000000001,
          "xanchor": "center",
          "xref": "paper",
          "y": 1,
          "yanchor": "bottom",
          "yref": "paper"
         },
         {
          "font": {
           "size": 16
          },
          "showarrow": false,
          "text": "Topic 3",
          "x": 0.9125,
          "xanchor": "center",
          "xref": "paper",
          "y": 1,
          "yanchor": "bottom",
          "yref": "paper"
         },
         {
          "font": {
           "size": 16
          },
          "showarrow": false,
          "text": "Topic 4",
          "x": 0.0875,
          "xanchor": "center",
          "xref": "paper",
          "y": 0.4,
          "yanchor": "bottom",
          "yref": "paper"
         },
         {
          "font": {
           "size": 16
          },
          "showarrow": false,
          "text": "Topic 5",
          "x": 0.36250000000000004,
          "xanchor": "center",
          "xref": "paper",
          "y": 0.4,
          "yanchor": "bottom",
          "yref": "paper"
         },
         {
          "font": {
           "size": 16
          },
          "showarrow": false,
          "text": "Topic 6",
          "x": 0.6375000000000001,
          "xanchor": "center",
          "xref": "paper",
          "y": 0.4,
          "yanchor": "bottom",
          "yref": "paper"
         },
         {
          "font": {
           "size": 16
          },
          "showarrow": false,
          "text": "Topic 7",
          "x": 0.9125,
          "xanchor": "center",
          "xref": "paper",
          "y": 0.4,
          "yanchor": "bottom",
          "yref": "paper"
         }
        ],
        "height": 500,
        "hoverlabel": {
         "bgcolor": "white",
         "font": {
          "family": "Rockwell",
          "size": 16
         }
        },
        "showlegend": false,
        "template": {
         "data": {
          "bar": [
           {
            "error_x": {
             "color": "#2a3f5f"
            },
            "error_y": {
             "color": "#2a3f5f"
            },
            "marker": {
             "line": {
              "color": "white",
              "width": 0.5
             },
             "pattern": {
              "fillmode": "overlay",
              "size": 10,
              "solidity": 0.2
             }
            },
            "type": "bar"
           }
          ],
          "barpolar": [
           {
            "marker": {
             "line": {
              "color": "white",
              "width": 0.5
             },
             "pattern": {
              "fillmode": "overlay",
              "size": 10,
              "solidity": 0.2
             }
            },
            "type": "barpolar"
           }
          ],
          "carpet": [
           {
            "aaxis": {
             "endlinecolor": "#2a3f5f",
             "gridcolor": "#C8D4E3",
             "linecolor": "#C8D4E3",
             "minorgridcolor": "#C8D4E3",
             "startlinecolor": "#2a3f5f"
            },
            "baxis": {
             "endlinecolor": "#2a3f5f",
             "gridcolor": "#C8D4E3",
             "linecolor": "#C8D4E3",
             "minorgridcolor": "#C8D4E3",
             "startlinecolor": "#2a3f5f"
            },
            "type": "carpet"
           }
          ],
          "choropleth": [
           {
            "colorbar": {
             "outlinewidth": 0,
             "ticks": ""
            },
            "type": "choropleth"
           }
          ],
          "contour": [
           {
            "colorbar": {
             "outlinewidth": 0,
             "ticks": ""
            },
            "colorscale": [
             [
              0,
              "#0d0887"
             ],
             [
              0.1111111111111111,
              "#46039f"
             ],
             [
              0.2222222222222222,
              "#7201a8"
             ],
             [
              0.3333333333333333,
              "#9c179e"
             ],
             [
              0.4444444444444444,
              "#bd3786"
             ],
             [
              0.5555555555555556,
              "#d8576b"
             ],
             [
              0.6666666666666666,
              "#ed7953"
             ],
             [
              0.7777777777777778,
              "#fb9f3a"
             ],
             [
              0.8888888888888888,
              "#fdca26"
             ],
             [
              1,
              "#f0f921"
             ]
            ],
            "type": "contour"
           }
          ],
          "contourcarpet": [
           {
            "colorbar": {
             "outlinewidth": 0,
             "ticks": ""
            },
            "type": "contourcarpet"
           }
          ],
          "heatmap": [
           {
            "colorbar": {
             "outlinewidth": 0,
             "ticks": ""
            },
            "colorscale": [
             [
              0,
              "#0d0887"
             ],
             [
              0.1111111111111111,
              "#46039f"
             ],
             [
              0.2222222222222222,
              "#7201a8"
             ],
             [
              0.3333333333333333,
              "#9c179e"
             ],
             [
              0.4444444444444444,
              "#bd3786"
             ],
             [
              0.5555555555555556,
              "#d8576b"
             ],
             [
              0.6666666666666666,
              "#ed7953"
             ],
             [
              0.7777777777777778,
              "#fb9f3a"
             ],
             [
              0.8888888888888888,
              "#fdca26"
             ],
             [
              1,
              "#f0f921"
             ]
            ],
            "type": "heatmap"
           }
          ],
          "heatmapgl": [
           {
            "colorbar": {
             "outlinewidth": 0,
             "ticks": ""
            },
            "colorscale": [
             [
              0,
              "#0d0887"
             ],
             [
              0.1111111111111111,
              "#46039f"
             ],
             [
              0.2222222222222222,
              "#7201a8"
             ],
             [
              0.3333333333333333,
              "#9c179e"
             ],
             [
              0.4444444444444444,
              "#bd3786"
             ],
             [
              0.5555555555555556,
              "#d8576b"
             ],
             [
              0.6666666666666666,
              "#ed7953"
             ],
             [
              0.7777777777777778,
              "#fb9f3a"
             ],
             [
              0.8888888888888888,
              "#fdca26"
             ],
             [
              1,
              "#f0f921"
             ]
            ],
            "type": "heatmapgl"
           }
          ],
          "histogram": [
           {
            "marker": {
             "pattern": {
              "fillmode": "overlay",
              "size": 10,
              "solidity": 0.2
             }
            },
            "type": "histogram"
           }
          ],
          "histogram2d": [
           {
            "colorbar": {
             "outlinewidth": 0,
             "ticks": ""
            },
            "colorscale": [
             [
              0,
              "#0d0887"
             ],
             [
              0.1111111111111111,
              "#46039f"
             ],
             [
              0.2222222222222222,
              "#7201a8"
             ],
             [
              0.3333333333333333,
              "#9c179e"
             ],
             [
              0.4444444444444444,
              "#bd3786"
             ],
             [
              0.5555555555555556,
              "#d8576b"
             ],
             [
              0.6666666666666666,
              "#ed7953"
             ],
             [
              0.7777777777777778,
              "#fb9f3a"
             ],
             [
              0.8888888888888888,
              "#fdca26"
             ],
             [
              1,
              "#f0f921"
             ]
            ],
            "type": "histogram2d"
           }
          ],
          "histogram2dcontour": [
           {
            "colorbar": {
             "outlinewidth": 0,
             "ticks": ""
            },
            "colorscale": [
             [
              0,
              "#0d0887"
             ],
             [
              0.1111111111111111,
              "#46039f"
             ],
             [
              0.2222222222222222,
              "#7201a8"
             ],
             [
              0.3333333333333333,
              "#9c179e"
             ],
             [
              0.4444444444444444,
              "#bd3786"
             ],
             [
              0.5555555555555556,
              "#d8576b"
             ],
             [
              0.6666666666666666,
              "#ed7953"
             ],
             [
              0.7777777777777778,
              "#fb9f3a"
             ],
             [
              0.8888888888888888,
              "#fdca26"
             ],
             [
              1,
              "#f0f921"
             ]
            ],
            "type": "histogram2dcontour"
           }
          ],
          "mesh3d": [
           {
            "colorbar": {
             "outlinewidth": 0,
             "ticks": ""
            },
            "type": "mesh3d"
           }
          ],
          "parcoords": [
           {
            "line": {
             "colorbar": {
              "outlinewidth": 0,
              "ticks": ""
             }
            },
            "type": "parcoords"
           }
          ],
          "pie": [
           {
            "automargin": true,
            "type": "pie"
           }
          ],
          "scatter": [
           {
            "fillpattern": {
             "fillmode": "overlay",
             "size": 10,
             "solidity": 0.2
            },
            "type": "scatter"
           }
          ],
          "scatter3d": [
           {
            "line": {
             "colorbar": {
              "outlinewidth": 0,
              "ticks": ""
             }
            },
            "marker": {
             "colorbar": {
              "outlinewidth": 0,
              "ticks": ""
             }
            },
            "type": "scatter3d"
           }
          ],
          "scattercarpet": [
           {
            "marker": {
             "colorbar": {
              "outlinewidth": 0,
              "ticks": ""
             }
            },
            "type": "scattercarpet"
           }
          ],
          "scattergeo": [
           {
            "marker": {
             "colorbar": {
              "outlinewidth": 0,
              "ticks": ""
             }
            },
            "type": "scattergeo"
           }
          ],
          "scattergl": [
           {
            "marker": {
             "colorbar": {
              "outlinewidth": 0,
              "ticks": ""
             }
            },
            "type": "scattergl"
           }
          ],
          "scattermapbox": [
           {
            "marker": {
             "colorbar": {
              "outlinewidth": 0,
              "ticks": ""
             }
            },
            "type": "scattermapbox"
           }
          ],
          "scatterpolar": [
           {
            "marker": {
             "colorbar": {
              "outlinewidth": 0,
              "ticks": ""
             }
            },
            "type": "scatterpolar"
           }
          ],
          "scatterpolargl": [
           {
            "marker": {
             "colorbar": {
              "outlinewidth": 0,
              "ticks": ""
             }
            },
            "type": "scatterpolargl"
           }
          ],
          "scatterternary": [
           {
            "marker": {
             "colorbar": {
              "outlinewidth": 0,
              "ticks": ""
             }
            },
            "type": "scatterternary"
           }
          ],
          "surface": [
           {
            "colorbar": {
             "outlinewidth": 0,
             "ticks": ""
            },
            "colorscale": [
             [
              0,
              "#0d0887"
             ],
             [
              0.1111111111111111,
              "#46039f"
             ],
             [
              0.2222222222222222,
              "#7201a8"
             ],
             [
              0.3333333333333333,
              "#9c179e"
             ],
             [
              0.4444444444444444,
              "#bd3786"
             ],
             [
              0.5555555555555556,
              "#d8576b"
             ],
             [
              0.6666666666666666,
              "#ed7953"
             ],
             [
              0.7777777777777778,
              "#fb9f3a"
             ],
             [
              0.8888888888888888,
              "#fdca26"
             ],
             [
              1,
              "#f0f921"
             ]
            ],
            "type": "surface"
           }
          ],
          "table": [
           {
            "cells": {
             "fill": {
              "color": "#EBF0F8"
             },
             "line": {
              "color": "white"
             }
            },
            "header": {
             "fill": {
              "color": "#C8D4E3"
             },
             "line": {
              "color": "white"
             }
            },
            "type": "table"
           }
          ]
         },
         "layout": {
          "annotationdefaults": {
           "arrowcolor": "#2a3f5f",
           "arrowhead": 0,
           "arrowwidth": 1
          },
          "autotypenumbers": "strict",
          "coloraxis": {
           "colorbar": {
            "outlinewidth": 0,
            "ticks": ""
           }
          },
          "colorscale": {
           "diverging": [
            [
             0,
             "#8e0152"
            ],
            [
             0.1,
             "#c51b7d"
            ],
            [
             0.2,
             "#de77ae"
            ],
            [
             0.3,
             "#f1b6da"
            ],
            [
             0.4,
             "#fde0ef"
            ],
            [
             0.5,
             "#f7f7f7"
            ],
            [
             0.6,
             "#e6f5d0"
            ],
            [
             0.7,
             "#b8e186"
            ],
            [
             0.8,
             "#7fbc41"
            ],
            [
             0.9,
             "#4d9221"
            ],
            [
             1,
             "#276419"
            ]
           ],
           "sequential": [
            [
             0,
             "#0d0887"
            ],
            [
             0.1111111111111111,
             "#46039f"
            ],
            [
             0.2222222222222222,
             "#7201a8"
            ],
            [
             0.3333333333333333,
             "#9c179e"
            ],
            [
             0.4444444444444444,
             "#bd3786"
            ],
            [
             0.5555555555555556,
             "#d8576b"
            ],
            [
             0.6666666666666666,
             "#ed7953"
            ],
            [
             0.7777777777777778,
             "#fb9f3a"
            ],
            [
             0.8888888888888888,
             "#fdca26"
            ],
            [
             1,
             "#f0f921"
            ]
           ],
           "sequentialminus": [
            [
             0,
             "#0d0887"
            ],
            [
             0.1111111111111111,
             "#46039f"
            ],
            [
             0.2222222222222222,
             "#7201a8"
            ],
            [
             0.3333333333333333,
             "#9c179e"
            ],
            [
             0.4444444444444444,
             "#bd3786"
            ],
            [
             0.5555555555555556,
             "#d8576b"
            ],
            [
             0.6666666666666666,
             "#ed7953"
            ],
            [
             0.7777777777777778,
             "#fb9f3a"
            ],
            [
             0.8888888888888888,
             "#fdca26"
            ],
            [
             1,
             "#f0f921"
            ]
           ]
          },
          "colorway": [
           "#636efa",
           "#EF553B",
           "#00cc96",
           "#ab63fa",
           "#FFA15A",
           "#19d3f3",
           "#FF6692",
           "#B6E880",
           "#FF97FF",
           "#FECB52"
          ],
          "font": {
           "color": "#2a3f5f"
          },
          "geo": {
           "bgcolor": "white",
           "lakecolor": "white",
           "landcolor": "white",
           "showlakes": true,
           "showland": true,
           "subunitcolor": "#C8D4E3"
          },
          "hoverlabel": {
           "align": "left"
          },
          "hovermode": "closest",
          "mapbox": {
           "style": "light"
          },
          "paper_bgcolor": "white",
          "plot_bgcolor": "white",
          "polar": {
           "angularaxis": {
            "gridcolor": "#EBF0F8",
            "linecolor": "#EBF0F8",
            "ticks": ""
           },
           "bgcolor": "white",
           "radialaxis": {
            "gridcolor": "#EBF0F8",
            "linecolor": "#EBF0F8",
            "ticks": ""
           }
          },
          "scene": {
           "xaxis": {
            "backgroundcolor": "white",
            "gridcolor": "#DFE8F3",
            "gridwidth": 2,
            "linecolor": "#EBF0F8",
            "showbackground": true,
            "ticks": "",
            "zerolinecolor": "#EBF0F8"
           },
           "yaxis": {
            "backgroundcolor": "white",
            "gridcolor": "#DFE8F3",
            "gridwidth": 2,
            "linecolor": "#EBF0F8",
            "showbackground": true,
            "ticks": "",
            "zerolinecolor": "#EBF0F8"
           },
           "zaxis": {
            "backgroundcolor": "white",
            "gridcolor": "#DFE8F3",
            "gridwidth": 2,
            "linecolor": "#EBF0F8",
            "showbackground": true,
            "ticks": "",
            "zerolinecolor": "#EBF0F8"
           }
          },
          "shapedefaults": {
           "line": {
            "color": "#2a3f5f"
           }
          },
          "ternary": {
           "aaxis": {
            "gridcolor": "#DFE8F3",
            "linecolor": "#A2B1C6",
            "ticks": ""
           },
           "baxis": {
            "gridcolor": "#DFE8F3",
            "linecolor": "#A2B1C6",
            "ticks": ""
           },
           "bgcolor": "white",
           "caxis": {
            "gridcolor": "#DFE8F3",
            "linecolor": "#A2B1C6",
            "ticks": ""
           }
          },
          "title": {
           "x": 0.05
          },
          "xaxis": {
           "automargin": true,
           "gridcolor": "#EBF0F8",
           "linecolor": "#EBF0F8",
           "ticks": "",
           "title": {
            "standoff": 15
           },
           "zerolinecolor": "#EBF0F8",
           "zerolinewidth": 2
          },
          "yaxis": {
           "automargin": true,
           "gridcolor": "#EBF0F8",
           "linecolor": "#EBF0F8",
           "ticks": "",
           "title": {
            "standoff": 15
           },
           "zerolinecolor": "#EBF0F8",
           "zerolinewidth": 2
          }
         }
        },
        "title": {
         "font": {
          "color": "Black",
          "size": 22
         },
         "text": "Topic Word Scores",
         "x": 0.5,
         "xanchor": "center",
         "yanchor": "top"
        },
        "width": 1000,
        "xaxis": {
         "anchor": "y",
         "domain": [
          0,
          0.175
         ],
         "showgrid": true
        },
        "xaxis2": {
         "anchor": "y2",
         "domain": [
          0.275,
          0.45
         ],
         "showgrid": true
        },
        "xaxis3": {
         "anchor": "y3",
         "domain": [
          0.55,
          0.7250000000000001
         ],
         "showgrid": true
        },
        "xaxis4": {
         "anchor": "y4",
         "domain": [
          0.825,
          1
         ],
         "showgrid": true
        },
        "xaxis5": {
         "anchor": "y5",
         "domain": [
          0,
          0.175
         ],
         "showgrid": true
        },
        "xaxis6": {
         "anchor": "y6",
         "domain": [
          0.275,
          0.45
         ],
         "showgrid": true
        },
        "xaxis7": {
         "anchor": "y7",
         "domain": [
          0.55,
          0.7250000000000001
         ],
         "showgrid": true
        },
        "xaxis8": {
         "anchor": "y8",
         "domain": [
          0.825,
          1
         ],
         "showgrid": true
        },
        "yaxis": {
         "anchor": "x",
         "domain": [
          0.6000000000000001,
          1
         ],
         "showgrid": true
        },
        "yaxis2": {
         "anchor": "x2",
         "domain": [
          0.6000000000000001,
          1
         ],
         "showgrid": true
        },
        "yaxis3": {
         "anchor": "x3",
         "domain": [
          0.6000000000000001,
          1
         ],
         "showgrid": true
        },
        "yaxis4": {
         "anchor": "x4",
         "domain": [
          0.6000000000000001,
          1
         ],
         "showgrid": true
        },
        "yaxis5": {
         "anchor": "x5",
         "domain": [
          0,
          0.4
         ],
         "showgrid": true
        },
        "yaxis6": {
         "anchor": "x6",
         "domain": [
          0,
          0.4
         ],
         "showgrid": true
        },
        "yaxis7": {
         "anchor": "x7",
         "domain": [
          0,
          0.4
         ],
         "showgrid": true
        },
        "yaxis8": {
         "anchor": "x8",
         "domain": [
          0,
          0.4
         ],
         "showgrid": true
        }
       }
      }
     },
     "metadata": {},
     "output_type": "display_data"
    }
   ],
   "source": [
    "topic_model.visualize_barchart()"
   ]
  },
  {
   "cell_type": "code",
   "execution_count": 6,
   "metadata": {},
   "outputs": [
    {
     "data": {
      "application/vnd.plotly.v1+json": {
       "config": {
        "plotlyServerURL": "https://plot.ly"
       },
       "data": [
        {
         "customdata": [
          [
           0,
           "shelf | shelving | shelves | unit | great",
           259
          ],
          [
           1,
           "tv | stand | use | using | perfect",
           137
          ],
          [
           2,
           "assemble | easy | assembly | good | instructions",
           134
          ],
          [
           3,
           "closet | clothes | organizer | perfect | walk",
           106
          ],
          [
           4,
           "kallax | love | delivery | versatile | product",
           106
          ],
          [
           5,
           "bookcase | books | bookshelf | bookcases | desk",
           99
          ],
          [
           6,
           "kallax | shelf | shelves | shelving | unit",
           93
          ],
          [
           7,
           "vinyl | records | record | collection | albums",
           80
          ],
          [
           8,
           "holes | dowels | wooden | screws | wood",
           67
          ],
          [
           9,
           "toy | toys | kid | kids | storage",
           64
          ],
          [
           10,
           "gloss | white | grey | high | color",
           60
          ],
          [
           11,
           "storage | options | solution | needs | efficient",
           59
          ],
          [
           12,
           "works | exactly | needed | purpose | wanted",
           57
          ],
          [
           13,
           "quality | good | price | reasonable | service",
           56
          ],
          [
           14,
           "vertical | horizontal | vertically | horizontally | use",
           53
          ],
          [
           15,
           "kallax | storage | units | dependable | solution",
           47
          ],
          [
           16,
           "sturdy | nice | strong | construction | bracing",
           45
          ],
          [
           17,
           "fits | space | suits | perfect | fit",
           44
          ],
          [
           18,
           "love | sturdiness | second | cute | ease",
           42
          ],
          [
           19,
           "kallax | studio | units | items | 2x4",
           40
          ],
          [
           20,
           "furniture | piece | affordable | steady | practical",
           40
          ],
          [
           21,
           "good | ok | bad | say | like",
           39
          ],
          [
           22,
           "looks | easy | set | contemporary | good",
           39
          ],
          [
           23,
           "daughter | kids | room | rooms | play",
           38
          ],
          [
           24,
           "ikea | easiest | quality | furniture | products",
           38
          ],
          [
           25,
           "cubes | cube | storage | best | cubby",
           38
          ],
          [
           26,
           "excellent | great | awesome | fantastic | awful",
           36
          ],
          [
           27,
           "product | excellent | great | wounderful | solution",
           33
          ],
          [
           28,
           "value | money | good | price | multifunctional",
           32
          ],
          [
           29,
           "bedroom | room | living | addition | bomb",
           32
          ],
          [
           30,
           "fittings | kallax | assemble | allow | metal",
           32
          ],
          [
           31,
           "product | good | price | fine | mr",
           31
          ],
          [
           32,
           "books | toys | daughters | kids | playroom",
           30
          ],
          [
           33,
           "sturdy | assemble | easy | strong | assembled",
           28
          ],
          [
           34,
           "install | build | installation | super | easy",
           27
          ],
          [
           35,
           "sewing | fabric | room | knitting | yarn",
           26
          ],
          [
           36,
           "perfect | 4x3kallax | versitile | exactly | perfects",
           26
          ],
          [
           37,
           "bookcase | kallax | books | bookshelf | bookcases",
           25
          ],
          [
           38,
           "assemble | storage | easy | sleek | quick",
           25
          ],
          [
           39,
           "craft | room | certain | craftroom | im",
           25
          ],
          [
           40,
           "happy | pleased | product | surprised | satisfied",
           25
          ],
          [
           41,
           "ago | month | happy | bought | weeks",
           21
          ],
          [
           42,
           "unit | practical | units | toi | shell",
           21
          ],
          [
           43,
           "new | ikea | quality | version | disappointed",
           20
          ],
          [
           44,
           "craft | room | kallax | calm | change",
           19
          ],
          [
           45,
           "color | forever | available | hope | colour",
           19
          ],
          [
           46,
           "cutting | table | sewing | base | plywood",
           17
          ],
          [
           47,
           "ikea | doors | knobs | drawers | wood",
           17
          ],
          [
           48,
           "assemble | living | room | organiser | transformed",
           17
          ],
          [
           49,
           "unit | storage | functional | great | saving",
           16
          ],
          [
           50,
           "craft | room | dorm | shelving | shelf",
           15
          ],
          [
           51,
           "job | winner | easy | title | overwhelming",
           15
          ],
          [
           52,
           "versatile | configurations | cookbooks | quite | versatility",
           14
          ],
          [
           53,
           "closet | kallax | linen | fit | clothes",
           14
          ],
          [
           54,
           "boxes | cardboard | containers | cart | decorate",
           14
          ],
          [
           55,
           "expected | expectations | meets | exactly | expectation",
           12
          ],
          [
           56,
           "nice | thanks | neat | really | great",
           12
          ],
          [
           57,
           "functional | multifunctional | predictably | minimal | seen",
           11
          ],
          [
           58,
           "nice | product | item | finish | color",
           10
          ],
          [
           59,
           "matching | ikea | shelves | shelf | best",
           10
          ]
         ],
         "hovertemplate": "<b>Topic %{customdata[0]}</b><br>%{customdata[1]}<br>Size: %{customdata[2]}",
         "legendgroup": "",
         "marker": {
          "color": "#B0BEC5",
          "line": {
           "color": "DarkSlateGrey",
           "width": 2
          },
          "size": [
           259,
           137,
           134,
           106,
           106,
           99,
           93,
           80,
           67,
           64,
           60,
           59,
           57,
           56,
           53,
           47,
           45,
           44,
           42,
           40,
           40,
           39,
           39,
           38,
           38,
           38,
           36,
           33,
           32,
           32,
           32,
           31,
           30,
           28,
           27,
           26,
           26,
           25,
           25,
           25,
           25,
           21,
           21,
           20,
           19,
           19,
           17,
           17,
           17,
           16,
           15,
           15,
           14,
           14,
           14,
           12,
           12,
           11,
           10,
           10
          ],
          "sizemode": "area",
          "sizeref": 0.161875,
          "symbol": "circle"
         },
         "mode": "markers",
         "name": "",
         "orientation": "v",
         "showlegend": false,
         "type": "scatter",
         "x": [
          10.252283096313477,
          10.276938438415527,
          -4.050076484680176,
          1.3364243507385254,
          -9.051396369934082,
          -10.603387832641602,
          -10.243900299072266,
          10.310561180114746,
          11.628835678100586,
          -5.6135663986206055,
          -2.3380260467529297,
          -0.4303978979587555,
          9.38012981414795,
          9.439146041870117,
          9.645882606506348,
          -9.855844497680664,
          -3.799363136291504,
          -2.6341488361358643,
          -2.2408463954925537,
          -10.674294471740723,
          11.297611236572266,
          3.9373409748077393,
          7.8516974449157715,
          -2.836911678314209,
          11.407021522521973,
          -11.074932098388672,
          3.83135986328125,
          6.9601922035217285,
          9.45534896850586,
          -2.7885396480560303,
          -8.963300704956055,
          7.128438949584961,
          -5.591624736785889,
          -3.93043851852417,
          7.864691257476807,
          9.063352584838867,
          -2.3829758167266846,
          -10.603411674499512,
          -4.030897617340088,
          9.329679489135742,
          17.611589431762695,
          17.61160659790039,
          -0.47695958614349365,
          11.658470153808594,
          -9.317241668701172,
          -2.337357997894287,
          8.910684585571289,
          -10.529336929321289,
          -3.946500301361084,
          -0.37547633051872253,
          9.654692649841309,
          7.955708026885986,
          -11.042888641357422,
          1.339026927947998,
          -10.903284072875977,
          -2.2327022552490234,
          3.703707695007324,
          -11.148621559143066,
          7.033784866333008,
          10.719036102294922
         ],
         "xaxis": "x",
         "y": [
          13.114120483398438,
          13.053363800048828,
          3.383960247039795,
          3.7435660362243652,
          1.040076732635498,
          7.403812408447266,
          0.7408500909805298,
          12.969828605651855,
          13.883206367492676,
          13.566875457763672,
          10.227151870727539,
          0.8021190166473389,
          -3.7168493270874023,
          -3.6581614017486572,
          12.912745475769043,
          0.771565318107605,
          2.805706739425659,
          -2.0176780223846436,
          -2.087263822555542,
          0.7789528369903564,
          13.809667587280273,
          -0.03073040582239628,
          9.263010025024414,
          -1.8513669967651367,
          13.868858337402344,
          0.2864397466182709,
          -0.13750769197940826,
          -6.151010036468506,
          -3.6418468952178955,
          -1.8971683979034424,
          1.1221057176589966,
          -6.3192949295043945,
          13.561680793762207,
          2.920320510864258,
          9.275390625,
          12.745627403259277,
          -2.3056607246398926,
          7.403816223144531,
          3.5086638927459717,
          12.861905097961426,
          2.1647939682006836,
          2.1648049354553223,
          0.8491435647010803,
          13.921013832092285,
          0.936800479888916,
          10.226558685302734,
          12.62930679321289,
          0.40240150690078735,
          3.2880280017852783,
          0.7476586103439331,
          12.936271667480469,
          9.36827278137207,
          1.0076929330825806,
          3.7448954582214355,
          0.46766847372055054,
          -2.206179618835449,
          -0.2654159665107727,
          1.0822432041168213,
          -6.224737644195557,
          13.417243957519531
         ],
         "yaxis": "y"
        }
       ],
       "layout": {
        "annotations": [
         {
          "showarrow": false,
          "text": "D1",
          "x": -12.820914793014527,
          "y": 4.370988368988036,
          "yshift": 10
         },
         {
          "showarrow": false,
          "text": "D2",
          "x": 3.7162163972854607,
          "xshift": 10,
          "y": 16.009165906906127
         }
        ],
        "height": 650,
        "hoverlabel": {
         "bgcolor": "white",
         "font": {
          "family": "Rockwell",
          "size": 16
         }
        },
        "legend": {
         "itemsizing": "constant",
         "tracegroupgap": 0
        },
        "margin": {
         "t": 60
        },
        "shapes": [
         {
          "line": {
           "color": "#CFD8DC",
           "width": 2
          },
          "type": "line",
          "x0": 3.7162163972854607,
          "x1": 3.7162163972854607,
          "y0": -7.267189168930054,
          "y1": 16.009165906906127
         },
         {
          "line": {
           "color": "#9E9E9E",
           "width": 2
          },
          "type": "line",
          "x0": -12.820914793014527,
          "x1": 20.25334758758545,
          "y0": 4.370988368988036,
          "y1": 4.370988368988036
         }
        ],
        "sliders": [
         {
          "active": 0,
          "pad": {
           "t": 50
          },
          "steps": [
           {
            "args": [
             {
              "marker.color": [
               [
                "red",
                "#B0BEC5",
                "#B0BEC5",
                "#B0BEC5",
                "#B0BEC5",
                "#B0BEC5",
                "#B0BEC5",
                "#B0BEC5",
                "#B0BEC5",
                "#B0BEC5",
                "#B0BEC5",
                "#B0BEC5",
                "#B0BEC5",
                "#B0BEC5",
                "#B0BEC5",
                "#B0BEC5",
                "#B0BEC5",
                "#B0BEC5",
                "#B0BEC5",
                "#B0BEC5",
                "#B0BEC5",
                "#B0BEC5",
                "#B0BEC5",
                "#B0BEC5",
                "#B0BEC5",
                "#B0BEC5",
                "#B0BEC5",
                "#B0BEC5",
                "#B0BEC5",
                "#B0BEC5",
                "#B0BEC5",
                "#B0BEC5",
                "#B0BEC5",
                "#B0BEC5",
                "#B0BEC5",
                "#B0BEC5",
                "#B0BEC5",
                "#B0BEC5",
                "#B0BEC5",
                "#B0BEC5",
                "#B0BEC5",
                "#B0BEC5",
                "#B0BEC5",
                "#B0BEC5",
                "#B0BEC5",
                "#B0BEC5",
                "#B0BEC5",
                "#B0BEC5",
                "#B0BEC5",
                "#B0BEC5",
                "#B0BEC5",
                "#B0BEC5",
                "#B0BEC5",
                "#B0BEC5",
                "#B0BEC5",
                "#B0BEC5",
                "#B0BEC5",
                "#B0BEC5",
                "#B0BEC5",
                "#B0BEC5"
               ]
              ]
             }
            ],
            "label": "Topic 0",
            "method": "update"
           },
           {
            "args": [
             {
              "marker.color": [
               [
                "#B0BEC5",
                "red",
                "#B0BEC5",
                "#B0BEC5",
                "#B0BEC5",
                "#B0BEC5",
                "#B0BEC5",
                "#B0BEC5",
                "#B0BEC5",
                "#B0BEC5",
                "#B0BEC5",
                "#B0BEC5",
                "#B0BEC5",
                "#B0BEC5",
                "#B0BEC5",
                "#B0BEC5",
                "#B0BEC5",
                "#B0BEC5",
                "#B0BEC5",
                "#B0BEC5",
                "#B0BEC5",
                "#B0BEC5",
                "#B0BEC5",
                "#B0BEC5",
                "#B0BEC5",
                "#B0BEC5",
                "#B0BEC5",
                "#B0BEC5",
                "#B0BEC5",
                "#B0BEC5",
                "#B0BEC5",
                "#B0BEC5",
                "#B0BEC5",
                "#B0BEC5",
                "#B0BEC5",
                "#B0BEC5",
                "#B0BEC5",
                "#B0BEC5",
                "#B0BEC5",
                "#B0BEC5",
                "#B0BEC5",
                "#B0BEC5",
                "#B0BEC5",
                "#B0BEC5",
                "#B0BEC5",
                "#B0BEC5",
                "#B0BEC5",
                "#B0BEC5",
                "#B0BEC5",
                "#B0BEC5",
                "#B0BEC5",
                "#B0BEC5",
                "#B0BEC5",
                "#B0BEC5",
                "#B0BEC5",
                "#B0BEC5",
                "#B0BEC5",
                "#B0BEC5",
                "#B0BEC5",
                "#B0BEC5"
               ]
              ]
             }
            ],
            "label": "Topic 1",
            "method": "update"
           },
           {
            "args": [
             {
              "marker.color": [
               [
                "#B0BEC5",
                "#B0BEC5",
                "red",
                "#B0BEC5",
                "#B0BEC5",
                "#B0BEC5",
                "#B0BEC5",
                "#B0BEC5",
                "#B0BEC5",
                "#B0BEC5",
                "#B0BEC5",
                "#B0BEC5",
                "#B0BEC5",
                "#B0BEC5",
                "#B0BEC5",
                "#B0BEC5",
                "#B0BEC5",
                "#B0BEC5",
                "#B0BEC5",
                "#B0BEC5",
                "#B0BEC5",
                "#B0BEC5",
                "#B0BEC5",
                "#B0BEC5",
                "#B0BEC5",
                "#B0BEC5",
                "#B0BEC5",
                "#B0BEC5",
                "#B0BEC5",
                "#B0BEC5",
                "#B0BEC5",
                "#B0BEC5",
                "#B0BEC5",
                "#B0BEC5",
                "#B0BEC5",
                "#B0BEC5",
                "#B0BEC5",
                "#B0BEC5",
                "#B0BEC5",
                "#B0BEC5",
                "#B0BEC5",
                "#B0BEC5",
                "#B0BEC5",
                "#B0BEC5",
                "#B0BEC5",
                "#B0BEC5",
                "#B0BEC5",
                "#B0BEC5",
                "#B0BEC5",
                "#B0BEC5",
                "#B0BEC5",
                "#B0BEC5",
                "#B0BEC5",
                "#B0BEC5",
                "#B0BEC5",
                "#B0BEC5",
                "#B0BEC5",
                "#B0BEC5",
                "#B0BEC5",
                "#B0BEC5"
               ]
              ]
             }
            ],
            "label": "Topic 2",
            "method": "update"
           },
           {
            "args": [
             {
              "marker.color": [
               [
                "#B0BEC5",
                "#B0BEC5",
                "#B0BEC5",
                "red",
                "#B0BEC5",
                "#B0BEC5",
                "#B0BEC5",
                "#B0BEC5",
                "#B0BEC5",
                "#B0BEC5",
                "#B0BEC5",
                "#B0BEC5",
                "#B0BEC5",
                "#B0BEC5",
                "#B0BEC5",
                "#B0BEC5",
                "#B0BEC5",
                "#B0BEC5",
                "#B0BEC5",
                "#B0BEC5",
                "#B0BEC5",
                "#B0BEC5",
                "#B0BEC5",
                "#B0BEC5",
                "#B0BEC5",
                "#B0BEC5",
                "#B0BEC5",
                "#B0BEC5",
                "#B0BEC5",
                "#B0BEC5",
                "#B0BEC5",
                "#B0BEC5",
                "#B0BEC5",
                "#B0BEC5",
                "#B0BEC5",
                "#B0BEC5",
                "#B0BEC5",
                "#B0BEC5",
                "#B0BEC5",
                "#B0BEC5",
                "#B0BEC5",
                "#B0BEC5",
                "#B0BEC5",
                "#B0BEC5",
                "#B0BEC5",
                "#B0BEC5",
                "#B0BEC5",
                "#B0BEC5",
                "#B0BEC5",
                "#B0BEC5",
                "#B0BEC5",
                "#B0BEC5",
                "#B0BEC5",
                "#B0BEC5",
                "#B0BEC5",
                "#B0BEC5",
                "#B0BEC5",
                "#B0BEC5",
                "#B0BEC5",
                "#B0BEC5"
               ]
              ]
             }
            ],
            "label": "Topic 3",
            "method": "update"
           },
           {
            "args": [
             {
              "marker.color": [
               [
                "#B0BEC5",
                "#B0BEC5",
                "#B0BEC5",
                "#B0BEC5",
                "red",
                "#B0BEC5",
                "#B0BEC5",
                "#B0BEC5",
                "#B0BEC5",
                "#B0BEC5",
                "#B0BEC5",
                "#B0BEC5",
                "#B0BEC5",
                "#B0BEC5",
                "#B0BEC5",
                "#B0BEC5",
                "#B0BEC5",
                "#B0BEC5",
                "#B0BEC5",
                "#B0BEC5",
                "#B0BEC5",
                "#B0BEC5",
                "#B0BEC5",
                "#B0BEC5",
                "#B0BEC5",
                "#B0BEC5",
                "#B0BEC5",
                "#B0BEC5",
                "#B0BEC5",
                "#B0BEC5",
                "#B0BEC5",
                "#B0BEC5",
                "#B0BEC5",
                "#B0BEC5",
                "#B0BEC5",
                "#B0BEC5",
                "#B0BEC5",
                "#B0BEC5",
                "#B0BEC5",
                "#B0BEC5",
                "#B0BEC5",
                "#B0BEC5",
                "#B0BEC5",
                "#B0BEC5",
                "#B0BEC5",
                "#B0BEC5",
                "#B0BEC5",
                "#B0BEC5",
                "#B0BEC5",
                "#B0BEC5",
                "#B0BEC5",
                "#B0BEC5",
                "#B0BEC5",
                "#B0BEC5",
                "#B0BEC5",
                "#B0BEC5",
                "#B0BEC5",
                "#B0BEC5",
                "#B0BEC5",
                "#B0BEC5"
               ]
              ]
             }
            ],
            "label": "Topic 4",
            "method": "update"
           },
           {
            "args": [
             {
              "marker.color": [
               [
                "#B0BEC5",
                "#B0BEC5",
                "#B0BEC5",
                "#B0BEC5",
                "#B0BEC5",
                "red",
                "#B0BEC5",
                "#B0BEC5",
                "#B0BEC5",
                "#B0BEC5",
                "#B0BEC5",
                "#B0BEC5",
                "#B0BEC5",
                "#B0BEC5",
                "#B0BEC5",
                "#B0BEC5",
                "#B0BEC5",
                "#B0BEC5",
                "#B0BEC5",
                "#B0BEC5",
                "#B0BEC5",
                "#B0BEC5",
                "#B0BEC5",
                "#B0BEC5",
                "#B0BEC5",
                "#B0BEC5",
                "#B0BEC5",
                "#B0BEC5",
                "#B0BEC5",
                "#B0BEC5",
                "#B0BEC5",
                "#B0BEC5",
                "#B0BEC5",
                "#B0BEC5",
                "#B0BEC5",
                "#B0BEC5",
                "#B0BEC5",
                "#B0BEC5",
                "#B0BEC5",
                "#B0BEC5",
                "#B0BEC5",
                "#B0BEC5",
                "#B0BEC5",
                "#B0BEC5",
                "#B0BEC5",
                "#B0BEC5",
                "#B0BEC5",
                "#B0BEC5",
                "#B0BEC5",
                "#B0BEC5",
                "#B0BEC5",
                "#B0BEC5",
                "#B0BEC5",
                "#B0BEC5",
                "#B0BEC5",
                "#B0BEC5",
                "#B0BEC5",
                "#B0BEC5",
                "#B0BEC5",
                "#B0BEC5"
               ]
              ]
             }
            ],
            "label": "Topic 5",
            "method": "update"
           },
           {
            "args": [
             {
              "marker.color": [
               [
                "#B0BEC5",
                "#B0BEC5",
                "#B0BEC5",
                "#B0BEC5",
                "#B0BEC5",
                "#B0BEC5",
                "red",
                "#B0BEC5",
                "#B0BEC5",
                "#B0BEC5",
                "#B0BEC5",
                "#B0BEC5",
                "#B0BEC5",
                "#B0BEC5",
                "#B0BEC5",
                "#B0BEC5",
                "#B0BEC5",
                "#B0BEC5",
                "#B0BEC5",
                "#B0BEC5",
                "#B0BEC5",
                "#B0BEC5",
                "#B0BEC5",
                "#B0BEC5",
                "#B0BEC5",
                "#B0BEC5",
                "#B0BEC5",
                "#B0BEC5",
                "#B0BEC5",
                "#B0BEC5",
                "#B0BEC5",
                "#B0BEC5",
                "#B0BEC5",
                "#B0BEC5",
                "#B0BEC5",
                "#B0BEC5",
                "#B0BEC5",
                "#B0BEC5",
                "#B0BEC5",
                "#B0BEC5",
                "#B0BEC5",
                "#B0BEC5",
                "#B0BEC5",
                "#B0BEC5",
                "#B0BEC5",
                "#B0BEC5",
                "#B0BEC5",
                "#B0BEC5",
                "#B0BEC5",
                "#B0BEC5",
                "#B0BEC5",
                "#B0BEC5",
                "#B0BEC5",
                "#B0BEC5",
                "#B0BEC5",
                "#B0BEC5",
                "#B0BEC5",
                "#B0BEC5",
                "#B0BEC5",
                "#B0BEC5"
               ]
              ]
             }
            ],
            "label": "Topic 6",
            "method": "update"
           },
           {
            "args": [
             {
              "marker.color": [
               [
                "#B0BEC5",
                "#B0BEC5",
                "#B0BEC5",
                "#B0BEC5",
                "#B0BEC5",
                "#B0BEC5",
                "#B0BEC5",
                "red",
                "#B0BEC5",
                "#B0BEC5",
                "#B0BEC5",
                "#B0BEC5",
                "#B0BEC5",
                "#B0BEC5",
                "#B0BEC5",
                "#B0BEC5",
                "#B0BEC5",
                "#B0BEC5",
                "#B0BEC5",
                "#B0BEC5",
                "#B0BEC5",
                "#B0BEC5",
                "#B0BEC5",
                "#B0BEC5",
                "#B0BEC5",
                "#B0BEC5",
                "#B0BEC5",
                "#B0BEC5",
                "#B0BEC5",
                "#B0BEC5",
                "#B0BEC5",
                "#B0BEC5",
                "#B0BEC5",
                "#B0BEC5",
                "#B0BEC5",
                "#B0BEC5",
                "#B0BEC5",
                "#B0BEC5",
                "#B0BEC5",
                "#B0BEC5",
                "#B0BEC5",
                "#B0BEC5",
                "#B0BEC5",
                "#B0BEC5",
                "#B0BEC5",
                "#B0BEC5",
                "#B0BEC5",
                "#B0BEC5",
                "#B0BEC5",
                "#B0BEC5",
                "#B0BEC5",
                "#B0BEC5",
                "#B0BEC5",
                "#B0BEC5",
                "#B0BEC5",
                "#B0BEC5",
                "#B0BEC5",
                "#B0BEC5",
                "#B0BEC5",
                "#B0BEC5"
               ]
              ]
             }
            ],
            "label": "Topic 7",
            "method": "update"
           },
           {
            "args": [
             {
              "marker.color": [
               [
                "#B0BEC5",
                "#B0BEC5",
                "#B0BEC5",
                "#B0BEC5",
                "#B0BEC5",
                "#B0BEC5",
                "#B0BEC5",
                "#B0BEC5",
                "red",
                "#B0BEC5",
                "#B0BEC5",
                "#B0BEC5",
                "#B0BEC5",
                "#B0BEC5",
                "#B0BEC5",
                "#B0BEC5",
                "#B0BEC5",
                "#B0BEC5",
                "#B0BEC5",
                "#B0BEC5",
                "#B0BEC5",
                "#B0BEC5",
                "#B0BEC5",
                "#B0BEC5",
                "#B0BEC5",
                "#B0BEC5",
                "#B0BEC5",
                "#B0BEC5",
                "#B0BEC5",
                "#B0BEC5",
                "#B0BEC5",
                "#B0BEC5",
                "#B0BEC5",
                "#B0BEC5",
                "#B0BEC5",
                "#B0BEC5",
                "#B0BEC5",
                "#B0BEC5",
                "#B0BEC5",
                "#B0BEC5",
                "#B0BEC5",
                "#B0BEC5",
                "#B0BEC5",
                "#B0BEC5",
                "#B0BEC5",
                "#B0BEC5",
                "#B0BEC5",
                "#B0BEC5",
                "#B0BEC5",
                "#B0BEC5",
                "#B0BEC5",
                "#B0BEC5",
                "#B0BEC5",
                "#B0BEC5",
                "#B0BEC5",
                "#B0BEC5",
                "#B0BEC5",
                "#B0BEC5",
                "#B0BEC5",
                "#B0BEC5"
               ]
              ]
             }
            ],
            "label": "Topic 8",
            "method": "update"
           },
           {
            "args": [
             {
              "marker.color": [
               [
                "#B0BEC5",
                "#B0BEC5",
                "#B0BEC5",
                "#B0BEC5",
                "#B0BEC5",
                "#B0BEC5",
                "#B0BEC5",
                "#B0BEC5",
                "#B0BEC5",
                "red",
                "#B0BEC5",
                "#B0BEC5",
                "#B0BEC5",
                "#B0BEC5",
                "#B0BEC5",
                "#B0BEC5",
                "#B0BEC5",
                "#B0BEC5",
                "#B0BEC5",
                "#B0BEC5",
                "#B0BEC5",
                "#B0BEC5",
                "#B0BEC5",
                "#B0BEC5",
                "#B0BEC5",
                "#B0BEC5",
                "#B0BEC5",
                "#B0BEC5",
                "#B0BEC5",
                "#B0BEC5",
                "#B0BEC5",
                "#B0BEC5",
                "#B0BEC5",
                "#B0BEC5",
                "#B0BEC5",
                "#B0BEC5",
                "#B0BEC5",
                "#B0BEC5",
                "#B0BEC5",
                "#B0BEC5",
                "#B0BEC5",
                "#B0BEC5",
                "#B0BEC5",
                "#B0BEC5",
                "#B0BEC5",
                "#B0BEC5",
                "#B0BEC5",
                "#B0BEC5",
                "#B0BEC5",
                "#B0BEC5",
                "#B0BEC5",
                "#B0BEC5",
                "#B0BEC5",
                "#B0BEC5",
                "#B0BEC5",
                "#B0BEC5",
                "#B0BEC5",
                "#B0BEC5",
                "#B0BEC5",
                "#B0BEC5"
               ]
              ]
             }
            ],
            "label": "Topic 9",
            "method": "update"
           },
           {
            "args": [
             {
              "marker.color": [
               [
                "#B0BEC5",
                "#B0BEC5",
                "#B0BEC5",
                "#B0BEC5",
                "#B0BEC5",
                "#B0BEC5",
                "#B0BEC5",
                "#B0BEC5",
                "#B0BEC5",
                "#B0BEC5",
                "red",
                "#B0BEC5",
                "#B0BEC5",
                "#B0BEC5",
                "#B0BEC5",
                "#B0BEC5",
                "#B0BEC5",
                "#B0BEC5",
                "#B0BEC5",
                "#B0BEC5",
                "#B0BEC5",
                "#B0BEC5",
                "#B0BEC5",
                "#B0BEC5",
                "#B0BEC5",
                "#B0BEC5",
                "#B0BEC5",
                "#B0BEC5",
                "#B0BEC5",
                "#B0BEC5",
                "#B0BEC5",
                "#B0BEC5",
                "#B0BEC5",
                "#B0BEC5",
                "#B0BEC5",
                "#B0BEC5",
                "#B0BEC5",
                "#B0BEC5",
                "#B0BEC5",
                "#B0BEC5",
                "#B0BEC5",
                "#B0BEC5",
                "#B0BEC5",
                "#B0BEC5",
                "#B0BEC5",
                "#B0BEC5",
                "#B0BEC5",
                "#B0BEC5",
                "#B0BEC5",
                "#B0BEC5",
                "#B0BEC5",
                "#B0BEC5",
                "#B0BEC5",
                "#B0BEC5",
                "#B0BEC5",
                "#B0BEC5",
                "#B0BEC5",
                "#B0BEC5",
                "#B0BEC5",
                "#B0BEC5"
               ]
              ]
             }
            ],
            "label": "Topic 10",
            "method": "update"
           },
           {
            "args": [
             {
              "marker.color": [
               [
                "#B0BEC5",
                "#B0BEC5",
                "#B0BEC5",
                "#B0BEC5",
                "#B0BEC5",
                "#B0BEC5",
                "#B0BEC5",
                "#B0BEC5",
                "#B0BEC5",
                "#B0BEC5",
                "#B0BEC5",
                "red",
                "#B0BEC5",
                "#B0BEC5",
                "#B0BEC5",
                "#B0BEC5",
                "#B0BEC5",
                "#B0BEC5",
                "#B0BEC5",
                "#B0BEC5",
                "#B0BEC5",
                "#B0BEC5",
                "#B0BEC5",
                "#B0BEC5",
                "#B0BEC5",
                "#B0BEC5",
                "#B0BEC5",
                "#B0BEC5",
                "#B0BEC5",
                "#B0BEC5",
                "#B0BEC5",
                "#B0BEC5",
                "#B0BEC5",
                "#B0BEC5",
                "#B0BEC5",
                "#B0BEC5",
                "#B0BEC5",
                "#B0BEC5",
                "#B0BEC5",
                "#B0BEC5",
                "#B0BEC5",
                "#B0BEC5",
                "#B0BEC5",
                "#B0BEC5",
                "#B0BEC5",
                "#B0BEC5",
                "#B0BEC5",
                "#B0BEC5",
                "#B0BEC5",
                "#B0BEC5",
                "#B0BEC5",
                "#B0BEC5",
                "#B0BEC5",
                "#B0BEC5",
                "#B0BEC5",
                "#B0BEC5",
                "#B0BEC5",
                "#B0BEC5",
                "#B0BEC5",
                "#B0BEC5"
               ]
              ]
             }
            ],
            "label": "Topic 11",
            "method": "update"
           },
           {
            "args": [
             {
              "marker.color": [
               [
                "#B0BEC5",
                "#B0BEC5",
                "#B0BEC5",
                "#B0BEC5",
                "#B0BEC5",
                "#B0BEC5",
                "#B0BEC5",
                "#B0BEC5",
                "#B0BEC5",
                "#B0BEC5",
                "#B0BEC5",
                "#B0BEC5",
                "red",
                "#B0BEC5",
                "#B0BEC5",
                "#B0BEC5",
                "#B0BEC5",
                "#B0BEC5",
                "#B0BEC5",
                "#B0BEC5",
                "#B0BEC5",
                "#B0BEC5",
                "#B0BEC5",
                "#B0BEC5",
                "#B0BEC5",
                "#B0BEC5",
                "#B0BEC5",
                "#B0BEC5",
                "#B0BEC5",
                "#B0BEC5",
                "#B0BEC5",
                "#B0BEC5",
                "#B0BEC5",
                "#B0BEC5",
                "#B0BEC5",
                "#B0BEC5",
                "#B0BEC5",
                "#B0BEC5",
                "#B0BEC5",
                "#B0BEC5",
                "#B0BEC5",
                "#B0BEC5",
                "#B0BEC5",
                "#B0BEC5",
                "#B0BEC5",
                "#B0BEC5",
                "#B0BEC5",
                "#B0BEC5",
                "#B0BEC5",
                "#B0BEC5",
                "#B0BEC5",
                "#B0BEC5",
                "#B0BEC5",
                "#B0BEC5",
                "#B0BEC5",
                "#B0BEC5",
                "#B0BEC5",
                "#B0BEC5",
                "#B0BEC5",
                "#B0BEC5"
               ]
              ]
             }
            ],
            "label": "Topic 12",
            "method": "update"
           },
           {
            "args": [
             {
              "marker.color": [
               [
                "#B0BEC5",
                "#B0BEC5",
                "#B0BEC5",
                "#B0BEC5",
                "#B0BEC5",
                "#B0BEC5",
                "#B0BEC5",
                "#B0BEC5",
                "#B0BEC5",
                "#B0BEC5",
                "#B0BEC5",
                "#B0BEC5",
                "#B0BEC5",
                "red",
                "#B0BEC5",
                "#B0BEC5",
                "#B0BEC5",
                "#B0BEC5",
                "#B0BEC5",
                "#B0BEC5",
                "#B0BEC5",
                "#B0BEC5",
                "#B0BEC5",
                "#B0BEC5",
                "#B0BEC5",
                "#B0BEC5",
                "#B0BEC5",
                "#B0BEC5",
                "#B0BEC5",
                "#B0BEC5",
                "#B0BEC5",
                "#B0BEC5",
                "#B0BEC5",
                "#B0BEC5",
                "#B0BEC5",
                "#B0BEC5",
                "#B0BEC5",
                "#B0BEC5",
                "#B0BEC5",
                "#B0BEC5",
                "#B0BEC5",
                "#B0BEC5",
                "#B0BEC5",
                "#B0BEC5",
                "#B0BEC5",
                "#B0BEC5",
                "#B0BEC5",
                "#B0BEC5",
                "#B0BEC5",
                "#B0BEC5",
                "#B0BEC5",
                "#B0BEC5",
                "#B0BEC5",
                "#B0BEC5",
                "#B0BEC5",
                "#B0BEC5",
                "#B0BEC5",
                "#B0BEC5",
                "#B0BEC5",
                "#B0BEC5"
               ]
              ]
             }
            ],
            "label": "Topic 13",
            "method": "update"
           },
           {
            "args": [
             {
              "marker.color": [
               [
                "#B0BEC5",
                "#B0BEC5",
                "#B0BEC5",
                "#B0BEC5",
                "#B0BEC5",
                "#B0BEC5",
                "#B0BEC5",
                "#B0BEC5",
                "#B0BEC5",
                "#B0BEC5",
                "#B0BEC5",
                "#B0BEC5",
                "#B0BEC5",
                "#B0BEC5",
                "red",
                "#B0BEC5",
                "#B0BEC5",
                "#B0BEC5",
                "#B0BEC5",
                "#B0BEC5",
                "#B0BEC5",
                "#B0BEC5",
                "#B0BEC5",
                "#B0BEC5",
                "#B0BEC5",
                "#B0BEC5",
                "#B0BEC5",
                "#B0BEC5",
                "#B0BEC5",
                "#B0BEC5",
                "#B0BEC5",
                "#B0BEC5",
                "#B0BEC5",
                "#B0BEC5",
                "#B0BEC5",
                "#B0BEC5",
                "#B0BEC5",
                "#B0BEC5",
                "#B0BEC5",
                "#B0BEC5",
                "#B0BEC5",
                "#B0BEC5",
                "#B0BEC5",
                "#B0BEC5",
                "#B0BEC5",
                "#B0BEC5",
                "#B0BEC5",
                "#B0BEC5",
                "#B0BEC5",
                "#B0BEC5",
                "#B0BEC5",
                "#B0BEC5",
                "#B0BEC5",
                "#B0BEC5",
                "#B0BEC5",
                "#B0BEC5",
                "#B0BEC5",
                "#B0BEC5",
                "#B0BEC5",
                "#B0BEC5"
               ]
              ]
             }
            ],
            "label": "Topic 14",
            "method": "update"
           },
           {
            "args": [
             {
              "marker.color": [
               [
                "#B0BEC5",
                "#B0BEC5",
                "#B0BEC5",
                "#B0BEC5",
                "#B0BEC5",
                "#B0BEC5",
                "#B0BEC5",
                "#B0BEC5",
                "#B0BEC5",
                "#B0BEC5",
                "#B0BEC5",
                "#B0BEC5",
                "#B0BEC5",
                "#B0BEC5",
                "#B0BEC5",
                "red",
                "#B0BEC5",
                "#B0BEC5",
                "#B0BEC5",
                "#B0BEC5",
                "#B0BEC5",
                "#B0BEC5",
                "#B0BEC5",
                "#B0BEC5",
                "#B0BEC5",
                "#B0BEC5",
                "#B0BEC5",
                "#B0BEC5",
                "#B0BEC5",
                "#B0BEC5",
                "#B0BEC5",
                "#B0BEC5",
                "#B0BEC5",
                "#B0BEC5",
                "#B0BEC5",
                "#B0BEC5",
                "#B0BEC5",
                "#B0BEC5",
                "#B0BEC5",
                "#B0BEC5",
                "#B0BEC5",
                "#B0BEC5",
                "#B0BEC5",
                "#B0BEC5",
                "#B0BEC5",
                "#B0BEC5",
                "#B0BEC5",
                "#B0BEC5",
                "#B0BEC5",
                "#B0BEC5",
                "#B0BEC5",
                "#B0BEC5",
                "#B0BEC5",
                "#B0BEC5",
                "#B0BEC5",
                "#B0BEC5",
                "#B0BEC5",
                "#B0BEC5",
                "#B0BEC5",
                "#B0BEC5"
               ]
              ]
             }
            ],
            "label": "Topic 15",
            "method": "update"
           },
           {
            "args": [
             {
              "marker.color": [
               [
                "#B0BEC5",
                "#B0BEC5",
                "#B0BEC5",
                "#B0BEC5",
                "#B0BEC5",
                "#B0BEC5",
                "#B0BEC5",
                "#B0BEC5",
                "#B0BEC5",
                "#B0BEC5",
                "#B0BEC5",
                "#B0BEC5",
                "#B0BEC5",
                "#B0BEC5",
                "#B0BEC5",
                "#B0BEC5",
                "red",
                "#B0BEC5",
                "#B0BEC5",
                "#B0BEC5",
                "#B0BEC5",
                "#B0BEC5",
                "#B0BEC5",
                "#B0BEC5",
                "#B0BEC5",
                "#B0BEC5",
                "#B0BEC5",
                "#B0BEC5",
                "#B0BEC5",
                "#B0BEC5",
                "#B0BEC5",
                "#B0BEC5",
                "#B0BEC5",
                "#B0BEC5",
                "#B0BEC5",
                "#B0BEC5",
                "#B0BEC5",
                "#B0BEC5",
                "#B0BEC5",
                "#B0BEC5",
                "#B0BEC5",
                "#B0BEC5",
                "#B0BEC5",
                "#B0BEC5",
                "#B0BEC5",
                "#B0BEC5",
                "#B0BEC5",
                "#B0BEC5",
                "#B0BEC5",
                "#B0BEC5",
                "#B0BEC5",
                "#B0BEC5",
                "#B0BEC5",
                "#B0BEC5",
                "#B0BEC5",
                "#B0BEC5",
                "#B0BEC5",
                "#B0BEC5",
                "#B0BEC5",
                "#B0BEC5"
               ]
              ]
             }
            ],
            "label": "Topic 16",
            "method": "update"
           },
           {
            "args": [
             {
              "marker.color": [
               [
                "#B0BEC5",
                "#B0BEC5",
                "#B0BEC5",
                "#B0BEC5",
                "#B0BEC5",
                "#B0BEC5",
                "#B0BEC5",
                "#B0BEC5",
                "#B0BEC5",
                "#B0BEC5",
                "#B0BEC5",
                "#B0BEC5",
                "#B0BEC5",
                "#B0BEC5",
                "#B0BEC5",
                "#B0BEC5",
                "#B0BEC5",
                "red",
                "#B0BEC5",
                "#B0BEC5",
                "#B0BEC5",
                "#B0BEC5",
                "#B0BEC5",
                "#B0BEC5",
                "#B0BEC5",
                "#B0BEC5",
                "#B0BEC5",
                "#B0BEC5",
                "#B0BEC5",
                "#B0BEC5",
                "#B0BEC5",
                "#B0BEC5",
                "#B0BEC5",
                "#B0BEC5",
                "#B0BEC5",
                "#B0BEC5",
                "#B0BEC5",
                "#B0BEC5",
                "#B0BEC5",
                "#B0BEC5",
                "#B0BEC5",
                "#B0BEC5",
                "#B0BEC5",
                "#B0BEC5",
                "#B0BEC5",
                "#B0BEC5",
                "#B0BEC5",
                "#B0BEC5",
                "#B0BEC5",
                "#B0BEC5",
                "#B0BEC5",
                "#B0BEC5",
                "#B0BEC5",
                "#B0BEC5",
                "#B0BEC5",
                "#B0BEC5",
                "#B0BEC5",
                "#B0BEC5",
                "#B0BEC5",
                "#B0BEC5"
               ]
              ]
             }
            ],
            "label": "Topic 17",
            "method": "update"
           },
           {
            "args": [
             {
              "marker.color": [
               [
                "#B0BEC5",
                "#B0BEC5",
                "#B0BEC5",
                "#B0BEC5",
                "#B0BEC5",
                "#B0BEC5",
                "#B0BEC5",
                "#B0BEC5",
                "#B0BEC5",
                "#B0BEC5",
                "#B0BEC5",
                "#B0BEC5",
                "#B0BEC5",
                "#B0BEC5",
                "#B0BEC5",
                "#B0BEC5",
                "#B0BEC5",
                "#B0BEC5",
                "red",
                "#B0BEC5",
                "#B0BEC5",
                "#B0BEC5",
                "#B0BEC5",
                "#B0BEC5",
                "#B0BEC5",
                "#B0BEC5",
                "#B0BEC5",
                "#B0BEC5",
                "#B0BEC5",
                "#B0BEC5",
                "#B0BEC5",
                "#B0BEC5",
                "#B0BEC5",
                "#B0BEC5",
                "#B0BEC5",
                "#B0BEC5",
                "#B0BEC5",
                "#B0BEC5",
                "#B0BEC5",
                "#B0BEC5",
                "#B0BEC5",
                "#B0BEC5",
                "#B0BEC5",
                "#B0BEC5",
                "#B0BEC5",
                "#B0BEC5",
                "#B0BEC5",
                "#B0BEC5",
                "#B0BEC5",
                "#B0BEC5",
                "#B0BEC5",
                "#B0BEC5",
                "#B0BEC5",
                "#B0BEC5",
                "#B0BEC5",
                "#B0BEC5",
                "#B0BEC5",
                "#B0BEC5",
                "#B0BEC5",
                "#B0BEC5"
               ]
              ]
             }
            ],
            "label": "Topic 18",
            "method": "update"
           },
           {
            "args": [
             {
              "marker.color": [
               [
                "#B0BEC5",
                "#B0BEC5",
                "#B0BEC5",
                "#B0BEC5",
                "#B0BEC5",
                "#B0BEC5",
                "#B0BEC5",
                "#B0BEC5",
                "#B0BEC5",
                "#B0BEC5",
                "#B0BEC5",
                "#B0BEC5",
                "#B0BEC5",
                "#B0BEC5",
                "#B0BEC5",
                "#B0BEC5",
                "#B0BEC5",
                "#B0BEC5",
                "#B0BEC5",
                "red",
                "#B0BEC5",
                "#B0BEC5",
                "#B0BEC5",
                "#B0BEC5",
                "#B0BEC5",
                "#B0BEC5",
                "#B0BEC5",
                "#B0BEC5",
                "#B0BEC5",
                "#B0BEC5",
                "#B0BEC5",
                "#B0BEC5",
                "#B0BEC5",
                "#B0BEC5",
                "#B0BEC5",
                "#B0BEC5",
                "#B0BEC5",
                "#B0BEC5",
                "#B0BEC5",
                "#B0BEC5",
                "#B0BEC5",
                "#B0BEC5",
                "#B0BEC5",
                "#B0BEC5",
                "#B0BEC5",
                "#B0BEC5",
                "#B0BEC5",
                "#B0BEC5",
                "#B0BEC5",
                "#B0BEC5",
                "#B0BEC5",
                "#B0BEC5",
                "#B0BEC5",
                "#B0BEC5",
                "#B0BEC5",
                "#B0BEC5",
                "#B0BEC5",
                "#B0BEC5",
                "#B0BEC5",
                "#B0BEC5"
               ]
              ]
             }
            ],
            "label": "Topic 19",
            "method": "update"
           },
           {
            "args": [
             {
              "marker.color": [
               [
                "#B0BEC5",
                "#B0BEC5",
                "#B0BEC5",
                "#B0BEC5",
                "#B0BEC5",
                "#B0BEC5",
                "#B0BEC5",
                "#B0BEC5",
                "#B0BEC5",
                "#B0BEC5",
                "#B0BEC5",
                "#B0BEC5",
                "#B0BEC5",
                "#B0BEC5",
                "#B0BEC5",
                "#B0BEC5",
                "#B0BEC5",
                "#B0BEC5",
                "#B0BEC5",
                "#B0BEC5",
                "red",
                "#B0BEC5",
                "#B0BEC5",
                "#B0BEC5",
                "#B0BEC5",
                "#B0BEC5",
                "#B0BEC5",
                "#B0BEC5",
                "#B0BEC5",
                "#B0BEC5",
                "#B0BEC5",
                "#B0BEC5",
                "#B0BEC5",
                "#B0BEC5",
                "#B0BEC5",
                "#B0BEC5",
                "#B0BEC5",
                "#B0BEC5",
                "#B0BEC5",
                "#B0BEC5",
                "#B0BEC5",
                "#B0BEC5",
                "#B0BEC5",
                "#B0BEC5",
                "#B0BEC5",
                "#B0BEC5",
                "#B0BEC5",
                "#B0BEC5",
                "#B0BEC5",
                "#B0BEC5",
                "#B0BEC5",
                "#B0BEC5",
                "#B0BEC5",
                "#B0BEC5",
                "#B0BEC5",
                "#B0BEC5",
                "#B0BEC5",
                "#B0BEC5",
                "#B0BEC5",
                "#B0BEC5"
               ]
              ]
             }
            ],
            "label": "Topic 20",
            "method": "update"
           },
           {
            "args": [
             {
              "marker.color": [
               [
                "#B0BEC5",
                "#B0BEC5",
                "#B0BEC5",
                "#B0BEC5",
                "#B0BEC5",
                "#B0BEC5",
                "#B0BEC5",
                "#B0BEC5",
                "#B0BEC5",
                "#B0BEC5",
                "#B0BEC5",
                "#B0BEC5",
                "#B0BEC5",
                "#B0BEC5",
                "#B0BEC5",
                "#B0BEC5",
                "#B0BEC5",
                "#B0BEC5",
                "#B0BEC5",
                "#B0BEC5",
                "#B0BEC5",
                "red",
                "#B0BEC5",
                "#B0BEC5",
                "#B0BEC5",
                "#B0BEC5",
                "#B0BEC5",
                "#B0BEC5",
                "#B0BEC5",
                "#B0BEC5",
                "#B0BEC5",
                "#B0BEC5",
                "#B0BEC5",
                "#B0BEC5",
                "#B0BEC5",
                "#B0BEC5",
                "#B0BEC5",
                "#B0BEC5",
                "#B0BEC5",
                "#B0BEC5",
                "#B0BEC5",
                "#B0BEC5",
                "#B0BEC5",
                "#B0BEC5",
                "#B0BEC5",
                "#B0BEC5",
                "#B0BEC5",
                "#B0BEC5",
                "#B0BEC5",
                "#B0BEC5",
                "#B0BEC5",
                "#B0BEC5",
                "#B0BEC5",
                "#B0BEC5",
                "#B0BEC5",
                "#B0BEC5",
                "#B0BEC5",
                "#B0BEC5",
                "#B0BEC5",
                "#B0BEC5"
               ]
              ]
             }
            ],
            "label": "Topic 21",
            "method": "update"
           },
           {
            "args": [
             {
              "marker.color": [
               [
                "#B0BEC5",
                "#B0BEC5",
                "#B0BEC5",
                "#B0BEC5",
                "#B0BEC5",
                "#B0BEC5",
                "#B0BEC5",
                "#B0BEC5",
                "#B0BEC5",
                "#B0BEC5",
                "#B0BEC5",
                "#B0BEC5",
                "#B0BEC5",
                "#B0BEC5",
                "#B0BEC5",
                "#B0BEC5",
                "#B0BEC5",
                "#B0BEC5",
                "#B0BEC5",
                "#B0BEC5",
                "#B0BEC5",
                "#B0BEC5",
                "red",
                "#B0BEC5",
                "#B0BEC5",
                "#B0BEC5",
                "#B0BEC5",
                "#B0BEC5",
                "#B0BEC5",
                "#B0BEC5",
                "#B0BEC5",
                "#B0BEC5",
                "#B0BEC5",
                "#B0BEC5",
                "#B0BEC5",
                "#B0BEC5",
                "#B0BEC5",
                "#B0BEC5",
                "#B0BEC5",
                "#B0BEC5",
                "#B0BEC5",
                "#B0BEC5",
                "#B0BEC5",
                "#B0BEC5",
                "#B0BEC5",
                "#B0BEC5",
                "#B0BEC5",
                "#B0BEC5",
                "#B0BEC5",
                "#B0BEC5",
                "#B0BEC5",
                "#B0BEC5",
                "#B0BEC5",
                "#B0BEC5",
                "#B0BEC5",
                "#B0BEC5",
                "#B0BEC5",
                "#B0BEC5",
                "#B0BEC5",
                "#B0BEC5"
               ]
              ]
             }
            ],
            "label": "Topic 22",
            "method": "update"
           },
           {
            "args": [
             {
              "marker.color": [
               [
                "#B0BEC5",
                "#B0BEC5",
                "#B0BEC5",
                "#B0BEC5",
                "#B0BEC5",
                "#B0BEC5",
                "#B0BEC5",
                "#B0BEC5",
                "#B0BEC5",
                "#B0BEC5",
                "#B0BEC5",
                "#B0BEC5",
                "#B0BEC5",
                "#B0BEC5",
                "#B0BEC5",
                "#B0BEC5",
                "#B0BEC5",
                "#B0BEC5",
                "#B0BEC5",
                "#B0BEC5",
                "#B0BEC5",
                "#B0BEC5",
                "#B0BEC5",
                "red",
                "#B0BEC5",
                "#B0BEC5",
                "#B0BEC5",
                "#B0BEC5",
                "#B0BEC5",
                "#B0BEC5",
                "#B0BEC5",
                "#B0BEC5",
                "#B0BEC5",
                "#B0BEC5",
                "#B0BEC5",
                "#B0BEC5",
                "#B0BEC5",
                "#B0BEC5",
                "#B0BEC5",
                "#B0BEC5",
                "#B0BEC5",
                "#B0BEC5",
                "#B0BEC5",
                "#B0BEC5",
                "#B0BEC5",
                "#B0BEC5",
                "#B0BEC5",
                "#B0BEC5",
                "#B0BEC5",
                "#B0BEC5",
                "#B0BEC5",
                "#B0BEC5",
                "#B0BEC5",
                "#B0BEC5",
                "#B0BEC5",
                "#B0BEC5",
                "#B0BEC5",
                "#B0BEC5",
                "#B0BEC5",
                "#B0BEC5"
               ]
              ]
             }
            ],
            "label": "Topic 23",
            "method": "update"
           },
           {
            "args": [
             {
              "marker.color": [
               [
                "#B0BEC5",
                "#B0BEC5",
                "#B0BEC5",
                "#B0BEC5",
                "#B0BEC5",
                "#B0BEC5",
                "#B0BEC5",
                "#B0BEC5",
                "#B0BEC5",
                "#B0BEC5",
                "#B0BEC5",
                "#B0BEC5",
                "#B0BEC5",
                "#B0BEC5",
                "#B0BEC5",
                "#B0BEC5",
                "#B0BEC5",
                "#B0BEC5",
                "#B0BEC5",
                "#B0BEC5",
                "#B0BEC5",
                "#B0BEC5",
                "#B0BEC5",
                "#B0BEC5",
                "red",
                "#B0BEC5",
                "#B0BEC5",
                "#B0BEC5",
                "#B0BEC5",
                "#B0BEC5",
                "#B0BEC5",
                "#B0BEC5",
                "#B0BEC5",
                "#B0BEC5",
                "#B0BEC5",
                "#B0BEC5",
                "#B0BEC5",
                "#B0BEC5",
                "#B0BEC5",
                "#B0BEC5",
                "#B0BEC5",
                "#B0BEC5",
                "#B0BEC5",
                "#B0BEC5",
                "#B0BEC5",
                "#B0BEC5",
                "#B0BEC5",
                "#B0BEC5",
                "#B0BEC5",
                "#B0BEC5",
                "#B0BEC5",
                "#B0BEC5",
                "#B0BEC5",
                "#B0BEC5",
                "#B0BEC5",
                "#B0BEC5",
                "#B0BEC5",
                "#B0BEC5",
                "#B0BEC5",
                "#B0BEC5"
               ]
              ]
             }
            ],
            "label": "Topic 24",
            "method": "update"
           },
           {
            "args": [
             {
              "marker.color": [
               [
                "#B0BEC5",
                "#B0BEC5",
                "#B0BEC5",
                "#B0BEC5",
                "#B0BEC5",
                "#B0BEC5",
                "#B0BEC5",
                "#B0BEC5",
                "#B0BEC5",
                "#B0BEC5",
                "#B0BEC5",
                "#B0BEC5",
                "#B0BEC5",
                "#B0BEC5",
                "#B0BEC5",
                "#B0BEC5",
                "#B0BEC5",
                "#B0BEC5",
                "#B0BEC5",
                "#B0BEC5",
                "#B0BEC5",
                "#B0BEC5",
                "#B0BEC5",
                "#B0BEC5",
                "#B0BEC5",
                "red",
                "#B0BEC5",
                "#B0BEC5",
                "#B0BEC5",
                "#B0BEC5",
                "#B0BEC5",
                "#B0BEC5",
                "#B0BEC5",
                "#B0BEC5",
                "#B0BEC5",
                "#B0BEC5",
                "#B0BEC5",
                "#B0BEC5",
                "#B0BEC5",
                "#B0BEC5",
                "#B0BEC5",
                "#B0BEC5",
                "#B0BEC5",
                "#B0BEC5",
                "#B0BEC5",
                "#B0BEC5",
                "#B0BEC5",
                "#B0BEC5",
                "#B0BEC5",
                "#B0BEC5",
                "#B0BEC5",
                "#B0BEC5",
                "#B0BEC5",
                "#B0BEC5",
                "#B0BEC5",
                "#B0BEC5",
                "#B0BEC5",
                "#B0BEC5",
                "#B0BEC5",
                "#B0BEC5"
               ]
              ]
             }
            ],
            "label": "Topic 25",
            "method": "update"
           },
           {
            "args": [
             {
              "marker.color": [
               [
                "#B0BEC5",
                "#B0BEC5",
                "#B0BEC5",
                "#B0BEC5",
                "#B0BEC5",
                "#B0BEC5",
                "#B0BEC5",
                "#B0BEC5",
                "#B0BEC5",
                "#B0BEC5",
                "#B0BEC5",
                "#B0BEC5",
                "#B0BEC5",
                "#B0BEC5",
                "#B0BEC5",
                "#B0BEC5",
                "#B0BEC5",
                "#B0BEC5",
                "#B0BEC5",
                "#B0BEC5",
                "#B0BEC5",
                "#B0BEC5",
                "#B0BEC5",
                "#B0BEC5",
                "#B0BEC5",
                "#B0BEC5",
                "red",
                "#B0BEC5",
                "#B0BEC5",
                "#B0BEC5",
                "#B0BEC5",
                "#B0BEC5",
                "#B0BEC5",
                "#B0BEC5",
                "#B0BEC5",
                "#B0BEC5",
                "#B0BEC5",
                "#B0BEC5",
                "#B0BEC5",
                "#B0BEC5",
                "#B0BEC5",
                "#B0BEC5",
                "#B0BEC5",
                "#B0BEC5",
                "#B0BEC5",
                "#B0BEC5",
                "#B0BEC5",
                "#B0BEC5",
                "#B0BEC5",
                "#B0BEC5",
                "#B0BEC5",
                "#B0BEC5",
                "#B0BEC5",
                "#B0BEC5",
                "#B0BEC5",
                "#B0BEC5",
                "#B0BEC5",
                "#B0BEC5",
                "#B0BEC5",
                "#B0BEC5"
               ]
              ]
             }
            ],
            "label": "Topic 26",
            "method": "update"
           },
           {
            "args": [
             {
              "marker.color": [
               [
                "#B0BEC5",
                "#B0BEC5",
                "#B0BEC5",
                "#B0BEC5",
                "#B0BEC5",
                "#B0BEC5",
                "#B0BEC5",
                "#B0BEC5",
                "#B0BEC5",
                "#B0BEC5",
                "#B0BEC5",
                "#B0BEC5",
                "#B0BEC5",
                "#B0BEC5",
                "#B0BEC5",
                "#B0BEC5",
                "#B0BEC5",
                "#B0BEC5",
                "#B0BEC5",
                "#B0BEC5",
                "#B0BEC5",
                "#B0BEC5",
                "#B0BEC5",
                "#B0BEC5",
                "#B0BEC5",
                "#B0BEC5",
                "#B0BEC5",
                "red",
                "#B0BEC5",
                "#B0BEC5",
                "#B0BEC5",
                "#B0BEC5",
                "#B0BEC5",
                "#B0BEC5",
                "#B0BEC5",
                "#B0BEC5",
                "#B0BEC5",
                "#B0BEC5",
                "#B0BEC5",
                "#B0BEC5",
                "#B0BEC5",
                "#B0BEC5",
                "#B0BEC5",
                "#B0BEC5",
                "#B0BEC5",
                "#B0BEC5",
                "#B0BEC5",
                "#B0BEC5",
                "#B0BEC5",
                "#B0BEC5",
                "#B0BEC5",
                "#B0BEC5",
                "#B0BEC5",
                "#B0BEC5",
                "#B0BEC5",
                "#B0BEC5",
                "#B0BEC5",
                "#B0BEC5",
                "#B0BEC5",
                "#B0BEC5"
               ]
              ]
             }
            ],
            "label": "Topic 27",
            "method": "update"
           },
           {
            "args": [
             {
              "marker.color": [
               [
                "#B0BEC5",
                "#B0BEC5",
                "#B0BEC5",
                "#B0BEC5",
                "#B0BEC5",
                "#B0BEC5",
                "#B0BEC5",
                "#B0BEC5",
                "#B0BEC5",
                "#B0BEC5",
                "#B0BEC5",
                "#B0BEC5",
                "#B0BEC5",
                "#B0BEC5",
                "#B0BEC5",
                "#B0BEC5",
                "#B0BEC5",
                "#B0BEC5",
                "#B0BEC5",
                "#B0BEC5",
                "#B0BEC5",
                "#B0BEC5",
                "#B0BEC5",
                "#B0BEC5",
                "#B0BEC5",
                "#B0BEC5",
                "#B0BEC5",
                "#B0BEC5",
                "red",
                "#B0BEC5",
                "#B0BEC5",
                "#B0BEC5",
                "#B0BEC5",
                "#B0BEC5",
                "#B0BEC5",
                "#B0BEC5",
                "#B0BEC5",
                "#B0BEC5",
                "#B0BEC5",
                "#B0BEC5",
                "#B0BEC5",
                "#B0BEC5",
                "#B0BEC5",
                "#B0BEC5",
                "#B0BEC5",
                "#B0BEC5",
                "#B0BEC5",
                "#B0BEC5",
                "#B0BEC5",
                "#B0BEC5",
                "#B0BEC5",
                "#B0BEC5",
                "#B0BEC5",
                "#B0BEC5",
                "#B0BEC5",
                "#B0BEC5",
                "#B0BEC5",
                "#B0BEC5",
                "#B0BEC5",
                "#B0BEC5"
               ]
              ]
             }
            ],
            "label": "Topic 28",
            "method": "update"
           },
           {
            "args": [
             {
              "marker.color": [
               [
                "#B0BEC5",
                "#B0BEC5",
                "#B0BEC5",
                "#B0BEC5",
                "#B0BEC5",
                "#B0BEC5",
                "#B0BEC5",
                "#B0BEC5",
                "#B0BEC5",
                "#B0BEC5",
                "#B0BEC5",
                "#B0BEC5",
                "#B0BEC5",
                "#B0BEC5",
                "#B0BEC5",
                "#B0BEC5",
                "#B0BEC5",
                "#B0BEC5",
                "#B0BEC5",
                "#B0BEC5",
                "#B0BEC5",
                "#B0BEC5",
                "#B0BEC5",
                "#B0BEC5",
                "#B0BEC5",
                "#B0BEC5",
                "#B0BEC5",
                "#B0BEC5",
                "#B0BEC5",
                "red",
                "#B0BEC5",
                "#B0BEC5",
                "#B0BEC5",
                "#B0BEC5",
                "#B0BEC5",
                "#B0BEC5",
                "#B0BEC5",
                "#B0BEC5",
                "#B0BEC5",
                "#B0BEC5",
                "#B0BEC5",
                "#B0BEC5",
                "#B0BEC5",
                "#B0BEC5",
                "#B0BEC5",
                "#B0BEC5",
                "#B0BEC5",
                "#B0BEC5",
                "#B0BEC5",
                "#B0BEC5",
                "#B0BEC5",
                "#B0BEC5",
                "#B0BEC5",
                "#B0BEC5",
                "#B0BEC5",
                "#B0BEC5",
                "#B0BEC5",
                "#B0BEC5",
                "#B0BEC5",
                "#B0BEC5"
               ]
              ]
             }
            ],
            "label": "Topic 29",
            "method": "update"
           },
           {
            "args": [
             {
              "marker.color": [
               [
                "#B0BEC5",
                "#B0BEC5",
                "#B0BEC5",
                "#B0BEC5",
                "#B0BEC5",
                "#B0BEC5",
                "#B0BEC5",
                "#B0BEC5",
                "#B0BEC5",
                "#B0BEC5",
                "#B0BEC5",
                "#B0BEC5",
                "#B0BEC5",
                "#B0BEC5",
                "#B0BEC5",
                "#B0BEC5",
                "#B0BEC5",
                "#B0BEC5",
                "#B0BEC5",
                "#B0BEC5",
                "#B0BEC5",
                "#B0BEC5",
                "#B0BEC5",
                "#B0BEC5",
                "#B0BEC5",
                "#B0BEC5",
                "#B0BEC5",
                "#B0BEC5",
                "#B0BEC5",
                "#B0BEC5",
                "red",
                "#B0BEC5",
                "#B0BEC5",
                "#B0BEC5",
                "#B0BEC5",
                "#B0BEC5",
                "#B0BEC5",
                "#B0BEC5",
                "#B0BEC5",
                "#B0BEC5",
                "#B0BEC5",
                "#B0BEC5",
                "#B0BEC5",
                "#B0BEC5",
                "#B0BEC5",
                "#B0BEC5",
                "#B0BEC5",
                "#B0BEC5",
                "#B0BEC5",
                "#B0BEC5",
                "#B0BEC5",
                "#B0BEC5",
                "#B0BEC5",
                "#B0BEC5",
                "#B0BEC5",
                "#B0BEC5",
                "#B0BEC5",
                "#B0BEC5",
                "#B0BEC5",
                "#B0BEC5"
               ]
              ]
             }
            ],
            "label": "Topic 30",
            "method": "update"
           },
           {
            "args": [
             {
              "marker.color": [
               [
                "#B0BEC5",
                "#B0BEC5",
                "#B0BEC5",
                "#B0BEC5",
                "#B0BEC5",
                "#B0BEC5",
                "#B0BEC5",
                "#B0BEC5",
                "#B0BEC5",
                "#B0BEC5",
                "#B0BEC5",
                "#B0BEC5",
                "#B0BEC5",
                "#B0BEC5",
                "#B0BEC5",
                "#B0BEC5",
                "#B0BEC5",
                "#B0BEC5",
                "#B0BEC5",
                "#B0BEC5",
                "#B0BEC5",
                "#B0BEC5",
                "#B0BEC5",
                "#B0BEC5",
                "#B0BEC5",
                "#B0BEC5",
                "#B0BEC5",
                "#B0BEC5",
                "#B0BEC5",
                "#B0BEC5",
                "#B0BEC5",
                "red",
                "#B0BEC5",
                "#B0BEC5",
                "#B0BEC5",
                "#B0BEC5",
                "#B0BEC5",
                "#B0BEC5",
                "#B0BEC5",
                "#B0BEC5",
                "#B0BEC5",
                "#B0BEC5",
                "#B0BEC5",
                "#B0BEC5",
                "#B0BEC5",
                "#B0BEC5",
                "#B0BEC5",
                "#B0BEC5",
                "#B0BEC5",
                "#B0BEC5",
                "#B0BEC5",
                "#B0BEC5",
                "#B0BEC5",
                "#B0BEC5",
                "#B0BEC5",
                "#B0BEC5",
                "#B0BEC5",
                "#B0BEC5",
                "#B0BEC5",
                "#B0BEC5"
               ]
              ]
             }
            ],
            "label": "Topic 31",
            "method": "update"
           },
           {
            "args": [
             {
              "marker.color": [
               [
                "#B0BEC5",
                "#B0BEC5",
                "#B0BEC5",
                "#B0BEC5",
                "#B0BEC5",
                "#B0BEC5",
                "#B0BEC5",
                "#B0BEC5",
                "#B0BEC5",
                "#B0BEC5",
                "#B0BEC5",
                "#B0BEC5",
                "#B0BEC5",
                "#B0BEC5",
                "#B0BEC5",
                "#B0BEC5",
                "#B0BEC5",
                "#B0BEC5",
                "#B0BEC5",
                "#B0BEC5",
                "#B0BEC5",
                "#B0BEC5",
                "#B0BEC5",
                "#B0BEC5",
                "#B0BEC5",
                "#B0BEC5",
                "#B0BEC5",
                "#B0BEC5",
                "#B0BEC5",
                "#B0BEC5",
                "#B0BEC5",
                "#B0BEC5",
                "red",
                "#B0BEC5",
                "#B0BEC5",
                "#B0BEC5",
                "#B0BEC5",
                "#B0BEC5",
                "#B0BEC5",
                "#B0BEC5",
                "#B0BEC5",
                "#B0BEC5",
                "#B0BEC5",
                "#B0BEC5",
                "#B0BEC5",
                "#B0BEC5",
                "#B0BEC5",
                "#B0BEC5",
                "#B0BEC5",
                "#B0BEC5",
                "#B0BEC5",
                "#B0BEC5",
                "#B0BEC5",
                "#B0BEC5",
                "#B0BEC5",
                "#B0BEC5",
                "#B0BEC5",
                "#B0BEC5",
                "#B0BEC5",
                "#B0BEC5"
               ]
              ]
             }
            ],
            "label": "Topic 32",
            "method": "update"
           },
           {
            "args": [
             {
              "marker.color": [
               [
                "#B0BEC5",
                "#B0BEC5",
                "#B0BEC5",
                "#B0BEC5",
                "#B0BEC5",
                "#B0BEC5",
                "#B0BEC5",
                "#B0BEC5",
                "#B0BEC5",
                "#B0BEC5",
                "#B0BEC5",
                "#B0BEC5",
                "#B0BEC5",
                "#B0BEC5",
                "#B0BEC5",
                "#B0BEC5",
                "#B0BEC5",
                "#B0BEC5",
                "#B0BEC5",
                "#B0BEC5",
                "#B0BEC5",
                "#B0BEC5",
                "#B0BEC5",
                "#B0BEC5",
                "#B0BEC5",
                "#B0BEC5",
                "#B0BEC5",
                "#B0BEC5",
                "#B0BEC5",
                "#B0BEC5",
                "#B0BEC5",
                "#B0BEC5",
                "#B0BEC5",
                "red",
                "#B0BEC5",
                "#B0BEC5",
                "#B0BEC5",
                "#B0BEC5",
                "#B0BEC5",
                "#B0BEC5",
                "#B0BEC5",
                "#B0BEC5",
                "#B0BEC5",
                "#B0BEC5",
                "#B0BEC5",
                "#B0BEC5",
                "#B0BEC5",
                "#B0BEC5",
                "#B0BEC5",
                "#B0BEC5",
                "#B0BEC5",
                "#B0BEC5",
                "#B0BEC5",
                "#B0BEC5",
                "#B0BEC5",
                "#B0BEC5",
                "#B0BEC5",
                "#B0BEC5",
                "#B0BEC5",
                "#B0BEC5"
               ]
              ]
             }
            ],
            "label": "Topic 33",
            "method": "update"
           },
           {
            "args": [
             {
              "marker.color": [
               [
                "#B0BEC5",
                "#B0BEC5",
                "#B0BEC5",
                "#B0BEC5",
                "#B0BEC5",
                "#B0BEC5",
                "#B0BEC5",
                "#B0BEC5",
                "#B0BEC5",
                "#B0BEC5",
                "#B0BEC5",
                "#B0BEC5",
                "#B0BEC5",
                "#B0BEC5",
                "#B0BEC5",
                "#B0BEC5",
                "#B0BEC5",
                "#B0BEC5",
                "#B0BEC5",
                "#B0BEC5",
                "#B0BEC5",
                "#B0BEC5",
                "#B0BEC5",
                "#B0BEC5",
                "#B0BEC5",
                "#B0BEC5",
                "#B0BEC5",
                "#B0BEC5",
                "#B0BEC5",
                "#B0BEC5",
                "#B0BEC5",
                "#B0BEC5",
                "#B0BEC5",
                "#B0BEC5",
                "red",
                "#B0BEC5",
                "#B0BEC5",
                "#B0BEC5",
                "#B0BEC5",
                "#B0BEC5",
                "#B0BEC5",
                "#B0BEC5",
                "#B0BEC5",
                "#B0BEC5",
                "#B0BEC5",
                "#B0BEC5",
                "#B0BEC5",
                "#B0BEC5",
                "#B0BEC5",
                "#B0BEC5",
                "#B0BEC5",
                "#B0BEC5",
                "#B0BEC5",
                "#B0BEC5",
                "#B0BEC5",
                "#B0BEC5",
                "#B0BEC5",
                "#B0BEC5",
                "#B0BEC5",
                "#B0BEC5"
               ]
              ]
             }
            ],
            "label": "Topic 34",
            "method": "update"
           },
           {
            "args": [
             {
              "marker.color": [
               [
                "#B0BEC5",
                "#B0BEC5",
                "#B0BEC5",
                "#B0BEC5",
                "#B0BEC5",
                "#B0BEC5",
                "#B0BEC5",
                "#B0BEC5",
                "#B0BEC5",
                "#B0BEC5",
                "#B0BEC5",
                "#B0BEC5",
                "#B0BEC5",
                "#B0BEC5",
                "#B0BEC5",
                "#B0BEC5",
                "#B0BEC5",
                "#B0BEC5",
                "#B0BEC5",
                "#B0BEC5",
                "#B0BEC5",
                "#B0BEC5",
                "#B0BEC5",
                "#B0BEC5",
                "#B0BEC5",
                "#B0BEC5",
                "#B0BEC5",
                "#B0BEC5",
                "#B0BEC5",
                "#B0BEC5",
                "#B0BEC5",
                "#B0BEC5",
                "#B0BEC5",
                "#B0BEC5",
                "#B0BEC5",
                "red",
                "#B0BEC5",
                "#B0BEC5",
                "#B0BEC5",
                "#B0BEC5",
                "#B0BEC5",
                "#B0BEC5",
                "#B0BEC5",
                "#B0BEC5",
                "#B0BEC5",
                "#B0BEC5",
                "#B0BEC5",
                "#B0BEC5",
                "#B0BEC5",
                "#B0BEC5",
                "#B0BEC5",
                "#B0BEC5",
                "#B0BEC5",
                "#B0BEC5",
                "#B0BEC5",
                "#B0BEC5",
                "#B0BEC5",
                "#B0BEC5",
                "#B0BEC5",
                "#B0BEC5"
               ]
              ]
             }
            ],
            "label": "Topic 35",
            "method": "update"
           },
           {
            "args": [
             {
              "marker.color": [
               [
                "#B0BEC5",
                "#B0BEC5",
                "#B0BEC5",
                "#B0BEC5",
                "#B0BEC5",
                "#B0BEC5",
                "#B0BEC5",
                "#B0BEC5",
                "#B0BEC5",
                "#B0BEC5",
                "#B0BEC5",
                "#B0BEC5",
                "#B0BEC5",
                "#B0BEC5",
                "#B0BEC5",
                "#B0BEC5",
                "#B0BEC5",
                "#B0BEC5",
                "#B0BEC5",
                "#B0BEC5",
                "#B0BEC5",
                "#B0BEC5",
                "#B0BEC5",
                "#B0BEC5",
                "#B0BEC5",
                "#B0BEC5",
                "#B0BEC5",
                "#B0BEC5",
                "#B0BEC5",
                "#B0BEC5",
                "#B0BEC5",
                "#B0BEC5",
                "#B0BEC5",
                "#B0BEC5",
                "#B0BEC5",
                "#B0BEC5",
                "red",
                "#B0BEC5",
                "#B0BEC5",
                "#B0BEC5",
                "#B0BEC5",
                "#B0BEC5",
                "#B0BEC5",
                "#B0BEC5",
                "#B0BEC5",
                "#B0BEC5",
                "#B0BEC5",
                "#B0BEC5",
                "#B0BEC5",
                "#B0BEC5",
                "#B0BEC5",
                "#B0BEC5",
                "#B0BEC5",
                "#B0BEC5",
                "#B0BEC5",
                "#B0BEC5",
                "#B0BEC5",
                "#B0BEC5",
                "#B0BEC5",
                "#B0BEC5"
               ]
              ]
             }
            ],
            "label": "Topic 36",
            "method": "update"
           },
           {
            "args": [
             {
              "marker.color": [
               [
                "#B0BEC5",
                "#B0BEC5",
                "#B0BEC5",
                "#B0BEC5",
                "#B0BEC5",
                "#B0BEC5",
                "#B0BEC5",
                "#B0BEC5",
                "#B0BEC5",
                "#B0BEC5",
                "#B0BEC5",
                "#B0BEC5",
                "#B0BEC5",
                "#B0BEC5",
                "#B0BEC5",
                "#B0BEC5",
                "#B0BEC5",
                "#B0BEC5",
                "#B0BEC5",
                "#B0BEC5",
                "#B0BEC5",
                "#B0BEC5",
                "#B0BEC5",
                "#B0BEC5",
                "#B0BEC5",
                "#B0BEC5",
                "#B0BEC5",
                "#B0BEC5",
                "#B0BEC5",
                "#B0BEC5",
                "#B0BEC5",
                "#B0BEC5",
                "#B0BEC5",
                "#B0BEC5",
                "#B0BEC5",
                "#B0BEC5",
                "#B0BEC5",
                "red",
                "#B0BEC5",
                "#B0BEC5",
                "#B0BEC5",
                "#B0BEC5",
                "#B0BEC5",
                "#B0BEC5",
                "#B0BEC5",
                "#B0BEC5",
                "#B0BEC5",
                "#B0BEC5",
                "#B0BEC5",
                "#B0BEC5",
                "#B0BEC5",
                "#B0BEC5",
                "#B0BEC5",
                "#B0BEC5",
                "#B0BEC5",
                "#B0BEC5",
                "#B0BEC5",
                "#B0BEC5",
                "#B0BEC5",
                "#B0BEC5"
               ]
              ]
             }
            ],
            "label": "Topic 37",
            "method": "update"
           },
           {
            "args": [
             {
              "marker.color": [
               [
                "#B0BEC5",
                "#B0BEC5",
                "#B0BEC5",
                "#B0BEC5",
                "#B0BEC5",
                "#B0BEC5",
                "#B0BEC5",
                "#B0BEC5",
                "#B0BEC5",
                "#B0BEC5",
                "#B0BEC5",
                "#B0BEC5",
                "#B0BEC5",
                "#B0BEC5",
                "#B0BEC5",
                "#B0BEC5",
                "#B0BEC5",
                "#B0BEC5",
                "#B0BEC5",
                "#B0BEC5",
                "#B0BEC5",
                "#B0BEC5",
                "#B0BEC5",
                "#B0BEC5",
                "#B0BEC5",
                "#B0BEC5",
                "#B0BEC5",
                "#B0BEC5",
                "#B0BEC5",
                "#B0BEC5",
                "#B0BEC5",
                "#B0BEC5",
                "#B0BEC5",
                "#B0BEC5",
                "#B0BEC5",
                "#B0BEC5",
                "#B0BEC5",
                "#B0BEC5",
                "red",
                "#B0BEC5",
                "#B0BEC5",
                "#B0BEC5",
                "#B0BEC5",
                "#B0BEC5",
                "#B0BEC5",
                "#B0BEC5",
                "#B0BEC5",
                "#B0BEC5",
                "#B0BEC5",
                "#B0BEC5",
                "#B0BEC5",
                "#B0BEC5",
                "#B0BEC5",
                "#B0BEC5",
                "#B0BEC5",
                "#B0BEC5",
                "#B0BEC5",
                "#B0BEC5",
                "#B0BEC5",
                "#B0BEC5"
               ]
              ]
             }
            ],
            "label": "Topic 38",
            "method": "update"
           },
           {
            "args": [
             {
              "marker.color": [
               [
                "#B0BEC5",
                "#B0BEC5",
                "#B0BEC5",
                "#B0BEC5",
                "#B0BEC5",
                "#B0BEC5",
                "#B0BEC5",
                "#B0BEC5",
                "#B0BEC5",
                "#B0BEC5",
                "#B0BEC5",
                "#B0BEC5",
                "#B0BEC5",
                "#B0BEC5",
                "#B0BEC5",
                "#B0BEC5",
                "#B0BEC5",
                "#B0BEC5",
                "#B0BEC5",
                "#B0BEC5",
                "#B0BEC5",
                "#B0BEC5",
                "#B0BEC5",
                "#B0BEC5",
                "#B0BEC5",
                "#B0BEC5",
                "#B0BEC5",
                "#B0BEC5",
                "#B0BEC5",
                "#B0BEC5",
                "#B0BEC5",
                "#B0BEC5",
                "#B0BEC5",
                "#B0BEC5",
                "#B0BEC5",
                "#B0BEC5",
                "#B0BEC5",
                "#B0BEC5",
                "#B0BEC5",
                "red",
                "#B0BEC5",
                "#B0BEC5",
                "#B0BEC5",
                "#B0BEC5",
                "#B0BEC5",
                "#B0BEC5",
                "#B0BEC5",
                "#B0BEC5",
                "#B0BEC5",
                "#B0BEC5",
                "#B0BEC5",
                "#B0BEC5",
                "#B0BEC5",
                "#B0BEC5",
                "#B0BEC5",
                "#B0BEC5",
                "#B0BEC5",
                "#B0BEC5",
                "#B0BEC5",
                "#B0BEC5"
               ]
              ]
             }
            ],
            "label": "Topic 39",
            "method": "update"
           },
           {
            "args": [
             {
              "marker.color": [
               [
                "#B0BEC5",
                "#B0BEC5",
                "#B0BEC5",
                "#B0BEC5",
                "#B0BEC5",
                "#B0BEC5",
                "#B0BEC5",
                "#B0BEC5",
                "#B0BEC5",
                "#B0BEC5",
                "#B0BEC5",
                "#B0BEC5",
                "#B0BEC5",
                "#B0BEC5",
                "#B0BEC5",
                "#B0BEC5",
                "#B0BEC5",
                "#B0BEC5",
                "#B0BEC5",
                "#B0BEC5",
                "#B0BEC5",
                "#B0BEC5",
                "#B0BEC5",
                "#B0BEC5",
                "#B0BEC5",
                "#B0BEC5",
                "#B0BEC5",
                "#B0BEC5",
                "#B0BEC5",
                "#B0BEC5",
                "#B0BEC5",
                "#B0BEC5",
                "#B0BEC5",
                "#B0BEC5",
                "#B0BEC5",
                "#B0BEC5",
                "#B0BEC5",
                "#B0BEC5",
                "#B0BEC5",
                "#B0BEC5",
                "red",
                "#B0BEC5",
                "#B0BEC5",
                "#B0BEC5",
                "#B0BEC5",
                "#B0BEC5",
                "#B0BEC5",
                "#B0BEC5",
                "#B0BEC5",
                "#B0BEC5",
                "#B0BEC5",
                "#B0BEC5",
                "#B0BEC5",
                "#B0BEC5",
                "#B0BEC5",
                "#B0BEC5",
                "#B0BEC5",
                "#B0BEC5",
                "#B0BEC5",
                "#B0BEC5"
               ]
              ]
             }
            ],
            "label": "Topic 40",
            "method": "update"
           },
           {
            "args": [
             {
              "marker.color": [
               [
                "#B0BEC5",
                "#B0BEC5",
                "#B0BEC5",
                "#B0BEC5",
                "#B0BEC5",
                "#B0BEC5",
                "#B0BEC5",
                "#B0BEC5",
                "#B0BEC5",
                "#B0BEC5",
                "#B0BEC5",
                "#B0BEC5",
                "#B0BEC5",
                "#B0BEC5",
                "#B0BEC5",
                "#B0BEC5",
                "#B0BEC5",
                "#B0BEC5",
                "#B0BEC5",
                "#B0BEC5",
                "#B0BEC5",
                "#B0BEC5",
                "#B0BEC5",
                "#B0BEC5",
                "#B0BEC5",
                "#B0BEC5",
                "#B0BEC5",
                "#B0BEC5",
                "#B0BEC5",
                "#B0BEC5",
                "#B0BEC5",
                "#B0BEC5",
                "#B0BEC5",
                "#B0BEC5",
                "#B0BEC5",
                "#B0BEC5",
                "#B0BEC5",
                "#B0BEC5",
                "#B0BEC5",
                "#B0BEC5",
                "#B0BEC5",
                "red",
                "#B0BEC5",
                "#B0BEC5",
                "#B0BEC5",
                "#B0BEC5",
                "#B0BEC5",
                "#B0BEC5",
                "#B0BEC5",
                "#B0BEC5",
                "#B0BEC5",
                "#B0BEC5",
                "#B0BEC5",
                "#B0BEC5",
                "#B0BEC5",
                "#B0BEC5",
                "#B0BEC5",
                "#B0BEC5",
                "#B0BEC5",
                "#B0BEC5"
               ]
              ]
             }
            ],
            "label": "Topic 41",
            "method": "update"
           },
           {
            "args": [
             {
              "marker.color": [
               [
                "#B0BEC5",
                "#B0BEC5",
                "#B0BEC5",
                "#B0BEC5",
                "#B0BEC5",
                "#B0BEC5",
                "#B0BEC5",
                "#B0BEC5",
                "#B0BEC5",
                "#B0BEC5",
                "#B0BEC5",
                "#B0BEC5",
                "#B0BEC5",
                "#B0BEC5",
                "#B0BEC5",
                "#B0BEC5",
                "#B0BEC5",
                "#B0BEC5",
                "#B0BEC5",
                "#B0BEC5",
                "#B0BEC5",
                "#B0BEC5",
                "#B0BEC5",
                "#B0BEC5",
                "#B0BEC5",
                "#B0BEC5",
                "#B0BEC5",
                "#B0BEC5",
                "#B0BEC5",
                "#B0BEC5",
                "#B0BEC5",
                "#B0BEC5",
                "#B0BEC5",
                "#B0BEC5",
                "#B0BEC5",
                "#B0BEC5",
                "#B0BEC5",
                "#B0BEC5",
                "#B0BEC5",
                "#B0BEC5",
                "#B0BEC5",
                "#B0BEC5",
                "red",
                "#B0BEC5",
                "#B0BEC5",
                "#B0BEC5",
                "#B0BEC5",
                "#B0BEC5",
                "#B0BEC5",
                "#B0BEC5",
                "#B0BEC5",
                "#B0BEC5",
                "#B0BEC5",
                "#B0BEC5",
                "#B0BEC5",
                "#B0BEC5",
                "#B0BEC5",
                "#B0BEC5",
                "#B0BEC5",
                "#B0BEC5"
               ]
              ]
             }
            ],
            "label": "Topic 42",
            "method": "update"
           },
           {
            "args": [
             {
              "marker.color": [
               [
                "#B0BEC5",
                "#B0BEC5",
                "#B0BEC5",
                "#B0BEC5",
                "#B0BEC5",
                "#B0BEC5",
                "#B0BEC5",
                "#B0BEC5",
                "#B0BEC5",
                "#B0BEC5",
                "#B0BEC5",
                "#B0BEC5",
                "#B0BEC5",
                "#B0BEC5",
                "#B0BEC5",
                "#B0BEC5",
                "#B0BEC5",
                "#B0BEC5",
                "#B0BEC5",
                "#B0BEC5",
                "#B0BEC5",
                "#B0BEC5",
                "#B0BEC5",
                "#B0BEC5",
                "#B0BEC5",
                "#B0BEC5",
                "#B0BEC5",
                "#B0BEC5",
                "#B0BEC5",
                "#B0BEC5",
                "#B0BEC5",
                "#B0BEC5",
                "#B0BEC5",
                "#B0BEC5",
                "#B0BEC5",
                "#B0BEC5",
                "#B0BEC5",
                "#B0BEC5",
                "#B0BEC5",
                "#B0BEC5",
                "#B0BEC5",
                "#B0BEC5",
                "#B0BEC5",
                "red",
                "#B0BEC5",
                "#B0BEC5",
                "#B0BEC5",
                "#B0BEC5",
                "#B0BEC5",
                "#B0BEC5",
                "#B0BEC5",
                "#B0BEC5",
                "#B0BEC5",
                "#B0BEC5",
                "#B0BEC5",
                "#B0BEC5",
                "#B0BEC5",
                "#B0BEC5",
                "#B0BEC5",
                "#B0BEC5"
               ]
              ]
             }
            ],
            "label": "Topic 43",
            "method": "update"
           },
           {
            "args": [
             {
              "marker.color": [
               [
                "#B0BEC5",
                "#B0BEC5",
                "#B0BEC5",
                "#B0BEC5",
                "#B0BEC5",
                "#B0BEC5",
                "#B0BEC5",
                "#B0BEC5",
                "#B0BEC5",
                "#B0BEC5",
                "#B0BEC5",
                "#B0BEC5",
                "#B0BEC5",
                "#B0BEC5",
                "#B0BEC5",
                "#B0BEC5",
                "#B0BEC5",
                "#B0BEC5",
                "#B0BEC5",
                "#B0BEC5",
                "#B0BEC5",
                "#B0BEC5",
                "#B0BEC5",
                "#B0BEC5",
                "#B0BEC5",
                "#B0BEC5",
                "#B0BEC5",
                "#B0BEC5",
                "#B0BEC5",
                "#B0BEC5",
                "#B0BEC5",
                "#B0BEC5",
                "#B0BEC5",
                "#B0BEC5",
                "#B0BEC5",
                "#B0BEC5",
                "#B0BEC5",
                "#B0BEC5",
                "#B0BEC5",
                "#B0BEC5",
                "#B0BEC5",
                "#B0BEC5",
                "#B0BEC5",
                "#B0BEC5",
                "red",
                "#B0BEC5",
                "#B0BEC5",
                "#B0BEC5",
                "#B0BEC5",
                "#B0BEC5",
                "#B0BEC5",
                "#B0BEC5",
                "#B0BEC5",
                "#B0BEC5",
                "#B0BEC5",
                "#B0BEC5",
                "#B0BEC5",
                "#B0BEC5",
                "#B0BEC5",
                "#B0BEC5"
               ]
              ]
             }
            ],
            "label": "Topic 44",
            "method": "update"
           },
           {
            "args": [
             {
              "marker.color": [
               [
                "#B0BEC5",
                "#B0BEC5",
                "#B0BEC5",
                "#B0BEC5",
                "#B0BEC5",
                "#B0BEC5",
                "#B0BEC5",
                "#B0BEC5",
                "#B0BEC5",
                "#B0BEC5",
                "#B0BEC5",
                "#B0BEC5",
                "#B0BEC5",
                "#B0BEC5",
                "#B0BEC5",
                "#B0BEC5",
                "#B0BEC5",
                "#B0BEC5",
                "#B0BEC5",
                "#B0BEC5",
                "#B0BEC5",
                "#B0BEC5",
                "#B0BEC5",
                "#B0BEC5",
                "#B0BEC5",
                "#B0BEC5",
                "#B0BEC5",
                "#B0BEC5",
                "#B0BEC5",
                "#B0BEC5",
                "#B0BEC5",
                "#B0BEC5",
                "#B0BEC5",
                "#B0BEC5",
                "#B0BEC5",
                "#B0BEC5",
                "#B0BEC5",
                "#B0BEC5",
                "#B0BEC5",
                "#B0BEC5",
                "#B0BEC5",
                "#B0BEC5",
                "#B0BEC5",
                "#B0BEC5",
                "#B0BEC5",
                "red",
                "#B0BEC5",
                "#B0BEC5",
                "#B0BEC5",
                "#B0BEC5",
                "#B0BEC5",
                "#B0BEC5",
                "#B0BEC5",
                "#B0BEC5",
                "#B0BEC5",
                "#B0BEC5",
                "#B0BEC5",
                "#B0BEC5",
                "#B0BEC5",
                "#B0BEC5"
               ]
              ]
             }
            ],
            "label": "Topic 45",
            "method": "update"
           },
           {
            "args": [
             {
              "marker.color": [
               [
                "#B0BEC5",
                "#B0BEC5",
                "#B0BEC5",
                "#B0BEC5",
                "#B0BEC5",
                "#B0BEC5",
                "#B0BEC5",
                "#B0BEC5",
                "#B0BEC5",
                "#B0BEC5",
                "#B0BEC5",
                "#B0BEC5",
                "#B0BEC5",
                "#B0BEC5",
                "#B0BEC5",
                "#B0BEC5",
                "#B0BEC5",
                "#B0BEC5",
                "#B0BEC5",
                "#B0BEC5",
                "#B0BEC5",
                "#B0BEC5",
                "#B0BEC5",
                "#B0BEC5",
                "#B0BEC5",
                "#B0BEC5",
                "#B0BEC5",
                "#B0BEC5",
                "#B0BEC5",
                "#B0BEC5",
                "#B0BEC5",
                "#B0BEC5",
                "#B0BEC5",
                "#B0BEC5",
                "#B0BEC5",
                "#B0BEC5",
                "#B0BEC5",
                "#B0BEC5",
                "#B0BEC5",
                "#B0BEC5",
                "#B0BEC5",
                "#B0BEC5",
                "#B0BEC5",
                "#B0BEC5",
                "#B0BEC5",
                "#B0BEC5",
                "red",
                "#B0BEC5",
                "#B0BEC5",
                "#B0BEC5",
                "#B0BEC5",
                "#B0BEC5",
                "#B0BEC5",
                "#B0BEC5",
                "#B0BEC5",
                "#B0BEC5",
                "#B0BEC5",
                "#B0BEC5",
                "#B0BEC5",
                "#B0BEC5"
               ]
              ]
             }
            ],
            "label": "Topic 46",
            "method": "update"
           },
           {
            "args": [
             {
              "marker.color": [
               [
                "#B0BEC5",
                "#B0BEC5",
                "#B0BEC5",
                "#B0BEC5",
                "#B0BEC5",
                "#B0BEC5",
                "#B0BEC5",
                "#B0BEC5",
                "#B0BEC5",
                "#B0BEC5",
                "#B0BEC5",
                "#B0BEC5",
                "#B0BEC5",
                "#B0BEC5",
                "#B0BEC5",
                "#B0BEC5",
                "#B0BEC5",
                "#B0BEC5",
                "#B0BEC5",
                "#B0BEC5",
                "#B0BEC5",
                "#B0BEC5",
                "#B0BEC5",
                "#B0BEC5",
                "#B0BEC5",
                "#B0BEC5",
                "#B0BEC5",
                "#B0BEC5",
                "#B0BEC5",
                "#B0BEC5",
                "#B0BEC5",
                "#B0BEC5",
                "#B0BEC5",
                "#B0BEC5",
                "#B0BEC5",
                "#B0BEC5",
                "#B0BEC5",
                "#B0BEC5",
                "#B0BEC5",
                "#B0BEC5",
                "#B0BEC5",
                "#B0BEC5",
                "#B0BEC5",
                "#B0BEC5",
                "#B0BEC5",
                "#B0BEC5",
                "#B0BEC5",
                "red",
                "#B0BEC5",
                "#B0BEC5",
                "#B0BEC5",
                "#B0BEC5",
                "#B0BEC5",
                "#B0BEC5",
                "#B0BEC5",
                "#B0BEC5",
                "#B0BEC5",
                "#B0BEC5",
                "#B0BEC5",
                "#B0BEC5"
               ]
              ]
             }
            ],
            "label": "Topic 47",
            "method": "update"
           },
           {
            "args": [
             {
              "marker.color": [
               [
                "#B0BEC5",
                "#B0BEC5",
                "#B0BEC5",
                "#B0BEC5",
                "#B0BEC5",
                "#B0BEC5",
                "#B0BEC5",
                "#B0BEC5",
                "#B0BEC5",
                "#B0BEC5",
                "#B0BEC5",
                "#B0BEC5",
                "#B0BEC5",
                "#B0BEC5",
                "#B0BEC5",
                "#B0BEC5",
                "#B0BEC5",
                "#B0BEC5",
                "#B0BEC5",
                "#B0BEC5",
                "#B0BEC5",
                "#B0BEC5",
                "#B0BEC5",
                "#B0BEC5",
                "#B0BEC5",
                "#B0BEC5",
                "#B0BEC5",
                "#B0BEC5",
                "#B0BEC5",
                "#B0BEC5",
                "#B0BEC5",
                "#B0BEC5",
                "#B0BEC5",
                "#B0BEC5",
                "#B0BEC5",
                "#B0BEC5",
                "#B0BEC5",
                "#B0BEC5",
                "#B0BEC5",
                "#B0BEC5",
                "#B0BEC5",
                "#B0BEC5",
                "#B0BEC5",
                "#B0BEC5",
                "#B0BEC5",
                "#B0BEC5",
                "#B0BEC5",
                "#B0BEC5",
                "red",
                "#B0BEC5",
                "#B0BEC5",
                "#B0BEC5",
                "#B0BEC5",
                "#B0BEC5",
                "#B0BEC5",
                "#B0BEC5",
                "#B0BEC5",
                "#B0BEC5",
                "#B0BEC5",
                "#B0BEC5"
               ]
              ]
             }
            ],
            "label": "Topic 48",
            "method": "update"
           },
           {
            "args": [
             {
              "marker.color": [
               [
                "#B0BEC5",
                "#B0BEC5",
                "#B0BEC5",
                "#B0BEC5",
                "#B0BEC5",
                "#B0BEC5",
                "#B0BEC5",
                "#B0BEC5",
                "#B0BEC5",
                "#B0BEC5",
                "#B0BEC5",
                "#B0BEC5",
                "#B0BEC5",
                "#B0BEC5",
                "#B0BEC5",
                "#B0BEC5",
                "#B0BEC5",
                "#B0BEC5",
                "#B0BEC5",
                "#B0BEC5",
                "#B0BEC5",
                "#B0BEC5",
                "#B0BEC5",
                "#B0BEC5",
                "#B0BEC5",
                "#B0BEC5",
                "#B0BEC5",
                "#B0BEC5",
                "#B0BEC5",
                "#B0BEC5",
                "#B0BEC5",
                "#B0BEC5",
                "#B0BEC5",
                "#B0BEC5",
                "#B0BEC5",
                "#B0BEC5",
                "#B0BEC5",
                "#B0BEC5",
                "#B0BEC5",
                "#B0BEC5",
                "#B0BEC5",
                "#B0BEC5",
                "#B0BEC5",
                "#B0BEC5",
                "#B0BEC5",
                "#B0BEC5",
                "#B0BEC5",
                "#B0BEC5",
                "#B0BEC5",
                "red",
                "#B0BEC5",
                "#B0BEC5",
                "#B0BEC5",
                "#B0BEC5",
                "#B0BEC5",
                "#B0BEC5",
                "#B0BEC5",
                "#B0BEC5",
                "#B0BEC5",
                "#B0BEC5"
               ]
              ]
             }
            ],
            "label": "Topic 49",
            "method": "update"
           },
           {
            "args": [
             {
              "marker.color": [
               [
                "#B0BEC5",
                "#B0BEC5",
                "#B0BEC5",
                "#B0BEC5",
                "#B0BEC5",
                "#B0BEC5",
                "#B0BEC5",
                "#B0BEC5",
                "#B0BEC5",
                "#B0BEC5",
                "#B0BEC5",
                "#B0BEC5",
                "#B0BEC5",
                "#B0BEC5",
                "#B0BEC5",
                "#B0BEC5",
                "#B0BEC5",
                "#B0BEC5",
                "#B0BEC5",
                "#B0BEC5",
                "#B0BEC5",
                "#B0BEC5",
                "#B0BEC5",
                "#B0BEC5",
                "#B0BEC5",
                "#B0BEC5",
                "#B0BEC5",
                "#B0BEC5",
                "#B0BEC5",
                "#B0BEC5",
                "#B0BEC5",
                "#B0BEC5",
                "#B0BEC5",
                "#B0BEC5",
                "#B0BEC5",
                "#B0BEC5",
                "#B0BEC5",
                "#B0BEC5",
                "#B0BEC5",
                "#B0BEC5",
                "#B0BEC5",
                "#B0BEC5",
                "#B0BEC5",
                "#B0BEC5",
                "#B0BEC5",
                "#B0BEC5",
                "#B0BEC5",
                "#B0BEC5",
                "#B0BEC5",
                "#B0BEC5",
                "red",
                "#B0BEC5",
                "#B0BEC5",
                "#B0BEC5",
                "#B0BEC5",
                "#B0BEC5",
                "#B0BEC5",
                "#B0BEC5",
                "#B0BEC5",
                "#B0BEC5"
               ]
              ]
             }
            ],
            "label": "Topic 50",
            "method": "update"
           },
           {
            "args": [
             {
              "marker.color": [
               [
                "#B0BEC5",
                "#B0BEC5",
                "#B0BEC5",
                "#B0BEC5",
                "#B0BEC5",
                "#B0BEC5",
                "#B0BEC5",
                "#B0BEC5",
                "#B0BEC5",
                "#B0BEC5",
                "#B0BEC5",
                "#B0BEC5",
                "#B0BEC5",
                "#B0BEC5",
                "#B0BEC5",
                "#B0BEC5",
                "#B0BEC5",
                "#B0BEC5",
                "#B0BEC5",
                "#B0BEC5",
                "#B0BEC5",
                "#B0BEC5",
                "#B0BEC5",
                "#B0BEC5",
                "#B0BEC5",
                "#B0BEC5",
                "#B0BEC5",
                "#B0BEC5",
                "#B0BEC5",
                "#B0BEC5",
                "#B0BEC5",
                "#B0BEC5",
                "#B0BEC5",
                "#B0BEC5",
                "#B0BEC5",
                "#B0BEC5",
                "#B0BEC5",
                "#B0BEC5",
                "#B0BEC5",
                "#B0BEC5",
                "#B0BEC5",
                "#B0BEC5",
                "#B0BEC5",
                "#B0BEC5",
                "#B0BEC5",
                "#B0BEC5",
                "#B0BEC5",
                "#B0BEC5",
                "#B0BEC5",
                "#B0BEC5",
                "#B0BEC5",
                "red",
                "#B0BEC5",
                "#B0BEC5",
                "#B0BEC5",
                "#B0BEC5",
                "#B0BEC5",
                "#B0BEC5",
                "#B0BEC5",
                "#B0BEC5"
               ]
              ]
             }
            ],
            "label": "Topic 51",
            "method": "update"
           },
           {
            "args": [
             {
              "marker.color": [
               [
                "#B0BEC5",
                "#B0BEC5",
                "#B0BEC5",
                "#B0BEC5",
                "#B0BEC5",
                "#B0BEC5",
                "#B0BEC5",
                "#B0BEC5",
                "#B0BEC5",
                "#B0BEC5",
                "#B0BEC5",
                "#B0BEC5",
                "#B0BEC5",
                "#B0BEC5",
                "#B0BEC5",
                "#B0BEC5",
                "#B0BEC5",
                "#B0BEC5",
                "#B0BEC5",
                "#B0BEC5",
                "#B0BEC5",
                "#B0BEC5",
                "#B0BEC5",
                "#B0BEC5",
                "#B0BEC5",
                "#B0BEC5",
                "#B0BEC5",
                "#B0BEC5",
                "#B0BEC5",
                "#B0BEC5",
                "#B0BEC5",
                "#B0BEC5",
                "#B0BEC5",
                "#B0BEC5",
                "#B0BEC5",
                "#B0BEC5",
                "#B0BEC5",
                "#B0BEC5",
                "#B0BEC5",
                "#B0BEC5",
                "#B0BEC5",
                "#B0BEC5",
                "#B0BEC5",
                "#B0BEC5",
                "#B0BEC5",
                "#B0BEC5",
                "#B0BEC5",
                "#B0BEC5",
                "#B0BEC5",
                "#B0BEC5",
                "#B0BEC5",
                "#B0BEC5",
                "red",
                "#B0BEC5",
                "#B0BEC5",
                "#B0BEC5",
                "#B0BEC5",
                "#B0BEC5",
                "#B0BEC5",
                "#B0BEC5"
               ]
              ]
             }
            ],
            "label": "Topic 52",
            "method": "update"
           },
           {
            "args": [
             {
              "marker.color": [
               [
                "#B0BEC5",
                "#B0BEC5",
                "#B0BEC5",
                "#B0BEC5",
                "#B0BEC5",
                "#B0BEC5",
                "#B0BEC5",
                "#B0BEC5",
                "#B0BEC5",
                "#B0BEC5",
                "#B0BEC5",
                "#B0BEC5",
                "#B0BEC5",
                "#B0BEC5",
                "#B0BEC5",
                "#B0BEC5",
                "#B0BEC5",
                "#B0BEC5",
                "#B0BEC5",
                "#B0BEC5",
                "#B0BEC5",
                "#B0BEC5",
                "#B0BEC5",
                "#B0BEC5",
                "#B0BEC5",
                "#B0BEC5",
                "#B0BEC5",
                "#B0BEC5",
                "#B0BEC5",
                "#B0BEC5",
                "#B0BEC5",
                "#B0BEC5",
                "#B0BEC5",
                "#B0BEC5",
                "#B0BEC5",
                "#B0BEC5",
                "#B0BEC5",
                "#B0BEC5",
                "#B0BEC5",
                "#B0BEC5",
                "#B0BEC5",
                "#B0BEC5",
                "#B0BEC5",
                "#B0BEC5",
                "#B0BEC5",
                "#B0BEC5",
                "#B0BEC5",
                "#B0BEC5",
                "#B0BEC5",
                "#B0BEC5",
                "#B0BEC5",
                "#B0BEC5",
                "#B0BEC5",
                "red",
                "#B0BEC5",
                "#B0BEC5",
                "#B0BEC5",
                "#B0BEC5",
                "#B0BEC5",
                "#B0BEC5"
               ]
              ]
             }
            ],
            "label": "Topic 53",
            "method": "update"
           },
           {
            "args": [
             {
              "marker.color": [
               [
                "#B0BEC5",
                "#B0BEC5",
                "#B0BEC5",
                "#B0BEC5",
                "#B0BEC5",
                "#B0BEC5",
                "#B0BEC5",
                "#B0BEC5",
                "#B0BEC5",
                "#B0BEC5",
                "#B0BEC5",
                "#B0BEC5",
                "#B0BEC5",
                "#B0BEC5",
                "#B0BEC5",
                "#B0BEC5",
                "#B0BEC5",
                "#B0BEC5",
                "#B0BEC5",
                "#B0BEC5",
                "#B0BEC5",
                "#B0BEC5",
                "#B0BEC5",
                "#B0BEC5",
                "#B0BEC5",
                "#B0BEC5",
                "#B0BEC5",
                "#B0BEC5",
                "#B0BEC5",
                "#B0BEC5",
                "#B0BEC5",
                "#B0BEC5",
                "#B0BEC5",
                "#B0BEC5",
                "#B0BEC5",
                "#B0BEC5",
                "#B0BEC5",
                "#B0BEC5",
                "#B0BEC5",
                "#B0BEC5",
                "#B0BEC5",
                "#B0BEC5",
                "#B0BEC5",
                "#B0BEC5",
                "#B0BEC5",
                "#B0BEC5",
                "#B0BEC5",
                "#B0BEC5",
                "#B0BEC5",
                "#B0BEC5",
                "#B0BEC5",
                "#B0BEC5",
                "#B0BEC5",
                "#B0BEC5",
                "red",
                "#B0BEC5",
                "#B0BEC5",
                "#B0BEC5",
                "#B0BEC5",
                "#B0BEC5"
               ]
              ]
             }
            ],
            "label": "Topic 54",
            "method": "update"
           },
           {
            "args": [
             {
              "marker.color": [
               [
                "#B0BEC5",
                "#B0BEC5",
                "#B0BEC5",
                "#B0BEC5",
                "#B0BEC5",
                "#B0BEC5",
                "#B0BEC5",
                "#B0BEC5",
                "#B0BEC5",
                "#B0BEC5",
                "#B0BEC5",
                "#B0BEC5",
                "#B0BEC5",
                "#B0BEC5",
                "#B0BEC5",
                "#B0BEC5",
                "#B0BEC5",
                "#B0BEC5",
                "#B0BEC5",
                "#B0BEC5",
                "#B0BEC5",
                "#B0BEC5",
                "#B0BEC5",
                "#B0BEC5",
                "#B0BEC5",
                "#B0BEC5",
                "#B0BEC5",
                "#B0BEC5",
                "#B0BEC5",
                "#B0BEC5",
                "#B0BEC5",
                "#B0BEC5",
                "#B0BEC5",
                "#B0BEC5",
                "#B0BEC5",
                "#B0BEC5",
                "#B0BEC5",
                "#B0BEC5",
                "#B0BEC5",
                "#B0BEC5",
                "#B0BEC5",
                "#B0BEC5",
                "#B0BEC5",
                "#B0BEC5",
                "#B0BEC5",
                "#B0BEC5",
                "#B0BEC5",
                "#B0BEC5",
                "#B0BEC5",
                "#B0BEC5",
                "#B0BEC5",
                "#B0BEC5",
                "#B0BEC5",
                "#B0BEC5",
                "#B0BEC5",
                "red",
                "#B0BEC5",
                "#B0BEC5",
                "#B0BEC5",
                "#B0BEC5"
               ]
              ]
             }
            ],
            "label": "Topic 55",
            "method": "update"
           },
           {
            "args": [
             {
              "marker.color": [
               [
                "#B0BEC5",
                "#B0BEC5",
                "#B0BEC5",
                "#B0BEC5",
                "#B0BEC5",
                "#B0BEC5",
                "#B0BEC5",
                "#B0BEC5",
                "#B0BEC5",
                "#B0BEC5",
                "#B0BEC5",
                "#B0BEC5",
                "#B0BEC5",
                "#B0BEC5",
                "#B0BEC5",
                "#B0BEC5",
                "#B0BEC5",
                "#B0BEC5",
                "#B0BEC5",
                "#B0BEC5",
                "#B0BEC5",
                "#B0BEC5",
                "#B0BEC5",
                "#B0BEC5",
                "#B0BEC5",
                "#B0BEC5",
                "#B0BEC5",
                "#B0BEC5",
                "#B0BEC5",
                "#B0BEC5",
                "#B0BEC5",
                "#B0BEC5",
                "#B0BEC5",
                "#B0BEC5",
                "#B0BEC5",
                "#B0BEC5",
                "#B0BEC5",
                "#B0BEC5",
                "#B0BEC5",
                "#B0BEC5",
                "#B0BEC5",
                "#B0BEC5",
                "#B0BEC5",
                "#B0BEC5",
                "#B0BEC5",
                "#B0BEC5",
                "#B0BEC5",
                "#B0BEC5",
                "#B0BEC5",
                "#B0BEC5",
                "#B0BEC5",
                "#B0BEC5",
                "#B0BEC5",
                "#B0BEC5",
                "#B0BEC5",
                "#B0BEC5",
                "red",
                "#B0BEC5",
                "#B0BEC5",
                "#B0BEC5"
               ]
              ]
             }
            ],
            "label": "Topic 56",
            "method": "update"
           },
           {
            "args": [
             {
              "marker.color": [
               [
                "#B0BEC5",
                "#B0BEC5",
                "#B0BEC5",
                "#B0BEC5",
                "#B0BEC5",
                "#B0BEC5",
                "#B0BEC5",
                "#B0BEC5",
                "#B0BEC5",
                "#B0BEC5",
                "#B0BEC5",
                "#B0BEC5",
                "#B0BEC5",
                "#B0BEC5",
                "#B0BEC5",
                "#B0BEC5",
                "#B0BEC5",
                "#B0BEC5",
                "#B0BEC5",
                "#B0BEC5",
                "#B0BEC5",
                "#B0BEC5",
                "#B0BEC5",
                "#B0BEC5",
                "#B0BEC5",
                "#B0BEC5",
                "#B0BEC5",
                "#B0BEC5",
                "#B0BEC5",
                "#B0BEC5",
                "#B0BEC5",
                "#B0BEC5",
                "#B0BEC5",
                "#B0BEC5",
                "#B0BEC5",
                "#B0BEC5",
                "#B0BEC5",
                "#B0BEC5",
                "#B0BEC5",
                "#B0BEC5",
                "#B0BEC5",
                "#B0BEC5",
                "#B0BEC5",
                "#B0BEC5",
                "#B0BEC5",
                "#B0BEC5",
                "#B0BEC5",
                "#B0BEC5",
                "#B0BEC5",
                "#B0BEC5",
                "#B0BEC5",
                "#B0BEC5",
                "#B0BEC5",
                "#B0BEC5",
                "#B0BEC5",
                "#B0BEC5",
                "#B0BEC5",
                "red",
                "#B0BEC5",
                "#B0BEC5"
               ]
              ]
             }
            ],
            "label": "Topic 57",
            "method": "update"
           },
           {
            "args": [
             {
              "marker.color": [
               [
                "#B0BEC5",
                "#B0BEC5",
                "#B0BEC5",
                "#B0BEC5",
                "#B0BEC5",
                "#B0BEC5",
                "#B0BEC5",
                "#B0BEC5",
                "#B0BEC5",
                "#B0BEC5",
                "#B0BEC5",
                "#B0BEC5",
                "#B0BEC5",
                "#B0BEC5",
                "#B0BEC5",
                "#B0BEC5",
                "#B0BEC5",
                "#B0BEC5",
                "#B0BEC5",
                "#B0BEC5",
                "#B0BEC5",
                "#B0BEC5",
                "#B0BEC5",
                "#B0BEC5",
                "#B0BEC5",
                "#B0BEC5",
                "#B0BEC5",
                "#B0BEC5",
                "#B0BEC5",
                "#B0BEC5",
                "#B0BEC5",
                "#B0BEC5",
                "#B0BEC5",
                "#B0BEC5",
                "#B0BEC5",
                "#B0BEC5",
                "#B0BEC5",
                "#B0BEC5",
                "#B0BEC5",
                "#B0BEC5",
                "#B0BEC5",
                "#B0BEC5",
                "#B0BEC5",
                "#B0BEC5",
                "#B0BEC5",
                "#B0BEC5",
                "#B0BEC5",
                "#B0BEC5",
                "#B0BEC5",
                "#B0BEC5",
                "#B0BEC5",
                "#B0BEC5",
                "#B0BEC5",
                "#B0BEC5",
                "#B0BEC5",
                "#B0BEC5",
                "#B0BEC5",
                "#B0BEC5",
                "red",
                "#B0BEC5"
               ]
              ]
             }
            ],
            "label": "Topic 58",
            "method": "update"
           },
           {
            "args": [
             {
              "marker.color": [
               [
                "#B0BEC5",
                "#B0BEC5",
                "#B0BEC5",
                "#B0BEC5",
                "#B0BEC5",
                "#B0BEC5",
                "#B0BEC5",
                "#B0BEC5",
                "#B0BEC5",
                "#B0BEC5",
                "#B0BEC5",
                "#B0BEC5",
                "#B0BEC5",
                "#B0BEC5",
                "#B0BEC5",
                "#B0BEC5",
                "#B0BEC5",
                "#B0BEC5",
                "#B0BEC5",
                "#B0BEC5",
                "#B0BEC5",
                "#B0BEC5",
                "#B0BEC5",
                "#B0BEC5",
                "#B0BEC5",
                "#B0BEC5",
                "#B0BEC5",
                "#B0BEC5",
                "#B0BEC5",
                "#B0BEC5",
                "#B0BEC5",
                "#B0BEC5",
                "#B0BEC5",
                "#B0BEC5",
                "#B0BEC5",
                "#B0BEC5",
                "#B0BEC5",
                "#B0BEC5",
                "#B0BEC5",
                "#B0BEC5",
                "#B0BEC5",
                "#B0BEC5",
                "#B0BEC5",
                "#B0BEC5",
                "#B0BEC5",
                "#B0BEC5",
                "#B0BEC5",
                "#B0BEC5",
                "#B0BEC5",
                "#B0BEC5",
                "#B0BEC5",
                "#B0BEC5",
                "#B0BEC5",
                "#B0BEC5",
                "#B0BEC5",
                "#B0BEC5",
                "#B0BEC5",
                "#B0BEC5",
                "#B0BEC5",
                "red"
               ]
              ]
             }
            ],
            "label": "Topic 59",
            "method": "update"
           }
          ]
         }
        ],
        "template": {
         "data": {
          "bar": [
           {
            "error_x": {
             "color": "rgb(36,36,36)"
            },
            "error_y": {
             "color": "rgb(36,36,36)"
            },
            "marker": {
             "line": {
              "color": "white",
              "width": 0.5
             },
             "pattern": {
              "fillmode": "overlay",
              "size": 10,
              "solidity": 0.2
             }
            },
            "type": "bar"
           }
          ],
          "barpolar": [
           {
            "marker": {
             "line": {
              "color": "white",
              "width": 0.5
             },
             "pattern": {
              "fillmode": "overlay",
              "size": 10,
              "solidity": 0.2
             }
            },
            "type": "barpolar"
           }
          ],
          "carpet": [
           {
            "aaxis": {
             "endlinecolor": "rgb(36,36,36)",
             "gridcolor": "white",
             "linecolor": "white",
             "minorgridcolor": "white",
             "startlinecolor": "rgb(36,36,36)"
            },
            "baxis": {
             "endlinecolor": "rgb(36,36,36)",
             "gridcolor": "white",
             "linecolor": "white",
             "minorgridcolor": "white",
             "startlinecolor": "rgb(36,36,36)"
            },
            "type": "carpet"
           }
          ],
          "choropleth": [
           {
            "colorbar": {
             "outlinewidth": 1,
             "tickcolor": "rgb(36,36,36)",
             "ticks": "outside"
            },
            "type": "choropleth"
           }
          ],
          "contour": [
           {
            "colorbar": {
             "outlinewidth": 1,
             "tickcolor": "rgb(36,36,36)",
             "ticks": "outside"
            },
            "colorscale": [
             [
              0,
              "#440154"
             ],
             [
              0.1111111111111111,
              "#482878"
             ],
             [
              0.2222222222222222,
              "#3e4989"
             ],
             [
              0.3333333333333333,
              "#31688e"
             ],
             [
              0.4444444444444444,
              "#26828e"
             ],
             [
              0.5555555555555556,
              "#1f9e89"
             ],
             [
              0.6666666666666666,
              "#35b779"
             ],
             [
              0.7777777777777778,
              "#6ece58"
             ],
             [
              0.8888888888888888,
              "#b5de2b"
             ],
             [
              1,
              "#fde725"
             ]
            ],
            "type": "contour"
           }
          ],
          "contourcarpet": [
           {
            "colorbar": {
             "outlinewidth": 1,
             "tickcolor": "rgb(36,36,36)",
             "ticks": "outside"
            },
            "type": "contourcarpet"
           }
          ],
          "heatmap": [
           {
            "colorbar": {
             "outlinewidth": 1,
             "tickcolor": "rgb(36,36,36)",
             "ticks": "outside"
            },
            "colorscale": [
             [
              0,
              "#440154"
             ],
             [
              0.1111111111111111,
              "#482878"
             ],
             [
              0.2222222222222222,
              "#3e4989"
             ],
             [
              0.3333333333333333,
              "#31688e"
             ],
             [
              0.4444444444444444,
              "#26828e"
             ],
             [
              0.5555555555555556,
              "#1f9e89"
             ],
             [
              0.6666666666666666,
              "#35b779"
             ],
             [
              0.7777777777777778,
              "#6ece58"
             ],
             [
              0.8888888888888888,
              "#b5de2b"
             ],
             [
              1,
              "#fde725"
             ]
            ],
            "type": "heatmap"
           }
          ],
          "heatmapgl": [
           {
            "colorbar": {
             "outlinewidth": 1,
             "tickcolor": "rgb(36,36,36)",
             "ticks": "outside"
            },
            "colorscale": [
             [
              0,
              "#440154"
             ],
             [
              0.1111111111111111,
              "#482878"
             ],
             [
              0.2222222222222222,
              "#3e4989"
             ],
             [
              0.3333333333333333,
              "#31688e"
             ],
             [
              0.4444444444444444,
              "#26828e"
             ],
             [
              0.5555555555555556,
              "#1f9e89"
             ],
             [
              0.6666666666666666,
              "#35b779"
             ],
             [
              0.7777777777777778,
              "#6ece58"
             ],
             [
              0.8888888888888888,
              "#b5de2b"
             ],
             [
              1,
              "#fde725"
             ]
            ],
            "type": "heatmapgl"
           }
          ],
          "histogram": [
           {
            "marker": {
             "line": {
              "color": "white",
              "width": 0.6
             }
            },
            "type": "histogram"
           }
          ],
          "histogram2d": [
           {
            "colorbar": {
             "outlinewidth": 1,
             "tickcolor": "rgb(36,36,36)",
             "ticks": "outside"
            },
            "colorscale": [
             [
              0,
              "#440154"
             ],
             [
              0.1111111111111111,
              "#482878"
             ],
             [
              0.2222222222222222,
              "#3e4989"
             ],
             [
              0.3333333333333333,
              "#31688e"
             ],
             [
              0.4444444444444444,
              "#26828e"
             ],
             [
              0.5555555555555556,
              "#1f9e89"
             ],
             [
              0.6666666666666666,
              "#35b779"
             ],
             [
              0.7777777777777778,
              "#6ece58"
             ],
             [
              0.8888888888888888,
              "#b5de2b"
             ],
             [
              1,
              "#fde725"
             ]
            ],
            "type": "histogram2d"
           }
          ],
          "histogram2dcontour": [
           {
            "colorbar": {
             "outlinewidth": 1,
             "tickcolor": "rgb(36,36,36)",
             "ticks": "outside"
            },
            "colorscale": [
             [
              0,
              "#440154"
             ],
             [
              0.1111111111111111,
              "#482878"
             ],
             [
              0.2222222222222222,
              "#3e4989"
             ],
             [
              0.3333333333333333,
              "#31688e"
             ],
             [
              0.4444444444444444,
              "#26828e"
             ],
             [
              0.5555555555555556,
              "#1f9e89"
             ],
             [
              0.6666666666666666,
              "#35b779"
             ],
             [
              0.7777777777777778,
              "#6ece58"
             ],
             [
              0.8888888888888888,
              "#b5de2b"
             ],
             [
              1,
              "#fde725"
             ]
            ],
            "type": "histogram2dcontour"
           }
          ],
          "mesh3d": [
           {
            "colorbar": {
             "outlinewidth": 1,
             "tickcolor": "rgb(36,36,36)",
             "ticks": "outside"
            },
            "type": "mesh3d"
           }
          ],
          "parcoords": [
           {
            "line": {
             "colorbar": {
              "outlinewidth": 1,
              "tickcolor": "rgb(36,36,36)",
              "ticks": "outside"
             }
            },
            "type": "parcoords"
           }
          ],
          "pie": [
           {
            "automargin": true,
            "type": "pie"
           }
          ],
          "scatter": [
           {
            "fillpattern": {
             "fillmode": "overlay",
             "size": 10,
             "solidity": 0.2
            },
            "type": "scatter"
           }
          ],
          "scatter3d": [
           {
            "line": {
             "colorbar": {
              "outlinewidth": 1,
              "tickcolor": "rgb(36,36,36)",
              "ticks": "outside"
             }
            },
            "marker": {
             "colorbar": {
              "outlinewidth": 1,
              "tickcolor": "rgb(36,36,36)",
              "ticks": "outside"
             }
            },
            "type": "scatter3d"
           }
          ],
          "scattercarpet": [
           {
            "marker": {
             "colorbar": {
              "outlinewidth": 1,
              "tickcolor": "rgb(36,36,36)",
              "ticks": "outside"
             }
            },
            "type": "scattercarpet"
           }
          ],
          "scattergeo": [
           {
            "marker": {
             "colorbar": {
              "outlinewidth": 1,
              "tickcolor": "rgb(36,36,36)",
              "ticks": "outside"
             }
            },
            "type": "scattergeo"
           }
          ],
          "scattergl": [
           {
            "marker": {
             "colorbar": {
              "outlinewidth": 1,
              "tickcolor": "rgb(36,36,36)",
              "ticks": "outside"
             }
            },
            "type": "scattergl"
           }
          ],
          "scattermapbox": [
           {
            "marker": {
             "colorbar": {
              "outlinewidth": 1,
              "tickcolor": "rgb(36,36,36)",
              "ticks": "outside"
             }
            },
            "type": "scattermapbox"
           }
          ],
          "scatterpolar": [
           {
            "marker": {
             "colorbar": {
              "outlinewidth": 1,
              "tickcolor": "rgb(36,36,36)",
              "ticks": "outside"
             }
            },
            "type": "scatterpolar"
           }
          ],
          "scatterpolargl": [
           {
            "marker": {
             "colorbar": {
              "outlinewidth": 1,
              "tickcolor": "rgb(36,36,36)",
              "ticks": "outside"
             }
            },
            "type": "scatterpolargl"
           }
          ],
          "scatterternary": [
           {
            "marker": {
             "colorbar": {
              "outlinewidth": 1,
              "tickcolor": "rgb(36,36,36)",
              "ticks": "outside"
             }
            },
            "type": "scatterternary"
           }
          ],
          "surface": [
           {
            "colorbar": {
             "outlinewidth": 1,
             "tickcolor": "rgb(36,36,36)",
             "ticks": "outside"
            },
            "colorscale": [
             [
              0,
              "#440154"
             ],
             [
              0.1111111111111111,
              "#482878"
             ],
             [
              0.2222222222222222,
              "#3e4989"
             ],
             [
              0.3333333333333333,
              "#31688e"
             ],
             [
              0.4444444444444444,
              "#26828e"
             ],
             [
              0.5555555555555556,
              "#1f9e89"
             ],
             [
              0.6666666666666666,
              "#35b779"
             ],
             [
              0.7777777777777778,
              "#6ece58"
             ],
             [
              0.8888888888888888,
              "#b5de2b"
             ],
             [
              1,
              "#fde725"
             ]
            ],
            "type": "surface"
           }
          ],
          "table": [
           {
            "cells": {
             "fill": {
              "color": "rgb(237,237,237)"
             },
             "line": {
              "color": "white"
             }
            },
            "header": {
             "fill": {
              "color": "rgb(217,217,217)"
             },
             "line": {
              "color": "white"
             }
            },
            "type": "table"
           }
          ]
         },
         "layout": {
          "annotationdefaults": {
           "arrowhead": 0,
           "arrowwidth": 1
          },
          "autotypenumbers": "strict",
          "coloraxis": {
           "colorbar": {
            "outlinewidth": 1,
            "tickcolor": "rgb(36,36,36)",
            "ticks": "outside"
           }
          },
          "colorscale": {
           "diverging": [
            [
             0,
             "rgb(103,0,31)"
            ],
            [
             0.1,
             "rgb(178,24,43)"
            ],
            [
             0.2,
             "rgb(214,96,77)"
            ],
            [
             0.3,
             "rgb(244,165,130)"
            ],
            [
             0.4,
             "rgb(253,219,199)"
            ],
            [
             0.5,
             "rgb(247,247,247)"
            ],
            [
             0.6,
             "rgb(209,229,240)"
            ],
            [
             0.7,
             "rgb(146,197,222)"
            ],
            [
             0.8,
             "rgb(67,147,195)"
            ],
            [
             0.9,
             "rgb(33,102,172)"
            ],
            [
             1,
             "rgb(5,48,97)"
            ]
           ],
           "sequential": [
            [
             0,
             "#440154"
            ],
            [
             0.1111111111111111,
             "#482878"
            ],
            [
             0.2222222222222222,
             "#3e4989"
            ],
            [
             0.3333333333333333,
             "#31688e"
            ],
            [
             0.4444444444444444,
             "#26828e"
            ],
            [
             0.5555555555555556,
             "#1f9e89"
            ],
            [
             0.6666666666666666,
             "#35b779"
            ],
            [
             0.7777777777777778,
             "#6ece58"
            ],
            [
             0.8888888888888888,
             "#b5de2b"
            ],
            [
             1,
             "#fde725"
            ]
           ],
           "sequentialminus": [
            [
             0,
             "#440154"
            ],
            [
             0.1111111111111111,
             "#482878"
            ],
            [
             0.2222222222222222,
             "#3e4989"
            ],
            [
             0.3333333333333333,
             "#31688e"
            ],
            [
             0.4444444444444444,
             "#26828e"
            ],
            [
             0.5555555555555556,
             "#1f9e89"
            ],
            [
             0.6666666666666666,
             "#35b779"
            ],
            [
             0.7777777777777778,
             "#6ece58"
            ],
            [
             0.8888888888888888,
             "#b5de2b"
            ],
            [
             1,
             "#fde725"
            ]
           ]
          },
          "colorway": [
           "#1F77B4",
           "#FF7F0E",
           "#2CA02C",
           "#D62728",
           "#9467BD",
           "#8C564B",
           "#E377C2",
           "#7F7F7F",
           "#BCBD22",
           "#17BECF"
          ],
          "font": {
           "color": "rgb(36,36,36)"
          },
          "geo": {
           "bgcolor": "white",
           "lakecolor": "white",
           "landcolor": "white",
           "showlakes": true,
           "showland": true,
           "subunitcolor": "white"
          },
          "hoverlabel": {
           "align": "left"
          },
          "hovermode": "closest",
          "mapbox": {
           "style": "light"
          },
          "paper_bgcolor": "white",
          "plot_bgcolor": "white",
          "polar": {
           "angularaxis": {
            "gridcolor": "rgb(232,232,232)",
            "linecolor": "rgb(36,36,36)",
            "showgrid": false,
            "showline": true,
            "ticks": "outside"
           },
           "bgcolor": "white",
           "radialaxis": {
            "gridcolor": "rgb(232,232,232)",
            "linecolor": "rgb(36,36,36)",
            "showgrid": false,
            "showline": true,
            "ticks": "outside"
           }
          },
          "scene": {
           "xaxis": {
            "backgroundcolor": "white",
            "gridcolor": "rgb(232,232,232)",
            "gridwidth": 2,
            "linecolor": "rgb(36,36,36)",
            "showbackground": true,
            "showgrid": false,
            "showline": true,
            "ticks": "outside",
            "zeroline": false,
            "zerolinecolor": "rgb(36,36,36)"
           },
           "yaxis": {
            "backgroundcolor": "white",
            "gridcolor": "rgb(232,232,232)",
            "gridwidth": 2,
            "linecolor": "rgb(36,36,36)",
            "showbackground": true,
            "showgrid": false,
            "showline": true,
            "ticks": "outside",
            "zeroline": false,
            "zerolinecolor": "rgb(36,36,36)"
           },
           "zaxis": {
            "backgroundcolor": "white",
            "gridcolor": "rgb(232,232,232)",
            "gridwidth": 2,
            "linecolor": "rgb(36,36,36)",
            "showbackground": true,
            "showgrid": false,
            "showline": true,
            "ticks": "outside",
            "zeroline": false,
            "zerolinecolor": "rgb(36,36,36)"
           }
          },
          "shapedefaults": {
           "fillcolor": "black",
           "line": {
            "width": 0
           },
           "opacity": 0.3
          },
          "ternary": {
           "aaxis": {
            "gridcolor": "rgb(232,232,232)",
            "linecolor": "rgb(36,36,36)",
            "showgrid": false,
            "showline": true,
            "ticks": "outside"
           },
           "baxis": {
            "gridcolor": "rgb(232,232,232)",
            "linecolor": "rgb(36,36,36)",
            "showgrid": false,
            "showline": true,
            "ticks": "outside"
           },
           "bgcolor": "white",
           "caxis": {
            "gridcolor": "rgb(232,232,232)",
            "linecolor": "rgb(36,36,36)",
            "showgrid": false,
            "showline": true,
            "ticks": "outside"
           }
          },
          "title": {
           "x": 0.05
          },
          "xaxis": {
           "automargin": true,
           "gridcolor": "rgb(232,232,232)",
           "linecolor": "rgb(36,36,36)",
           "showgrid": false,
           "showline": true,
           "ticks": "outside",
           "title": {
            "standoff": 15
           },
           "zeroline": false,
           "zerolinecolor": "rgb(36,36,36)"
          },
          "yaxis": {
           "automargin": true,
           "gridcolor": "rgb(232,232,232)",
           "linecolor": "rgb(36,36,36)",
           "showgrid": false,
           "showline": true,
           "ticks": "outside",
           "title": {
            "standoff": 15
           },
           "zeroline": false,
           "zerolinecolor": "rgb(36,36,36)"
          }
         }
        },
        "title": {
         "font": {
          "color": "Black",
          "size": 22
         },
         "text": "<b>Intertopic Distance Map</b>",
         "x": 0.5,
         "xanchor": "center",
         "y": 0.95,
         "yanchor": "top"
        },
        "width": 650,
        "xaxis": {
         "anchor": "y",
         "domain": [
          0,
          1
         ],
         "range": [
          -12.820914793014527,
          20.25334758758545
         ],
         "title": {
          "text": ""
         },
         "visible": false
        },
        "yaxis": {
         "anchor": "x",
         "domain": [
          0,
          1
         ],
         "range": [
          -7.267189168930054,
          16.009165906906127
         ],
         "title": {
          "text": ""
         },
         "visible": false
        }
       }
      }
     },
     "metadata": {},
     "output_type": "display_data"
    }
   ],
   "source": [
    "topic_model.visualize_topics()"
   ]
  },
  {
   "cell_type": "code",
   "execution_count": 7,
   "metadata": {},
   "outputs": [
    {
     "data": {
      "application/vnd.plotly.v1+json": {
       "config": {
        "plotlyServerURL": "https://plot.ly"
       },
       "data": [
        {
         "coloraxis": "coloraxis",
         "hovertemplate": "x: %{x}<br>y: %{y}<br>Similarity Score: %{z}<extra></extra>",
         "name": "0",
         "type": "heatmap",
         "x": [
          "0_shelf_shelving_shelves",
          "1_tv_stand_use",
          "2_assemble_easy_assembly",
          "3_closet_clothes_organizer",
          "4_kallax_love_delivery",
          "5_bookcase_books_bookshelf",
          "6_kallax_shelf_shelves",
          "7_vinyl_records_record",
          "8_holes_dowels_wooden",
          "9_toy_toys_kid",
          "10_gloss_white_grey",
          "11_storage_options_solution",
          "12_works_exactly_needed",
          "13_quality_good_price",
          "14_vertical_horizontal_vert...",
          "15_kallax_storage_units",
          "16_sturdy_nice_strong",
          "17_fits_space_suits",
          "18_love_sturdiness_second",
          "19_kallax_studio_units",
          "20_furniture_piece_affordable",
          "21_good_ok_bad",
          "22_looks_easy_set",
          "23_daughter_kids_room",
          "24_ikea_easiest_quality",
          "25_cubes_cube_storage",
          "26_excellent_great_awesome",
          "27_product_excellent_great",
          "28_value_money_good",
          "29_bedroom_room_living",
          "30_fittings_kallax_assemble",
          "31_product_good_price",
          "32_books_toys_daughters",
          "33_sturdy_assemble_easy",
          "34_install_build_installation",
          "35_sewing_fabric_room",
          "36_perfect_4x3kallax_versit...",
          "37_bookcase_kallax_books",
          "38_assemble_storage_easy",
          "39_craft_room_certain",
          "40_happy_pleased_product",
          "41_ago_month_happy",
          "42_unit_practical_units",
          "43_new_ikea_quality",
          "44_craft_room_kallax",
          "45_color_forever_available",
          "46_cutting_table_sewing",
          "47_ikea_doors_knobs",
          "48_assemble_living_room",
          "49_unit_storage_functional",
          "50_craft_room_dorm",
          "51_job_winner_easy",
          "52_versatile_configurations...",
          "53_closet_kallax_linen",
          "54_boxes_cardboard_containers",
          "55_expected_expectations_me...",
          "56_nice_thanks_neat",
          "57_functional_multifunction...",
          "58_nice_product_item",
          "59_matching_ikea_shelves"
         ],
         "xaxis": "x",
         "y": [
          "0_shelf_shelving_shelves",
          "1_tv_stand_use",
          "2_assemble_easy_assembly",
          "3_closet_clothes_organizer",
          "4_kallax_love_delivery",
          "5_bookcase_books_bookshelf",
          "6_kallax_shelf_shelves",
          "7_vinyl_records_record",
          "8_holes_dowels_wooden",
          "9_toy_toys_kid",
          "10_gloss_white_grey",
          "11_storage_options_solution",
          "12_works_exactly_needed",
          "13_quality_good_price",
          "14_vertical_horizontal_vert...",
          "15_kallax_storage_units",
          "16_sturdy_nice_strong",
          "17_fits_space_suits",
          "18_love_sturdiness_second",
          "19_kallax_studio_units",
          "20_furniture_piece_affordable",
          "21_good_ok_bad",
          "22_looks_easy_set",
          "23_daughter_kids_room",
          "24_ikea_easiest_quality",
          "25_cubes_cube_storage",
          "26_excellent_great_awesome",
          "27_product_excellent_great",
          "28_value_money_good",
          "29_bedroom_room_living",
          "30_fittings_kallax_assemble",
          "31_product_good_price",
          "32_books_toys_daughters",
          "33_sturdy_assemble_easy",
          "34_install_build_installation",
          "35_sewing_fabric_room",
          "36_perfect_4x3kallax_versit...",
          "37_bookcase_kallax_books",
          "38_assemble_storage_easy",
          "39_craft_room_certain",
          "40_happy_pleased_product",
          "41_ago_month_happy",
          "42_unit_practical_units",
          "43_new_ikea_quality",
          "44_craft_room_kallax",
          "45_color_forever_available",
          "46_cutting_table_sewing",
          "47_ikea_doors_knobs",
          "48_assemble_living_room",
          "49_unit_storage_functional",
          "50_craft_room_dorm",
          "51_job_winner_easy",
          "52_versatile_configurations...",
          "53_closet_kallax_linen",
          "54_boxes_cardboard_containers",
          "55_expected_expectations_me...",
          "56_nice_thanks_neat",
          "57_functional_multifunction...",
          "58_nice_product_item",
          "59_matching_ikea_shelves"
         ],
         "yaxis": "y",
         "z": [
          [
           1,
           0.7176691889762878,
           0.5820928812026978,
           0.7383081912994385,
           0.34525448083877563,
           0.8000614643096924,
           0.8292322158813477,
           0.6973254680633545,
           0.5871865153312683,
           0.5485663414001465,
           0.6498099565505981,
           0.6527260541915894,
           0.3385409116744995,
           0.5633704662322998,
           0.7141377925872803,
           0.5745229125022888,
           0.6509168148040771,
           0.42377546429634094,
           0.13929590582847595,
           0.7762036323547363,
           0.6592743396759033,
           0.12804988026618958,
           0.43214166164398193,
           0.5616967082023621,
           0.649421215057373,
           0.6469238996505737,
           0.22515816986560822,
           0.3318369686603546,
           0.4328460693359375,
           0.579093337059021,
           0.5298241376876831,
           0.42063939571380615,
           0.6454111337661743,
           0.658561110496521,
           0.5245286226272583,
           0.5831812620162964,
           0.22161561250686646,
           0.6886905431747437,
           0.7568463087081909,
           0.6423382759094238,
           0.4159652888774872,
           0.3485563397407532,
           0.5946124196052551,
           0.6663720607757568,
           0.5335302948951721,
           0.5145601034164429,
           0.5983964800834656,
           0.6792821884155273,
           0.6353669166564941,
           0.6684434413909912,
           0.8927599191665649,
           0.2557820975780487,
           0.408803790807724,
           0.6575703024864197,
           0.6559526920318604,
           0.26873478293418884,
           0.16828587651252747,
           0.20955494046211243,
           0.39008140563964844,
           0.8644055128097534
          ],
          [
           0.7176691889762878,
           0.9999997615814209,
           0.48239946365356445,
           0.5879674553871155,
           0.2965484857559204,
           0.6507055759429932,
           0.6065046191215515,
           0.5373870134353638,
           0.5506734848022461,
           0.5100035667419434,
           0.513815701007843,
           0.5503361225128174,
           0.32687050104141235,
           0.5004507899284363,
           0.6671285629272461,
           0.4806596040725708,
           0.5554091930389404,
           0.4447133541107178,
           0.17947404086589813,
           0.6492149829864502,
           0.6440250873565674,
           0.11955169588327408,
           0.3622429370880127,
           0.5607483386993408,
           0.5980516672134399,
           0.5739946365356445,
           0.19529986381530762,
           0.2734765410423279,
           0.3951731324195862,
           0.5876432657241821,
           0.4847782850265503,
           0.3602970838546753,
           0.5519862174987793,
           0.5485363602638245,
           0.45946240425109863,
           0.5033165812492371,
           0.21505001187324524,
           0.5566243529319763,
           0.6188193559646606,
           0.5419164896011353,
           0.3381226360797882,
           0.298933744430542,
           0.48443642258644104,
           0.5892358422279358,
           0.5073467493057251,
           0.4446025788784027,
           0.5359338521957397,
           0.6512620449066162,
           0.58031165599823,
           0.5213829874992371,
           0.6745226979255676,
           0.20618773996829987,
           0.3069106340408325,
           0.5135306119918823,
           0.5877286195755005,
           0.2526877522468567,
           0.1873621940612793,
           0.19817164540290833,
           0.34481677412986755,
           0.6567724943161011
          ],
          [
           0.5820928812026978,
           0.48239946365356445,
           1.000000238418579,
           0.4940832257270813,
           0.3087771534919739,
           0.532533586025238,
           0.48990243673324585,
           0.3805360198020935,
           0.6695631742477417,
           0.41209399700164795,
           0.48640769720077515,
           0.3991400897502899,
           0.4330161213874817,
           0.5645370483398438,
           0.4027530550956726,
           0.3675611615180969,
           0.5699058771133423,
           0.39261654019355774,
           0.10515157133340836,
           0.46633148193359375,
           0.5817859768867493,
           0.2023617923259735,
           0.6158004999160767,
           0.4143856167793274,
           0.672371506690979,
           0.46277546882629395,
           0.2983020544052124,
           0.29702407121658325,
           0.3709183633327484,
           0.5011800527572632,
           0.7276831865310669,
           0.3847203850746155,
           0.36600613594055176,
           0.8628385066986084,
           0.7155681252479553,
           0.5326666831970215,
           0.24373310804367065,
           0.4239672124385834,
           0.8154559135437012,
           0.5616077184677124,
           0.37939149141311646,
           0.3018474578857422,
           0.4493538737297058,
           0.5050339698791504,
           0.44562971591949463,
           0.4096459150314331,
           0.5192793011665344,
           0.4780917763710022,
           0.8210881948471069,
           0.3754229247570038,
           0.4780164361000061,
           0.4570332169532776,
           0.3022446930408478,
           0.4128137528896332,
           0.44805026054382324,
           0.3274082541465759,
           0.19975130259990692,
           0.27337297797203064,
           0.3968735337257385,
           0.5389143228530884
          ],
          [
           0.7383081912994385,
           0.5879674553871155,
           0.4940832257270813,
           1.0000001192092896,
           0.2985149025917053,
           0.6839504241943359,
           0.6310785412788391,
           0.6074293851852417,
           0.5123329162597656,
           0.6664013266563416,
           0.5302406549453735,
           0.6527690887451172,
           0.3522970676422119,
           0.49102896451950073,
           0.6632858514785767,
           0.5519931316375732,
           0.4763336777687073,
           0.5780390501022339,
           0.1410427987575531,
           0.7460110187530518,
           0.6496492624282837,
           0.13959476351737976,
           0.4069860279560089,
           0.6493006944656372,
           0.6246954202651978,
           0.6756261587142944,
           0.22148963809013367,
           0.31744495034217834,
           0.324745774269104,
           0.6558406949043274,
           0.4763461947441101,
           0.4088708162307739,
           0.6861311197280884,
           0.4980025589466095,
           0.4592618942260742,
           0.7593013048171997,
           0.31910109519958496,
           0.5655421018600464,
           0.673506498336792,
           0.7210569381713867,
           0.4036293625831604,
           0.3268328905105591,
           0.43528008460998535,
           0.5799573659896851,
           0.5659602880477905,
           0.48186686635017395,
           0.5718012452125549,
           0.7574067115783691,
           0.6244518756866455,
           0.578894317150116,
           0.8011054396629333,
           0.2724369168281555,
           0.39479291439056396,
           0.8337699174880981,
           0.7255228757858276,
           0.29770427942276,
           0.16966290771961212,
           0.2686726152896881,
           0.3414866626262665,
           0.694057822227478
          ],
          [
           0.34525448083877563,
           0.2965484857559204,
           0.3087771534919739,
           0.2985149025917053,
           1.000000238418579,
           0.2818590998649597,
           0.7263741493225098,
           0.341839998960495,
           0.33632856607437134,
           0.31622618436813354,
           0.4987616539001465,
           0.3196038007736206,
           0.3868351876735687,
           0.45303353667259216,
           0.3366330862045288,
           0.746180534362793,
           0.37437379360198975,
           0.32359257340431213,
           0.15509755909442902,
           0.574541449546814,
           0.32899147272109985,
           0.1544935405254364,
           0.4199974834918976,
           0.3492339253425598,
           0.27005434036254883,
           0.30969277024269104,
           0.2531489431858063,
           0.31542783975601196,
           0.3630988597869873,
           0.36340072751045227,
           0.7826272249221802,
           0.39965036511421204,
           0.34079796075820923,
           0.3149605989456177,
           0.40282735228538513,
           0.3227824568748474,
           0.2540578246116638,
           0.6463860273361206,
           0.3094233572483063,
           0.3968753218650818,
           0.3810432553291321,
           0.34500935673713684,
           0.4145553708076477,
           0.5421984791755676,
           0.7362306714057922,
           0.4281543493270874,
           0.3618515729904175,
           0.2901228964328766,
           0.3198798894882202,
           0.3129078149795532,
           0.30341511964797974,
           0.21660774946212769,
           0.38143259286880493,
           0.607520341873169,
           0.3149099349975586,
           0.23190823197364807,
           0.21514330804347992,
           0.31126052141189575,
           0.3766266703605652,
           0.2653256952762604
          ],
          [
           0.8000614643096924,
           0.6507055759429932,
           0.532533586025238,
           0.6839504241943359,
           0.2818590998649597,
           1.000000238418579,
           0.6646105051040649,
           0.5992052555084229,
           0.5610215067863464,
           0.6082517504692078,
           0.5969442129135132,
           0.5752736330032349,
           0.33189982175827026,
           0.46723008155822754,
           0.6461912393569946,
           0.4966197907924652,
           0.550308346748352,
           0.4099298119544983,
           0.14668060839176178,
           0.7613612413406372,
           0.6752949953079224,
           0.0659877359867096,
           0.41189906001091003,
           0.6301883459091187,
           0.6547489166259766,
           0.599535346031189,
           0.18294575810432434,
           0.2463918924331665,
           0.3647429347038269,
           0.6008754968643188,
           0.475040078163147,
           0.3263469934463501,
           0.811065673828125,
           0.5908145904541016,
           0.4374944567680359,
           0.5830514430999756,
           0.22025634348392487,
           0.8509899377822876,
           0.6775238513946533,
           0.6565700173377991,
           0.357147753238678,
           0.33089298009872437,
           0.4296278953552246,
           0.6293896436691284,
           0.5071470141410828,
           0.4784044325351715,
           0.619297444820404,
           0.7197855710983276,
           0.6608076095581055,
           0.522246241569519,
           0.7723291516304016,
           0.27716371417045593,
           0.35886961221694946,
           0.5590068101882935,
           0.6573430299758911,
           0.2579548954963684,
           0.11449968814849854,
           0.21973352134227753,
           0.30165916681289673,
           0.7626898288726807
          ],
          [
           0.8292322158813477,
           0.6065046191215515,
           0.48990243673324585,
           0.6310785412788391,
           0.7263741493225098,
           0.6646105051040649,
           1.0000003576278687,
           0.6458723545074463,
           0.5652761459350586,
           0.5305870771408081,
           0.650748610496521,
           0.5596402883529663,
           0.2961876392364502,
           0.46817970275878906,
           0.6640321016311646,
           0.813530445098877,
           0.5252870321273804,
           0.35766535997390747,
           0.0925552099943161,
           0.86258864402771,
           0.573527455329895,
           0.08999817073345184,
           0.39156442880630493,
           0.5315123796463013,
           0.5356367826461792,
           0.5854567289352417,
           0.17118293046951294,
           0.2721572518348694,
           0.3447330594062805,
           0.5139814019203186,
           0.7884327173233032,
           0.33275657892227173,
           0.6096425652503967,
           0.5493053197860718,
           0.43563538789749146,
           0.5548775792121887,
           0.17648345232009888,
           0.8329005241394043,
           0.6401598453521729,
           0.6267381310462952,
           0.3326389193534851,
           0.2999337315559387,
           0.5242379903793335,
           0.7342721223831177,
           0.7922300100326538,
           0.46078717708587646,
           0.6122130155563354,
           0.6194716691970825,
           0.5786335468292236,
           0.5758086442947388,
           0.7919583320617676,
           0.1888955682516098,
           0.3741983473300934,
           0.8093541264533997,
           0.5820244550704956,
           0.23480363190174103,
           0.13853582739830017,
           0.20743994414806366,
           0.3279164433479309,
           0.6995898485183716
          ],
          [
           0.6973254680633545,
           0.5373870134353638,
           0.3805360198020935,
           0.6074293851852417,
           0.341839998960495,
           0.5992052555084229,
           0.6458723545074463,
           0.9999998211860657,
           0.453684538602829,
           0.5111289024353027,
           0.523229718208313,
           0.6841742992401123,
           0.2528289258480072,
           0.4885443449020386,
           0.5854268074035645,
           0.6146082282066345,
           0.4227800965309143,
           0.3888856768608093,
           0.10597862303256989,
           0.6785875558853149,
           0.5181779265403748,
           0.11549611389636993,
           0.3204573392868042,
           0.45602360367774963,
           0.4781567454338074,
           0.6117901802062988,
           0.1602906882762909,
           0.2413780391216278,
           0.3959818482398987,
           0.4580371379852295,
           0.4416472315788269,
           0.3123507499694824,
           0.5741183757781982,
           0.4063382148742676,
           0.37620705366134644,
           0.5167033672332764,
           0.1898166537284851,
           0.5680683851242065,
           0.6245409250259399,
           0.5674471855163574,
           0.3270444869995117,
           0.3053528070449829,
           0.45461469888687134,
           0.555078387260437,
           0.5040218830108643,
           0.38560840487480164,
           0.5124802589416504,
           0.5526694059371948,
           0.4329048693180084,
           0.6269245743751526,
           0.6800309419631958,
           0.21977579593658447,
           0.3004113435745239,
           0.5690582990646362,
           0.6258656978607178,
           0.1935330182313919,
           0.1686931848526001,
           0.12114833295345306,
           0.28182506561279297,
           0.5985289216041565
          ],
          [
           0.5871865153312683,
           0.5506734848022461,
           0.6695631742477417,
           0.5123329162597656,
           0.33632856607437134,
           0.5610215067863464,
           0.5652761459350586,
           0.453684538602829,
           0.9999998807907104,
           0.4844234585762024,
           0.568367600440979,
           0.41542017459869385,
           0.3720373511314392,
           0.5243451595306396,
           0.47345083951950073,
           0.4507954716682434,
           0.5365767478942871,
           0.39762604236602783,
           0.17814481258392334,
           0.5785444378852844,
           0.6106590032577515,
           0.13609647750854492,
           0.3863452076911926,
           0.4633559584617615,
           0.7172778844833374,
           0.5349812507629395,
           0.14162179827690125,
           0.22633345425128937,
           0.2920488715171814,
           0.452370822429657,
           0.6418833136558533,
           0.32322174310684204,
           0.4625980257987976,
           0.6569939851760864,
           0.5233875513076782,
           0.5352452397346497,
           0.22360500693321228,
           0.49331533908843994,
           0.6406365633010864,
           0.5826475620269775,
           0.3098886013031006,
           0.3217335641384125,
           0.41788730025291443,
           0.7537740468978882,
           0.5090226531028748,
           0.37155961990356445,
           0.5890559554100037,
           0.6361414194107056,
           0.6255815625190735,
           0.4034116864204407,
           0.5568367838859558,
           0.26333606243133545,
           0.24875852465629578,
           0.5010347366333008,
           0.5650869607925415,
           0.3034166097640991,
           0.11257023364305496,
           0.23626190423965454,
           0.2795354723930359,
           0.6128066778182983
          ],
          [
           0.5485663414001465,
           0.5100035667419434,
           0.41209399700164795,
           0.6664013266563416,
           0.31622618436813354,
           0.6082517504692078,
           0.5305870771408081,
           0.5111289024353027,
           0.4844234585762024,
           1,
           0.3922162652015686,
           0.6061225533485413,
           0.3105924129486084,
           0.37537577748298645,
           0.5659666061401367,
           0.5582947134971619,
           0.4157983660697937,
           0.37633347511291504,
           0.15485596656799316,
           0.6926479339599609,
           0.5533932447433472,
           0.13527345657348633,
           0.3157188892364502,
           0.7402039170265198,
           0.4770829677581787,
           0.6857540607452393,
           0.2028447985649109,
           0.2498028576374054,
           0.32243865728378296,
           0.5368447303771973,
           0.45854541659355164,
           0.3556300699710846,
           0.8759787082672119,
           0.43993550539016724,
           0.3106750249862671,
           0.5986857414245605,
           0.23596467077732086,
           0.5299808979034424,
           0.6119384765625,
           0.6421295404434204,
           0.377030611038208,
           0.32984453439712524,
           0.3794988989830017,
           0.5127447843551636,
           0.5309897661209106,
           0.3835642337799072,
           0.488585501909256,
           0.659802258014679,
           0.593711256980896,
           0.5167142152786255,
           0.6592147350311279,
           0.2228584587574005,
           0.33467763662338257,
           0.5401908159255981,
           0.6791881322860718,
           0.22655415534973145,
           0.12352888286113739,
           0.28169217705726624,
           0.26058250665664673,
           0.49238282442092896
          ],
          [
           0.6498099565505981,
           0.513815701007843,
           0.48640769720077515,
           0.5302406549453735,
           0.4987616539001465,
           0.5969442129135132,
           0.650748610496521,
           0.523229718208313,
           0.568367600440979,
           0.3922162652015686,
           1,
           0.4322642683982849,
           0.3701949119567871,
           0.6412336826324463,
           0.4965645670890808,
           0.4559405744075775,
           0.521862804889679,
           0.413413941860199,
           0.18616902828216553,
           0.6387147903442383,
           0.6713610887527466,
           0.12480778247117996,
           0.5175547003746033,
           0.4924514591693878,
           0.6203870177268982,
           0.5051631927490234,
           0.2239396572113037,
           0.2811640799045563,
           0.4162992238998413,
           0.5896865129470825,
           0.5385274291038513,
           0.37974977493286133,
           0.5000756978988647,
           0.4776450991630554,
           0.49219346046447754,
           0.4704168438911438,
           0.30553197860717773,
           0.596572995185852,
           0.5014091730117798,
           0.5766777992248535,
           0.426539808511734,
           0.39534980058670044,
           0.4592749774456024,
           0.7265216112136841,
           0.5311225652694702,
           0.7672830820083618,
           0.5138022303581238,
           0.624042272567749,
           0.5696232914924622,
           0.38087859749794006,
           0.5897493362426758,
           0.2368675321340561,
           0.34688228368759155,
           0.5048950910568237,
           0.558997392654419,
           0.3338945806026459,
           0.24692153930664062,
           0.2736195921897888,
           0.4663522243499756,
           0.6948908567428589
          ],
          [
           0.6527260541915894,
           0.5503361225128174,
           0.3991400897502899,
           0.6527690887451172,
           0.3196038007736206,
           0.5752736330032349,
           0.5596402883529663,
           0.6841742992401123,
           0.41542017459869385,
           0.6061225533485413,
           0.4322642683982849,
           1.0000001192092896,
           0.3199264407157898,
           0.47425636649131775,
           0.5935014486312866,
           0.7760424613952637,
           0.42663413286209106,
           0.45971545577049255,
           0.1296919882297516,
           0.6732856631278992,
           0.48824965953826904,
           0.12728561460971832,
           0.3517015874385834,
           0.4782564043998718,
           0.43725311756134033,
           0.7066289186477661,
           0.22727487981319427,
           0.30028748512268066,
           0.4024345278739929,
           0.5117917656898499,
           0.41766080260276794,
           0.39581382274627686,
           0.581475019454956,
           0.4054342210292816,
           0.44849497079849243,
           0.5468325614929199,
           0.21987926959991455,
           0.49264320731163025,
           0.7887427806854248,
           0.5807245969772339,
           0.37586843967437744,
           0.3988935649394989,
           0.4694659113883972,
           0.4892791509628296,
           0.48552852869033813,
           0.42219841480255127,
           0.4205106496810913,
           0.5764328241348267,
           0.4313778281211853,
           0.8442621231079102,
           0.6762171983718872,
           0.22863924503326416,
           0.3878515362739563,
           0.5496906042098999,
           0.6978306770324707,
           0.18224462866783142,
           0.21098646521568298,
           0.2527536153793335,
           0.3507232069969177,
           0.5355926752090454
          ],
          [
           0.3385409116744995,
           0.32687050104141235,
           0.4330161213874817,
           0.3522970676422119,
           0.3868351876735687,
           0.33189982175827026,
           0.2961876392364502,
           0.2528289258480072,
           0.3720373511314392,
           0.3105924129486084,
           0.3701949119567871,
           0.3199264407157898,
           1.0000001192092896,
           0.5449488759040833,
           0.2905219495296478,
           0.30207008123397827,
           0.4146431088447571,
           0.4983079135417938,
           0.30068162083625793,
           0.3089267909526825,
           0.3974207043647766,
           0.3599208891391754,
           0.47543394565582275,
           0.37667831778526306,
           0.35355234146118164,
           0.3020155429840088,
           0.45601826906204224,
           0.4253161549568176,
           0.4328315556049347,
           0.4392222762107849,
           0.38665926456451416,
           0.5237215161323547,
           0.27751725912094116,
           0.35704702138900757,
           0.5085700154304504,
           0.3234252333641052,
           0.4582937955856323,
           0.28673940896987915,
           0.3267054557800293,
           0.4128222167491913,
           0.5054735541343689,
           0.34569835662841797,
           0.4882408380508423,
           0.29737961292266846,
           0.36504101753234863,
           0.41246747970581055,
           0.292142391204834,
           0.3369249105453491,
           0.33833444118499756,
           0.32803088426589966,
           0.26851287484169006,
           0.41985785961151123,
           0.3758694529533386,
           0.29658278822898865,
           0.27198123931884766,
           0.37694019079208374,
           0.42592716217041016,
           0.40509963035583496,
           0.48615652322769165,
           0.2585209012031555
          ],
          [
           0.5633704662322998,
           0.5004507899284363,
           0.5645370483398438,
           0.49102896451950073,
           0.45303353667259216,
           0.46723008155822754,
           0.46817970275878906,
           0.4885443449020386,
           0.5243451595306396,
           0.37537577748298645,
           0.6412336826324463,
           0.47425636649131775,
           0.5449488759040833,
           1.000000238418579,
           0.37326580286026,
           0.392977774143219,
           0.6054022312164307,
           0.5548440217971802,
           0.3145371377468109,
           0.433875173330307,
           0.5961278676986694,
           0.3275553584098816,
           0.5775710344314575,
           0.4569920301437378,
           0.5810542106628418,
           0.4775947034358978,
           0.41052883863449097,
           0.45348232984542847,
           0.7172818183898926,
           0.569625973701477,
           0.4730389714241028,
           0.6514553427696228,
           0.3978296220302582,
           0.5236477851867676,
           0.6556167602539062,
           0.4395321011543274,
           0.4339076280593872,
           0.4094739556312561,
           0.506319522857666,
           0.5202442407608032,
           0.5904535055160522,
           0.5316863656044006,
           0.6225419044494629,
           0.6089107990264893,
           0.41286227107048035,
           0.6431339383125305,
           0.3900411128997803,
           0.4233192205429077,
           0.48013514280319214,
           0.43405163288116455,
           0.41369742155075073,
           0.2962430715560913,
           0.3789656162261963,
           0.38679149746894836,
           0.49697059392929077,
           0.35195592045783997,
           0.317033588886261,
           0.3066790699958801,
           0.5968538522720337,
           0.5330492854118347
          ],
          [
           0.7141377925872803,
           0.6671285629272461,
           0.4027530550956726,
           0.6632858514785767,
           0.3366330862045288,
           0.6461912393569946,
           0.6640321016311646,
           0.5854268074035645,
           0.47345083951950073,
           0.5659666061401367,
           0.4965645670890808,
           0.5935014486312866,
           0.2905219495296478,
           0.37326580286026,
           0.9999998807907104,
           0.5622290968894958,
           0.5013620257377625,
           0.3823692500591278,
           0.11479502171278,
           0.7321898341178894,
           0.5704135894775391,
           0.11806516349315643,
           0.3341068625450134,
           0.50843745470047,
           0.5346055030822754,
           0.6056417226791382,
           0.15043221414089203,
           0.2537233233451843,
           0.2640850841999054,
           0.5110631585121155,
           0.48248806595802307,
           0.33800292015075684,
           0.5788635015487671,
           0.46250757575035095,
           0.3958730101585388,
           0.5281382203102112,
           0.1413343846797943,
           0.5767433643341064,
           0.6105643510818481,
           0.6003818511962891,
           0.34006503224372864,
           0.2613149881362915,
           0.41574734449386597,
           0.5473036766052246,
           0.5637589693069458,
           0.40711018443107605,
           0.5901541709899902,
           0.6753138899803162,
           0.5139180421829224,
           0.5444384813308716,
           0.7326119542121887,
           0.17911428213119507,
           0.3764050602912903,
           0.615983247756958,
           0.6506344079971313,
           0.14046381413936615,
           0.14814640581607819,
           0.219169020652771,
           0.3039332628250122,
           0.6281594038009644
          ],
          [
           0.5745229125022888,
           0.4806596040725708,
           0.3675611615180969,
           0.5519931316375732,
           0.746180534362793,
           0.4966197907924652,
           0.813530445098877,
           0.6146082282066345,
           0.4507954716682434,
           0.5582947134971619,
           0.4559405744075775,
           0.7760424613952637,
           0.30207008123397827,
           0.392977774143219,
           0.5622290968894958,
           1.000000238418579,
           0.36079391837120056,
           0.38115352392196655,
           0.08061777800321579,
           0.8030563592910767,
           0.42021483182907104,
           0.09269626438617706,
           0.30839312076568604,
           0.48766952753067017,
           0.3614603579044342,
           0.6013146638870239,
           0.18110504746437073,
           0.2712555527687073,
           0.32232415676116943,
           0.47531452775001526,
           0.7418317794799805,
           0.3304000496864319,
           0.5521461367607117,
           0.37450021505355835,
           0.3950388431549072,
           0.5171356201171875,
           0.17360202968120575,
           0.7066650390625,
           0.6603330373764038,
           0.5858374834060669,
           0.3025830388069153,
           0.3015521466732025,
           0.5050758123397827,
           0.59208083152771,
           0.811331033706665,
           0.3460884988307953,
           0.474248468875885,
           0.5389115214347839,
           0.4408365488052368,
           0.742413341999054,
           0.6300774812698364,
           0.18701544404029846,
           0.3790350556373596,
           0.7505784034729004,
           0.5790165066719055,
           0.15972930192947388,
           0.17094013094902039,
           0.2587015628814697,
           0.2960957884788513,
           0.43672633171081543
          ],
          [
           0.6509168148040771,
           0.5554091930389404,
           0.5699058771133423,
           0.4763336777687073,
           0.37437379360198975,
           0.550308346748352,
           0.5252870321273804,
           0.4227800965309143,
           0.5365767478942871,
           0.4157983660697937,
           0.521862804889679,
           0.42663413286209106,
           0.4146431088447571,
           0.6054022312164307,
           0.5013620257377625,
           0.36079391837120056,
           1.0000004768371582,
           0.34189754724502563,
           0.1894620656967163,
           0.47274237871170044,
           0.5907361507415771,
           0.24680623412132263,
           0.4271203577518463,
           0.37301546335220337,
           0.5776898860931396,
           0.47317206859588623,
           0.35377153754234314,
           0.36412185430526733,
           0.49935781955718994,
           0.4693848490715027,
           0.47343695163726807,
           0.4643157720565796,
           0.42278122901916504,
           0.8347363471984863,
           0.506722092628479,
           0.42414385080337524,
           0.24254167079925537,
           0.4805845618247986,
           0.6073553562164307,
           0.4540116488933563,
           0.4730912446975708,
           0.3612891435623169,
           0.4894837439060211,
           0.5157366394996643,
           0.3545064330101013,
           0.5064998269081116,
           0.49781060218811035,
           0.42714160680770874,
           0.5128717422485352,
           0.4018576443195343,
           0.4911538064479828,
           0.2364158034324646,
           0.34450438618659973,
           0.4096062183380127,
           0.5433721542358398,
           0.28235334157943726,
           0.2697015404701233,
           0.3029846251010895,
           0.4782295227050781,
           0.5937366485595703
          ],
          [
           0.42377546429634094,
           0.4447133541107178,
           0.39261654019355774,
           0.5780390501022339,
           0.32359257340431213,
           0.4099298119544983,
           0.35766535997390747,
           0.3888856768608093,
           0.39762604236602783,
           0.37633347511291504,
           0.413413941860199,
           0.45971545577049255,
           0.4983079135417938,
           0.5548440217971802,
           0.3823692500591278,
           0.38115352392196655,
           0.34189754724502563,
           0.9999996423721313,
           0.30547982454299927,
           0.40810292959213257,
           0.48883044719696045,
           0.19791558384895325,
           0.473710298538208,
           0.5520538091659546,
           0.4050280451774597,
           0.4404853284358978,
           0.3737229108810425,
           0.3369589149951935,
           0.33665555715560913,
           0.6068456768989563,
           0.41004300117492676,
           0.38824212551116943,
           0.33661264181137085,
           0.3024533689022064,
           0.49229222536087036,
           0.5162056684494019,
           0.5693094730377197,
           0.35605043172836304,
           0.41926854848861694,
           0.533993124961853,
           0.4393083453178406,
           0.34891200065612793,
           0.43366318941116333,
           0.3624882102012634,
           0.49701714515686035,
           0.4822176992893219,
           0.3412485122680664,
           0.41601473093032837,
           0.504399836063385,
           0.4062076807022095,
           0.43890610337257385,
           0.2757968008518219,
           0.3034664988517761,
           0.4462841749191284,
           0.4347246587276459,
           0.368195116519928,
           0.2950300872325897,
           0.26004308462142944,
           0.43044185638427734,
           0.3683687448501587
          ],
          [
           0.13929590582847595,
           0.17947404086589813,
           0.10515157133340836,
           0.1410427987575531,
           0.15509755909442902,
           0.14668060839176178,
           0.0925552099943161,
           0.10597862303256989,
           0.17814481258392334,
           0.15485596656799316,
           0.18616902828216553,
           0.1296919882297516,
           0.30068162083625793,
           0.3145371377468109,
           0.11479502171278,
           0.08061777800321579,
           0.1894620656967163,
           0.30547982454299927,
           1.000000238418579,
           0.09267731010913849,
           0.19982221722602844,
           0.3058781027793884,
           0.2255924642086029,
           0.24229606986045837,
           0.17950837314128876,
           0.13731572031974792,
           0.29050081968307495,
           0.21104393899440765,
           0.26506635546684265,
           0.22098857164382935,
           0.07379858195781708,
           0.23127254843711853,
           0.16303393244743347,
           0.09677079319953918,
           0.11662061512470245,
           0.09244208037853241,
           0.41279366612434387,
           0.0766039714217186,
           0.09881996363401413,
           0.1632290780544281,
           0.401532918214798,
           0.3667876124382019,
           0.27015364170074463,
           0.1532178819179535,
           0.06080728396773338,
           0.4025065302848816,
           0.10004305094480515,
           0.11347249150276184,
           0.09501548111438751,
           0.14404518902301788,
           0.07841760665178299,
           0.21689870953559875,
           0.13748593628406525,
           0.04707181081175804,
           0.12780478596687317,
           0.23816174268722534,
           0.15508562326431274,
           0.2284814417362213,
           0.22703483700752258,
           0.18926209211349487
          ],
          [
           0.7762036323547363,
           0.6492149829864502,
           0.46633148193359375,
           0.7460110187530518,
           0.574541449546814,
           0.7613612413406372,
           0.86258864402771,
           0.6785875558853149,
           0.5785444378852844,
           0.6926479339599609,
           0.6387147903442383,
           0.6732856631278992,
           0.3089267909526825,
           0.433875173330307,
           0.7321898341178894,
           0.8030563592910767,
           0.47274237871170044,
           0.40810292959213257,
           0.09267731010913849,
           1,
           0.6515563130378723,
           0.06152401119470596,
           0.3732421398162842,
           0.662983775138855,
           0.6256800889968872,
           0.6866163015365601,
           0.1312025785446167,
           0.22445708513259888,
           0.3289084732532501,
           0.6288977265357971,
           0.697341799736023,
           0.33583271503448486,
           0.7724076509475708,
           0.5046237707138062,
           0.4176138639450073,
           0.6625398993492126,
           0.1838672161102295,
           0.8054985404014587,
           0.6943300366401672,
           0.7580638527870178,
           0.3170511722564697,
           0.2810452878475189,
           0.5099726319313049,
           0.7525883913040161,
           0.8108030557632446,
           0.4618620276451111,
           0.670037031173706,
           0.8603222966194153,
           0.6322584748268127,
           0.6406614780426025,
           0.8566217422485352,
           0.23348596692085266,
           0.4847721457481384,
           0.7946380376815796,
           0.7294942736625671,
           0.21114984154701233,
           0.11565099656581879,
           0.2847331762313843,
           0.27589598298072815,
           0.715229332447052
          ],
          [
           0.6592743396759033,
           0.6440250873565674,
           0.5817859768867493,
           0.6496492624282837,
           0.32899147272109985,
           0.6752949953079224,
           0.573527455329895,
           0.5181779265403748,
           0.6106590032577515,
           0.5533932447433472,
           0.6713610887527466,
           0.48824965953826904,
           0.3974207043647766,
           0.5961278676986694,
           0.5704135894775391,
           0.42021483182907104,
           0.5907361507415771,
           0.48883044719696045,
           0.19982221722602844,
           0.6515563130378723,
           0.9999997615814209,
           0.1243143305182457,
           0.47561749815940857,
           0.6358884572982788,
           0.8103138208389282,
           0.6327041387557983,
           0.2515273690223694,
           0.2820856273174286,
           0.4178718030452728,
           0.7390882968902588,
           0.5092679262161255,
           0.3794495463371277,
           0.6055610179901123,
           0.6124267578125,
           0.4907416105270386,
           0.6339471340179443,
           0.28993794322013855,
           0.5475184917449951,
           0.628188967704773,
           0.6813292503356934,
           0.4209747016429901,
           0.3476806879043579,
           0.4684396982192993,
           0.6926045417785645,
           0.5415399074554443,
           0.560131847858429,
           0.6784046292304993,
           0.7605917453765869,
           0.6847965121269226,
           0.45585253834724426,
           0.6612688302993774,
           0.2615415155887604,
           0.4186013340950012,
           0.5195978879928589,
           0.6538902521133423,
           0.2830210328102112,
           0.1581709086894989,
           0.3234192132949829,
           0.40285539627075195,
           0.7574716806411743
          ],
          [
           0.12804988026618958,
           0.11955169588327408,
           0.2023617923259735,
           0.13959476351737976,
           0.1544935405254364,
           0.0659877359867096,
           0.08999817073345184,
           0.11549611389636993,
           0.13609647750854492,
           0.13527345657348633,
           0.12480778247117996,
           0.12728561460971832,
           0.3599208891391754,
           0.3275553584098816,
           0.11806516349315643,
           0.09269626438617706,
           0.24680623412132263,
           0.19791558384895325,
           0.3058781027793884,
           0.06152401119470596,
           0.1243143305182457,
           1,
           0.23235678672790527,
           0.13725918531417847,
           0.12839138507843018,
           0.15555229783058167,
           0.6567935943603516,
           0.3120899796485901,
           0.3466812074184418,
           0.19546261429786682,
           0.11961976438760757,
           0.38681474328041077,
           0.06567588448524475,
           0.1805913746356964,
           0.21155549585819244,
           0.1142948716878891,
           0.3415762782096863,
           0.05994536727666855,
           0.14888522028923035,
           0.11047044396400452,
           0.3851373791694641,
           0.31146201491355896,
           0.24739012122154236,
           0.1617364138364792,
           0.10015296936035156,
           0.22110849618911743,
           0.05660548806190491,
           0.0717979297041893,
           0.12852837145328522,
           0.11740249395370483,
           0.04749836027622223,
           0.35362035036087036,
           0.1551649421453476,
           0.1069243997335434,
           0.09949946403503418,
           0.2592552900314331,
           0.5797595977783203,
           0.186130553483963,
           0.34152936935424805,
           0.07733894884586334
          ],
          [
           0.43214166164398193,
           0.3622429370880127,
           0.6158004999160767,
           0.4069860279560089,
           0.4199974834918976,
           0.41189906001091003,
           0.39156442880630493,
           0.3204573392868042,
           0.3863452076911926,
           0.3157188892364502,
           0.5175547003746033,
           0.3517015874385834,
           0.47543394565582275,
           0.5775710344314575,
           0.3341068625450134,
           0.30839312076568604,
           0.4271203577518463,
           0.473710298538208,
           0.2255924642086029,
           0.3732421398162842,
           0.47561749815940857,
           0.23235678672790527,
           0.9999998807907104,
           0.40689176321029663,
           0.48351842164993286,
           0.3603792190551758,
           0.3424097001552582,
           0.2668699622154236,
           0.38214850425720215,
           0.5402768850326538,
           0.4875129461288452,
           0.37023547291755676,
           0.323848694562912,
           0.48941996693611145,
           0.7359108924865723,
           0.3710545301437378,
           0.3776364028453827,
           0.36700135469436646,
           0.4636395573616028,
           0.4206200838088989,
           0.44253653287887573,
           0.41342246532440186,
           0.394292414188385,
           0.4244537055492401,
           0.3972209692001343,
           0.5421109795570374,
           0.33502906560897827,
           0.3691747188568115,
           0.5376847982406616,
           0.27063533663749695,
           0.3282434344291687,
           0.62312912940979,
           0.34992220997810364,
           0.33515679836273193,
           0.3819863200187683,
           0.3218190670013428,
           0.31221890449523926,
           0.3128088712692261,
           0.4558601975440979,
           0.40263283252716064
          ],
          [
           0.5616967082023621,
           0.5607483386993408,
           0.4143856167793274,
           0.6493006944656372,
           0.3492339253425598,
           0.6301883459091187,
           0.5315123796463013,
           0.45602360367774963,
           0.4633559584617615,
           0.7402039170265198,
           0.4924514591693878,
           0.4782564043998718,
           0.37667831778526306,
           0.4569920301437378,
           0.50843745470047,
           0.48766952753067017,
           0.37301546335220337,
           0.5520538091659546,
           0.24229606986045837,
           0.662983775138855,
           0.6358884572982788,
           0.13725918531417847,
           0.40689176321029663,
           1.000000238418579,
           0.5501530170440674,
           0.5763671398162842,
           0.2815471589565277,
           0.26941078901290894,
           0.3592727482318878,
           0.8411226272583008,
           0.4467100501060486,
           0.33709919452667236,
           0.751494288444519,
           0.39297330379486084,
           0.4220496416091919,
           0.6009573936462402,
           0.3863333463668823,
           0.5443611145019531,
           0.5074334144592285,
           0.7043300271034241,
           0.42307746410369873,
           0.4206087589263916,
           0.5163152813911438,
           0.5268797278404236,
           0.6573988199234009,
           0.5041155219078064,
           0.448787659406662,
           0.6851515769958496,
           0.761939525604248,
           0.4771442711353302,
           0.6458063125610352,
           0.2469063252210617,
           0.3250254988670349,
           0.5494040250778198,
           0.556955099105835,
           0.2979641556739807,
           0.2076096385717392,
           0.2786635756492615,
           0.31751102209091187,
           0.547598659992218
          ],
          [
           0.649421215057373,
           0.5980516672134399,
           0.672371506690979,
           0.6246954202651978,
           0.27005434036254883,
           0.6547489166259766,
           0.5356367826461792,
           0.4781567454338074,
           0.7172778844833374,
           0.4770829677581787,
           0.6203870177268982,
           0.43725311756134033,
           0.35355234146118164,
           0.5810542106628418,
           0.5346055030822754,
           0.3614603579044342,
           0.5776898860931396,
           0.4050280451774597,
           0.17950837314128876,
           0.6256800889968872,
           0.8103138208389282,
           0.12839138507843018,
           0.48351842164993286,
           0.5501530170440674,
           1.000000238418579,
           0.5691779851913452,
           0.18361705541610718,
           0.2133740782737732,
           0.39104875922203064,
           0.6135414242744446,
           0.5366445183753967,
           0.36630386114120483,
           0.5196924209594727,
           0.675683319568634,
           0.5351294875144958,
           0.5929775834083557,
           0.25020653009414673,
           0.48272889852523804,
           0.6595034003257751,
           0.6483014822006226,
           0.3603110611438751,
           0.34012922644615173,
           0.43307769298553467,
           0.7796599864959717,
           0.4642069339752197,
           0.47931545972824097,
           0.66090327501297,
           0.757656991481781,
           0.692812442779541,
           0.41200459003448486,
           0.6352325081825256,
           0.33466464281082153,
           0.36449098587036133,
           0.49386489391326904,
           0.6112592220306396,
           0.3291662037372589,
           0.12275996059179306,
           0.26927536725997925,
           0.3264392614364624,
           0.8312568664550781
          ],
          [
           0.6469238996505737,
           0.5739946365356445,
           0.46277546882629395,
           0.6756261587142944,
           0.30969277024269104,
           0.599535346031189,
           0.5854567289352417,
           0.6117901802062988,
           0.5349812507629395,
           0.6857540607452393,
           0.5051631927490234,
           0.7066289186477661,
           0.3020155429840088,
           0.4775947034358978,
           0.6056417226791382,
           0.6013146638870239,
           0.47317206859588623,
           0.4404853284358978,
           0.13731572031974792,
           0.6866163015365601,
           0.6327041387557983,
           0.15555229783058167,
           0.3603792190551758,
           0.5763671398162842,
           0.5691779851913452,
           0.9999998807907104,
           0.1868874579668045,
           0.2623668611049652,
           0.37328094244003296,
           0.5745171308517456,
           0.48915499448776245,
           0.3725440204143524,
           0.6483327150344849,
           0.4805125594139099,
           0.4160345494747162,
           0.6463197469711304,
           0.22154410183429718,
           0.5158434510231018,
           0.6974668502807617,
           0.6674197912216187,
           0.3435570299625397,
           0.3262845575809479,
           0.41417568922042847,
           0.5970458984375,
           0.5390116572380066,
           0.46994829177856445,
           0.5661260485649109,
           0.685985267162323,
           0.5750336050987244,
           0.5808188319206238,
           0.6832706928253174,
           0.2483689785003662,
           0.35060250759124756,
           0.5494779348373413,
           0.7172391414642334,
           0.21152262389659882,
           0.1915435791015625,
           0.1867377609014511,
           0.30303242802619934,
           0.5968092083930969
          ],
          [
           0.22515816986560822,
           0.19529986381530762,
           0.2983020544052124,
           0.22148963809013367,
           0.2531489431858063,
           0.18294575810432434,
           0.17118293046951294,
           0.1602906882762909,
           0.14162179827690125,
           0.2028447985649109,
           0.2239396572113037,
           0.22727487981319427,
           0.45601826906204224,
           0.41052883863449097,
           0.15043221414089203,
           0.18110504746437073,
           0.35377153754234314,
           0.3737229108810425,
           0.29050081968307495,
           0.1312025785446167,
           0.2515273690223694,
           0.6567935943603516,
           0.3424097001552582,
           0.2815471589565277,
           0.18361705541610718,
           0.1868874579668045,
           1.0000001192092896,
           0.5422226190567017,
           0.42078855633735657,
           0.3942742943763733,
           0.22165989875793457,
           0.40891069173812866,
           0.18515226244926453,
           0.26037853956222534,
           0.3424582779407501,
           0.2039267122745514,
           0.4544960856437683,
           0.18015006184577942,
           0.23738819360733032,
           0.2302391231060028,
           0.5051171779632568,
           0.36505618691444397,
           0.3917129635810852,
           0.15435625612735748,
           0.20475167036056519,
           0.36695072054862976,
           0.11038651317358017,
           0.12289285659790039,
           0.25825902819633484,
           0.22899197041988373,
           0.12816640734672546,
           0.3113577365875244,
           0.21842814981937408,
           0.17911586165428162,
           0.16064465045928955,
           0.24606823921203613,
           0.6383219957351685,
           0.26185446977615356,
           0.5496165752410889,
           0.14856386184692383
          ],
          [
           0.3318369686603546,
           0.2734765410423279,
           0.29702407121658325,
           0.31744495034217834,
           0.31542783975601196,
           0.2463918924331665,
           0.2721572518348694,
           0.2413780391216278,
           0.22633345425128937,
           0.2498028576374054,
           0.2811640799045563,
           0.30028748512268066,
           0.4253161549568176,
           0.45348232984542847,
           0.2537233233451843,
           0.2712555527687073,
           0.36412185430526733,
           0.3369589149951935,
           0.21104393899440765,
           0.22445708513259888,
           0.2820856273174286,
           0.3120899796485901,
           0.2668699622154236,
           0.26941078901290894,
           0.2133740782737732,
           0.2623668611049652,
           0.5422226190567017,
           1.0000001192092896,
           0.42152953147888184,
           0.33827340602874756,
           0.2654847502708435,
           0.7916923761367798,
           0.2472248673439026,
           0.22903041541576385,
           0.4910803735256195,
           0.27527621388435364,
           0.31317198276519775,
           0.22174538671970367,
           0.27290111780166626,
           0.33397161960601807,
           0.6436779499053955,
           0.3990286588668823,
           0.4622344970703125,
           0.22840791940689087,
           0.2545917332172394,
           0.362957239151001,
           0.20583486557006836,
           0.18075042963027954,
           0.2095264494419098,
           0.3447875678539276,
           0.2502899169921875,
           0.2016916275024414,
           0.22279584407806396,
           0.274588942527771,
           0.26568809151649475,
           0.12880387902259827,
           0.37417781352996826,
           0.19924484193325043,
           0.7476425170898438,
           0.2193998098373413
          ],
          [
           0.4328460693359375,
           0.3951731324195862,
           0.3709183633327484,
           0.324745774269104,
           0.3630988597869873,
           0.3647429347038269,
           0.3447330594062805,
           0.3959818482398987,
           0.2920488715171814,
           0.32243865728378296,
           0.4162992238998413,
           0.4024345278739929,
           0.4328315556049347,
           0.7172818183898926,
           0.2640850841999054,
           0.32232415676116943,
           0.49935781955718994,
           0.33665555715560913,
           0.26506635546684265,
           0.3289084732532501,
           0.4178718030452728,
           0.3466812074184418,
           0.38214850425720215,
           0.3592727482318878,
           0.39104875922203064,
           0.37328094244003296,
           0.42078855633735657,
           0.42152953147888184,
           1.0000001192092896,
           0.4196457862854004,
           0.30213892459869385,
           0.5977218747138977,
           0.3640918731689453,
           0.3919700086116791,
           0.4625925123691559,
           0.25499701499938965,
           0.30371448397636414,
           0.32374709844589233,
           0.38555485010147095,
           0.36466914415359497,
           0.4745483994483948,
           0.5019845366477966,
           0.5700318813323975,
           0.37466609477996826,
           0.29130905866622925,
           0.4819483160972595,
           0.21511515974998474,
           0.27254292368888855,
           0.3196401596069336,
           0.41353839635849,
           0.2894548773765564,
           0.28338107466697693,
           0.3171854019165039,
           0.26369139552116394,
           0.32220911979675293,
           0.2547069489955902,
           0.2919444143772125,
           0.2285178005695343,
           0.5364120602607727,
           0.3475779891014099
          ],
          [
           0.579093337059021,
           0.5876432657241821,
           0.5011800527572632,
           0.6558406949043274,
           0.36340072751045227,
           0.6008754968643188,
           0.5139814019203186,
           0.4580371379852295,
           0.452370822429657,
           0.5368447303771973,
           0.5896865129470825,
           0.5117917656898499,
           0.4392222762107849,
           0.569625973701477,
           0.5110631585121155,
           0.47531452775001526,
           0.4693848490715027,
           0.6068456768989563,
           0.22098857164382935,
           0.6288977265357971,
           0.7390882968902588,
           0.19546261429786682,
           0.5402768850326538,
           0.8411226272583008,
           0.6135414242744446,
           0.5745171308517456,
           0.3942742943763733,
           0.33827340602874756,
           0.4196457862854004,
           0.9999998807907104,
           0.4634799361228943,
           0.3941749334335327,
           0.5871593952178955,
           0.456301748752594,
           0.5793330669403076,
           0.6184154748916626,
           0.38651567697525024,
           0.5114646553993225,
           0.5561977624893188,
           0.7307108640670776,
           0.46943581104278564,
           0.4220259189605713,
           0.561244010925293,
           0.5540430545806885,
           0.683336615562439,
           0.5522488355636597,
           0.4738670587539673,
           0.6943117380142212,
           0.7505303621292114,
           0.49764394760131836,
           0.6233329772949219,
           0.31116199493408203,
           0.34578952193260193,
           0.538373589515686,
           0.5744566917419434,
           0.30319198966026306,
           0.3064819574356079,
           0.312947154045105,
           0.4537990689277649,
           0.5860374569892883
          ],
          [
           0.5298241376876831,
           0.4847782850265503,
           0.7276831865310669,
           0.4763461947441101,
           0.7826272249221802,
           0.475040078163147,
           0.7884327173233032,
           0.4416472315788269,
           0.6418833136558533,
           0.45854541659355164,
           0.5385274291038513,
           0.41766080260276794,
           0.38665926456451416,
           0.4730389714241028,
           0.48248806595802307,
           0.7418317794799805,
           0.47343695163726807,
           0.41004300117492676,
           0.07379858195781708,
           0.697341799736023,
           0.5092679262161255,
           0.11961976438760757,
           0.4875129461288452,
           0.4467100501060486,
           0.5366445183753967,
           0.48915499448776245,
           0.22165989875793457,
           0.2654847502708435,
           0.30213892459869385,
           0.4634799361228943,
           0.9999998211860657,
           0.32564860582351685,
           0.42667868733406067,
           0.6506096124649048,
           0.5877188444137573,
           0.5443639159202576,
           0.18983563780784607,
           0.6892039775848389,
           0.6729201078414917,
           0.5779750347137451,
           0.31729769706726074,
           0.27918416261672974,
           0.44867265224456787,
           0.6440936923027039,
           0.7965535521507263,
           0.39915090799331665,
           0.5630921125411987,
           0.5137479305267334,
           0.6836005449295044,
           0.41070276498794556,
           0.504697322845459,
           0.28694862127304077,
           0.3429033160209656,
           0.6871454119682312,
           0.4637576639652252,
           0.25598427653312683,
           0.17434106767177582,
           0.2735302448272705,
           0.3417970538139343,
           0.45139631628990173
          ],
          [
           0.42063939571380615,
           0.3602970838546753,
           0.3847203850746155,
           0.4088708162307739,
           0.39965036511421204,
           0.3263469934463501,
           0.33275657892227173,
           0.3123507499694824,
           0.32322174310684204,
           0.3556300699710846,
           0.37974977493286133,
           0.39581382274627686,
           0.5237215161323547,
           0.6514553427696228,
           0.33800292015075684,
           0.3304000496864319,
           0.4643157720565796,
           0.38824212551116943,
           0.23127254843711853,
           0.33583271503448486,
           0.3794495463371277,
           0.38681474328041077,
           0.37023547291755676,
           0.33709919452667236,
           0.36630386114120483,
           0.3725440204143524,
           0.40891069173812866,
           0.7916923761367798,
           0.5977218747138977,
           0.3941749334335327,
           0.32564860582351685,
           0.9999998807907104,
           0.32411065697669983,
           0.33798331022262573,
           0.5644363760948181,
           0.3278787136077881,
           0.30841100215911865,
           0.2774418294429779,
           0.360965371131897,
           0.4150581657886505,
           0.6671926975250244,
           0.46786218881607056,
           0.5302491188049316,
           0.37817633152008057,
           0.2922865152359009,
           0.42433303594589233,
           0.2732332646846771,
           0.307090163230896,
           0.27208173274993896,
           0.4052872657775879,
           0.3266921937465668,
           0.295501708984375,
           0.37782347202301025,
           0.32725989818573,
           0.36770471930503845,
           0.2586861252784729,
           0.31625038385391235,
           0.31495559215545654,
           0.687751054763794,
           0.3456122577190399
          ],
          [
           0.6454111337661743,
           0.5519862174987793,
           0.36600613594055176,
           0.6861311197280884,
           0.34079796075820923,
           0.811065673828125,
           0.6096425652503967,
           0.5741183757781982,
           0.4625980257987976,
           0.8759787082672119,
           0.5000756978988647,
           0.581475019454956,
           0.27751725912094116,
           0.3978296220302582,
           0.5788635015487671,
           0.5521461367607117,
           0.42278122901916504,
           0.33661264181137085,
           0.16303393244743347,
           0.7724076509475708,
           0.6055610179901123,
           0.06567588448524475,
           0.323848694562912,
           0.751494288444519,
           0.5196924209594727,
           0.6483327150344849,
           0.18515226244926453,
           0.2472248673439026,
           0.3640918731689453,
           0.5871593952178955,
           0.42667868733406067,
           0.32411065697669983,
           1,
           0.4096888601779938,
           0.29902708530426025,
           0.5965296626091003,
           0.2304801046848297,
           0.7166599035263062,
           0.5683295726776123,
           0.66983962059021,
           0.3762154281139374,
           0.3614926338195801,
           0.3827529549598694,
           0.5627357959747314,
           0.5456501841545105,
           0.45458340644836426,
           0.5269395112991333,
           0.7198702096939087,
           0.5801789164543152,
           0.5083214044570923,
           0.7215811014175415,
           0.19042173027992249,
           0.379092276096344,
           0.5744385123252869,
           0.6769746541976929,
           0.22628779709339142,
           0.11036830395460129,
           0.2657632827758789,
           0.2697520852088928,
           0.6006166338920593
          ],
          [
           0.658561110496521,
           0.5485363602638245,
           0.8628385066986084,
           0.4980025589466095,
           0.3149605989456177,
           0.5908145904541016,
           0.5493053197860718,
           0.4063382148742676,
           0.6569939851760864,
           0.43993550539016724,
           0.4776450991630554,
           0.4054342210292816,
           0.35704702138900757,
           0.5236477851867676,
           0.46250757575035095,
           0.37450021505355835,
           0.8347363471984863,
           0.3024533689022064,
           0.09677079319953918,
           0.5046237707138062,
           0.6124267578125,
           0.1805913746356964,
           0.48941996693611145,
           0.39297330379486084,
           0.675683319568634,
           0.4805125594139099,
           0.26037853956222534,
           0.22903041541576385,
           0.3919700086116791,
           0.456301748752594,
           0.6506096124649048,
           0.33798331022262573,
           0.4096888601779938,
           1,
           0.5742700099945068,
           0.5002799034118652,
           0.19105368852615356,
           0.49161916971206665,
           0.7980999946594238,
           0.5055047869682312,
           0.3316113352775574,
           0.2568069398403168,
           0.43393421173095703,
           0.5262895226478577,
           0.4015852212905884,
           0.40096959471702576,
           0.561988353729248,
           0.4777887761592865,
           0.7510660886764526,
           0.3840664029121399,
           0.5278851389884949,
           0.3763447403907776,
           0.31620997190475464,
           0.4363856315612793,
           0.5127178430557251,
           0.2795683443546295,
           0.15629275143146515,
           0.28172168135643005,
           0.32108229398727417,
           0.6204797029495239
          ],
          [
           0.5245286226272583,
           0.45946240425109863,
           0.7155681252479553,
           0.4592618942260742,
           0.40282735228538513,
           0.4374944567680359,
           0.43563538789749146,
           0.37620705366134644,
           0.5233875513076782,
           0.3106750249862671,
           0.49219346046447754,
           0.44849497079849243,
           0.5085700154304504,
           0.6556167602539062,
           0.3958730101585388,
           0.3950388431549072,
           0.506722092628479,
           0.49229222536087036,
           0.11662061512470245,
           0.4176138639450073,
           0.4907416105270386,
           0.21155549585819244,
           0.7359108924865723,
           0.4220496416091919,
           0.5351294875144958,
           0.4160345494747162,
           0.3424582779407501,
           0.4910803735256195,
           0.4625925123691559,
           0.5793330669403076,
           0.5877188444137573,
           0.5644363760948181,
           0.29902708530426025,
           0.5742700099945068,
           1,
           0.41853585839271545,
           0.2758849263191223,
           0.3749654293060303,
           0.6025011539459229,
           0.4984966516494751,
           0.4867217540740967,
           0.42239415645599365,
           0.5401597023010254,
           0.4689866900444031,
           0.46413475275039673,
           0.4448886215686798,
           0.36214375495910645,
           0.4211694002151489,
           0.5808244347572327,
           0.4319479763507843,
           0.38727277517318726,
           0.46342456340789795,
           0.35644590854644775,
           0.41776740550994873,
           0.43315067887306213,
           0.28678977489471436,
           0.30877429246902466,
           0.3013068437576294,
           0.5585139989852905,
           0.44991636276245117
          ],
          [
           0.5831812620162964,
           0.5033165812492371,
           0.5326666831970215,
           0.7593013048171997,
           0.3227824568748474,
           0.5830514430999756,
           0.5548775792121887,
           0.5167033672332764,
           0.5352452397346497,
           0.5986857414245605,
           0.4704168438911438,
           0.5468325614929199,
           0.3234252333641052,
           0.4395321011543274,
           0.5281382203102112,
           0.5171356201171875,
           0.42414385080337524,
           0.5162056684494019,
           0.09244208037853241,
           0.6625398993492126,
           0.6339471340179443,
           0.1142948716878891,
           0.3710545301437378,
           0.6009573936462402,
           0.5929775834083557,
           0.6463197469711304,
           0.2039267122745514,
           0.27527621388435364,
           0.25499701499938965,
           0.6184154748916626,
           0.5443639159202576,
           0.3278787136077881,
           0.5965296626091003,
           0.5002799034118652,
           0.41853585839271545,
           0.9999995231628418,
           0.23585271835327148,
           0.5075252056121826,
           0.6286947727203369,
           0.7712355852127075,
           0.3376755714416504,
           0.29781419038772583,
           0.3875742554664612,
           0.5437002182006836,
           0.624739944934845,
           0.44210338592529297,
           0.7156861424446106,
           0.6540140509605408,
           0.6501425504684448,
           0.48184865713119507,
           0.7010917067527771,
           0.24488882720470428,
           0.3061709403991699,
           0.6621167659759521,
           0.6423659920692444,
           0.24429216980934143,
           0.1672104448080063,
           0.2520274817943573,
           0.30663326382637024,
           0.5555006861686707
          ],
          [
           0.22161561250686646,
           0.21505001187324524,
           0.24373310804367065,
           0.31910109519958496,
           0.2540578246116638,
           0.22025634348392487,
           0.17648345232009888,
           0.1898166537284851,
           0.22360500693321228,
           0.23596467077732086,
           0.30553197860717773,
           0.21987926959991455,
           0.4582937955856323,
           0.4339076280593872,
           0.1413343846797943,
           0.17360202968120575,
           0.24254167079925537,
           0.5693094730377197,
           0.41279366612434387,
           0.1838672161102295,
           0.28993794322013855,
           0.3415762782096863,
           0.3776364028453827,
           0.3863333463668823,
           0.25020653009414673,
           0.22154410183429718,
           0.4544960856437683,
           0.31317198276519775,
           0.30371448397636414,
           0.38651567697525024,
           0.18983563780784607,
           0.30841100215911865,
           0.2304801046848297,
           0.19105368852615356,
           0.2758849263191223,
           0.23585271835327148,
           1.000000238418579,
           0.17035004496574402,
           0.1719561666250229,
           0.3050153851509094,
           0.4542267918586731,
           0.35624411702156067,
           0.32728418707847595,
           0.2239753156900406,
           0.23063144087791443,
           0.43662044405937195,
           0.17749609053134918,
           0.19617998600006104,
           0.3022180199623108,
           0.18932926654815674,
           0.17092035710811615,
           0.38874688744544983,
           0.2516610622406006,
           0.2077818512916565,
           0.2235875129699707,
           0.4338592290878296,
           0.3719935417175293,
           0.27210891246795654,
           0.3964270353317261,
           0.21114474534988403
          ],
          [
           0.6886905431747437,
           0.5566243529319763,
           0.4239672124385834,
           0.5655421018600464,
           0.6463860273361206,
           0.8509899377822876,
           0.8329005241394043,
           0.5680683851242065,
           0.49331533908843994,
           0.5299808979034424,
           0.596572995185852,
           0.49264320731163025,
           0.28673940896987915,
           0.4094739556312561,
           0.5767433643341064,
           0.7066650390625,
           0.4805845618247986,
           0.35605043172836304,
           0.0766039714217186,
           0.8054985404014587,
           0.5475184917449951,
           0.05994536727666855,
           0.36700135469436646,
           0.5443611145019531,
           0.48272889852523804,
           0.5158434510231018,
           0.18015006184577942,
           0.22174538671970367,
           0.32374709844589233,
           0.5114646553993225,
           0.6892039775848389,
           0.2774418294429779,
           0.7166599035263062,
           0.49161916971206665,
           0.3749654293060303,
           0.5075252056121826,
           0.17035004496574402,
           0.9999998211860657,
           0.5557028651237488,
           0.5833097696304321,
           0.2920592427253723,
           0.2763446867465973,
           0.4070757031440735,
           0.6667708158493042,
           0.707267165184021,
           0.41752296686172485,
           0.5747721195220947,
           0.5956730246543884,
           0.554702877998352,
           0.4582289457321167,
           0.6698999404907227,
           0.18848341703414917,
           0.33734676241874695,
           0.6893098950386047,
           0.5591115355491638,
           0.22824808955192566,
           0.126897394657135,
           0.20839115977287292,
           0.2831970453262329,
           0.6056281924247742
          ],
          [
           0.7568463087081909,
           0.6188193559646606,
           0.8154559135437012,
           0.673506498336792,
           0.3094233572483063,
           0.6775238513946533,
           0.6401598453521729,
           0.6245409250259399,
           0.6406365633010864,
           0.6119384765625,
           0.5014091730117798,
           0.7887427806854248,
           0.3267054557800293,
           0.506319522857666,
           0.6105643510818481,
           0.6603330373764038,
           0.6073553562164307,
           0.41926854848861694,
           0.09881996363401413,
           0.6943300366401672,
           0.628188967704773,
           0.14888522028923035,
           0.4636395573616028,
           0.5074334144592285,
           0.6595034003257751,
           0.6974668502807617,
           0.23738819360733032,
           0.27290111780166626,
           0.38555485010147095,
           0.5561977624893188,
           0.6729201078414917,
           0.360965371131897,
           0.5683295726776123,
           0.7980999946594238,
           0.6025011539459229,
           0.6286947727203369,
           0.1719561666250229,
           0.5557028651237488,
           1,
           0.6545122861862183,
           0.34720879793167114,
           0.33571264147758484,
           0.491445392370224,
           0.574425458908081,
           0.537421464920044,
           0.41552937030792236,
           0.5769050121307373,
           0.6401040554046631,
           0.7602097392082214,
           0.7158957719802856,
           0.7212265729904175,
           0.3517884314060211,
           0.3518884778022766,
           0.5753764510154724,
           0.6901912093162537,
           0.2364707589149475,
           0.1650388091802597,
           0.26743823289871216,
           0.34274524450302124,
           0.6657658219337463
          ],
          [
           0.6423382759094238,
           0.5419164896011353,
           0.5616077184677124,
           0.7210569381713867,
           0.3968753218650818,
           0.6565700173377991,
           0.6267381310462952,
           0.5674471855163574,
           0.5826475620269775,
           0.6421295404434204,
           0.5766777992248535,
           0.5807245969772339,
           0.4128222167491913,
           0.5202442407608032,
           0.6003818511962891,
           0.5858374834060669,
           0.4540116488933563,
           0.533993124961853,
           0.1632290780544281,
           0.7580638527870178,
           0.6813292503356934,
           0.11047044396400452,
           0.4206200838088989,
           0.7043300271034241,
           0.6483014822006226,
           0.6674197912216187,
           0.2302391231060028,
           0.33397161960601807,
           0.36466914415359497,
           0.7307108640670776,
           0.5779750347137451,
           0.4150581657886505,
           0.66983962059021,
           0.5055047869682312,
           0.4984966516494751,
           0.7712355852127075,
           0.3050153851509094,
           0.5833097696304321,
           0.6545122861862183,
           1.000000238418579,
           0.42399662733078003,
           0.345279335975647,
           0.4743767976760864,
           0.6216968894004822,
           0.7605594992637634,
           0.500708281993866,
           0.6692177057266235,
           0.7412128448486328,
           0.7102502584457397,
           0.5189850330352783,
           0.7884830832481384,
           0.2658480405807495,
           0.36750930547714233,
           0.6094504594802856,
           0.7033895254135132,
           0.2869803309440613,
           0.1910407990217209,
           0.26637786626815796,
           0.396625280380249,
           0.6222373843193054
          ],
          [
           0.4159652888774872,
           0.3381226360797882,
           0.37939149141311646,
           0.4036293625831604,
           0.3810432553291321,
           0.357147753238678,
           0.3326389193534851,
           0.3270444869995117,
           0.3098886013031006,
           0.377030611038208,
           0.426539808511734,
           0.37586843967437744,
           0.5054735541343689,
           0.5904535055160522,
           0.34006503224372864,
           0.3025830388069153,
           0.4730912446975708,
           0.4393083453178406,
           0.401532918214798,
           0.3170511722564697,
           0.4209747016429901,
           0.3851373791694641,
           0.44253653287887573,
           0.42307746410369873,
           0.3603110611438751,
           0.3435570299625397,
           0.5051171779632568,
           0.6436779499053955,
           0.4745483994483948,
           0.46943581104278564,
           0.31729769706726074,
           0.6671926975250244,
           0.3762154281139374,
           0.3316113352775574,
           0.4867217540740967,
           0.3376755714416504,
           0.4542267918586731,
           0.2920592427253723,
           0.34720879793167114,
           0.42399662733078003,
           1.0000001192092896,
           0.6914253234863281,
           0.5243073105812073,
           0.3771218955516815,
           0.2895980477333069,
           0.5559002757072449,
           0.2456417828798294,
           0.2915131151676178,
           0.3345804810523987,
           0.3863610029220581,
           0.29579249024391174,
           0.26306968927383423,
           0.3468899130821228,
           0.29950183629989624,
           0.4146435856819153,
           0.317253977060318,
           0.4135299026966095,
           0.41837233304977417,
           0.6430376172065735,
           0.3610154986381531
          ],
          [
           0.3485563397407532,
           0.298933744430542,
           0.3018474578857422,
           0.3268328905105591,
           0.34500935673713684,
           0.33089298009872437,
           0.2999337315559387,
           0.3053528070449829,
           0.3217335641384125,
           0.32984453439712524,
           0.39534980058670044,
           0.3988935649394989,
           0.34569835662841797,
           0.5316863656044006,
           0.2613149881362915,
           0.3015521466732025,
           0.3612891435623169,
           0.34891200065612793,
           0.3667876124382019,
           0.2810452878475189,
           0.3476806879043579,
           0.31146201491355896,
           0.41342246532440186,
           0.4206087589263916,
           0.34012922644615173,
           0.3262845575809479,
           0.36505618691444397,
           0.3990286588668823,
           0.5019845366477966,
           0.4220259189605713,
           0.27918416261672974,
           0.46786218881607056,
           0.3614926338195801,
           0.2568069398403168,
           0.42239415645599365,
           0.29781419038772583,
           0.35624411702156067,
           0.2763446867465973,
           0.33571264147758484,
           0.345279335975647,
           0.6914253234863281,
           1.000000238418579,
           0.45308685302734375,
           0.4134584367275238,
           0.2437519133090973,
           0.5337927937507629,
           0.18223339319229126,
           0.25755494832992554,
           0.3024798035621643,
           0.34857869148254395,
           0.23958028852939606,
           0.19596485793590546,
           0.23645642399787903,
           0.2618459463119507,
           0.3741501569747925,
           0.29434940218925476,
           0.3462305963039398,
           0.2580358684062958,
           0.47788751125335693,
           0.3218814730644226
          ],
          [
           0.5946124196052551,
           0.48443642258644104,
           0.4493538737297058,
           0.43528008460998535,
           0.4145553708076477,
           0.4296278953552246,
           0.5242379903793335,
           0.45461469888687134,
           0.41788730025291443,
           0.3794988989830017,
           0.4592749774456024,
           0.4694659113883972,
           0.4882408380508423,
           0.6225419044494629,
           0.41574734449386597,
           0.5050758123397827,
           0.4894837439060211,
           0.43366318941116333,
           0.27015364170074463,
           0.5099726319313049,
           0.4684396982192993,
           0.24739012122154236,
           0.394292414188385,
           0.5163152813911438,
           0.43307769298553467,
           0.41417568922042847,
           0.3917129635810852,
           0.4622344970703125,
           0.5700318813323975,
           0.561244010925293,
           0.44867265224456787,
           0.5302491188049316,
           0.3827529549598694,
           0.43393421173095703,
           0.5401597023010254,
           0.3875742554664612,
           0.32728418707847595,
           0.4070757031440735,
           0.491445392370224,
           0.4743767976760864,
           0.5243073105812073,
           0.45308685302734375,
           1.000000238418579,
           0.44182276725769043,
           0.5252077579498291,
           0.49418967962265015,
           0.33470281958580017,
           0.42687422037124634,
           0.44439470767974854,
           0.7294782400131226,
           0.4830372929573059,
           0.25403115153312683,
           0.47036731243133545,
           0.4518171548843384,
           0.3774714469909668,
           0.2804742455482483,
           0.29906755685806274,
           0.3041225075721741,
           0.5064212083816528,
           0.44162461161613464
          ],
          [
           0.6663720607757568,
           0.5892358422279358,
           0.5050339698791504,
           0.5799573659896851,
           0.5421984791755676,
           0.6293896436691284,
           0.7342721223831177,
           0.555078387260437,
           0.7537740468978882,
           0.5127447843551636,
           0.7265216112136841,
           0.4892791509628296,
           0.29737961292266846,
           0.6089107990264893,
           0.5473036766052246,
           0.59208083152771,
           0.5157366394996643,
           0.3624882102012634,
           0.1532178819179535,
           0.7525883913040161,
           0.6926045417785645,
           0.1617364138364792,
           0.4244537055492401,
           0.5268797278404236,
           0.7796599864959717,
           0.5970458984375,
           0.15435625612735748,
           0.22840791940689087,
           0.37466609477996826,
           0.5540430545806885,
           0.6440936923027039,
           0.37817633152008057,
           0.5627357959747314,
           0.5262895226478577,
           0.4689866900444031,
           0.5437002182006836,
           0.2239753156900406,
           0.6667708158493042,
           0.574425458908081,
           0.6216968894004822,
           0.3771218955516815,
           0.4134584367275238,
           0.44182276725769043,
           1,
           0.631839394569397,
           0.47515469789505005,
           0.6152274012565613,
           0.728646993637085,
           0.561688244342804,
           0.43314409255981445,
           0.6457754373550415,
           0.24326832592487335,
           0.3425334095954895,
           0.6225758194923401,
           0.6400222778320312,
           0.31132450699806213,
           0.11624009162187576,
           0.2334597408771515,
           0.3032558560371399,
           0.7675929069519043
          ],
          [
           0.5335302948951721,
           0.5073467493057251,
           0.44562971591949463,
           0.5659602880477905,
           0.7362306714057922,
           0.5071470141410828,
           0.7922300100326538,
           0.5040218830108643,
           0.5090226531028748,
           0.5309897661209106,
           0.5311225652694702,
           0.48552852869033813,
           0.36504101753234863,
           0.41286227107048035,
           0.5637589693069458,
           0.811331033706665,
           0.3545064330101013,
           0.49701714515686035,
           0.06080728396773338,
           0.8108030557632446,
           0.5415399074554443,
           0.10015296936035156,
           0.3972209692001343,
           0.6573988199234009,
           0.4642069339752197,
           0.5390116572380066,
           0.20475167036056519,
           0.2545917332172394,
           0.29130905866622925,
           0.683336615562439,
           0.7965535521507263,
           0.2922865152359009,
           0.5456501841545105,
           0.4015852212905884,
           0.46413475275039673,
           0.624739944934845,
           0.23063144087791443,
           0.707267165184021,
           0.537421464920044,
           0.7605594992637634,
           0.2895980477333069,
           0.2437519133090973,
           0.5252077579498291,
           0.631839394569397,
           1,
           0.39285239577293396,
           0.5843201875686646,
           0.6433507204055786,
           0.6399383544921875,
           0.5106441378593445,
           0.662704348564148,
           0.21916720271110535,
           0.35880333185195923,
           0.7478861808776855,
           0.5480819344520569,
           0.21383097767829895,
           0.18926936388015747,
           0.24082282185554504,
           0.31724777817726135,
           0.44514787197113037
          ],
          [
           0.5145601034164429,
           0.4446025788784027,
           0.4096459150314331,
           0.48186686635017395,
           0.4281543493270874,
           0.4784044325351715,
           0.46078717708587646,
           0.38560840487480164,
           0.37155961990356445,
           0.3835642337799072,
           0.7672830820083618,
           0.42219841480255127,
           0.41246747970581055,
           0.6431339383125305,
           0.40711018443107605,
           0.3460884988307953,
           0.5064998269081116,
           0.4822176992893219,
           0.4025065302848816,
           0.4618620276451111,
           0.560131847858429,
           0.22110849618911743,
           0.5421109795570374,
           0.5041155219078064,
           0.47931545972824097,
           0.46994829177856445,
           0.36695072054862976,
           0.362957239151001,
           0.4819483160972595,
           0.5522488355636597,
           0.39915090799331665,
           0.42433303594589233,
           0.45458340644836426,
           0.40096959471702576,
           0.4448886215686798,
           0.44210338592529297,
           0.43662044405937195,
           0.41752296686172485,
           0.41552937030792236,
           0.500708281993866,
           0.5559002757072449,
           0.5337927937507629,
           0.49418967962265015,
           0.47515469789505005,
           0.39285239577293396,
           1.000000238418579,
           0.3741895854473114,
           0.4655071794986725,
           0.50865238904953,
           0.3597847521305084,
           0.42547911405563354,
           0.2482532262802124,
           0.3980253040790558,
           0.37500911951065063,
           0.47975486516952515,
           0.3305163085460663,
           0.3165557384490967,
           0.3104058802127838,
           0.5592825412750244,
           0.5110235810279846
          ],
          [
           0.5983964800834656,
           0.5359338521957397,
           0.5192793011665344,
           0.5718012452125549,
           0.3618515729904175,
           0.619297444820404,
           0.6122130155563354,
           0.5124802589416504,
           0.5890559554100037,
           0.488585501909256,
           0.5138022303581238,
           0.4205106496810913,
           0.292142391204834,
           0.3900411128997803,
           0.5901541709899902,
           0.474248468875885,
           0.49781060218811035,
           0.3412485122680664,
           0.10004305094480515,
           0.670037031173706,
           0.6784046292304993,
           0.05660548806190491,
           0.33502906560897827,
           0.448787659406662,
           0.66090327501297,
           0.5661260485649109,
           0.11038651317358017,
           0.20583486557006836,
           0.21511515974998474,
           0.4738670587539673,
           0.5630921125411987,
           0.2732332646846771,
           0.5269395112991333,
           0.561988353729248,
           0.36214375495910645,
           0.7156861424446106,
           0.17749609053134918,
           0.5747721195220947,
           0.5769050121307373,
           0.6692177057266235,
           0.2456417828798294,
           0.18223339319229126,
           0.33470281958580017,
           0.6152274012565613,
           0.5843201875686646,
           0.3741895854473114,
           1.000000238418579,
           0.6579411029815674,
           0.5636756420135498,
           0.37387704849243164,
           0.6703979969024658,
           0.21304821968078613,
           0.3008432388305664,
           0.5518267750740051,
           0.5833683013916016,
           0.18276771903038025,
           0.09755107760429382,
           0.1936279535293579,
           0.2798904776573181,
           0.622636079788208
          ],
          [
           0.6792821884155273,
           0.6512620449066162,
           0.4780917763710022,
           0.7574067115783691,
           0.2901228964328766,
           0.7197855710983276,
           0.6194716691970825,
           0.5526694059371948,
           0.6361414194107056,
           0.659802258014679,
           0.624042272567749,
           0.5764328241348267,
           0.3369249105453491,
           0.4233192205429077,
           0.6753138899803162,
           0.5389115214347839,
           0.42714160680770874,
           0.41601473093032837,
           0.11347249150276184,
           0.8603222966194153,
           0.7605917453765869,
           0.0717979297041893,
           0.3691747188568115,
           0.6851515769958496,
           0.757656991481781,
           0.685985267162323,
           0.12289285659790039,
           0.18075042963027954,
           0.27254292368888855,
           0.6943117380142212,
           0.5137479305267334,
           0.307090163230896,
           0.7198702096939087,
           0.4777887761592865,
           0.4211694002151489,
           0.6540140509605408,
           0.19617998600006104,
           0.5956730246543884,
           0.6401040554046631,
           0.7412128448486328,
           0.2915131151676178,
           0.25755494832992554,
           0.42687422037124634,
           0.728646993637085,
           0.6433507204055786,
           0.4655071794986725,
           0.6579411029815674,
           1.0000001192092896,
           0.6566336154937744,
           0.5281952023506165,
           0.7856588959693909,
           0.23714864253997803,
           0.4398341774940491,
           0.6506662368774414,
           0.7273833155632019,
           0.21563923358917236,
           0.11459661275148392,
           0.29943472146987915,
           0.2490643858909607,
           0.764947772026062
          ],
          [
           0.6353669166564941,
           0.58031165599823,
           0.8210881948471069,
           0.6244518756866455,
           0.3198798894882202,
           0.6608076095581055,
           0.5786335468292236,
           0.4329048693180084,
           0.6255815625190735,
           0.593711256980896,
           0.5696232914924622,
           0.4313778281211853,
           0.33833444118499756,
           0.48013514280319214,
           0.5139180421829224,
           0.4408365488052368,
           0.5128717422485352,
           0.504399836063385,
           0.09501548111438751,
           0.6322584748268127,
           0.6847965121269226,
           0.12852837145328522,
           0.5376847982406616,
           0.761939525604248,
           0.692812442779541,
           0.5750336050987244,
           0.25825902819633484,
           0.2095264494419098,
           0.3196401596069336,
           0.7505303621292114,
           0.6836005449295044,
           0.27208173274993896,
           0.5801789164543152,
           0.7510660886764526,
           0.5808244347572327,
           0.6501425504684448,
           0.3022180199623108,
           0.554702877998352,
           0.7602097392082214,
           0.7102502584457397,
           0.3345804810523987,
           0.3024798035621643,
           0.44439470767974854,
           0.561688244342804,
           0.6399383544921875,
           0.50865238904953,
           0.5636756420135498,
           0.6566336154937744,
           0.9999997615814209,
           0.3996976912021637,
           0.6534728407859802,
           0.3573051691055298,
           0.28375646471977234,
           0.5265429615974426,
           0.5420244932174683,
           0.32024192810058594,
           0.17647874355316162,
           0.235398530960083,
           0.3274531960487366,
           0.6192114353179932
          ],
          [
           0.6684434413909912,
           0.5213829874992371,
           0.3754229247570038,
           0.578894317150116,
           0.3129078149795532,
           0.522246241569519,
           0.5758086442947388,
           0.6269245743751526,
           0.4034116864204407,
           0.5167142152786255,
           0.38087859749794006,
           0.8442621231079102,
           0.32803088426589966,
           0.43405163288116455,
           0.5444384813308716,
           0.742413341999054,
           0.4018576443195343,
           0.4062076807022095,
           0.14404518902301788,
           0.6406614780426025,
           0.45585253834724426,
           0.11740249395370483,
           0.27063533663749695,
           0.4771442711353302,
           0.41200459003448486,
           0.5808188319206238,
           0.22899197041988373,
           0.3447875678539276,
           0.41353839635849,
           0.49764394760131836,
           0.41070276498794556,
           0.4052872657775879,
           0.5083214044570923,
           0.3840664029121399,
           0.4319479763507843,
           0.48184865713119507,
           0.18932926654815674,
           0.4582289457321167,
           0.7158957719802856,
           0.5189850330352783,
           0.3863610029220581,
           0.34857869148254395,
           0.7294782400131226,
           0.43314409255981445,
           0.5106441378593445,
           0.3597847521305084,
           0.37387704849243164,
           0.5281952023506165,
           0.3996976912021637,
           1.0000001192092896,
           0.6518372297286987,
           0.20426622033119202,
           0.3974459171295166,
           0.5622782111167908,
           0.5569100975990295,
           0.18321393430233002,
           0.20370492339134216,
           0.2766859531402588,
           0.34937986731529236,
           0.5175944566726685
          ],
          [
           0.8927599191665649,
           0.6745226979255676,
           0.4780164361000061,
           0.8011054396629333,
           0.30341511964797974,
           0.7723291516304016,
           0.7919583320617676,
           0.6800309419631958,
           0.5568367838859558,
           0.6592147350311279,
           0.5897493362426758,
           0.6762171983718872,
           0.26851287484169006,
           0.41369742155075073,
           0.7326119542121887,
           0.6300774812698364,
           0.4911538064479828,
           0.43890610337257385,
           0.07841760665178299,
           0.8566217422485352,
           0.6612688302993774,
           0.04749836027622223,
           0.3282434344291687,
           0.6458063125610352,
           0.6352325081825256,
           0.6832706928253174,
           0.12816640734672546,
           0.2502899169921875,
           0.2894548773765564,
           0.6233329772949219,
           0.504697322845459,
           0.3266921937465668,
           0.7215811014175415,
           0.5278851389884949,
           0.38727277517318726,
           0.7010917067527771,
           0.17092035710811615,
           0.6698999404907227,
           0.7212265729904175,
           0.7884830832481384,
           0.29579249024391174,
           0.23958028852939606,
           0.4830372929573059,
           0.6457754373550415,
           0.662704348564148,
           0.42547911405563354,
           0.6703979969024658,
           0.7856588959693909,
           0.6534728407859802,
           0.6518372297286987,
           1.000000238418579,
           0.19641417264938354,
           0.370140939950943,
           0.7055373191833496,
           0.7053694725036621,
           0.20708255469799042,
           0.10988465696573257,
           0.17544333636760712,
           0.2917805016040802,
           0.7971718907356262
          ],
          [
           0.2557820975780487,
           0.20618773996829987,
           0.4570332169532776,
           0.2724369168281555,
           0.21660774946212769,
           0.27716371417045593,
           0.1888955682516098,
           0.21977579593658447,
           0.26333606243133545,
           0.2228584587574005,
           0.2368675321340561,
           0.22863924503326416,
           0.41985785961151123,
           0.2962430715560913,
           0.17911428213119507,
           0.18701544404029846,
           0.2364158034324646,
           0.2757968008518219,
           0.21689870953559875,
           0.23348596692085266,
           0.2615415155887604,
           0.35362035036087036,
           0.62312912940979,
           0.2469063252210617,
           0.33466464281082153,
           0.2483689785003662,
           0.3113577365875244,
           0.2016916275024414,
           0.28338107466697693,
           0.31116199493408203,
           0.28694862127304077,
           0.295501708984375,
           0.19042173027992249,
           0.3763447403907776,
           0.46342456340789795,
           0.24488882720470428,
           0.38874688744544983,
           0.18848341703414917,
           0.3517884314060211,
           0.2658480405807495,
           0.26306968927383423,
           0.19596485793590546,
           0.25403115153312683,
           0.24326832592487335,
           0.21916720271110535,
           0.2482532262802124,
           0.21304821968078613,
           0.23714864253997803,
           0.3573051691055298,
           0.20426622033119202,
           0.19641417264938354,
           0.9999996423721313,
           0.23855887353420258,
           0.2029826045036316,
           0.2054058164358139,
           0.27435797452926636,
           0.2741934657096863,
           0.191278338432312,
           0.24822428822517395,
           0.23563389480113983
          ],
          [
           0.408803790807724,
           0.3069106340408325,
           0.3022446930408478,
           0.39479291439056396,
           0.38143259286880493,
           0.35886961221694946,
           0.3741983473300934,
           0.3004113435745239,
           0.24875852465629578,
           0.33467763662338257,
           0.34688228368759155,
           0.3878515362739563,
           0.3758694529533386,
           0.3789656162261963,
           0.3764050602912903,
           0.3790350556373596,
           0.34450438618659973,
           0.3034664988517761,
           0.13748593628406525,
           0.4847721457481384,
           0.4186013340950012,
           0.1551649421453476,
           0.34992220997810364,
           0.3250254988670349,
           0.36449098587036133,
           0.35060250759124756,
           0.21842814981937408,
           0.22279584407806396,
           0.3171854019165039,
           0.34578952193260193,
           0.3429033160209656,
           0.37782347202301025,
           0.379092276096344,
           0.31620997190475464,
           0.35644590854644775,
           0.3061709403991699,
           0.2516610622406006,
           0.33734676241874695,
           0.3518884778022766,
           0.36750930547714233,
           0.3468899130821228,
           0.23645642399787903,
           0.47036731243133545,
           0.3425334095954895,
           0.35880333185195923,
           0.3980253040790558,
           0.3008432388305664,
           0.4398341774940491,
           0.28375646471977234,
           0.3974459171295166,
           0.370140939950943,
           0.23855887353420258,
           1,
           0.36315464973449707,
           0.3733173906803131,
           0.24555055797100067,
           0.1514827460050583,
           0.4522099494934082,
           0.24971717596054077,
           0.3622117340564728
          ],
          [
           0.6575703024864197,
           0.5135306119918823,
           0.4128137528896332,
           0.8337699174880981,
           0.607520341873169,
           0.5590068101882935,
           0.8093541264533997,
           0.5690582990646362,
           0.5010347366333008,
           0.5401908159255981,
           0.5048950910568237,
           0.5496906042098999,
           0.29658278822898865,
           0.38679149746894836,
           0.615983247756958,
           0.7505784034729004,
           0.4096062183380127,
           0.4462841749191284,
           0.04707181081175804,
           0.7946380376815796,
           0.5195978879928589,
           0.1069243997335434,
           0.33515679836273193,
           0.5494040250778198,
           0.49386489391326904,
           0.5494779348373413,
           0.17911586165428162,
           0.274588942527771,
           0.26369139552116394,
           0.538373589515686,
           0.6871454119682312,
           0.32725989818573,
           0.5744385123252869,
           0.4363856315612793,
           0.41776740550994873,
           0.6621167659759521,
           0.2077818512916565,
           0.6893098950386047,
           0.5753764510154724,
           0.6094504594802856,
           0.29950183629989624,
           0.2618459463119507,
           0.4518171548843384,
           0.6225758194923401,
           0.7478861808776855,
           0.37500911951065063,
           0.5518267750740051,
           0.6506662368774414,
           0.5265429615974426,
           0.5622782111167908,
           0.7055373191833496,
           0.2029826045036316,
           0.36315464973449707,
           1.000000238418579,
           0.5765559077262878,
           0.22766117751598358,
           0.14373385906219482,
           0.2295645773410797,
           0.2850685119628906,
           0.5708757638931274
          ],
          [
           0.6559526920318604,
           0.5877286195755005,
           0.44805026054382324,
           0.7255228757858276,
           0.3149099349975586,
           0.6573430299758911,
           0.5820244550704956,
           0.6258656978607178,
           0.5650869607925415,
           0.6791881322860718,
           0.558997392654419,
           0.6978306770324707,
           0.27198123931884766,
           0.49697059392929077,
           0.6506344079971313,
           0.5790165066719055,
           0.5433721542358398,
           0.4347246587276459,
           0.12780478596687317,
           0.7294942736625671,
           0.6538902521133423,
           0.09949946403503418,
           0.3819863200187683,
           0.556955099105835,
           0.6112592220306396,
           0.7172391414642334,
           0.16064465045928955,
           0.26568809151649475,
           0.32220911979675293,
           0.5744566917419434,
           0.4637576639652252,
           0.36770471930503845,
           0.6769746541976929,
           0.5127178430557251,
           0.43315067887306213,
           0.6423659920692444,
           0.2235875129699707,
           0.5591115355491638,
           0.6901912093162537,
           0.7033895254135132,
           0.4146435856819153,
           0.3741501569747925,
           0.3774714469909668,
           0.6400222778320312,
           0.5480819344520569,
           0.47975486516952515,
           0.5833683013916016,
           0.7273833155632019,
           0.5420244932174683,
           0.5569100975990295,
           0.7053694725036621,
           0.2054058164358139,
           0.3733173906803131,
           0.5765559077262878,
           0.9999997615814209,
           0.2313317209482193,
           0.12039247155189514,
           0.2744044065475464,
           0.31263667345046997,
           0.6519449949264526
          ],
          [
           0.26873478293418884,
           0.2526877522468567,
           0.3274082541465759,
           0.29770427942276,
           0.23190823197364807,
           0.2579548954963684,
           0.23480363190174103,
           0.1935330182313919,
           0.3034166097640991,
           0.22655415534973145,
           0.3338945806026459,
           0.18224462866783142,
           0.37694019079208374,
           0.35195592045783997,
           0.14046381413936615,
           0.15972930192947388,
           0.28235334157943726,
           0.368195116519928,
           0.23816174268722534,
           0.21114984154701233,
           0.2830210328102112,
           0.2592552900314331,
           0.3218190670013428,
           0.2979641556739807,
           0.3291662037372589,
           0.21152262389659882,
           0.24606823921203613,
           0.12880387902259827,
           0.2547069489955902,
           0.30319198966026306,
           0.25598427653312683,
           0.2586861252784729,
           0.22628779709339142,
           0.2795683443546295,
           0.28678977489471436,
           0.24429216980934143,
           0.4338592290878296,
           0.22824808955192566,
           0.2364707589149475,
           0.2869803309440613,
           0.317253977060318,
           0.29434940218925476,
           0.2804742455482483,
           0.31132450699806213,
           0.21383097767829895,
           0.3305163085460663,
           0.18276771903038025,
           0.21563923358917236,
           0.32024192810058594,
           0.18321393430233002,
           0.20708255469799042,
           0.27435797452926636,
           0.24555055797100067,
           0.22766117751598358,
           0.2313317209482193,
           1.0000001192092896,
           0.20673124492168427,
           0.19138643145561218,
           0.21195083856582642,
           0.2637820839881897
          ],
          [
           0.16828587651252747,
           0.1873621940612793,
           0.19975130259990692,
           0.16966290771961212,
           0.21514330804347992,
           0.11449968814849854,
           0.13853582739830017,
           0.1686931848526001,
           0.11257023364305496,
           0.12352888286113739,
           0.24692153930664062,
           0.21098646521568298,
           0.42592716217041016,
           0.317033588886261,
           0.14814640581607819,
           0.17094013094902039,
           0.2697015404701233,
           0.2950300872325897,
           0.15508562326431274,
           0.11565099656581879,
           0.1581709086894989,
           0.5797595977783203,
           0.31221890449523926,
           0.2076096385717392,
           0.12275996059179306,
           0.1915435791015625,
           0.6383219957351685,
           0.37417781352996826,
           0.2919444143772125,
           0.3064819574356079,
           0.17434106767177582,
           0.31625038385391235,
           0.11036830395460129,
           0.15629275143146515,
           0.30877429246902466,
           0.1672104448080063,
           0.3719935417175293,
           0.126897394657135,
           0.1650388091802597,
           0.1910407990217209,
           0.4135299026966095,
           0.3462305963039398,
           0.29906755685806274,
           0.11624009162187576,
           0.18926936388015747,
           0.3165557384490967,
           0.09755107760429382,
           0.11459661275148392,
           0.17647874355316162,
           0.20370492339134216,
           0.10988465696573257,
           0.2741934657096863,
           0.1514827460050583,
           0.14373385906219482,
           0.12039247155189514,
           0.20673124492168427,
           1.0000001192092896,
           0.2159254103899002,
           0.6238415241241455,
           0.08236248791217804
          ],
          [
           0.20955494046211243,
           0.19817164540290833,
           0.27337297797203064,
           0.2686726152896881,
           0.31126052141189575,
           0.21973352134227753,
           0.20743994414806366,
           0.12114833295345306,
           0.23626190423965454,
           0.28169217705726624,
           0.2736195921897888,
           0.2527536153793335,
           0.40509963035583496,
           0.3066790699958801,
           0.219169020652771,
           0.2587015628814697,
           0.3029846251010895,
           0.26004308462142944,
           0.2284814417362213,
           0.2847331762313843,
           0.3234192132949829,
           0.186130553483963,
           0.3128088712692261,
           0.2786635756492615,
           0.26927536725997925,
           0.1867377609014511,
           0.26185446977615356,
           0.19924484193325043,
           0.2285178005695343,
           0.312947154045105,
           0.2735302448272705,
           0.31495559215545654,
           0.2657632827758789,
           0.28172168135643005,
           0.3013068437576294,
           0.2520274817943573,
           0.27210891246795654,
           0.20839115977287292,
           0.26743823289871216,
           0.26637786626815796,
           0.41837233304977417,
           0.2580358684062958,
           0.3041225075721741,
           0.2334597408771515,
           0.24082282185554504,
           0.3104058802127838,
           0.1936279535293579,
           0.29943472146987915,
           0.235398530960083,
           0.2766859531402588,
           0.17544333636760712,
           0.191278338432312,
           0.4522099494934082,
           0.2295645773410797,
           0.2744044065475464,
           0.19138643145561218,
           0.2159254103899002,
           0.9999998807907104,
           0.24929358065128326,
           0.21059663593769073
          ],
          [
           0.39008140563964844,
           0.34481677412986755,
           0.3968735337257385,
           0.3414866626262665,
           0.3766266703605652,
           0.30165916681289673,
           0.3279164433479309,
           0.28182506561279297,
           0.2795354723930359,
           0.26058250665664673,
           0.4663522243499756,
           0.3507232069969177,
           0.48615652322769165,
           0.5968538522720337,
           0.3039332628250122,
           0.2960957884788513,
           0.4782295227050781,
           0.43044185638427734,
           0.22703483700752258,
           0.27589598298072815,
           0.40285539627075195,
           0.34152936935424805,
           0.4558601975440979,
           0.31751102209091187,
           0.3264392614364624,
           0.30303242802619934,
           0.5496165752410889,
           0.7476425170898438,
           0.5364120602607727,
           0.4537990689277649,
           0.3417970538139343,
           0.687751054763794,
           0.2697520852088928,
           0.32108229398727417,
           0.5585139989852905,
           0.30663326382637024,
           0.3964270353317261,
           0.2831970453262329,
           0.34274524450302124,
           0.396625280380249,
           0.6430376172065735,
           0.47788751125335693,
           0.5064212083816528,
           0.3032558560371399,
           0.31724777817726135,
           0.5592825412750244,
           0.2798904776573181,
           0.2490643858909607,
           0.3274531960487366,
           0.34937986731529236,
           0.2917805016040802,
           0.24822428822517395,
           0.24971717596054077,
           0.2850685119628906,
           0.31263667345046997,
           0.21195083856582642,
           0.6238415241241455,
           0.24929358065128326,
           0.9999998807907104,
           0.29678404331207275
          ],
          [
           0.8644055128097534,
           0.6567724943161011,
           0.5389143228530884,
           0.694057822227478,
           0.2653256952762604,
           0.7626898288726807,
           0.6995898485183716,
           0.5985289216041565,
           0.6128066778182983,
           0.49238282442092896,
           0.6948908567428589,
           0.5355926752090454,
           0.2585209012031555,
           0.5330492854118347,
           0.6281594038009644,
           0.43672633171081543,
           0.5937366485595703,
           0.3683687448501587,
           0.18926209211349487,
           0.715229332447052,
           0.7574716806411743,
           0.07733894884586334,
           0.40263283252716064,
           0.547598659992218,
           0.8312568664550781,
           0.5968092083930969,
           0.14856386184692383,
           0.2193998098373413,
           0.3475779891014099,
           0.5860374569892883,
           0.45139631628990173,
           0.3456122577190399,
           0.6006166338920593,
           0.6204797029495239,
           0.44991636276245117,
           0.5555006861686707,
           0.21114474534988403,
           0.6056281924247742,
           0.6657658219337463,
           0.6222373843193054,
           0.3610154986381531,
           0.3218814730644226,
           0.44162461161613464,
           0.7675929069519043,
           0.44514787197113037,
           0.5110235810279846,
           0.622636079788208,
           0.764947772026062,
           0.6192114353179932,
           0.5175944566726685,
           0.7971718907356262,
           0.23563389480113983,
           0.3622117340564728,
           0.5708757638931274,
           0.6519449949264526,
           0.2637820839881897,
           0.08236248791217804,
           0.21059663593769073,
           0.29678404331207275,
           0.9999998807907104
          ]
         ]
        }
       ],
       "layout": {
        "coloraxis": {
         "colorbar": {
          "title": {
           "text": "Similarity Score"
          }
         },
         "colorscale": [
          [
           0,
           "rgb(247,252,240)"
          ],
          [
           0.125,
           "rgb(224,243,219)"
          ],
          [
           0.25,
           "rgb(204,235,197)"
          ],
          [
           0.375,
           "rgb(168,221,181)"
          ],
          [
           0.5,
           "rgb(123,204,196)"
          ],
          [
           0.625,
           "rgb(78,179,211)"
          ],
          [
           0.75,
           "rgb(43,140,190)"
          ],
          [
           0.875,
           "rgb(8,104,172)"
          ],
          [
           1,
           "rgb(8,64,129)"
          ]
         ]
        },
        "height": 800,
        "hoverlabel": {
         "bgcolor": "white",
         "font": {
          "family": "Rockwell",
          "size": 16
         }
        },
        "legend": {
         "title": {
          "text": "Trend"
         }
        },
        "margin": {
         "t": 60
        },
        "showlegend": true,
        "template": {
         "data": {
          "bar": [
           {
            "error_x": {
             "color": "#2a3f5f"
            },
            "error_y": {
             "color": "#2a3f5f"
            },
            "marker": {
             "line": {
              "color": "#E5ECF6",
              "width": 0.5
             },
             "pattern": {
              "fillmode": "overlay",
              "size": 10,
              "solidity": 0.2
             }
            },
            "type": "bar"
           }
          ],
          "barpolar": [
           {
            "marker": {
             "line": {
              "color": "#E5ECF6",
              "width": 0.5
             },
             "pattern": {
              "fillmode": "overlay",
              "size": 10,
              "solidity": 0.2
             }
            },
            "type": "barpolar"
           }
          ],
          "carpet": [
           {
            "aaxis": {
             "endlinecolor": "#2a3f5f",
             "gridcolor": "white",
             "linecolor": "white",
             "minorgridcolor": "white",
             "startlinecolor": "#2a3f5f"
            },
            "baxis": {
             "endlinecolor": "#2a3f5f",
             "gridcolor": "white",
             "linecolor": "white",
             "minorgridcolor": "white",
             "startlinecolor": "#2a3f5f"
            },
            "type": "carpet"
           }
          ],
          "choropleth": [
           {
            "colorbar": {
             "outlinewidth": 0,
             "ticks": ""
            },
            "type": "choropleth"
           }
          ],
          "contour": [
           {
            "colorbar": {
             "outlinewidth": 0,
             "ticks": ""
            },
            "colorscale": [
             [
              0,
              "#0d0887"
             ],
             [
              0.1111111111111111,
              "#46039f"
             ],
             [
              0.2222222222222222,
              "#7201a8"
             ],
             [
              0.3333333333333333,
              "#9c179e"
             ],
             [
              0.4444444444444444,
              "#bd3786"
             ],
             [
              0.5555555555555556,
              "#d8576b"
             ],
             [
              0.6666666666666666,
              "#ed7953"
             ],
             [
              0.7777777777777778,
              "#fb9f3a"
             ],
             [
              0.8888888888888888,
              "#fdca26"
             ],
             [
              1,
              "#f0f921"
             ]
            ],
            "type": "contour"
           }
          ],
          "contourcarpet": [
           {
            "colorbar": {
             "outlinewidth": 0,
             "ticks": ""
            },
            "type": "contourcarpet"
           }
          ],
          "heatmap": [
           {
            "colorbar": {
             "outlinewidth": 0,
             "ticks": ""
            },
            "colorscale": [
             [
              0,
              "#0d0887"
             ],
             [
              0.1111111111111111,
              "#46039f"
             ],
             [
              0.2222222222222222,
              "#7201a8"
             ],
             [
              0.3333333333333333,
              "#9c179e"
             ],
             [
              0.4444444444444444,
              "#bd3786"
             ],
             [
              0.5555555555555556,
              "#d8576b"
             ],
             [
              0.6666666666666666,
              "#ed7953"
             ],
             [
              0.7777777777777778,
              "#fb9f3a"
             ],
             [
              0.8888888888888888,
              "#fdca26"
             ],
             [
              1,
              "#f0f921"
             ]
            ],
            "type": "heatmap"
           }
          ],
          "heatmapgl": [
           {
            "colorbar": {
             "outlinewidth": 0,
             "ticks": ""
            },
            "colorscale": [
             [
              0,
              "#0d0887"
             ],
             [
              0.1111111111111111,
              "#46039f"
             ],
             [
              0.2222222222222222,
              "#7201a8"
             ],
             [
              0.3333333333333333,
              "#9c179e"
             ],
             [
              0.4444444444444444,
              "#bd3786"
             ],
             [
              0.5555555555555556,
              "#d8576b"
             ],
             [
              0.6666666666666666,
              "#ed7953"
             ],
             [
              0.7777777777777778,
              "#fb9f3a"
             ],
             [
              0.8888888888888888,
              "#fdca26"
             ],
             [
              1,
              "#f0f921"
             ]
            ],
            "type": "heatmapgl"
           }
          ],
          "histogram": [
           {
            "marker": {
             "pattern": {
              "fillmode": "overlay",
              "size": 10,
              "solidity": 0.2
             }
            },
            "type": "histogram"
           }
          ],
          "histogram2d": [
           {
            "colorbar": {
             "outlinewidth": 0,
             "ticks": ""
            },
            "colorscale": [
             [
              0,
              "#0d0887"
             ],
             [
              0.1111111111111111,
              "#46039f"
             ],
             [
              0.2222222222222222,
              "#7201a8"
             ],
             [
              0.3333333333333333,
              "#9c179e"
             ],
             [
              0.4444444444444444,
              "#bd3786"
             ],
             [
              0.5555555555555556,
              "#d8576b"
             ],
             [
              0.6666666666666666,
              "#ed7953"
             ],
             [
              0.7777777777777778,
              "#fb9f3a"
             ],
             [
              0.8888888888888888,
              "#fdca26"
             ],
             [
              1,
              "#f0f921"
             ]
            ],
            "type": "histogram2d"
           }
          ],
          "histogram2dcontour": [
           {
            "colorbar": {
             "outlinewidth": 0,
             "ticks": ""
            },
            "colorscale": [
             [
              0,
              "#0d0887"
             ],
             [
              0.1111111111111111,
              "#46039f"
             ],
             [
              0.2222222222222222,
              "#7201a8"
             ],
             [
              0.3333333333333333,
              "#9c179e"
             ],
             [
              0.4444444444444444,
              "#bd3786"
             ],
             [
              0.5555555555555556,
              "#d8576b"
             ],
             [
              0.6666666666666666,
              "#ed7953"
             ],
             [
              0.7777777777777778,
              "#fb9f3a"
             ],
             [
              0.8888888888888888,
              "#fdca26"
             ],
             [
              1,
              "#f0f921"
             ]
            ],
            "type": "histogram2dcontour"
           }
          ],
          "mesh3d": [
           {
            "colorbar": {
             "outlinewidth": 0,
             "ticks": ""
            },
            "type": "mesh3d"
           }
          ],
          "parcoords": [
           {
            "line": {
             "colorbar": {
              "outlinewidth": 0,
              "ticks": ""
             }
            },
            "type": "parcoords"
           }
          ],
          "pie": [
           {
            "automargin": true,
            "type": "pie"
           }
          ],
          "scatter": [
           {
            "fillpattern": {
             "fillmode": "overlay",
             "size": 10,
             "solidity": 0.2
            },
            "type": "scatter"
           }
          ],
          "scatter3d": [
           {
            "line": {
             "colorbar": {
              "outlinewidth": 0,
              "ticks": ""
             }
            },
            "marker": {
             "colorbar": {
              "outlinewidth": 0,
              "ticks": ""
             }
            },
            "type": "scatter3d"
           }
          ],
          "scattercarpet": [
           {
            "marker": {
             "colorbar": {
              "outlinewidth": 0,
              "ticks": ""
             }
            },
            "type": "scattercarpet"
           }
          ],
          "scattergeo": [
           {
            "marker": {
             "colorbar": {
              "outlinewidth": 0,
              "ticks": ""
             }
            },
            "type": "scattergeo"
           }
          ],
          "scattergl": [
           {
            "marker": {
             "colorbar": {
              "outlinewidth": 0,
              "ticks": ""
             }
            },
            "type": "scattergl"
           }
          ],
          "scattermapbox": [
           {
            "marker": {
             "colorbar": {
              "outlinewidth": 0,
              "ticks": ""
             }
            },
            "type": "scattermapbox"
           }
          ],
          "scatterpolar": [
           {
            "marker": {
             "colorbar": {
              "outlinewidth": 0,
              "ticks": ""
             }
            },
            "type": "scatterpolar"
           }
          ],
          "scatterpolargl": [
           {
            "marker": {
             "colorbar": {
              "outlinewidth": 0,
              "ticks": ""
             }
            },
            "type": "scatterpolargl"
           }
          ],
          "scatterternary": [
           {
            "marker": {
             "colorbar": {
              "outlinewidth": 0,
              "ticks": ""
             }
            },
            "type": "scatterternary"
           }
          ],
          "surface": [
           {
            "colorbar": {
             "outlinewidth": 0,
             "ticks": ""
            },
            "colorscale": [
             [
              0,
              "#0d0887"
             ],
             [
              0.1111111111111111,
              "#46039f"
             ],
             [
              0.2222222222222222,
              "#7201a8"
             ],
             [
              0.3333333333333333,
              "#9c179e"
             ],
             [
              0.4444444444444444,
              "#bd3786"
             ],
             [
              0.5555555555555556,
              "#d8576b"
             ],
             [
              0.6666666666666666,
              "#ed7953"
             ],
             [
              0.7777777777777778,
              "#fb9f3a"
             ],
             [
              0.8888888888888888,
              "#fdca26"
             ],
             [
              1,
              "#f0f921"
             ]
            ],
            "type": "surface"
           }
          ],
          "table": [
           {
            "cells": {
             "fill": {
              "color": "#EBF0F8"
             },
             "line": {
              "color": "white"
             }
            },
            "header": {
             "fill": {
              "color": "#C8D4E3"
             },
             "line": {
              "color": "white"
             }
            },
            "type": "table"
           }
          ]
         },
         "layout": {
          "annotationdefaults": {
           "arrowcolor": "#2a3f5f",
           "arrowhead": 0,
           "arrowwidth": 1
          },
          "autotypenumbers": "strict",
          "coloraxis": {
           "colorbar": {
            "outlinewidth": 0,
            "ticks": ""
           }
          },
          "colorscale": {
           "diverging": [
            [
             0,
             "#8e0152"
            ],
            [
             0.1,
             "#c51b7d"
            ],
            [
             0.2,
             "#de77ae"
            ],
            [
             0.3,
             "#f1b6da"
            ],
            [
             0.4,
             "#fde0ef"
            ],
            [
             0.5,
             "#f7f7f7"
            ],
            [
             0.6,
             "#e6f5d0"
            ],
            [
             0.7,
             "#b8e186"
            ],
            [
             0.8,
             "#7fbc41"
            ],
            [
             0.9,
             "#4d9221"
            ],
            [
             1,
             "#276419"
            ]
           ],
           "sequential": [
            [
             0,
             "#0d0887"
            ],
            [
             0.1111111111111111,
             "#46039f"
            ],
            [
             0.2222222222222222,
             "#7201a8"
            ],
            [
             0.3333333333333333,
             "#9c179e"
            ],
            [
             0.4444444444444444,
             "#bd3786"
            ],
            [
             0.5555555555555556,
             "#d8576b"
            ],
            [
             0.6666666666666666,
             "#ed7953"
            ],
            [
             0.7777777777777778,
             "#fb9f3a"
            ],
            [
             0.8888888888888888,
             "#fdca26"
            ],
            [
             1,
             "#f0f921"
            ]
           ],
           "sequentialminus": [
            [
             0,
             "#0d0887"
            ],
            [
             0.1111111111111111,
             "#46039f"
            ],
            [
             0.2222222222222222,
             "#7201a8"
            ],
            [
             0.3333333333333333,
             "#9c179e"
            ],
            [
             0.4444444444444444,
             "#bd3786"
            ],
            [
             0.5555555555555556,
             "#d8576b"
            ],
            [
             0.6666666666666666,
             "#ed7953"
            ],
            [
             0.7777777777777778,
             "#fb9f3a"
            ],
            [
             0.8888888888888888,
             "#fdca26"
            ],
            [
             1,
             "#f0f921"
            ]
           ]
          },
          "colorway": [
           "#636efa",
           "#EF553B",
           "#00cc96",
           "#ab63fa",
           "#FFA15A",
           "#19d3f3",
           "#FF6692",
           "#B6E880",
           "#FF97FF",
           "#FECB52"
          ],
          "font": {
           "color": "#2a3f5f"
          },
          "geo": {
           "bgcolor": "white",
           "lakecolor": "white",
           "landcolor": "#E5ECF6",
           "showlakes": true,
           "showland": true,
           "subunitcolor": "white"
          },
          "hoverlabel": {
           "align": "left"
          },
          "hovermode": "closest",
          "mapbox": {
           "style": "light"
          },
          "paper_bgcolor": "white",
          "plot_bgcolor": "#E5ECF6",
          "polar": {
           "angularaxis": {
            "gridcolor": "white",
            "linecolor": "white",
            "ticks": ""
           },
           "bgcolor": "#E5ECF6",
           "radialaxis": {
            "gridcolor": "white",
            "linecolor": "white",
            "ticks": ""
           }
          },
          "scene": {
           "xaxis": {
            "backgroundcolor": "#E5ECF6",
            "gridcolor": "white",
            "gridwidth": 2,
            "linecolor": "white",
            "showbackground": true,
            "ticks": "",
            "zerolinecolor": "white"
           },
           "yaxis": {
            "backgroundcolor": "#E5ECF6",
            "gridcolor": "white",
            "gridwidth": 2,
            "linecolor": "white",
            "showbackground": true,
            "ticks": "",
            "zerolinecolor": "white"
           },
           "zaxis": {
            "backgroundcolor": "#E5ECF6",
            "gridcolor": "white",
            "gridwidth": 2,
            "linecolor": "white",
            "showbackground": true,
            "ticks": "",
            "zerolinecolor": "white"
           }
          },
          "shapedefaults": {
           "line": {
            "color": "#2a3f5f"
           }
          },
          "ternary": {
           "aaxis": {
            "gridcolor": "white",
            "linecolor": "white",
            "ticks": ""
           },
           "baxis": {
            "gridcolor": "white",
            "linecolor": "white",
            "ticks": ""
           },
           "bgcolor": "#E5ECF6",
           "caxis": {
            "gridcolor": "white",
            "linecolor": "white",
            "ticks": ""
           }
          },
          "title": {
           "x": 0.05
          },
          "xaxis": {
           "automargin": true,
           "gridcolor": "white",
           "linecolor": "white",
           "ticks": "",
           "title": {
            "standoff": 15
           },
           "zerolinecolor": "white",
           "zerolinewidth": 2
          },
          "yaxis": {
           "automargin": true,
           "gridcolor": "white",
           "linecolor": "white",
           "ticks": "",
           "title": {
            "standoff": 15
           },
           "zerolinecolor": "white",
           "zerolinewidth": 2
          }
         }
        },
        "title": {
         "font": {
          "color": "Black",
          "size": 22
         },
         "text": "<b>Similarity Matrix</b>",
         "x": 0.55,
         "xanchor": "center",
         "y": 0.95,
         "yanchor": "top"
        },
        "width": 800,
        "xaxis": {
         "anchor": "y",
         "constrain": "domain",
         "domain": [
          0,
          1
         ],
         "scaleanchor": "y"
        },
        "yaxis": {
         "anchor": "x",
         "autorange": "reversed",
         "constrain": "domain",
         "domain": [
          0,
          1
         ]
        }
       }
      }
     },
     "metadata": {},
     "output_type": "display_data"
    }
   ],
   "source": [
    "topic_model.visualize_heatmap()"
   ]
  },
  {
   "cell_type": "code",
   "execution_count": 8,
   "metadata": {},
   "outputs": [
    {
     "name": "stderr",
     "output_type": "stream",
     "text": [
      "100%|██████████| 59/59 [00:00<00:00, 668.81it/s]\n"
     ]
    }
   ],
   "source": [
    "hierarchical_topics = topic_model.hierarchical_topics(processed_reviews)"
   ]
  },
  {
   "cell_type": "code",
   "execution_count": 9,
   "metadata": {},
   "outputs": [
    {
     "data": {
      "application/vnd.plotly.v1+json": {
       "config": {
        "plotlyServerURL": "https://plot.ly"
       },
       "data": [
        {
         "hoverinfo": "text",
         "marker": {
          "color": "rgb(61,153,112)"
         },
         "mode": "lines",
         "text": [
          "nice_thanks_neat_really_great",
          "",
          "",
          "nice_product_item_finish_color"
         ],
         "type": "scatter",
         "x": [
          0,
          0.23907335487661296,
          0.23907335487661296,
          0
         ],
         "xaxis": "x",
         "y": [
          -5,
          -5,
          -15,
          -15
         ],
         "yaxis": "y"
        },
        {
         "hoverinfo": "text",
         "marker": {
          "color": "rgb(255,65,54)"
         },
         "mode": "lines",
         "text": [
          "sturdy_nice_strong_construction_bracing",
          "",
          "",
          "sturdy_assemble_easy_strong_assembled"
         ],
         "type": "scatter",
         "x": [
          0,
          0.4985892005429413,
          0.4985892005429413,
          0
         ],
         "xaxis": "x",
         "y": [
          -25,
          -25,
          -35,
          -35
         ],
         "yaxis": "y"
        },
        {
         "hoverinfo": "text",
         "marker": {
          "color": "rgb(255,65,54)"
         },
         "mode": "lines",
         "text": [
          "assemble_storage_easy_sleek_quick",
          "",
          "",
          "assemble_easy_assembly_good_instructions"
         ],
         "type": "scatter",
         "x": [
          0,
          0.5621440555995738,
          0.5621440555995738,
          0
         ],
         "xaxis": "x",
         "y": [
          -45,
          -45,
          -55,
          -55
         ],
         "yaxis": "y"
        },
        {
         "hoverinfo": "text",
         "marker": {
          "color": "rgb(255,65,54)"
         },
         "mode": "lines",
         "text": [
          "looks_easy_set_contemporary_good",
          "",
          "",
          "install_build_installation_super_easy"
         ],
         "type": "scatter",
         "x": [
          0,
          0.7210714361963011,
          0.7210714361963011,
          0
         ],
         "xaxis": "x",
         "y": [
          -65,
          -65,
          -75,
          -75
         ],
         "yaxis": "y"
        },
        {
         "hoverinfo": "text",
         "marker": {
          "color": "rgb(255,65,54)"
         },
         "mode": "lines",
         "text": [
          "assemble_easy_assembly_good_looks",
          "",
          "",
          "install_easy_looks_build_super"
         ],
         "type": "scatter",
         "x": [
          0.5621440555995738,
          0.8323483064761924,
          0.8323483064761924,
          0.7210714361963011
         ],
         "xaxis": "x",
         "y": [
          -50,
          -50,
          -70,
          -70
         ],
         "yaxis": "y"
        },
        {
         "hoverinfo": "text",
         "marker": {
          "color": "rgb(255,65,54)"
         },
         "mode": "lines",
         "text": [
          "sturdy_strong_assemble_construction_easy",
          "",
          "",
          "assemble_easy_looks_assembly_good"
         ],
         "type": "scatter",
         "x": [
          0.4985892005429413,
          0.9594565067041825,
          0.9594565067041825,
          0.8323483064761924
         ],
         "xaxis": "x",
         "y": [
          -30,
          -30,
          -60,
          -60
         ],
         "yaxis": "y"
        },
        {
         "hoverinfo": "text",
         "marker": {
          "color": "rgb(255,65,54)"
         },
         "mode": "lines",
         "text": [
          "assemble_easy_sturdy_looks_good",
          "",
          "",
          "job_winner_easy_title_overwhelming"
         ],
         "type": "scatter",
         "x": [
          0.9594565067041825,
          0.9968706632389537,
          0.9968706632389537,
          0
         ],
         "xaxis": "x",
         "y": [
          -45,
          -45,
          -85,
          -85
         ],
         "yaxis": "y"
        },
        {
         "hoverinfo": "text",
         "marker": {
          "color": "rgb(0,116,217)"
         },
         "mode": "lines",
         "text": [
          "nice_thanks_product_item_neat",
          "",
          "",
          "assemble_easy_sturdy_looks_good"
         ],
         "type": "scatter",
         "x": [
          0.23907335487661296,
          1.3074162661036748,
          1.3074162661036748,
          0.9968706632389537
         ],
         "xaxis": "x",
         "y": [
          -10,
          -10,
          -65,
          -65
         ],
         "yaxis": "y"
        },
        {
         "hoverinfo": "text",
         "marker": {
          "color": "rgb(35,205,205)"
         },
         "mode": "lines",
         "text": [
          "good_ok_bad_say_like",
          "",
          "",
          "quality_good_price_reasonable_service"
         ],
         "type": "scatter",
         "x": [
          0,
          0.696259947348767,
          0.696259947348767,
          0
         ],
         "xaxis": "x",
         "y": [
          -105,
          -105,
          -115,
          -115
         ],
         "yaxis": "y"
        },
        {
         "hoverinfo": "text",
         "marker": {
          "color": "rgb(35,205,205)"
         },
         "mode": "lines",
         "text": [
          "value_money_good_price_multifunctional",
          "",
          "",
          "good_quality_price_reasonable_service"
         ],
         "type": "scatter",
         "x": [
          0,
          0.7963452200693228,
          0.7963452200693228,
          0.696259947348767
         ],
         "xaxis": "x",
         "y": [
          -95,
          -95,
          -110,
          -110
         ],
         "yaxis": "y"
        },
        {
         "hoverinfo": "text",
         "marker": {
          "color": "rgb(133,20,75)"
         },
         "mode": "lines",
         "text": [
          "product_good_price_fine_mr",
          "",
          "",
          "product_excellent_great_wounderful_solution"
         ],
         "type": "scatter",
         "x": [
          0,
          0.3463518731287446,
          0.3463518731287446,
          0
         ],
         "xaxis": "x",
         "y": [
          -125,
          -125,
          -135,
          -135
         ],
         "yaxis": "y"
        },
        {
         "hoverinfo": "text",
         "marker": {
          "color": "rgb(0,116,217)"
         },
         "mode": "lines",
         "text": [
          "good_quality_value_money_price",
          "",
          "",
          "product_good_excellent_great_price"
         ],
         "type": "scatter",
         "x": [
          0.7963452200693228,
          1.0119831241474613,
          1.0119831241474613,
          0.3463518731287446
         ],
         "xaxis": "x",
         "y": [
          -102.5,
          -102.5,
          -130,
          -130
         ],
         "yaxis": "y"
        },
        {
         "hoverinfo": "text",
         "marker": {
          "color": "rgb(255,220,0)"
         },
         "mode": "lines",
         "text": [
          "versatile_configurations_cookbooks_quite_versatility",
          "",
          "",
          "functional_multifunctional_predictably_minimal_seen"
         ],
         "type": "scatter",
         "x": [
          0,
          0.9723464794479031,
          0.9723464794479031,
          0
         ],
         "xaxis": "x",
         "y": [
          -145,
          -145,
          -155,
          -155
         ],
         "yaxis": "y"
        },
        {
         "hoverinfo": "text",
         "marker": {
          "color": "rgb(255,220,0)"
         },
         "mode": "lines",
         "text": [
          "unit_practical_units_toi_shell",
          "",
          "",
          "unit_storage_functional_great_saving"
         ],
         "type": "scatter",
         "x": [
          0,
          0.6053959752454623,
          0.6053959752454623,
          0
         ],
         "xaxis": "x",
         "y": [
          -165,
          -165,
          -175,
          -175
         ],
         "yaxis": "y"
        },
        {
         "hoverinfo": "text",
         "marker": {
          "color": "rgb(255,220,0)"
         },
         "mode": "lines",
         "text": [
          "unit_storage_great_practical_functional",
          "",
          "",
          "storage_options_solution_needs_efficient"
         ],
         "type": "scatter",
         "x": [
          0.6053959752454623,
          0.8063668650091917,
          0.8063668650091917,
          0
         ],
         "xaxis": "x",
         "y": [
          -170,
          -170,
          -185,
          -185
         ],
         "yaxis": "y"
        },
        {
         "hoverinfo": "text",
         "marker": {
          "color": "rgb(255,220,0)"
         },
         "mode": "lines",
         "text": [
          "storage_unit_great_needs_options",
          "",
          "",
          "excellent_great_awesome_fantastic_awful"
         ],
         "type": "scatter",
         "x": [
          0.8063668650091917,
          0.9190182265622671,
          0.9190182265622671,
          0
         ],
         "xaxis": "x",
         "y": [
          -177.5,
          -177.5,
          -195,
          -195
         ],
         "yaxis": "y"
        },
        {
         "hoverinfo": "text",
         "marker": {
          "color": "rgb(255,220,0)"
         },
         "mode": "lines",
         "text": [
          "functional_versatile_multifunctional_predictably_minimal",
          "",
          "",
          "storage_great_unit_excellent_fantastic"
         ],
         "type": "scatter",
         "x": [
          0.9723464794479031,
          0.98625184307668,
          0.98625184307668,
          0.9190182265622671
         ],
         "xaxis": "x",
         "y": [
          -150,
          -150,
          -186.25,
          -186.25
         ],
         "yaxis": "y"
        },
        {
         "hoverinfo": "text",
         "marker": {
          "color": "rgb(40,35,35)"
         },
         "mode": "lines",
         "text": [
          "happy_pleased_product_surprised_satisfied",
          "",
          "",
          "ago_month_happy_bought_weeks"
         ],
         "type": "scatter",
         "x": [
          0,
          0.6883706907854078,
          0.6883706907854078,
          0
         ],
         "xaxis": "x",
         "y": [
          -205,
          -205,
          -215,
          -215
         ],
         "yaxis": "y"
        },
        {
         "hoverinfo": "text",
         "marker": {
          "color": "rgb(40,35,35)"
         },
         "mode": "lines",
         "text": [
          "happy_ago_month_pleased_product",
          "",
          "",
          "boxes_cardboard_containers_cart_decorate"
         ],
         "type": "scatter",
         "x": [
          0.6883706907854078,
          0.8883155013919093,
          0.8883155013919093,
          0
         ],
         "xaxis": "x",
         "y": [
          -210,
          -210,
          -225,
          -225
         ],
         "yaxis": "y"
        },
        {
         "hoverinfo": "text",
         "marker": {
          "color": "rgb(0,116,217)"
         },
         "mode": "lines",
         "text": [
          "storage_functional_great_unit_versatile",
          "",
          "",
          "happy_ago_month_boxes_bought"
         ],
         "type": "scatter",
         "x": [
          0.98625184307668,
          1.124277588665217,
          1.124277588665217,
          0.8883155013919093
         ],
         "xaxis": "x",
         "y": [
          -168.125,
          -168.125,
          -217.5,
          -217.5
         ],
         "yaxis": "y"
        },
        {
         "hoverinfo": "text",
         "marker": {
          "color": "rgb(0,116,217)"
         },
         "mode": "lines",
         "text": [
          "good_product_quality_value_price",
          "",
          "",
          "happy_storage_functional_great_ago"
         ],
         "type": "scatter",
         "x": [
          1.0119831241474613,
          1.2841732492718585,
          1.2841732492718585,
          1.124277588665217
         ],
         "xaxis": "x",
         "y": [
          -116.25,
          -116.25,
          -192.8125,
          -192.8125
         ],
         "yaxis": "y"
        },
        {
         "hoverinfo": "text",
         "marker": {
          "color": "rgb(0,116,217)"
         },
         "mode": "lines",
         "text": [
          "assemble_easy_sturdy_looks_nice",
          "",
          "",
          "good_product_quality_excellent_great"
         ],
         "type": "scatter",
         "x": [
          1.3074162661036748,
          1.3325348979543834,
          1.3325348979543834,
          1.2841732492718585
         ],
         "xaxis": "x",
         "y": [
          -37.5,
          -37.5,
          -154.53125,
          -154.53125
         ],
         "yaxis": "y"
        },
        {
         "hoverinfo": "text",
         "marker": {
          "color": "rgb(61,153,112)"
         },
         "mode": "lines",
         "text": [
          "color_forever_available_hope_colour",
          "",
          "",
          "gloss_white_grey_high_color"
         ],
         "type": "scatter",
         "x": [
          0,
          0.7494661895511001,
          0.7494661895511001,
          0
         ],
         "xaxis": "x",
         "y": [
          -245,
          -245,
          -255,
          -255
         ],
         "yaxis": "y"
        },
        {
         "hoverinfo": "text",
         "marker": {
          "color": "rgb(61,153,112)"
         },
         "mode": "lines",
         "text": [
          "love_sturdiness_second_cute_ease",
          "",
          "",
          "gloss_color_white_grey_high"
         ],
         "type": "scatter",
         "x": [
          0,
          0.9277350733292913,
          0.9277350733292913,
          0.7494661895511001
         ],
         "xaxis": "x",
         "y": [
          -235,
          -235,
          -250,
          -250
         ],
         "yaxis": "y"
        },
        {
         "hoverinfo": "text",
         "marker": {
          "color": "rgb(255,65,54)"
         },
         "mode": "lines",
         "text": [
          "ikea_easiest_quality_furniture_products",
          "",
          "",
          "matching_ikea_shelves_shelf_best"
         ],
         "type": "scatter",
         "x": [
          0,
          0.7419224362424293,
          0.7419224362424293,
          0
         ],
         "xaxis": "x",
         "y": [
          -275,
          -275,
          -285,
          -285
         ],
         "yaxis": "y"
        },
        {
         "hoverinfo": "text",
         "marker": {
          "color": "rgb(255,65,54)"
         },
         "mode": "lines",
         "text": [
          "furniture_piece_affordable_steady_practical",
          "",
          "",
          "ikea_quality_furniture_easiest_matching"
         ],
         "type": "scatter",
         "x": [
          0,
          0.8024494859789674,
          0.8024494859789674,
          0.7419224362424293
         ],
         "xaxis": "x",
         "y": [
          -265,
          -265,
          -280,
          -280
         ],
         "yaxis": "y"
        },
        {
         "hoverinfo": "text",
         "marker": {
          "color": "rgb(255,65,54)"
         },
         "mode": "lines",
         "text": [
          "new_ikea_quality_version_disappointed",
          "",
          "",
          "holes_dowels_wooden_screws_wood"
         ],
         "type": "scatter",
         "x": [
          0,
          0.7054330667947518,
          0.7054330667947518,
          0
         ],
         "xaxis": "x",
         "y": [
          -295,
          -295,
          -305,
          -305
         ],
         "yaxis": "y"
        },
        {
         "hoverinfo": "text",
         "marker": {
          "color": "rgb(255,65,54)"
         },
         "mode": "lines",
         "text": [
          "furniture_ikea_piece_quality_best",
          "",
          "",
          "holes_dowels_wooden_ikea_wood"
         ],
         "type": "scatter",
         "x": [
          0.8024494859789674,
          0.9013715782975119,
          0.9013715782975119,
          0.7054330667947518
         ],
         "xaxis": "x",
         "y": [
          -272.5,
          -272.5,
          -300,
          -300
         ],
         "yaxis": "y"
        },
        {
         "hoverinfo": "text",
         "marker": {
          "color": "rgb(35,205,205)"
         },
         "mode": "lines",
         "text": [
          "ikea_doors_knobs_drawers_wood",
          "",
          "",
          "vertical_horizontal_vertically_horizontally_use"
         ],
         "type": "scatter",
         "x": [
          0,
          0.7157312410985193,
          0.7157312410985193,
          0
         ],
         "xaxis": "x",
         "y": [
          -325,
          -325,
          -335,
          -335
         ],
         "yaxis": "y"
        },
        {
         "hoverinfo": "text",
         "marker": {
          "color": "rgb(35,205,205)"
         },
         "mode": "lines",
         "text": [
          "tv_stand_use_using_perfect",
          "",
          "",
          "horizontal_vertical_vertically_horizontally_use"
         ],
         "type": "scatter",
         "x": [
          0,
          0.7561376586739622,
          0.7561376586739622,
          0.7157312410985193
         ],
         "xaxis": "x",
         "y": [
          -315,
          -315,
          -330,
          -330
         ],
         "yaxis": "y"
        },
        {
         "hoverinfo": "text",
         "marker": {
          "color": "rgb(35,205,205)"
         },
         "mode": "lines",
         "text": [
          "cubes_cube_storage_best_cubby",
          "",
          "",
          "vinyl_records_record_collection_albums"
         ],
         "type": "scatter",
         "x": [
          0,
          0.8600368640043562,
          0.8600368640043562,
          0
         ],
         "xaxis": "x",
         "y": [
          -345,
          -345,
          -355,
          -355
         ],
         "yaxis": "y"
        },
        {
         "hoverinfo": "text",
         "marker": {
          "color": "rgb(35,205,205)"
         },
         "mode": "lines",
         "text": [
          "tv_stand_use_horizontally_horizontal",
          "",
          "",
          "vinyl_records_record_collection_albums"
         ],
         "type": "scatter",
         "x": [
          0.7561376586739622,
          0.9424931714753702,
          0.9424931714753702,
          0.8600368640043562
         ],
         "xaxis": "x",
         "y": [
          -322.5,
          -322.5,
          -350,
          -350
         ],
         "yaxis": "y"
        },
        {
         "hoverinfo": "text",
         "marker": {
          "color": "rgb(0,116,217)"
         },
         "mode": "lines",
         "text": [
          "ikea_furniture_holes_piece_wooden",
          "",
          "",
          "tv_stand_vinyl_records_record"
         ],
         "type": "scatter",
         "x": [
          0.9013715782975119,
          1.0310521703665971,
          1.0310521703665971,
          0.9424931714753702
         ],
         "xaxis": "x",
         "y": [
          -286.25,
          -286.25,
          -336.25,
          -336.25
         ],
         "yaxis": "y"
        },
        {
         "hoverinfo": "text",
         "marker": {
          "color": "rgb(0,116,217)"
         },
         "mode": "lines",
         "text": [
          "gloss_color_white_grey_love",
          "",
          "",
          "tv_stand_ikea_vinyl_furniture"
         ],
         "type": "scatter",
         "x": [
          0.9277350733292913,
          1.087898194824407,
          1.087898194824407,
          1.0310521703665971
         ],
         "xaxis": "x",
         "y": [
          -242.5,
          -242.5,
          -311.25,
          -311.25
         ],
         "yaxis": "y"
        },
        {
         "hoverinfo": "text",
         "marker": {
          "color": "rgb(61,153,112)"
         },
         "mode": "lines",
         "text": [
          "kallax_love_delivery_versatile_product",
          "",
          "",
          "kallax_storage_units_dependable_solution"
         ],
         "type": "scatter",
         "x": [
          0,
          0.6161034907356101,
          0.6161034907356101,
          0
         ],
         "xaxis": "x",
         "y": [
          -375,
          -375,
          -385,
          -385
         ],
         "yaxis": "y"
        },
        {
         "hoverinfo": "text",
         "marker": {
          "color": "rgb(61,153,112)"
         },
         "mode": "lines",
         "text": [
          "fittings_kallax_assemble_allow_metal",
          "",
          "",
          "kallax_storage_love_versatile_units"
         ],
         "type": "scatter",
         "x": [
          0,
          0.7196578543609495,
          0.7196578543609495,
          0.6161034907356101
         ],
         "xaxis": "x",
         "y": [
          -365,
          -365,
          -380,
          -380
         ],
         "yaxis": "y"
        },
        {
         "hoverinfo": "text",
         "marker": {
          "color": "rgb(61,153,112)"
         },
         "mode": "lines",
         "text": [
          "shelf_shelving_shelves_unit_great",
          "",
          "",
          "kallax_shelf_shelves_shelving_unit"
         ],
         "type": "scatter",
         "x": [
          0,
          0.41279376136866464,
          0.41279376136866464,
          0
         ],
         "xaxis": "x",
         "y": [
          -395,
          -395,
          -405,
          -405
         ],
         "yaxis": "y"
        },
        {
         "hoverinfo": "text",
         "marker": {
          "color": "rgb(61,153,112)"
         },
         "mode": "lines",
         "text": [
          "shelf_shelving_shelves_unit_great",
          "",
          "",
          "kallax_studio_units_items_2x4"
         ],
         "type": "scatter",
         "x": [
          0.41279376136866464,
          0.643703975765764,
          0.643703975765764,
          0
         ],
         "xaxis": "x",
         "y": [
          -400,
          -400,
          -415,
          -415
         ],
         "yaxis": "y"
        },
        {
         "hoverinfo": "text",
         "marker": {
          "color": "rgb(61,153,112)"
         },
         "mode": "lines",
         "text": [
          "kallax_storage_love_units_versatile",
          "",
          "",
          "shelf_shelving_shelves_unit_kallax"
         ],
         "type": "scatter",
         "x": [
          0.7196578543609495,
          0.8319283749927378,
          0.8319283749927378,
          0.643703975765764
         ],
         "xaxis": "x",
         "y": [
          -372.5,
          -372.5,
          -407.5,
          -407.5
         ],
         "yaxis": "y"
        },
        {
         "hoverinfo": "text",
         "marker": {
          "color": "rgb(255,65,54)"
         },
         "mode": "lines",
         "text": [
          "bookcase_books_bookshelf_bookcases_desk",
          "",
          "",
          "bookcase_kallax_books_bookshelf_bookcases"
         ],
         "type": "scatter",
         "x": [
          0,
          0.49811114378864907,
          0.49811114378864907,
          0
         ],
         "xaxis": "x",
         "y": [
          -425,
          -425,
          -435,
          -435
         ],
         "yaxis": "y"
        },
        {
         "hoverinfo": "text",
         "marker": {
          "color": "rgb(0,116,217)"
         },
         "mode": "lines",
         "text": [
          "kallax_shelf_shelving_shelves_unit",
          "",
          "",
          "bookcase_books_bookshelf_bookcases_book"
         ],
         "type": "scatter",
         "x": [
          0.8319283749927378,
          1.0032229466577858,
          1.0032229466577858,
          0.49811114378864907
         ],
         "xaxis": "x",
         "y": [
          -390,
          -390,
          -430,
          -430
         ],
         "yaxis": "y"
        },
        {
         "hoverinfo": "text",
         "marker": {
          "color": "rgb(0,116,217)"
         },
         "mode": "lines",
         "text": [
          "tv_stand_ikea_vinyl_furniture",
          "",
          "",
          "kallax_shelf_shelving_shelves_unit"
         ],
         "type": "scatter",
         "x": [
          1.087898194824407,
          1.177160861935259,
          1.177160861935259,
          1.0032229466577858
         ],
         "xaxis": "x",
         "y": [
          -276.875,
          -276.875,
          -410,
          -410
         ],
         "yaxis": "y"
        },
        {
         "hoverinfo": "text",
         "marker": {
          "color": "rgb(35,205,205)"
         },
         "mode": "lines",
         "text": [
          "cutting_table_sewing_base_plywood",
          "",
          "",
          "sewing_fabric_room_knitting_yarn"
         ],
         "type": "scatter",
         "x": [
          0,
          0.6910808316999082,
          0.6910808316999082,
          0
         ],
         "xaxis": "x",
         "y": [
          -445,
          -445,
          -455,
          -455
         ],
         "yaxis": "y"
        },
        {
         "hoverinfo": "text",
         "marker": {
          "color": "rgb(133,20,75)"
         },
         "mode": "lines",
         "text": [
          "craft_room_certain_craftroom_im",
          "",
          "",
          "craft_room_kallax_calm_change"
         ],
         "type": "scatter",
         "x": [
          0,
          0.6640885428476242,
          0.6640885428476242,
          0
         ],
         "xaxis": "x",
         "y": [
          -475,
          -475,
          -485,
          -485
         ],
         "yaxis": "y"
        },
        {
         "hoverinfo": "text",
         "marker": {
          "color": "rgb(133,20,75)"
         },
         "mode": "lines",
         "text": [
          "craft_room_dorm_shelving_shelf",
          "",
          "",
          "craft_room_kallax_craftroom_units"
         ],
         "type": "scatter",
         "x": [
          0,
          0.7017092510487002,
          0.7017092510487002,
          0.6640885428476242
         ],
         "xaxis": "x",
         "y": [
          -465,
          -465,
          -480,
          -480
         ],
         "yaxis": "y"
        },
        {
         "hoverinfo": "text",
         "marker": {
          "color": "rgb(0,116,217)"
         },
         "mode": "lines",
         "text": [
          "sewing_cutting_table_fabric_room",
          "",
          "",
          "craft_room_kallax_craftroom_units"
         ],
         "type": "scatter",
         "x": [
          0.6910808316999082,
          1.0919203941249038,
          1.0919203941249038,
          0.7017092510487002
         ],
         "xaxis": "x",
         "y": [
          -450,
          -450,
          -472.5,
          -472.5
         ],
         "yaxis": "y"
        },
        {
         "hoverinfo": "text",
         "marker": {
          "color": "rgb(255,220,0)"
         },
         "mode": "lines",
         "text": [
          "daughter_kids_room_rooms_play",
          "",
          "",
          "assemble_living_room_organiser_transformed"
         ],
         "type": "scatter",
         "x": [
          0,
          0.6108090827999844,
          0.6108090827999844,
          0
         ],
         "xaxis": "x",
         "y": [
          -505,
          -505,
          -515,
          -515
         ],
         "yaxis": "y"
        },
        {
         "hoverinfo": "text",
         "marker": {
          "color": "rgb(255,220,0)"
         },
         "mode": "lines",
         "text": [
          "bedroom_room_living_addition_bomb",
          "",
          "",
          "daughter_kids_room_perfect_living"
         ],
         "type": "scatter",
         "x": [
          0,
          0.7350931788889119,
          0.7350931788889119,
          0.6108090827999844
         ],
         "xaxis": "x",
         "y": [
          -495,
          -495,
          -510,
          -510
         ],
         "yaxis": "y"
        },
        {
         "hoverinfo": "text",
         "marker": {
          "color": "rgb(255,220,0)"
         },
         "mode": "lines",
         "text": [
          "books_toys_daughters_kids_playroom",
          "",
          "",
          "toy_toys_kid_kids_storage"
         ],
         "type": "scatter",
         "x": [
          0,
          0.5494664607528368,
          0.5494664607528368,
          0
         ],
         "xaxis": "x",
         "y": [
          -525,
          -525,
          -535,
          -535
         ],
         "yaxis": "y"
        },
        {
         "hoverinfo": "text",
         "marker": {
          "color": "rgb(255,220,0)"
         },
         "mode": "lines",
         "text": [
          "room_daughter_kids_living_bedroom",
          "",
          "",
          "toys_toy_books_kids_kid"
         ],
         "type": "scatter",
         "x": [
          0.7350931788889119,
          0.9860963255705922,
          0.9860963255705922,
          0.5494664607528368
         ],
         "xaxis": "x",
         "y": [
          -502.5,
          -502.5,
          -530,
          -530
         ],
         "yaxis": "y"
        },
        {
         "hoverinfo": "text",
         "marker": {
          "color": "rgb(0,116,217)"
         },
         "mode": "lines",
         "text": [
          "sewing_craft_room_table_cutting",
          "",
          "",
          "toys_toy_kids_room_daughter"
         ],
         "type": "scatter",
         "x": [
          1.0919203941249038,
          1.2312131387557042,
          1.2312131387557042,
          0.9860963255705922
         ],
         "xaxis": "x",
         "y": [
          -461.25,
          -461.25,
          -516.25,
          -516.25
         ],
         "yaxis": "y"
        },
        {
         "hoverinfo": "text",
         "marker": {
          "color": "rgb(40,35,35)"
         },
         "mode": "lines",
         "text": [
          "closet_kallax_linen_fit_clothes",
          "",
          "",
          "closet_clothes_organizer_perfect_walk"
         ],
         "type": "scatter",
         "x": [
          0,
          0.4810340521666674,
          0.4810340521666674,
          0
         ],
         "xaxis": "x",
         "y": [
          -545,
          -545,
          -555,
          -555
         ],
         "yaxis": "y"
        },
        {
         "hoverinfo": "text",
         "marker": {
          "color": "rgb(61,153,112)"
         },
         "mode": "lines",
         "text": [
          "fits_space_suits_perfect_fit",
          "",
          "",
          "perfect_4x3kallax_versitile_exactly_perfects"
         ],
         "type": "scatter",
         "x": [
          0,
          0.744634528505677,
          0.744634528505677,
          0
         ],
         "xaxis": "x",
         "y": [
          -565,
          -565,
          -575,
          -575
         ],
         "yaxis": "y"
        },
        {
         "hoverinfo": "text",
         "marker": {
          "color": "rgb(61,153,112)"
         },
         "mode": "lines",
         "text": [
          "works_exactly_needed_purpose_wanted",
          "",
          "",
          "expected_expectations_meets_exactly_expectation"
         ],
         "type": "scatter",
         "x": [
          0,
          0.7794240861860651,
          0.7794240861860651,
          0
         ],
         "xaxis": "x",
         "y": [
          -585,
          -585,
          -595,
          -595
         ],
         "yaxis": "y"
        },
        {
         "hoverinfo": "text",
         "marker": {
          "color": "rgb(61,153,112)"
         },
         "mode": "lines",
         "text": [
          "perfect_fits_space_suits_fit",
          "",
          "",
          "works_expected_exactly_needed_meets"
         ],
         "type": "scatter",
         "x": [
          0.744634528505677,
          0.9710810706314668,
          0.9710810706314668,
          0.7794240861860651
         ],
         "xaxis": "x",
         "y": [
          -570,
          -570,
          -590,
          -590
         ],
         "yaxis": "y"
        },
        {
         "hoverinfo": "text",
         "marker": {
          "color": "rgb(0,116,217)"
         },
         "mode": "lines",
         "text": [
          "closet_clothes_organizer_perfect_walk",
          "",
          "",
          "perfect_exactly_works_expected_fits"
         ],
         "type": "scatter",
         "x": [
          0.4810340521666674,
          1.1351770033738435,
          1.1351770033738435,
          0.9710810706314668
         ],
         "xaxis": "x",
         "y": [
          -550,
          -550,
          -580,
          -580
         ],
         "yaxis": "y"
        },
        {
         "hoverinfo": "text",
         "marker": {
          "color": "rgb(0,116,217)"
         },
         "mode": "lines",
         "text": [
          "toys_room_sewing_toy_craft",
          "",
          "",
          "closet_perfect_clothes_exactly_works"
         ],
         "type": "scatter",
         "x": [
          1.2312131387557042,
          1.270378767403591,
          1.270378767403591,
          1.1351770033738435
         ],
         "xaxis": "x",
         "y": [
          -488.75,
          -488.75,
          -565,
          -565
         ],
         "yaxis": "y"
        },
        {
         "hoverinfo": "text",
         "marker": {
          "color": "rgb(0,116,217)"
         },
         "mode": "lines",
         "text": [
          "kallax_shelf_tv_love_unit",
          "",
          "",
          "closet_perfect_room_toys_works"
         ],
         "type": "scatter",
         "x": [
          1.177160861935259,
          1.4697522172564246,
          1.4697522172564246,
          1.270378767403591
         ],
         "xaxis": "x",
         "y": [
          -343.4375,
          -343.4375,
          -526.875,
          -526.875
         ],
         "yaxis": "y"
        },
        {
         "hoverinfo": "text",
         "marker": {
          "color": "rgb(0,116,217)"
         },
         "mode": "lines",
         "text": [
          "good_product_easy_assemble_great",
          "",
          "",
          "kallax_shelf_love_perfect_great"
         ],
         "type": "scatter",
         "x": [
          1.3325348979543834,
          1.6262652424276418,
          1.6262652424276418,
          1.4697522172564246
         ],
         "xaxis": "x",
         "y": [
          -96.015625,
          -96.015625,
          -435.15625,
          -435.15625
         ],
         "yaxis": "y"
        },
        {
         "hoverinfo": "text",
         "hovertext": [
          "assemble_easy_assembly_good_looks",
          "sturdy_strong_assemble_construction_easy",
          "assemble_easy_sturdy_looks_good",
          "nice_thanks_product_item_neat",
          "good_quality_value_money_price",
          "unit_storage_great_practical_functional",
          "storage_unit_great_needs_options",
          "functional_versatile_multifunctional_predictably_minimal",
          "happy_ago_month_pleased_product",
          "storage_functional_great_unit_versatile",
          "good_product_quality_value_price",
          "assemble_easy_sturdy_looks_nice",
          "furniture_ikea_piece_quality_best",
          "tv_stand_use_horizontally_horizontal",
          "ikea_furniture_holes_piece_wooden",
          "gloss_color_white_grey_love",
          "shelf_shelving_shelves_unit_great",
          "kallax_storage_love_units_versatile",
          "kallax_shelf_shelving_shelves_unit",
          "tv_stand_ikea_vinyl_furniture",
          "sewing_cutting_table_fabric_room",
          "room_daughter_kids_living_bedroom",
          "sewing_craft_room_table_cutting",
          "perfect_fits_space_suits_fit",
          "closet_clothes_organizer_perfect_walk",
          "toys_room_sewing_toy_craft",
          "kallax_shelf_tv_love_unit",
          "good_product_easy_assemble_great"
         ],
         "marker": {
          "color": "black"
         },
         "mode": "markers",
         "showlegend": false,
         "type": "scatter",
         "x": [
          0.5621440555995738,
          0.4985892005429413,
          0.9594565067041825,
          0.23907335487661296,
          0.7963452200693228,
          0.6053959752454623,
          0.8063668650091917,
          0.9723464794479031,
          0.6883706907854078,
          0.98625184307668,
          1.0119831241474613,
          1.3074162661036748,
          0.8024494859789674,
          0.7561376586739622,
          0.9013715782975119,
          0.9277350733292913,
          0.41279376136866464,
          0.7196578543609495,
          0.8319283749927378,
          1.087898194824407,
          0.6910808316999082,
          0.7350931788889119,
          1.0919203941249038,
          0.744634528505677,
          0.4810340521666674,
          1.2312131387557042,
          1.177160861935259,
          1.3325348979543834
         ],
         "y": [
          -50,
          -30,
          -45,
          -10,
          -102.5,
          -170,
          -177.5,
          -150,
          -210,
          -168.125,
          -116.25,
          -37.5,
          -272.5,
          -322.5,
          -286.25,
          -242.5,
          -400,
          -372.5,
          -390,
          -276.875,
          -450,
          -502.5,
          -461.25,
          -570,
          -550,
          -488.75,
          -343.4375,
          -96.015625
         ]
        },
        {
         "hoverinfo": "text",
         "hovertext": [
          "install_easy_looks_build_super",
          "assemble_easy_looks_assembly_good",
          "assemble_easy_sturdy_looks_good",
          "good_quality_price_reasonable_service",
          "product_good_excellent_great_price",
          "storage_great_unit_excellent_fantastic",
          "happy_ago_month_boxes_bought",
          "happy_storage_functional_great_ago",
          "good_product_quality_excellent_great",
          "gloss_color_white_grey_high",
          "ikea_quality_furniture_easiest_matching",
          "holes_dowels_wooden_ikea_wood",
          "horizontal_vertical_vertically_horizontally_use",
          "vinyl_records_record_collection_albums",
          "tv_stand_vinyl_records_record",
          "tv_stand_ikea_vinyl_furniture",
          "kallax_storage_love_versatile_units",
          "shelf_shelving_shelves_unit_kallax",
          "bookcase_books_bookshelf_bookcases_book",
          "kallax_shelf_shelving_shelves_unit",
          "craft_room_kallax_craftroom_units",
          "craft_room_kallax_craftroom_units",
          "daughter_kids_room_perfect_living",
          "toys_toy_books_kids_kid",
          "toys_toy_kids_room_daughter",
          "works_expected_exactly_needed_meets",
          "perfect_exactly_works_expected_fits",
          "closet_perfect_clothes_exactly_works",
          "closet_perfect_room_toys_works",
          "kallax_shelf_love_perfect_great"
         ],
         "marker": {
          "color": "black"
         },
         "mode": "markers",
         "showlegend": false,
         "type": "scatter",
         "x": [
          0.7210714361963011,
          0.8323483064761924,
          0.9968706632389537,
          0.696259947348767,
          0.3463518731287446,
          0.9190182265622671,
          0.8883155013919093,
          1.124277588665217,
          1.2841732492718585,
          0.7494661895511001,
          0.7419224362424293,
          0.7054330667947518,
          0.7157312410985193,
          0.8600368640043562,
          0.9424931714753702,
          1.0310521703665971,
          0.6161034907356101,
          0.643703975765764,
          0.49811114378864907,
          1.0032229466577858,
          0.6640885428476242,
          0.7017092510487002,
          0.6108090827999844,
          0.5494664607528368,
          0.9860963255705922,
          0.7794240861860651,
          0.9710810706314668,
          1.1351770033738435,
          1.270378767403591,
          1.4697522172564246
         ],
         "y": [
          -70,
          -60,
          -65,
          -110,
          -130,
          -186.25,
          -217.5,
          -192.8125,
          -154.53125,
          -250,
          -280,
          -300,
          -330,
          -350,
          -336.25,
          -311.25,
          -380,
          -407.5,
          -430,
          -410,
          -480,
          -472.5,
          -510,
          -530,
          -516.25,
          -590,
          -580,
          -565,
          -526.875,
          -435.15625
         ]
        }
       ],
       "layout": {
        "autosize": false,
        "height": 1100,
        "hoverlabel": {
         "bgcolor": "white",
         "font": {
          "family": "Rockwell",
          "size": 16
         }
        },
        "hovermode": "closest",
        "plot_bgcolor": "#ECEFF1",
        "showlegend": false,
        "template": {
         "data": {
          "bar": [
           {
            "error_x": {
             "color": "#2a3f5f"
            },
            "error_y": {
             "color": "#2a3f5f"
            },
            "marker": {
             "line": {
              "color": "white",
              "width": 0.5
             },
             "pattern": {
              "fillmode": "overlay",
              "size": 10,
              "solidity": 0.2
             }
            },
            "type": "bar"
           }
          ],
          "barpolar": [
           {
            "marker": {
             "line": {
              "color": "white",
              "width": 0.5
             },
             "pattern": {
              "fillmode": "overlay",
              "size": 10,
              "solidity": 0.2
             }
            },
            "type": "barpolar"
           }
          ],
          "carpet": [
           {
            "aaxis": {
             "endlinecolor": "#2a3f5f",
             "gridcolor": "#C8D4E3",
             "linecolor": "#C8D4E3",
             "minorgridcolor": "#C8D4E3",
             "startlinecolor": "#2a3f5f"
            },
            "baxis": {
             "endlinecolor": "#2a3f5f",
             "gridcolor": "#C8D4E3",
             "linecolor": "#C8D4E3",
             "minorgridcolor": "#C8D4E3",
             "startlinecolor": "#2a3f5f"
            },
            "type": "carpet"
           }
          ],
          "choropleth": [
           {
            "colorbar": {
             "outlinewidth": 0,
             "ticks": ""
            },
            "type": "choropleth"
           }
          ],
          "contour": [
           {
            "colorbar": {
             "outlinewidth": 0,
             "ticks": ""
            },
            "colorscale": [
             [
              0,
              "#0d0887"
             ],
             [
              0.1111111111111111,
              "#46039f"
             ],
             [
              0.2222222222222222,
              "#7201a8"
             ],
             [
              0.3333333333333333,
              "#9c179e"
             ],
             [
              0.4444444444444444,
              "#bd3786"
             ],
             [
              0.5555555555555556,
              "#d8576b"
             ],
             [
              0.6666666666666666,
              "#ed7953"
             ],
             [
              0.7777777777777778,
              "#fb9f3a"
             ],
             [
              0.8888888888888888,
              "#fdca26"
             ],
             [
              1,
              "#f0f921"
             ]
            ],
            "type": "contour"
           }
          ],
          "contourcarpet": [
           {
            "colorbar": {
             "outlinewidth": 0,
             "ticks": ""
            },
            "type": "contourcarpet"
           }
          ],
          "heatmap": [
           {
            "colorbar": {
             "outlinewidth": 0,
             "ticks": ""
            },
            "colorscale": [
             [
              0,
              "#0d0887"
             ],
             [
              0.1111111111111111,
              "#46039f"
             ],
             [
              0.2222222222222222,
              "#7201a8"
             ],
             [
              0.3333333333333333,
              "#9c179e"
             ],
             [
              0.4444444444444444,
              "#bd3786"
             ],
             [
              0.5555555555555556,
              "#d8576b"
             ],
             [
              0.6666666666666666,
              "#ed7953"
             ],
             [
              0.7777777777777778,
              "#fb9f3a"
             ],
             [
              0.8888888888888888,
              "#fdca26"
             ],
             [
              1,
              "#f0f921"
             ]
            ],
            "type": "heatmap"
           }
          ],
          "heatmapgl": [
           {
            "colorbar": {
             "outlinewidth": 0,
             "ticks": ""
            },
            "colorscale": [
             [
              0,
              "#0d0887"
             ],
             [
              0.1111111111111111,
              "#46039f"
             ],
             [
              0.2222222222222222,
              "#7201a8"
             ],
             [
              0.3333333333333333,
              "#9c179e"
             ],
             [
              0.4444444444444444,
              "#bd3786"
             ],
             [
              0.5555555555555556,
              "#d8576b"
             ],
             [
              0.6666666666666666,
              "#ed7953"
             ],
             [
              0.7777777777777778,
              "#fb9f3a"
             ],
             [
              0.8888888888888888,
              "#fdca26"
             ],
             [
              1,
              "#f0f921"
             ]
            ],
            "type": "heatmapgl"
           }
          ],
          "histogram": [
           {
            "marker": {
             "pattern": {
              "fillmode": "overlay",
              "size": 10,
              "solidity": 0.2
             }
            },
            "type": "histogram"
           }
          ],
          "histogram2d": [
           {
            "colorbar": {
             "outlinewidth": 0,
             "ticks": ""
            },
            "colorscale": [
             [
              0,
              "#0d0887"
             ],
             [
              0.1111111111111111,
              "#46039f"
             ],
             [
              0.2222222222222222,
              "#7201a8"
             ],
             [
              0.3333333333333333,
              "#9c179e"
             ],
             [
              0.4444444444444444,
              "#bd3786"
             ],
             [
              0.5555555555555556,
              "#d8576b"
             ],
             [
              0.6666666666666666,
              "#ed7953"
             ],
             [
              0.7777777777777778,
              "#fb9f3a"
             ],
             [
              0.8888888888888888,
              "#fdca26"
             ],
             [
              1,
              "#f0f921"
             ]
            ],
            "type": "histogram2d"
           }
          ],
          "histogram2dcontour": [
           {
            "colorbar": {
             "outlinewidth": 0,
             "ticks": ""
            },
            "colorscale": [
             [
              0,
              "#0d0887"
             ],
             [
              0.1111111111111111,
              "#46039f"
             ],
             [
              0.2222222222222222,
              "#7201a8"
             ],
             [
              0.3333333333333333,
              "#9c179e"
             ],
             [
              0.4444444444444444,
              "#bd3786"
             ],
             [
              0.5555555555555556,
              "#d8576b"
             ],
             [
              0.6666666666666666,
              "#ed7953"
             ],
             [
              0.7777777777777778,
              "#fb9f3a"
             ],
             [
              0.8888888888888888,
              "#fdca26"
             ],
             [
              1,
              "#f0f921"
             ]
            ],
            "type": "histogram2dcontour"
           }
          ],
          "mesh3d": [
           {
            "colorbar": {
             "outlinewidth": 0,
             "ticks": ""
            },
            "type": "mesh3d"
           }
          ],
          "parcoords": [
           {
            "line": {
             "colorbar": {
              "outlinewidth": 0,
              "ticks": ""
             }
            },
            "type": "parcoords"
           }
          ],
          "pie": [
           {
            "automargin": true,
            "type": "pie"
           }
          ],
          "scatter": [
           {
            "fillpattern": {
             "fillmode": "overlay",
             "size": 10,
             "solidity": 0.2
            },
            "type": "scatter"
           }
          ],
          "scatter3d": [
           {
            "line": {
             "colorbar": {
              "outlinewidth": 0,
              "ticks": ""
             }
            },
            "marker": {
             "colorbar": {
              "outlinewidth": 0,
              "ticks": ""
             }
            },
            "type": "scatter3d"
           }
          ],
          "scattercarpet": [
           {
            "marker": {
             "colorbar": {
              "outlinewidth": 0,
              "ticks": ""
             }
            },
            "type": "scattercarpet"
           }
          ],
          "scattergeo": [
           {
            "marker": {
             "colorbar": {
              "outlinewidth": 0,
              "ticks": ""
             }
            },
            "type": "scattergeo"
           }
          ],
          "scattergl": [
           {
            "marker": {
             "colorbar": {
              "outlinewidth": 0,
              "ticks": ""
             }
            },
            "type": "scattergl"
           }
          ],
          "scattermapbox": [
           {
            "marker": {
             "colorbar": {
              "outlinewidth": 0,
              "ticks": ""
             }
            },
            "type": "scattermapbox"
           }
          ],
          "scatterpolar": [
           {
            "marker": {
             "colorbar": {
              "outlinewidth": 0,
              "ticks": ""
             }
            },
            "type": "scatterpolar"
           }
          ],
          "scatterpolargl": [
           {
            "marker": {
             "colorbar": {
              "outlinewidth": 0,
              "ticks": ""
             }
            },
            "type": "scatterpolargl"
           }
          ],
          "scatterternary": [
           {
            "marker": {
             "colorbar": {
              "outlinewidth": 0,
              "ticks": ""
             }
            },
            "type": "scatterternary"
           }
          ],
          "surface": [
           {
            "colorbar": {
             "outlinewidth": 0,
             "ticks": ""
            },
            "colorscale": [
             [
              0,
              "#0d0887"
             ],
             [
              0.1111111111111111,
              "#46039f"
             ],
             [
              0.2222222222222222,
              "#7201a8"
             ],
             [
              0.3333333333333333,
              "#9c179e"
             ],
             [
              0.4444444444444444,
              "#bd3786"
             ],
             [
              0.5555555555555556,
              "#d8576b"
             ],
             [
              0.6666666666666666,
              "#ed7953"
             ],
             [
              0.7777777777777778,
              "#fb9f3a"
             ],
             [
              0.8888888888888888,
              "#fdca26"
             ],
             [
              1,
              "#f0f921"
             ]
            ],
            "type": "surface"
           }
          ],
          "table": [
           {
            "cells": {
             "fill": {
              "color": "#EBF0F8"
             },
             "line": {
              "color": "white"
             }
            },
            "header": {
             "fill": {
              "color": "#C8D4E3"
             },
             "line": {
              "color": "white"
             }
            },
            "type": "table"
           }
          ]
         },
         "layout": {
          "annotationdefaults": {
           "arrowcolor": "#2a3f5f",
           "arrowhead": 0,
           "arrowwidth": 1
          },
          "autotypenumbers": "strict",
          "coloraxis": {
           "colorbar": {
            "outlinewidth": 0,
            "ticks": ""
           }
          },
          "colorscale": {
           "diverging": [
            [
             0,
             "#8e0152"
            ],
            [
             0.1,
             "#c51b7d"
            ],
            [
             0.2,
             "#de77ae"
            ],
            [
             0.3,
             "#f1b6da"
            ],
            [
             0.4,
             "#fde0ef"
            ],
            [
             0.5,
             "#f7f7f7"
            ],
            [
             0.6,
             "#e6f5d0"
            ],
            [
             0.7,
             "#b8e186"
            ],
            [
             0.8,
             "#7fbc41"
            ],
            [
             0.9,
             "#4d9221"
            ],
            [
             1,
             "#276419"
            ]
           ],
           "sequential": [
            [
             0,
             "#0d0887"
            ],
            [
             0.1111111111111111,
             "#46039f"
            ],
            [
             0.2222222222222222,
             "#7201a8"
            ],
            [
             0.3333333333333333,
             "#9c179e"
            ],
            [
             0.4444444444444444,
             "#bd3786"
            ],
            [
             0.5555555555555556,
             "#d8576b"
            ],
            [
             0.6666666666666666,
             "#ed7953"
            ],
            [
             0.7777777777777778,
             "#fb9f3a"
            ],
            [
             0.8888888888888888,
             "#fdca26"
            ],
            [
             1,
             "#f0f921"
            ]
           ],
           "sequentialminus": [
            [
             0,
             "#0d0887"
            ],
            [
             0.1111111111111111,
             "#46039f"
            ],
            [
             0.2222222222222222,
             "#7201a8"
            ],
            [
             0.3333333333333333,
             "#9c179e"
            ],
            [
             0.4444444444444444,
             "#bd3786"
            ],
            [
             0.5555555555555556,
             "#d8576b"
            ],
            [
             0.6666666666666666,
             "#ed7953"
            ],
            [
             0.7777777777777778,
             "#fb9f3a"
            ],
            [
             0.8888888888888888,
             "#fdca26"
            ],
            [
             1,
             "#f0f921"
            ]
           ]
          },
          "colorway": [
           "#636efa",
           "#EF553B",
           "#00cc96",
           "#ab63fa",
           "#FFA15A",
           "#19d3f3",
           "#FF6692",
           "#B6E880",
           "#FF97FF",
           "#FECB52"
          ],
          "font": {
           "color": "#2a3f5f"
          },
          "geo": {
           "bgcolor": "white",
           "lakecolor": "white",
           "landcolor": "white",
           "showlakes": true,
           "showland": true,
           "subunitcolor": "#C8D4E3"
          },
          "hoverlabel": {
           "align": "left"
          },
          "hovermode": "closest",
          "mapbox": {
           "style": "light"
          },
          "paper_bgcolor": "white",
          "plot_bgcolor": "white",
          "polar": {
           "angularaxis": {
            "gridcolor": "#EBF0F8",
            "linecolor": "#EBF0F8",
            "ticks": ""
           },
           "bgcolor": "white",
           "radialaxis": {
            "gridcolor": "#EBF0F8",
            "linecolor": "#EBF0F8",
            "ticks": ""
           }
          },
          "scene": {
           "xaxis": {
            "backgroundcolor": "white",
            "gridcolor": "#DFE8F3",
            "gridwidth": 2,
            "linecolor": "#EBF0F8",
            "showbackground": true,
            "ticks": "",
            "zerolinecolor": "#EBF0F8"
           },
           "yaxis": {
            "backgroundcolor": "white",
            "gridcolor": "#DFE8F3",
            "gridwidth": 2,
            "linecolor": "#EBF0F8",
            "showbackground": true,
            "ticks": "",
            "zerolinecolor": "#EBF0F8"
           },
           "zaxis": {
            "backgroundcolor": "white",
            "gridcolor": "#DFE8F3",
            "gridwidth": 2,
            "linecolor": "#EBF0F8",
            "showbackground": true,
            "ticks": "",
            "zerolinecolor": "#EBF0F8"
           }
          },
          "shapedefaults": {
           "line": {
            "color": "#2a3f5f"
           }
          },
          "ternary": {
           "aaxis": {
            "gridcolor": "#DFE8F3",
            "linecolor": "#A2B1C6",
            "ticks": ""
           },
           "baxis": {
            "gridcolor": "#DFE8F3",
            "linecolor": "#A2B1C6",
            "ticks": ""
           },
           "bgcolor": "white",
           "caxis": {
            "gridcolor": "#DFE8F3",
            "linecolor": "#A2B1C6",
            "ticks": ""
           }
          },
          "title": {
           "x": 0.05
          },
          "xaxis": {
           "automargin": true,
           "gridcolor": "#EBF0F8",
           "linecolor": "#EBF0F8",
           "ticks": "",
           "title": {
            "standoff": 15
           },
           "zerolinecolor": "#EBF0F8",
           "zerolinewidth": 2
          },
          "yaxis": {
           "automargin": true,
           "gridcolor": "#EBF0F8",
           "linecolor": "#EBF0F8",
           "ticks": "",
           "title": {
            "standoff": 15
           },
           "zerolinecolor": "#EBF0F8",
           "zerolinewidth": 2
          }
         }
        },
        "title": {
         "font": {
          "color": "Black",
          "size": 22
         },
         "text": "<b>Hierarchical Clustering</b>",
         "x": 0.5,
         "xanchor": "center",
         "yanchor": "top"
        },
        "width": 1000,
        "xaxis": {
         "mirror": "allticks",
         "rangemode": "tozero",
         "showgrid": false,
         "showline": true,
         "showticklabels": true,
         "ticks": "outside",
         "type": "linear",
         "zeroline": false
        },
        "yaxis": {
         "mirror": "allticks",
         "range": [
          -600,
          0
         ],
         "rangemode": "tozero",
         "showgrid": false,
         "showline": true,
         "showticklabels": true,
         "tickmode": "array",
         "ticks": "outside",
         "ticktext": [
          "56_nice_thanks_neat",
          "58_nice_product_item",
          "16_sturdy_nice_strong",
          "33_sturdy_assemble_easy",
          "38_assemble_storage_easy",
          "2_assemble_easy_assembly",
          "22_looks_easy_set",
          "34_install_build_installation",
          "51_job_winner_easy",
          "28_value_money_good",
          "21_good_ok_bad",
          "13_quality_good_price",
          "31_product_good_price",
          "27_product_excellent_great",
          "52_versatile_configurations...",
          "57_functional_multifunction...",
          "42_unit_practical_units",
          "49_unit_storage_functional",
          "11_storage_options_solution",
          "26_excellent_great_awesome",
          "40_happy_pleased_product",
          "41_ago_month_happy",
          "54_boxes_cardboard_containers",
          "18_love_sturdiness_second",
          "45_color_forever_available",
          "10_gloss_white_grey",
          "20_furniture_piece_affordable",
          "24_ikea_easiest_quality",
          "59_matching_ikea_shelves",
          "43_new_ikea_quality",
          "8_holes_dowels_wooden",
          "1_tv_stand_use",
          "47_ikea_doors_knobs",
          "14_vertical_horizontal_vert...",
          "25_cubes_cube_storage",
          "7_vinyl_records_record",
          "30_fittings_kallax_assemble",
          "4_kallax_love_delivery",
          "15_kallax_storage_units",
          "0_shelf_shelving_shelves",
          "6_kallax_shelf_shelves",
          "19_kallax_studio_units",
          "5_bookcase_books_bookshelf",
          "37_bookcase_kallax_books",
          "46_cutting_table_sewing",
          "35_sewing_fabric_room",
          "50_craft_room_dorm",
          "39_craft_room_certain",
          "44_craft_room_kallax",
          "29_bedroom_room_living",
          "23_daughter_kids_room",
          "48_assemble_living_room",
          "32_books_toys_daughters",
          "9_toy_toys_kid",
          "53_closet_kallax_linen",
          "3_closet_clothes_organizer",
          "17_fits_space_suits",
          "36_perfect_4x3kallax_versit...",
          "12_works_exactly_needed",
          "55_expected_expectations_me..."
         ],
         "tickvals": [
          -5,
          -15,
          -25,
          -35,
          -45,
          -55,
          -65,
          -75,
          -85,
          -95,
          -105,
          -115,
          -125,
          -135,
          -145,
          -155,
          -165,
          -175,
          -185,
          -195,
          -205,
          -215,
          -225,
          -235,
          -245,
          -255,
          -265,
          -275,
          -285,
          -295,
          -305,
          -315,
          -325,
          -335,
          -345,
          -355,
          -365,
          -375,
          -385,
          -395,
          -405,
          -415,
          -425,
          -435,
          -445,
          -455,
          -465,
          -475,
          -485,
          -495,
          -505,
          -515,
          -525,
          -535,
          -545,
          -555,
          -565,
          -575,
          -585,
          -595
         ],
         "type": "linear",
         "zeroline": false
        }
       }
      }
     },
     "metadata": {},
     "output_type": "display_data"
    }
   ],
   "source": [
    "topic_model.visualize_hierarchy(hierarchical_topics=hierarchical_topics)"
   ]
  },
  {
   "cell_type": "code",
   "execution_count": 10,
   "metadata": {},
   "outputs": [],
   "source": [
    "# topic_model.visualize_topics_over_time(topics_over_time, top_n_topics=10)"
   ]
  },
  {
   "cell_type": "code",
   "execution_count": 11,
   "metadata": {},
   "outputs": [
    {
     "name": "stdout",
     "output_type": "stream",
     "text": [
      ".\n",
      "├─good_product_easy_assemble_great\n",
      "│    ├─assemble_easy_sturdy_looks_nice\n",
      "│    │    ├─nice_thanks_product_item_neat\n",
      "│    │    │    ├─■──nice_thanks_neat_really_great ── Topic: 56\n",
      "│    │    │    └─■──nice_product_item_finish_color ── Topic: 58\n",
      "│    │    └─assemble_easy_sturdy_looks_good\n",
      "│    │         ├─assemble_easy_sturdy_looks_good\n",
      "│    │         │    ├─sturdy_strong_assemble_construction_easy\n",
      "│    │         │    │    ├─■──sturdy_nice_strong_construction_bracing ── Topic: 16\n",
      "│    │         │    │    └─■──sturdy_assemble_easy_strong_assembled ── Topic: 33\n",
      "│    │         │    └─assemble_easy_looks_assembly_good\n",
      "│    │         │         ├─assemble_easy_assembly_good_looks\n",
      "│    │         │         │    ├─■──assemble_storage_easy_sleek_quick ── Topic: 38\n",
      "│    │         │         │    └─■──assemble_easy_assembly_good_instructions ── Topic: 2\n",
      "│    │         │         └─install_easy_looks_build_super\n",
      "│    │         │              ├─■──looks_easy_set_contemporary_good ── Topic: 22\n",
      "│    │         │              └─■──install_build_installation_super_easy ── Topic: 34\n",
      "│    │         └─■──job_winner_easy_title_overwhelming ── Topic: 51\n",
      "│    └─good_product_quality_excellent_great\n",
      "│         ├─good_product_quality_value_price\n",
      "│         │    ├─good_quality_value_money_price\n",
      "│         │    │    ├─■──value_money_good_price_multifunctional ── Topic: 28\n",
      "│         │    │    └─good_quality_price_reasonable_service\n",
      "│         │    │         ├─■──good_ok_bad_say_like ── Topic: 21\n",
      "│         │    │         └─■──quality_good_price_reasonable_service ── Topic: 13\n",
      "│         │    └─product_good_excellent_great_price\n",
      "│         │         ├─■──product_good_price_fine_mr ── Topic: 31\n",
      "│         │         └─■──product_excellent_great_wounderful_solution ── Topic: 27\n",
      "│         └─happy_storage_functional_great_ago\n",
      "│              ├─storage_functional_great_unit_versatile\n",
      "│              │    ├─functional_versatile_multifunctional_predictably_minimal\n",
      "│              │    │    ├─■──versatile_configurations_cookbooks_quite_versatility ── Topic: 52\n",
      "│              │    │    └─■──functional_multifunctional_predictably_minimal_seen ── Topic: 57\n",
      "│              │    └─storage_great_unit_excellent_fantastic\n",
      "│              │         ├─storage_unit_great_needs_options\n",
      "│              │         │    ├─unit_storage_great_practical_functional\n",
      "│              │         │    │    ├─■──unit_practical_units_toi_shell ── Topic: 42\n",
      "│              │         │    │    └─■──unit_storage_functional_great_saving ── Topic: 49\n",
      "│              │         │    └─■──storage_options_solution_needs_efficient ── Topic: 11\n",
      "│              │         └─■──excellent_great_awesome_fantastic_awful ── Topic: 26\n",
      "│              └─happy_ago_month_boxes_bought\n",
      "│                   ├─happy_ago_month_pleased_product\n",
      "│                   │    ├─■──happy_pleased_product_surprised_satisfied ── Topic: 40\n",
      "│                   │    └─■──ago_month_happy_bought_weeks ── Topic: 41\n",
      "│                   └─■──boxes_cardboard_containers_cart_decorate ── Topic: 54\n",
      "└─kallax_shelf_love_perfect_great\n",
      "     ├─kallax_shelf_tv_love_unit\n",
      "     │    ├─tv_stand_ikea_vinyl_furniture\n",
      "     │    │    ├─gloss_color_white_grey_love\n",
      "     │    │    │    ├─■──love_sturdiness_second_cute_ease ── Topic: 18\n",
      "     │    │    │    └─gloss_color_white_grey_high\n",
      "     │    │    │         ├─■──color_forever_available_hope_colour ── Topic: 45\n",
      "     │    │    │         └─■──gloss_white_grey_high_color ── Topic: 10\n",
      "     │    │    └─tv_stand_ikea_vinyl_furniture\n",
      "     │    │         ├─ikea_furniture_holes_piece_wooden\n",
      "     │    │         │    ├─furniture_ikea_piece_quality_best\n",
      "     │    │         │    │    ├─■──furniture_piece_affordable_steady_practical ── Topic: 20\n",
      "     │    │         │    │    └─ikea_quality_furniture_easiest_matching\n",
      "     │    │         │    │         ├─■──ikea_easiest_quality_furniture_products ── Topic: 24\n",
      "     │    │         │    │         └─■──matching_ikea_shelves_shelf_best ── Topic: 59\n",
      "     │    │         │    └─holes_dowels_wooden_ikea_wood\n",
      "     │    │         │         ├─■──new_ikea_quality_version_disappointed ── Topic: 43\n",
      "     │    │         │         └─■──holes_dowels_wooden_screws_wood ── Topic: 8\n",
      "     │    │         └─tv_stand_vinyl_records_record\n",
      "     │    │              ├─tv_stand_use_horizontally_horizontal\n",
      "     │    │              │    ├─■──tv_stand_use_using_perfect ── Topic: 1\n",
      "     │    │              │    └─horizontal_vertical_vertically_horizontally_use\n",
      "     │    │              │         ├─■──ikea_doors_knobs_drawers_wood ── Topic: 47\n",
      "     │    │              │         └─■──vertical_horizontal_vertically_horizontally_use ── Topic: 14\n",
      "     │    │              └─vinyl_records_record_collection_albums\n",
      "     │    │                   ├─■──cubes_cube_storage_best_cubby ── Topic: 25\n",
      "     │    │                   └─■──vinyl_records_record_collection_albums ── Topic: 7\n",
      "     │    └─kallax_shelf_shelving_shelves_unit\n",
      "     │         ├─kallax_shelf_shelving_shelves_unit\n",
      "     │         │    ├─kallax_storage_love_units_versatile\n",
      "     │         │    │    ├─■──fittings_kallax_assemble_allow_metal ── Topic: 30\n",
      "     │         │    │    └─kallax_storage_love_versatile_units\n",
      "     │         │    │         ├─■──kallax_love_delivery_versatile_product ── Topic: 4\n",
      "     │         │    │         └─■──kallax_storage_units_dependable_solution ── Topic: 15\n",
      "     │         │    └─shelf_shelving_shelves_unit_kallax\n",
      "     │         │         ├─shelf_shelving_shelves_unit_great\n",
      "     │         │         │    ├─■──shelf_shelving_shelves_unit_great ── Topic: 0\n",
      "     │         │         │    └─■──kallax_shelf_shelves_shelving_unit ── Topic: 6\n",
      "     │         │         └─■──kallax_studio_units_items_2x4 ── Topic: 19\n",
      "     │         └─bookcase_books_bookshelf_bookcases_book\n",
      "     │              ├─■──bookcase_books_bookshelf_bookcases_desk ── Topic: 5\n",
      "     │              └─■──bookcase_kallax_books_bookshelf_bookcases ── Topic: 37\n",
      "     └─closet_perfect_room_toys_works\n",
      "          ├─toys_room_sewing_toy_craft\n",
      "          │    ├─sewing_craft_room_table_cutting\n",
      "          │    │    ├─sewing_cutting_table_fabric_room\n",
      "          │    │    │    ├─■──cutting_table_sewing_base_plywood ── Topic: 46\n",
      "          │    │    │    └─■──sewing_fabric_room_knitting_yarn ── Topic: 35\n",
      "          │    │    └─craft_room_kallax_craftroom_units\n",
      "          │    │         ├─■──craft_room_dorm_shelving_shelf ── Topic: 50\n",
      "          │    │         └─craft_room_kallax_craftroom_units\n",
      "          │    │              ├─■──craft_room_certain_craftroom_im ── Topic: 39\n",
      "          │    │              └─■──craft_room_kallax_calm_change ── Topic: 44\n",
      "          │    └─toys_toy_kids_room_daughter\n",
      "          │         ├─room_daughter_kids_living_bedroom\n",
      "          │         │    ├─■──bedroom_room_living_addition_bomb ── Topic: 29\n",
      "          │         │    └─daughter_kids_room_perfect_living\n",
      "          │         │         ├─■──daughter_kids_room_rooms_play ── Topic: 23\n",
      "          │         │         └─■──assemble_living_room_organiser_transformed ── Topic: 48\n",
      "          │         └─toys_toy_books_kids_kid\n",
      "          │              ├─■──books_toys_daughters_kids_playroom ── Topic: 32\n",
      "          │              └─■──toy_toys_kid_kids_storage ── Topic: 9\n",
      "          └─closet_perfect_clothes_exactly_works\n",
      "               ├─closet_clothes_organizer_perfect_walk\n",
      "               │    ├─■──closet_kallax_linen_fit_clothes ── Topic: 53\n",
      "               │    └─■──closet_clothes_organizer_perfect_walk ── Topic: 3\n",
      "               └─perfect_exactly_works_expected_fits\n",
      "                    ├─perfect_fits_space_suits_fit\n",
      "                    │    ├─■──fits_space_suits_perfect_fit ── Topic: 17\n",
      "                    │    └─■──perfect_4x3kallax_versitile_exactly_perfects ── Topic: 36\n",
      "                    └─works_expected_exactly_needed_meets\n",
      "                         ├─■──works_exactly_needed_purpose_wanted ── Topic: 12\n",
      "                         └─■──expected_expectations_meets_exactly_expectation ── Topic: 55\n",
      "\n"
     ]
    }
   ],
   "source": [
    "tree = topic_model.get_topic_tree(hierarchical_topics)\n",
    "print(tree)"
   ]
  },
  {
   "cell_type": "code",
   "execution_count": 12,
   "metadata": {},
   "outputs": [
    {
     "data": {
      "text/html": [
       "<div>\n",
       "<style scoped>\n",
       "    .dataframe tbody tr th:only-of-type {\n",
       "        vertical-align: middle;\n",
       "    }\n",
       "\n",
       "    .dataframe tbody tr th {\n",
       "        vertical-align: top;\n",
       "    }\n",
       "\n",
       "    .dataframe thead th {\n",
       "        text-align: right;\n",
       "    }\n",
       "</style>\n",
       "<table border=\"1\" class=\"dataframe\">\n",
       "  <thead>\n",
       "    <tr style=\"text-align: right;\">\n",
       "      <th></th>\n",
       "      <th>Parent_ID</th>\n",
       "      <th>Parent_Name</th>\n",
       "      <th>Topics</th>\n",
       "      <th>Child_Left_ID</th>\n",
       "      <th>Child_Left_Name</th>\n",
       "      <th>Child_Right_ID</th>\n",
       "      <th>Child_Right_Name</th>\n",
       "      <th>Distance</th>\n",
       "    </tr>\n",
       "  </thead>\n",
       "  <tbody>\n",
       "    <tr>\n",
       "      <th>58</th>\n",
       "      <td>118</td>\n",
       "      <td>great_easy_good_kallax_love</td>\n",
       "      <td>[0, 1, 2, 3, 4, 5, 6, 7, 8, 9, 10, 11, 12, 13,...</td>\n",
       "      <td>116</td>\n",
       "      <td>good_product_easy_assemble_great</td>\n",
       "      <td>117</td>\n",
       "      <td>kallax_shelf_love_perfect_great</td>\n",
       "      <td>1.626265</td>\n",
       "    </tr>\n",
       "    <tr>\n",
       "      <th>57</th>\n",
       "      <td>117</td>\n",
       "      <td>kallax_shelf_love_perfect_great</td>\n",
       "      <td>[0, 1, 3, 4, 5, 6, 7, 8, 9, 10, 12, 14, 15, 17...</td>\n",
       "      <td>111</td>\n",
       "      <td>kallax_shelf_tv_love_unit</td>\n",
       "      <td>113</td>\n",
       "      <td>closet_perfect_room_toys_works</td>\n",
       "      <td>1.469752</td>\n",
       "    </tr>\n",
       "    <tr>\n",
       "      <th>56</th>\n",
       "      <td>116</td>\n",
       "      <td>good_product_easy_assemble_great</td>\n",
       "      <td>[2, 11, 13, 16, 21, 22, 26, 27, 28, 31, 33, 34...</td>\n",
       "      <td>115</td>\n",
       "      <td>assemble_easy_sturdy_looks_nice</td>\n",
       "      <td>114</td>\n",
       "      <td>good_product_quality_excellent_great</td>\n",
       "      <td>1.332535</td>\n",
       "    </tr>\n",
       "    <tr>\n",
       "      <th>55</th>\n",
       "      <td>115</td>\n",
       "      <td>assemble_easy_sturdy_looks_nice</td>\n",
       "      <td>[2, 16, 22, 33, 34, 38, 51, 56, 58]</td>\n",
       "      <td>60</td>\n",
       "      <td>nice_thanks_product_item_neat</td>\n",
       "      <td>103</td>\n",
       "      <td>assemble_easy_sturdy_looks_good</td>\n",
       "      <td>1.307416</td>\n",
       "    </tr>\n",
       "    <tr>\n",
       "      <th>54</th>\n",
       "      <td>114</td>\n",
       "      <td>good_product_quality_excellent_great</td>\n",
       "      <td>[11, 13, 21, 26, 27, 28, 31, 40, 41, 42, 49, 5...</td>\n",
       "      <td>105</td>\n",
       "      <td>good_product_quality_value_price</td>\n",
       "      <td>109</td>\n",
       "      <td>happy_storage_functional_great_ago</td>\n",
       "      <td>1.284173</td>\n",
       "    </tr>\n",
       "    <tr>\n",
       "      <th>53</th>\n",
       "      <td>113</td>\n",
       "      <td>closet_perfect_room_toys_works</td>\n",
       "      <td>[3, 9, 12, 17, 23, 29, 32, 35, 36, 39, 44, 46,...</td>\n",
       "      <td>112</td>\n",
       "      <td>toys_room_sewing_toy_craft</td>\n",
       "      <td>110</td>\n",
       "      <td>closet_perfect_clothes_exactly_works</td>\n",
       "      <td>1.270379</td>\n",
       "    </tr>\n",
       "    <tr>\n",
       "      <th>52</th>\n",
       "      <td>112</td>\n",
       "      <td>toys_room_sewing_toy_craft</td>\n",
       "      <td>[9, 23, 29, 32, 35, 39, 44, 46, 48, 50]</td>\n",
       "      <td>108</td>\n",
       "      <td>sewing_craft_room_table_cutting</td>\n",
       "      <td>101</td>\n",
       "      <td>toys_toy_kids_room_daughter</td>\n",
       "      <td>1.231213</td>\n",
       "    </tr>\n",
       "    <tr>\n",
       "      <th>51</th>\n",
       "      <td>111</td>\n",
       "      <td>kallax_shelf_tv_love_unit</td>\n",
       "      <td>[0, 1, 4, 5, 6, 7, 8, 10, 14, 15, 18, 19, 20, ...</td>\n",
       "      <td>107</td>\n",
       "      <td>tv_stand_ikea_vinyl_furniture</td>\n",
       "      <td>104</td>\n",
       "      <td>kallax_shelf_shelving_shelves_unit</td>\n",
       "      <td>1.177161</td>\n",
       "    </tr>\n",
       "    <tr>\n",
       "      <th>50</th>\n",
       "      <td>110</td>\n",
       "      <td>closet_perfect_clothes_exactly_works</td>\n",
       "      <td>[3, 12, 17, 36, 53, 55]</td>\n",
       "      <td>63</td>\n",
       "      <td>closet_clothes_organizer_perfect_walk</td>\n",
       "      <td>99</td>\n",
       "      <td>perfect_exactly_works_expected_fits</td>\n",
       "      <td>1.135177</td>\n",
       "    </tr>\n",
       "    <tr>\n",
       "      <th>49</th>\n",
       "      <td>109</td>\n",
       "      <td>happy_storage_functional_great_ago</td>\n",
       "      <td>[11, 26, 40, 41, 42, 49, 52, 54, 57]</td>\n",
       "      <td>102</td>\n",
       "      <td>storage_functional_great_unit_versatile</td>\n",
       "      <td>93</td>\n",
       "      <td>happy_ago_month_boxes_bought</td>\n",
       "      <td>1.124278</td>\n",
       "    </tr>\n",
       "    <tr>\n",
       "      <th>48</th>\n",
       "      <td>108</td>\n",
       "      <td>sewing_craft_room_table_cutting</td>\n",
       "      <td>[35, 39, 44, 46, 50]</td>\n",
       "      <td>74</td>\n",
       "      <td>sewing_cutting_table_fabric_room</td>\n",
       "      <td>76</td>\n",
       "      <td>craft_room_kallax_craftroom_units</td>\n",
       "      <td>1.091920</td>\n",
       "    </tr>\n",
       "    <tr>\n",
       "      <th>47</th>\n",
       "      <td>107</td>\n",
       "      <td>tv_stand_ikea_vinyl_furniture</td>\n",
       "      <td>[1, 7, 8, 10, 14, 18, 20, 24, 25, 43, 45, 47, 59]</td>\n",
       "      <td>96</td>\n",
       "      <td>gloss_color_white_grey_love</td>\n",
       "      <td>106</td>\n",
       "      <td>tv_stand_ikea_vinyl_furniture</td>\n",
       "      <td>1.087898</td>\n",
       "    </tr>\n",
       "    <tr>\n",
       "      <th>46</th>\n",
       "      <td>106</td>\n",
       "      <td>tv_stand_ikea_vinyl_furniture</td>\n",
       "      <td>[1, 7, 8, 14, 20, 24, 25, 43, 47, 59]</td>\n",
       "      <td>94</td>\n",
       "      <td>ikea_furniture_holes_piece_wooden</td>\n",
       "      <td>97</td>\n",
       "      <td>tv_stand_vinyl_records_record</td>\n",
       "      <td>1.031052</td>\n",
       "    </tr>\n",
       "    <tr>\n",
       "      <th>45</th>\n",
       "      <td>105</td>\n",
       "      <td>good_product_quality_value_price</td>\n",
       "      <td>[13, 21, 27, 28, 31]</td>\n",
       "      <td>87</td>\n",
       "      <td>good_quality_value_money_price</td>\n",
       "      <td>61</td>\n",
       "      <td>product_good_excellent_great_price</td>\n",
       "      <td>1.011983</td>\n",
       "    </tr>\n",
       "    <tr>\n",
       "      <th>44</th>\n",
       "      <td>104</td>\n",
       "      <td>kallax_shelf_shelving_shelves_unit</td>\n",
       "      <td>[0, 4, 5, 6, 15, 19, 30, 37]</td>\n",
       "      <td>90</td>\n",
       "      <td>kallax_shelf_shelving_shelves_unit</td>\n",
       "      <td>64</td>\n",
       "      <td>bookcase_books_bookshelf_bookcases_book</td>\n",
       "      <td>1.003223</td>\n",
       "    </tr>\n",
       "    <tr>\n",
       "      <th>43</th>\n",
       "      <td>103</td>\n",
       "      <td>assemble_easy_sturdy_looks_good</td>\n",
       "      <td>[2, 16, 22, 33, 34, 38, 51]</td>\n",
       "      <td>98</td>\n",
       "      <td>assemble_easy_sturdy_looks_good</td>\n",
       "      <td>51</td>\n",
       "      <td>job_winner_easy_title_overwhelming</td>\n",
       "      <td>0.996871</td>\n",
       "    </tr>\n",
       "    <tr>\n",
       "      <th>42</th>\n",
       "      <td>102</td>\n",
       "      <td>storage_functional_great_unit_versatile</td>\n",
       "      <td>[11, 26, 42, 49, 52, 57]</td>\n",
       "      <td>100</td>\n",
       "      <td>functional_versatile_multifunctional_predictab...</td>\n",
       "      <td>95</td>\n",
       "      <td>storage_great_unit_excellent_fantastic</td>\n",
       "      <td>0.986252</td>\n",
       "    </tr>\n",
       "    <tr>\n",
       "      <th>41</th>\n",
       "      <td>101</td>\n",
       "      <td>toys_toy_kids_room_daughter</td>\n",
       "      <td>[9, 23, 29, 32, 48]</td>\n",
       "      <td>81</td>\n",
       "      <td>room_daughter_kids_living_bedroom</td>\n",
       "      <td>66</td>\n",
       "      <td>toys_toy_books_kids_kid</td>\n",
       "      <td>0.986096</td>\n",
       "    </tr>\n",
       "    <tr>\n",
       "      <th>40</th>\n",
       "      <td>100</td>\n",
       "      <td>functional_versatile_multifunctional_predictab...</td>\n",
       "      <td>[52, 57]</td>\n",
       "      <td>52</td>\n",
       "      <td>versatile_configurations_cookbooks_quite_versa...</td>\n",
       "      <td>57</td>\n",
       "      <td>functional_multifunctional_predictably_minimal...</td>\n",
       "      <td>0.972346</td>\n",
       "    </tr>\n",
       "    <tr>\n",
       "      <th>39</th>\n",
       "      <td>99</td>\n",
       "      <td>perfect_exactly_works_expected_fits</td>\n",
       "      <td>[12, 17, 36, 55]</td>\n",
       "      <td>83</td>\n",
       "      <td>perfect_fits_space_suits_fit</td>\n",
       "      <td>86</td>\n",
       "      <td>works_expected_exactly_needed_meets</td>\n",
       "      <td>0.971081</td>\n",
       "    </tr>\n",
       "    <tr>\n",
       "      <th>38</th>\n",
       "      <td>98</td>\n",
       "      <td>assemble_easy_sturdy_looks_good</td>\n",
       "      <td>[2, 16, 22, 33, 34, 38]</td>\n",
       "      <td>65</td>\n",
       "      <td>sturdy_strong_assemble_construction_easy</td>\n",
       "      <td>91</td>\n",
       "      <td>assemble_easy_looks_assembly_good</td>\n",
       "      <td>0.959457</td>\n",
       "    </tr>\n",
       "    <tr>\n",
       "      <th>37</th>\n",
       "      <td>97</td>\n",
       "      <td>tv_stand_vinyl_records_record</td>\n",
       "      <td>[1, 7, 14, 25, 47]</td>\n",
       "      <td>85</td>\n",
       "      <td>tv_stand_use_horizontally_horizontal</td>\n",
       "      <td>92</td>\n",
       "      <td>vinyl_records_record_collection_albums</td>\n",
       "      <td>0.942493</td>\n",
       "    </tr>\n",
       "    <tr>\n",
       "      <th>36</th>\n",
       "      <td>96</td>\n",
       "      <td>gloss_color_white_grey_love</td>\n",
       "      <td>[10, 18, 45]</td>\n",
       "      <td>18</td>\n",
       "      <td>love_sturdiness_second_cute_ease</td>\n",
       "      <td>84</td>\n",
       "      <td>gloss_color_white_grey_high</td>\n",
       "      <td>0.927735</td>\n",
       "    </tr>\n",
       "    <tr>\n",
       "      <th>35</th>\n",
       "      <td>95</td>\n",
       "      <td>storage_great_unit_excellent_fantastic</td>\n",
       "      <td>[11, 26, 42, 49]</td>\n",
       "      <td>89</td>\n",
       "      <td>storage_unit_great_needs_options</td>\n",
       "      <td>26</td>\n",
       "      <td>excellent_great_awesome_fantastic_awful</td>\n",
       "      <td>0.919018</td>\n",
       "    </tr>\n",
       "    <tr>\n",
       "      <th>34</th>\n",
       "      <td>94</td>\n",
       "      <td>ikea_furniture_holes_piece_wooden</td>\n",
       "      <td>[8, 20, 24, 43, 59]</td>\n",
       "      <td>88</td>\n",
       "      <td>furniture_ikea_piece_quality_best</td>\n",
       "      <td>77</td>\n",
       "      <td>holes_dowels_wooden_ikea_wood</td>\n",
       "      <td>0.901372</td>\n",
       "    </tr>\n",
       "    <tr>\n",
       "      <th>33</th>\n",
       "      <td>93</td>\n",
       "      <td>happy_ago_month_boxes_bought</td>\n",
       "      <td>[40, 41, 54]</td>\n",
       "      <td>73</td>\n",
       "      <td>happy_ago_month_pleased_product</td>\n",
       "      <td>54</td>\n",
       "      <td>boxes_cardboard_containers_cart_decorate</td>\n",
       "      <td>0.888316</td>\n",
       "    </tr>\n",
       "    <tr>\n",
       "      <th>32</th>\n",
       "      <td>92</td>\n",
       "      <td>vinyl_records_record_collection_albums</td>\n",
       "      <td>[7, 25]</td>\n",
       "      <td>25</td>\n",
       "      <td>cubes_cube_storage_best_cubby</td>\n",
       "      <td>7</td>\n",
       "      <td>vinyl_records_record_collection_albums</td>\n",
       "      <td>0.860037</td>\n",
       "    </tr>\n",
       "    <tr>\n",
       "      <th>31</th>\n",
       "      <td>91</td>\n",
       "      <td>assemble_easy_looks_assembly_good</td>\n",
       "      <td>[2, 22, 34, 38]</td>\n",
       "      <td>67</td>\n",
       "      <td>assemble_easy_assembly_good_looks</td>\n",
       "      <td>80</td>\n",
       "      <td>install_easy_looks_build_super</td>\n",
       "      <td>0.832348</td>\n",
       "    </tr>\n",
       "    <tr>\n",
       "      <th>30</th>\n",
       "      <td>90</td>\n",
       "      <td>kallax_shelf_shelving_shelves_unit</td>\n",
       "      <td>[0, 4, 6, 15, 19, 30]</td>\n",
       "      <td>79</td>\n",
       "      <td>kallax_storage_love_units_versatile</td>\n",
       "      <td>71</td>\n",
       "      <td>shelf_shelving_shelves_unit_kallax</td>\n",
       "      <td>0.831928</td>\n",
       "    </tr>\n",
       "    <tr>\n",
       "      <th>29</th>\n",
       "      <td>89</td>\n",
       "      <td>storage_unit_great_needs_options</td>\n",
       "      <td>[11, 42, 49]</td>\n",
       "      <td>68</td>\n",
       "      <td>unit_storage_great_practical_functional</td>\n",
       "      <td>11</td>\n",
       "      <td>storage_options_solution_needs_efficient</td>\n",
       "      <td>0.806367</td>\n",
       "    </tr>\n",
       "    <tr>\n",
       "      <th>28</th>\n",
       "      <td>88</td>\n",
       "      <td>furniture_ikea_piece_quality_best</td>\n",
       "      <td>[20, 24, 59]</td>\n",
       "      <td>20</td>\n",
       "      <td>furniture_piece_affordable_steady_practical</td>\n",
       "      <td>82</td>\n",
       "      <td>ikea_quality_furniture_easiest_matching</td>\n",
       "      <td>0.802449</td>\n",
       "    </tr>\n",
       "    <tr>\n",
       "      <th>27</th>\n",
       "      <td>87</td>\n",
       "      <td>good_quality_value_money_price</td>\n",
       "      <td>[13, 21, 28]</td>\n",
       "      <td>28</td>\n",
       "      <td>value_money_good_price_multifunctional</td>\n",
       "      <td>75</td>\n",
       "      <td>good_quality_price_reasonable_service</td>\n",
       "      <td>0.796345</td>\n",
       "    </tr>\n",
       "    <tr>\n",
       "      <th>26</th>\n",
       "      <td>86</td>\n",
       "      <td>works_expected_exactly_needed_meets</td>\n",
       "      <td>[12, 55]</td>\n",
       "      <td>12</td>\n",
       "      <td>works_exactly_needed_purpose_wanted</td>\n",
       "      <td>55</td>\n",
       "      <td>expected_expectations_meets_exactly_expectation</td>\n",
       "      <td>0.779424</td>\n",
       "    </tr>\n",
       "    <tr>\n",
       "      <th>25</th>\n",
       "      <td>85</td>\n",
       "      <td>tv_stand_use_horizontally_horizontal</td>\n",
       "      <td>[1, 14, 47]</td>\n",
       "      <td>1</td>\n",
       "      <td>tv_stand_use_using_perfect</td>\n",
       "      <td>78</td>\n",
       "      <td>horizontal_vertical_vertically_horizontally_use</td>\n",
       "      <td>0.756138</td>\n",
       "    </tr>\n",
       "    <tr>\n",
       "      <th>24</th>\n",
       "      <td>84</td>\n",
       "      <td>gloss_color_white_grey_high</td>\n",
       "      <td>[10, 45]</td>\n",
       "      <td>45</td>\n",
       "      <td>color_forever_available_hope_colour</td>\n",
       "      <td>10</td>\n",
       "      <td>gloss_white_grey_high_color</td>\n",
       "      <td>0.749466</td>\n",
       "    </tr>\n",
       "    <tr>\n",
       "      <th>23</th>\n",
       "      <td>83</td>\n",
       "      <td>perfect_fits_space_suits_fit</td>\n",
       "      <td>[17, 36]</td>\n",
       "      <td>17</td>\n",
       "      <td>fits_space_suits_perfect_fit</td>\n",
       "      <td>36</td>\n",
       "      <td>perfect_4x3kallax_versitile_exactly_perfects</td>\n",
       "      <td>0.744635</td>\n",
       "    </tr>\n",
       "    <tr>\n",
       "      <th>22</th>\n",
       "      <td>82</td>\n",
       "      <td>ikea_quality_furniture_easiest_matching</td>\n",
       "      <td>[24, 59]</td>\n",
       "      <td>24</td>\n",
       "      <td>ikea_easiest_quality_furniture_products</td>\n",
       "      <td>59</td>\n",
       "      <td>matching_ikea_shelves_shelf_best</td>\n",
       "      <td>0.741922</td>\n",
       "    </tr>\n",
       "    <tr>\n",
       "      <th>21</th>\n",
       "      <td>81</td>\n",
       "      <td>room_daughter_kids_living_bedroom</td>\n",
       "      <td>[23, 29, 48]</td>\n",
       "      <td>29</td>\n",
       "      <td>bedroom_room_living_addition_bomb</td>\n",
       "      <td>69</td>\n",
       "      <td>daughter_kids_room_perfect_living</td>\n",
       "      <td>0.735093</td>\n",
       "    </tr>\n",
       "    <tr>\n",
       "      <th>20</th>\n",
       "      <td>80</td>\n",
       "      <td>install_easy_looks_build_super</td>\n",
       "      <td>[22, 34]</td>\n",
       "      <td>22</td>\n",
       "      <td>looks_easy_set_contemporary_good</td>\n",
       "      <td>34</td>\n",
       "      <td>install_build_installation_super_easy</td>\n",
       "      <td>0.721071</td>\n",
       "    </tr>\n",
       "    <tr>\n",
       "      <th>19</th>\n",
       "      <td>79</td>\n",
       "      <td>kallax_storage_love_units_versatile</td>\n",
       "      <td>[4, 15, 30]</td>\n",
       "      <td>30</td>\n",
       "      <td>fittings_kallax_assemble_allow_metal</td>\n",
       "      <td>70</td>\n",
       "      <td>kallax_storage_love_versatile_units</td>\n",
       "      <td>0.719658</td>\n",
       "    </tr>\n",
       "    <tr>\n",
       "      <th>18</th>\n",
       "      <td>78</td>\n",
       "      <td>horizontal_vertical_vertically_horizontally_use</td>\n",
       "      <td>[14, 47]</td>\n",
       "      <td>47</td>\n",
       "      <td>ikea_doors_knobs_drawers_wood</td>\n",
       "      <td>14</td>\n",
       "      <td>vertical_horizontal_vertically_horizontally_use</td>\n",
       "      <td>0.715731</td>\n",
       "    </tr>\n",
       "    <tr>\n",
       "      <th>17</th>\n",
       "      <td>77</td>\n",
       "      <td>holes_dowels_wooden_ikea_wood</td>\n",
       "      <td>[8, 43]</td>\n",
       "      <td>43</td>\n",
       "      <td>new_ikea_quality_version_disappointed</td>\n",
       "      <td>8</td>\n",
       "      <td>holes_dowels_wooden_screws_wood</td>\n",
       "      <td>0.705433</td>\n",
       "    </tr>\n",
       "    <tr>\n",
       "      <th>16</th>\n",
       "      <td>76</td>\n",
       "      <td>craft_room_kallax_craftroom_units</td>\n",
       "      <td>[39, 44, 50]</td>\n",
       "      <td>50</td>\n",
       "      <td>craft_room_dorm_shelving_shelf</td>\n",
       "      <td>72</td>\n",
       "      <td>craft_room_kallax_craftroom_units</td>\n",
       "      <td>0.701709</td>\n",
       "    </tr>\n",
       "    <tr>\n",
       "      <th>15</th>\n",
       "      <td>75</td>\n",
       "      <td>good_quality_price_reasonable_service</td>\n",
       "      <td>[13, 21]</td>\n",
       "      <td>21</td>\n",
       "      <td>good_ok_bad_say_like</td>\n",
       "      <td>13</td>\n",
       "      <td>quality_good_price_reasonable_service</td>\n",
       "      <td>0.696260</td>\n",
       "    </tr>\n",
       "    <tr>\n",
       "      <th>14</th>\n",
       "      <td>74</td>\n",
       "      <td>sewing_cutting_table_fabric_room</td>\n",
       "      <td>[35, 46]</td>\n",
       "      <td>46</td>\n",
       "      <td>cutting_table_sewing_base_plywood</td>\n",
       "      <td>35</td>\n",
       "      <td>sewing_fabric_room_knitting_yarn</td>\n",
       "      <td>0.691081</td>\n",
       "    </tr>\n",
       "    <tr>\n",
       "      <th>13</th>\n",
       "      <td>73</td>\n",
       "      <td>happy_ago_month_pleased_product</td>\n",
       "      <td>[40, 41]</td>\n",
       "      <td>40</td>\n",
       "      <td>happy_pleased_product_surprised_satisfied</td>\n",
       "      <td>41</td>\n",
       "      <td>ago_month_happy_bought_weeks</td>\n",
       "      <td>0.688371</td>\n",
       "    </tr>\n",
       "    <tr>\n",
       "      <th>12</th>\n",
       "      <td>72</td>\n",
       "      <td>craft_room_kallax_craftroom_units</td>\n",
       "      <td>[39, 44]</td>\n",
       "      <td>39</td>\n",
       "      <td>craft_room_certain_craftroom_im</td>\n",
       "      <td>44</td>\n",
       "      <td>craft_room_kallax_calm_change</td>\n",
       "      <td>0.664089</td>\n",
       "    </tr>\n",
       "    <tr>\n",
       "      <th>11</th>\n",
       "      <td>71</td>\n",
       "      <td>shelf_shelving_shelves_unit_kallax</td>\n",
       "      <td>[0, 6, 19]</td>\n",
       "      <td>62</td>\n",
       "      <td>shelf_shelving_shelves_unit_great</td>\n",
       "      <td>19</td>\n",
       "      <td>kallax_studio_units_items_2x4</td>\n",
       "      <td>0.643704</td>\n",
       "    </tr>\n",
       "    <tr>\n",
       "      <th>10</th>\n",
       "      <td>70</td>\n",
       "      <td>kallax_storage_love_versatile_units</td>\n",
       "      <td>[4, 15]</td>\n",
       "      <td>4</td>\n",
       "      <td>kallax_love_delivery_versatile_product</td>\n",
       "      <td>15</td>\n",
       "      <td>kallax_storage_units_dependable_solution</td>\n",
       "      <td>0.616103</td>\n",
       "    </tr>\n",
       "    <tr>\n",
       "      <th>9</th>\n",
       "      <td>69</td>\n",
       "      <td>daughter_kids_room_perfect_living</td>\n",
       "      <td>[23, 48]</td>\n",
       "      <td>23</td>\n",
       "      <td>daughter_kids_room_rooms_play</td>\n",
       "      <td>48</td>\n",
       "      <td>assemble_living_room_organiser_transformed</td>\n",
       "      <td>0.610809</td>\n",
       "    </tr>\n",
       "    <tr>\n",
       "      <th>8</th>\n",
       "      <td>68</td>\n",
       "      <td>unit_storage_great_practical_functional</td>\n",
       "      <td>[42, 49]</td>\n",
       "      <td>42</td>\n",
       "      <td>unit_practical_units_toi_shell</td>\n",
       "      <td>49</td>\n",
       "      <td>unit_storage_functional_great_saving</td>\n",
       "      <td>0.605396</td>\n",
       "    </tr>\n",
       "    <tr>\n",
       "      <th>7</th>\n",
       "      <td>67</td>\n",
       "      <td>assemble_easy_assembly_good_looks</td>\n",
       "      <td>[2, 38]</td>\n",
       "      <td>38</td>\n",
       "      <td>assemble_storage_easy_sleek_quick</td>\n",
       "      <td>2</td>\n",
       "      <td>assemble_easy_assembly_good_instructions</td>\n",
       "      <td>0.562144</td>\n",
       "    </tr>\n",
       "    <tr>\n",
       "      <th>6</th>\n",
       "      <td>66</td>\n",
       "      <td>toys_toy_books_kids_kid</td>\n",
       "      <td>[9, 32]</td>\n",
       "      <td>32</td>\n",
       "      <td>books_toys_daughters_kids_playroom</td>\n",
       "      <td>9</td>\n",
       "      <td>toy_toys_kid_kids_storage</td>\n",
       "      <td>0.549466</td>\n",
       "    </tr>\n",
       "    <tr>\n",
       "      <th>5</th>\n",
       "      <td>65</td>\n",
       "      <td>sturdy_strong_assemble_construction_easy</td>\n",
       "      <td>[16, 33]</td>\n",
       "      <td>16</td>\n",
       "      <td>sturdy_nice_strong_construction_bracing</td>\n",
       "      <td>33</td>\n",
       "      <td>sturdy_assemble_easy_strong_assembled</td>\n",
       "      <td>0.498589</td>\n",
       "    </tr>\n",
       "    <tr>\n",
       "      <th>4</th>\n",
       "      <td>64</td>\n",
       "      <td>bookcase_books_bookshelf_bookcases_book</td>\n",
       "      <td>[5, 37]</td>\n",
       "      <td>5</td>\n",
       "      <td>bookcase_books_bookshelf_bookcases_desk</td>\n",
       "      <td>37</td>\n",
       "      <td>bookcase_kallax_books_bookshelf_bookcases</td>\n",
       "      <td>0.498111</td>\n",
       "    </tr>\n",
       "    <tr>\n",
       "      <th>3</th>\n",
       "      <td>63</td>\n",
       "      <td>closet_clothes_organizer_perfect_walk</td>\n",
       "      <td>[3, 53]</td>\n",
       "      <td>53</td>\n",
       "      <td>closet_kallax_linen_fit_clothes</td>\n",
       "      <td>3</td>\n",
       "      <td>closet_clothes_organizer_perfect_walk</td>\n",
       "      <td>0.481034</td>\n",
       "    </tr>\n",
       "    <tr>\n",
       "      <th>2</th>\n",
       "      <td>62</td>\n",
       "      <td>shelf_shelving_shelves_unit_great</td>\n",
       "      <td>[0, 6]</td>\n",
       "      <td>0</td>\n",
       "      <td>shelf_shelving_shelves_unit_great</td>\n",
       "      <td>6</td>\n",
       "      <td>kallax_shelf_shelves_shelving_unit</td>\n",
       "      <td>0.412794</td>\n",
       "    </tr>\n",
       "    <tr>\n",
       "      <th>1</th>\n",
       "      <td>61</td>\n",
       "      <td>product_good_excellent_great_price</td>\n",
       "      <td>[27, 31]</td>\n",
       "      <td>31</td>\n",
       "      <td>product_good_price_fine_mr</td>\n",
       "      <td>27</td>\n",
       "      <td>product_excellent_great_wounderful_solution</td>\n",
       "      <td>0.346352</td>\n",
       "    </tr>\n",
       "    <tr>\n",
       "      <th>0</th>\n",
       "      <td>60</td>\n",
       "      <td>nice_thanks_product_item_neat</td>\n",
       "      <td>[56, 58]</td>\n",
       "      <td>56</td>\n",
       "      <td>nice_thanks_neat_really_great</td>\n",
       "      <td>58</td>\n",
       "      <td>nice_product_item_finish_color</td>\n",
       "      <td>0.239073</td>\n",
       "    </tr>\n",
       "  </tbody>\n",
       "</table>\n",
       "</div>"
      ],
      "text/plain": [
       "   Parent_ID                                        Parent_Name  \\\n",
       "58       118                        great_easy_good_kallax_love   \n",
       "57       117                    kallax_shelf_love_perfect_great   \n",
       "56       116                   good_product_easy_assemble_great   \n",
       "55       115                    assemble_easy_sturdy_looks_nice   \n",
       "54       114               good_product_quality_excellent_great   \n",
       "53       113                     closet_perfect_room_toys_works   \n",
       "52       112                         toys_room_sewing_toy_craft   \n",
       "51       111                          kallax_shelf_tv_love_unit   \n",
       "50       110               closet_perfect_clothes_exactly_works   \n",
       "49       109                 happy_storage_functional_great_ago   \n",
       "48       108                    sewing_craft_room_table_cutting   \n",
       "47       107                      tv_stand_ikea_vinyl_furniture   \n",
       "46       106                      tv_stand_ikea_vinyl_furniture   \n",
       "45       105                   good_product_quality_value_price   \n",
       "44       104                 kallax_shelf_shelving_shelves_unit   \n",
       "43       103                    assemble_easy_sturdy_looks_good   \n",
       "42       102            storage_functional_great_unit_versatile   \n",
       "41       101                        toys_toy_kids_room_daughter   \n",
       "40       100  functional_versatile_multifunctional_predictab...   \n",
       "39        99                perfect_exactly_works_expected_fits   \n",
       "38        98                    assemble_easy_sturdy_looks_good   \n",
       "37        97                      tv_stand_vinyl_records_record   \n",
       "36        96                        gloss_color_white_grey_love   \n",
       "35        95             storage_great_unit_excellent_fantastic   \n",
       "34        94                  ikea_furniture_holes_piece_wooden   \n",
       "33        93                       happy_ago_month_boxes_bought   \n",
       "32        92             vinyl_records_record_collection_albums   \n",
       "31        91                  assemble_easy_looks_assembly_good   \n",
       "30        90                 kallax_shelf_shelving_shelves_unit   \n",
       "29        89                   storage_unit_great_needs_options   \n",
       "28        88                  furniture_ikea_piece_quality_best   \n",
       "27        87                     good_quality_value_money_price   \n",
       "26        86                works_expected_exactly_needed_meets   \n",
       "25        85               tv_stand_use_horizontally_horizontal   \n",
       "24        84                        gloss_color_white_grey_high   \n",
       "23        83                       perfect_fits_space_suits_fit   \n",
       "22        82            ikea_quality_furniture_easiest_matching   \n",
       "21        81                  room_daughter_kids_living_bedroom   \n",
       "20        80                     install_easy_looks_build_super   \n",
       "19        79                kallax_storage_love_units_versatile   \n",
       "18        78    horizontal_vertical_vertically_horizontally_use   \n",
       "17        77                      holes_dowels_wooden_ikea_wood   \n",
       "16        76                  craft_room_kallax_craftroom_units   \n",
       "15        75              good_quality_price_reasonable_service   \n",
       "14        74                   sewing_cutting_table_fabric_room   \n",
       "13        73                    happy_ago_month_pleased_product   \n",
       "12        72                  craft_room_kallax_craftroom_units   \n",
       "11        71                 shelf_shelving_shelves_unit_kallax   \n",
       "10        70                kallax_storage_love_versatile_units   \n",
       "9         69                  daughter_kids_room_perfect_living   \n",
       "8         68            unit_storage_great_practical_functional   \n",
       "7         67                  assemble_easy_assembly_good_looks   \n",
       "6         66                            toys_toy_books_kids_kid   \n",
       "5         65           sturdy_strong_assemble_construction_easy   \n",
       "4         64            bookcase_books_bookshelf_bookcases_book   \n",
       "3         63              closet_clothes_organizer_perfect_walk   \n",
       "2         62                  shelf_shelving_shelves_unit_great   \n",
       "1         61                 product_good_excellent_great_price   \n",
       "0         60                      nice_thanks_product_item_neat   \n",
       "\n",
       "                                               Topics Child_Left_ID  \\\n",
       "58  [0, 1, 2, 3, 4, 5, 6, 7, 8, 9, 10, 11, 12, 13,...           116   \n",
       "57  [0, 1, 3, 4, 5, 6, 7, 8, 9, 10, 12, 14, 15, 17...           111   \n",
       "56  [2, 11, 13, 16, 21, 22, 26, 27, 28, 31, 33, 34...           115   \n",
       "55                [2, 16, 22, 33, 34, 38, 51, 56, 58]            60   \n",
       "54  [11, 13, 21, 26, 27, 28, 31, 40, 41, 42, 49, 5...           105   \n",
       "53  [3, 9, 12, 17, 23, 29, 32, 35, 36, 39, 44, 46,...           112   \n",
       "52            [9, 23, 29, 32, 35, 39, 44, 46, 48, 50]           108   \n",
       "51  [0, 1, 4, 5, 6, 7, 8, 10, 14, 15, 18, 19, 20, ...           107   \n",
       "50                            [3, 12, 17, 36, 53, 55]            63   \n",
       "49               [11, 26, 40, 41, 42, 49, 52, 54, 57]           102   \n",
       "48                               [35, 39, 44, 46, 50]            74   \n",
       "47  [1, 7, 8, 10, 14, 18, 20, 24, 25, 43, 45, 47, 59]            96   \n",
       "46              [1, 7, 8, 14, 20, 24, 25, 43, 47, 59]            94   \n",
       "45                               [13, 21, 27, 28, 31]            87   \n",
       "44                       [0, 4, 5, 6, 15, 19, 30, 37]            90   \n",
       "43                        [2, 16, 22, 33, 34, 38, 51]            98   \n",
       "42                           [11, 26, 42, 49, 52, 57]           100   \n",
       "41                                [9, 23, 29, 32, 48]            81   \n",
       "40                                           [52, 57]            52   \n",
       "39                                   [12, 17, 36, 55]            83   \n",
       "38                            [2, 16, 22, 33, 34, 38]            65   \n",
       "37                                 [1, 7, 14, 25, 47]            85   \n",
       "36                                       [10, 18, 45]            18   \n",
       "35                                   [11, 26, 42, 49]            89   \n",
       "34                                [8, 20, 24, 43, 59]            88   \n",
       "33                                       [40, 41, 54]            73   \n",
       "32                                            [7, 25]            25   \n",
       "31                                    [2, 22, 34, 38]            67   \n",
       "30                              [0, 4, 6, 15, 19, 30]            79   \n",
       "29                                       [11, 42, 49]            68   \n",
       "28                                       [20, 24, 59]            20   \n",
       "27                                       [13, 21, 28]            28   \n",
       "26                                           [12, 55]            12   \n",
       "25                                        [1, 14, 47]             1   \n",
       "24                                           [10, 45]            45   \n",
       "23                                           [17, 36]            17   \n",
       "22                                           [24, 59]            24   \n",
       "21                                       [23, 29, 48]            29   \n",
       "20                                           [22, 34]            22   \n",
       "19                                        [4, 15, 30]            30   \n",
       "18                                           [14, 47]            47   \n",
       "17                                            [8, 43]            43   \n",
       "16                                       [39, 44, 50]            50   \n",
       "15                                           [13, 21]            21   \n",
       "14                                           [35, 46]            46   \n",
       "13                                           [40, 41]            40   \n",
       "12                                           [39, 44]            39   \n",
       "11                                         [0, 6, 19]            62   \n",
       "10                                            [4, 15]             4   \n",
       "9                                            [23, 48]            23   \n",
       "8                                            [42, 49]            42   \n",
       "7                                             [2, 38]            38   \n",
       "6                                             [9, 32]            32   \n",
       "5                                            [16, 33]            16   \n",
       "4                                             [5, 37]             5   \n",
       "3                                             [3, 53]            53   \n",
       "2                                              [0, 6]             0   \n",
       "1                                            [27, 31]            31   \n",
       "0                                            [56, 58]            56   \n",
       "\n",
       "                                      Child_Left_Name Child_Right_ID  \\\n",
       "58                   good_product_easy_assemble_great            117   \n",
       "57                          kallax_shelf_tv_love_unit            113   \n",
       "56                    assemble_easy_sturdy_looks_nice            114   \n",
       "55                      nice_thanks_product_item_neat            103   \n",
       "54                   good_product_quality_value_price            109   \n",
       "53                         toys_room_sewing_toy_craft            110   \n",
       "52                    sewing_craft_room_table_cutting            101   \n",
       "51                      tv_stand_ikea_vinyl_furniture            104   \n",
       "50              closet_clothes_organizer_perfect_walk             99   \n",
       "49            storage_functional_great_unit_versatile             93   \n",
       "48                   sewing_cutting_table_fabric_room             76   \n",
       "47                        gloss_color_white_grey_love            106   \n",
       "46                  ikea_furniture_holes_piece_wooden             97   \n",
       "45                     good_quality_value_money_price             61   \n",
       "44                 kallax_shelf_shelving_shelves_unit             64   \n",
       "43                    assemble_easy_sturdy_looks_good             51   \n",
       "42  functional_versatile_multifunctional_predictab...             95   \n",
       "41                  room_daughter_kids_living_bedroom             66   \n",
       "40  versatile_configurations_cookbooks_quite_versa...             57   \n",
       "39                       perfect_fits_space_suits_fit             86   \n",
       "38           sturdy_strong_assemble_construction_easy             91   \n",
       "37               tv_stand_use_horizontally_horizontal             92   \n",
       "36                   love_sturdiness_second_cute_ease             84   \n",
       "35                   storage_unit_great_needs_options             26   \n",
       "34                  furniture_ikea_piece_quality_best             77   \n",
       "33                    happy_ago_month_pleased_product             54   \n",
       "32                      cubes_cube_storage_best_cubby              7   \n",
       "31                  assemble_easy_assembly_good_looks             80   \n",
       "30                kallax_storage_love_units_versatile             71   \n",
       "29            unit_storage_great_practical_functional             11   \n",
       "28        furniture_piece_affordable_steady_practical             82   \n",
       "27             value_money_good_price_multifunctional             75   \n",
       "26                works_exactly_needed_purpose_wanted             55   \n",
       "25                         tv_stand_use_using_perfect             78   \n",
       "24                color_forever_available_hope_colour             10   \n",
       "23                       fits_space_suits_perfect_fit             36   \n",
       "22            ikea_easiest_quality_furniture_products             59   \n",
       "21                  bedroom_room_living_addition_bomb             69   \n",
       "20                   looks_easy_set_contemporary_good             34   \n",
       "19               fittings_kallax_assemble_allow_metal             70   \n",
       "18                      ikea_doors_knobs_drawers_wood             14   \n",
       "17              new_ikea_quality_version_disappointed              8   \n",
       "16                     craft_room_dorm_shelving_shelf             72   \n",
       "15                               good_ok_bad_say_like             13   \n",
       "14                  cutting_table_sewing_base_plywood             35   \n",
       "13          happy_pleased_product_surprised_satisfied             41   \n",
       "12                    craft_room_certain_craftroom_im             44   \n",
       "11                  shelf_shelving_shelves_unit_great             19   \n",
       "10             kallax_love_delivery_versatile_product             15   \n",
       "9                       daughter_kids_room_rooms_play             48   \n",
       "8                      unit_practical_units_toi_shell             49   \n",
       "7                   assemble_storage_easy_sleek_quick              2   \n",
       "6                  books_toys_daughters_kids_playroom              9   \n",
       "5             sturdy_nice_strong_construction_bracing             33   \n",
       "4             bookcase_books_bookshelf_bookcases_desk             37   \n",
       "3                     closet_kallax_linen_fit_clothes              3   \n",
       "2                   shelf_shelving_shelves_unit_great              6   \n",
       "1                          product_good_price_fine_mr             27   \n",
       "0                       nice_thanks_neat_really_great             58   \n",
       "\n",
       "                                     Child_Right_Name  Distance  \n",
       "58                    kallax_shelf_love_perfect_great  1.626265  \n",
       "57                     closet_perfect_room_toys_works  1.469752  \n",
       "56               good_product_quality_excellent_great  1.332535  \n",
       "55                    assemble_easy_sturdy_looks_good  1.307416  \n",
       "54                 happy_storage_functional_great_ago  1.284173  \n",
       "53               closet_perfect_clothes_exactly_works  1.270379  \n",
       "52                        toys_toy_kids_room_daughter  1.231213  \n",
       "51                 kallax_shelf_shelving_shelves_unit  1.177161  \n",
       "50                perfect_exactly_works_expected_fits  1.135177  \n",
       "49                       happy_ago_month_boxes_bought  1.124278  \n",
       "48                  craft_room_kallax_craftroom_units  1.091920  \n",
       "47                      tv_stand_ikea_vinyl_furniture  1.087898  \n",
       "46                      tv_stand_vinyl_records_record  1.031052  \n",
       "45                 product_good_excellent_great_price  1.011983  \n",
       "44            bookcase_books_bookshelf_bookcases_book  1.003223  \n",
       "43                 job_winner_easy_title_overwhelming  0.996871  \n",
       "42             storage_great_unit_excellent_fantastic  0.986252  \n",
       "41                            toys_toy_books_kids_kid  0.986096  \n",
       "40  functional_multifunctional_predictably_minimal...  0.972346  \n",
       "39                works_expected_exactly_needed_meets  0.971081  \n",
       "38                  assemble_easy_looks_assembly_good  0.959457  \n",
       "37             vinyl_records_record_collection_albums  0.942493  \n",
       "36                        gloss_color_white_grey_high  0.927735  \n",
       "35            excellent_great_awesome_fantastic_awful  0.919018  \n",
       "34                      holes_dowels_wooden_ikea_wood  0.901372  \n",
       "33           boxes_cardboard_containers_cart_decorate  0.888316  \n",
       "32             vinyl_records_record_collection_albums  0.860037  \n",
       "31                     install_easy_looks_build_super  0.832348  \n",
       "30                 shelf_shelving_shelves_unit_kallax  0.831928  \n",
       "29           storage_options_solution_needs_efficient  0.806367  \n",
       "28            ikea_quality_furniture_easiest_matching  0.802449  \n",
       "27              good_quality_price_reasonable_service  0.796345  \n",
       "26    expected_expectations_meets_exactly_expectation  0.779424  \n",
       "25    horizontal_vertical_vertically_horizontally_use  0.756138  \n",
       "24                        gloss_white_grey_high_color  0.749466  \n",
       "23       perfect_4x3kallax_versitile_exactly_perfects  0.744635  \n",
       "22                   matching_ikea_shelves_shelf_best  0.741922  \n",
       "21                  daughter_kids_room_perfect_living  0.735093  \n",
       "20              install_build_installation_super_easy  0.721071  \n",
       "19                kallax_storage_love_versatile_units  0.719658  \n",
       "18    vertical_horizontal_vertically_horizontally_use  0.715731  \n",
       "17                    holes_dowels_wooden_screws_wood  0.705433  \n",
       "16                  craft_room_kallax_craftroom_units  0.701709  \n",
       "15              quality_good_price_reasonable_service  0.696260  \n",
       "14                   sewing_fabric_room_knitting_yarn  0.691081  \n",
       "13                       ago_month_happy_bought_weeks  0.688371  \n",
       "12                      craft_room_kallax_calm_change  0.664089  \n",
       "11                      kallax_studio_units_items_2x4  0.643704  \n",
       "10           kallax_storage_units_dependable_solution  0.616103  \n",
       "9          assemble_living_room_organiser_transformed  0.610809  \n",
       "8                unit_storage_functional_great_saving  0.605396  \n",
       "7            assemble_easy_assembly_good_instructions  0.562144  \n",
       "6                           toy_toys_kid_kids_storage  0.549466  \n",
       "5               sturdy_assemble_easy_strong_assembled  0.498589  \n",
       "4           bookcase_kallax_books_bookshelf_bookcases  0.498111  \n",
       "3               closet_clothes_organizer_perfect_walk  0.481034  \n",
       "2                  kallax_shelf_shelves_shelving_unit  0.412794  \n",
       "1         product_excellent_great_wounderful_solution  0.346352  \n",
       "0                      nice_product_item_finish_color  0.239073  "
      ]
     },
     "execution_count": 12,
     "metadata": {},
     "output_type": "execute_result"
    }
   ],
   "source": [
    "hierarchical_topics"
   ]
  },
  {
   "cell_type": "code",
   "execution_count": 13,
   "metadata": {},
   "outputs": [],
   "source": [
    "def get_topics_at_depth(df, depth):\n",
    "    from collections import deque\n",
    "    \n",
    "    # Build adjacency list with stored distance (no accumulation)\n",
    "    adjacency = {}\n",
    "    for _, row in df.iterrows():\n",
    "        adjacency[row['Parent_ID']] = [\n",
    "            (row['Child_Left_ID'], row['Child_Left_Name'], row['Distance']),\n",
    "            (row['Child_Right_ID'], row['Child_Right_Name'], row['Distance'])\n",
    "        ]\n",
    "    \n",
    "    root_id = df.iloc[0]['Parent_ID']\n",
    "    root_name = df.iloc[0]['Parent_Name']\n",
    "    \n",
    "    # BFS\n",
    "    queue = deque([(root_id, root_name, 0)])  # (id, name, depth)\n",
    "    result = []\n",
    "    \n",
    "    while queue:\n",
    "        node_id, node_name, curr_depth = queue.popleft()\n",
    "        children = adjacency.get(node_id, [])\n",
    "        \n",
    "        for child_id, child_name, child_distance in children:\n",
    "            child_depth = curr_depth + 1\n",
    "            if child_depth == depth:\n",
    "                result.append((child_id, child_name, child_distance))\n",
    "            elif child_depth < depth:\n",
    "                queue.append((child_id, child_name, child_depth))\n",
    "    \n",
    "    return result"
   ]
  },
  {
   "cell_type": "code",
   "execution_count": 14,
   "metadata": {},
   "outputs": [
    {
     "name": "stdout",
     "output_type": "stream",
     "text": [
      "ID: 60, Name: nice_thanks_product_item_neat, Distance: 1.3074162661036748\n",
      "ID: 103, Name: assemble_easy_sturdy_looks_good, Distance: 1.3074162661036748\n",
      "ID: 105, Name: good_product_quality_value_price, Distance: 1.2841732492718585\n",
      "ID: 109, Name: happy_storage_functional_great_ago, Distance: 1.2841732492718585\n",
      "ID: 107, Name: tv_stand_ikea_vinyl_furniture, Distance: 1.177160861935259\n",
      "ID: 104, Name: kallax_shelf_shelving_shelves_unit, Distance: 1.177160861935259\n",
      "ID: 112, Name: toys_room_sewing_toy_craft, Distance: 1.270378767403591\n",
      "ID: 110, Name: closet_perfect_clothes_exactly_works, Distance: 1.270378767403591\n"
     ]
    }
   ],
   "source": [
    "topics_at_depth = get_topics_at_depth(hierarchical_topics, 3)\n",
    "for topic in topics_at_depth:\n",
    "    print(f\"ID: {topic[0]}, Name: {topic[1]}, Distance: {topic[2]}\")"
   ]
  },
  {
   "cell_type": "code",
   "execution_count": 15,
   "metadata": {},
   "outputs": [],
   "source": [
    "def adjust_topics(df, topics, threshold):\n",
    "    from collections import defaultdict\n",
    "\n",
    "    # Build child->parent and parent->children maps\n",
    "    child_to_parent = {}\n",
    "    parent_to_children = defaultdict(list)\n",
    "    for _, row in df.iterrows():\n",
    "        p_id, p_name, p_dist = row['Parent_ID'], row['Parent_Name'], row['Distance']\n",
    "        cl_id, cl_name = row['Child_Left_ID'], row['Child_Left_Name']\n",
    "        cr_id, cr_name = row['Child_Right_ID'], row['Child_Right_Name']\n",
    "        \n",
    "        child_to_parent[cl_id] = (p_id, p_name, p_dist)\n",
    "        child_to_parent[cr_id] = (p_id, p_name, p_dist)\n",
    "        parent_to_children[p_id].append((cl_id, cl_name, p_dist))\n",
    "        parent_to_children[p_id].append((cr_id, cr_name, p_dist))\n",
    "\n",
    "    # Start with the current topics in a set\n",
    "    final_topics = set(topics)\n",
    "    \n",
    "    # Below-threshold topics\n",
    "    below_threshold = [t for t in topics if t[2] < threshold]\n",
    "\n",
    "    # For each below-threshold topic, pair it with another topic of the same distance,\n",
    "    # remove both, then add the parent. Then remove the highest-distance topic and add its children.\n",
    "    for bt_id, bt_name, bt_dist in below_threshold:\n",
    "        if (bt_id, bt_name, bt_dist) not in final_topics:\n",
    "            continue\n",
    "\n",
    "        # Find another topic with the same distance\n",
    "        same_dist_candidates = [\n",
    "            t for t in final_topics\n",
    "            if t[2] == bt_dist and t != (bt_id, bt_name, bt_dist)\n",
    "        ]\n",
    "        if not same_dist_candidates:\n",
    "            continue\n",
    "\n",
    "        # Remove the below-threshold topic and its same-distance candidate\n",
    "        same_dist_topic = same_dist_candidates[0]\n",
    "        final_topics.remove((bt_id, bt_name, bt_dist))\n",
    "        final_topics.remove(same_dist_topic)\n",
    "\n",
    "        # Add the parent of the below-threshold topic\n",
    "        parent = child_to_parent.get(bt_id, (bt_id, bt_name, bt_dist))\n",
    "        final_topics.add(parent)\n",
    "\n",
    "        # Find the highest-distance topic, remove it, and add its children\n",
    "        if final_topics:\n",
    "            highest_topic = max(final_topics, key=lambda x: x[2])\n",
    "            final_topics.remove(highest_topic)\n",
    "            h_id, h_name, h_dist = highest_topic\n",
    "            for ch_id, ch_name, ch_dist in parent_to_children.get(h_id, []):\n",
    "                final_topics.add((ch_id, ch_name, ch_dist))\n",
    "\n",
    "    return list(final_topics)"
   ]
  },
  {
   "cell_type": "code",
   "execution_count": 16,
   "metadata": {},
   "outputs": [
    {
     "data": {
      "text/plain": [
       "[('103', 'assemble_easy_sturdy_looks_good', 1.3074162661036748),\n",
       " ('109', 'happy_storage_functional_great_ago', 1.2841732492718585),\n",
       " ('105', 'good_product_quality_value_price', 1.2841732492718585),\n",
       " ('60', 'nice_thanks_product_item_neat', 1.3074162661036748),\n",
       " ('112', 'toys_room_sewing_toy_craft', 1.270378767403591),\n",
       " ('107', 'tv_stand_ikea_vinyl_furniture', 1.177160861935259),\n",
       " ('110', 'closet_perfect_clothes_exactly_works', 1.270378767403591),\n",
       " ('104', 'kallax_shelf_shelving_shelves_unit', 1.177160861935259)]"
      ]
     },
     "execution_count": 16,
     "metadata": {},
     "output_type": "execute_result"
    }
   ],
   "source": [
    "topics = adjust_topics(hierarchical_topics, topics_at_depth, 1)\n",
    "topics"
   ]
  },
  {
   "cell_type": "code",
   "execution_count": 17,
   "metadata": {},
   "outputs": [
    {
     "data": {
      "text/html": [
       "<div>\n",
       "<style scoped>\n",
       "    .dataframe tbody tr th:only-of-type {\n",
       "        vertical-align: middle;\n",
       "    }\n",
       "\n",
       "    .dataframe tbody tr th {\n",
       "        vertical-align: top;\n",
       "    }\n",
       "\n",
       "    .dataframe thead th {\n",
       "        text-align: right;\n",
       "    }\n",
       "</style>\n",
       "<table border=\"1\" class=\"dataframe\">\n",
       "  <thead>\n",
       "    <tr style=\"text-align: right;\">\n",
       "      <th></th>\n",
       "      <th>Topic</th>\n",
       "      <th>Count</th>\n",
       "      <th>Name</th>\n",
       "      <th>Representation</th>\n",
       "      <th>Representative_Docs</th>\n",
       "    </tr>\n",
       "  </thead>\n",
       "  <tbody>\n",
       "    <tr>\n",
       "      <th>0</th>\n",
       "      <td>-1</td>\n",
       "      <td>1116</td>\n",
       "      <td>-1_storage_room_unit_bought</td>\n",
       "      <td>[storage, room, unit, bought, great, love, per...</td>\n",
       "      <td>[great addition bedroom area bedroom shelf fit...</td>\n",
       "    </tr>\n",
       "    <tr>\n",
       "      <th>1</th>\n",
       "      <td>0</td>\n",
       "      <td>259</td>\n",
       "      <td>0_shelf_shelving_shelves_unit</td>\n",
       "      <td>[shelf, shelving, shelves, unit, great, sturdy...</td>\n",
       "      <td>[great looking shelf shelf easy assemble looks...</td>\n",
       "    </tr>\n",
       "    <tr>\n",
       "      <th>2</th>\n",
       "      <td>1</td>\n",
       "      <td>137</td>\n",
       "      <td>1_tv_stand_use_using</td>\n",
       "      <td>[tv, stand, use, using, perfect, entertainment...</td>\n",
       "      <td>[nice tv stand product nice worked tv stand ha...</td>\n",
       "    </tr>\n",
       "    <tr>\n",
       "      <th>3</th>\n",
       "      <td>2</td>\n",
       "      <td>134</td>\n",
       "      <td>2_assemble_easy_assembly_good</td>\n",
       "      <td>[assemble, easy, assembly, good, instructions,...</td>\n",
       "      <td>[easy assemble easy assemble, easy assemble ea...</td>\n",
       "    </tr>\n",
       "    <tr>\n",
       "      <th>4</th>\n",
       "      <td>3</td>\n",
       "      <td>106</td>\n",
       "      <td>3_closet_clothes_organizer_perfect</td>\n",
       "      <td>[closet, clothes, organizer, perfect, walk, wa...</td>\n",
       "      <td>[perfect closet storage happy bought easy asse...</td>\n",
       "    </tr>\n",
       "    <tr>\n",
       "      <th>...</th>\n",
       "      <td>...</td>\n",
       "      <td>...</td>\n",
       "      <td>...</td>\n",
       "      <td>...</td>\n",
       "      <td>...</td>\n",
       "    </tr>\n",
       "    <tr>\n",
       "      <th>56</th>\n",
       "      <td>55</td>\n",
       "      <td>12</td>\n",
       "      <td>55_expected_expectations_meets_exactly</td>\n",
       "      <td>[expected, expectations, meets, exactly, expec...</td>\n",
       "      <td>[expected expected, exactly expected exactly e...</td>\n",
       "    </tr>\n",
       "    <tr>\n",
       "      <th>57</th>\n",
       "      <td>56</td>\n",
       "      <td>12</td>\n",
       "      <td>56_nice_thanks_neat_really</td>\n",
       "      <td>[nice, thanks, neat, really, great, , , , , ]</td>\n",
       "      <td>[nice nice, nice nice, nice nice]</td>\n",
       "    </tr>\n",
       "    <tr>\n",
       "      <th>58</th>\n",
       "      <td>57</td>\n",
       "      <td>11</td>\n",
       "      <td>57_functional_multifunctional_predictably_minimal</td>\n",
       "      <td>[functional, multifunctional, predictably, min...</td>\n",
       "      <td>[functional attractive functional attractive, ...</td>\n",
       "    </tr>\n",
       "    <tr>\n",
       "      <th>59</th>\n",
       "      <td>58</td>\n",
       "      <td>10</td>\n",
       "      <td>58_nice_product_item_finish</td>\n",
       "      <td>[nice, product, item, finish, color, piece, aw...</td>\n",
       "      <td>[nice product nice product, nice product nice ...</td>\n",
       "    </tr>\n",
       "    <tr>\n",
       "      <th>60</th>\n",
       "      <td>59</td>\n",
       "      <td>10</td>\n",
       "      <td>59_matching_ikea_shelves_shelf</td>\n",
       "      <td>[matching, ikea, shelves, shelf, best, awful, ...</td>\n",
       "      <td>[ikea furniture assemble incredibly easy shelv...</td>\n",
       "    </tr>\n",
       "  </tbody>\n",
       "</table>\n",
       "<p>61 rows × 5 columns</p>\n",
       "</div>"
      ],
      "text/plain": [
       "    Topic  Count                                               Name  \\\n",
       "0      -1   1116                        -1_storage_room_unit_bought   \n",
       "1       0    259                      0_shelf_shelving_shelves_unit   \n",
       "2       1    137                               1_tv_stand_use_using   \n",
       "3       2    134                      2_assemble_easy_assembly_good   \n",
       "4       3    106                 3_closet_clothes_organizer_perfect   \n",
       "..    ...    ...                                                ...   \n",
       "56     55     12             55_expected_expectations_meets_exactly   \n",
       "57     56     12                         56_nice_thanks_neat_really   \n",
       "58     57     11  57_functional_multifunctional_predictably_minimal   \n",
       "59     58     10                        58_nice_product_item_finish   \n",
       "60     59     10                     59_matching_ikea_shelves_shelf   \n",
       "\n",
       "                                       Representation  \\\n",
       "0   [storage, room, unit, bought, great, love, per...   \n",
       "1   [shelf, shelving, shelves, unit, great, sturdy...   \n",
       "2   [tv, stand, use, using, perfect, entertainment...   \n",
       "3   [assemble, easy, assembly, good, instructions,...   \n",
       "4   [closet, clothes, organizer, perfect, walk, wa...   \n",
       "..                                                ...   \n",
       "56  [expected, expectations, meets, exactly, expec...   \n",
       "57      [nice, thanks, neat, really, great, , , , , ]   \n",
       "58  [functional, multifunctional, predictably, min...   \n",
       "59  [nice, product, item, finish, color, piece, aw...   \n",
       "60  [matching, ikea, shelves, shelf, best, awful, ...   \n",
       "\n",
       "                                  Representative_Docs  \n",
       "0   [great addition bedroom area bedroom shelf fit...  \n",
       "1   [great looking shelf shelf easy assemble looks...  \n",
       "2   [nice tv stand product nice worked tv stand ha...  \n",
       "3   [easy assemble easy assemble, easy assemble ea...  \n",
       "4   [perfect closet storage happy bought easy asse...  \n",
       "..                                                ...  \n",
       "56  [expected expected, exactly expected exactly e...  \n",
       "57                  [nice nice, nice nice, nice nice]  \n",
       "58  [functional attractive functional attractive, ...  \n",
       "59  [nice product nice product, nice product nice ...  \n",
       "60  [ikea furniture assemble incredibly easy shelv...  \n",
       "\n",
       "[61 rows x 5 columns]"
      ]
     },
     "execution_count": 17,
     "metadata": {},
     "output_type": "execute_result"
    }
   ],
   "source": [
    "topic_model.get_topic_info()"
   ]
  },
  {
   "cell_type": "code",
   "execution_count": 18,
   "metadata": {},
   "outputs": [
    {
     "data": {
      "text/plain": [
       "{60,\n",
       " 61,\n",
       " 62,\n",
       " 63,\n",
       " 64,\n",
       " 65,\n",
       " 66,\n",
       " 67,\n",
       " 68,\n",
       " 69,\n",
       " 70,\n",
       " 71,\n",
       " 72,\n",
       " 73,\n",
       " 74,\n",
       " 75,\n",
       " 76,\n",
       " 77,\n",
       " 78,\n",
       " 79,\n",
       " 80,\n",
       " 81,\n",
       " 82,\n",
       " 83,\n",
       " 84,\n",
       " 85,\n",
       " 86,\n",
       " 87,\n",
       " 88,\n",
       " 89,\n",
       " 90,\n",
       " 91,\n",
       " 92,\n",
       " 93,\n",
       " 94,\n",
       " 95,\n",
       " 96,\n",
       " 97,\n",
       " 98,\n",
       " 99,\n",
       " 100,\n",
       " 101,\n",
       " 102,\n",
       " 103,\n",
       " 104,\n",
       " 105,\n",
       " 106,\n",
       " 107,\n",
       " 108,\n",
       " 109,\n",
       " 110,\n",
       " 111,\n",
       " 112,\n",
       " 113,\n",
       " 114,\n",
       " 115,\n",
       " 116,\n",
       " 117,\n",
       " 118}"
      ]
     },
     "execution_count": 18,
     "metadata": {},
     "output_type": "execute_result"
    }
   ],
   "source": [
    "parent_ids = set(hierarchical_topics['Parent_ID'].astype(int))\n",
    "parent_ids"
   ]
  },
  {
   "cell_type": "code",
   "execution_count": 19,
   "metadata": {},
   "outputs": [],
   "source": [
    "def get_reviews(reviews, topic_model, topics):\n",
    "\n",
    "    topic_reviews = {}\n",
    "\n",
    "    topic_assignments = topic_model.transform(reviews)[0]\n",
    "\n",
    "    for topic in topics:\n",
    "        topic_id = int(topic[0])\n",
    "        if topic_id not in set(hierarchical_topics['Parent_ID'].astype(int)):\t\n",
    "            topic_reviews[topic_id] = [review for review, assigned_topic in zip(reviews, topic_assignments) if assigned_topic == topic_id]\n",
    "        else:\n",
    "            child_topics = hierarchical_topics[hierarchical_topics['Parent_ID'].astype(int) == topic_id]['Topics'].values.tolist()[0]\n",
    "            print(child_topics)\n",
    "            topic_reviews[topic_id] = [review for review, assigned_topic in zip(reviews, topic_assignments) if assigned_topic in child_topics]\n",
    "\n",
    "    return topic_reviews"
   ]
  },
  {
   "cell_type": "code",
   "execution_count": 20,
   "metadata": {},
   "outputs": [
    {
     "name": "stdout",
     "output_type": "stream",
     "text": [
      "[2, 16, 22, 33, 34, 38, 51]\n",
      "[11, 26, 40, 41, 42, 49, 52, 54, 57]\n",
      "[13, 21, 27, 28, 31]\n",
      "[56, 58]\n",
      "[9, 23, 29, 32, 35, 39, 44, 46, 48, 50]\n",
      "[1, 7, 8, 10, 14, 18, 20, 24, 25, 43, 45, 47, 59]\n",
      "[3, 12, 17, 36, 53, 55]\n",
      "[0, 4, 5, 6, 15, 19, 30, 37]\n"
     ]
    }
   ],
   "source": [
    "topic_reviews = get_reviews(processed_reviews, topic_model, topics)"
   ]
  },
  {
   "cell_type": "code",
   "execution_count": 21,
   "metadata": {},
   "outputs": [
    {
     "data": {
      "text/plain": [
       "{103: ['products rated products rated easy assemble tools useful far happy purchase',\n",
       "  'great product nice sturdy clean design right size holds wanted use home gym store equipment',\n",
       "  'easy easy',\n",
       "  'ok assembly diagrams ok assembly diagrams clearer',\n",
       "  'nice storage ease assembly nice color',\n",
       "  'looks great super easy looks great super easy assemble added legs gave finished look',\n",
       "  'looks nice easy assemble looks nice easy assemble',\n",
       "  'excellent built item excellent built item sturdy',\n",
       "  'great purchase friend instructions really helpful easy assemble product looks stylish',\n",
       "  'great space saving unit easy assemble built better hardware store models',\n",
       "  'sturdy designed bought product really liked simple confident design cheered fun',\n",
       "  'easy assemble perfect storage easy assemble perfect storage studio',\n",
       "  'good ratio good ratio easy assemble',\n",
       "  'excellent products easy excellent products easy assemble',\n",
       "  'good quality good workmanship lined perfectly easy assemble looks like high quality piece furniture particle board inside screws dowel pins hex key quality material unlike unassembled furniture kits used rubber hammer gentle tap parts instead regular hammer recommended',\n",
       "  'looks great easy looks great',\n",
       "  'love love easy assembly wish wheels options',\n",
       "  'practical easy assemble decorative',\n",
       "  'looks great assembly pretty easy look great',\n",
       "  'looks good sturdy little tricky assemble solid looks beautiful functional',\n",
       "  'really good overall easy really good overall easy',\n",
       "  'nice finish easy nice finish easy assemble',\n",
       "  'easy assembly easy fast assemble love shiny white finish',\n",
       "  'easy looks good loved',\n",
       "  'easy assemble understandable directions functional dressed beautifully',\n",
       "  'great easy assemble exactly needed',\n",
       "  'classic easy assemble sturdy functional',\n",
       "  'expected good quality received good quality super easy assembly instructions clear highly recommend',\n",
       "  'easy easy assemble looks great needed',\n",
       "  'easy assemble easy assemble',\n",
       "  'great design easy install good look good quality size eazy installation play lego highly recommended',\n",
       "  'great storage solid construction great storage units solidly built easy assemble',\n",
       "  'easy assemble easy assemble',\n",
       "  'excellent quality easy assembling excellent quality easy assembling',\n",
       "  'quick sleek storage shelves quick easy assemble look clean sleek instant upgrade space fitted pop boxes perfect hiding messy ugly items away exceeded expectations',\n",
       "  'beautiful easy ensemble',\n",
       "  'easy assemble easy assemble',\n",
       "  'love really easy assemble',\n",
       "  'great storage piece easy great storage piece easy assemble',\n",
       "  'easy easy',\n",
       "  'easy assemble purchased units recently pleased quality easy assemble',\n",
       "  'loved good easy assemble looks good good price',\n",
       "  'fairly easy assemble right needed second time buying happy quality',\n",
       "  'solud easy assemble solud easy assemble',\n",
       "  'great sturdy exactly ssnted',\n",
       "  'extremely versatile simple easy love',\n",
       "  'good quality simple install versatile good quality simple install versatile easily customizable',\n",
       "  'easy assemble easy assemble',\n",
       "  'great purchase great purchase easily assemble slightly chipped bothered return stock really needed regrets getting',\n",
       "  'nice finish good value easy assemble looks great',\n",
       "  'easy assemble happy product easy assemble',\n",
       "  'excellent construction easy assemble good instructions product looks great exactly displayed store',\n",
       "  'exactly wanted high quality modern material easy assemble looks great',\n",
       "  'simple install simple install light weight',\n",
       "  'simple easy storage sleek simply easy assemble',\n",
       "  'great record storage really like unit record storage exceptionally easy assemble',\n",
       "  'easy assemble easy assemble looks great',\n",
       "  'easy assemble easy assemble definitely sturdy perfect needs',\n",
       "  'good product great looking easy assemble quality impressive',\n",
       "  'awesome product sturdy great',\n",
       "  'surprised easy assemble',\n",
       "  'love easy looks clean minimalistic',\n",
       "  'great looking easy assemble looks great pretty sturdy despite relative light weight',\n",
       "  'great sturdy easy great sturdy easy clean holds lots items easy',\n",
       "  'perfect addition easy assemble looks great',\n",
       "  'easy assembly heavy',\n",
       "  'easy easy',\n",
       "  'good sturdy structure good sturdy structure',\n",
       "  'wanted watched youtube channel assembled little issues',\n",
       "  'sturdy easy assemble looking',\n",
       "  'versatile size quick assembly',\n",
       "  'beautiful easy beautiful easy assemble love',\n",
       "  'second second like quality simple look appreciate fact use 2x4 4x2 kids grow older easily change purpose look',\n",
       "  'great cost effective storage solution love clean lines simple design assembly piece cake',\n",
       "  'clean easy assemble clean easy assemble',\n",
       "  'terrific easy looks great',\n",
       "  'good sturdy love nice deep sturdy design def recommend',\n",
       "  'practical sturdy product versatile easy assemble good value money',\n",
       "  'amazing easy quickly assembly strong good quality',\n",
       "  'really sturdy heavy great buy price male neighbor impressed good wt sturdy tools included box laid place truly happy',\n",
       "  'love easy love easy',\n",
       "  'great product needs saw product store loved time saw bought easy works great need recommend anybody use',\n",
       "  'versitility great easy assemble easy versatility great décor spot perfect storage',\n",
       "  'easy assemble love versatility',\n",
       "  'strong construction serving purpose expected glad purchased',\n",
       "  'super easy build 13 year old simple build needed dad help twice end result super nice great im dads account btw',\n",
       "  'easy practical stylish easy looks great',\n",
       "  'easy assemble easy assemble job intended looks good den want buy doors added',\n",
       "  'practical easy assembly clean design multi purpose wish finish durable chipped eas',\n",
       "  'great excellent walldrobe outside',\n",
       "  'sturdy great product happy purchase',\n",
       "  'classic classic reason simple stylish easy assemble',\n",
       "  'easy assemble works perfectly easy assemble works perfectly need',\n",
       "  'sleek functional easy sleek functional easy build ready use extras',\n",
       "  'easy assembly looks easy assembly looks fantastic',\n",
       "  'excellent exactly hoping strong sturdy',\n",
       "  'love item easy used different ways',\n",
       "  'strong unit easily assembled strong unit easily assembled',\n",
       "  'beautiful easy install look good',\n",
       "  'easy install good easy install good everyday use',\n",
       "  'great product works great product works purchased small bit human error assembling backwards',\n",
       "  'nice sturdy easy assemble sturdy',\n",
       "  'awesome product love ease putting looks cool say awesome product reasonable price 5 thank',\n",
       "  'super easy build looks amazing super easy build looks amazing built took 1 hours complete',\n",
       "  'fairly easy assemble assemble fairly easy assemble assemble room needed avoid carrying floor',\n",
       "  'sturdy construction looks great sturdy construction looks great',\n",
       "  'easy looks great',\n",
       "  'great product easy assemble',\n",
       "  'sturdy perfect bought loved bought happy quality sturdy easy assemble seriously considering buying',\n",
       "  'built product fairly easy assemble sturdy',\n",
       "  'good quality excellent organizing use different ways takes 15 20 min assemble',\n",
       "  'like white easy setup good size sturdy',\n",
       "  'purchased use standing easy assemble sturdy',\n",
       "  'gets job title says best',\n",
       "  'easy assemble love look durability',\n",
       "  'looks nice easy perfect formeneeds',\n",
       "  'looks good old favourite looks good old favourite',\n",
       "  'sturdy perfect home sturdy perfect home gym equipment',\n",
       "  'easy easy',\n",
       "  'easy build easy build looks great',\n",
       "  'nice size sturdy nice size sturdy',\n",
       "  'durable easy product easy assemble looks great wanted',\n",
       "  'good easy assemble good easy assemble',\n",
       "  'nice easy looks nice easy wrong purchased model',\n",
       "  'easy understand instructions purchased 3 weeks ago assembeled 45 mins struggle diy amazing product sturdy movement love love love item',\n",
       "  'great product quick easy assemble versatile storage',\n",
       "  'super easy super easy looks great kid playroom',\n",
       "  'great purchase bought son toon easy assemble',\n",
       "  'simple assemble simple assemble lightweight tools improved',\n",
       "  'easy assemble looks easy assemble looks great office space expected price okay',\n",
       "  'love storage easy assemble',\n",
       "  'beautiful product easy assemble looks beautiful home sleek shiny',\n",
       "  'easy make easy make looks good studio',\n",
       "  'easy assemble pretty easy assemble',\n",
       "  'looks good looks good easy',\n",
       "  'sturdy looks great love bought 2',\n",
       "  'love good quality easy assemble',\n",
       "  'easy assembly looks great new sewing roo',\n",
       "  'saw item website looked store exactly wanted youtube videos assembly instructions easy',\n",
       "  'worth penny sturdy easy assemble looks great reference bought 2x4 size',\n",
       "  'expected easy assemble looks like picture solid expected price issue hairline cracking edges frame really noticeable',\n",
       "  'sturdy easy build strong wobbling versatile vertical horizontal use love',\n",
       "  'products easily assembled products easily assembled work',\n",
       "  'easy went quickly easily looks',\n",
       "  'sturdy really nice modern look bought month absolutely love love used sideways upright sturdy flexible',\n",
       "  'great product money great product money long expected assemble',\n",
       "  'easy assemble excellent strong secure',\n",
       "  'sturdy purchased month ago storage bathroom love storage relatively easy assemble',\n",
       "  'easy assemble easy assemble',\n",
       "  'love easy assemble looks great add',\n",
       "  'great product easy installation',\n",
       "  'easy sturdy amazed easy build sturdy',\n",
       "  'instructions explain instructions explain piece needs bend thought unit defective extensive internet research stressful',\n",
       "  'quick sturdy girlfriend built 30 minutes sturdy using bed frame works great',\n",
       "  'absolutely love contemporary easy absolutely love contemporary easy clean looks great',\n",
       "  'perfect exactly needed super sleek stable cheap like n ones',\n",
       "  'easy assemble works great needs',\n",
       "  'nice finish easy assemble good nice finish easy assemble good use',\n",
       "  'easy looks great easy looks modern clean works perfectly playroom multiple gaming systems spot basket games worked great',\n",
       "  'great economical easy assemble',\n",
       "  'good wanted units super easy assemble provide excellent storage space place',\n",
       "  'love look affordability love look affordability ease assembly',\n",
       "  'awesome storage easy assemble sturdy used',\n",
       "  'fantastic exceptional value money easy assemble used horizontally vertically',\n",
       "  'great value purchased 5 cubbies camp program sturdy easy biggest challenge getting plastic protective coating edges gave 4 stars left ca tips',\n",
       "  'good quality simple good quality simple assemble',\n",
       "  'great product easy build quality product',\n",
       "  'easy assemble look good perfect easy assemble look good perfect organized',\n",
       "  'strong construction easy assemble strong construction easy assemble',\n",
       "  'nice sturdy nice sturdy',\n",
       "  'great basic storage easy assemble',\n",
       "  'excellent best product easy assemble easy use',\n",
       "  'great product simple assemble great product simple assemble practical',\n",
       "  'really useful easy assemble looks good',\n",
       "  'great value great product easy install looks great room',\n",
       "  'good storage quality packaging good wood quality good easy assemble',\n",
       "  'right easy assemble good price high gloss white finish looks good',\n",
       "  'sturdy easy sturdy easy assemble',\n",
       "  'sturdy looks great sturdy looks great',\n",
       "  'perfect easy assemble perfect easy assemble',\n",
       "  'super easy install super easy install looks great',\n",
       "  '4 4 pick really happy nice look easy',\n",
       "  'love filled plants looks amazing sturdy',\n",
       "  'love easy set love easy set',\n",
       "  'overall great product great product easy build looks good',\n",
       "  'functional stylish storage attractive functional storage living room assembly difficult easier 2 people somewhat time consuming',\n",
       "  'good easy simple good looking good priced feels flimsy assembling assembly feels okay sitting feel quality bit better',\n",
       "  'work work bench storage easy assemble looks nice',\n",
       "  'bought storage easy assemble fit purpose',\n",
       "  'easily assembled chair went',\n",
       "  'good value quality pretty decent assembly relatively easy person pieces came minor marks scuffs matters holes inserts likely appropriate 2 inserts bad screws come separating pieces',\n",
       "  'easy assembly looks good took minutes understand instructions figure easy',\n",
       "  'love easy assemble self great organization',\n",
       "  'nice sturdy looks good',\n",
       "  'good product easy assembly good product easy assembly',\n",
       "  'easy easy',\n",
       "  'winner winner',\n",
       "  'nice easy set looks good nice easy set looks good value money proper use space',\n",
       "  'great features purchased month ago ages assembled night super easy',\n",
       "  'looks great happy easy assemble looks great combined white inserts',\n",
       "  'easy looks easy looks great space',\n",
       "  'excellent simple assemble',\n",
       "  'easy assemble good easy assemble good quality',\n",
       "  'great product easy finished product beautiful sturdy',\n",
       "  'perfect easy assemble value functionality',\n",
       "  'sturdy nice finish great product nice finish design',\n",
       "  'wobbly needs bracing wobbly needs bracing locked wall',\n",
       "  'easy assemble liked bought second',\n",
       "  'looks awesome happy easy looks nice',\n",
       "  'easy assembly sturdy looks great use hammer pound pegs edges laminate chip unfortunately hand pounding zillions pegs',\n",
       "  'great value money great product easier build smaller version',\n",
       "  'great product easy looks great feels solid flimsy',\n",
       "  'exactly wanted exactly wanted easy impressed easy parts handle',\n",
       "  'easy assemble finished easy assemble finished product looks great',\n",
       "  'nice easy assemble nice easy assemble price bit high think',\n",
       "  'easy assemble compact strong easily assembled easy place place versatile 5',\n",
       "  'easy set easy set',\n",
       "  'strong sturdy strong sturdy',\n",
       "  'assembly straightforward assembly straightforward durable materials ensure longevity overall practical stylish addition home',\n",
       "  'simple easy assemble simple easy assemble looks good',\n",
       "  'easy assemble easy assemble',\n",
       "  'great storage easy assemble sturdy lo e gloss finish',\n",
       "  'nice sturdy nice sturdy',\n",
       "  'great product easy installation great product easy installation',\n",
       "  'easy easy',\n",
       "  'easy assemble looks easy assemble looks great room',\n",
       "  'great product purchased weeks ago main storage solution son nursery say easy assemble feels sturdy safe holds ton stuff great product',\n",
       "  'perfect needs sturdy perfect needs sturdy easy assemble looks great',\n",
       "  'love know missing life easy assemble sturdy looks great',\n",
       "  'great buy took installation',\n",
       "  'excellent simple sleek easy install',\n",
       "  'great material materials great sturdy need 2 people assemble finished 15 mins',\n",
       "  'planned solid sturdy looks good role mind',\n",
       "  'great piece assembled quickly sturdy pieces price reasonable expect lifetime',\n",
       "  'looks great easy assemble',\n",
       "  'simple design easy assemble bought bought simple design works decor',\n",
       "  'quick easy quick easy looks great',\n",
       "  'easy looks easy looks lovely smart',\n",
       "  'look great look good easy build good size',\n",
       "  'overall good product disappointed overall good product disappointed unpacking assemble couple small chips surfaces',\n",
       "  'easy easy',\n",
       "  'easy assemble able assemble unit 40 minutes instructions clear needs happen',\n",
       "  '2nd bought inexpensive easy want',\n",
       "  'love love easy build super cute',\n",
       "  'wonderful great product easy assemble works perfectly',\n",
       "  'great product easy fast looks great',\n",
       "  'love product love product assembly instructions bad',\n",
       "  'easily assemble easily assemble follow properly instructions good products love glossy white better easily clean mat white tends dirty easily think products useful tidy home',\n",
       "  'job easy',\n",
       "  'stable stable',\n",
       "  'easy assemble looks fabulous refreshing clear instructions extra parts',\n",
       "  'great product requires phd assembly overall good beautiful steady difficult assembly impossible quietly live apartment pretty sure neighbor hate assembly',\n",
       "  'great sturdy product great sturdy product awesome price',\n",
       "  'good quality easy assemble good quality easy assemble great storage',\n",
       "  'easy assemble looks easy assemble looks great',\n",
       "  'perfect easy assemble sturdy',\n",
       "  'great product easy assemble light weight sturdy',\n",
       "  'easy assemble looks good love love love',\n",
       "  'worth money cheap easy',\n",
       "  'sturdy solid great fine great price wonderful quality easy',\n",
       "  'easy assemble great addition extra storage space especially using box inserts types fit unit mix great look',\n",
       "  'easy set looks easy set looks good',\n",
       "  'great product easily look great sturdy functional',\n",
       "  'easy assemble like seen units extra frame parts makes look chunky odd',\n",
       "  'easy looks easy looks great',\n",
       "  'good product easy assemble solo bought product month ago works expected',\n",
       "  'sturdy classic sturdy classic',\n",
       "  'sturdy sturdy',\n",
       "  'better quality compared brands easily assemble sturdy',\n",
       "  'job job price point needed',\n",
       "  'easy looks fantastic went easily strong',\n",
       "  'awesome storage 3 easy assemble perfect store stuff boxes display items',\n",
       "  'easy peasy easy assemble clear pictures require persons',\n",
       "  'great product happy product easy assembly great quality',\n",
       "  'great product easy assemble good looking product surface mark easily follow instructions assembling place mat underneath place provided non marking pads better felt pads place underneath looks great long time',\n",
       "  'great display case easy build install',\n",
       "  'great purchase purchased easy assemble love',\n",
       "  'super great super easy assemble looks great works great',\n",
       "  'looks great easy assemble looks great easy assemble wood cheap',\n",
       "  'beautiful sturdy beautiful sturdy',\n",
       "  'easy assemble good looking easy assemble tools provided good instructions',\n",
       "  'quality easy assembly fine quality easy',\n",
       "  'sturdy construction looks great love purchase works needed',\n",
       "  'thumbs good item sturdy',\n",
       "  'easy assemble easy assemble super sturdy',\n",
       "  'simple assembly exactly simple assembly exactly promised',\n",
       "  'sturdy great piece storage make sure plenty room assembling',\n",
       "  'basic building blocks serves purpose',\n",
       "  'love easy',\n",
       "  'love simple easy definitely easier people',\n",
       "  'love item easy love item easy assemble looks great purchase future',\n",
       "  'easy looks easy looks',\n",
       "  'good product really useful sturdy',\n",
       "  'good value easy good value easy install',\n",
       "  'great looks great easy job',\n",
       "  'sturdy products easy good value',\n",
       "  'bought love bought turned stacked looks great really sturdy',\n",
       "  'easy assemble product expected easy assemble',\n",
       "  'easy assemble looks easy assemble looks sleek',\n",
       "  'nice nice easy assemble daughter loves',\n",
       "  'simple perfect whilst flash product lines clean easy great job happy purchase',\n",
       "  'job overwhelming size',\n",
       "  'job job',\n",
       "  'good sturdy product good sturdy product',\n",
       "  'good easy looks nice',\n",
       "  'great sturdy great storage',\n",
       "  'functional easy assemble functional easy assemble looks good',\n",
       "  'fantastic bought item easy assemble functional different ways',\n",
       "  'easy assemble easy assemble quality great opened box edges parts chipped',\n",
       "  'good looking sturdy brought e',\n",
       "  'sturdy sturdy',\n",
       "  'sturdy good looking sturdy good value money',\n",
       "  'easy easy light'],\n",
       " 109: ['great great',\n",
       "  'excellent happy product',\n",
       "  'previously bought product liked bought',\n",
       "  'love versatility love versatility able switch units make different configurations',\n",
       "  'versatile works great cookbooks',\n",
       "  'excellent quality happy product',\n",
       "  'great great',\n",
       "  'love units bought month ago happier',\n",
       "  'good storage display good storage display color',\n",
       "  'great unit unit exactly wanted expected study looks nice furniture',\n",
       "  'perfect sort storage variety containers fit use makes use scenarios storage home got drona boxes storage invisible neat love product versatile',\n",
       "  'unlimited storage options sturdy customizable stop storage solution',\n",
       "  'excellent storage shelf daughter horizontal closet material storage boxes',\n",
       "  'great great',\n",
       "  'great storage unit right size highly customisable various inserts',\n",
       "  'great storage unit loving great storage unit',\n",
       "  'great great',\n",
       "  'storage plus unit versatile works storage',\n",
       "  'happy product happy product',\n",
       "  'best buy year highly flexible highly customisable fits spaces sturdy enables multiple configuration recommend buying additional ikea containers boxes boxes meant fit neatly',\n",
       "  'happy purchase',\n",
       "  'organization necessity good organizing storage',\n",
       "  'multifunctional multifunctional',\n",
       "  'great features bought month ago happy',\n",
       "  'great great',\n",
       "  'love bought month ago happy',\n",
       "  'great great',\n",
       "  'excellent storage idea perfect hide extra stuff laying',\n",
       "  'awesome awesome',\n",
       "  'good storage box available product good sturdy storage box looking available stock month skeleton',\n",
       "  'going going',\n",
       "  'reason sold great storage solution cheap customizable kinds addons think different varieties',\n",
       "  'right size craft storage ideal',\n",
       "  'happy happy',\n",
       "  'bought unit den practical stylish',\n",
       "  'flexibility great flexibility interchangeable storage options remaining clean crisp',\n",
       "  'great storage solution spacious low profile',\n",
       "  'perfect storage bought 2 weeks ago love ir works really needs',\n",
       "  'excellent excellent',\n",
       "  'awesome storage super easy extremely versatile',\n",
       "  'bought weeks ago',\n",
       "  'modern clean efficient storage module wish cardboard boxes make fit cubes better liked metal trim lable holders old cardboard boxes fabric good sleek coated cardboard various colors nice matt paper ones great piece things remember heavy years ago heaviness furniture good',\n",
       "  'looks nice storage efficient looks nice storage efficient',\n",
       "  'perfect storage perfect diecast car collection bit expensive',\n",
       "  'great storage easy great storage easy',\n",
       "  'fantastic product love',\n",
       "  'looks excellent bought month ago happy look',\n",
       "  'great product fabulous piece furniture serves purposes desk bookcase file storage bought boxes hanging files highly recommend',\n",
       "  'perfect size perfect size storage needs',\n",
       "  'economical stylish storage economical stylish storage',\n",
       "  'happy product purchased',\n",
       "  'excellent excellent',\n",
       "  'looks good happy product',\n",
       "  'multi storage options bought years great need storage',\n",
       "  'convenient product happy purchased recently couple weeks',\n",
       "  'excellent needed great practical storage unit',\n",
       "  'versatile versatile',\n",
       "  'love bought weeks ago happy',\n",
       "  'bought month good use',\n",
       "  'awful awful',\n",
       "  'extra storage needed storage small unit',\n",
       "  'great storage containers great',\n",
       "  'awesome awesome',\n",
       "  'great storage playroom nicer boxstores',\n",
       "  'happy happy product',\n",
       "  'great great',\n",
       "  'great storage unit great storage unit',\n",
       "  'really like product think total 3 4 home great storage looks good',\n",
       "  'great awesome',\n",
       "  'great great',\n",
       "  'great storage happy purchase great service',\n",
       "  'practical good looking unit practical good looking unit',\n",
       "  'great multifunctional',\n",
       "  'perfect needs brought 4 units look great functional needs',\n",
       "  'nice improvement storage organization',\n",
       "  'love unit love unit',\n",
       "  'storage unit unit perfect space purpose purchased',\n",
       "  'bought product weeks ago happy',\n",
       "  'great storage unit using unit ikea storage happy items store',\n",
       "  'versatile inexpensive bought different configurations love',\n",
       "  'great great',\n",
       "  'chips easily smart efficient storage unfortunately chip easily surface',\n",
       "  'great bought 1 month ago easy',\n",
       "  'fantastic fantastic',\n",
       "  'extra storage great product storing items sight',\n",
       "  'nice storage piece functional versatile functional storage unit',\n",
       "  'easy great easy great space saver',\n",
       "  'versatile versatile',\n",
       "  'great great',\n",
       "  'really happy quickly really happy quickly able look room perfect storage solution',\n",
       "  'seen functional seen functional versatile',\n",
       "  'versatile storage really enjoy product creating storage spaces options',\n",
       "  'purchase solid versatile',\n",
       "  'pleased pleased',\n",
       "  'great great',\n",
       "  'perfect ideal storage practicality',\n",
       "  'minimal functional minimal functional',\n",
       "  'leis simple elegant functional reasonably priced',\n",
       "  'bought month ago happy originally wanted espresso color stock blessing disguise went opposite way great color red bins daycare business disappointed',\n",
       "  'looks great functional looks great functional',\n",
       "  'versatile storage option buy moving',\n",
       "  'better best storage solution money makes life easier',\n",
       "  'space saving unit required',\n",
       "  'storage great addition hom discrete holds lot stuff',\n",
       "  'love unit practical looks great perfect getting organised',\n",
       "  'great great needed',\n",
       "  'great bought 3 units',\n",
       "  'love unit 6 type units use different ways',\n",
       "  'functional functional',\n",
       "  'looks great good storage looks great good storage needs',\n",
       "  'functional attractive functional attractive',\n",
       "  'great storage unit great extra storage keeps place looks tidy',\n",
       "  'predictably beautiful functional predictably beautiful functional',\n",
       "  'great unit 3 great unit 3',\n",
       "  'perfect storage option holds perfect storage option holds lot stuff attractive looking easy',\n",
       "  'pleased product pleased product purchased past',\n",
       "  'versatile bought units house love versatile',\n",
       "  'happy happy',\n",
       "  'good happy',\n",
       "  'love used storage inside closet holiday decorations perfectly displayed ease time pull',\n",
       "  'great value tiny price bought unit couple months ago bought great product great quality great value easy love definitely buying highly recommend',\n",
       "  'bought item times gift love',\n",
       "  'great storage unit great storage unit',\n",
       "  'excellent storage bought fantastic storage',\n",
       "  'great storage option piece working rest needs',\n",
       "  'god bought month ago love perfect sturdy complaint box heavy able carry tried got 100 feet struggled entire way shopping cart managed push cart car loading dock box horrendous experience worth people work ikea friendly sunday late evening expect carts customers return start ikea',\n",
       "  'classic simple clean lines incredibly practical storage display',\n",
       "  'satisfied customer needed storage',\n",
       "  'satisfied product satisfied product',\n",
       "  'good bought month ago happy finally new house',\n",
       "  'storage unit great bought storage baskets happy job',\n",
       "  'storage unit great product hate prices going product',\n",
       "  'bought 3 plan buying worth',\n",
       "  'terrific terrific',\n",
       "  'space saver great storage good price plenty options containers inserts',\n",
       "  'sturdy functional easy multipurpose different types boxes looks',\n",
       "  'fantastic fantastic',\n",
       "  'surprised good surprised good looks happy',\n",
       "  'great awesome storage solutions options',\n",
       "  'functional storage unit functional storage unit looks good',\n",
       "  'bought units parents durable recently got friend loves quality product price point',\n",
       "  'good quality unit right looks good toi',\n",
       "  'perfect lunch boxes durable easy',\n",
       "  'functional cute functional cute',\n",
       "  'happy good product',\n",
       "  'quite versatile quite versatile',\n",
       "  'glossy good storage easy',\n",
       "  'perfect storage bought month ago added decorative boxes voila beautiful happy bought',\n",
       "  'awesome great storage great price works tv console',\n",
       "  'good versatile option good versatile option',\n",
       "  'great storage unit love storage unit works way super easy',\n",
       "  'solid piece purchased couple reason unit solid unit holds years',\n",
       "  'great storage favorite versatile size options',\n",
       "  'versatile unit expected',\n",
       "  'space storage saver holds lot things wish came sticky glide pads easy transition correct spot',\n",
       "  'great great',\n",
       "  'great storage modern design great storage unit price multipurpose happy',\n",
       "  'great great',\n",
       "  'versatile looks great versatile looks great',\n",
       "  'classic 4th time buying love',\n",
       "  'excellent happy happy exactly wanted',\n",
       "  'love perfect inserts craft storage',\n",
       "  'meets storage needs meets storage needs business',\n",
       "  'great record storage sideways redid bosses studio expanded space nicely shopping records lol',\n",
       "  'excellent excellent',\n",
       "  'looks nice storage things organized',\n",
       "  'great goes great rest house',\n",
       "  'good happy shell unit',\n",
       "  'great great',\n",
       "  'great storage unit great storage unit',\n",
       "  'happy bought 6 months ago',\n",
       "  'perfect storage bought month ago worked fantastically purposes needed',\n",
       "  'good storage happy features ease putting',\n",
       "  'great great easy',\n",
       "  'excellent unit excellent unit',\n",
       "  'pleased pleased',\n",
       "  'beautiful beautiful',\n",
       "  'great storage framework enhances great storage framework enhances variety storage',\n",
       "  'useful decorate way bought 1 month ago absolutly love easy assamble love decorate different color boxes containers',\n",
       "  'bought month ago im happy',\n",
       "  'great unit great unit',\n",
       "  'great storage great storage',\n",
       "  'happy product happy product',\n",
       "  'excellent product brought started storage space changed started added experimenting different ideas versatile product love',\n",
       "  'love bought bought second',\n",
       "  'happy happy product fulfilled requirements used drona boxes tidied craft studio looks great',\n",
       "  'great storage display',\n",
       "  'great great',\n",
       "  'good storage convenient',\n",
       "  'looks nice keeps things organized bought weeks ago used fabric covered banker boxes match decor looks great holds lot',\n",
       "  'great packs bought unit versatile',\n",
       "  'happy purchase happy purchase',\n",
       "  'purchased second',\n",
       "  'practical beautiful easy functional simple great',\n",
       "  'great unit price great unit price',\n",
       "  'fabulous product units love happily recommend',\n",
       "  'great quality bought month ago happy',\n",
       "  'storage great look easy love',\n",
       "  'excellent excellent',\n",
       "  'craft storage craft storage',\n",
       "  'beautiful beautiful buy highly recommend',\n",
       "  'versatile ready construct',\n",
       "  'happy brought looks good functional',\n",
       "  'excellent excellent',\n",
       "  'excellent excellent',\n",
       "  'great bought tell love',\n",
       "  'storage fantastic storage fantastic',\n",
       "  'great storage cool bought 3 4th',\n",
       "  'great great',\n",
       "  'great great',\n",
       "  'great great',\n",
       "  'great product previously bought partner loves',\n",
       "  'great little unit need',\n",
       "  'great unit looks good great unit looks good functional',\n",
       "  'bought month ago happy',\n",
       "  'versatile piece versatile piece',\n",
       "  'exactly described bery happy eith purchas second'],\n",
       " 105: ['great product great product',\n",
       "  'excellent product excellent product',\n",
       "  'good good',\n",
       "  'good good',\n",
       "  '',\n",
       "  'good good quality',\n",
       "  'great product recommend great product recommend',\n",
       "  'excellent product easy excellent product easy',\n",
       "  'good good',\n",
       "  'excellent product plan purchase',\n",
       "  'great product great product',\n",
       "  'good good',\n",
       "  'good good value',\n",
       "  'quality quality reduced cheaper parts',\n",
       "  'good good',\n",
       "  '',\n",
       "  '',\n",
       "  'good good',\n",
       "  'good light good light',\n",
       "  'good quality good quality',\n",
       "  'great product great product',\n",
       "  'good good',\n",
       "  'great product great product',\n",
       "  'great value money relative',\n",
       "  'great product great product',\n",
       "  'quality good quality good use product ways loving',\n",
       "  'good good',\n",
       "  'good quality appearance good quality appearance',\n",
       "  'good value money good value money',\n",
       "  'good good',\n",
       "  'like product worked great purpose bough',\n",
       "  'good product good product able use wanted',\n",
       "  'good good',\n",
       "  'mr zj great product',\n",
       "  'quality product quality product reasonable price',\n",
       "  'great product great product',\n",
       "  'good product good product',\n",
       "  '',\n",
       "  'great value really happy purchase',\n",
       "  'good good',\n",
       "  'good quality easy love good quality good price',\n",
       "  'good product good product',\n",
       "  'value value',\n",
       "  'great price fantastically versatile product great price wish kept stock',\n",
       "  'good good',\n",
       "  'good money value good money value',\n",
       "  'good good',\n",
       "  'z good product good price',\n",
       "  'ok',\n",
       "  'good good',\n",
       "  'good value good value',\n",
       "  'great value looks great',\n",
       "  'good product good product',\n",
       "  'great product great product',\n",
       "  'good quality great good quality great price',\n",
       "  'great product great product',\n",
       "  'great product great product',\n",
       "  'good quality good quality',\n",
       "  'good quality like design simple quality wise worth value 65',\n",
       "  '7 say',\n",
       "  'love fact love fact customize',\n",
       "  'nice price purchased hour',\n",
       "  'good product affordable good product affordable',\n",
       "  'good product good product',\n",
       "  'good quality good price quality good size',\n",
       "  'nice simple good quality nice simple good quality',\n",
       "  'good product good product',\n",
       "  'positive nice simple cost effective',\n",
       "  'good good',\n",
       "  'good quality good quality price really sturdy',\n",
       "  'good product ample space',\n",
       "  'great quality looks great great quality looks great',\n",
       "  'ok',\n",
       "  'great product great product',\n",
       "  'great value good great value good looking product',\n",
       "  'great product reasonable price good look functional n reasonable price',\n",
       "  'set easy quality high',\n",
       "  'good product good product significantly increased price unfortunately',\n",
       "  'excellent quality highly recommended excellent quality highly recommended',\n",
       "  '',\n",
       "  'good value money good value money',\n",
       "  'good quality good quality sturdy looks really nice',\n",
       "  'needed good consistent quality bought product years ago matched perfectly',\n",
       "  'love look love look',\n",
       "  'excellent product excellent product',\n",
       "  'good product good price good product good price',\n",
       "  'good quality looks neat good quality looks neat space saver organizing cupboard use',\n",
       "  'owner product good quality feel relatively cheap materials price',\n",
       "  'hugh bigger expected strange reason quality good reasonable great use way',\n",
       "  'great product great product',\n",
       "  'excellent excellent quality',\n",
       "  'money money quality',\n",
       "  'great wounderful product easy',\n",
       "  'great value great value',\n",
       "  'great product good value money bought',\n",
       "  'great product exactly needed',\n",
       "  'good product good product',\n",
       "  'excellent help house good price efficient product',\n",
       "  'good good',\n",
       "  'great value excellent piece price',\n",
       "  'great better quality great better quality similar items purchased target bunnings',\n",
       "  'quality different previous product quality different previous product',\n",
       "  'good',\n",
       "  'good product good product',\n",
       "  'value money easily fit',\n",
       "  'love great quality love great quality',\n",
       "  'amazing quality amazing quality',\n",
       "  'good good',\n",
       "  'good good',\n",
       "  'various good product various good product versatile',\n",
       "  'great product works expected',\n",
       "  'perfect need peice reasonable price strong good weight truly fit requirement',\n",
       "  'great product great product',\n",
       "  'good quality fair price good quality second time buying',\n",
       "  'ok',\n",
       "  'excellent product excellent product',\n",
       "  'good product fit purpose',\n",
       "  'good good',\n",
       "  'good value money heavy good quality',\n",
       "  'great product value great product value',\n",
       "  'good good like',\n",
       "  'excellent product excellent product',\n",
       "  'good product good product',\n",
       "  'great item love new reinforcing love quality',\n",
       "  'good value price good value price',\n",
       "  'great quality bought month ago absolutely perfect',\n",
       "  'love look useful',\n",
       "  'nice good quality looks pretty good room neat good quality',\n",
       "  'great price quality look great price quality look inserts cute easy set',\n",
       "  'great product great product',\n",
       "  'great product great product',\n",
       "  'consistent quality bought various sizes years consistent quality love practical like package includes pack hard wearing plastic pads',\n",
       "  'pretty good value money',\n",
       "  'bad bad',\n",
       "  'really great value money really great value money member price',\n",
       "  'good good',\n",
       "  'great product great product',\n",
       "  'good product good product',\n",
       "  'excellent value money excellent value money',\n",
       "  'price cheaper better price cheaper better',\n",
       "  'protective tape fairly east fair price trying protective tape yikes resigned leaving going long term project getting',\n",
       "  'great price great price',\n",
       "  'satisfied quality satisfied quality wish larger ones available',\n",
       "  'excellent product excellent product',\n",
       "  'low price low quality spend higher quality design nice functional',\n",
       "  'good good',\n",
       "  'peased product',\n",
       "  'good great price bought 3 studio nice',\n",
       "  'good money good money',\n",
       "  'excellent value easily threw super glossy nice clean look',\n",
       "  'good product good product',\n",
       "  'good value easy good finish cleans easy',\n",
       "  'good design performs fffffffffffffff',\n",
       "  'fine product fine product',\n",
       "  'good good',\n",
       "  'great product great product',\n",
       "  'great product price great product like options elevated base',\n",
       "  'good good',\n",
       "  'great product great product great value',\n",
       "  'purpose love looks high quality available accessories good use',\n",
       "  'good product good product',\n",
       "  'good multifunctional item good multifunctional item price',\n",
       "  'good product good product',\n",
       "  '',\n",
       "  'love received compliments happier',\n",
       "  'love good quality',\n",
       "  'good price good price',\n",
       "  'like good product easy',\n",
       "  'good product good product price expected better paint quality got scratched extremely easy',\n",
       "  'great display shelve looks good predrilled holes better overall happy',\n",
       "  'great product useful',\n",
       "  'great product great product',\n",
       "  'great product great product',\n",
       "  'great product great product',\n",
       "  'good value good value versatile',\n",
       "  'good good',\n",
       "  'good good',\n",
       "  'eh fine time buy quality gone recent ones cheaply basically hollow work fine need',\n",
       "  'excellent good value excellent good value product',\n",
       "  'great product great product',\n",
       "  'love look love look quality',\n",
       "  'excellent service click excellent service click collect wish depot newcastle',\n",
       "  'good good need quality',\n",
       "  'great product great product',\n",
       "  'good price reasonable quality product okay careful dissembling mistake dissemble damaging',\n",
       "  'good product good product',\n",
       "  'truly fantastic service quality truly fantastic service quality promptness',\n",
       "  'good value money decent quality product good value money',\n",
       "  '',\n",
       "  'great solution great solution',\n",
       "  'great value super cheap worth'],\n",
       " 60: ['excellent item nice awesome look',\n",
       "  'nice nice',\n",
       "  'nice product nice product',\n",
       "  'nice nice',\n",
       "  'nice product nice product',\n",
       "  'nice use nice use',\n",
       "  'nice nice',\n",
       "  'nice nice',\n",
       "  'great item great item',\n",
       "  'great really nice',\n",
       "  'nice color nice color',\n",
       "  'nice nice',\n",
       "  'great product nice finish',\n",
       "  'neat neat',\n",
       "  'nice nice',\n",
       "  'nice nice',\n",
       "  'nice piece nice piece',\n",
       "  'nice nice',\n",
       "  'great product nice finish',\n",
       "  'nice nice',\n",
       "  'nice thanks nice thanks',\n",
       "  'nice product nice product'],\n",
       " 112: ['perfect toy storage bought help 8 mo old granddaughter toys organized versatile sitting horizontally left cubicles books decor person choose baskets prefer chose taupe grey ample room toys',\n",
       "  'great 20month olds great 20month olds toys',\n",
       "  'lovely piece loved looks organized u kids bedroom',\n",
       "  'tidy toy area perfect storage centre grandchildren toys',\n",
       "  'extremely happy purchase excellent piece room',\n",
       "  'kallax works serves purposes craft room',\n",
       "  'great piece room easy exactly needed living room added colorful bins target fit perfect',\n",
       "  'perfect toy storage organizer bought gift 4 plastic bins 4 cloth bins daughter place store toys loves bigger toys',\n",
       "  'perfect small bedroom perfect small bedroom',\n",
       "  'great product daughter looks room',\n",
       "  'looks great simple modern looks great apartment',\n",
       "  'perfect room home office',\n",
       "  'transformed living space sturdy easy assemble great color transformed living space better',\n",
       "  'great storage great price bought tidy grandchildren toys books threatened spare room',\n",
       "  'excellent new home office bought product home office looks great',\n",
       "  'shelving awesome product craft room storage easy position room',\n",
       "  'perfect toy storage contained sight toy shelf',\n",
       "  'toys tots used sideways storage baskets toys',\n",
       "  '3 great kids cloths',\n",
       "  'great shelves teenager used organize space room',\n",
       "  'great product storage bought weeks ago love great toy storage little loves pulling drona boxes toys durable easy clean',\n",
       "  'purchased unit purchased unit granddaughter bedroom happy',\n",
       "  'brilliant storage solution childrens toys great different children toys',\n",
       "  'great colour easy assemble bit hesitant coloured shelve son room absolutely love colour easy assemble',\n",
       "  'exactly needed exactly needed organize son toys living room stylish functional',\n",
       "  'great size look bought theyre wanted needed make cutting table storage sewing room bought butcher block',\n",
       "  'biggest fan kallax range room bought sizes range versatile want change bedroom goes great living area console uses endless',\n",
       "  'ikea hack dream kallax units fantastic joined base kitchen bench plus lockable casters create dream cutting table',\n",
       "  'simple attractive storage bought grandkids store toys visiting practical visually pleasing choice inserts',\n",
       "  'love apart loft style bedroom versatile',\n",
       "  'nice nice addition house',\n",
       "  'versatile practical purchased 4 square rectangle ones loved space needed attention pondering 6 months eyes gravitated kallax unit perfect',\n",
       "  'perfect uses crafter used 2 craft table works looks amazing',\n",
       "  'love piece love piece scrapbooker crafter works perfectly craft room',\n",
       "  'sewing table hack using pinterest ideas purchased 2 kallax shelves husband friend created awesome table love kallax sturdy attractive buying soon',\n",
       "  'storage shelving used work personal items looks professional belongings neat tidy',\n",
       "  'versatile shelf great books toys decoration',\n",
       "  'perfect craftroom easy',\n",
       "  'craft shelf unit purchased effort reorganize room shelving unit combined storage options provided space necessary mechanism optimize storage supplies',\n",
       "  'great kid clutter bought unit cute baskets cubes help control kid clutter living room set low kids reach works great',\n",
       "  'shelf unit helped organize craft room keeps neat tidy',\n",
       "  'good toy organizer use horizontally good size kid room organize toys',\n",
       "  'works toy tidy works toy tidy',\n",
       "  'fits perfect bought daughter apartment room displayed favourite things',\n",
       "  'great bought bunch inserts drawers doors kids playroom perfect storing toys books really',\n",
       "  'perfect option bought nursery window makes perfect organiser husband assembled 20 minutes',\n",
       "  'looks great thanks bought item living room works perfectly',\n",
       "  'perfect organizing fabric perfect organizing fabric sewing room',\n",
       "  'perfect arrange kid perfect arrange kid toys perfect size sturdy hold toys',\n",
       "  'sturdy roomy bought use making cutting table sewing studio pleased wish photo completed project',\n",
       "  'great sewing room bought storage sewing room wheels works great',\n",
       "  'purchased purchased son room absolutely loves',\n",
       "  'sturdy bought wanted toddler niece toys plays reach worked perfectly easily pull cube bins toys make mess day away nice clean living room constantly compliments piece want know bought absolutely love',\n",
       "  'makes sewing room look makes sewing room look amazing',\n",
       "  'great organizing sewing fabric bought organize sewing room',\n",
       "  'nice organizer bought month ago returned large space bad going bin got fabric bins wait organize grandchildren toys',\n",
       "  'bought granddaughter filled magazines books pics art supplies loves',\n",
       "  'perfect knitting craft room cubby holes great yarn',\n",
       "  'nice different sizes units combination kallax units wall sewing room used different combinations easy custom make room',\n",
       "  'love new color got playroom hold grandkid toys works great purchased drona fabric cartons hold items pleased look size product',\n",
       "  'winner bought daughter perfect needs',\n",
       "  'love kallax love kallax different combinations units making craftroom wall 2x2 units make table surface',\n",
       "  'great organizer bought organize kids toys fits bigger bins great quality great purchase',\n",
       "  'product work use granddaughter toys things',\n",
       "  'like add boxes doors bought kids bedrooms store books toys',\n",
       "  'love best organize kids toys',\n",
       "  'great addition bedroom great addition bedroom',\n",
       "  'good sturdy base fabric cutting table used great product',\n",
       "  'sturdy 3 help closet clutter love used horizontally sewing room connected large piece plywood cutting table fairly easy construct thoughh people pretty simple',\n",
       "  'versatile attractive large shelves dishes books decorative items toys looks great',\n",
       "  'great buy kallax figure inserts kallax units look great family room starting need figure inserts useful',\n",
       "  'easy organizational unit easy sewing room goodies looks great',\n",
       "  'needed perfect kid toy storage',\n",
       "  'nice modern look easy used glue looks great living room',\n",
       "  'fabric sewing supplies downsized needed place store things use quilting shelves went quickly hold',\n",
       "  'best organisation kids best organisation kids room playroom',\n",
       "  'awesome bought month looks great craft room',\n",
       "  'works perfectly craft works perfectly craft room',\n",
       "  'needed added fabric wall sewing room stacking 16 cubby storage solution good price',\n",
       "  'pretty needed order kids bedroom',\n",
       "  'wanted im glad brought doe crafting area',\n",
       "  'ended buying 2 ended buying 2 daughters rooms look great helped organize things',\n",
       "  'love product worth love product worth long wait hold settle store options',\n",
       "  '8 compartment square shelf nice cleanable surface',\n",
       "  'great features 2 white playroom cloth baskets books toys shelves dark brown baskets gloves hats board games living area awesome',\n",
       "  'great features addition sewing studio previously purchased expedit series discontinued replacement easy construction',\n",
       "  'answer new years resolution easy roomy buy',\n",
       "  'nice kids toys need ordered sea grass baskets',\n",
       "  'wanted wanted yarn cache',\n",
       "  'great quality brought girls room love use books games toys',\n",
       "  'toy storage use bins toy storage works',\n",
       "  'strong easy assemble perfect classroom',\n",
       "  'perfect separate rooms organize toys bought unit weeks ago super easy setup looks great',\n",
       "  'love job set craft room',\n",
       "  'uses love strength versatility kallax great base ikea hacks tables library',\n",
       "  'pretty functional solution replace biggest kallax daughters room needs changed bookshelf beautiful functional books toys',\n",
       "  'toy storage 2 use toy storage great disappointed ikea discontinued white plastic boxes bought easy little slide looked great buy',\n",
       "  'love got love got 2 daughter rooms perfect',\n",
       "  'fantastic colour design happy purchase used kids toy storage main living area looks sleek stylish love used furnishings look good marks easily fantastic',\n",
       "  'easy beautiful great day make look beautiful able distribute craft supplies organized fashion',\n",
       "  '7 yr old room bought toys books 7 year old organize reach stuff great versatility add drawers moderate weight heavy light highly recommend bolting wall 100 stable plush carpet',\n",
       "  'great room bought kallax unit studio relatively easy looks great doors drawers store craft items recommend unit room',\n",
       "  'love shelves used organize craft room great big odd shaped items',\n",
       "  'craft room able organize room',\n",
       "  'love love son toys',\n",
       "  'craft room essential great piece craft room practical looks trendy wish room accommodated larger kallax definitely buy piece',\n",
       "  'perfect craftroom great purchase store',\n",
       "  'great toddler use 4 different colored bins really helped tidy playroom 21 month old reach toys tell purple bin orange bin actually stuff away',\n",
       "  'great easy assemble perfect size living room',\n",
       "  'perfect home office great backdrop zoom meetings',\n",
       "  'perfect display easy assemble great organizer grandkids room',\n",
       "  'amazing bought living room look great',\n",
       "  'perfect kids room organiser bought 3 kids lounge room space kaos usable hour assembly',\n",
       "  'bought create play room children works perfectly',\n",
       "  'love love love cubicles used differently house son apartment church nursery perfect options',\n",
       "  'perfekt closet know produkt germany item perfect',\n",
       "  'great toy storage great toy storage',\n",
       "  'toy storage looks works perfectly daughters play room',\n",
       "  'looks great needed small living room',\n",
       "  'happy product works craft room fills expectations',\n",
       "  'works wonder grandaughters play room turned makes good room devider',\n",
       "  'kallax ive gone kallax quality ease organize living space',\n",
       "  'kallax bought add existing unit craft room holds',\n",
       "  'consistent classic ikea affordable useful great option child room',\n",
       "  'great kids room easy assemble got 2',\n",
       "  'perfect playroom toys organised tidy',\n",
       "  'bought organize bought organize grandkids toys looks great keeps toys floor grandkids loved pick inserts',\n",
       "  'purchased use extra storage sons toys job perfectly',\n",
       "  'solved storage sent long ways leggo displayed toys stored shelves tided area',\n",
       "  'kallax easy perfect craft room',\n",
       "  'keeps things tidy keeps things tidy',\n",
       "  'ideal kids ideal kids toys neater way',\n",
       "  'christmas gift bought grandkids christmas present needed space books easy looks great good value money',\n",
       "  'grandson playroom great organizer grandson toys laid displayed bunch toys easy reach away',\n",
       "  'best self use sewing room greatest wish room',\n",
       "  'easy needed shelfing sewing room perfect smooth surface lay fabrics plus great size',\n",
       "  'bought play room working great',\n",
       "  'great addition son room looking help son organize room little better product perfect built issues set easily happy room',\n",
       "  'bookcase sewing cutting table bookcase sewing cutting table',\n",
       "  'kallax love kallax base set cutting table sewing room using cost friendly buying cutting table',\n",
       "  'perfect bought new room fits perfectly easy assemble',\n",
       "  'soo useful attractive purchase shelf unit going 2 useful really help control clutter need new ones sewing room love ikea products ideas',\n",
       "  'great storage toys great storage toys books',\n",
       "  'purchased child playroom purchased child playroom looks beautiful functional happy',\n",
       "  'love second time purchasing love kids room extra storage space toys books',\n",
       "  'perfect room functional impressed product perfect daughters toys office space pleased easy build husband help build',\n",
       "  'perfect match really good looking perfect living room easy assemble',\n",
       "  'love easy way kids toys organized',\n",
       "  'great craft room works great kids areas games puzzles crafts',\n",
       "  'holds tremendous bought kallax units craft room creating likely add pieces wanted fit assembly pretty easy',\n",
       "  'awesome got month ago perfect using sewing room hold fabric',\n",
       "  'kids rooms love durable great price better walmart brand',\n",
       "  'great storage space maker bought craft room doubtful work expected boy wrong amazing job organizing small items craft room lot paper stamping craft amazed away cubed areas thinking getting home hesitate',\n",
       "  'bought daughter bought daughter easy assemble looks great room',\n",
       "  'crafters dream perfect organize fabric sewing studio nice solid forever',\n",
       "  'exactly needing exactly needing store sewing fabric plus gives added table surface',\n",
       "  'simply best crafters 6 fits perfectly needs',\n",
       "  'diy cutting table love easy came sturdy beautiful',\n",
       "  'perfect organizing kids toys used toy box ended emptying thing organized make big mess easier cleaned',\n",
       "  'good good product craft room price point perfect',\n",
       "  'changed living room good choice',\n",
       "  'awesome unit got granddaughters toys hidden stay living room works great girls love',\n",
       "  'perfect toy storage bought organize kids toys',\n",
       "  'versatile versatile sewing room fabric cutting table media room books',\n",
       "  'perfect bought units granddaughters bedroom perfect storing organizing toys books',\n",
       "  'awesome product perfect keeping son bedroom tidy',\n",
       "  'functional needed conceal sons toys',\n",
       "  'sewing room bought add storage sewing room simple assemble looks great thrilled',\n",
       "  'looks beautiful living toom',\n",
       "  'good bought daughter fits place perfect',\n",
       "  'beautiful color easy assemble beautiful color easy assemble room organize',\n",
       "  'perfect toys worked perfectly toy storage great priced product disappointment night glass cracked places whilst hammering dowels happen previous 3 expedit bookcases use towel wood hammering stop',\n",
       "  'great great furniture bedroom',\n",
       "  'great storage books great storage books kid toys',\n",
       "  'easy assemble love unit bought 2 laid legs island sewing room cutting table 3rd unit stands verticals holds fabric',\n",
       "  'great room basic years',\n",
       "  'visually organized craft area sorted',\n",
       "  'kallax great sewing room sideways cutting table placed wish topper finish table surface buy sheet plywood rated 5 stars categories great looks fine functional course ikea quality furniture paid satisfied',\n",
       "  'great toy storage plenty great toy storage plenty surfaces lego display',\n",
       "  'bought organize play room went bought liked',\n",
       "  'units lying sides create wonderful craft table initially purchased fromm small instead purchased plastic cutting pad joann fabrics used double sided tape adhere surface mounted plywood base sets casters totally mobile',\n",
       "  'great toy storage easy looks nice exactly storage looking living room bought canvas drawer inserts hold loose toys perfect',\n",
       "  'organizational love perfect sewing room easy assemble came quickly bumps bruises',\n",
       "  'great shelf needed craft room perfect holds tons stuff',\n",
       "  'super storage unit able assemble storage cube ease using guest sewing room storage needed sewing products',\n",
       "  'easy assembly works great storage sewing room',\n",
       "  'perfect size storage situation downsizing grandchildren toys stored house unit make look neater',\n",
       "  'works great bought month ago kid playroom kids able easily use bins toys keeps room looking clean',\n",
       "  'great sewing room got fabric storage boxes working',\n",
       "  'love college kids fits apartment cause small plus cheap kids need expensive stuff',\n",
       "  'fabulous organizer half use electronics half used daughters toys books love colour easy assemble',\n",
       "  'toy room perfect toyroom',\n",
       "  'great features good size wanted happy sewing room big size perfect want',\n",
       "  'perfect shelving craft room bought 3 stacked anchored work great wife craft room sturdy hard',\n",
       "  'baggebo looks amazing bedroom',\n",
       "  'happy kallax units love unit bought 1 quilting supplies 1 den',\n",
       "  'perfect bought books toys drona boxes wonderful addition',\n",
       "  'great perfect daughter room reliable',\n",
       "  'project sewing org love versatility product bought 2 mother law organize fabrics loved',\n",
       "  'bought daughter room organise toys perfect',\n",
       "  'great make sitting room modern really look nice',\n",
       "  'media room perfect media room',\n",
       "  'needed brought kids room love',\n",
       "  'love excellent product kids toys book storage',\n",
       "  'bought box toy area turned sideways son access box easily',\n",
       "  'storage style added doors granddaughters room toys books neatly hidden love',\n",
       "  'excellent college dorm storage daughter dorm room dresser needed shelving option hold supplies worked perfectly',\n",
       "  'exactly exactly needed aim declutter family room',\n",
       "  'storage got product amazing online deal wanting craft room love',\n",
       "  'easy install timeless design ca wrong kallax easy install timeless change boxes use change room design use drawers useful good looking',\n",
       "  'craft room favorite use room love',\n",
       "  'great room great room',\n",
       "  'great storage perfect starve kids books toys',\n",
       "  'excellent nursery great purchase equip baby room perfect size',\n",
       "  'love room house',\n",
       "  'perfect toy center grandchildren laid perfect height storing grandchildren toys',\n",
       "  'excellect daughters room drawers purchased fro jewellery hair stuff',\n",
       "  'perfect kids room perfect kids room',\n",
       "  'great design bought shelves accessories month ago created unique style matches family room design',\n",
       "  'love bought daughter room ended buying living room set horizontally easy assembly half hour',\n",
       "  'excellent versatile piece excellent versatile piece possible fifth purchased daughter room easily attractively holds toys books art supplies',\n",
       "  'perfect daughters room perfect daughters room hold books toys',\n",
       "  'perfect needed cabinet living room fit perfectly easy assemble looks great',\n",
       "  'perfect using horizontally toy storage beneath hanging perfect',\n",
       "  'shelf great addition craft room',\n",
       "  'great kids playroom great kids playroom store books toys',\n",
       "  'looks great kallax holds lot miscellaneous things living room keeps neat office work home love branas boxes fit little spaces kallax hiding things need view',\n",
       "  'craft room kallax works perfect craft room',\n",
       "  'love purchased month ago cane baskets storage children toys really god send neat organized',\n",
       "  'perfect storing kids books toys bought weeks ago pleased looks great piece organize son toys books',\n",
       "  'great great needed daughters room',\n",
       "  'looks pretty bomb looks pretty bomb room',\n",
       "  'sturdy nice design easy assemble perfect son room',\n",
       "  'nice quality purchased granddaughters room nice shine surface holds plenty items containers shelving',\n",
       "  'great extra bedroom great organising read books',\n",
       "  'bought perfect keeping daughter toys books make room pretty quite versatile piece',\n",
       "  'cubby bought daughters sewing room absolutely great',\n",
       "  'excellent quality love kallax house quality sturdiness beat brand versatile functional perfect addition room',\n",
       "  'absolutely love absolutely love 5 house',\n",
       "  'toy storage worked storage little toys',\n",
       "  'chaos calm bought kallax boxes organise art room tidy hidden view dust art room calm place create',\n",
       "  'deep toy storage love works sons room',\n",
       "  'love kallax products bought kallax units craft room work great look great',\n",
       "  'poor coordination furniture piece shelf unit connected linnmon table shelf units useless convenient use space',\n",
       "  'really like really like kids room organise library toy boxes',\n",
       "  'perfect sewing room togethervto make avfabric cutting table easy stores fabric bins perfectly',\n",
       "  'storage great organizing hiding toys',\n",
       "  'great toys second purchase units got 8 time quick great toy storage',\n",
       "  'love versatility 6 love great kids rooms placed upright highly recommend',\n",
       "  'perfect craft room im creating perfect craft room great',\n",
       "  'great product daughter great product daughter loves bedroom storage bins toys',\n",
       "  'perfect certain storage requirements units crafting room guest bedroom perfect certain specific storage needs solid substantial nice consistent finish',\n",
       "  'perfect kids room easy assemble sturdy little boys',\n",
       "  'great toy storage bought month ago expand daughters storage toys easy feels like good quality happy purchase',\n",
       "  'fantastic product easy looks sleek sons room perfect addition interior',\n",
       "  'love dozen use numerous things storage toys clothes bookcases love',\n",
       "  'great use toy box bought grandson toys keeps place tidy',\n",
       "  'bought craft room bought craft room far met expectations',\n",
       "  'love larger use pantry got hold books toys bonus room grandkids super easy short time looks great',\n",
       "  'beautiful perfect beautiful perfect office area',\n",
       "  'awesome kid room keeping daughter cute room organized easy unit',\n",
       "  'craft room organization worked storing cardmaking supplies',\n",
       "  '10 year old 10 year old',\n",
       "  'great toy storage ideal toy storage utilized purposes',\n",
       "  'bought use entertainment platform toy storage works great',\n",
       "  'great daughter great daughter years flexible living bedroom office',\n",
       "  'unit love using kids toys ways easy access kids grab toys cloth baskets',\n",
       "  'creative mind looking section daughter searching high low works stumbled utilising different modules drawer cupboard box perfect fit daughter toy book section love bits',\n",
       "  'great size love new sewing room',\n",
       "  'modern style easy assemble bought kids play room wanted look particular color offers',\n",
       "  'toy storage love weight sturdy storage playhouses garage little cars bins lego considering buying additional',\n",
       "  'great product storing baby child',\n",
       "  'love love love bought kindergarten classroom works',\n",
       "  'got shelf son daughter law new home fits perfect bedroom love',\n",
       "  'great furniture save space bedroom',\n",
       "  'built nice size bought weeks ago organize crafts knitting crocheting yarn accessories patterns awesome',\n",
       "  'family favorite use dressers toybox storage absolutely love design easy kid clothes toys',\n",
       "  'awesome shelf perfect craft room',\n",
       "  'perfect storing sewing fabric right size ability hold sewing fabric',\n",
       "  'new knitting storage needed easy',\n",
       "  'sturdy addition child room love picture books holds books toy bins helped contain piles add structure toddler room',\n",
       "  'love grey color perfect size kids rooms',\n",
       "  'exactly needed exactly needed use ny craft room space'],\n",
       " 107: ['kallax love using place store vinyl collection',\n",
       "  'great love shelves easy assemble strong bought going tv stand nice',\n",
       "  'perfect size color great assembled 30min',\n",
       "  'perfect kitchen island bought white gloss added fantastic accessories wheels placed cutting boards voila kitchen island great storage 200',\n",
       "  'looks great love book shelf ended large space originally bought decided lay use tv stand works perfectly love color finish',\n",
       "  'love use storage lying sideways',\n",
       "  'flexible product love use vertically horizontally wide use multiple stand bedroom vertically ends make nice unit',\n",
       "  'great album storage 3rd unit purchased album collection',\n",
       "  'knew ikea finding reduced price acceptable condition plus',\n",
       "  'great storage cube great storage cube',\n",
       "  'alternative chest drawers versatile practical set vertically horizontally perfect mind',\n",
       "  'colour great colour great',\n",
       "  'paintwork standard high gloss finish tainted streak melted protective covering stuck paint luckily position room delivered live 80km store wo return problem like ikea probably',\n",
       "  'solid affordable brought place big tv perfect',\n",
       "  'bought 3 units weekend home boxes missing parts live close ikea drive store try need',\n",
       "  'wrong great record collection love study',\n",
       "  'love item turned love item turned sideways tv stand',\n",
       "  'favorite piece furniture sturdy love use horizontally',\n",
       "  'furniture come furniture come expect quality ease building',\n",
       "  'good buy use tv good buy use tv stand perfect lots storage underneath',\n",
       "  'grat value strong built nice product strong built nice finish grey color choice',\n",
       "  'great size brought bout month ago use ikea 2 draw sets fit great size',\n",
       "  'use tv stand large tv wanted use stand storage underneath selected door drawer inserts used horizontally upright pre drilled holes fit inserts work vertical want use need confident drilling holes hinges wise nice solid unit',\n",
       "  'perfect second love',\n",
       "  'heavy great quality shelves instead building shelves storage decided try shelves happier husband said opinion ikea furniture improved immensely',\n",
       "  'great design tv stand boyfriend got use new tv stand happier fits tv bunch pf storage amazingly downside building really need people build',\n",
       "  'awesome got husband record collection awsome',\n",
       "  'nice design sturdy dowel holes properly drilled went ok added 7 various ikea boxes 2 drawer enclosure replace dresser smaller footprint holds good tools like mallet example',\n",
       "  'excellent quality excellent quality reasonable price guess ikea means',\n",
       "  'entertainment center laid using tv entertainment center',\n",
       "  'love bought month ago really happy looks using entertainment unit 55 tv sit easily got lots additional storage affordable solution',\n",
       "  'beautiful difficulty lining screws holes drilled',\n",
       "  'careful installing careful installing dowel pins panels shelf chips easily',\n",
       "  'highly recommend small spaces use tv stand like display items use storage boxes store items live small place use storage boxes dad seasonal decor 4 cube bedroom use tv stand stoage boxes hide extra bathroom supplies friends purchase item follow home purchases ikea easy assemble disassemble needed creative purchasing items multiple ways use',\n",
       "  'beautiful glossy white versatile love 9 different kitchen appliances cube',\n",
       "  'perfect storing vinyl record collection really like kallax products ideal purpose bought complaint panels quite different shade color compared panels companion kallax unit bought',\n",
       "  'best value money ikea best value money ikea easy understand selling item',\n",
       "  'excellent ikea easy assemble exactly expected functional classy great price',\n",
       "  'best shelving records kallax units make perfect vinyl record storage ikea offers bits shelving entertainment usage premier place build entertainment room',\n",
       "  'comfortable quite easy library use vertically horizontally',\n",
       "  'great really use files storage television stand add drawers cubby holes chest drawer possibilities really good ikea good work ikea wish newer ideas furniture uses universal tools parts ikea incorporates stuff',\n",
       "  'new kallax garbage fooled lower price tag legacy kallax pieces new version complete disappointment workmanship terrible cheap materials size different pieces flimsy use record shelves 20yr old needed replacing brand new kallax arrived damaged stained different material predecessors confidence piece bear weight hundreds vinyl records significantly smaller older version lost charm quality expect level shrinkflation low quality purveyor like amazon ikea ikea piece aware size colour quality difference trying match new piece older black brown kallax pieces best used piece good shape brand new box complete disappointment wish attach pictures better ikea',\n",
       "  'solid solid looks nice set longway tv stand',\n",
       "  'albums fit nicely shelves albums fit nicely shelves',\n",
       "  'perfect vinyl records records fit right placing kallax sideways makes perfect place turntable amplifier likes good value records equipment oh looks good',\n",
       "  'love kallax white wood work look twrrrific',\n",
       "  'needed actually purchased units white dark brown wheels stationary wheels painted ikea hack coordinates cabinets built office set sleep offers storage ikea drawers ikea boxes fit spaces brown used drawers door ikea storage boxes nightstand happier',\n",
       "  'expected overall great addition office easy set quality great standard structure flimsy setting feel like taking ikea lockdown',\n",
       "  'colors accurate display online purchased tampa fl store colors ridiculous display gorgeous opened box home colors outer pieces look like pink stripes printer used make pattern ran ink process wood texture look lacking inside shelf pieces perfect match slightly soon box open huge discrepancy colors tones pattern quality control clearly care reading online reviews platforms new problem returning hassle considering gas prices days ikea pull shelves care customers',\n",
       "  'kallax bookshelves repurpose stand turntable way vinyl albums fit job perfectly',\n",
       "  'stylish versatile sturdy love black kallax shelf unit owned 5 years used vertical bookshelf years figure new apartment bedroom looking visually rotated simple adjustment shelf unit horizontal positioning feel like bedroom aesthetic got upgrade sleek sturdy love',\n",
       "  'pretty ideal easy assemble 2 people sturdy attractive fav ikea product honestly',\n",
       "  'perfect vinyl lp storage kallax shelf unit sizing perfect 10 reel reel tapes lp vinyl storage',\n",
       "  'excellent value great look using tv stand apartment great look quick easy assemble',\n",
       "  'vinyl record shelving finally place store vinyl records',\n",
       "  'tv records storage bought 1 year purchased 1 son looks great functional',\n",
       "  'cube stand absolutely love able clean wardrobe cubes best decision buying',\n",
       "  'set vertical horizontal used area home opinion love dress bin drawers door',\n",
       "  'love cubes love cubes xmas present',\n",
       "  'great shelf bought shelves years really like especially high gloss',\n",
       "  'wish 2 x 5 used clients lot vinyl mean lot unit fails',\n",
       "  'color discontinued color discontinued hopefully thought looked better similar wood grey effect piece inside box light easy people',\n",
       "  'nice look looks nice high gloss',\n",
       "  'weeks ago like used vertically horizontally open purchasing inserts',\n",
       "  'looks great love color',\n",
       "  'great storage shelf neatens rumpus room shopped ikea shelf sturdiest best money',\n",
       "  'wonderful shelf love stand straight lay use',\n",
       "  'beautiful gray wood effect grey wood effect color awesome loved look bought hall',\n",
       "  'awesome piece furniture easy assemble sturdy multiple uses stand lay',\n",
       "  'love actually bought tv stand love lot cheaper traditional tv stand',\n",
       "  'love love',\n",
       "  'perfect tv product easy multi use house different uses',\n",
       "  'perfect daughters bedroom happy product easy assemble great storage using tv',\n",
       "  'definitely good product product really good thing availability different combinations like single cube 3x4 1x1 2x3',\n",
       "  'love especially love especially edging',\n",
       "  'lovely item great color lovely item great color',\n",
       "  'tv stand use tv sideways omitted 1',\n",
       "  'great shelves perfect sturdy look great bought shelf right shelf bought exactly year ago shelves exact size color finish new shelf color white older shelf small difference color little annoying color changed year',\n",
       "  'decent shelving unit bought shelf hopes fitting records works beautifully',\n",
       "  'wish solid grey using years sturdy fulfill purpose painted grey year sold craigslist really high demand people ended bidding bought white sadly doesnt match white furniture like bed nightstand dresser fireplace hoping ikea finally make grey finally completely grey unfinished wood looking thing ugly looking solid grey really need paint white ones grey ugh work',\n",
       "  'great shelf bought son bedroom happy layouts horizontal vertical',\n",
       "  'love love 6',\n",
       "  'used good kallax unit buy liked new house thought fit fine time quality good edges glued properly afar body right box know avoid definitely wo unit apart drive ikea store 50 miles replace defective option open box check parts store product fine prepared lowering quality really hope trend ikea bad luck',\n",
       "  'really attractive placed horizontally form long counter look great',\n",
       "  'cute love cute love',\n",
       "  'drill holes drill holes screws flat hole short',\n",
       "  'love love modular sturdy works perfect tv stand',\n",
       "  'fits perfectly bought tv console worked perfectly small corner living room fabric bins able store movies hidden look cluttered',\n",
       "  'nice unit good price added wooden legs closet horizontal looks nice perfect tv good height looks nice',\n",
       "  'dim changed compared old kallax bought 3 new units ikea new home realized ikea changed thickness frames older looks durable solid thicker new ones different location existing spend dollars good',\n",
       "  'really good furniture fit room really like color',\n",
       "  'great cubes bought craft room love bought liked laminate feel like going longer sets store purchased husband putting said quality cubes lot better bhg ones bought big box store fabric cubes fit really nice',\n",
       "  'sturdy material nice tv stand guestroom tv sits open spaces guest use temporary storage placed horizontally',\n",
       "  'perfect size great shoe storage bedroom tv sons room',\n",
       "  'love love',\n",
       "  'love love',\n",
       "  'bought month ago happy use tv stand fits tv plenty room cable box blu ray player dvds blu rays various things',\n",
       "  'beautiful glossy finish iconic shelving unit smooth white gloss finish pristine beautiful pricier matte white alternative aud 39 cheaper surface kallax looks great distance noticeably brighter lustrous matte version complement room choose store kallax design iconic ikea classic modern reworking ikea famous expedit range slimmer profiles slim lines look sleek construction outer walls fact hollow times make shelving unit feel sturdy plus light size host compatible modular storage accessories open possibilities aesthetic functional aspects shelving unit like kallax range shelving unit used vertically horizontally provide ample storage opportunities quickly collecting units',\n",
       "  'great record album storage unit excellent product solid construction simple assembly definitely job',\n",
       "  'classic ikea piece white popular classic ikea piece affordable practical piece furniture',\n",
       "  'high class easy 72 year old woman piece cake thanks ikea',\n",
       "  'versatile storage unit great look used vertically horizontally',\n",
       "  'perfect storage easy assemble great size perfect storage tv unit',\n",
       "  'perfect vinyl storage collect records probably know kallax series shelves perfect size lps units cheap look fabulous anyplace purchased white units wife craft room currently records stored black considering purchasing 5x5 cube shelf',\n",
       "  'easy build bought 2 classroom use cubbies built hour instructions easy follow comes need hammer need hammer tap wooden pegs place',\n",
       "  'love use tv stand stylish extra storage room',\n",
       "  'serves purpose modern serves purpose modern style furniture office home',\n",
       "  'great tv shelf eyes set tv stand second time came purchase husband hated saw shelf said great tv stand instead realize used glad came seen work stand storage great kids toys purchase storage boxes sold separately price great',\n",
       "  'poorly designed good appearance works came small damage surface ok thing accept shelf suuuuuuper difficult assemble extremely hard insert small wood sticks holes board makes wood sticks easy snaps thank stupid wood stick finger got hurt hate design screws',\n",
       "  'use tv tables look great',\n",
       "  'storage cubes easy assemble',\n",
       "  'great shelf holding records great shelf holding records core poor quality pricing low',\n",
       "  'vinyl storage great vinyl collection plenty sturdy easy make work needs easier assemble power tools given tools rudimentary',\n",
       "  'functional uses bought use dresser tv stand works great',\n",
       "  'designed really cool versatile furniture piece used keeping shelf kids tv base love design simplicity cons quality bad material mediocre surface peel easily like paper membrane',\n",
       "  'problem solver use white horizontally kitchen store appliances added linnmon countertop ebony ones horizontally living room tv media storage horizontally nursery used baskets far looking additional drawer door inserts saw blonde wood used office setting australian tv thinking getting double unit organizer added chicken wire stuff slide use wall plugs looks great wish blonde wood available usa',\n",
       "  'piece furniture piece furniture needed used lying dide',\n",
       "  'chic glossy white purchased bathroom storage glossy white looks amazing charcoal gray walls tapered legs added look issue hard doors drawers noticeable',\n",
       "  'great versatile cube unit bought month ago shoe storage unit decided turn media center house nick nacks places traveled',\n",
       "  'excellent product purchased product previously disappointed easy assemble ikea quality constant thanks great products',\n",
       "  'nice product issue nice product issue screws tightened damage wood',\n",
       "  'used long ways used long ways tv stand looks nice living room',\n",
       "  'located section black ones placed section black ones sticker said black got home ready build white need drove right exchanged unfortunately needed right away',\n",
       "  'bargain item dept totally satisfied practical useful attractive item furniture',\n",
       "  'couple tips easier assembly holes sized screws bite wood screw sides screws push pieces away matter hard push fix easy drill holes little bit screw slides easily 7mm drill bit perfect used pounded screws hammer time attaching subject pounding wooden dowels inserted hammer rubber mallet makes easier push pieces holes wooden dowels place',\n",
       "  'great used store records works great kallax classic ikea piece ca wrong',\n",
       "  'looks great great value piece furniture super easy took hour purchased white black perfect help organize room',\n",
       "  'love high gloss finish bought month ago store fabric craft studio took 40 minutes parts really strong',\n",
       "  'perfect tv stand works perfectly tv stand instead purchased plastic cubes fit square looks great great storage',\n",
       "  'great piece work perfect needs love great finish looks say like ikea ikea brilliant',\n",
       "  'love new color love storage really love new color hope rest cube shelves color',\n",
       "  'attractive unit records music stuff bought album collection record player receiver cd player disc holder turned great easy assemble feels sturdy like wood grain edging gray sides',\n",
       "  'good quality serves purpose price simple good quality product serves multi purpose set vertically horizontally addition choices inserts ikea carries configured differently matching room style',\n",
       "  'simple tv shelf bought support tv shelf shelves mainly used hold board games fit cubbies perfectly',\n",
       "  'went ikea halifax black kallax shelf use tv stand assembly 3 areas noted damaged 2 look like got hit bumped manufacturing error black way end spot exposed wood impressed considering costs',\n",
       "  'looks nice bought little month ago pretty easy wish instructions hammer prevent parts wood damage',\n",
       "  'best solution great price got white black rooms laid tv stand storage really happy',\n",
       "  'love bought 2 office modified adding stained wood outsides additional modifications sturdy heavy duty purchased extra drawers doors casters happy provides stylish storage going long cheap type cubby systems discount store hold pleased',\n",
       "  'great living room decor extremely bad quality wood gets damaged easily looks bad recommend',\n",
       "  'great piece furniture gave 13 year old son christmas use entertainment center worked beautifully loves',\n",
       "  'perfect 60 tv stand perfect 60 tv stand clean look',\n",
       "  'best tv stand bought convert tv stand sewing room provides storage wonderful addition room',\n",
       "  'super functional quite functional uses needed shelving house vinyl albums turntable lining pony wall perfect affordable solution holds quite bit easy assemble solid functional',\n",
       "  'versatile piece furniture easy versatile piece furniture easy',\n",
       "  'amazing versatile easy assemble good piece home thinking buy ikea quality great',\n",
       "  'matching height desk ikea using shelf unit way use desk height 30 inches matches alex white desk perfect insert drawer unit basket unit',\n",
       "  'perfect small space ikea tv stand forever time let use tv stand inserts storage perfect looks beautiful sturdy super easy',\n",
       "  'simple need filled affordable price mind piece fine furniture expect needed functional office fit perfectly needed place printer storage supplies perfect',\n",
       "  'love love perfect',\n",
       "  'exactly needed love tv stand sideways divided electronics rest baskets gives great storage options',\n",
       "  'fits albums sure going hold scratches extremely easy thought large uprights solid hollow feels pretty flimsy looks great easy assemble time tell',\n",
       "  'versatile solution messy toys craft house cleaner came moving house instead using horizontally like fit new apartment going vertical nice solid highly recommended',\n",
       "  'using tv stand using tv stand buying doors fit works perfectly',\n",
       "  'storage great issue tap screw switch times screw compressed wood board',\n",
       "  'product previously purchased returned parts missing broken went process obtain shipping label received return email ikea covid happened drive return really like product replaced set daughter room live hour away prefer shipping driving return gas costs time',\n",
       "  'excellent mishap bought shelf actually tv storage space underneath problem putting shelf piece holes drilled needed returned new super annoying',\n",
       "  'best class better cube box variety mixes use minor issue white coloured ones prone scratches dents water damage careful enlighten home',\n",
       "  'practical use shelf tv stand bought shelving decided lay flat tv stand books bought baskets store things clean look',\n",
       "  'simple stylish quality product really like simple stylish look cube storage unit multiple ways stack setup priced',\n",
       "  'kallax assembly fortunately ikea includes extra pin easily broke trying insert support help good',\n",
       "  'great shelf bought 4 kallax 8 refer craft studio perfect hold stuff love used horizontally vertically',\n",
       "  'shelving organizing bought shelves set horizontally use bins space organized looks great wall',\n",
       "  'great bookshelf tv stand really love little bookshelf turned horizontally able maximize space use tv stand gave challenging person overall happy purchase',\n",
       "  'best love',\n",
       "  'high gloss stunner come conclusion high gloss great makes standard bookshelf luxurious look reflecting light making piece richer expensive love ones',\n",
       "  'noice beautiful piece add home incredibly versatile',\n",
       "  'great product great product collector fit legos funko really super sturdy great tv stand',\n",
       "  'great product purchased great product purchased past records',\n",
       "  'love shelves works perfectly television stand',\n",
       "  'quality lacking purchased product number years ago quite satisfied unit new unit purchased half weight assembling unit wooden dowel went unit using buy ikea changed quality product bad used good value money',\n",
       "  'love house great storage different colors different cubes look wonderful easily assembled great space savers',\n",
       "  'love shelf shelf perfect size heavy disappointments wanted walnut finish evidently test color date manufacture bought light grey color come half size shelf ca tall shelf half size shelf matches ekert shelf light grey different color kallax light grey whites match ikea makes pleased ikea product development team shelf great',\n",
       "  'multi purpose used tv bench',\n",
       "  'love diversity usage vertical usage fits perfectly',\n",
       "  'using bookshelf tv unit looks stylish vibrant cheap built flat packs companies love',\n",
       "  'perfect albums right storing albums easy finished dimensions described cherry finish nicer',\n",
       "  '3 3 kallax pieces home love use vertically horizontally',\n",
       "  'great vinyl 5 prefer 2 cube longer ones feel sturdy records hold 80 lps cube depending jacket thickness',\n",
       "  'best cube shelf market easily online remains facto shelf rule sturdy easy assemble wide variety inserts customize hearts content staple condo 3 buy fourth adds stylish look place occupying dead space used separator provided anchor properly ceiling love timeless design great bang buck',\n",
       "  'fabulous holds records 3 ring binders gorgeously love options',\n",
       "  'beware different shades white comes glossy white white fine aware grab need make sure correct white',\n",
       "  'great buy value purchased suit new 65 tv perfect hard choice ikea different options tv glad chose allowed display numerous animal sculptures dvd yes dvd age streaming great buy value',\n",
       "  'love sure white gloss finish absolutely love look use craft room craft storage fits need plus',\n",
       "  'great toy room storage saw pinterest recreated using units stacked perfect packages short wooden dowels anot inconvenience assembly quite easy',\n",
       "  'nice tv stand product nice worked tv stand happy price great',\n",
       "  'great bar used sideways bar',\n",
       "  'great unit purpose bought fit vinyl records stereo',\n",
       "  'regret getting white oak looks ugly',\n",
       "  'good shinny wanted non gloss bought past unfortunately sold anymore',\n",
       "  'perfect colors remodel kitchen grey cabinets shelf unit transition natural wood furniture family room kids store backpacks',\n",
       "  'easy assemble easy assemble person easier person help typical ikea quality material soft careful hammer given low price good value',\n",
       "  'great shelf poor packing ordered shelf second hardware manual box called ship house stock store parts received wooden dowels missing wooden dowels shipped twice completely able needless say weeks purchasing able frustrating great shelf',\n",
       "  'cubes look great easily assembled function perfectly',\n",
       "  'nearly nice used bought kallax series shelves early days ikea arrival early 2000s products reasonably priced cheap disappointed drop quality shelving units pay little quality used buy plain cheap price quality old units moved home home room room withstood wear tear new ones definitely wo hollow core sides thinner shelves cheaper chip board hearty withstand assembly let use extra careful tapping wood peg holes push wood exterior wall chip board flaking ends shelf boards easily flaked pegs tapped color rubbed painted edges shelves disappointed product ikea obvious reduction quality',\n",
       "  'love love',\n",
       "  'easy assembled easy assembled eighty years old great ikea',\n",
       "  'great color finish great color makes fabulous match white furniture',\n",
       "  'great furniture great furniture',\n",
       "  'excellent tv stand storage product good bought 2nd basement easily holds 55 tv games peripherals looking stylish',\n",
       "  'versatile product strong easy assemble looks great variety uses add ons amazing ikea best',\n",
       "  'great entertainment center added doors drawers best entertainment center',\n",
       "  'properly kallax delivered misaligned holes small screws making nearly impossible build',\n",
       "  'arguably best shelving vinyl bought 2 x 4 kallax shelving units additional 2 x 2 kallax unit 10 matching door inserts record collection spent long time researching shelves records hold risking ring wear records fit inside door inserts pulling trigger glad look amazing study shelves signs bowing weight vinyl finish rich brown easy wipe clean sturdy relatively easy assemble took longer install door inserts purchased separately install shelves versatile quality product gives peace mind knowing collection definitely recommend',\n",
       "  'storage unit good sturdy floor long ways doors storage tv',\n",
       "  'boards boards short 2mm longer installed shows gaps board boards acceptable',\n",
       "  'easy easy love wood grain look',\n",
       "  'really good love ikea apartment decorate ikea furniture',\n",
       "  'best kallaxy records vinyl lps collect plain love buying music vinyl know shelf ikea records fit perfectly shelves quality pretty great got walnut finish complements white apartment walls nicely',\n",
       "  'best cube unit bought brand ikea better quality super easy customize',\n",
       "  'like color like color design',\n",
       "  'holes match holes match product managed difficult',\n",
       "  'great shelf vanilla ikea shelf favorite topping color absolutely excellent love solid grey sides lighter mix',\n",
       "  'stylish shelf unit bought add storage daughter bedroom perfect vertical currently definitely like option use horizontally decide',\n",
       "  'dowels broke install dowels broke install nice couple extra pkg compensate case carry handle openings boxes helpful',\n",
       "  'record excellent value easy record case good standing',\n",
       "  'love love',\n",
       "  'great record collecters love need',\n",
       "  'awesome vinyl records excellent vinyl records',\n",
       "  'sturdy shelving bought 2 horizontally instead vertically make large crafting table sewing room got baskets coasters ease moving love',\n",
       "  'came slightly damaged came slightly damaged panel bit disappointed receipt way',\n",
       "  'flawed functional drill holes small given screw improvise',\n",
       "  'right size sturdy kallax hold lps right size great way display albums',\n",
       "  'great shelf built way used let start saying picked shelf store packaged damaged easy exactly pictured white chose cube spaces fit 13x13 organizers perfect happy ikea products experience bit disheartening identical kallax shelf 7 years old color quality durable weight solid size definitely different new time paid new paid noticed edges inch compared makes inch shorter thought cost difference ikea lowering prices member type price like certain products remains case quality changed appearance remained owned kallax shelf noticed situation think great piece low traffic area current materials used highly recommend high traffic use material durable time tell material used building using overall materials comes lesser weight solid new looks great overall quality changed experience deterred wanting ikea love store know known quality weight different looked hope helps',\n",
       "  'favourite ikea furniture admired item',\n",
       "  'quality declined product match previously purchased kallax units finish increase price drastic decline quality return veneer pink wood grain',\n",
       "  'lovely size clean lines old modular wardrobe set shelves baskets boxes various sizes colours bedroom storage hideous searched potential replacement ikea kallax sale able shelf set additions great prices filled 2 drawer sets glass shelf 4 red dröna boxes looks fabulous white hemnes dressing table purchased year red adds lovely accent white walls furniture great option organising room',\n",
       "  'good quality happy product look stand fit son room good value spent',\n",
       "  'kallax review sturdy shelf nice choice like flexibility using vertically horizontally',\n",
       "  'usual standards assembly dowels blew laminate opposite board 2 places straight dumpster money wasted',\n",
       "  'ca beat price outstanding piece modern furniture affordable price remember add cube inserts storage installation easy need soft hammer mallet push wooden dowels pieces btw used wood glue extra strength required help overall pretty happy',\n",
       "  'perfect cubby storage perfect cubby storage',\n",
       "  'great sturdy multipurpose bought tv stand storage space tiny home daughter bought children toys work look amazing',\n",
       "  'kallax bookshelves practical attractive unit fits really looks great vertical horizontal',\n",
       "  'perfect needs wanted tv stand living room usual stands available item perfect live upper flat wanted product use storage displaying pictures items functional tv stand assembly simple easy looks great small space',\n",
       "  'great storage flipped sideways gives nice look',\n",
       "  'big hole need quality control ordered paid shipping opened box gash huge ding hassle schedule return',\n",
       "  'home vinyl records product home solution treasure vinyl records dimensions spot 12 singles albums perfect',\n",
       "  'flexible uses easy person great vertical horizontal uses',\n",
       "  'versatile second unit love versatility set upright layed vertically open concept use bins great product great price',\n",
       "  'excellent storage love clever cube sturdy attractive handy',\n",
       "  'good fit smaller spaces bought month ago boards split putting ikea easy return process exchanged questions asked second went issues quite sturdy looks great functional',\n",
       "  'quality control issues purchased assembled expected piece forgot drill holes pack drive hour round trip hopefully correctly manufactured',\n",
       "  'perfect cubes best quality cube storage market love product especially products tailor needs space perfection',\n",
       "  'love exactly needed place looking neat organized quick easy assemble need assistance end breaking wooden pegs trying maneuver holes predrilled big deal popped extra pegs holes',\n",
       "  'super awesome shelf waited specific stock kallax shelf ikea piece furniture matter exactly hoped durable looks great parts fit perfectly like brands light weight',\n",
       "  'practical looks great useful love darker wood option',\n",
       "  'love hate gloss model 4 kallax shelves veneered love tough attractive set purchased white gloss specifically gloss paint generally understood tougher harder easier clean knows paint knows toddler playroom imagine disappointment dropped aa battery 2 inches middle surface shelf chip deeply edge slightly understandable extremely disappointing furthermore presumably prevent scratching surface shelving unit arrives protective tape edge easily peel taking tape took time bolting thing super annoying let hope markers wipe easily cleaning wipe paint',\n",
       "  'sturdy product price sturdy product price use tv stand lots storage recommend',\n",
       "  'new tv fits perfectly new tv fits perfectly looking tv stand height worked great price fantastic',\n",
       "  'holding massive record collection units great going stand decided lay sides look great sturdy hold massive record collection great buy',\n",
       "  'perfect bought needed extra storage use 65 tv size scale perfect bins spacious easy assemble person sturdy great piece',\n",
       "  'works tv bench bought college apartment needed tv afford real ones kallax works great plenty storage assembled problems looks great apartment exactly looking',\n",
       "  'versatile bought shelf month ago use tv stand shelving living room easy assemble useful addition versatile',\n",
       "  'easy solution small space using dresser old got damaged moving inexpensive solution works great stable 55 inch tv sound bar',\n",
       "  'shelves great turned shelves great turned sideways tv',\n",
       "  'best shelf best shelf home ikea best products beats',\n",
       "  'buy item ikea great item using tv stand organizer living room excellent build quality years highly recommend',\n",
       "  'easy build easiest pieces ikea furniture build need people husband half hour using bedside extra storage small room wish screws center stabilize wooden pegs center parts sturdy thing wish dark brown option stain',\n",
       "  'cube storage unit cube storage unit',\n",
       "  'holds records bought item based multiple recommendations various collector sites avid record collector perfect hold albums cube hold 50 60 records easy assemble sad weight',\n",
       "  'perfect media storage kallax shelf units 2 x 4 square option 2 x 2 square option media storage home simple sturdy functional gone purchased family member use book record storage little amp fits cubes perfectly quality good stood moves simple look clean overwhelm space',\n",
       "  'husband love husband love',\n",
       "  'needed purchased piece use horizontally added doors end drawers middle baskets beautiful piece works intended',\n",
       "  'shelves love tv perfect height size looks great living room',\n",
       "  'box sleeves amazing vinyl storage',\n",
       "  'ikea classic reason used tv stand easy assemble sturdy item good value',\n",
       "  'great shelf unit bought grey wood effect unit colors look generic added captiva legs raise floor horizontally looks better high end plus dust big box stores carry units similiar kallax unit better quality thicker materials inserts unit low quality stick using baskets waste money door unit inserts drawers inserts bad ikea lowered quality shame shelf unit great records',\n",
       "  'wonderful storage vinyl records unit works great music station living room bookshelf stereo record player snack tray sit records 4 cubbies speakers drawers cds tapes unit attractive sturdy fits space easy installing drawers',\n",
       "  'versatile love kallax furniture pieces super versatile use book case drawers clothes storage organizer display tv stand rotate different uses',\n",
       "  'ok patch original bought kallax 2013 impressed finish quality admit sorely disappointed latest incarnation cheap poorly dubious quality experience seriously rocked previous opinion ikea products',\n",
       "  'small perfect easy assemble looks amazing minimalist room tv goes 4 boxes gives room color tone buala',\n",
       "  'impossible ruining tried hammering gently changing hammers hammering hammer finish edges wooden pegs hammered keeps cracking looking horrible upset build besta burs desk issues',\n",
       "  'love versatile inexpensive piece furniture perfect use room easy assemble',\n",
       "  'sure gave ratings simple construct peeling plastic shelve edges takes longer construction tab grab ok started struggle long time section peel bought past deal protective coverings based buy',\n",
       "  'awesome purchase bought college apartment son looks fantastic used vertical horizontal easy got home great item great price',\n",
       "  'think instructions better use mallet tapping dowels fan particle board easily removed vaneet needed solid price',\n",
       "  'great shelf easy construction need matching inser bought dining area enhanced look room cute color walnut colored shelf come matching shelf disappointing bought white doors trying use matching contact paper diy',\n",
       "  'perfect furniture great furniture good quality',\n",
       "  'tv stand got piece christmas new tv tv 55in fits perfectly think piece looks better person sleek clean looks great gray white bins highly recommend',\n",
       "  'love love',\n",
       "  'great love colour sturdiness',\n",
       "  'use use tv stand works fine',\n",
       "  '5 stars makes great tv stand',\n",
       "  'tv wheels use tv stand perfect records',\n",
       "  'wonderful tv stand husband recently moved home wanted functional tv stand gamers means needed plenty storage consoles controllers games easy materials sturdy makes living room pop love recommend looking different type tv stand',\n",
       "  'used tv stand layed adding square shelves cubes looks amazing love',\n",
       "  'superb quality item easy build easy build make sure electric screwdriver make task easier materials quality finish looks superb recommend anyday ikea',\n",
       "  'great dorm rooms bought piece daughter dorm room perfect extra storage using tv stand',\n",
       "  'lots options simple offer options cubicles drawers doors bins bought biggest 25 cubicle unit room putting heater intake legs line adjustable heights ikea husband couple things make earthquake proof instead using anti tip brackets limited locations brackets studs good problem solver price right love wish make 6 cubicle problem area needs',\n",
       "  'worst brought month ago come screws unit called store problem told contact vendor makes unit needless say got screws unit sitting unit cost wasted money',\n",
       "  'gray way unit fit room decor perfectly shade gray absolutely neutral use color walls color furniture rooms happy camper',\n",
       "  'oak wood nice oak wood nice',\n",
       "  'happy customer awesome product perfect piece furniture fits room needs',\n",
       "  'love love',\n",
       "  'grey features love needed',\n",
       "  'bought bought older surprise size changed shame ikea',\n",
       "  'clean beautiful love bookshelves look sides tv stand',\n",
       "  'excellent product easiest ikea excellent product easiest ikea furniture works great',\n",
       "  'multi purpose used tv stand great added doors drawers love',\n",
       "  'beware product changed advertising product using stock number significantly worse quality used picked ikea atlanta noticed box 49 lbs white 74 lbs apparently 74 lbs good version newer weighs 49 lbs junk build website listed 74 lbs uses stock number',\n",
       "  'love love',\n",
       "  'easy assemble fits needs good looking piece furniture',\n",
       "  'great tv stand easy great storage using cubes',\n",
       "  'perfect living room bought living room placed horizontally looks great love grey wood contrast looks nicer ones solid colors',\n",
       "  'perfect toy storage love shelving unit fact use horizontally vertically depending room great way organized storage love ikea selection cube baskets fit inside',\n",
       "  'damaged delivery unit works damaged spots presume happened transport',\n",
       "  'good records use half records cubes perfect size use half toys',\n",
       "  'good price looks better difficult dowels place hammer little bit hammering dowels place caused wood chip looks good',\n",
       "  'job assembling item wooden pins punctured unit appeared caused holes deep',\n",
       "  'used different ways looks beautiful horizontal vertical',\n",
       "  'high gloss white white ugly yellow white high gloss white yellowish true white looks disgusting blue pansartax boxes mention originally delivered base ended order base pay delivery twice customer service wait week boards arrived damaged worst honestly color fact complicated construct return',\n",
       "  'shelf easy set vertically horizontal perfect',\n",
       "  'cube storage happy gloss finish sturdy hired tradesperson assemble product',\n",
       "  'perfect vinyl collection multiples better storing vinyl',\n",
       "  'perfect love',\n",
       "  'needed wanted tv little storage fit easy assemble cute',\n",
       "  'great vinyl collectors needed vinyl records collected years keeping boxes apartment trick 13x13 shelving space perfect size records set vertically horizontally really easy set best assembler ikea furniture unit ready 30 minutes',\n",
       "  'use organizer use organizer tv stand',\n",
       "  'using tv stand laying sideways',\n",
       "  'cubes easy make tape hard sides pieces',\n",
       "  'sturdy stylish half hours time solid sturdy build looks amazing tv stand amazing price',\n",
       "  'best value furniture serve purpose designed great value money',\n",
       "  'happened swedish engineering 2x4 kallax expecting 79 1 screws used fit base pieces required use electric drill secure place provided grossly inadequate task 2 accessory shelf purchased use unit fit spent hour carefully shaving excess material slide slot 3 instructions closing door cabinet accessory inadequate process appears require pieces screwed frame obvious concerns applying sufficient force start screw snapping walls 4 box short fluted dowels local hardware stores unable provide identicle replacement 60 mile round trip ikea warehouse required remember couple extra pieces hardware packed incase loss damage assembly',\n",
       "  'love great tv stand added backing perfect',\n",
       "  'favorite items shelf used display tv stand turned linen closet shelf placed 3 family room effect amazing pictures books figurines display',\n",
       "  'high gloss high quality satisfied shelf love high gloss elevates look shelf sturdy wobble mounting wall instructions easy follow purchased highly recommend',\n",
       "  'great piece furniture second sell old years moving couple states come',\n",
       "  'perfect tv stand absolutley love easy enjoy way fits ito decor',\n",
       "  'enjoyed product new reassembly kallax innovative design compared billy bookshelf product line easy assemble came fresh box unfortunately kallax age purchased kallax door shelf inserts years ago disassembled moving outer veneer sloughed delamination happened used masking tape bundle components moving company veneer came masking tape particularly poor vertical horizontal slats tape remained kallax surfaces weeks figure refinish damaged surfaces issue design components warped time mm gaps dowlings secured adjacent pieces shelves used indoors away wet surfaces holding valuable components reassembly kallax looks tawdry purchase product',\n",
       "  'nice piece furniture nice piece furniture workplace suits function style',\n",
       "  'perfect love high gloss purchased durability resistance scratches issue parts gloss paint chipped near unfinished edges shelf inserts little disappointed rest beautiful',\n",
       "  'wrong color box purchased second kallax unit black color match sticker box indicated color black pieces inside white live 5 hours away justify driving return highly recommend pop box open leave store double check color',\n",
       "  'love cube holes use tv stand',\n",
       "  'perfect vinyl records 400 vinyl record albums shelf unit perfect storing great value easy assemble attractive',\n",
       "  'versatile fresh modern piece ideal display used mode hold small flatscreen tv excellent',\n",
       "  'versatile storage bought ago love versatility used horizontally vertically baskets cubes',\n",
       "  'lots storage deep rotated piece long ways surface work way',\n",
       "  'excellent product fit albums excellent product fit albums perfectly strong sturdy',\n",
       "  'beautiful looks great look like piece furniture',\n",
       "  'affordable practical stylish storage solid fit cubes ikea cubes prefer shelves handy quite roomy',\n",
       "  'classic workhorse bought store vinyl finish nice looks classier simple solid sure secure wall storing heavy items like books records',\n",
       "  'perfect record albums 2 horizontal using 2 long low storage units fit large collection lp photo albums good quality easy assemble',\n",
       "  'used easy assemble quality getting bad bought furniture 2020 sturdy lamination looked bit real feel like feather lamination looks super fake gives impression glue hold long peel ikea used make good quality furniture letting',\n",
       "  'tv stand easy enjoy tv stand storage',\n",
       "  'exactly looking perfect vinyl needs',\n",
       "  'storage purchased use tv unit grandkids bedroom love grey wood grain look good price easy assembly',\n",
       "  'new shelves awful bought office couple years ago good sturdy lovely finish price went match new shelves poor quality match ikea awful shiny white dimensions sturdy plus delivery nightmare order ikea',\n",
       "  'good product bought make items easily accessible elderly mother wanted items easy reach installed storage room sideways position safer',\n",
       "  'great happy purchase want decorate house ikea',\n",
       "  'favorite piece furniture like easy assemble practical store',\n",
       "  'great unit bought den area horizontal like low dresser vertically like bookcase pretty great match like grey wood color looks sleek modern warm seaweed baskets fit careful baskets pokey make clothes smell like straw horizontal added kallax grey doors wish doors came golden knobs silver knobs match warm tone wood overall sturdy fantastic price hard assemble really add ton store equivalent sized dresser space excited someday repurpose easily tv stand bookshelf virtually room house bedroom thanks ikea',\n",
       "  'perfect used length wise perfect color amazing purchase happy bought piece satisfied',\n",
       "  'love piece turned makes perfect table',\n",
       "  'perfect really great versatile piece furniture love',\n",
       "  'durable typical ikea furniture requiring people perserverece strong durable furniture love shelf',\n",
       "  'cubes favorite cubes favorite storage awesome',\n",
       "  'love unit purchased lay sideways tv entertainment center perfectly hides movies cords cube baskets purchased',\n",
       "  'great record player vinyls searched big turntable space hold vinyls came store fits perfectly perfect size easy price bad want bigger house',\n",
       "  'versatile home function tv stands trendy looking dressers storage container need',\n",
       "  'love kallax love color combo kallax sturdy attractive bookcase really impressed grey wood effect color choice',\n",
       "  'bad quality recently bought kallax resembling furniture couple wooden interlocks reach holes quality issue needs addressed producers',\n",
       "  'bought base piece bought base piece single unit house vinyl record albums',\n",
       "  'works swedish person ikea life forever',\n",
       "  'function look difficult high sheen looks perfect office bought utilized bookcase utilized printer desk accessories love product',\n",
       "  'great size using tv room entertainment unit shelving games consoles heaps storage space',\n",
       "  'good bookshelf good product placed horizontally vertically issues',\n",
       "  'love high gloss finish fits perfectly wanted',\n",
       "  'strong great quality better quality expected sturdy strong hold tv easy great product',\n",
       "  'perfect tv stand perfect tv stand',\n",
       "  'designed built woodworker pleased design ikea products easy holes line',\n",
       "  'bought different colors easy holds great definitely worth price',\n",
       "  'great storage solid build great storing odd items pull cube boxes',\n",
       "  'perfect 60 tv bought tv stand works perfect looks amazing',\n",
       "  'new cheaper kallax great ikea brag cheaper price warned quality new kallax drastically different substantially smaller original definitely cheaper materials came scuffed weird black stain super disappointed wanted match original height inch smaller way stable yes cheaper dollarstore version kallax different confused original way',\n",
       "  'different approach turn sideways new tv stand fits 56 flat screen tv fine',\n",
       "  'great look love dark brown color add color storage inserts versatile looks',\n",
       "  'storage cubes worked great',\n",
       "  'kallax gloss white best pieces furniture bought glad chose glossy looks good black inserts',\n",
       "  'reliable furniture versatile piece room',\n",
       "  'toy storage love colour bought rattan cubes gave rustic appearance easy assemble',\n",
       "  'great furniture simple fit use needs',\n",
       "  'exactly needed hello wanted share bought piece use tv stand positively love storage display space lovely added bonus tv appears larger higher built piece entirely 21 year old female probably took hour snack breaks highly recommend product multitude reasons',\n",
       "  'missing parts good unit home parts missing cost white units high cost living going 3 months getting harder purchase items family love products company needs mindful companies australia selling items slightly cheaper',\n",
       "  'awesome cubbies bought world practical cost effective great looking',\n",
       "  'going quality ikea ikea leaving disappointed im repeat customer god knows sofa bed bought 25 years ago ikea frame cushions actually perfect shape fabric years course pretty worn sofa house long story short today bought kallax bookcase course years 8th home ones clients ive assembled ikea furnitute zero hassle today believe pathetic quality finish bookcase worst misaligned holes kidding entire ikea lifelong purchases encountered misaligned holes like today ive purchased kallax bookcases faced issue super disappointed reconsidering buying today',\n",
       "  'really nice shelf really nice shelf tv',\n",
       "  'kallax shelving old vinyl lp compartments kallax line perfect fit albums piece furniture solid sturdy functional',\n",
       "  'unfinished look brought 3 great got putting come plastic screw covers like mention need purchased separately store online looks horrible big screws showing really stand colour disappointed especially paying 169 cupboard box inserts',\n",
       "  'floating tv stand husband used create floating tv stand connecting kallax desired length happy finished project',\n",
       "  'easy looks great bought dolly bring purchases apartment ikea easy ikea supplies tools going attach wall unit wall need screw driver looks great ikea different sizes shelving unit',\n",
       "  'versatile ways incorporate piece furniture room like fact ikea option add doors drawers use baskets foldable cubes love',\n",
       "  'versatile shoe storage bedroom tv storage love',\n",
       "  'great storage unit shelf unit bare hallway horizontally makes difference pretty easy person really solid love size cubbies display items fit perfectly',\n",
       "  'disappointed love kallax son swears uses concept excellent unfortunately quality great screw holes wo work properly screw keeps eating inside wo tighten properly dowels went veneer cabinet thing fragile really think buy ikea love flexibility unit want chance',\n",
       "  'roomy love unit stylish practical running things really added needed storage small space bulky cubes underestimated value trust looked',\n",
       "  'older versions better quintessential vinyl records storage shelf older version like years ago actually kind heavy acquired records years needed new version super light printed finish look nearly natural tell quality gone downhill price gone figure got set problem guy taskrabbit come install ceiling unit apartment dropped immediately big hole outer frame solid particleboard anymore hollow warned total junk easily damaged',\n",
       "  'love shelf love shelf easy assemble added wooden doors shelves looks stylish',\n",
       "  'looks lovely easy looks great easy construct natural wood tones blend',\n",
       "  'ikea changes expedit dimensions meet new eco goals owner expedit shelving unit thought marvelously cost efficient sturdy units finally break buy smaller kallax units need new storage arose kallax basically slightly smaller exterior dimension version expeditor interior storage shelf dimensions new units feel distinctly robust exterior finish cladding bit cheaper looking understand ikea save considerable wood product given enormous volume kallax sell worldwide lament passing better quality expedit',\n",
       "  'versatile product love got 5 white glossy',\n",
       "  'great buy bought tv stand laying wide display item buy drawers cubes fit look awesome',\n",
       "  'fast construction probably easiest build ikea built similar products companies kallax sturdy far',\n",
       "  'harder thought lot ikea furniture years kallax 2 x 4 unit probably difficult piece granted instructions 2 people main problem wooden dowels big holes incredibly hard pieces mdf piece fragile usual pieces crumbled working directions attaching caster wheels incomprehensible contain incorrect information watch youtube video figure piece love buy unpleasant assembly positive note bought kallax 1 x 4 breeze assemble buy',\n",
       "  'works great space box middle living room week decided able easier thought love using wall mounted tv thinking getting couple organize small appliances kitchen',\n",
       "  'kallax high gloss white nice unit clean lines sturdy construction nice small plugs white gloss material countersink holes sides unit exposed screw heads order conceal stylish',\n",
       "  'kallax good storing vinyl albums',\n",
       "  'cubes easier past units assembled',\n",
       "  'looks like photos easy assemble surprisingly easiest assemblies ikea products went smoothly looks great packaged',\n",
       "  'great piece furniture looks great easy assemble provides storage display room',\n",
       "  'perfect laying horizontally turned horizontally perfect small tv laptop used exercise room wide taller tv table long hold lots storage needed spending fortune thanks ikea',\n",
       "  'started peeling corners happy got 6 months started peeling corners quite disappointing high regards ikeas quality',\n",
       "  'great bought 3 months ago far best pieces furniture versitile house',\n",
       "  'great looking practical looked unstable screws job amazingly',\n",
       "  'great storage cube easy assemble cute versatile ended buying toys love ikea',\n",
       "  'good product purchased mainly wanted stock figure turned perfectly fine office area holds cubes craft supplies really nice',\n",
       "  'great tv stand bought 60 tv difficult time finding suitable size tv stand kallax 16 cube shelf bought matches tv fit perfectly accessories fit sturdy looks good plenty storage area happy purchase',\n",
       "  'great furniture great furniture works great',\n",
       "  'poor assembly step building stupid thing incomplete hole drill screw fit shelves fit wooden dowels long dented areas dowels broken inside holes hours ridiculous disgusted',\n",
       "  'sturdy bought 55 tv perfect sturdy heavy',\n",
       "  'nice versatile shelving love shelving unit chose position horizontally nice option added optional baskets gives finished look nice piece furniture add room need little extra storage want display books art pieces',\n",
       "  'second second love',\n",
       "  'works great tv stand dresser viewed dressers realising decided kallax turn add couple dronas worked excellent tv stand couples dresser ikea products breeze assemble',\n",
       "  'expected think good piece provided going use heavy items expect years years think ikea items short term purchases handed saying think products worth pay',\n",
       "  'use tv stand 65 tv stands way overpriced works perfectly shelves narrow remove panel obviously works great',\n",
       "  'love love',\n",
       "  'love love',\n",
       "  'love glad brought love looks room use tv stand place picture ect shelves',\n",
       "  'wood pegs fit holes expecting sturdy looking pictures turns entire thing held round wooden pegs worst pegs fit holes properly trying push shelves wooden pegs work use tool try shelf cheap fake wood dents veneer cracks recommend spend money higher quality piece furniture',\n",
       "  'used record storage unit using unit record player speakers cubes store records record player speaker fit perfectly cubes correct size fit records aesthetically beautiful unit unit easy assembly purchased cupboard inserts left right cubes cupboards easy assemble holes unit used horizontally took phone ikea confirm yes hole using unit horizontally cupboard inserts screw cupboards thankfully worked took pressure screw finish cupboards tuned great unit great product great price',\n",
       "  'used wardrobe provide shelves repurposed tv',\n",
       "  'awesome tv stand small home lot storage bought tv stand perfect bought scubes holds tv components scubes hide junk make look good absolutely love',\n",
       "  'quintessential record cabinet perfect vinyl use nice quality easy assemble product small damage packaged factory product damage plank opened box make sure carefully inspect opening overall looks great holding media',\n",
       "  'love sturdy love color',\n",
       "  'good quality steady furniture good quality steady furniture',\n",
       "  'bought records bought record collection perfectly sized sturdy',\n",
       "  'great features good pair desk bought size fits small bedroom',\n",
       "  'product better surprised recommend bought 5 better homes garden identical looking product sold brand shipped house free needed 1 went ikea bought husband time shocked brand better quality sturdier installation method 5 savings come close worth factoring deliver house',\n",
       "  'great product versatile love versatility ikea shelves easy assemble shelf bout 6 years ago moved europe disassemble strong added drawers doors shelves love add ons easy install look like came way',\n",
       "  'great use ways vertically horizontal',\n",
       "  'great easy assemble used multiple ways decided lay horizontally use living room tv stand purchased gnabbas',\n",
       "  'nice unit vinyl good easily fits vinyl albums perfectly',\n",
       "  'kallax shelves crafting perfect shelving display works perfectly configuration crafting table storage space layer horizontally',\n",
       "  'love waiting color taking forever available pleased product waiting picticular color available forever hope available summer',\n",
       "  'great toy storage versatile excellent storage vertical horizontal definitely buy wish ikea protective glass surface like dressers wish optional legs available raise ground like besta units',\n",
       "  'great vinyl bought hold large vinyl collection works better 11 12 inches deep great sturdy hold lot vinyl sure anchor wall',\n",
       "  'looks good screws long couple screws pushed wood outside wood leaving bumps outside edge',\n",
       "  'little imperfect bought going sale december 1st struggle return rebuy bought 2 horizontally end end units line ends bowed gap touch middle design flaw guess units',\n",
       "  'great value bought record player vinyl storage looks great',\n",
       "  'usual great ikea product reason gave stars instead instructions said needed hammer really need rubber mallet hammer hammer damaged product package include stickers cover exposed screws annoying make trip ikea',\n",
       "  'excellent purchased shelf used stand 50 inch flat screen tv extra bedroom home easy piece furniture perfect room',\n",
       "  'low cost vinyl rack option low cost vinyl rack option panel cover better',\n",
       "  'sa happy love ikea piotr',\n",
       "  'good product good product versatile use book shelf children toy storage tv unit storage organization',\n",
       "  'cardboard furniture particle board bought white oak finish kallax unit complete scam shelf cardboard particle board white oak finish peeled assembly way peeled like sheet wrapping paper thinner actual wrapping paper knew supposed particle board literally cardboard paper wrapping kallax shelves couple years ago holding finished paper material buyer beware waste money lower disposable furniture',\n",
       "  'sturdy right size unit built connecting holes line perfectly pushing pulling love fact add doors drawers',\n",
       "  'great item looks great contrast trim great piece furniture storage display',\n",
       "  'best functional display storage 12 vinyl collections',\n",
       "  'old kallax highly disappointed ikea bought 3rd kallax quality material absolute garbage known ikea went quality products making furniture cheapest material possible bought 3rd kallax kallax lot lighter particle dust packaging horribly kallax easily able scratched damaged quality faux wood film subpar buying piece furniture foreseeable future ikea reason plan keeping time lug ikea',\n",
       "  'perfect storage vinyl perfect storage vinyl collection laid',\n",
       "  'shelf unit bought store large record lps collection works perfectly records fit neatly stand holds weight',\n",
       "  'works sofa added doors drawers changed knobs ikea kitchen loop handles highly functional piece',\n",
       "  '6 times defective kallax 8 cube kallax 8 cube past issues january 2024 bought 2 manufacturing defect assembled sides shorter middle consequence shelf bend slightly shelf wobble requested exchange new ones defect tried exchanging 3rd time defect waste time got 4x4 16 cube problem ikea improve quality controls 6 defective items row',\n",
       "  'needed happy item use horizontally tv stand perfect size looking great price',\n",
       "  'versatile nice modern okay got wanted rid humongous entertainment center pros came handy used vertical horizontal way difficult understand takes little space small space clean modern versatile need people space furniture maneuver pegs need hammered holes standard smaller difficult pegs carefully pressed sawdust easily crack edges remember states directions needs star screwdriver little thingies mounted wall fit cable box books',\n",
       "  'stylish functional turned long use long entryway looks fabulous rattan inserts cubbies love reconfigure inserts different ways perfect displaying personal treasures cubbies surface used display practical purposes like zone people enter leave want reconfigure room turn short versatile elegant looking love',\n",
       "  'kallax tv stand wanted open storage extra large tv worked great',\n",
       "  'love cube storage bought dining room perfectly fits vinyl records inside player fits nicely plenty room bar accessories alcohol looks really nice sturdier units walmart target',\n",
       "  'right fit love kallangur shelving unit used son bedroom stood vertical horizontal allowed create bench shelving issue person build',\n",
       "  'eh used cheap partial board',\n",
       "  'happy customers expedit past sure replacement really looks great fantastic addition home chose gloss finish gloss doors looks great great organising things happy',\n",
       "  'highly recommend bought ikea detolf sit lie using detolf gerbil cage easy assemble instructions clear good quality need buy inserts',\n",
       "  'fasten wall receive screws wall fasteners guess buy hardware store',\n",
       "  'build media centre stackable mountable wall used media centre music collecting collect vinyl cd able make custom worked home kallax products home',\n",
       "  'perfect storage bought turned use sideboard packaging issue single piece shrink wrapped plastic covering edges sides took time remove plastic assembly tabs peel',\n",
       "  'functional furniture multiple iterations kallax home use toys craft supplies tv stand perfect size 65 tv used drawer inserts love',\n",
       "  'built tv set bought 2 1x4 style entertainment unit store collectables records books hold cable box play station amp turn table ease 300 records worked perfect wanted',\n",
       "  'love love perfect space sturdy nice color easy',\n",
       "  'love love use tv stand',\n",
       "  'great living room space tv stand great living space tv stand wish foam feet horizontal orientation pricing color options',\n",
       "  'ikea furniture assemble incredibly easy shelves classic ikea really makes best quality version vs sellers complaint lot things buy usually white love able buy black match shelves',\n",
       "  'great furniture love bought 3x using tv unit materials easy assemble',\n",
       "  'good contrast good timing holiday season coz family place',\n",
       "  'bought 2 month needed tidy vinyl records fit perfectly wine bottles stack shelves plenty room books paperwork oh quick simple assemble',\n",
       "  'easy wish came proper black brown black',\n",
       "  'love yhis love shelf little home white black used horizontal vertically currently horizontally office printer storage baskets underneath boys room used bookshelf love',\n",
       "  'great functionality rooms really like functionality ease organization piece offers look piece furniture sub par holes screws sides ikea offer screw holes went asked buy ikea cover screw holes referred home depot good makes look piece look cheap unfinished major complaint product',\n",
       "  'frame hollow frame hollow hit package paper board fragile frame',\n",
       "  'love use horizontal vertical excellent size use baskets',\n",
       "  'great closet storage bought 3 sturdy matching drawers doors colour',\n",
       "  'functional piece blends existing brown gray blue wood tones',\n",
       "  'like option like option use book shelf vertical horizontal orientation',\n",
       "  'really hard assemble really rough frustrating time assembling shelf unit biggest issue holes provided big deep spend hour half manually making holes larger deeper screws fit properly total holes needed adjustment incredibly frustrating disappointing especially expected assembly straightforward overall dissatisfied experience recommend product prepared extra work pieces fit properly',\n",
       "  'great entertainment center perfect need holds game systems tv issue wooden pegs broke putting',\n",
       "  'kallax unit white stained oak effect nice finish goes easily looks great black desk cream writing mat tie look',\n",
       "  'parts different 4 kallax various sizes house hard time building sure different maybe wooden dowels longer used holes smallest pain dowels simply holes smoothly weight inconsiderable pushing ended using rubber mallet worked dented sides disappointed',\n",
       "  'solid piece furniture solid piece furniture satisfied quality',\n",
       "  'exactly looking exactly looking store records',\n",
       "  'vinyl lp storage perfect storage solution vinyl lp collection',\n",
       "  'buy ikea good great handyman husband general good',\n",
       "  'kallax glossy white picked 2 4 kallax shelves bit difficult modifying instructions easier second came short shelf pieces missing gloss paint shelf goes wall paint raw edge shelves gained small chips indentations major bit bummer brand new easier came perfect condition great love look white gloss work',\n",
       "  'love bought 4 cubbies glossy white placed horizontally large tv vertically create lovely inexpensive entertainment mainly using alternating open cubbies bookshelves fabric bins cubbies hidden storage kind miscellaneous items 4th cubby room horizontally setup think look great',\n",
       "  'good vinyl lp storage relatively easy assemble sturdy perfect size holding collection vinyl lp',\n",
       "  'versatile bought month ago use floating shelf tv use organize pillows magazines basket kid toys nice product value',\n",
       "  'amazing furniture great piece eliminated bulky 1970s furniture',\n",
       "  'renter renter option vertical horizontal means fit configurations living love basket options storage place pet enjoy',\n",
       "  'looks nice bought item high gloss little skeptical shine afraid right shelf small covered decor knowing bothers going bother exchanging built drag exchange love look lot disappointed defect gave 4 stars',\n",
       "  'love kallax kallax shelf unit vertical horizontal uses unit add fabric storage wicker perfect fitting doors drawers complaint style drawers doors come white prefer style ones stronger',\n",
       "  'worth wait love grey kallax soft shade fits perfectly decor overpowering space hard hold wait long time stop selling shade ikea fabulous',\n",
       "  'happy furniture',\n",
       "  'ì love ikea product quality ì love ikea product quality easy assemble',\n",
       "  'husband uses expanding record collection loves',\n",
       "  'awesome storage unit bought unit toy storage bit frustrated brought home missing small piece small wooden dowel finish unit seeing live away drive nearest ikea nesting want wait piece arrive mail needed finish asap luckily able replacement piece local ace hardware store noticed small chip boards noticeable unless know light sturdy easy 2 year old 26 weeks pregnant purchase',\n",
       "  'works perfectly new tv stand',\n",
       "  'kallax shelf addiction shelves storage possibilities endless built bedroom closets difference organizing home couple set house look beautiful highly practical decorative collect vinyl records shelf perfect storage solution records fit perfectly',\n",
       "  'really worth money paid bought grey lacquer yesterday gaps pieces wide afraid break lacquer surface used towel wraped hammer pegs holes lacquer surface broke unit gaps pieces',\n",
       "  'love look got month ago nice use stand 55 television',\n",
       "  'love bought second needed place tv tv love storage allows beneath tv easy',\n",
       "  'beautiful love shelf lay horizontally use tv stand love looks use baskets hide things want visible easy assembly',\n",
       "  'perfect vinyl perfect storing records love storage options boxes doors fact ikea got rid colours bought kallax red yellow green white white fake wood look',\n",
       "  'cube storage instructions easy follow requires 2 people lift strong happy',\n",
       "  'functional smart looking versitile high gloss white cabinets kitchen high gloss white besta unit dining room shelf unit high gloss white blends perfectly tv stand installed 3 sets casters lights row storage boxes high gloss white 4 cubbies great look reasonable project',\n",
       "  'love love',\n",
       "  'shelving colors shapes probably best stackable cube shelving looks cleans sleek amazing quality easy assemble white newest love',\n",
       "  'stylish practical various sizes perfect furniture item adaptable suit different uses',\n",
       "  'flexible usage use vertical horizontal add rolls change appearance different boxes colors timeless piece furniture',\n",
       "  'nice color bought console table project placed color matched floors stair rails looking completed project adding black metal legs looks amazing kallax shelves disappointment home different uses purpose storage finally color great little lighter little grey mixed',\n",
       "  'love light strong unit design love color took husband like',\n",
       "  'recommended ikea products delighted particular item lower quality experienced ikea pieces parts line experienced past items worst chemical smell smells like burning plastic throat pretty irritated assembling figured smell dissipate little days finished moving kallax units backyard smell house hopefully outdoors bring inside returning shelves',\n",
       "  'cube unit exactly pictured heavy fit storage',\n",
       "  'excellent vinyl rack easy assemble spacious',\n",
       "  'high gloss storage unit love easy looks nice gave 4 stars chips easy high gloss finish',\n",
       "  'nice design hit miss quality kalisz bought wonderful went buy second warped tap board hear hollow spots placing objects causes cracks quality hit miss',\n",
       "  'use love decided disappointed',\n",
       "  'pretty good wish better bought use temporarily tv stand later use divide shared kids bedroom like overall happy giving 3 stars screws hold catch treads particle board sticking screw way',\n",
       "  'damaged dowel included damaged dowel included',\n",
       "  'versatility key hallax worked room placed additional accessories avaible ikea enhance hallax awesome future purchases come',\n",
       "  'good needs quality control bought 2 shelves kids playroom replace older expedit shelf moved son room shelf 2 different pieces defects outer veneer seen started building returned want deal wuth hassel dragging 2 small kids exchange able readjust defects wall disappointed shelves went sale week bought store price adjustment time shelves double dowel assembly single dowels strange consistent overall love design ease assembly shelves',\n",
       "  'record shelves actaul use 8 shelving units used massive record collection record collector wanting store vinyl',\n",
       "  'perfect tv stand tall easy looks great versatile',\n",
       "  'kallax white gloss excellent product suited use disappointed screw colour match cabinet colour',\n",
       "  'perfect living room tv stand bought days ago set 45 minutes extremely simple wow looks beautiful lie horizontally using tv stand perfect fit living room love',\n",
       "  'great storage solution unit awesome versatile units use use vertical horizontal simple',\n",
       "  'versatile ive purchased black shelving units different sizes theyre versatile used shelf optional storage boxes room divider vertically horizontally youngest son uses horizontally tv',\n",
       "  'easy bought looked nice online reviews said easy trouble dowels wood pieces easy use hammer damage wood',\n",
       "  'good product good product value purpose screws cover',\n",
       "  'house different colours love flexibility',\n",
       "  'new version total garbage 7 older version needed new horrible 5 edge veneers 90 unglued needed glued clamped 3 spots wooden pegs voids wood holes 2 spots wooden pegs broke exterior veneer leaving holes finish interior shelves thinner match thickness sides tops assembled unit feels flimsy torques wobbles old version solid rock',\n",
       "  'straightforward instructions easy assemble necessary pad hammer inserting wooden pegs prevent cracking gloss finish cubes extremely efficient use space',\n",
       "  'perfect tv stand 55 bookshelf lets different colors sturdy perfect extra storage love new color options',\n",
       "  'colour pieces match panels colour look grain wood different inside outside pieces outside pieces look pink inside pieces closer finish supposed definitely keeping',\n",
       "  'good lp case right fit lps vinyl records reasonable price fit lp case',\n",
       "  'nice value looks nice smallish living room got soft gray laid hold tv pictures lots lots pieces easy assemble',\n",
       "  'using wardrobe friend bought units use wardrobe bought drawer inserts doors extra privacy think works great spaces spacious neat looking assembly little difficult required people pushing shelves difficult using hammer chip wood finished product sturdy solid piece furniture quite heavy recommend assembling room use',\n",
       "  'perfect tv stand holds tv knick knacks perfectly happy bought took 30 minutes easy',\n",
       "  'drill holes space apparently need permanently affixed screws plaster safe thanks viable option',\n",
       "  'bought easy scan option ikea app check cinch assembled tv',\n",
       "  'realize definitely going nice solid used teen ikea hack bed unsure plan till saw real furniture',\n",
       "  'need sturdy holds vinyl record collection nicely',\n",
       "  'bad quality hollow wood dowel went straight wood quality used older style cube unit quality',\n",
       "  'bought bought kallax pieces love really glossy white love',\n",
       "  'colours good neutral natural brought month useful kaplan',\n",
       "  'terrible delivery service dig product overall great expression extreme disappointment ikea delivery methods customer service took month shelf unit delivered house serval terminal delays fact delivery company forgot load order truck times ikea delivery company indifferent unwilling help guess say buy item store owning reasonable timeframe',\n",
       "  'best quality cube organized better quality target walmart brands price',\n",
       "  'great understand getting ikea price affordable little sweat frustration putting things names like expected holy sweet baby cheesus beast newfangled idea allen wrench bad barely fit screws way making drawers attempted fit correctly close drawer way used hammer lol luckily allen wrench previous project finally thought use fit screws better piece furniture remotely',\n",
       "  'perfect application different accessories customize unit use storage display purposes sideways standing sturdy',\n",
       "  'perfect bought tv stand love came color makes room super sturdy electronics tv',\n",
       "  'perfect tv stand perfect tv stand',\n",
       "  'cabinet space bought use ketchen cabinets works great far build base basedoard heating needed lifted ikea directions sketchy prepared',\n",
       "  'perfect great people record collections',\n",
       "  'cube storage love kallax cube value money good quality good choice inserts wish glass door fit glass shelves highly recommend',\n",
       "  'great cubby storage great cubby storage',\n",
       "  'shelf fine colour shelf fine solid holds lot like accessories available make functional annoyed glossy white different glossy white kitchen looks yellow compared glossy white ikea cabinets live 3 hours driving round trip ikea spent couple hours building ca afford time return sure wish colour mentioned listing',\n",
       "  'wrong colour wrong colour bin marked grey returning',\n",
       "  'drugged bit drugged bit wooden dowels',\n",
       "  'excellent record collectors wonderful item collect listen vinyl albums item storage areas perfect size records books hold considerable',\n",
       "  'love turned long used tv stand',\n",
       "  'use entertainment center works great holding',\n",
       "  'use kallax vertically horizontally kallax perfect bookshelf tv stand living room bought units like flexibility horizontal tv vertical way hold number books',\n",
       "  'installation easy tiny wooden dowels annoying breaking extremely easy project breaking afternoon turned weeks waiting parts drill old dowels solved went easy looks great room',\n",
       "  'perfect vinyl record collection kallax perfect fathers record collection new music',\n",
       "  'ikea good quality value',\n",
       "  'value money perfect fit living room tv stand problem putting easily cracked good value money',\n",
       "  'perfect great classroom glossy finish gives nice touch',\n",
       "  'best thing little girl cube hold lot cubes little girl love',\n",
       "  'happy bought item month ago looks great real asset living room gave additional space display favourite books items kallax shelving unit set vertically look quality great value wish thought purchasing long ago',\n",
       "  'son loves son loves updated look stereo equipment vinyl organizer',\n",
       "  'versatile shelf versatile horizontal vertical add drawers doors boxes love easy easier people',\n",
       "  'solid choice owned 3x4 kallax shelf years going strong super versatile bought replace attachment office desk currently using 3x4 using tv stand horizontally meantime lazy swap right good use',\n",
       "  'good shelving unit purchased unit daughtee place tv designed solid complaint cover head screws visible stand unit white',\n",
       "  'useful useful lot things cubicles',\n",
       "  'manufacturing damage main piece ordered piece existing furniture wait agree reviews quality declined point cheap china quality pressed wood big chunks splits easily recommend predrill holes safer installation splits keeps going fall apart damaged straight package weight bearing piece way returned surprise discontinued unhappy supplies hard available want customize inserts shopping trip',\n",
       "  'great cheap storage easy looks great love drona cubes',\n",
       "  'love ease sturdiness love ease sturdiness profuct',\n",
       "  'repeat purchase bought high gloss grey previously pleased needed unit room chose color happy unit sturdy easy',\n",
       "  'best buy solid sturdy versatile piece furniture great price',\n",
       "  'great vertical best horizontal replacement book shelf matches white walls pictures make look plain actually awesome product thickness make look premium house',\n",
       "  'gift received great color great size decent price',\n",
       "  'dining room buffet got use buffet dining room placing horizontal means perfect height plenty storage display space quick easy assembly',\n",
       "  'cubes love quality sturdiness cubes versatile house little personal touches storage needs',\n",
       "  'nice products using tv stand storage unit',\n",
       "  'perfect storage w tv unit 8 shelves useful big storage',\n",
       "  'love love',\n",
       "  'love love',\n",
       "  'love love',\n",
       "  'love love',\n",
       "  'love love',\n",
       "  'love love',\n",
       "  'love love',\n",
       "  'love love',\n",
       "  'love love',\n",
       "  'love love',\n",
       "  'love love',\n",
       "  'love love',\n",
       "  'love love',\n",
       "  'love love',\n",
       "  'love love',\n",
       "  'love love',\n",
       "  'love love',\n",
       "  'love love',\n",
       "  'love love',\n",
       "  'love love'],\n",
       " 110: ['kallax shelving unit great addition closet',\n",
       "  'looking',\n",
       "  'sturdy versatile husband bought 3 closet son bedroom like function lengthwise widthwise floor use ways need shelf like fits',\n",
       "  'perfect perfect',\n",
       "  'looking purchased create closet island newly renovated closet',\n",
       "  'works looks great works looks great',\n",
       "  'loved exactly wanted closet',\n",
       "  'clothing storage answer closet organization kallax sturdy heavy lucky buy assembled speak easy difficult',\n",
       "  'works looks great works looks good dings blemishes',\n",
       "  'versitile versitile',\n",
       "  'perfect small space perfect small space',\n",
       "  'love kallax 7th 8th purchased great storage use closets',\n",
       "  'great perfect needed',\n",
       "  'useful useful',\n",
       "  'useful closet bought 22 year old daughter needed shelving hanging rod open closet easily set horizontally hanging clothes holds bunches stuff looks great',\n",
       "  'fantastic great strong want faults',\n",
       "  'versatile easy assemble sturdy fit perfectly closet storage organizer guest room',\n",
       "  'versatile functional using garage sports equipment outdoor supplies bought cheap black nylon cubes hold tennis balls shoes love options cubes quality stands texas heat',\n",
       "  'beautiful sturdy perfect extra clothes storage',\n",
       "  'great things bought 3 month ago closets organize shelving bedroom easy',\n",
       "  'hacked use instead purchasing closet used kallax units rework walk closet standing particular configuration fits existing hanging clothes rack place second kallax wall horizontal position hang cloths neatly arrange folded sweaters jeans room',\n",
       "  'expected maybe sturdier 2st thought',\n",
       "  'great organizer great organizer',\n",
       "  'keeps items organized neat inserts sturdy easy assemble recommend item',\n",
       "  'needed needed',\n",
       "  'great multiple types organizing use clothes closets craft supplies organizing',\n",
       "  'works perfect area works perfect area needed',\n",
       "  'love easy build follow instructions step step inside closet hanging bar shelf dumping place perfect organised closet place got 3 units room use bookshelves thank ikea',\n",
       "  'love product product perfect solution small space',\n",
       "  'works great area works great area',\n",
       "  'small space coset shelving option turned excellent idea moving small space needing closet organization',\n",
       "  'exactly needed exactly needed',\n",
       "  'exactly wanted exactly wanted',\n",
       "  'work perfectly closet organized things closet floor requiring construction',\n",
       "  'product definitely meets expectations product definitely meets expectations instructions bit simplified great product',\n",
       "  'serves purpose serves purpose',\n",
       "  'works works needed',\n",
       "  'perfects expected exactly thought',\n",
       "  'using storage inside closet organize certain clothing hangers showcase purses love assembling easy defiantly build pretty sturdy',\n",
       "  'perfect size spot perfect size spot',\n",
       "  'versatile bought closet works perfectly extra storage',\n",
       "  'perfect perfect intended multiple units stacked wall mbr closet cube hold 2 shoe boxes',\n",
       "  'perfect organizer daughter grands visiting need place personals clothing items unit works perfect adds decor room currently wicker day bed tv accent items organizer right fit',\n",
       "  'perfect expectation perfect expectation',\n",
       "  'nice good able smaller matching',\n",
       "  'excellent storage fit closet easily great product',\n",
       "  'perfect really like spacious',\n",
       "  'perfect clothes perfect clothes closet',\n",
       "  'perfect piece master closet wife able double stack master closet fit perfectly',\n",
       "  'perfect perfect',\n",
       "  'convenient convenient',\n",
       "  'handy bought box shelves laundry practical looks good',\n",
       "  'closet storage bought easy assemble works great extra storage closet',\n",
       "  'great size added bought years ago perfect match',\n",
       "  'uses endless',\n",
       "  'display works great space hold bags perfumes',\n",
       "  'perfect stairwell perfect stairwell storage',\n",
       "  'beautiful perfect plants organizer',\n",
       "  'solid expected',\n",
       "  'needed needed',\n",
       "  'perfect clothes christmas gift loved perfect clothes want dresser loves new color',\n",
       "  'perfect really like perfect really like choice inserts',\n",
       "  'exactly expected exactly expected',\n",
       "  'perfect perfect',\n",
       "  'perfect perfect',\n",
       "  'getting getting',\n",
       "  'perfect storage bought instead dresser im glad',\n",
       "  'perfect space perfect space help wth organizing things',\n",
       "  'closet storage sokution solved delimma closet storage love thicker frame',\n",
       "  'excellant met needs fit perfect space planned',\n",
       "  'serves purpose bought serves purpose bought',\n",
       "  'kallax perfect fit needed fit tees jumpers kallax came rescue fit exactly space housing clothes piles floor perfect fit looks great',\n",
       "  'works great office',\n",
       "  'great fit great fit',\n",
       "  'great clothing organizer item great folded jeans shirts towels great buy',\n",
       "  'great product perfect size fir needed easy bought',\n",
       "  'great practical good quality perfect size',\n",
       "  'good practical good practical',\n",
       "  'great clothes shoes great clothes shoes',\n",
       "  'fits suits need fits suits need destined',\n",
       "  'exactly expected exactly expected',\n",
       "  'perfect perfect',\n",
       "  'great organizer great organizer',\n",
       "  'fits room fits room matches smaller',\n",
       "  'great item 2nd kallax unit closet works exactly planned',\n",
       "  'good use good use closet',\n",
       "  'perfect perfect',\n",
       "  'closet storage needed storage small closet fit perfectly easy assemble fit love shelves closet eliminating need bulky dresser bedroom',\n",
       "  'fits exactly closet got unit 2x4 boxes lying bought inset shows',\n",
       "  'brought different works perfect',\n",
       "  'closet organizer neat tidy looking good small spaces',\n",
       "  'perfect got 2 perfect clothes pick day',\n",
       "  'looking looking great bathroom',\n",
       "  'perfect organizer great satisfied',\n",
       "  'work great look great work great look great',\n",
       "  'fits perfect walk fits perfect walk robe',\n",
       "  'perfect washroom needs fit perfect new washroom toiletries towels',\n",
       "  'great really need fit perfect',\n",
       "  'adequate needs adequate needs',\n",
       "  'perfect perfect',\n",
       "  'new closet organizer unit versatile complemented white drona fabric boxes hold small bits clothing shelves used folded clothes displaying knick knacks ca wrong',\n",
       "  'love really keeps stuff organized bought 10 years ago bought second 3 weeks ago really love fold place jeans messy clothes like bathing suits',\n",
       "  'closet storage use shelf unit closet clothes organizer laying horizontal clothes hang works perfectly looks great bought make sure work planning purchasing',\n",
       "  'perfect substitute perfect substitute dresser closet',\n",
       "  'great fit closet extra storage',\n",
       "  'exactly want exactly want',\n",
       "  'perfect space perfect space',\n",
       "  'easy great easy great storage capacity perfect room closet bought daughters condos',\n",
       "  'great product purchased help organize closet love sturdy expected great price',\n",
       "  'looks works expected looks works expected',\n",
       "  'perfect addition tried install pax wardrobe unfortunately fit small space chose kallax shelving units fit perfectly look amazing highly recommend price appearance',\n",
       "  'perfect organizer perfect price best quality lowest price',\n",
       "  'love using storage closet fits perfectly hanging clothes',\n",
       "  'perfect perfect',\n",
       "  'love space great size',\n",
       "  'looking',\n",
       "  'shelf unit series versatile practical second house reconfigured closets shelves lifesaver drona bins perfect holding plenty clothes looks tidy pretty mama',\n",
       "  'looks fantastic fits perfectly area got impressed',\n",
       "  'yes depends yes depends need',\n",
       "  'kallax love versatility sides closet extra clothes blankets split shelf perfect shoes stock',\n",
       "  'practical practical',\n",
       "  'perfect gave organizational space closet',\n",
       "  'fits perfectly needed fits perfectly needed',\n",
       "  'exactly wanted exactly wanted add ons readily available',\n",
       "  'great quality easy assembly installed great quality easy assembly installed closet organizer book shelf office room',\n",
       "  'great storage walk closet shelves deep folded clothing attractive display walk closet need glance',\n",
       "  'looking works expected',\n",
       "  'perfect space shelf great choice organizing closet limited space works normally dresser',\n",
       "  'love looks perfect space',\n",
       "  'good quality design organizer built good quality materials contemporary design love product easy assemble sturdy',\n",
       "  'great size fit perfect closet looks pretty clean',\n",
       "  'looking looking',\n",
       "  'practical practical',\n",
       "  'need perfect purpose needed',\n",
       "  'perfect closet organizer placed shelf children closets help clothes organized really difference clutter rooms',\n",
       "  'kallax units used closet closet unit',\n",
       "  'perfect perfect',\n",
       "  'great fit great fit room',\n",
       "  'works works',\n",
       "  'perfect fit space perfect fit space',\n",
       "  'perfect perfect',\n",
       "  'great storage piece use closets organize clothes shoes household items keeps neat',\n",
       "  'good storage kids clothes bought month ago happy product',\n",
       "  'fits exactly looks good easy fits exactly looks good easy assemble',\n",
       "  'looks awesome perfect fit little nook love service delivery quick painless xx',\n",
       "  'cheap easy badly priced great closet organizer easy assemble',\n",
       "  'exactly needed exactly needed',\n",
       "  'works works',\n",
       "  'perfect closet storage bought unit closet clutter floor using laying hanging portion closet fits perfectly store boots items bought canvas boxes hold small items',\n",
       "  'useful looks beautiful closet',\n",
       "  'suits needs suits needs',\n",
       "  'wrong perfect easy easy',\n",
       "  'fits perfectly space easy fits perfectly space easy',\n",
       "  'best closet organizer happy purchase fit perfectly closet organize clothes previously wire racks additionally purchased dröna bins fit inside squares clothes looks neat',\n",
       "  'closet organizers love shapes sizes used closet organizers creative',\n",
       "  'expected expected best',\n",
       "  'excellent wardrobe fit perfectly wardrobe',\n",
       "  'exactly hoped exactly hoped expected husband bought',\n",
       "  'good convenient use store clothes',\n",
       "  'perfect needed love glad got',\n",
       "  'perfect towels linens perfect towels linens',\n",
       "  'needs expectations filled',\n",
       "  'perfect fit holds anticipated',\n",
       "  'spacey wonderful spacey unit',\n",
       "  'looking looking',\n",
       "  'exactly wanted transformed laundry',\n",
       "  'meets needs meets needs',\n",
       "  'good product using good product using closet storage',\n",
       "  'works great wanted',\n",
       "  'exactly wanted easy 2 fit perfectly closet',\n",
       "  'works perfect cloffice works perfect cloffice',\n",
       "  'easy assembly compact used wardrobe shelving new apartment perfect using various cube storages available nice neat',\n",
       "  'fits great office fits great office',\n",
       "  'perfect needed exactly looking fits spot intended',\n",
       "  'needed fits room perfectly',\n",
       "  'great piece worked perfect intended',\n",
       "  'versatile unit beauty simple assemble versatile fit multiple uses multiple locations used provide organized storage inside closet perfect job',\n",
       "  'perfect bathroom storage closet great storing types items',\n",
       "  'looks great purchased son closet looks great easy assemble exactly wanted bought cube fabric drawers closet looks organized clean win win',\n",
       "  'perfect space like oks nice happy product month',\n",
       "  'works really looks works really looks nice',\n",
       "  'useful easy easy quality looks good inside wardrobe seperate spaces different categories clothes',\n",
       "  'used used walk robe laid fits windows great extra storage',\n",
       "  'perfect different',\n",
       "  'great closet storage used 4 master closet neatly store things easy quick assemble allowing set closet short order',\n",
       "  'fits kitchen fits kitchen',\n",
       "  'great works wonderful office',\n",
       "  'simple stylish perfect size fit purpose',\n",
       "  'work horse organization lot kallax office closet versatile sturdy',\n",
       "  'great product purchased help organize closet love sturdy expected great price',\n",
       "  'exactly needed exactly needed',\n",
       "  'perfect walking closet wic big mess got boxes change bigger expected easy assemble different combinations place vertical horizontal love look closet',\n",
       "  'wanted wanted',\n",
       "  'perfect exactly needed perfect exactly needed',\n",
       "  'perfect storage solution walk robe sturdy right size price right',\n",
       "  'expected buy expected buy',\n",
       "  'organized perfect small bathroom organize look gorgeous',\n",
       "  'exactly needed measured space size perfect built',\n",
       "  'versatile 5th purchased recently used create shelving space new closet worked great way cheaper closet organizers home improvement stores used sofa table bookcases',\n",
       "  'fits perfect spot fits perfect spot',\n",
       "  'works great met needs quite',\n",
       "  'perfect organizing laundry perfect organizing laundry room',\n",
       "  'perfect organizer love piece keeps office organized finish makes office look professional',\n",
       "  'great organizer clean great organizer clean works office nursery',\n",
       "  'functional great product works right size area',\n",
       "  'nice works perfectly needed',\n",
       "  'fit perfectly fit perfectly great',\n",
       "  'perfect perfect',\n",
       "  'kallax looks great great kallax looks great great closet sturdy makes closet look organized',\n",
       "  'perfect closet organizer bought week closet added collapsible boxes store clothes ones need hung able rid dresser make space room love',\n",
       "  'bureau alternative used closet store clothes rid furniture bedroom works great',\n",
       "  'perfect size space perfect size space',\n",
       "  'perfect closet storage happy bought easy assemble great storage',\n",
       "  'perfect perfect',\n",
       "  'suits best easy suits best easy assemble heavy components',\n",
       "  'works works need',\n",
       "  'great space best great space best shelve',\n",
       "  'good puts fun functional bought pantry shelf parts package damage packed win good exercise building carpet',\n",
       "  'perfect fit area needed bought units thrilled',\n",
       "  'closet makeover kallax pieces worked great closet storage',\n",
       "  'perfect slide closet clothes room way clothes organized properly change doors bifold wardrobe shelf inside measurements exact hoping slightly smaller like comments said yes exact size little bit trouble putting closet got omg stuff organized mess digging boxes clothes love able stuck clothes bins individual separate clothes worth money friend suggested buy individual squares bins normally 20 got 8 paying 180 easily way 69 bins like 110 love customize cabinets doors later wanted',\n",
       "  'perfect perfect',\n",
       "  'cuoboard storage linen closet 3rd kallax year easy used multiple ways',\n",
       "  'easy assembly use inside closet organize craft materials finished snag stored items easily moved assembly',\n",
       "  'worked perfectly requirement worked perfectly requirement',\n",
       "  'perfect closet organizer purses helped organize purse collection',\n",
       "  'good exactly needed good exactly needed',\n",
       "  'excellent yes ive andas usefull',\n",
       "  'yeah excellent needs',\n",
       "  'exactly looking perfect storage clothes cute minimalistic manner fits aesthetic',\n",
       "  'great organizing unit closet organize small clothing items closet looks great',\n",
       "  'perfect perfect',\n",
       "  'organized closet moved smaller house room dresser good closet space kallax closet problem solved looks nice',\n",
       "  'great looking useful got',\n",
       "  'nice neat shelves helpful expand closet tight spaces',\n",
       "  'perfect clothes fits great closet works great clothing organizer',\n",
       "  'kallax bought linen press storage master wardrobe laid double unit longways took family sheets towels shirts blouses functional cheap easy install',\n",
       "  'amazing love cabinets able reorganize l closet liking',\n",
       "  'exactly needed works great',\n",
       "  'perfect space love unit bought month works perfectly closet',\n",
       "  'fulfil purpose 1234567',\n",
       "  'useful closet love price great im happy customer',\n",
       "  'works expected works expected',\n",
       "  'perfect fits lines beautifully easy diy',\n",
       "  'love bought month horizontal additional storage walk closet like perfect needs hesitation recommending easy',\n",
       "  'square blocks perfect need bought walk wardrobe tidy shoes square home 4 pairs shoes walk wardrobe tidy love product',\n",
       "  'meets expectations looks great meets expectations looks great',\n",
       "  'fabulous addition laundry fabulous addition laundry great storage',\n",
       "  'looks works awesome looks works awesome',\n",
       "  'perfect exactly imagined easy',\n",
       "  'expected expected',\n",
       "  'closet storage needed additional closet storage perfect solution',\n",
       "  'cool fits small office',\n",
       "  'perfect clothes love dont drawers pull old hands',\n",
       "  'looks good fits space looks good fits space',\n",
       "  'changed small room big closet worked perfect love size love products',\n",
       "  'fits wife patchwork hobbyist making lots fabulous bed covers bags lot things material needed place store range materials kallax fitted perfectly built wardrobe handy retrieve material needed use',\n",
       "  'perfect match 4x3kallax perfect match 4x3kallax',\n",
       "  'working great working great'],\n",
       " 104: ['sturdy bookcase safe place books notebooks collection',\n",
       "  'perfect book storage brought month ago fast delivery easy assembly perfect living room',\n",
       "  'best bookcases love bookcases easy assemble strong construction colours choose excellent value money thank ikea helena bert',\n",
       "  'wonderful item entire kallax line superb',\n",
       "  'multi purpose happy shelving unit 3 holds',\n",
       "  'best book case market easy sturdy inexpensive really like birch color option',\n",
       "  'great economical book storage love product versatile standing boardering french doors house dvds 2 laying creating long low bookcases king bed ample surface perfect device charging purse magazines playroom grandchildren use houses books puzzles games craft supplies thanks great product serves purposes',\n",
       "  'multiple sizes multiple sizes kallax 12s awesome',\n",
       "  'great 4 storage perfect storage option shelving wardrobe',\n",
       "  'kallax shelving unit priced easy build perfect needs',\n",
       "  'quality easy ordered 2 bookshelves living room remodeling yesterday impressed quality appearance ease putting',\n",
       "  'great multi purpose shelf unit ikea shelves versatile uses strong sturdy',\n",
       "  'kallax easily assembled kallax easily assembled provides extra storage needed looks wonderful',\n",
       "  'kallax beautiful buy',\n",
       "  'perfect storage unit looks fresh clean depend kallax house houseplants supplies',\n",
       "  'beautiful functional durable love shelving unit thicker edges make look higher end easy assemble adds needed storage house sturdy shelving units purchased big box stores',\n",
       "  'superior cube shelves kallax cube units kallax superior far durable substantial',\n",
       "  'kallax white gloss bookcases love store books sturdy attached wall say nice expedit units replaced bit thinner overall interior dimensions fit larger books easy assemble sticky plastic protective strips absolute pain peel took longer peel actually units annoying definitely recommend hundreds books love organized beautiful looks trimming base trim crown molding built look',\n",
       "  'nice elegant way nice elegant way books',\n",
       "  'love kallax like deep shelves',\n",
       "  'love second kallax unit',\n",
       "  'kallax sturdy easy clean',\n",
       "  'pleased kallax pleased kallax shelving',\n",
       "  'best price look best price look book shelf',\n",
       "  'love great shelf perfect size house',\n",
       "  'great shelf unit wall anchor poor assembly shelf unit easy unit quality use vertical mode requires wall anchoring provided anchor reach wall designers accounted floor molding anchors need adjustable positions anchor attached wall probably design adapter blocks attach wall looks like ikea learned tip problems',\n",
       "  'kallax strong sturdy multi purpose',\n",
       "  'works price affordable sturdy serves purpose real used bookshelf looks fantastic family room',\n",
       "  'kallax looks good strong',\n",
       "  'great bookcase good price used kaliax bookcases years continue love quality versatility color choices economic prices bookcases use storage display room house',\n",
       "  'kallax cupboard fit nicely kallax cupboard fit nicely ikea loft bed storage',\n",
       "  'great shelves super easy assemble looks great',\n",
       "  'kallax purchased 2 lay sideways craft room assembly instructions say 2 people required assemble units great issues filled yarn look amazing',\n",
       "  'great product easy assemble better quality shelving units',\n",
       "  'great looking book case completed kallax inventory kallax bookcase units sturdy work exceptionally displayed',\n",
       "  'needed needed inexpensive shelving look cheap looking',\n",
       "  'great entertainment unit great shelf used entertainment unit great value money great quality great apperance shelves inserted mess assemble dont read wi properly parts recommend friends dont want buy overpriced entertainment',\n",
       "  'excellent storage unit kallax unit easy sturdy capacious attractive happy purchase',\n",
       "  'great value senior lady recently bought 2 units purchased 2 previously assembly straightforward shelves look nice good value price',\n",
       "  'easy assemble sturdy looks great husband trouble assembling bookcase said ikea items purchased difficult sturdy looks fantastic soooo nicer bookcases bought past chose use horizontally toy cubbie son bought corresponding dröna',\n",
       "  'organization gem great bookshelf home office',\n",
       "  'kallax review wrong useful things kallax toy shelf sons play area',\n",
       "  'love kallax shelf units 4th kallax unit purchased love purchased additional features customized needed love drawers doors items make special unique',\n",
       "  'good price applicable bookcase good deal price width panels kind wide making things inside stay dark',\n",
       "  'perfect storing types items kallax shelf probably sturdy reliable useful piece furniture buy downsizing closet space want buy extra dresser plans eventually buy house wanted buy extra storage jeans books items kallax perfect buy gave space plants chose kallax using type space future',\n",
       "  'great utility shelf great utility shelf using book shelf',\n",
       "  'kallax great art studio',\n",
       "  'love kallax units love kallax units',\n",
       "  'kallax excellent product',\n",
       "  'great looking shelf shelf easy assemble looks good sturdy',\n",
       "  'bookcase really like bookcase easy assemble sturdy look great highly recommend',\n",
       "  'great product pleased kallax shelving units sturdy easy purchased 4 completely reorganized room easier expensive building scratch',\n",
       "  'solid shelving great solid shelves pretty easy toddler climbs tried climb bought 2',\n",
       "  'love kallax shelf units love kallax shelf units currently 4 8 shelves 4 love versatile sturdy bought drawers cabinets dividers love organized',\n",
       "  'kallax best different colours house versatile',\n",
       "  'kallax nice looks great',\n",
       "  'great shelves great shelves',\n",
       "  'kallax shelf unit works son room',\n",
       "  'loved item bought use buffet loved items books nicely placed assembly straight forward',\n",
       "  'good shelf iré ya dios shelf value came damage corner',\n",
       "  'budget shelving looks great unit bought happy',\n",
       "  'kallax absolutely perfect bookcase',\n",
       "  'best shelves love shelves look nice easy inserts handy',\n",
       "  'nice shelves troubles assembling looks works great planning buy',\n",
       "  'great shelving unit good space varying size objects easy structurally strong shelf worrying falling apart',\n",
       "  'awesome bookshelf kallax shelf units look great sturdy hold oversized books like scrapbooks example',\n",
       "  'sturdy shelf repurchasing year ago helped pick shelf roommate purchase living room functions tv stand purchased dröna boxes 4 spaces use 4 spaces electronics like wifi router apple tv shelf surprisingly good quality sturdier expected assembling took people 15 minutes moving buying unit use new apartment offered buy existing unit roommate really loved taking new place clearly loved shelf expect people',\n",
       "  'older killax older killax abc way sturdy heavy flimsy cheap',\n",
       "  'great size purchased cube unit month ago replace entertainment unit love tiny living room space saver pair metal shelves works wonderfully electronics',\n",
       "  'good quality bought store books looks nice quality great unlike cheaper types kmart target',\n",
       "  'attractive toned shelving easy quick assembly',\n",
       "  'excellent bookcase easy build helps maximize space home plus looks beautiful place definitely awesome purchase',\n",
       "  'kallax shelves easy assemble good quality',\n",
       "  'kallax geart product excellent product delivery excellent price prompt',\n",
       "  'kallax solid sturdy looks stylish super happy purchase',\n",
       "  'love shelves sturdy easy',\n",
       "  'easy easy surprisingly lightweight holds lot heavy books',\n",
       "  'bought kallax shelf unit month ago love',\n",
       "  'sturdy functional kallax shelving units multiple areas house 2 utilize file cabinets office added drawers pens incidentals dining area bins snacks guest room storage',\n",
       "  'love kallax second kallax unit purchased bought 3rd 3x3 version probably buying future extremely versatile',\n",
       "  'great shelving bought 2 easy sturdy good looking hold alot high recommend',\n",
       "  'kallax cubes look great relatively easy assemble',\n",
       "  'good shelves good storage books stuff rear wall laconic design',\n",
       "  'great shelf easy assemble looks great',\n",
       "  'kallax wanted non shiny shelf stock wet washing expand dry',\n",
       "  'love searching bookcase hold kids picture books fits books perfectly toys neatly packed away placed sideways bought storage boxes easiest ikea purchase build finished 10 minutes',\n",
       "  'love kallax versatile piece wish came little buttons cover screws sides',\n",
       "  'shelving heaven clouds parted angels sang ikea created kallax shelving perfect large wall books decorative items living room home office particular unit laying creating desk 2 smaller kallax units desktop 2 larger kallax shelving units complete office functional office looks fantastic space laptops monitors printer desk lamps drona storage boxes fit perfectly kallax cubbies lots space files office supplies miscellaneous items 3 ikea',\n",
       "  'great shelving units perfect apartment',\n",
       "  'great shelving love units quite easy solid come different colours sizes bought 6 earlier son lp records stacked perfect',\n",
       "  'practical versatile unit room like change orientation add accessories repurpose shelves',\n",
       "  'great product seen lot shelf units unstable unit surprisingly stable supports smart tv happy product',\n",
       "  'helpful great shelves helpful great shelves',\n",
       "  'bought 10 year old room great shelf',\n",
       "  'kallax kallax items ordered easy assemble versatile use house highly recommend kallax products delivery great',\n",
       "  'kallax shelf kallax shelf really pretty set quality ok shelf light weight think price little pricey material',\n",
       "  'awesome storage shelf say perfect storage easy assemble looks great thing wish came bright red',\n",
       "  'best past kallax units amazing quality',\n",
       "  'solid shelves got section great',\n",
       "  'kallax shelf unit working perfectly needed',\n",
       "  'quality shelf bad hear sound flip board sounds like sawdust middle board board middle fragile breaks try assemble rubber hammer',\n",
       "  'shelves strong durable attractive fair price',\n",
       "  'exactly needed fits perfectly office window desks kids great storing books makes nice reading bench',\n",
       "  'great use bought month ago love multi purpose shelving unit used love kaplan shelving unit range',\n",
       "  'nice shelving unit pleasantly surprised nice went took husband 40 minutes assemble unit issues far using craft room things organized think work',\n",
       "  'big fan product kallax bookcases versatile fairly easy install great inserts make units multi purpose',\n",
       "  'great shelves great shelves',\n",
       "  'quality budget good sturdy shelves reasonable price looks great',\n",
       "  'shelves spacious shelves spacious hold stuff nicely',\n",
       "  'kallax great product easy assemble',\n",
       "  'perfect bookshelf sturdy lovely colour lot space books display hanged wall',\n",
       "  'stable favourite bought older kallax shelf works dream like funky boxes inside bought cat fabulous',\n",
       "  'kallax happiness happy product happy delivery charges thought utterly disproportionate',\n",
       "  'kallax purchase unit durable looks good functional wife used past 20 years home business',\n",
       "  'great shelving option size shape works room',\n",
       "  'perfect purchased shelf use teacher desk help organize data worked perfectly basically extension desk used second desk',\n",
       "  'kallax cube happy kallax cube shelves look good easy assemble',\n",
       "  'great product bought month easy assemble peg broke exchange simple quick provide lot storage lot money love kallax',\n",
       "  'love shelf love versatility book shelf',\n",
       "  'perfect hall shelving product great shelves entrance hallway good quality value',\n",
       "  'best bookcase market thrid kallax bookcase purchased latest purchase son room loves kallax bookcase bought cube bins square bookcase currently using bookcase en lieu dresser',\n",
       "  'love shelf bought bonus room perfect beautiful space fits perfectly window glad got',\n",
       "  'great stylish shelf 3rd kalkax shelf brought suits perfectly lying standing great',\n",
       "  'terrific storage possibilities ways configure kallax makes storage options',\n",
       "  'kallax perfect music collection',\n",
       "  'flexible got kallax flexible',\n",
       "  'nice shelf fragile great looking shelf veneer fragile use hammer mallet assembling body weight push shelves worked',\n",
       "  'think billy bookshelf chunky version hardware bookcase shelving unit heft assembly time simple billy bookcase disassemble transport lot photos efforts instruction manual unlike kalax uses dowels hold shelves steady rubber mallet reduce risks scuffing surfaces door drawer options fit weird origami jig slid open spaces buy absolutely try transporting unit unassembled risk tearing apart eh instructions handy scan tossing sigh',\n",
       "  'kallax stars versatile durable love wonder sell fast',\n",
       "  'versatile shelf minimalist design great bookshelf office bedroom organizer',\n",
       "  'great inexpensive shelving unit great inexpensive shelving unit functional attractive',\n",
       "  'easy assemble billy bookcases entire life kallax superior takes 15 minutes secure gave away billy kallax beautiful hopefully restock rebuilt entire library',\n",
       "  'incredible versatility love kallax units come various sizes colours available accessories imagination limit configured use best values thing cautious way use heavier objects make sure use long shelves horizontally weight carried short vertical shelves weight carried small dowels material shelf shelf weaker hole drilled dowel sure secure wall supplied brackets especially bigger units stabilize sideways backing rigidity prevent toppling',\n",
       "  'easy assemble quality money series products years quite happy bought unit organise books stuff',\n",
       "  'great shelf excellent addition bedroom library love kallax series probably person job assemble tho',\n",
       "  'love shelves helps organize want',\n",
       "  'versatile love kallax easily assembled stylish',\n",
       "  'great shelves nice looking shelves good quality',\n",
       "  'kallax good quality shelf easy assembly',\n",
       "  'good cabinet strong sturdy shelves easy looks great',\n",
       "  'love kallax products solid love kallax products solid built',\n",
       "  'kallax looks great easy install recommend purchasig stand',\n",
       "  'kallax great storage unit versatile easy use',\n",
       "  'great shelving unit great storage organizer nursery closet good size weight feels solid looks sleek',\n",
       "  'kallax happy purchase easy assemble fits perfectly home',\n",
       "  'love bookcases replace love bookcases replace old miss matched bookcases',\n",
       "  'great shelving unit love kallax unit great quality looks nice easy assemble',\n",
       "  'great storage option shelves great bought new ones bought 10 years ago held great love shelves super easy build great quality',\n",
       "  'nice happy shelf',\n",
       "  'actually unit actually unit section assembled lightweight easy hack actually removed shelves easy tells assemble hard love units versatile',\n",
       "  'great shelf storage happy look purpose',\n",
       "  'kallax great product woul highly recommend easy',\n",
       "  'like bookcase bought yes use bookcase',\n",
       "  'best shelving unit easiest best quality',\n",
       "  'kallax shelf love 2nd kallax shelving unit bought 1st upright using drona bins clothes grandson room bought 2nd laid toys drona bins awesome highly recommend make sure attach upright wall safety usa',\n",
       "  'love easy fits books misc things',\n",
       "  'solid classic disappointed reason ikea sold kallax long sturdy used ways going bedroom organize craft items expect piece foreseeable future note bought kallax black living room earlier year 4x4 2x4 stacked holding 2000 books obviously happy purchase',\n",
       "  'think bought version shelf home easy look great',\n",
       "  'kallax bookshelves excellent book shelves easily assembled look great',\n",
       "  'versatile 6th kallax unit bought love versatility',\n",
       "  'beautiful design shelving unit good size width height depth additional drawers fantastic idea storage baskets add nice feature unit',\n",
       "  'purchased size larger kallax units past worked beautifully disappointed burch color discontinued wanted smaller unit larger burch kallax able trade new kallax daughter burch unit problem solved kallax great storage decorative display shelves love ikea',\n",
       "  'nice solid shelving easy follow instructions really solid',\n",
       "  'kallax shelf bought wife craft room went nicely looks great',\n",
       "  'good bought months ago fairly easy pieces challenge connect nice shelf',\n",
       "  'favourite series kallax shelf favorite shelf series modular option using ikea inserts maximize space decorative storage alternatives insert fabric paper boxes different places easy takes bit time need 2 people sturdy shelf 5ft tall build 2x4 unit thing needed help moving unit proper room small house',\n",
       "  'great storage bought 2 gave 16 individual shelves bought 8 grey cubbies storage units sturdy nice looking love',\n",
       "  'great shelf unit loving kallax shelf unit using strong craft table increased storage space able lots 12x12 designer papers lots printer paper books pretty things craft area holds lots stuff',\n",
       "  'great shelf unit went easily sturdier looked wiggle sway try',\n",
       "  'love kallax versatile love kallax versatile',\n",
       "  'great shelving unit held good value easy assemble',\n",
       "  'great tall items bought went easily second bit trickier holes wooden pegs tight broke 2 pegs bookcases love storage books large fit regular bookshelves buy',\n",
       "  'loved decor bought entertainment centre small apartmen looks great fits books',\n",
       "  'simple easy diy shelving unit took make obviously cos husband handy diy furniture fully loved kids using mini library unit',\n",
       "  'kallax kallax best storage systems market',\n",
       "  'kallax shelf excellent way organize kallax kitchen matched cupboards shelves spacious baskets fit customizing doors little tricky drawers things add amazing simple shelf organize house toys books tv shelf love kallax',\n",
       "  'easy set kallax shelving unit great product used horizontally filled drona containers perfect sewing room',\n",
       "  'universal kallax universal personally like deeper bookshelf quite books oversized hardcovers',\n",
       "  'excellent quality shelf second purchase kallax shelf unit sturdy versatile piece furniture easy assemble',\n",
       "  'shelf unit really easy assembly sturdy looks great fresh white',\n",
       "  'shelving units bought month using',\n",
       "  'really happy love shelf unit easy versatile plan buy',\n",
       "  'looking looking way store various bits pieces different projects working studio usual method pile add pile course piles spill eventually knitting projects pile sewing projects pile instead knitting project customer knitting project customer b sewing project customer c sewing project customer wanted low shelf add work surfaces studio similar products companies looked online considerably smaller dimensions turned kallax nice height 30 inches unit heavy strong sturdy pleased far works original needs glance project materials new pieces fabric orders button orders new patterns come toss item appropriate cubby danger intermingling projects getting lost special misplace know goes additionally unit turned work nicely place mount yarn swift yardage gauge baller scale resulting effective yarn winding station remains way set package require people assume final piece furniture able assemble easily turned nicely square solid bought finish studio black white motif true black close blend nicely rest room really looks like wood black stain pattern finish unit solid wood composite wood product finish looks',\n",
       "  'kallax love perfect office set',\n",
       "  'nice unit nice unit preferred assembled perimeter pieces slid shelves expedit past unit required people assemble expedit required person bring expedit design',\n",
       "  'good size good size flexible placed good bookcases decoration price lowered better best sellers',\n",
       "  'bookcase love works great displaying completed legos added lights',\n",
       "  'happy easy looks better normal book shelf super happy purchase',\n",
       "  'love bookshelf love bookshelf 3 perfect',\n",
       "  'usedin ways second kallax bought love easy look great hold lot',\n",
       "  'kallax shelving cube great product easy assembly sturdy',\n",
       "  'kallax amazing perfect shelf especially board games annoying thing colour scheme changed bit old shelves',\n",
       "  'kallax solved record storage problem assembly straightforward definitely needed strength people indicated',\n",
       "  'great value great price shelf',\n",
       "  'good sturdy product happy purchase bookshelf fiddly heavy happy end result',\n",
       "  'useful shelving bought 3 useful attractive',\n",
       "  'kallax totally thrilled quality appearance piece flexible able used ways',\n",
       "  'dallas shelving units quality product',\n",
       "  'easy assemble great shelving unit minimal easy assemble happy',\n",
       "  'shelving unit great product good quality',\n",
       "  'good value quality shelving easy assemble looks great',\n",
       "  'kallax nice look',\n",
       "  'kallax shelving unit delivered time nice addition home office',\n",
       "  'kallex product wonderful instructions help store purchasing better overwhelming confusing billy work',\n",
       "  'kallax shelf unit easy looks nice cloth box inserts',\n",
       "  'kallax great product easy assemble really useful big compartments looks stylish wood scratches scuff marks poor quality supposed pack ikea exchange easy piece stuff pieces chipped scratched good recommend friend course versatility best quality especially packs dark brown shows marks chips',\n",
       "  'stylish bookshelf looks good easy assemble',\n",
       "  'perfect storage shelves easy good quality nice deep lots storage space',\n",
       "  'storage great storage got 8 hole kallax match larger kallax 8 years good new',\n",
       "  'great storage door kallax units different sizes livingroom double duty bookshelf hidden storage decided use unit door match use storage boxes personal items family member quick storage perfect stay sight',\n",
       "  'kallax shelf easy assemble nice looking sturdy',\n",
       "  'kallax rocks beautiful shelving units got replace old billy units falling apart looks great store toys grandkids',\n",
       "  'easy bought previously excellent shelving',\n",
       "  'shelf amazing',\n",
       "  'kallax super easy build surprisingly light weight shelf unit',\n",
       "  'kallax great kallax great',\n",
       "  'perfect shelf unit easy assemble perfect colour match grey walks keeping toys books organized',\n",
       "  'kallax storage unit favourites stylish sturdy product stands test time versatile',\n",
       "  'versatile trendy versatility kallax fit need scandinavian style buffet kitchen compliments seen',\n",
       "  'kallax nice reasonable',\n",
       "  'bought 3 created shelving unit looks great works great needs',\n",
       "  'shelf exceeding easy',\n",
       "  'like look kallax',\n",
       "  'great price great piece easy love kallax products',\n",
       "  'kallax storage unit kallax storage units absolutely brilliant storage space room',\n",
       "  'love kallax shelves using bedroom drawer great looks great functionality',\n",
       "  'love bookcase works great',\n",
       "  'kallax shelves easy nice',\n",
       "  'works required happy purchased shelf unit purchased like unit solid construction looks great',\n",
       "  'fantastic bought kallax year bought 2 looks clean spacious fits need easy assemble definitely recommend',\n",
       "  'kallax shelf finished putting hemnes dresser piece cake looks great solid',\n",
       "  'shelving exactly wanted',\n",
       "  'excellent quality great quality sturdy easy assemble shelves high fit books goodies',\n",
       "  'great shelf works storage students',\n",
       "  'perfect office storage shelf bought month ago fits perfectly office super pleased',\n",
       "  'loved shelves versatile fairly easy great purchase',\n",
       "  'goldilocks review version 44 tall contained 6 sections kallax 5 stars',\n",
       "  'perfect fit unit went quickly easily laid long mud room ikea baskets shelves mittens dog paraphernalia looks great keeps chaos control',\n",
       "  'kallax shelf exactly kallax shelf exactly needed easy assemble great price',\n",
       "  'best shelf love self unit bought loved sturdy solid unit getting shelf unit home putting following weekend went bought bought boys bedrooms month going buy closet footwear',\n",
       "  'kallaxl shelf easy look good',\n",
       "  'kallax easy install guide easy follw',\n",
       "  'kallax shelves kallax shelves house thinking purchasing new shelf look stock problem inventory used',\n",
       "  'kallax expedia fan multiple units use variety storage options removable bins expedit kallax predecessor units moved different times going strong newer kallax units effective slightly sleeker look great way maximize storage space change look different style cubby bins different parts home easy assemble',\n",
       "  'kallax shelving great unit provided covers screw heads perfect',\n",
       "  'kallax product perfect exactly wanted',\n",
       "  'kallax great item easy assemble',\n",
       "  'white double kallax cube easy build worked metal frame',\n",
       "  'comfortable big shelf comfortable big shelf things',\n",
       "  'kallax shelving units inserts absolutely best purchase year looks great easy good price definitely worth cent bough smaller unit stood ease movement future highly recommend kallax shelving inserts',\n",
       "  'great console storage piece practical simple love white glossy version match media console parts shelf easy assemble screws difficult ensure aligned',\n",
       "  'extremely sturdy love shelves buy versatile extremely easy assemble great product',\n",
       "  'kallax good product versitile',\n",
       "  'best shelving unitin world 4 easy build price right mesh styles decor',\n",
       "  'great kallax storage great coloring easy assemble gives wonderful storage',\n",
       "  '4x2 2x4 kallax storage unit took home arranged tall wide makes handsome wall unit books maybe tv color choices pleased got gray wood grain',\n",
       "  'rich looking storage display shelf bought unit selling outback home asked professionally staged unit easy assemble sturdy looks gorgeous',\n",
       "  'great storage unit great price sturdy shelving unit affordable easy',\n",
       "  'kallax easy looks great house',\n",
       "  'great shelf shelving unit easy assemble great price unlike larger units line shelf holds sturdy',\n",
       "  'looks nice good value great shelf purchased inserts fit perfectly expanded capabilities',\n",
       "  'great features great study fits window frame perfect size good bookshelf',\n",
       "  'kallax bookshelf straight forward easy assemble',\n",
       "  'kallax shelf unit second shelf unit purchased usual missing pieces fit perfectly',\n",
       "  'kallax fan kallax simple solution organizing professional organizer purchase 1 2 kallax month set systems clients favorite use toy storage',\n",
       "  'love shelf love shelf easy great quality perfect space needed',\n",
       "  'great shelf sturdy easy assemble',\n",
       "  'great fit storage shelves bought early month great',\n",
       "  'great purpose shelving useful room home',\n",
       "  'heavy duty bookcase bookcase simply wonderful heavy duty needs',\n",
       "  'perfect shelf unit good shelf buy',\n",
       "  'kallax shelving great flexible need level shelving inserts need help',\n",
       "  'good looks great function espresso look kallax matches kitchen cabinets adds needed open storage option create closed storage need later',\n",
       "  'kallax wanted',\n",
       "  'bookshelves bought nearly month ago use eldest daughter bedroom shorter desks outgrown need time intensely focus couple school subjects hooking desktop shelves books binders available slide right desk perfect homeschool lot books shelving units larger 4x4 5x5 thrilled finally white',\n",
       "  'versatile great quality classic shelf added make look different ways quality build great price',\n",
       "  'versatile shelf versatile shelf',\n",
       "  'great hide stuff want seen shelf easy sturdy',\n",
       "  'kallax shelf unit unit meets expectations',\n",
       "  'kallax amazing good kallax amazing good unit books games pop tv unit',\n",
       "  'love kallax love kallax bought 8 years versatile',\n",
       "  'super easy install functional use highly recommend great bookshelves easy build lots storage options',\n",
       "  'great shelving unit great shelving unit',\n",
       "  'fourth kallax purchase beat organization options ease assembly kallax unit',\n",
       "  'excellent shelf great build quality bought shelf 1 month ago great good note customizable',\n",
       "  'exactly looking shelf unit easy assemble sturdy',\n",
       "  'cubic shelving unit great product',\n",
       "  'kallax easy looks good',\n",
       "  'perfect fourth cube style unit home 1 kallax 2 expedit identical kallax shelves fit versatile love fabric bins fit cubes hold small odds ends love use shelves vertically horizontally',\n",
       "  'matching game great bookcase record collection case room divider negative new units exactly match dimensions 10 year old unit',\n",
       "  'kallax unit fitted existing stuff little library maximum space minimum cost impressed',\n",
       "  'definitely 1 kallax shelf house actually ikea 1 nursery 2 room absolutely love versatile',\n",
       "  'best buy best buy kallax',\n",
       "  'kallax good product easy way assembly',\n",
       "  'good bookcase fits exactly need kallax pretty versatile quality fine great fine price',\n",
       "  'perfect love shelf unit wanted built',\n",
       "  'bookcase great bookcase looks great sons room displays lego perfectly',\n",
       "  'great product years bought 3 built durable aesthetic great book shelves happy purchase',\n",
       "  'great storage unit bought shelving study suits space perfectly versatile different insets',\n",
       "  'great shelving sturdy shelving works great office',\n",
       "  'kallax habituellement je n ai aucun problème avec les kallax mais elle est arrivée avec trou la grosseur point',\n",
       "  'great shelves easy easily customizable add ons looks great',\n",
       "  'beautiful display unit love art pictures books',\n",
       "  'shelf unit recently toddler bedroom fixed wall pleased',\n",
       "  'kallax job nearly things storage love versatility simplicity huge range accessories',\n",
       "  'versatile amazing purchased sue lack shelves love love product',\n",
       "  'favorite kallax billy favorite ikea easy assemble style',\n",
       "  'kallax storage unit great product',\n",
       "  'great display bookcase great display bookcase',\n",
       "  'kallax kool love kallax looks great holds heaps',\n",
       "  'great shelving organizing love kallax unit shelves different areas house serving different functions main use set 2x4 4x4 1x4 use store boardgames white looks really sharp makes board game covers pop 2x4 daughter play area additional 2x4 large storage closet help orgainzed cubbies perfect size opinion',\n",
       "  'useful situation purchased sized configurations kallax years use student housing easy assemble look great useful storage organization use vertically horizontally plus appreciate fun colors red blue dressers refreshing change',\n",
       "  'great shelving brought month ago happy purchase sturdy unit exactly wanted',\n",
       "  'needed downsized year gradually making smaller place look good shelving units meet need quality compact space',\n",
       "  'great shelves great shelves',\n",
       "  'great bookcase great bookcase fits lot looks great challenge brackets comes mount wall short moulding want buy childproofing anti tip kit want secure wall',\n",
       "  'kallax easy looks great',\n",
       "  'provides lots storage happy kallax shelf love storage provides',\n",
       "  'ikea kallax shelf great storage solution',\n",
       "  'kallax shelves love kallax kallax shelves versatile perfect organizing look great room',\n",
       "  'bowed stood kallax vertically middle panels appear manufactured little bit long purpose fits super snug slightly bowed',\n",
       "  'perfect purchased 2 shelves useful',\n",
       "  'buy really yes idiot bought tall billy bookcase decide better really stupid bought 4 easy assemble stable pair drona boxes gorgeous bookcase buying',\n",
       "  'kallax love fits perfectly easy assemble goes perfectly furniture',\n",
       "  'needed dimensions shelf unit needed',\n",
       "  'kallax shelves easy assemble place rooms',\n",
       "  'kallax review great quality easy assemble delivery time driver awesome brought garage entrance great help',\n",
       "  'book case great easy',\n",
       "  'fab ca beat kallax versatile looks great sons room hold books stuff better old billy bookcase easy build solid ask',\n",
       "  'sturdy great price bought daughter room loves plenty room books bought 2 cabinet drawer inserts items sturdy surprised inexpensive inserts',\n",
       "  'kallax cube shelving strong sturdy storage',\n",
       "  'love kallax look beautiful easy ensamble',\n",
       "  'kallax unit good looking unit works storage neat tidy',\n",
       "  'bedroom shelving bought shelving room area store things worked easy looks good desk',\n",
       "  'bought unit bought unit pantry hold appliances super easy looks fantastic extremely sturdy',\n",
       "  'love kallax unit love kallax unit bought 12 year ago easy build looks great',\n",
       "  'great bookshelf buy great bookshelf buy use desk extension storage 2 x 3',\n",
       "  'expected kallax decent quality expected kallax decent quality easy kids parental supervision',\n",
       "  'sagging great color 4 x 4 cube unit love bought scrapbooking supplies shelving units sure 12 x 12 pages completed albums fit plus shelves supported 13 sagging',\n",
       "  'shelf great item',\n",
       "  'love shelving units versatile easy suit lots decor lots situations',\n",
       "  'kallax terrific craft room storage',\n",
       "  'excellent storage display wheels realized latest purchase puts kallax shelf nearly room house laundry shelf member family laundry room bins drawers dresser spare room purse shoe organizer room gear bins entryway place sit appliances kitchen corner',\n",
       "  'excellent shelf unit love house bedrooms loft living room perfect shelf sturdy lightweight easy build need additional storage boxes buy amazing option quick easy drawer option break bank',\n",
       "  'great shelving easy build great price looks sleek like',\n",
       "  'perfect shelf unit beautiful size absolutely perfect awesome',\n",
       "  'shelf unit kallax blue absolutely love easy assemble light sideways standing perfect storage unit fits living room works tv',\n",
       "  'kallax good product',\n",
       "  'love shelves kallax shelves awesome packaged 3 ordered 58 length fit great suv seat easy follow directions lightweight strong set craft room look great highly recommend',\n",
       "  'great item bought 3 months ago purchased 3 use book shelves look great',\n",
       "  'great shelf great shelf happy purchase able assemble problems',\n",
       "  'kallax used study black looking smart',\n",
       "  'multiple kallax shelving multiple kallax shelving units house really like look functionality',\n",
       "  'kallax shelf 6th shelf purchased',\n",
       "  'practical shelving bought inside built wardrobe solid substantial perfect needs',\n",
       "  'needed bought couple months ago perfect daughter alot books fit looks great easy wrong purchase',\n",
       "  'kallax bookshelf great sturdy roomy plenty space trinkets recipe books got linen boxes organization plan sewing room',\n",
       "  'kallax great storage solution',\n",
       "  'kallax good value money easy looks fantastic',\n",
       "  'bookcase sturdy nice looking fits office room neat looking kallax inserts functional pictured',\n",
       "  'bookcase great quality easy',\n",
       "  'shelving excellent products look lovely home practical easy assemble',\n",
       "  'love shelving bought weeks ago love using extra storage compact design works perfect',\n",
       "  'bought kallax shelf love',\n",
       "  'love unit rec room make l purchased yr love oi looks holds books',\n",
       "  'love kallax build love kallax build craft area storage',\n",
       "  'looks good overall nice bookshelf',\n",
       "  'best good item kallax',\n",
       "  'excellent kallax shelving perfect situation second lot purchased',\n",
       "  'great storage number shelves past recently bought house recently bought compares sturdiness practicality nice selection finishes',\n",
       "  'kallax kallax',\n",
       "  'easy assemble bought 8 4 shelf units stacked 4 shelf unit works great looks great happy',\n",
       "  'reliable product liked called expedit bit bigger number house room dividers office cupboards general shelving great value tough',\n",
       "  'organized love kallax great purchase living quarters small like crafting need say things order husband thrilled wanted buy night admitted good use space likes color thank ikea',\n",
       "  'great addition truly love shelving unit gave extra storage space bedroom leaving add decor items really brighten room',\n",
       "  'details love kallax price banging shelves place buckle area overall beautiful piece',\n",
       "  'shelving perfect shelving perfect size new lounge room',\n",
       "  'great shelf unit easy looks great',\n",
       "  'brilliant bookcase easy assemble exactly says tin',\n",
       "  'kallax 2x4 review great bookshelf fit bunch old text books warping bending weight great display shelf video game counsels',\n",
       "  'kallax great sturdy convenient beautiful',\n",
       "  'kallax shelf bought gift using art supplies loves',\n",
       "  'winner kallax different colours house useful',\n",
       "  'bookshelf easy assemble looks good set drawers bought',\n",
       "  'love family loves kallax shelving unit 3 use homeschool room make amazing book shelves storage units provide space toys puzzles use children rooms bedroom',\n",
       "  'kallax shelf unit great little shelf unit 11 year old able little help looks good overall functional',\n",
       "  'love shelf shelves drona boxes fit hole perfect need nice sturdy',\n",
       "  'great quality value happy units updated old wire shelving laundry sets cubes looks amazing',\n",
       "  'simple easy ended buying kallax shelf units help tie dining room replace bedroom dresser different style storage variety fabric drawers used great makes easy play different colors styles',\n",
       "  'excellent purchased multiple kallax units past sturdy easy assemble love love love',\n",
       "  'second purchase kallax shelf definitely love',\n",
       "  'kallax nice clean look sturdy easy',\n",
       "  'love shelves sturdy love insert options',\n",
       "  'looks great easy assemble love shelf unit use horizontally bookcase receive compliments regularly easy assemble provides lots storage',\n",
       "  'pinterest worthy love kallax great product versatile affordable',\n",
       "  'lots room kallax great box inserts adds attractive storage space plain view',\n",
       "  'excellent 2x2 kallax perfect option elegant storage room definitely buy',\n",
       "  'easy great looking shelf',\n",
       "  'great shelf really like style shelves easy sturdy stylish',\n",
       "  'kallax bookcase love kallax 5 maybe 6',\n",
       "  'great shelf unit favorite shelf units home various sizes',\n",
       "  'kallax satisfied product',\n",
       "  'wonderful product using wonderful product using kallax craft supply storage love product',\n",
       "  'great shelf shelf easy build grandson helping quickly took job finished shelf attractive functional',\n",
       "  'shelf unit nice shelf practical dimensions fits storage cubes',\n",
       "  'love kallax shelves love kallax shelves',\n",
       "  'love shelves great love shelves great storing books trinkets records',\n",
       "  'love love kallax shelves versatile fit room different sizes definitely',\n",
       "  'love kallax 5 solid glossy used ways',\n",
       "  'kallax shelving versatile set low high direction extremely sturdy bought x2 plan purchasing x2 near future',\n",
       "  'great little shelf exactly looking easy looks awesome son years use',\n",
       "  'versatile love customisability love way customise kallax configuration want versatile right size',\n",
       "  'kallax love shelves fourth hope discontinue color',\n",
       "  'great storage needs colours 2x4s plus expedit 2x4s plus 2x2 great larger books kitchenware boxes things love forest green like varying shelf sizes kallax prefer shape colour maybe blue',\n",
       "  'practical shelving excellent price staying small room relatives temporarily moved floor stylish shelving unit chose blue square tubs drawers love look shiny white chosen',\n",
       "  'sturdy stylish previously owned kallax bookshelf 7 years 2 moves 2 owners extremely sturdy easy',\n",
       "  'great product outstanding product used create bed room divider organizer toys oh yes book shelf easily useful pieces available market super affordable',\n",
       "  'kallax shelves absolutely love new shelf price right assembly easy sturdy',\n",
       "  'good shelves price easy assemble helps help sturdy piece price',\n",
       "  'kallax great piece holds beautifully versatile fourth home needed second',\n",
       "  'shelf unit perfect need great addition',\n",
       "  'serviceable shelving unit time versatile sturdy looks great material boxes',\n",
       "  'awesome book shelf bought recently happy',\n",
       "  'perfect storage art supplies bought kallax units studio store art supplies nice deep shelves make look tidy best easy bought units daughters room uses books displays souvenirs travels abroad nice set storage unit vertically horizontally studio gained counter space putting horizontally kallax shelves store heavier items bending',\n",
       "  'excellent shelving excellent shelving strong looks good',\n",
       "  'sturdy useful purchased little ones bedroom sturdy useful use book shelf organizer easy assemble took 30minutes',\n",
       "  'great shelving unit great bang buck',\n",
       "  'bought kitchen cookbook holder works great sturdy weight books use',\n",
       "  'great stand bigger sturdy closetmaid shelves better value',\n",
       "  'versatility style using shelves expedit kallax 20 years bought room home office started purchasing gifts purchased christmas gift create craft border grandchildren works perfectly holds ton supplies looks great highly recommend product versatility sturdiness overall look',\n",
       "  'great shelf great shelf',\n",
       "  'kallax happy way look versatility',\n",
       "  'kallax super invention',\n",
       "  'solid shelving unit looks solid shelving unit looks smart',\n",
       "  'kallax love product problem putting',\n",
       "  'easy peasy great shelf easy looks great bins spaces',\n",
       "  'great budget bookcase modified section bookcase fit daughter school bag looks great bedroom easy assemble',\n",
       "  'nice sturdy love shelf love sturdy laying short way fits perfectly super easy assemble love',\n",
       "  'easy happy bought shelving unit using horizontal shelving store kids toys easy follow directions needed tools included',\n",
       "  'great shelving unit teenager assembled sturdy functional',\n",
       "  'kallax happiness happy product happy delivery charges thought utterly disproportionate',\n",
       "  'kallax great kallax great purchase sturdy easy',\n",
       "  'awesome storage purchased variety sizes colors kallax shelving units extremely happy love variety baskets available coordinate',\n",
       "  'kallax bookcase designed easy assemble strong',\n",
       "  'great expensive shelving unit great expensive shelving unit clean modern lines happy',\n",
       "  'love kallak amazing extra storage bedroom',\n",
       "  'kallax love',\n",
       "  'repeat customer 3rd unit purchased 2 playroom use husband gaming consuls man cave took star shelves chipped assembling',\n",
       "  'kallax excellent product',\n",
       "  'love shelf best purchase versatile beautiful space',\n",
       "  'decent shelving unit great bought 2 kallax unit shelves people handy easy assemble hand manually use screwdriver physical power easy paper instructions sucky pictures actually additional details supposed basically trail error kind thing right apart start right end following directions wooden dowels easily holes deep break careful manage pretty sturdy know kidding say took 4 hours hour review scare buying unit way trying inform purchasers make informative decision really nice looking shelf unfortunately luxury paying ikea assemble',\n",
       "  'good purchased shelf unit 30 wide table work station son room look high quality nice',\n",
       "  'shelves bought assembled 3 units cracked multiple places brought replaced major inconvenience shelves exactly wanted',\n",
       "  'kallax shelving unit perfect sewing projects',\n",
       "  'kallax meet space',\n",
       "  'love shelf love shelf unit doweling holds broke building unit extra box trips hardware stores later dowels longer buy buy really long cut size shelf sturdy looks great',\n",
       "  'great space solid design function 4 kallax units used bookshelves dressers 12 bins',\n",
       "  'kallax shelf absolutely love product sturdy fantastic quality easy assemble',\n",
       "  'love love kallax range particular shelving units fantastic quality',\n",
       "  'white kallax double shelf unit functional minimal affordable sturdy actually waiting similar unit birch available 2 shipment dates given',\n",
       "  'kallax 2 x 4 unit bought kallax unit increase storage space launching pad door garage 4 spaces liked decided better',\n",
       "  'kallax shelf unit bought unit easy small room',\n",
       "  'shelving unit sturdy',\n",
       "  'kallax wrong',\n",
       "  'great use shelf unit bought great room house',\n",
       "  'kallax best products sell',\n",
       "  'great shelf easy assemble bought 1 month ago extra extensions desk absolutely amazing functional practical love desk extension',\n",
       "  'kallax great product',\n",
       "  'great shelving unit complements room',\n",
       "  'easy build kallax shelving easy build flat pack bought kallax ling units set fairly quickly fairly priced product recommend friends family',\n",
       "  'great storage unit bought daughters books toys lots storage sturdy use super easy assemble great price',\n",
       "  'shelf uses shelf big fit things fit books board games definitely buy ikea restocks inventory',\n",
       "  'kallax bookcase kallax bookcase looks great sturdy pretty easy assemble ordered units',\n",
       "  'love love quality shelving overall look',\n",
       "  '3rd kallax amazing organizing kids tots books',\n",
       "  'love self love shelf accuracy selves vs showing online correct times drove way store pick item looking aware quite annoying',\n",
       "  'shelves assy delicate parts',\n",
       "  'great value daughter assembled bookshelf easily looks great bedroom right size holds books binders clipboards vase',\n",
       "  'kallax unit exactly kallax unit exactly needed manage fabric stash easy assemble looks good craft room',\n",
       "  'love kallax storage units love kallax storage units practical',\n",
       "  'shelving unit love new colour looks great decor sturdy',\n",
       "  'kallax unit white kallax unit white',\n",
       "  'versatile unit using craft room sturdy beautiful best section allows place variety items inks tools papers quick easy retrieve',\n",
       "  'kallax really like dimensions clean lines versatility',\n",
       "  'versatile kallax unit purchased 2x2 4x1 unit versatile upright lying customised drawers cupboards plus glass shelves printer sits ideal height supplies paper spare ink cartridges hidden away easy assemble prior ikea skills plastic holder allen key great floor pads included years ago good bonus wall attachments included safety reasons appreciated',\n",
       "  'love love easy 4 wish hands wonderful inserts 5 shelf 1 shelf stock',\n",
       "  'lovevthe kallax lovevthe kallax',\n",
       "  'love kallax wish sold glass topper way',\n",
       "  'perfect storage kallax bought add purchased',\n",
       "  'kallax unit good quality value money easy assemble looks good',\n",
       "  'kallax shelf unit slowly surely getting rid old furniture replace thies modern excellent quality affordable shelves storage lightens room choice doors drawers boxes genius altogether 8 units',\n",
       "  'looks good love shelving units really easy great robe addition black looks great',\n",
       "  'kallax shelves kallax shelves perfect wanted',\n",
       "  'ideal quick easy storage gloss white kallax perfect number configurations storage modern home loft lifestyle come little storage solutions ikea shirt work concerns',\n",
       "  'pleased purchased 4 3 different sizes skeptical reading various reviews pleased great value price easy assemble versatile attractive use books seasonal items',\n",
       "  'really like shelf stylish pretty',\n",
       "  'roomy cubbies simple assembly kallax 2x4 shelves 90 leisurely minutes pleased overall simplicity assembly read review rubber mallet come handy pushing pieces hammering held shelving hands nudged combat boots worked beautifully shelf remained absolutely undamaged parts fit flawlessly assembled atop carpeted surface recommend hardest entire shelving experience taking boxes shelf heavier kind ikea staff helped cart staff member helped load vehicle easy peasy',\n",
       "  'sturdy practical second kallax shelf unit happy',\n",
       "  'nice looking careful assembling nice looking shelf fairly easy assemble need careful materials fairly fragile easy damage assembly gentle overly force bang boards trying boards dowels slide',\n",
       "  'perfect small spaces kallax rooms small 3 bedroom home storage small space',\n",
       "  'versatile unit bought create bar shelving unit added little pot lights shelves bottles door hide junk drawers store bar tools putting stemware racks hang glasses create kallax shelf',\n",
       "  'love shelves 11 kallax systems house various sizes 5 work love overall older ones stronger price ca beat forever 1 star recommend people',\n",
       "  'kallax units versatile need storage functional',\n",
       "  'shelf purchased looks great easy build ordering future',\n",
       "  'shelf product suits purpose',\n",
       "  'good quality product multifunctional product bit awkward built instructions easy follow kallax works intended purpose fits space',\n",
       "  'kallax easy',\n",
       "  'sturdy easy fits lot books second purchasing white weeks ago',\n",
       "  'fantastic storage unit excellent value money used kitchen shelf',\n",
       "  'kallax 4 x 2 shelving unit sturdy good color match ones',\n",
       "  'love kallax 18 kallax shelving units home office attached 4 wall create office space wall craft room used 2 create crafting table rest home kallax shelving units inexpensive built look expensive definitely 2 thumbs kallax',\n",
       "  'great storage shelves good size decent storage happy purchase looks great got section great idea recycle section',\n",
       "  'exactly expected exactly expected matched discontinued expedit shelf sits',\n",
       "  '5th buying buy love shelf purchased organize diy supplies',\n",
       "  'bookcases look great bookcases look great apartment needed space books knickknacks perfect little help building thy affordable really job',\n",
       "  'boys love bookshelves boys love bookshelves',\n",
       "  'happy look happy look quality bookcases easy assembly',\n",
       "  'great shelf used 3 plus 2x2 unit linnmon tabletops come custom desk far hoped far cheaper buying desks fraction storage space easy easy modify',\n",
       "  'practical shelves great product stylish fits furniture easily simple assemble',\n",
       "  'love shelves far best bargain far shelving units laid unit sideways boxes looks fantastic',\n",
       "  'kallax review good bookshelf',\n",
       "  'sturdy shelves bought 3 basement attempt organize playroom happy sturdy solid heavy ca beat price great stacking ca wrong highly recommend',\n",
       "  'perfect home library purchased 4 sets kallax bookcases create home library units look amazing hold books',\n",
       "  'love shelf using love shelf using cabin way store clothing',\n",
       "  'shelving unit love duo color works great rooms decor',\n",
       "  'love kallax bought love kallax bought 2 philippines 2 australia easy assemble',\n",
       "  'quality bought 3 kallax units easy assemble install like modern finish white oak colour size perfect needs really holds lot',\n",
       "  'super easy really love kallax bought perfect textbooks figurines manga okay risers work steady tighten screws piecing light single person carry took 20 mins',\n",
       "  'great book storage used upright makes use multiple situations',\n",
       "  'shelf bought unit years ago loved bought son pleased',\n",
       "  'versatile storage great units versatile storage kids craft area desk kids dresser assembly takes bit force think pieces easy downside desk shelves bit deep books end way storage great',\n",
       "  'versatile storage kallax offers sturdy versatile attractive storage options placed horizontally vertically add optional drawers shelves baskets units work sort storage display think using various ways years like return birch color way',\n",
       "  'second unit bought kallax shelf unit years ago happy purchased unit different room home',\n",
       "  'best shelving module versatile shelving product',\n",
       "  'great shelves daughters great shelves daughters new apartment',\n",
       "  'shelving unit really shelving unit really nice black color got white room sleek stylish sturdy',\n",
       "  'love 2x2 bought 6 years ago 2x8 sit sideways corridor sturdy prefer billy bookcase books',\n",
       "  'kallax great storage versatile',\n",
       "  'kallax display unit loved neat minutes assembly using anchor piece navratri january visitors loved eliminates need complex decoration guess great anchor ganpati festival',\n",
       "  'room love shelf holds classroom using classroom library easily fit large baskets books square sturdy necessity grade classroom helps discount section',\n",
       "  'tall past shelf shelf great problem height different shelf bought years ago work definitely difference',\n",
       "  'great storage shelf unit super easy build great addition bedroom table',\n",
       "  'cube shelf nice sturdy looks great laying long way',\n",
       "  'stack assembled shelf unit looks good appears sturdy assembly somewhat tiresome end work expected looking unit standing vertically horizontal shelves require hammering hammer board protect panels worse vertical divider shaved inch order panel lay flat panels rock center divider figured final assembly fine believe result tolerance horizontal shelf thickness overall height vertical members result dimension slightly larger panel heights',\n",
       "  'kallax assembly easy assemble strong expectations appearance functionality',\n",
       "  'kallax love item definitely felt like paying arm leg',\n",
       "  'love love kallax shelf unit especially shiny surface looks great easy clean',\n",
       "  'wrong wit kallax look great practical',\n",
       "  'kallax convert bought brand sorry wasting money',\n",
       "  'perfect aquarium setups bought shelf specifically 30g aquarium stand job supports weight abundant storage space aquarium stuff betta fish tanks equipped 1 box 15 ikea tray best cable management nice bang buck',\n",
       "  'craft room storage needed compartmentalized storage craft room kallax available accessories fit perfectly',\n",
       "  'kallax 8 square shelf price kallax shelf reasonable shelf assembled easily fast sturdy purchased 2 shelves currently using entertainment unit 1 laying upright l shape tool need home assemble shelf hammer insure wooden dowels securely place comes mounting bracket choose use need screw driver kallax shelf comes available colors options add inserts doors drawers shelves storage bins issue regards kallax shelf stock quantity sell fast ikea offers option notified items available',\n",
       "  'perfect bought teen son room limited floor space gave tons storage books printer school supplies taking room added small linmon desk perfect small study space',\n",
       "  'great box shelf great box shelf',\n",
       "  'poor quality stand surface smoothy poor quality comparing old kallax buy cause old shelves house really nice like',\n",
       "  'easy assemble love new kallax unit easy assemble looks great ikea legos adults',\n",
       "  'used furniture home kallax purchased components like shelves know help organize things especially small items love mess tidy',\n",
       "  'shelves strong good size looks good',\n",
       "  'compliments awkward space bought bookcases work beautifully',\n",
       "  'happy bought shelf easy strong shelf',\n",
       "  'problem solved easy took brother 2 hours 2 shelving units using kallax inserts store craft paper great idea',\n",
       "  'love kallax shelves love kallax shelves nice looking sturdy easy cubes perfect needs house highly recommend',\n",
       "  'looks great shelving perfect fabric storage',\n",
       "  'shelving happy purchase',\n",
       "  'great multipurpose shelf attractive multi use shelf good price use books art materials',\n",
       "  'great shelving inside cupboard great product bought house built robes hanging space shelves kallex cupboard instead chest drawers room looks great saves space',\n",
       "  'really love kallax really love kallax colour cool',\n",
       "  'kallax great looking shelving unit room home',\n",
       "  'kallax silver metal eket legs 6 kallax unit ease cleaning air circulation baseboard heating',\n",
       "  'love kallaxes past 2 bought bring total number kallaxes owned 6 versatile love different inserts help storage',\n",
       "  'love colour kallax shelf sizes',\n",
       "  'amazing versatile unit bought kallax shelf unit purpose storing crafting items loved bought easy assemble set vertically horizontally uses especially unique variety insert options purchase unit opening cube large house 12x12 crafting paper use tv stand display items versatile product inserts unit different look highly recommended product meet needs',\n",
       "  'kallax fantastic',\n",
       "  'great product love bookcase easy assemble looks great bargain',\n",
       "  'shelf worked simple purpose',\n",
       "  'kallax box shelves great quality easy assemble sturdy currently 70l fish tank sitting wobble hang',\n",
       "  'kallax excellent',\n",
       "  'great shelf purchased shelf month ago easy looks great sturdy',\n",
       "  'shelves buy kallax shelves practical sturdy',\n",
       "  'great shelf great shelf 4 home used toy book storage foyer storage pc desk long considering recycled material soft inserts perfect storage solution',\n",
       "  'kallax units love kallax cubicles craft room storage needs storage neat maximizes space',\n",
       "  'excellent addition purchased 3 kallax anniversary sale look great storing books unfortunately assembling kallax forced joint shelf literally exploded need contact service obtain shelf',\n",
       "  '5th kallax unit love multi purpose',\n",
       "  'love kallax love kallax',\n",
       "  'storage superstar decades kallax expedit maximum flexible storage cubic foot minimal materials assembly time indispensable',\n",
       "  'great product son quite happy storage provides wish better selection kallax products like different sizes appears',\n",
       "  'kallax works perfect kallax works perfect space wanted using store large record collection perfect',\n",
       "  'looks great sturdy similar ikea shelf served 10 years needed organize pantry food looking forward keeping potatoes bullig box really like inserts available',\n",
       "  'versatile great piece furniture used ways bookshelf curio cabinet room divider organizer wood grain makes grown stylish',\n",
       "  'great bookcase easy install great',\n",
       "  'art studio storage kallax unit bought white triple ones antique store worked splendidly display linens home decor accessories art studio oak effect matches sante fe bookshelves placed unit horizontally bought bullig boxes storage bullig containers easy assemble extremely durable match oak effect kallax perfectly absolutely love look super happy',\n",
       "  'great shelving easy assemble shelves perfect study easy assemble look great',\n",
       "  'great books easy build stylish look great books binders',\n",
       "  'kallax love colour combo',\n",
       "  'simple good looking storage solution kallax versatile good looking storage solution easy assemble',\n",
       "  'small kallax unit purchased 2 large kallax units small putting small unit realised come fittings allow unit turned attaching metal base screws unit called support line said obtain fittings separately stock end april earth small unit come fittings allow type base attachment large units height small unit slightly 2 larger units extra fittings kallax units fit metal base come fittings allow present small screws showing large ones screws showing recommend larger units friends smaller given come fittings',\n",
       "  'dependable easy storage kallax range dependable offers easy storage household really write dependable works',\n",
       "  'good quality shelf purchased 3 units built serve purposes need',\n",
       "  'reigning champion storage kallax units varying sizes house love flexibility bring storage 2 4 units flank brimnes tv stand bookcases create wall storage options living room holidays roll light material kallax units lets easily garage holiday decorations ask looks great highly functional',\n",
       "  'beautiful sturdy shelf unit love tones item beautiful super happy purchase',\n",
       "  'great shelf glad bought wanted simple visually appealing shelf turned perfect',\n",
       "  'great bookshelf love bookshelf positioned window cook books easy assemble built',\n",
       "  'kallax rocks storage happy kallax box storage units use shown tall version turn 90 degrees lower unit things helpful',\n",
       "  'useful versatile looks good really like customise kallax fit different spaces different uses',\n",
       "  'extremely wobbly unsafe shelf extremely wobbly parts used completely tight shelf wobbles good inches slightest touch disassembeled reassembled try wrong thing going throw completely unsafe waste money visibly looks good wobble safe good product',\n",
       "  'love kallax handy love kallax handy places',\n",
       "  'book case sturdy easy assemble looks great',\n",
       "  'easy assemble bought tired overwhelmed negative thoughts assembly happily wrong good cook grandchildren books good psyche',\n",
       "  'easy assemble purchased shelves 3 years ago time sale love versatility shelves bookcase used standing upright laying sturdy assembly snap',\n",
       "  'easy precious build different sizes kallax shelf units sister needed storage amazed easy putting storage shelves provide',\n",
       "  'modular functional style kallax series versatile creating functional stylish storage solutions',\n",
       "  'overall good shelving need overall good shelving need quality',\n",
       "  'super useful item furniture shelving unit perfect needed easy assembly amazed went',\n",
       "  'satisfied customer great sturdy product easy build 15 minutes attached wall safety install vertically horizontally ideal books toys display ideal diy creative projects price vs quality ratio best seen',\n",
       "  'versatile kallax shelving kids bedrooms homeschool room love versatile',\n",
       "  'great bookshelf perfect size needs easy assemble',\n",
       "  'alex kallax nice alex kallax nice products complementing lagkapten desk olov legs convince reliable risk averse person',\n",
       "  'kallax shelf good quality shelf extremely simple assemble sturdy inserts available make versatile highly recommend',\n",
       "  'kallax great buyer beware use delivery kallax great buy online buyer beware ordered got guys literally throwing small kitchen rod delivery threw guys item small town way outside ottawa waiting kallax resolution dept tell store want 5 feet tall woman car way carry bus use delivery losers like',\n",
       "  'perfect bookcase versatile use half books half drona boxes storage perfect 5 years old bedroom',\n",
       "  'great storage love kallax units affordable storage solutions',\n",
       "  'excellent design options love shelving unit options ideas endless best purchase',\n",
       "  'great shelf unit purchased room redoing great stand run length ways',\n",
       "  'happy shelf nice simple',\n",
       "  'expected expected kallangur happy product',\n",
       "  'great shelving unit easy strong good quality materials good divider looks great highly recommend product',\n",
       "  'great quality kids love new bookshelves',\n",
       "  'love works perfectly needs kallax shelf unit looking perfect good quality',\n",
       "  'great shelf unti used called expedit 25 cube units past love shelf units',\n",
       "  'good sturdy shelf love shelf using store arts crafts supplies works great looks nice pretty easy assemble anchor wall',\n",
       "  'kallax perfect storage solution love units repurposed different ways',\n",
       "  'best storage kallax units seriously best kinds storage needs craftrooms loungerooms bedrooms handy fairly easy assemble',\n",
       "  'book case use book case use organized clothing',\n",
       "  'great shelving cheap easy looks great',\n",
       "  'great shelf really like shelves place',\n",
       "  'good shelves shelves deep hold lots',\n",
       "  'shelf office files nice product office shelf',\n",
       "  'handy store lot kitchen appliances',\n",
       "  'perfect clean shelving sturdy easy assemble',\n",
       "  'quick easy build incredibly sturdy husband 20 minutes exactly looking basement shelves really sturdy anticipate bending like inexpensive shelves tendency fits space great likely buy second',\n",
       "  'great looking sturdy shelf',\n",
       "  'favorite storage solution purchased 4 kallaxes perfect storage piece doubles nightstand kids',\n",
       "  'versatile storage love kallax units versatile craft storage nice sturdy broke dowels putting buy great product',\n",
       "  'great bookcase perfect displaying',\n",
       "  'nice bookcase beat price quality easy assemble',\n",
       "  'different kallax different kallax shelf units versatile functions house',\n",
       "  'easy assemble excellent sturdy shelving easy actually fun assemble useful positioned vertical horizontal depending user needs easy adapt suit new space necessary looks good left screw sitting little use hang things really happy purchase recommend',\n",
       "  'kallax shelves useful storage baskets easy build',\n",
       "  'kallax meets expectation',\n",
       "  'easy assemble easy assemble beautiful shelf comes felt scratch floors shelf moving house definitely recommend',\n",
       "  'kallax super easy install',\n",
       "  'great bookcase solid construction deep shelves larger books',\n",
       "  'shelf unit perfect fit looks great love',\n",
       "  'needed shelves easy assemble exactly described pleased',\n",
       "  'cute functional love kallax line fact multiple size choices depending needs',\n",
       "  'kallax bookcase great shelf fancy looks nice look forward filling little squares delivery great',\n",
       "  'great shelf adding inserts shelf using spare room great quality fairly easy assemble person',\n",
       "  'standard say boxy shelf good',\n",
       "  'square shelving great storage product',\n",
       "  'looove kallax unit kallax unit handy storage looks fantastic keeps rooms clutter free intend started expedit unit previous version kallax unit saw generation storage device alive',\n",
       "  'great shelves love shelves built wall store clothes treasures',\n",
       "  'kallax good product wish 6 square 8',\n",
       "  'like kallax super',\n",
       "  'love kallax entire office kallax',\n",
       "  'kallax stand absolutely love actually 2 horizontal waiting stands stock easy assemble look classy',\n",
       "  'good basic shelf easy assemble job',\n",
       "  'easy assemble quick short time serves purpose shoe shelving unit near entry door',\n",
       "  'kallax shelf great flexible usage adding decorative point room',\n",
       "  'kallax satisfied',\n",
       "  'amazing shelf great shelving able place lots photos knick knacks',\n",
       "  'easy serves purpose bookcase',\n",
       "  'kallax bookcase fantastic',\n",
       "  'love love shelf easy great storage price good',\n",
       "  'buying shelving units best great storage room dividers',\n",
       "  'classic piece used kallax shelves years piece functions organizational decorative piece bedroom travel souvenirs pictures look great happy place bedroom',\n",
       "  'great desk got daughter desk attachment fits perfectly room lots storage bad solid',\n",
       "  'beautiful bookcase beautiful sturdy',\n",
       "  'love shelves perfect organization love use multiple ways',\n",
       "  'kallax shoes perfect use shoes love',\n",
       "  'classic shelves beautiful black shelves living room organize books shelving sturdy best seen far economical practical long really like shelves',\n",
       "  'kallax sad expedit option ok far superior decade 3 major moves recommendation based sadly fact longer previous version sturdy higher price like appearance wider edge expedit',\n",
       "  'nice shelf nice shelf',\n",
       "  'amazing product super fast easy assembly happier shelving unit quality amazing assembly straight forward took time assembled shelves ordered toddler room hour good price great product',\n",
       "  'bookshelf sturdy works direction storage',\n",
       "  'kallax shelving absolutely love versatile looks nice sturdy',\n",
       "  'shelve unit sturdy versatile',\n",
       "  'great bought couple weeks ago got home packaging scraped bookcase damaged need careful choosing carton want threw away receipt hesitate opened carton sure employees feel like love product carton chose',\n",
       "  'sturdy versatile beautifil beautiful shelf unit bought gray wood stunning sturdy easy',\n",
       "  'tried tried best assemble properly gaps frame shelves general happy',\n",
       "  'versatile showcase bought kalax storage place entrance home display ceramic collection special pieces collected travels eclectic mix kalax shows perfectly bought 2 1 smaller laid bigger smaller display square rectangle looks fabulous couple snazzy inserts happy budget display case',\n",
       "  'love shelves shelves versatile sturdy happy',\n",
       "  'pleased chose kallax grow child function multiple ways shelf toy storage change grows example older place vertically choose accessories match needs choose doors drawers make cubbies totally different',\n",
       "  'neat practical book shelve unit great addition bookshelf unit previously bought helped children books things organised',\n",
       "  'kallax good nice',\n",
       "  'great value bought month hold books children easy assemble sturdy',\n",
       "  'nice product bad really love look white shelf unit purchased table 2 legs hardware connect shelf unit perfect workstation storage',\n",
       "  'holds things want things ground kallax certainly job',\n",
       "  'sturdy attractive set horizontally bedroom windows main book area house set vertically orientations thing serves hold heavy books dividers strengthen break long stretches book spines easy',\n",
       "  'great shelf wish price handy',\n",
       "  'great shelf pretty sturdy easy looks great mix books baskets',\n",
       "  'kallax reliable variations product love']}"
      ]
     },
     "execution_count": 21,
     "metadata": {},
     "output_type": "execute_result"
    }
   ],
   "source": [
    "topic_reviews"
   ]
  },
  {
   "cell_type": "code",
   "execution_count": 22,
   "metadata": {},
   "outputs": [],
   "source": [
    "from dotenv import load_dotenv\n",
    "import os\n",
    "\n",
    "load_dotenv()\n",
    "api_key = os.getenv(\"API_KEY\")"
   ]
  },
  {
   "cell_type": "code",
   "execution_count": 23,
   "metadata": {},
   "outputs": [],
   "source": [
    "llm_client = AzureOpenAI(\n",
    "    api_key=api_key,\n",
    "    api_version=\"2023-07-01-preview\",\n",
    "    azure_endpoint=\"https://derai-vision.openai.azure.com/\",\n",
    ")\n",
    "\n",
    "model = \"gpt-4o-mini\" "
   ]
  },
  {
   "cell_type": "code",
   "execution_count": 24,
   "metadata": {},
   "outputs": [],
   "source": [
    "def get_topic_keyword(cluster_words):\n",
    "    messages = [\n",
    "        {\n",
    "            \"role\": \"system\",\n",
    "            \"content\": (\n",
    "                \"You are a helpful expert summarizer that identifies and generates a concise, broad topic word for each cluster of words.\\n\"\n",
    "                \"The topic word should capture the essence of all the words in the cluster.\\n\"\n",
    "                \"Merge similar or related words into a single, broader category.\\n\"\n",
    "                \"Use singular words unless a plural form is necessary.\\n\"                \n",
    "                \"Use only one word. 2 or 3 words can be used only when they are part of a composite word and are better to represent the idea of the topic (e.g.: ease of use).\\n\"\n",
    "                \"If you identify a verb as a topic, use the noun version (e.g., use 'order' instead of 'ordering').\\n\"\n",
    "                \"Generalize the topic word; for example, if you encounter 'saleswoman' or 'salesman', abstract it to 'staff'.\\n\"\n",
    "                \"Provide the output as a single word.\"\n",
    "            ),\n",
    "        },\n",
    "        {\n",
    "            \"role\": \"user\",\n",
    "            \"content\": (\n",
    "                \"Please read the following cluster of words carefully and generate a single topic word that captures the essence of all the words.\\n\"\n",
    "                \"The topic word should be broad and general, capturing the essence of the cluster's main points without being overly specific or redundant.\\n\"\n",
    "                \"The topics could be either nouns that refers to a certain characteristic of the product of spefic features or parts of the product (e.g.: click & collect, email redeem, etc.)\\n\"\n",
    "                f\"Cluster: {', '.join(cluster_words)}\\n\"\n",
    "                \"Topic word(s):\"\n",
    "            ),\n",
    "        },\n",
    "    ]\n",
    "\n",
    "    response = ' '\n",
    "    \n",
    "    # Generate the topic word using the language model\n",
    "    response = llm_client.chat.completions.create(\n",
    "        model=model,\n",
    "        messages=messages,\n",
    "        max_tokens=5,\n",
    "        temperature=0.4,\n",
    "        n=1,\n",
    "        stop=None,\n",
    "    )\n",
    "\n",
    "    # Extract and return the topic word\n",
    "    return response.choices[0].message.content.strip()"
   ]
  },
  {
   "cell_type": "code",
   "execution_count": 29,
   "metadata": {},
   "outputs": [
    {
     "data": {
      "text/plain": [
       "[('103', 'assemble_easy_sturdy_looks_good', 1.3074162661036748),\n",
       " ('109', 'happy_storage_functional_great_ago', 1.2841732492718585),\n",
       " ('105', 'good_product_quality_value_price', 1.2841732492718585),\n",
       " ('60', 'nice_thanks_product_item_neat', 1.3074162661036748),\n",
       " ('112', 'toys_room_sewing_toy_craft', 1.270378767403591),\n",
       " ('107', 'tv_stand_ikea_vinyl_furniture', 1.177160861935259),\n",
       " ('110', 'closet_perfect_clothes_exactly_works', 1.270378767403591),\n",
       " ('104', 'kallax_shelf_shelving_shelves_unit', 1.177160861935259)]"
      ]
     },
     "execution_count": 29,
     "metadata": {},
     "output_type": "execute_result"
    }
   ],
   "source": [
    "topics"
   ]
  },
  {
   "cell_type": "code",
   "execution_count": 25,
   "metadata": {},
   "outputs": [],
   "source": [
    "import csv\n",
    "def create_csv_file(topic_reviews, output_file):\n",
    "    \"\"\"\n",
    "    Create a CSV file with reviews and their associated topic keywords.\n",
    "\n",
    "    Parameters:\n",
    "    - reviews: List of all reviews.\n",
    "    - topic_reviews: Dictionary with topic IDs as keys and lists of reviews as values.\n",
    "    - output_file: Path to the output CSV file.\n",
    "    \"\"\"\n",
    "    with open(output_file, 'w', newline='') as csvfile:\n",
    "        fieldnames = ['review', 'topics']\n",
    "        writer = csv.DictWriter(csvfile, fieldnames=fieldnames)\n",
    "\n",
    "        writer.writeheader()\n",
    "        for topic_id, reviews_list in topic_reviews.items():\n",
    "            topic_name = next((topic[1] for topic in topics if int(topic[0]) == topic_id), None)\n",
    "            topic_keyword = get_topic_keyword(topic_name)\n",
    "            for review in reviews_list:\n",
    "                writer.writerow({'review': review, 'topics': f\"['{topic_keyword}']\"})\n",
    "\n",
    "    print(f\"CSV file saved to {output_file}\")"
   ]
  },
  {
   "cell_type": "code",
   "execution_count": 26,
   "metadata": {},
   "outputs": [
    {
     "name": "stdout",
     "output_type": "stream",
     "text": [
      "CSV file saved to csv/BERTopic_20351884.csv\n"
     ]
    }
   ],
   "source": [
    "# Create the CSV file\n",
    "csv_output_file = f'csv/BERTopic_{article_id}.csv'\n",
    "create_csv_file(topic_reviews, csv_output_file)\n",
    "\n",
    "streamlit_csv = f'BERTopic_{article_id}.csv'"
   ]
  },
  {
   "cell_type": "markdown",
   "metadata": {},
   "source": [
    "## Run the demo"
   ]
  },
  {
   "cell_type": "code",
   "execution_count": 27,
   "metadata": {},
   "outputs": [
    {
     "name": "stdout",
     "output_type": "stream",
     "text": [
      "\u001b[0m\n",
      "\u001b[34m\u001b[1m  You can now view your Streamlit app in your browser.\u001b[0m\n",
      "\u001b[0m\n",
      "\u001b[34m  Local URL: \u001b[0m\u001b[1mhttp://localhost:8501\u001b[0m\n",
      "\u001b[34m  Network URL: \u001b[0m\u001b[1mhttp://192.168.178.85:8501\u001b[0m\n",
      "\u001b[0m\n",
      "\u001b[34m\u001b[1m  For better performance, install the Watchdog module:\u001b[0m\n",
      "\n",
      "  $ xcode-select --install\n",
      "  $ pip install watchdog\n",
      "            \u001b[0m\n",
      "Reading data from BERTopic_20351884.csv\n",
      "Reading data from BERTopic_20351884.csv\n",
      "Reading data from BERTopic_20351884.csv\n",
      "Reading data from BERTopic_20351884.csv\n",
      "Reading data from BERTopic_20351884.csv\n",
      "Reading data from BERTopic_20351884.csv\n",
      "^C\n",
      "\u001b[34m  Stopping...\u001b[0m\n"
     ]
    }
   ],
   "source": [
    "!streamlit run app.py -- \"$streamlit_csv\""
   ]
  }
 ],
 "metadata": {
  "kernelspec": {
   "display_name": "ratings-reviews",
   "language": "python",
   "name": "python3"
  },
  "language_info": {
   "codemirror_mode": {
    "name": "ipython",
    "version": 3
   },
   "file_extension": ".py",
   "mimetype": "text/x-python",
   "name": "python",
   "nbconvert_exporter": "python",
   "pygments_lexer": "ipython3",
   "version": "3.12.7"
  }
 },
 "nbformat": 4,
 "nbformat_minor": 2
}
